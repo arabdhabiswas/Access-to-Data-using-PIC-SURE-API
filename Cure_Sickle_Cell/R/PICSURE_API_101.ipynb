{
 "cells": [
  {
   "cell_type": "markdown",
   "metadata": {},
   "source": [
    "# PIC-SURE API tutorial using CureSC database"
   ]
  },
  {
   "cell_type": "markdown",
   "metadata": {},
   "source": [
    "This is a tutorial notebook aimed to be quickly up and running with the R PIC-SURE API. It covers the main functionalities of the API."
   ]
  },
  {
   "cell_type": "markdown",
   "metadata": {},
   "source": [
    "## PIC-SURE R API \n",
    "### What is PIC-SURE? \n",
    "\n",
    "PIC-SURE stands for Patient-centered Information Commons: Standardized Unification of Research Elements. Original data exposed through PIC-SURE API encompasses a large heterogeneity of data organization underneath. PIC-SURE hides this complexity and exposes the different study datasets in a single tabular format. By simplifying the process of data extraction, it allows investigators to focus on the downstream analyses and to facilitate reproducible sciences.\n",
    "\n",
    "### More about PIC-SURE\n",
    "The API is available in two different programming languages, python and R, allowing investigators to query datasets in the same way using either of language. The R/python PIC-SURE API is a small part of the entire PIC-SURE platform.\n",
    "\n",
    "The API is actively developed by the Avillach Lab at Harvard Medical School.\n",
    "\n",
    "GitHub repo:\n",
    "* https://github.com/hms-dbmi/pic-sure-r-adapter-hpds\n",
    "* https://github.com/hms-dbmi/pic-sure-r-client"
   ]
  },
  {
   "cell_type": "markdown",
   "metadata": {},
   "source": [
    " -------   "
   ]
  },
  {
   "cell_type": "markdown",
   "metadata": {},
   "source": [
    "# Getting your own user-specific security token"
   ]
  },
  {
   "cell_type": "markdown",
   "metadata": {},
   "source": [
    "**Before running this notebook, please be sure you have [added your security token](https://github.com/hms-dbmi/Access-to-Data-using-PIC-SURE-API/tree/master/Cure_Sickle_Cell#get-your-security-token). This documentation contains an explanation about how to get a security token, which is required to access the databases.**"
   ]
  },
  {
   "cell_type": "markdown",
   "metadata": {},
   "source": [
    "# Environment set-up"
   ]
  },
  {
   "cell_type": "markdown",
   "metadata": {},
   "source": [
    "### Pre-requisite\n",
    "- R 3.5 or later"
   ]
  },
  {
   "cell_type": "markdown",
   "metadata": {},
   "source": [
    "### Packages installation"
   ]
  },
  {
   "cell_type": "code",
   "execution_count": 26,
   "metadata": {
    "scrolled": true
   },
   "outputs": [],
   "source": [
    "list_packages <- c(\"ggrepel\",\n",
    "                   \"jsonlite\", \n",
    "                   \"ggplot2\",\n",
    "                   \"plyr\",\n",
    "                   \"dplyr\",\n",
    "                   \"tidyr\",\n",
    "                   \"purrr\",\n",
    "                   \"urltools\",\n",
    "                   \"devtools\",\n",
    "                   \"stringi\"\n",
    "                  )\n",
    "\n",
    "for (package in list_packages){\n",
    "     if(! package %in% installed.packages()){\n",
    "         install.packages(package, dependencies = TRUE)\n",
    "     }\n",
    "     library(package, character.only = TRUE)\n",
    "}"
   ]
  },
  {
   "cell_type": "markdown",
   "metadata": {},
   "source": [
    "Install latest R PIC-SURE API libraries from github"
   ]
  },
  {
   "cell_type": "code",
   "execution_count": 27,
   "metadata": {
    "scrolled": true
   },
   "outputs": [
    {
     "name": "stderr",
     "output_type": "stream",
     "text": [
      "Downloading GitHub repo hms-dbmi/pic-sure-r-client@HEAD\n",
      "\n"
     ]
    },
    {
     "name": "stdout",
     "output_type": "stream",
     "text": [
      "\n",
      "\u001b[32m✔\u001b[39m  \u001b[90mchecking for file ‘/tmp/RtmpHFiulZ/remotes21f0278e3713/hms-dbmi-pic-sure-r-client-ffe158b/DESCRIPTION’\u001b[39m\u001b[36m\u001b[39m\n",
      "\u001b[90m─\u001b[39m\u001b[90m  \u001b[39m\u001b[90mpreparing ‘picsure’:\u001b[39m\u001b[36m\u001b[39m\n",
      "\u001b[32m✔\u001b[39m  \u001b[90mchecking DESCRIPTION meta-information\u001b[39m\u001b[36m\u001b[39m\n",
      "\u001b[90m─\u001b[39m\u001b[90m  \u001b[39m\u001b[90mchecking for LF line-endings in source and make files and shell scripts\u001b[39m\u001b[36m\u001b[39m\n",
      "\u001b[90m─\u001b[39m\u001b[90m  \u001b[39m\u001b[90mchecking for empty or unneeded directories\u001b[39m\u001b[36m\u001b[39m\n",
      "\u001b[90m─\u001b[39m\u001b[90m  \u001b[39m\u001b[90mbuilding ‘picsure_0.1.0.tar.gz’\u001b[39m\u001b[36m\u001b[39m\n",
      "   \n",
      "\r"
     ]
    },
    {
     "name": "stderr",
     "output_type": "stream",
     "text": [
      "Downloading GitHub repo hms-dbmi/pic-sure-r-adapter-hpds@HEAD\n",
      "\n"
     ]
    },
    {
     "name": "stdout",
     "output_type": "stream",
     "text": [
      "\n",
      "\u001b[32m✔\u001b[39m  \u001b[90mchecking for file ‘/tmp/RtmpHFiulZ/remotes21f01fa00590/hms-dbmi-pic-sure-r-adapter-hpds-1e35133/DESCRIPTION’\u001b[39m\u001b[36m\u001b[39m\n",
      "\u001b[90m─\u001b[39m\u001b[90m  \u001b[39m\u001b[90mpreparing ‘hpds’:\u001b[39m\u001b[36m\u001b[39m\n",
      "\u001b[32m✔\u001b[39m  \u001b[90mchecking DESCRIPTION meta-information\u001b[39m\u001b[36m\u001b[39m\n",
      "\u001b[90m─\u001b[39m\u001b[90m  \u001b[39m\u001b[90mchecking for LF line-endings in source and make files and shell scripts\u001b[39m\u001b[36m\u001b[39m\n",
      "\u001b[90m─\u001b[39m\u001b[90m  \u001b[39m\u001b[90mchecking for empty or unneeded directories\u001b[39m\u001b[36m\u001b[39m\n",
      "\u001b[90m─\u001b[39m\u001b[90m  \u001b[39m\u001b[90mbuilding ‘hpds_0.1.0.tar.gz’\u001b[39m\u001b[36m\u001b[39m\n",
      "   \n",
      "\r"
     ]
    }
   ],
   "source": [
    "Sys.setenv(TAR = \"/bin/tar\")\n",
    "options(unzip = \"internal\")\n",
    "\n",
    "devtools::install_github(\"hms-dbmi/pic-sure-r-client\", force=T)\n",
    "devtools::install_github(\"hms-dbmi/pic-sure-r-adapter-hpds\", force=T)"
   ]
  },
  {
   "cell_type": "markdown",
   "metadata": {},
   "source": [
    "Load user-defined functions"
   ]
  },
  {
   "cell_type": "code",
   "execution_count": 28,
   "metadata": {},
   "outputs": [],
   "source": [
    "source(\"R_lib/utils.R\")"
   ]
  },
  {
   "cell_type": "markdown",
   "metadata": {},
   "source": [
    "## Connecting to a PIC-SURE network"
   ]
  },
  {
   "cell_type": "markdown",
   "metadata": {},
   "source": [
    "You will need the following information before connecting to the PIC-SURE network:\n",
    "* resource ID: ID of the resource that you are trying to access. You can leave the default value for this project.\n",
    "* user-specific token text file: A text file called `token.txt` should contain the token retrieved from you user profile in PIC-SURE UI. This file needs to be located at the R root folder."
   ]
  },
  {
   "cell_type": "code",
   "execution_count": 29,
   "metadata": {},
   "outputs": [],
   "source": [
    "token_file <- \"token.txt\"\n",
    "my_token <- scan(token_file, what = \"character\")"
   ]
  },
  {
   "cell_type": "code",
   "execution_count": 30,
   "metadata": {},
   "outputs": [
    {
     "name": "stdout",
     "output_type": "stream",
     "text": [
      "[1] \"57e29a43-38c3-4c4b-84c9-dda8138badbe\"\n"
     ]
    }
   ],
   "source": [
    "PICSURE_network_URL <- \"https://curesc.hms.harvard.edu/picsure/\"\n",
    "connection <- picsure::connect(url = PICSURE_network_URL, \n",
    "                               token = my_token)"
   ]
  },
  {
   "cell_type": "code",
   "execution_count": 31,
   "metadata": {},
   "outputs": [],
   "source": [
    "resource <- hpds::get.resource(connection,\n",
    "                               resourceUUID = picsure::list.resources(connection))"
   ]
  },
  {
   "cell_type": "code",
   "execution_count": 32,
   "metadata": {},
   "outputs": [
    {
     "data": {
      "text/html": [
       "'57e29a43-38c3-4c4b-84c9-dda8138badbe'"
      ],
      "text/latex": [
       "'57e29a43-38c3-4c4b-84c9-dda8138badbe'"
      ],
      "text/markdown": [
       "'57e29a43-38c3-4c4b-84c9-dda8138badbe'"
      ],
      "text/plain": [
       "[1] \"57e29a43-38c3-4c4b-84c9-dda8138badbe\""
      ]
     },
     "metadata": {},
     "output_type": "display_data"
    }
   ],
   "source": [
    "picsure::list.resources(connection)"
   ]
  },
  {
   "cell_type": "markdown",
   "metadata": {},
   "source": [
    "Two objects were created: a `connection` and a `resource` object, using the `picsure` and `hpds` libraries, respectively. \n",
    "\n",
    "Since will only be using one single resource, **the `resource` object is the only one we will need to proceed with this data analysis.** It should be noted that the `connection` object is useful to get access to different databases stored in different resources. \n",
    "\n",
    "The `resource` object is connected to the specific resource ID and enables us to query and retrieve data from this source."
   ]
  },
  {
   "cell_type": "markdown",
   "metadata": {},
   "source": [
    "## Getting help with the R PIC-SURE API"
   ]
  },
  {
   "cell_type": "markdown",
   "metadata": {},
   "source": [
    "The `?` operator prints out the helper message for any PIC-SURE library function. For example, we can learn more about getting a resource using the following code:"
   ]
  },
  {
   "cell_type": "code",
   "execution_count": 33,
   "metadata": {},
   "outputs": [
    {
     "name": "stderr",
     "output_type": "stream",
     "text": [
      "Warning message in fetch(key):\n",
      "“internal error -3 in R_decompress1”\n",
      "ERROR while rich displaying an object: Error in fetch(key): lazy-load database '/home/ec2-user/anaconda3/envs/R/lib/R/library/hpds/help/hpds.rdb' is corrupt\n",
      "\n",
      "Traceback:\n",
      "1. FUN(X[[i]], ...)\n",
      "2. tryCatch(withCallingHandlers({\n",
      " .     if (!mime %in% names(repr::mime2repr)) \n",
      " .         stop(\"No repr_* for mimetype \", mime, \" in repr::mime2repr\")\n",
      " .     rpr <- repr::mime2repr[[mime]](obj)\n",
      " .     if (is.null(rpr)) \n",
      " .         return(NULL)\n",
      " .     prepare_content(is.raw(rpr), rpr)\n",
      " . }, error = error_handler), error = outer_handler)\n",
      "3. tryCatchList(expr, classes, parentenv, handlers)\n",
      "4. tryCatchOne(expr, names, parentenv, handlers[[1L]])\n",
      "5. doTryCatch(return(expr), name, parentenv, handler)\n",
      "6. withCallingHandlers({\n",
      " .     if (!mime %in% names(repr::mime2repr)) \n",
      " .         stop(\"No repr_* for mimetype \", mime, \" in repr::mime2repr\")\n",
      " .     rpr <- repr::mime2repr[[mime]](obj)\n",
      " .     if (is.null(rpr)) \n",
      " .         return(NULL)\n",
      " .     prepare_content(is.raw(rpr), rpr)\n",
      " . }, error = error_handler)\n",
      "7. repr::mime2repr[[mime]](obj)\n",
      "8. repr_text.help_files_with_topic(obj)\n",
      "9. repr_help_files_with_topic_generic(obj, Rd2txt)\n",
      "10. get_help_file(file)\n",
      "11. fetch_rd_db(rd_db, basename(file))\n",
      "12. lazyLoadDBexec(filebase, fun)\n",
      "13. fun(environment())\n",
      "14. fetch(key)\n"
     ]
    }
   ],
   "source": [
    "?hpds::get.resource()"
   ]
  },
  {
   "cell_type": "markdown",
   "metadata": {},
   "source": [
    "## Using the *variables dictionary*"
   ]
  },
  {
   "cell_type": "markdown",
   "metadata": {},
   "source": [
    "Once a connection to the desired resource has been established, we first need to get an understanding of which variables are available in the database. We will use the `dictionary` method of the `resource` object to do this."
   ]
  },
  {
   "cell_type": "markdown",
   "metadata": {},
   "source": [
    "A `dictionary` instance retrieves matching records that match a specific term. The `find.in.dictionary()` function can be used to retrieve information about all available variables. For instance, looking for variables containing the term 'Avascular necrosis' is done this way: "
   ]
  },
  {
   "cell_type": "code",
   "execution_count": 34,
   "metadata": {},
   "outputs": [],
   "source": [
    "dictionary_search <- hpds::find.in.dictionary(resource, \"Avascular necrosis\")"
   ]
  },
  {
   "cell_type": "markdown",
   "metadata": {},
   "source": [
    "Objects created by the `find.in.dictionary()` function can expose the search results using three different methods: `extract.count()`, `extract.keys()`, and `extract.entries()`. "
   ]
  },
  {
   "cell_type": "code",
   "execution_count": 35,
   "metadata": {},
   "outputs": [
    {
     "name": "stdout",
     "output_type": "stream",
     "text": [
      "$Count\n",
      "[1] 2\n",
      "\n",
      "$Keys\n",
      "$Keys[[1]]\n",
      "[1] \"\\\\CIBMTR - Cure Sickle Cell Disease\\\\5 - CRF data collection track only\\\\Avascular necrosis\\\\\"\n",
      "\n",
      "$Keys[[2]]\n",
      "[1] \"\\\\CIBMTR - Cure Sickle Cell Disease\\\\5 - CRF data collection track only\\\\Time from HCT to avascular necrosis, months\\\\\"\n",
      "\n",
      "\n",
      "$Entries\n",
      "                                                                                                                     name\n",
      "2                           \\\\CIBMTR - Cure Sickle Cell Disease\\\\5 - CRF data collection track only\\\\Avascular necrosis\\\\\n",
      "21 \\\\CIBMTR - Cure Sickle Cell Disease\\\\5 - CRF data collection track only\\\\Time from HCT to avascular necrosis, months\\\\\n",
      "   categorical\n",
      "2         TRUE\n",
      "21       FALSE\n",
      "\n"
     ]
    }
   ],
   "source": [
    "print(list(\"Count\"   = hpds::extract.count(dictionary_search), \n",
    "           \"Keys\"    = hpds::extract.keys(dictionary_search)[1:2], # Show first two keys\n",
    "           \"Entries\" = hpds::extract.entries(dictionary_search)[1:2])) # Show first two entries"
   ]
  },
  {
   "cell_type": "code",
   "execution_count": 36,
   "metadata": {},
   "outputs": [
    {
     "data": {
      "text/html": [
       "<table class=\"dataframe\">\n",
       "<caption>A data.frame: 2 × 9</caption>\n",
       "<thead>\n",
       "\t<tr><th></th><th scope=col>name</th><th scope=col>categorical</th><th scope=col>observationCount</th><th scope=col>patientCount</th><th scope=col>min</th><th scope=col>max</th><th scope=col>HpdsDataType</th><th scope=col>categoryValues</th><th scope=col>description</th></tr>\n",
       "\t<tr><th></th><th scope=col>&lt;chr&gt;</th><th scope=col>&lt;lgl&gt;</th><th scope=col>&lt;int&gt;</th><th scope=col>&lt;int&gt;</th><th scope=col>&lt;dbl&gt;</th><th scope=col>&lt;dbl&gt;</th><th scope=col>&lt;chr&gt;</th><th scope=col>&lt;list&gt;</th><th scope=col>&lt;lgl&gt;</th></tr>\n",
       "</thead>\n",
       "<tbody>\n",
       "\t<tr><th scope=row>2</th><td>\\CIBMTR - Cure Sickle Cell Disease\\5 - CRF data collection track only\\Avascular necrosis\\                         </td><td> TRUE</td><td>732</td><td>732</td><td>       NA</td><td>      NA</td><td>phenotypes</td><td>No          , Not reported, Yes         </td><td>NA</td></tr>\n",
       "\t<tr><th scope=row>21</th><td>\\CIBMTR - Cure Sickle Cell Disease\\5 - CRF data collection track only\\Time from HCT to avascular necrosis, months\\</td><td>FALSE</td><td> 29</td><td> 29</td><td>0.3947368</td><td>149.3092</td><td>phenotypes</td><td>NA</td><td>NA</td></tr>\n",
       "</tbody>\n",
       "</table>\n"
      ],
      "text/latex": [
       "A data.frame: 2 × 9\n",
       "\\begin{tabular}{r|lllllllll}\n",
       "  & name & categorical & observationCount & patientCount & min & max & HpdsDataType & categoryValues & description\\\\\n",
       "  & <chr> & <lgl> & <int> & <int> & <dbl> & <dbl> & <chr> & <list> & <lgl>\\\\\n",
       "\\hline\n",
       "\t2 & \\textbackslash{}CIBMTR - Cure Sickle Cell Disease\\textbackslash{}5 - CRF data collection track only\\textbackslash{}Avascular necrosis\\textbackslash{}                          &  TRUE & 732 & 732 &        NA &       NA & phenotypes & No          , Not reported, Yes          & NA\\\\\n",
       "\t21 & \\textbackslash{}CIBMTR - Cure Sickle Cell Disease\\textbackslash{}5 - CRF data collection track only\\textbackslash{}Time from HCT to avascular necrosis, months\\textbackslash{} & FALSE &  29 &  29 & 0.3947368 & 149.3092 & phenotypes & NA & NA\\\\\n",
       "\\end{tabular}\n"
      ],
      "text/markdown": [
       "\n",
       "A data.frame: 2 × 9\n",
       "\n",
       "| <!--/--> | name &lt;chr&gt; | categorical &lt;lgl&gt; | observationCount &lt;int&gt; | patientCount &lt;int&gt; | min &lt;dbl&gt; | max &lt;dbl&gt; | HpdsDataType &lt;chr&gt; | categoryValues &lt;list&gt; | description &lt;lgl&gt; |\n",
       "|---|---|---|---|---|---|---|---|---|---|\n",
       "| 2 | \\CIBMTR - Cure Sickle Cell Disease\\5 - CRF data collection track only\\Avascular necrosis\\                          |  TRUE | 732 | 732 |        NA |       NA | phenotypes | No          , Not reported, Yes          | NA |\n",
       "| 21 | \\CIBMTR - Cure Sickle Cell Disease\\5 - CRF data collection track only\\Time from HCT to avascular necrosis, months\\ | FALSE |  29 |  29 | 0.3947368 | 149.3092 | phenotypes | NA | NA |\n",
       "\n"
      ],
      "text/plain": [
       "   name                                                                                                                  \n",
       "2  \\\\CIBMTR - Cure Sickle Cell Disease\\\\5 - CRF data collection track only\\\\Avascular necrosis\\\\                         \n",
       "21 \\\\CIBMTR - Cure Sickle Cell Disease\\\\5 - CRF data collection track only\\\\Time from HCT to avascular necrosis, months\\\\\n",
       "   categorical observationCount patientCount min       max      HpdsDataType\n",
       "2   TRUE       732              732                 NA       NA phenotypes  \n",
       "21 FALSE        29               29          0.3947368 149.3092 phenotypes  \n",
       "   categoryValues                           description\n",
       "2  No          , Not reported, Yes          NA         \n",
       "21 NA                                       NA         "
      ]
     },
     "metadata": {},
     "output_type": "display_data"
    }
   ],
   "source": [
    "hpds::extract.entries(dictionary_search) %>% tail() #View last few entries as a dataframe"
   ]
  },
  {
   "cell_type": "markdown",
   "metadata": {},
   "source": [
    "Viewing the dictionary as a DataFrame allows us to:\n",
    "\n",
    "* Use the various information exposed in the dictionary (patient count, variable type ...) as criteria for variable selection.\n",
    "* Use the row names of the DataFrame to get the actual variable names to be used in the query, as shown below.\n",
    "\n",
    "Variable names aren't very pratical to use right away for two reasons:\n",
    "1. Very long\n",
    "2. Presence of backslashes that prevent copy-pasting. \n",
    "\n",
    "However, retrieving the dictionary search result in the form of a dataframe can help access the variable names.\n",
    "\n",
    "Let's say we want to retrieve every variable for the \"CIBMTR - Cure Sickle Cell Disease\" study in the form of a DataFrame. We can do this using the code below:"
   ]
  },
  {
   "cell_type": "code",
   "execution_count": 37,
   "metadata": {},
   "outputs": [],
   "source": [
    "plain_variablesDict <-  hpds::find.in.dictionary(resource, \"CIBMTR - Cure Sickle Cell Disease\") %>% \n",
    "                        hpds::extract.entries()"
   ]
  },
  {
   "cell_type": "code",
   "execution_count": 38,
   "metadata": {},
   "outputs": [
    {
     "data": {
      "text/html": [
       "<table class=\"dataframe\">\n",
       "<caption>A data.frame: 5 × 9</caption>\n",
       "<thead>\n",
       "\t<tr><th></th><th scope=col>name</th><th scope=col>min</th><th scope=col>categorical</th><th scope=col>observationCount</th><th scope=col>patientCount</th><th scope=col>max</th><th scope=col>HpdsDataType</th><th scope=col>categoryValues</th><th scope=col>description</th></tr>\n",
       "\t<tr><th></th><th scope=col>&lt;chr&gt;</th><th scope=col>&lt;dbl&gt;</th><th scope=col>&lt;lgl&gt;</th><th scope=col>&lt;int&gt;</th><th scope=col>&lt;int&gt;</th><th scope=col>&lt;dbl&gt;</th><th scope=col>&lt;chr&gt;</th><th scope=col>&lt;list&gt;</th><th scope=col>&lt;lgl&gt;</th></tr>\n",
       "</thead>\n",
       "<tbody>\n",
       "\t<tr><th scope=row>2</th><td>\\CIBMTR - Cure Sickle Cell Disease\\5 - CRF data collection track only\\Time from HCT to diabetes, months\\      </td><td>0.1315789</td><td>FALSE</td><td> 48</td><td> 48</td><td>46.315789</td><td>phenotypes</td><td>NA</td><td>NA</td></tr>\n",
       "\t<tr><th scope=row>210</th><td>\\CIBMTR - Cure Sickle Cell Disease\\5 - CRF data collection track only\\Serum creatinine pre-conditioning unit\\ </td><td>       NA</td><td> TRUE</td><td>732</td><td>732</td><td>       NA</td><td>phenotypes</td><td>Not reported, mg/dL       </td><td>NA</td></tr>\n",
       "\t<tr><th scope=row>3</th><td>\\CIBMTR - Cure Sickle Cell Disease\\5 - CRF data collection track only\\Hypertension (HTN) requiring therapy\\   </td><td>       NA</td><td> TRUE</td><td>732</td><td>732</td><td>       NA</td><td>phenotypes</td><td>No          , Not reported, Yes         </td><td>NA</td></tr>\n",
       "\t<tr><th scope=row>4</th><td>\\CIBMTR - Cure Sickle Cell Disease\\5 - CRF data collection track only\\Time from HCT to hyperlipidemia, months\\</td><td>2.7960526</td><td>FALSE</td><td>  2</td><td>  2</td><td> 4.243421</td><td>phenotypes</td><td>NA</td><td>NA</td></tr>\n",
       "\t<tr><th scope=row>5</th><td>\\CIBMTR - Cure Sickle Cell Disease\\5 - CRF data collection track only\\Time from HCT to encephalopathy, months\\</td><td>0.1644737</td><td>FALSE</td><td> 13</td><td> 13</td><td>14.375000</td><td>phenotypes</td><td>NA</td><td>NA</td></tr>\n",
       "</tbody>\n",
       "</table>\n"
      ],
      "text/latex": [
       "A data.frame: 5 × 9\n",
       "\\begin{tabular}{r|lllllllll}\n",
       "  & name & min & categorical & observationCount & patientCount & max & HpdsDataType & categoryValues & description\\\\\n",
       "  & <chr> & <dbl> & <lgl> & <int> & <int> & <dbl> & <chr> & <list> & <lgl>\\\\\n",
       "\\hline\n",
       "\t2 & \\textbackslash{}CIBMTR - Cure Sickle Cell Disease\\textbackslash{}5 - CRF data collection track only\\textbackslash{}Time from HCT to diabetes, months\\textbackslash{}       & 0.1315789 & FALSE &  48 &  48 & 46.315789 & phenotypes & NA & NA\\\\\n",
       "\t210 & \\textbackslash{}CIBMTR - Cure Sickle Cell Disease\\textbackslash{}5 - CRF data collection track only\\textbackslash{}Serum creatinine pre-conditioning unit\\textbackslash{}  &        NA &  TRUE & 732 & 732 &        NA & phenotypes & Not reported, mg/dL        & NA\\\\\n",
       "\t3 & \\textbackslash{}CIBMTR - Cure Sickle Cell Disease\\textbackslash{}5 - CRF data collection track only\\textbackslash{}Hypertension (HTN) requiring therapy\\textbackslash{}    &        NA &  TRUE & 732 & 732 &        NA & phenotypes & No          , Not reported, Yes          & NA\\\\\n",
       "\t4 & \\textbackslash{}CIBMTR - Cure Sickle Cell Disease\\textbackslash{}5 - CRF data collection track only\\textbackslash{}Time from HCT to hyperlipidemia, months\\textbackslash{} & 2.7960526 & FALSE &   2 &   2 &  4.243421 & phenotypes & NA & NA\\\\\n",
       "\t5 & \\textbackslash{}CIBMTR - Cure Sickle Cell Disease\\textbackslash{}5 - CRF data collection track only\\textbackslash{}Time from HCT to encephalopathy, months\\textbackslash{} & 0.1644737 & FALSE &  13 &  13 & 14.375000 & phenotypes & NA & NA\\\\\n",
       "\\end{tabular}\n"
      ],
      "text/markdown": [
       "\n",
       "A data.frame: 5 × 9\n",
       "\n",
       "| <!--/--> | name &lt;chr&gt; | min &lt;dbl&gt; | categorical &lt;lgl&gt; | observationCount &lt;int&gt; | patientCount &lt;int&gt; | max &lt;dbl&gt; | HpdsDataType &lt;chr&gt; | categoryValues &lt;list&gt; | description &lt;lgl&gt; |\n",
       "|---|---|---|---|---|---|---|---|---|---|\n",
       "| 2 | \\CIBMTR - Cure Sickle Cell Disease\\5 - CRF data collection track only\\Time from HCT to diabetes, months\\       | 0.1315789 | FALSE |  48 |  48 | 46.315789 | phenotypes | NA | NA |\n",
       "| 210 | \\CIBMTR - Cure Sickle Cell Disease\\5 - CRF data collection track only\\Serum creatinine pre-conditioning unit\\  |        NA |  TRUE | 732 | 732 |        NA | phenotypes | Not reported, mg/dL        | NA |\n",
       "| 3 | \\CIBMTR - Cure Sickle Cell Disease\\5 - CRF data collection track only\\Hypertension (HTN) requiring therapy\\    |        NA |  TRUE | 732 | 732 |        NA | phenotypes | No          , Not reported, Yes          | NA |\n",
       "| 4 | \\CIBMTR - Cure Sickle Cell Disease\\5 - CRF data collection track only\\Time from HCT to hyperlipidemia, months\\ | 2.7960526 | FALSE |   2 |   2 |  4.243421 | phenotypes | NA | NA |\n",
       "| 5 | \\CIBMTR - Cure Sickle Cell Disease\\5 - CRF data collection track only\\Time from HCT to encephalopathy, months\\ | 0.1644737 | FALSE |  13 |  13 | 14.375000 | phenotypes | NA | NA |\n",
       "\n"
      ],
      "text/plain": [
       "    name                                                                                                              \n",
       "2   \\\\CIBMTR - Cure Sickle Cell Disease\\\\5 - CRF data collection track only\\\\Time from HCT to diabetes, months\\\\      \n",
       "210 \\\\CIBMTR - Cure Sickle Cell Disease\\\\5 - CRF data collection track only\\\\Serum creatinine pre-conditioning unit\\\\ \n",
       "3   \\\\CIBMTR - Cure Sickle Cell Disease\\\\5 - CRF data collection track only\\\\Hypertension (HTN) requiring therapy\\\\   \n",
       "4   \\\\CIBMTR - Cure Sickle Cell Disease\\\\5 - CRF data collection track only\\\\Time from HCT to hyperlipidemia, months\\\\\n",
       "5   \\\\CIBMTR - Cure Sickle Cell Disease\\\\5 - CRF data collection track only\\\\Time from HCT to encephalopathy, months\\\\\n",
       "    min       categorical observationCount patientCount max       HpdsDataType\n",
       "2   0.1315789 FALSE        48               48          46.315789 phenotypes  \n",
       "210        NA  TRUE       732              732                 NA phenotypes  \n",
       "3          NA  TRUE       732              732                 NA phenotypes  \n",
       "4   2.7960526 FALSE         2                2           4.243421 phenotypes  \n",
       "5   0.1644737 FALSE        13               13          14.375000 phenotypes  \n",
       "    categoryValues                           description\n",
       "2   NA                                       NA         \n",
       "210 Not reported, mg/dL                      NA         \n",
       "3   No          , Not reported, Yes          NA         \n",
       "4   NA                                       NA         \n",
       "5   NA                                       NA         "
      ]
     },
     "metadata": {},
     "output_type": "display_data"
    }
   ],
   "source": [
    "plain_variablesDict[1:5,]"
   ]
  },
  {
   "cell_type": "markdown",
   "metadata": {},
   "source": [
    "### Extract Full Data Dictionary to CSV"
   ]
  },
  {
   "cell_type": "markdown",
   "metadata": {},
   "source": [
    "The `hpds::find.in.dictionary` function without arguments can be used to return all entries, which is described in the help documentation. We can extract the entire data dictionary by performing an empty search:"
   ]
  },
  {
   "cell_type": "code",
   "execution_count": 39,
   "metadata": {},
   "outputs": [],
   "source": [
    "fullVariableDict <- hpds::find.in.dictionary(resource, \"\") %>% \n",
    "                    hpds::extract.entries() %>%\n",
    "                    mutate(categoryValues = stri_join_list(categoryValues, sep =', '))\n",
    "    "
   ]
  },
  {
   "cell_type": "markdown",
   "metadata": {},
   "source": [
    "Check that the `fullVariableDict` dataframe contains some values."
   ]
  },
  {
   "cell_type": "code",
   "execution_count": 40,
   "metadata": {},
   "outputs": [
    {
     "data": {
      "text/html": [
       "<table class=\"dataframe\">\n",
       "<caption>A data.frame: 5 × 9</caption>\n",
       "<thead>\n",
       "\t<tr><th></th><th scope=col>name</th><th scope=col>min</th><th scope=col>categorical</th><th scope=col>observationCount</th><th scope=col>patientCount</th><th scope=col>max</th><th scope=col>HpdsDataType</th><th scope=col>categoryValues</th><th scope=col>description</th></tr>\n",
       "\t<tr><th></th><th scope=col>&lt;chr&gt;</th><th scope=col>&lt;dbl&gt;</th><th scope=col>&lt;lgl&gt;</th><th scope=col>&lt;int&gt;</th><th scope=col>&lt;int&gt;</th><th scope=col>&lt;dbl&gt;</th><th scope=col>&lt;chr&gt;</th><th scope=col>&lt;chr&gt;</th><th scope=col>&lt;lgl&gt;</th></tr>\n",
       "</thead>\n",
       "<tbody>\n",
       "\t<tr><th scope=row>2</th><td>\\CIBMTR - Cure Sickle Cell Disease\\5 - CRF data collection track only\\Time from HCT to diabetes, months\\      </td><td>0.1315789</td><td>FALSE</td><td> 48</td><td> 48</td><td>46.315789</td><td>phenotypes</td><td>NA                   </td><td>NA</td></tr>\n",
       "\t<tr><th scope=row>210</th><td>\\CIBMTR - Cure Sickle Cell Disease\\5 - CRF data collection track only\\Serum creatinine pre-conditioning unit\\ </td><td>       NA</td><td> TRUE</td><td>732</td><td>732</td><td>       NA</td><td>phenotypes</td><td>Not reported, mg/dL  </td><td>NA</td></tr>\n",
       "\t<tr><th scope=row>3</th><td>\\CIBMTR - Cure Sickle Cell Disease\\5 - CRF data collection track only\\Hypertension (HTN) requiring therapy\\   </td><td>       NA</td><td> TRUE</td><td>732</td><td>732</td><td>       NA</td><td>phenotypes</td><td>No, Not reported, Yes</td><td>NA</td></tr>\n",
       "\t<tr><th scope=row>4</th><td>\\CIBMTR - Cure Sickle Cell Disease\\5 - CRF data collection track only\\Time from HCT to hyperlipidemia, months\\</td><td>2.7960526</td><td>FALSE</td><td>  2</td><td>  2</td><td> 4.243421</td><td>phenotypes</td><td>NA                   </td><td>NA</td></tr>\n",
       "\t<tr><th scope=row>5</th><td>\\CIBMTR - Cure Sickle Cell Disease\\5 - CRF data collection track only\\Time from HCT to encephalopathy, months\\</td><td>0.1644737</td><td>FALSE</td><td> 13</td><td> 13</td><td>14.375000</td><td>phenotypes</td><td>NA                   </td><td>NA</td></tr>\n",
       "</tbody>\n",
       "</table>\n"
      ],
      "text/latex": [
       "A data.frame: 5 × 9\n",
       "\\begin{tabular}{r|lllllllll}\n",
       "  & name & min & categorical & observationCount & patientCount & max & HpdsDataType & categoryValues & description\\\\\n",
       "  & <chr> & <dbl> & <lgl> & <int> & <int> & <dbl> & <chr> & <chr> & <lgl>\\\\\n",
       "\\hline\n",
       "\t2 & \\textbackslash{}CIBMTR - Cure Sickle Cell Disease\\textbackslash{}5 - CRF data collection track only\\textbackslash{}Time from HCT to diabetes, months\\textbackslash{}       & 0.1315789 & FALSE &  48 &  48 & 46.315789 & phenotypes & NA                    & NA\\\\\n",
       "\t210 & \\textbackslash{}CIBMTR - Cure Sickle Cell Disease\\textbackslash{}5 - CRF data collection track only\\textbackslash{}Serum creatinine pre-conditioning unit\\textbackslash{}  &        NA &  TRUE & 732 & 732 &        NA & phenotypes & Not reported, mg/dL   & NA\\\\\n",
       "\t3 & \\textbackslash{}CIBMTR - Cure Sickle Cell Disease\\textbackslash{}5 - CRF data collection track only\\textbackslash{}Hypertension (HTN) requiring therapy\\textbackslash{}    &        NA &  TRUE & 732 & 732 &        NA & phenotypes & No, Not reported, Yes & NA\\\\\n",
       "\t4 & \\textbackslash{}CIBMTR - Cure Sickle Cell Disease\\textbackslash{}5 - CRF data collection track only\\textbackslash{}Time from HCT to hyperlipidemia, months\\textbackslash{} & 2.7960526 & FALSE &   2 &   2 &  4.243421 & phenotypes & NA                    & NA\\\\\n",
       "\t5 & \\textbackslash{}CIBMTR - Cure Sickle Cell Disease\\textbackslash{}5 - CRF data collection track only\\textbackslash{}Time from HCT to encephalopathy, months\\textbackslash{} & 0.1644737 & FALSE &  13 &  13 & 14.375000 & phenotypes & NA                    & NA\\\\\n",
       "\\end{tabular}\n"
      ],
      "text/markdown": [
       "\n",
       "A data.frame: 5 × 9\n",
       "\n",
       "| <!--/--> | name &lt;chr&gt; | min &lt;dbl&gt; | categorical &lt;lgl&gt; | observationCount &lt;int&gt; | patientCount &lt;int&gt; | max &lt;dbl&gt; | HpdsDataType &lt;chr&gt; | categoryValues &lt;chr&gt; | description &lt;lgl&gt; |\n",
       "|---|---|---|---|---|---|---|---|---|---|\n",
       "| 2 | \\CIBMTR - Cure Sickle Cell Disease\\5 - CRF data collection track only\\Time from HCT to diabetes, months\\       | 0.1315789 | FALSE |  48 |  48 | 46.315789 | phenotypes | NA                    | NA |\n",
       "| 210 | \\CIBMTR - Cure Sickle Cell Disease\\5 - CRF data collection track only\\Serum creatinine pre-conditioning unit\\  |        NA |  TRUE | 732 | 732 |        NA | phenotypes | Not reported, mg/dL   | NA |\n",
       "| 3 | \\CIBMTR - Cure Sickle Cell Disease\\5 - CRF data collection track only\\Hypertension (HTN) requiring therapy\\    |        NA |  TRUE | 732 | 732 |        NA | phenotypes | No, Not reported, Yes | NA |\n",
       "| 4 | \\CIBMTR - Cure Sickle Cell Disease\\5 - CRF data collection track only\\Time from HCT to hyperlipidemia, months\\ | 2.7960526 | FALSE |   2 |   2 |  4.243421 | phenotypes | NA                    | NA |\n",
       "| 5 | \\CIBMTR - Cure Sickle Cell Disease\\5 - CRF data collection track only\\Time from HCT to encephalopathy, months\\ | 0.1644737 | FALSE |  13 |  13 | 14.375000 | phenotypes | NA                    | NA |\n",
       "\n"
      ],
      "text/plain": [
       "    name                                                                                                              \n",
       "2   \\\\CIBMTR - Cure Sickle Cell Disease\\\\5 - CRF data collection track only\\\\Time from HCT to diabetes, months\\\\      \n",
       "210 \\\\CIBMTR - Cure Sickle Cell Disease\\\\5 - CRF data collection track only\\\\Serum creatinine pre-conditioning unit\\\\ \n",
       "3   \\\\CIBMTR - Cure Sickle Cell Disease\\\\5 - CRF data collection track only\\\\Hypertension (HTN) requiring therapy\\\\   \n",
       "4   \\\\CIBMTR - Cure Sickle Cell Disease\\\\5 - CRF data collection track only\\\\Time from HCT to hyperlipidemia, months\\\\\n",
       "5   \\\\CIBMTR - Cure Sickle Cell Disease\\\\5 - CRF data collection track only\\\\Time from HCT to encephalopathy, months\\\\\n",
       "    min       categorical observationCount patientCount max       HpdsDataType\n",
       "2   0.1315789 FALSE        48               48          46.315789 phenotypes  \n",
       "210        NA  TRUE       732              732                 NA phenotypes  \n",
       "3          NA  TRUE       732              732                 NA phenotypes  \n",
       "4   2.7960526 FALSE         2                2           4.243421 phenotypes  \n",
       "5   0.1644737 FALSE        13               13          14.375000 phenotypes  \n",
       "    categoryValues        description\n",
       "2   NA                    NA         \n",
       "210 Not reported, mg/dL   NA         \n",
       "3   No, Not reported, Yes NA         \n",
       "4   NA                    NA         \n",
       "5   NA                    NA         "
      ]
     },
     "metadata": {},
     "output_type": "display_data"
    }
   ],
   "source": [
    "fullVariableDict[0:5,] # View first five rows"
   ]
  },
  {
   "cell_type": "markdown",
   "metadata": {},
   "source": [
    "We can than write the data frame that contains the full data dictionary to a csv file"
   ]
  },
  {
   "cell_type": "code",
   "execution_count": 41,
   "metadata": {},
   "outputs": [],
   "source": [
    "dataDictFile <- \"data_dictionary.csv\" # Name of output file\n",
    "write.csv(fullVariableDict, dataDictFile, row.names=FALSE)"
   ]
  },
  {
   "cell_type": "markdown",
   "metadata": {},
   "source": [
    "You should now see a data_dictionary.csv in the Jupyter Hub file explorer."
   ]
  },
  {
   "cell_type": "markdown",
   "metadata": {},
   "source": [
    "### Parsing variable names"
   ]
  },
  {
   "cell_type": "markdown",
   "metadata": {},
   "source": [
    "Though helpful, we can use a simple function, `get_multiIndex`, defined in `R_lib/utils.R` to add a little more information and ease working with long variables names. \n",
    "\n",
    "Although not an official feature of the API, such functionality illustrates how to quickly scan and select groups of related variables.\n",
    "\n",
    "Printing part of the \"parsed names\" dictionary allows us to quickly see the tree-like organization of the variables. Moreover, original and simplified variable names are now stored in the \"varName\" and \"simplified_varName\" columns, respectively. Simplified variable names are the last component of the variable name, which is usually the most informative to let us know what each variable is about)."
   ]
  },
  {
   "cell_type": "code",
   "execution_count": 42,
   "metadata": {},
   "outputs": [
    {
     "data": {
      "text/html": [
       "<table class=\"dataframe\">\n",
       "<caption>A tibble: 6 × 11</caption>\n",
       "<thead>\n",
       "\t<tr><th scope=col>level_0</th><th scope=col>level_1</th><th scope=col>level_2</th><th scope=col>simplified_name</th><th scope=col>name</th><th scope=col>observationCount</th><th scope=col>categorical</th><th scope=col>categoryValues</th><th scope=col>min</th><th scope=col>max</th><th scope=col>HpdsDataType</th></tr>\n",
       "\t<tr><th scope=col>&lt;chr&gt;</th><th scope=col>&lt;chr&gt;</th><th scope=col>&lt;chr&gt;</th><th scope=col>&lt;chr&gt;</th><th scope=col>&lt;chr&gt;</th><th scope=col>&lt;int&gt;</th><th scope=col>&lt;lgl&gt;</th><th scope=col>&lt;list&gt;</th><th scope=col>&lt;dbl&gt;</th><th scope=col>&lt;dbl&gt;</th><th scope=col>&lt;chr&gt;</th></tr>\n",
       "</thead>\n",
       "<tbody>\n",
       "\t<tr><td>CIBMTR - Cure Sickle Cell Disease</td><td>5 - CRF data collection track only</td><td>Time from HCT to diabetes, months      </td><td>Time from HCT to diabetes, months      </td><td>\\CIBMTR - Cure Sickle Cell Disease\\5 - CRF data collection track only\\Time from HCT to diabetes, months\\      </td><td> 48</td><td>FALSE</td><td>NA</td><td>0.1315789</td><td> 46.315789</td><td>phenotypes</td></tr>\n",
       "\t<tr><td>CIBMTR - Cure Sickle Cell Disease</td><td>5 - CRF data collection track only</td><td>Serum creatinine pre-conditioning unit </td><td>Serum creatinine pre-conditioning unit </td><td>\\CIBMTR - Cure Sickle Cell Disease\\5 - CRF data collection track only\\Serum creatinine pre-conditioning unit\\ </td><td>732</td><td> TRUE</td><td>Not reported, mg/dL       </td><td>       NA</td><td>        NA</td><td>phenotypes</td></tr>\n",
       "\t<tr><td>CIBMTR - Cure Sickle Cell Disease</td><td>5 - CRF data collection track only</td><td>Hypertension (HTN) requiring therapy   </td><td>Hypertension (HTN) requiring therapy   </td><td>\\CIBMTR - Cure Sickle Cell Disease\\5 - CRF data collection track only\\Hypertension (HTN) requiring therapy\\   </td><td>732</td><td> TRUE</td><td>No          , Not reported, Yes         </td><td>       NA</td><td>        NA</td><td>phenotypes</td></tr>\n",
       "\t<tr><td>CIBMTR - Cure Sickle Cell Disease</td><td>5 - CRF data collection track only</td><td>Time from HCT to hyperlipidemia, months</td><td>Time from HCT to hyperlipidemia, months</td><td>\\CIBMTR - Cure Sickle Cell Disease\\5 - CRF data collection track only\\Time from HCT to hyperlipidemia, months\\</td><td>  2</td><td>FALSE</td><td>NA</td><td>2.7960526</td><td>  4.243421</td><td>phenotypes</td></tr>\n",
       "\t<tr><td>CIBMTR - Cure Sickle Cell Disease</td><td>5 - CRF data collection track only</td><td>Time from HCT to encephalopathy, months</td><td>Time from HCT to encephalopathy, months</td><td>\\CIBMTR - Cure Sickle Cell Disease\\5 - CRF data collection track only\\Time from HCT to encephalopathy, months\\</td><td> 13</td><td>FALSE</td><td>NA</td><td>0.1644737</td><td> 14.375000</td><td>phenotypes</td></tr>\n",
       "\t<tr><td>CIBMTR - Cure Sickle Cell Disease</td><td>5 - CRF data collection track only</td><td>Time from HCT to HTN, months           </td><td>Time from HCT to HTN, months           </td><td>\\CIBMTR - Cure Sickle Cell Disease\\5 - CRF data collection track only\\Time from HCT to HTN, months\\           </td><td> 58</td><td>FALSE</td><td>NA</td><td>0.0000000</td><td>129.210526</td><td>phenotypes</td></tr>\n",
       "</tbody>\n",
       "</table>\n"
      ],
      "text/latex": [
       "A tibble: 6 × 11\n",
       "\\begin{tabular}{lllllllllll}\n",
       " level\\_0 & level\\_1 & level\\_2 & simplified\\_name & name & observationCount & categorical & categoryValues & min & max & HpdsDataType\\\\\n",
       " <chr> & <chr> & <chr> & <chr> & <chr> & <int> & <lgl> & <list> & <dbl> & <dbl> & <chr>\\\\\n",
       "\\hline\n",
       "\t CIBMTR - Cure Sickle Cell Disease & 5 - CRF data collection track only & Time from HCT to diabetes, months       & Time from HCT to diabetes, months       & \\textbackslash{}CIBMTR - Cure Sickle Cell Disease\\textbackslash{}5 - CRF data collection track only\\textbackslash{}Time from HCT to diabetes, months\\textbackslash{}       &  48 & FALSE & NA & 0.1315789 &  46.315789 & phenotypes\\\\\n",
       "\t CIBMTR - Cure Sickle Cell Disease & 5 - CRF data collection track only & Serum creatinine pre-conditioning unit  & Serum creatinine pre-conditioning unit  & \\textbackslash{}CIBMTR - Cure Sickle Cell Disease\\textbackslash{}5 - CRF data collection track only\\textbackslash{}Serum creatinine pre-conditioning unit\\textbackslash{}  & 732 &  TRUE & Not reported, mg/dL        &        NA &         NA & phenotypes\\\\\n",
       "\t CIBMTR - Cure Sickle Cell Disease & 5 - CRF data collection track only & Hypertension (HTN) requiring therapy    & Hypertension (HTN) requiring therapy    & \\textbackslash{}CIBMTR - Cure Sickle Cell Disease\\textbackslash{}5 - CRF data collection track only\\textbackslash{}Hypertension (HTN) requiring therapy\\textbackslash{}    & 732 &  TRUE & No          , Not reported, Yes          &        NA &         NA & phenotypes\\\\\n",
       "\t CIBMTR - Cure Sickle Cell Disease & 5 - CRF data collection track only & Time from HCT to hyperlipidemia, months & Time from HCT to hyperlipidemia, months & \\textbackslash{}CIBMTR - Cure Sickle Cell Disease\\textbackslash{}5 - CRF data collection track only\\textbackslash{}Time from HCT to hyperlipidemia, months\\textbackslash{} &   2 & FALSE & NA & 2.7960526 &   4.243421 & phenotypes\\\\\n",
       "\t CIBMTR - Cure Sickle Cell Disease & 5 - CRF data collection track only & Time from HCT to encephalopathy, months & Time from HCT to encephalopathy, months & \\textbackslash{}CIBMTR - Cure Sickle Cell Disease\\textbackslash{}5 - CRF data collection track only\\textbackslash{}Time from HCT to encephalopathy, months\\textbackslash{} &  13 & FALSE & NA & 0.1644737 &  14.375000 & phenotypes\\\\\n",
       "\t CIBMTR - Cure Sickle Cell Disease & 5 - CRF data collection track only & Time from HCT to HTN, months            & Time from HCT to HTN, months            & \\textbackslash{}CIBMTR - Cure Sickle Cell Disease\\textbackslash{}5 - CRF data collection track only\\textbackslash{}Time from HCT to HTN, months\\textbackslash{}            &  58 & FALSE & NA & 0.0000000 & 129.210526 & phenotypes\\\\\n",
       "\\end{tabular}\n"
      ],
      "text/markdown": [
       "\n",
       "A tibble: 6 × 11\n",
       "\n",
       "| level_0 &lt;chr&gt; | level_1 &lt;chr&gt; | level_2 &lt;chr&gt; | simplified_name &lt;chr&gt; | name &lt;chr&gt; | observationCount &lt;int&gt; | categorical &lt;lgl&gt; | categoryValues &lt;list&gt; | min &lt;dbl&gt; | max &lt;dbl&gt; | HpdsDataType &lt;chr&gt; |\n",
       "|---|---|---|---|---|---|---|---|---|---|---|\n",
       "| CIBMTR - Cure Sickle Cell Disease | 5 - CRF data collection track only | Time from HCT to diabetes, months       | Time from HCT to diabetes, months       | \\CIBMTR - Cure Sickle Cell Disease\\5 - CRF data collection track only\\Time from HCT to diabetes, months\\       |  48 | FALSE | NA | 0.1315789 |  46.315789 | phenotypes |\n",
       "| CIBMTR - Cure Sickle Cell Disease | 5 - CRF data collection track only | Serum creatinine pre-conditioning unit  | Serum creatinine pre-conditioning unit  | \\CIBMTR - Cure Sickle Cell Disease\\5 - CRF data collection track only\\Serum creatinine pre-conditioning unit\\  | 732 |  TRUE | Not reported, mg/dL        |        NA |         NA | phenotypes |\n",
       "| CIBMTR - Cure Sickle Cell Disease | 5 - CRF data collection track only | Hypertension (HTN) requiring therapy    | Hypertension (HTN) requiring therapy    | \\CIBMTR - Cure Sickle Cell Disease\\5 - CRF data collection track only\\Hypertension (HTN) requiring therapy\\    | 732 |  TRUE | No          , Not reported, Yes          |        NA |         NA | phenotypes |\n",
       "| CIBMTR - Cure Sickle Cell Disease | 5 - CRF data collection track only | Time from HCT to hyperlipidemia, months | Time from HCT to hyperlipidemia, months | \\CIBMTR - Cure Sickle Cell Disease\\5 - CRF data collection track only\\Time from HCT to hyperlipidemia, months\\ |   2 | FALSE | NA | 2.7960526 |   4.243421 | phenotypes |\n",
       "| CIBMTR - Cure Sickle Cell Disease | 5 - CRF data collection track only | Time from HCT to encephalopathy, months | Time from HCT to encephalopathy, months | \\CIBMTR - Cure Sickle Cell Disease\\5 - CRF data collection track only\\Time from HCT to encephalopathy, months\\ |  13 | FALSE | NA | 0.1644737 |  14.375000 | phenotypes |\n",
       "| CIBMTR - Cure Sickle Cell Disease | 5 - CRF data collection track only | Time from HCT to HTN, months            | Time from HCT to HTN, months            | \\CIBMTR - Cure Sickle Cell Disease\\5 - CRF data collection track only\\Time from HCT to HTN, months\\            |  58 | FALSE | NA | 0.0000000 | 129.210526 | phenotypes |\n",
       "\n"
      ],
      "text/plain": [
       "  level_0                           level_1                           \n",
       "1 CIBMTR - Cure Sickle Cell Disease 5 - CRF data collection track only\n",
       "2 CIBMTR - Cure Sickle Cell Disease 5 - CRF data collection track only\n",
       "3 CIBMTR - Cure Sickle Cell Disease 5 - CRF data collection track only\n",
       "4 CIBMTR - Cure Sickle Cell Disease 5 - CRF data collection track only\n",
       "5 CIBMTR - Cure Sickle Cell Disease 5 - CRF data collection track only\n",
       "6 CIBMTR - Cure Sickle Cell Disease 5 - CRF data collection track only\n",
       "  level_2                                \n",
       "1 Time from HCT to diabetes, months      \n",
       "2 Serum creatinine pre-conditioning unit \n",
       "3 Hypertension (HTN) requiring therapy   \n",
       "4 Time from HCT to hyperlipidemia, months\n",
       "5 Time from HCT to encephalopathy, months\n",
       "6 Time from HCT to HTN, months           \n",
       "  simplified_name                        \n",
       "1 Time from HCT to diabetes, months      \n",
       "2 Serum creatinine pre-conditioning unit \n",
       "3 Hypertension (HTN) requiring therapy   \n",
       "4 Time from HCT to hyperlipidemia, months\n",
       "5 Time from HCT to encephalopathy, months\n",
       "6 Time from HCT to HTN, months           \n",
       "  name                                                                                                              \n",
       "1 \\\\CIBMTR - Cure Sickle Cell Disease\\\\5 - CRF data collection track only\\\\Time from HCT to diabetes, months\\\\      \n",
       "2 \\\\CIBMTR - Cure Sickle Cell Disease\\\\5 - CRF data collection track only\\\\Serum creatinine pre-conditioning unit\\\\ \n",
       "3 \\\\CIBMTR - Cure Sickle Cell Disease\\\\5 - CRF data collection track only\\\\Hypertension (HTN) requiring therapy\\\\   \n",
       "4 \\\\CIBMTR - Cure Sickle Cell Disease\\\\5 - CRF data collection track only\\\\Time from HCT to hyperlipidemia, months\\\\\n",
       "5 \\\\CIBMTR - Cure Sickle Cell Disease\\\\5 - CRF data collection track only\\\\Time from HCT to encephalopathy, months\\\\\n",
       "6 \\\\CIBMTR - Cure Sickle Cell Disease\\\\5 - CRF data collection track only\\\\Time from HCT to HTN, months\\\\           \n",
       "  observationCount categorical categoryValues                          \n",
       "1  48              FALSE       NA                                      \n",
       "2 732               TRUE       Not reported, mg/dL                     \n",
       "3 732               TRUE       No          , Not reported, Yes         \n",
       "4   2              FALSE       NA                                      \n",
       "5  13              FALSE       NA                                      \n",
       "6  58              FALSE       NA                                      \n",
       "  min       max        HpdsDataType\n",
       "1 0.1315789  46.315789 phenotypes  \n",
       "2        NA         NA phenotypes  \n",
       "3        NA         NA phenotypes  \n",
       "4 2.7960526   4.243421 phenotypes  \n",
       "5 0.1644737  14.375000 phenotypes  \n",
       "6 0.0000000 129.210526 phenotypes  "
      ]
     },
     "metadata": {},
     "output_type": "display_data"
    }
   ],
   "source": [
    "# Display the variables tree hierarchy from the variables name\n",
    "variablesDict <- get_multiIndex_variablesDict(plain_variablesDict)\n",
    "head(variablesDict)"
   ]
  },
  {
   "cell_type": "markdown",
   "metadata": {},
   "source": [
    "Below is a simple example to illustrate the ease of use a multiIndex dictionary. Let's say we are interested in the variable containing \"Avascular necrosis\"."
   ]
  },
  {
   "cell_type": "code",
   "execution_count": 43,
   "metadata": {},
   "outputs": [],
   "source": [
    "mask_necrosis <- grepl(\"Avascular necrosis\", variablesDict[[\"simplified_name\"]])"
   ]
  },
  {
   "cell_type": "code",
   "execution_count": 44,
   "metadata": {},
   "outputs": [
    {
     "data": {
      "text/html": [
       "<table class=\"dataframe\">\n",
       "<caption>A tibble: 1 × 11</caption>\n",
       "<thead>\n",
       "\t<tr><th scope=col>level_0</th><th scope=col>level_1</th><th scope=col>level_2</th><th scope=col>simplified_name</th><th scope=col>name</th><th scope=col>observationCount</th><th scope=col>categorical</th><th scope=col>categoryValues</th><th scope=col>min</th><th scope=col>max</th><th scope=col>HpdsDataType</th></tr>\n",
       "\t<tr><th scope=col>&lt;chr&gt;</th><th scope=col>&lt;chr&gt;</th><th scope=col>&lt;chr&gt;</th><th scope=col>&lt;chr&gt;</th><th scope=col>&lt;chr&gt;</th><th scope=col>&lt;int&gt;</th><th scope=col>&lt;lgl&gt;</th><th scope=col>&lt;list&gt;</th><th scope=col>&lt;dbl&gt;</th><th scope=col>&lt;dbl&gt;</th><th scope=col>&lt;chr&gt;</th></tr>\n",
       "</thead>\n",
       "<tbody>\n",
       "\t<tr><td>CIBMTR - Cure Sickle Cell Disease</td><td>5 - CRF data collection track only</td><td>Avascular necrosis</td><td>Avascular necrosis</td><td>\\CIBMTR - Cure Sickle Cell Disease\\5 - CRF data collection track only\\Avascular necrosis\\</td><td>732</td><td>TRUE</td><td>No          , Not reported, Yes         </td><td>NA</td><td>NA</td><td>phenotypes</td></tr>\n",
       "</tbody>\n",
       "</table>\n"
      ],
      "text/latex": [
       "A tibble: 1 × 11\n",
       "\\begin{tabular}{lllllllllll}\n",
       " level\\_0 & level\\_1 & level\\_2 & simplified\\_name & name & observationCount & categorical & categoryValues & min & max & HpdsDataType\\\\\n",
       " <chr> & <chr> & <chr> & <chr> & <chr> & <int> & <lgl> & <list> & <dbl> & <dbl> & <chr>\\\\\n",
       "\\hline\n",
       "\t CIBMTR - Cure Sickle Cell Disease & 5 - CRF data collection track only & Avascular necrosis & Avascular necrosis & \\textbackslash{}CIBMTR - Cure Sickle Cell Disease\\textbackslash{}5 - CRF data collection track only\\textbackslash{}Avascular necrosis\\textbackslash{} & 732 & TRUE & No          , Not reported, Yes          & NA & NA & phenotypes\\\\\n",
       "\\end{tabular}\n"
      ],
      "text/markdown": [
       "\n",
       "A tibble: 1 × 11\n",
       "\n",
       "| level_0 &lt;chr&gt; | level_1 &lt;chr&gt; | level_2 &lt;chr&gt; | simplified_name &lt;chr&gt; | name &lt;chr&gt; | observationCount &lt;int&gt; | categorical &lt;lgl&gt; | categoryValues &lt;list&gt; | min &lt;dbl&gt; | max &lt;dbl&gt; | HpdsDataType &lt;chr&gt; |\n",
       "|---|---|---|---|---|---|---|---|---|---|---|\n",
       "| CIBMTR - Cure Sickle Cell Disease | 5 - CRF data collection track only | Avascular necrosis | Avascular necrosis | \\CIBMTR - Cure Sickle Cell Disease\\5 - CRF data collection track only\\Avascular necrosis\\ | 732 | TRUE | No          , Not reported, Yes          | NA | NA | phenotypes |\n",
       "\n"
      ],
      "text/plain": [
       "  level_0                           level_1                           \n",
       "1 CIBMTR - Cure Sickle Cell Disease 5 - CRF data collection track only\n",
       "  level_2            simplified_name   \n",
       "1 Avascular necrosis Avascular necrosis\n",
       "  name                                                                                         \n",
       "1 \\\\CIBMTR - Cure Sickle Cell Disease\\\\5 - CRF data collection track only\\\\Avascular necrosis\\\\\n",
       "  observationCount categorical categoryValues                           min max\n",
       "1 732              TRUE        No          , Not reported, Yes          NA  NA \n",
       "  HpdsDataType\n",
       "1 phenotypes  "
      ]
     },
     "metadata": {},
     "output_type": "display_data"
    }
   ],
   "source": [
    "mask_study <- variablesDict[,1] == \"CIBMTR - Cure Sickle Cell Disease\"\n",
    "mask_necrosis <- grepl(\"Avascular necrosis\", variablesDict[[\"simplified_name\"]])\n",
    "more_variables <- variablesDict[mask_study & mask_necrosis,]\n",
    "more_variables"
   ]
  },
  {
   "cell_type": "markdown",
   "metadata": {},
   "source": [
    "This simple filter can be easily combined with other filters to quickly select variables of interest."
   ]
  },
  {
   "cell_type": "markdown",
   "metadata": {},
   "source": [
    "## Querying and retrieving data"
   ]
  },
  {
   "cell_type": "markdown",
   "metadata": {},
   "source": [
    "The second cornerstone of the API are the `query` functions, which is how we retrieve data from the resource."
   ]
  },
  {
   "cell_type": "markdown",
   "metadata": {},
   "source": [
    "The query function has several methods that enable us to build a query:"
   ]
  },
  {
   "cell_type": "markdown",
   "metadata": {},
   "source": [
    "| Method | Arguments / Input | Output|\n",
    "|--------|-------------------|-------|\n",
    "| query.select.add() | variable names (string) or list of strings | all variables included in the list (no record subsetting)|\n",
    "| query.require.add() | variable names (string) or list of strings | all variables; only records that do not contain null values for input variables |\n",
    "| query.anyof.add() | variable names (string) or list of strings | all variables; only records that contain at least one non-null value for input variables |\n",
    "| query.filter.add() | variable name and additional filtering values | input variable; only records that match filter criteria |"
   ]
  },
  {
   "cell_type": "markdown",
   "metadata": {},
   "source": [
    "All those 4 methods can be combined when building a query. The record eventually returned by the query have to meet all the different specified filters."
   ]
  },
  {
   "cell_type": "markdown",
   "metadata": {},
   "source": [
    "### Building the query"
   ]
  },
  {
   "cell_type": "markdown",
   "metadata": {},
   "source": [
    "Let's say we want to select a cohort consisting of males with avascular necrosis from the CIBMTR - Cure Sickle Cell Disease study. \n",
    "\n",
    "First, we need to get the variables from the study of interest. We can do this by searching for the study name in the `level_0` column of the multiIndexed dictionary and saving the resulting variable from the `name` column."
   ]
  },
  {
   "cell_type": "code",
   "execution_count": 45,
   "metadata": {},
   "outputs": [],
   "source": [
    "# Selecting all variables from \"CIBMTR\" study\n",
    "mask_study = variablesDict[[\"level_0\"]] == \"CIBMTR - Cure Sickle Cell Disease\"\n",
    "varnames = variablesDict[mask_study, ]$name %>% as.list()"
   ]
  },
  {
   "cell_type": "markdown",
   "metadata": {},
   "source": [
    "Now we will find variables pertaining to sex and avascular necrosis. We can do this by searching for \"Sex\" and \"Avascular necrosis\" in the `simplified_name` column of the dictionary."
   ]
  },
  {
   "cell_type": "code",
   "execution_count": 46,
   "metadata": {},
   "outputs": [],
   "source": [
    "sex_var <- variablesDict[variablesDict[\"simplified_name\"] == \"Sex\", ]$name \n",
    "\n",
    "avascular_necrosis_varname <- variablesDict[variablesDict[\"simplified_name\"] == \"Avascular necrosis\", ]$name \n",
    "values <- variablesDict[mask_study, \"categoryValues\"]"
   ]
  },
  {
   "cell_type": "markdown",
   "metadata": {},
   "source": [
    "Now we can create a new query and apply our filters to get the data."
   ]
  },
  {
   "cell_type": "code",
   "execution_count": 47,
   "metadata": {},
   "outputs": [],
   "source": [
    "my_query <- hpds::new.query(resource = resource)\n",
    "hpds::query.select.add(my_query, keys = sex_var)\n",
    "hpds::query.filter.add(my_query, sex_var, \"Male\")\n",
    "\n",
    "hpds::query.select.add(my_query, keys = avascular_necrosis_varname)\n",
    "hpds::query.filter.add(my_query, avascular_necrosis_varname, \"Yes\")\n"
   ]
  },
  {
   "cell_type": "markdown",
   "metadata": {},
   "source": [
    "## Retrieving the data"
   ]
  },
  {
   "cell_type": "markdown",
   "metadata": {},
   "source": [
    "Once our query object is finally built, we use the `query.run` function to retrieve the data corresponding to our query"
   ]
  },
  {
   "cell_type": "code",
   "execution_count": 48,
   "metadata": {},
   "outputs": [],
   "source": [
    "my_df <- hpds::query.run(my_query, result.type = \"dataframe\")"
   ]
  },
  {
   "cell_type": "code",
   "execution_count": 49,
   "metadata": {},
   "outputs": [
    {
     "data": {
      "text/html": [
       "<style>\n",
       ".list-inline {list-style: none; margin:0; padding: 0}\n",
       ".list-inline>li {display: inline-block}\n",
       ".list-inline>li:not(:last-child)::after {content: \"\\00b7\"; padding: 0 .5ex}\n",
       "</style>\n",
       "<ol class=list-inline><li>16</li><li>3</li></ol>\n"
      ],
      "text/latex": [
       "\\begin{enumerate*}\n",
       "\\item 16\n",
       "\\item 3\n",
       "\\end{enumerate*}\n"
      ],
      "text/markdown": [
       "1. 16\n",
       "2. 3\n",
       "\n",
       "\n"
      ],
      "text/plain": [
       "[1] 16  3"
      ]
     },
     "metadata": {},
     "output_type": "display_data"
    }
   ],
   "source": [
    "dim(my_df)"
   ]
  },
  {
   "cell_type": "code",
   "execution_count": 50,
   "metadata": {},
   "outputs": [
    {
     "data": {
      "text/html": [
       "<table class=\"dataframe\">\n",
       "<caption>A data.frame: 6 × 3</caption>\n",
       "<thead>\n",
       "\t<tr><th></th><th scope=col>Patient ID</th><th scope=col>\\CIBMTR - Cure Sickle Cell Disease\\1 - Patient Related\\Sex\\</th><th scope=col>\\CIBMTR - Cure Sickle Cell Disease\\5 - CRF data collection track only\\Avascular necrosis\\</th></tr>\n",
       "\t<tr><th></th><th scope=col>&lt;int&gt;</th><th scope=col>&lt;chr&gt;</th><th scope=col>&lt;chr&gt;</th></tr>\n",
       "</thead>\n",
       "<tbody>\n",
       "\t<tr><th scope=row>1</th><td> 42</td><td>Male</td><td>Yes</td></tr>\n",
       "\t<tr><th scope=row>2</th><td>295</td><td>Male</td><td>Yes</td></tr>\n",
       "\t<tr><th scope=row>3</th><td>336</td><td>Male</td><td>Yes</td></tr>\n",
       "\t<tr><th scope=row>4</th><td>612</td><td>Male</td><td>Yes</td></tr>\n",
       "\t<tr><th scope=row>5</th><td>725</td><td>Male</td><td>Yes</td></tr>\n",
       "\t<tr><th scope=row>6</th><td>752</td><td>Male</td><td>Yes</td></tr>\n",
       "</tbody>\n",
       "</table>\n"
      ],
      "text/latex": [
       "A data.frame: 6 × 3\n",
       "\\begin{tabular}{r|lll}\n",
       "  & Patient ID & \\textbackslash{}CIBMTR - Cure Sickle Cell Disease\\textbackslash{}1 - Patient Related\\textbackslash{}Sex\\textbackslash{} & \\textbackslash{}CIBMTR - Cure Sickle Cell Disease\\textbackslash{}5 - CRF data collection track only\\textbackslash{}Avascular necrosis\\textbackslash{}\\\\\n",
       "  & <int> & <chr> & <chr>\\\\\n",
       "\\hline\n",
       "\t1 &  42 & Male & Yes\\\\\n",
       "\t2 & 295 & Male & Yes\\\\\n",
       "\t3 & 336 & Male & Yes\\\\\n",
       "\t4 & 612 & Male & Yes\\\\\n",
       "\t5 & 725 & Male & Yes\\\\\n",
       "\t6 & 752 & Male & Yes\\\\\n",
       "\\end{tabular}\n"
      ],
      "text/markdown": [
       "\n",
       "A data.frame: 6 × 3\n",
       "\n",
       "| <!--/--> | Patient ID &lt;int&gt; | \\CIBMTR - Cure Sickle Cell Disease\\1 - Patient Related\\Sex\\ &lt;chr&gt; | \\CIBMTR - Cure Sickle Cell Disease\\5 - CRF data collection track only\\Avascular necrosis\\ &lt;chr&gt; |\n",
       "|---|---|---|---|\n",
       "| 1 |  42 | Male | Yes |\n",
       "| 2 | 295 | Male | Yes |\n",
       "| 3 | 336 | Male | Yes |\n",
       "| 4 | 612 | Male | Yes |\n",
       "| 5 | 725 | Male | Yes |\n",
       "| 6 | 752 | Male | Yes |\n",
       "\n"
      ],
      "text/plain": [
       "  Patient ID \\\\CIBMTR - Cure Sickle Cell Disease\\\\1 - Patient Related\\\\Sex\\\\\n",
       "1  42        Male                                                           \n",
       "2 295        Male                                                           \n",
       "3 336        Male                                                           \n",
       "4 612        Male                                                           \n",
       "5 725        Male                                                           \n",
       "6 752        Male                                                           \n",
       "  \\\\CIBMTR - Cure Sickle Cell Disease\\\\5 - CRF data collection track only\\\\Avascular necrosis\\\\\n",
       "1 Yes                                                                                          \n",
       "2 Yes                                                                                          \n",
       "3 Yes                                                                                          \n",
       "4 Yes                                                                                          \n",
       "5 Yes                                                                                          \n",
       "6 Yes                                                                                          "
      ]
     },
     "metadata": {},
     "output_type": "display_data"
    }
   ],
   "source": [
    "head(my_df)"
   ]
  },
  {
   "cell_type": "code",
   "execution_count": null,
   "metadata": {},
   "outputs": [],
   "source": []
  }
 ],
 "metadata": {
  "kernelspec": {
   "display_name": "R",
   "language": "R",
   "name": "ir"
  },
  "language_info": {
   "codemirror_mode": "r",
   "file_extension": ".r",
   "mimetype": "text/x-r-source",
   "name": "R",
   "pygments_lexer": "r",
   "version": "4.0.3"
  }
 },
 "nbformat": 4,
 "nbformat_minor": 4
}
