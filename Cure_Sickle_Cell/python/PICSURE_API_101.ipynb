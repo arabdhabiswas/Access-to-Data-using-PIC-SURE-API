{
 "cells": [
  {
   "cell_type": "markdown",
   "metadata": {},
   "source": [
    "# PIC-SURE API tutorial using Cure SC database"
   ]
  },
  {
   "cell_type": "markdown",
   "metadata": {},
   "source": [
    "This is a tutorial notebook, aimed for the user to be quickly up and running with the python PIC-SURE API. It covers the main functionalities of the API."
   ]
  },
  {
   "cell_type": "markdown",
   "metadata": {},
   "source": [
    "## PIC-SURE python API \n",
    "### What is PIC-SURE? \n",
    "\n",
    "PIC-SURE stands for Patient-centered Information Commons: Standardized Unification of Research Elements. Original data exposed through PIC-SURE API encompasses a large heterogeneity of data organization underneath. PIC-SURE hides this complexity and exposes the different study datasets in a single tabular format. By simplifying the process of data extraction, it allows investigators to focus on the downstream analyses and to facilitate reproducible sciences.\n",
    "\n",
    "### More about PIC-SURE\n",
    "The API is available in two different programming languages, python and R, allowing investigators to query datasets in the same way using either of language. The R/python PIC-SURE API is a small part of the entire PIC-SURE platform.\n",
    "\n",
    "The API is actively developed by the Avillach Lab at Harvard Medical School.\n",
    "\n",
    "GitHub repo:\n",
    "* https://github.com/hms-dbmi/pic-sure-python-adapter-hpds\n",
    "* https://github.com/hms-dbmi/pic-sure-python-client\n"
   ]
  },
  {
   "cell_type": "markdown",
   "metadata": {},
   "source": [
    " -------   "
   ]
  },
  {
   "cell_type": "markdown",
   "metadata": {},
   "source": [
    "# Getting your own user-specific security token"
   ]
  },
  {
   "cell_type": "markdown",
   "metadata": {},
   "source": [
    "**Before running this notebook, please be sure you have [added your security token](https://github.com/hms-dbmi/Access-to-Data-using-PIC-SURE-API/tree/master/Cure_Sickle_Cell#get-your-security-token). This documentation contains an explanation about how to get a security token, which is required to access the databases.**"
   ]
  },
  {
   "cell_type": "markdown",
   "metadata": {},
   "source": [
    "# Environment set-up"
   ]
  },
  {
   "cell_type": "markdown",
   "metadata": {},
   "source": [
    "### Pre-requisite\n",
    "- python 3.6 or later\n",
    "- pip: python package manager, already available in most system with a python interpreter installed ([pip installation instructions](https://pip.pypa.io/en/stable/installing/))"
   ]
  },
  {
   "cell_type": "markdown",
   "metadata": {},
   "source": [
    "### IPython Magic command\n",
    "\n",
    "The following code loads the `autoreload` IPython extension. Although `autoreload` is not necessary to execute the rest of the notebook, it enables the notebook to reload every dependency each time python code is executed.  This will allow the notebook to take into account changes in imported external files, such as the user defined functions stored in separate file, without needing to manually reload libraries. This is helpful when developing interactively. Learn more about [IPython Magic commands](https://ipython.readthedocs.io/en/stable/interactive/magics.html)."
   ]
  },
  {
   "cell_type": "code",
   "execution_count": 1,
   "metadata": {},
   "outputs": [],
   "source": [
    "%load_ext autoreload\n",
    "%autoreload 2"
   ]
  },
  {
   "cell_type": "markdown",
   "metadata": {},
   "source": [
    "### Install python packages\n",
    "\n",
    "Using the pip package manager, we install the packages listed in the `requirements.txt` file."
   ]
  },
  {
   "cell_type": "code",
   "execution_count": 2,
   "metadata": {},
   "outputs": [
    {
     "name": "stdout",
     "output_type": "stream",
     "text": [
      "numpy>=1.17.3\r\n",
      "matplotlib>=3.1.1\r\n",
      "pandas>=0.25.3\r\n",
      "scipy>=1.3.1\r\n",
      "tqdm>=4.38.0\r\n",
      "statsmodels>=0.10.2\r\n",
      "git+https://github.com/hms-dbmi/pic-sure-python-adapter-hpds.git\r\n",
      "git+https://github.com/hms-dbmi/pic-sure-python-client.git \r\n"
     ]
    }
   ],
   "source": [
    "!cat requirements.txt # List contents of the requirements.txt file"
   ]
  },
  {
   "cell_type": "code",
   "execution_count": 3,
   "metadata": {
    "scrolled": true
   },
   "outputs": [
    {
     "name": "stdout",
     "output_type": "stream",
     "text": [
      "Collecting git+https://github.com/hms-dbmi/pic-sure-python-adapter-hpds.git (from -r requirements.txt (line 7))\n",
      "  Cloning https://github.com/hms-dbmi/pic-sure-python-adapter-hpds.git to /tmp/pip-req-build-xcclff6e\n",
      "  Running command git clone -q https://github.com/hms-dbmi/pic-sure-python-adapter-hpds.git /tmp/pip-req-build-xcclff6e\n",
      "Collecting git+https://github.com/hms-dbmi/pic-sure-python-client.git (from -r requirements.txt (line 8))\n",
      "  Cloning https://github.com/hms-dbmi/pic-sure-python-client.git to /tmp/pip-req-build-dkz4tfc7\n",
      "  Running command git clone -q https://github.com/hms-dbmi/pic-sure-python-client.git /tmp/pip-req-build-dkz4tfc7\n",
      "Requirement already satisfied: numpy>=1.17.3 in /home/ec2-user/anaconda3/envs/python3/lib/python3.6/site-packages (from -r requirements.txt (line 1)) (1.19.5)\n",
      "Requirement already satisfied: matplotlib>=3.1.1 in /home/ec2-user/anaconda3/envs/python3/lib/python3.6/site-packages (from -r requirements.txt (line 2)) (3.3.4)\n",
      "Requirement already satisfied: pandas>=0.25.3 in /home/ec2-user/anaconda3/envs/python3/lib/python3.6/site-packages (from -r requirements.txt (line 3)) (1.1.5)\n",
      "Requirement already satisfied: scipy>=1.3.1 in /home/ec2-user/anaconda3/envs/python3/lib/python3.6/site-packages (from -r requirements.txt (line 4)) (1.5.3)\n",
      "Requirement already satisfied: tqdm>=4.38.0 in /home/ec2-user/anaconda3/envs/python3/lib/python3.6/site-packages (from -r requirements.txt (line 5)) (4.60.0)\n",
      "Requirement already satisfied: statsmodels>=0.10.2 in /home/ec2-user/anaconda3/envs/python3/lib/python3.6/site-packages (from -r requirements.txt (line 6)) (0.12.2)\n",
      "Requirement already satisfied: httplib2 in /home/ec2-user/anaconda3/envs/python3/lib/python3.6/site-packages (from PicSureHpdsLib==0.9.0->-r requirements.txt (line 7)) (0.19.1)\n",
      "Requirement already satisfied: python-dateutil>=2.1 in /home/ec2-user/anaconda3/envs/python3/lib/python3.6/site-packages (from matplotlib>=3.1.1->-r requirements.txt (line 2)) (2.8.1)\n",
      "Requirement already satisfied: kiwisolver>=1.0.1 in /home/ec2-user/anaconda3/envs/python3/lib/python3.6/site-packages (from matplotlib>=3.1.1->-r requirements.txt (line 2)) (1.3.1)\n",
      "Requirement already satisfied: pillow>=6.2.0 in /home/ec2-user/anaconda3/envs/python3/lib/python3.6/site-packages (from matplotlib>=3.1.1->-r requirements.txt (line 2)) (7.2.0)\n",
      "Requirement already satisfied: cycler>=0.10 in /home/ec2-user/anaconda3/envs/python3/lib/python3.6/site-packages (from matplotlib>=3.1.1->-r requirements.txt (line 2)) (0.10.0)\n",
      "Requirement already satisfied: pyparsing!=2.0.4,!=2.1.2,!=2.1.6,>=2.0.3 in /home/ec2-user/anaconda3/envs/python3/lib/python3.6/site-packages (from matplotlib>=3.1.1->-r requirements.txt (line 2)) (2.4.7)\n",
      "Requirement already satisfied: pytz>=2017.2 in /home/ec2-user/anaconda3/envs/python3/lib/python3.6/site-packages (from pandas>=0.25.3->-r requirements.txt (line 3)) (2021.1)\n",
      "Requirement already satisfied: patsy>=0.5 in /home/ec2-user/anaconda3/envs/python3/lib/python3.6/site-packages (from statsmodels>=0.10.2->-r requirements.txt (line 6)) (0.5.1)\n",
      "Requirement already satisfied: six in /home/ec2-user/anaconda3/envs/python3/lib/python3.6/site-packages (from cycler>=0.10->matplotlib>=3.1.1->-r requirements.txt (line 2)) (1.15.0)\n"
     ]
    }
   ],
   "source": [
    "import sys\n",
    "!{sys.executable} -m pip install -r requirements.txt"
   ]
  },
  {
   "cell_type": "markdown",
   "metadata": {},
   "source": [
    "Import external dependencies and user-defined functions stored in the `python_lib` folder."
   ]
  },
  {
   "cell_type": "code",
   "execution_count": 4,
   "metadata": {},
   "outputs": [],
   "source": [
    "import json\n",
    "from pprint import pprint\n",
    "\n",
    "import pandas as pd\n",
    "import numpy as np \n",
    "import matplotlib.pyplot as plt\n",
    "from scipy import stats\n",
    "\n",
    "import PicSureHpdsLib\n",
    "import PicSureClient\n",
    "\n",
    "from python_lib.utils import get_multiIndex_variablesDict, get_dic_renaming_vars, joining_variablesDict_onCol"
   ]
  },
  {
   "cell_type": "code",
   "execution_count": 5,
   "metadata": {},
   "outputs": [
    {
     "name": "stdout",
     "output_type": "stream",
     "text": [
      "NB: This Jupyter Notebook has been written using PIC-SURE API following versions:\n",
      "- PicSureClient: 0.1.0\n",
      "- PicSureHpdsLib: 1.1.0\n",
      "\n",
      "The PIC-SURE API libraries versions you've been downloading are: \n",
      "- PicSureClient: 1.1.0\n",
      "- PicSureHpdsLib: 1.1.0\n"
     ]
    }
   ],
   "source": [
    "print(\"NB: This Jupyter Notebook has been written using PIC-SURE API following versions:\\n- PicSureClient: 0.1.0\\n- PicSureHpdsLib: 1.1.0\\n\")\n",
    "print(\"The PIC-SURE API libraries versions you've been downloading are: \\n- PicSureClient: {0}\\n- PicSureHpdsLib: {1}\".format(PicSureClient.__version__, PicSureHpdsLib.__version__))"
   ]
  },
  {
   "cell_type": "markdown",
   "metadata": {},
   "source": [
    "##### Set up the options for displaying tables and plots in this notebook"
   ]
  },
  {
   "cell_type": "code",
   "execution_count": 6,
   "metadata": {},
   "outputs": [],
   "source": [
    "# Pandas DataFrame display options\n",
    "pd.set_option(\"max.rows\", 100)\n",
    "\n",
    "# Matplotlib parameters options\n",
    "fig_size = plt.rcParams[\"figure.figsize\"]\n",
    " \n",
    "# Prints: [8.0, 6.0]\n",
    "fig_size[0] = 14\n",
    "fig_size[1] = 8\n",
    "plt.rcParams[\"figure.figsize\"] = fig_size\n",
    "\n",
    "font = {'weight' : 'bold',\n",
    "        'size'   : 14}\n",
    "\n",
    "plt.rc('font', **font)"
   ]
  },
  {
   "cell_type": "markdown",
   "metadata": {},
   "source": [
    "### Connecting to a PIC-SURE network"
   ]
  },
  {
   "cell_type": "markdown",
   "metadata": {},
   "source": [
    "You will need the following information before connecting to the PIC-SURE network:\n",
    "* resource ID: ID of the resource that you are trying to access. You can leave the default value for this project.\n",
    "* user-specific token text file: A text file called `token.txt` should contain the token retrieved from you user profile in PIC-SURE UI. This file needs to be located at the python root folder."
   ]
  },
  {
   "cell_type": "code",
   "execution_count": 7,
   "metadata": {},
   "outputs": [],
   "source": [
    "resource_id = \"57e29a43-38c3-4c4b-84c9-dda8138badbe\"\n",
    "token_file = \"token.txt\"\n",
    "PICSURE_network_URL = \"https://curesc.hms.harvard.edu/picsure\""
   ]
  },
  {
   "cell_type": "code",
   "execution_count": 8,
   "metadata": {},
   "outputs": [],
   "source": [
    "with open(token_file, \"r\") as f:\n",
    "    my_token = f.read()"
   ]
  },
  {
   "cell_type": "code",
   "execution_count": 9,
   "metadata": {},
   "outputs": [
    {
     "name": "stdout",
     "output_type": "stream",
     "text": [
      "\u001b[38;5;91;40m\n",
      "\n",
      "+=========================================================================================+\n",
      "|        [ WARNING ] you are specifying that you WANT to allow self-signed SSL            |\n",
      "|        certificates to be acceptable for connections.  This may be useful for           |\n",
      "|        working in a development environment or on systems that host public              |\n",
      "|        data.  BEST SECURITY PRACTICES ARE THAT IF YOU ARE WORKING WITH SENSITIVE        |\n",
      "|        DATA THEN ALL SSL CERTS BY THOSE EVIRONMENTS SHOULD NOT BE SELF-SIGNED.          |\n",
      "+=========================================================================================+\n",
      "\u001b[39;49m\n",
      "+--------------------------------------+------------------------------------------------------\n",
      "|  Resource UUID                       |  Resource Name                                  \n",
      "+--------------------------------------+------------------------------------------------------\n",
      "| 57e29a43-38c3-4c4b-84c9-dda8138badbe\n",
      "+--------------------------------------+------------------------------------------------------\n"
     ]
    }
   ],
   "source": [
    "client = PicSureClient.Client()\n",
    "connection = client.connect(PICSURE_network_URL, my_token, True)"
   ]
  },
  {
   "cell_type": "code",
   "execution_count": 10,
   "metadata": {},
   "outputs": [],
   "source": [
    "adapter = PicSureHpdsLib.Adapter(connection)\n",
    "resource = adapter.useResource(resource_id)"
   ]
  },
  {
   "cell_type": "markdown",
   "metadata": {},
   "source": [
    "Two objects were created: a `connection` and a `resource` object, using the `picsure` and `hpds` libraries, respectively. \n",
    "\n",
    "Since will only be using a single resource, **the `resource` object is the only one we will need to proceed with this data analysis.** It should be noted that the `connection` object is useful to access different databases stored in different resources. \n",
    "\n",
    "The `resource` object is connected to the specific resource ID and enables us to query and retrieve data from this source."
   ]
  },
  {
   "cell_type": "markdown",
   "metadata": {},
   "source": [
    "### Getting help with the PIC-SURE python API"
   ]
  },
  {
   "cell_type": "markdown",
   "metadata": {},
   "source": [
    "The `help()` method prints out the helper message for any PIC-SURE library function. For example, we can learn more about getting a resource using the following code:"
   ]
  },
  {
   "cell_type": "code",
   "execution_count": 11,
   "metadata": {},
   "outputs": [
    {
     "name": "stdout",
     "output_type": "stream",
     "text": [
      "\n",
      "        [HELP] PicSureHpdsLib.useResource(resource_uuid)\n",
      "            .dictionary()       Used to access data dictionary of the resource\n",
      "            .query()            Used to query against data in the resource\n",
      "            .retrieveQueryResults(query_uuid) returns the results of an asynchronous query that has already been submitted to PICSURE\n",
      "\n",
      "        [ENVIRONMENT]\n",
      "              Endpoint URL: https://curesc.hms.harvard.edu/picsure/\n",
      "             Resource UUID: 57e29a43-38c3-4c4b-84c9-dda8138badbe\n"
     ]
    }
   ],
   "source": [
    "resource.help()"
   ]
  },
  {
   "cell_type": "markdown",
   "metadata": {},
   "source": [
    "This output tells us about the methods and functions of the `resource` object. "
   ]
  },
  {
   "cell_type": "markdown",
   "metadata": {},
   "source": [
    "## Using the *variables dictionary*"
   ]
  },
  {
   "cell_type": "markdown",
   "metadata": {},
   "source": [
    "Once a connection to the desired resource has been established, we first need to get an understanding of which variables are available in the database. We will use the `dictionary` method of the `resource` object to do this."
   ]
  },
  {
   "cell_type": "markdown",
   "metadata": {},
   "source": [
    "A `dictionary` instance retrieves records that match a specific term. The `find()` method can be used to retrieve information about the available variables. For instance, looking for variables containing the term 'Sex' is done this way: "
   ]
  },
  {
   "cell_type": "code",
   "execution_count": 12,
   "metadata": {},
   "outputs": [
    {
     "data": {
      "text/html": [
       "<div>\n",
       "<style scoped>\n",
       "    .dataframe tbody tr th:only-of-type {\n",
       "        vertical-align: middle;\n",
       "    }\n",
       "\n",
       "    .dataframe tbody tr th {\n",
       "        vertical-align: top;\n",
       "    }\n",
       "\n",
       "    .dataframe thead th {\n",
       "        text-align: right;\n",
       "    }\n",
       "</style>\n",
       "<table border=\"1\" class=\"dataframe\">\n",
       "  <thead>\n",
       "    <tr style=\"text-align: right;\">\n",
       "      <th></th>\n",
       "      <th>categorical</th>\n",
       "      <th>categoryValues</th>\n",
       "      <th>observationCount</th>\n",
       "      <th>patientCount</th>\n",
       "      <th>HpdsDataType</th>\n",
       "    </tr>\n",
       "    <tr>\n",
       "      <th>KEY</th>\n",
       "      <th></th>\n",
       "      <th></th>\n",
       "      <th></th>\n",
       "      <th></th>\n",
       "      <th></th>\n",
       "    </tr>\n",
       "  </thead>\n",
       "  <tbody>\n",
       "    <tr>\n",
       "      <th>\\CIBMTR - Cure Sickle Cell Disease\\1 - Patient Related\\Sex\\</th>\n",
       "      <td>True</td>\n",
       "      <td>[Female, Male]</td>\n",
       "      <td>1518</td>\n",
       "      <td>1518</td>\n",
       "      <td>phenotypes</td>\n",
       "    </tr>\n",
       "  </tbody>\n",
       "</table>\n",
       "</div>"
      ],
      "text/plain": [
       "                                                    categorical  \\\n",
       "KEY                                                               \n",
       "\\CIBMTR - Cure Sickle Cell Disease\\1 - Patient ...         True   \n",
       "\n",
       "                                                    categoryValues  \\\n",
       "KEY                                                                  \n",
       "\\CIBMTR - Cure Sickle Cell Disease\\1 - Patient ...  [Female, Male]   \n",
       "\n",
       "                                                    observationCount  \\\n",
       "KEY                                                                    \n",
       "\\CIBMTR - Cure Sickle Cell Disease\\1 - Patient ...              1518   \n",
       "\n",
       "                                                    patientCount HpdsDataType  \n",
       "KEY                                                                            \n",
       "\\CIBMTR - Cure Sickle Cell Disease\\1 - Patient ...          1518   phenotypes  "
      ]
     },
     "execution_count": 12,
     "metadata": {},
     "output_type": "execute_result"
    }
   ],
   "source": [
    "dictionary = resource.dictionary()\n",
    "dictionary_search = dictionary.find(\"Sex\")\n",
    "dictionary_search.DataFrame().head()"
   ]
  },
  {
   "cell_type": "markdown",
   "metadata": {},
   "source": [
    "Objects created by the `dictionary.find` method can expose the search results using 4 different methods: `.count()`, `.keys()`, `.entries()`, and `.DataFrame()`. "
   ]
  },
  {
   "cell_type": "code",
   "execution_count": 13,
   "metadata": {},
   "outputs": [
    {
     "name": "stdout",
     "output_type": "stream",
     "text": [
      "{'Count': 1,\n",
      " 'Entries': [{'HpdsDataType': 'phenotypes',\n",
      "              'categorical': True,\n",
      "              'categoryValues': ['Female', 'Male'],\n",
      "              'name': '\\\\CIBMTR - Cure Sickle Cell Disease\\\\1 - Patient '\n",
      "                      'Related\\\\Sex\\\\',\n",
      "              'observationCount': 1518,\n",
      "              'patientCount': 1518}],\n",
      " 'Keys': ['\\\\CIBMTR - Cure Sickle Cell Disease\\\\1 - Patient Related\\\\Sex\\\\']}\n"
     ]
    }
   ],
   "source": [
    "pprint({\"Count\": dictionary_search.count(), \n",
    "        \"Keys\": dictionary_search.keys()[0:3],\n",
    "        \"Entries\": dictionary_search.entries()[0:3]})"
   ]
  },
  {
   "cell_type": "markdown",
   "metadata": {},
   "source": [
    "**The `.DataFrame()` method enables us to get the result of the dictionary search in a pandas DataFrame format. This way, it allows us to:** \n",
    "\n",
    "\n",
    "* Use the various information exposed in the dictionary (patient count, variable type ...) as criteria for variable selection.\n",
    "* Use the row names of the DataFrame to get the actual variable names to be used in the query, as shown below.\n",
    "\n",
    "Variable names aren't very pratical to use right away for two reasons:\n",
    "1. Very long\n",
    "2. Presence of backslashes that prevent copy-pasting. \n",
    "\n",
    "However, retrieving the dictionary search result in the form of a dataframe can help access the variable names.\n",
    "\n",
    "Let's say we want to retrieve every variable for the \"CIBMTR - Cure Sickle Cell Disease\" study in the form of a DataFrame. We can do this using the code below:"
   ]
  },
  {
   "cell_type": "code",
   "execution_count": 14,
   "metadata": {},
   "outputs": [],
   "source": [
    "plain_variablesDict = resource.dictionary().find().DataFrame()"
   ]
  },
  {
   "cell_type": "markdown",
   "metadata": {},
   "source": [
    "Using the `dictionary.find()` function without arguments returns every entry, as shown in the help documentation."
   ]
  },
  {
   "cell_type": "code",
   "execution_count": 15,
   "metadata": {},
   "outputs": [
    {
     "name": "stdout",
     "output_type": "stream",
     "text": [
      "\n",
      "        [HELP] PicSureHpdsLib.Client(connection).useResource(uuid).dictionary()\n",
      "            .find()                 Lists all data dictionary entries\n",
      "            .find(search_string)    Lists matching data dictionary entries\n",
      "        \n"
     ]
    }
   ],
   "source": [
    "resource.dictionary().help()"
   ]
  },
  {
   "cell_type": "code",
   "execution_count": 16,
   "metadata": {},
   "outputs": [
    {
     "data": {
      "text/html": [
       "<div>\n",
       "<style scoped>\n",
       "    .dataframe tbody tr th:only-of-type {\n",
       "        vertical-align: middle;\n",
       "    }\n",
       "\n",
       "    .dataframe tbody tr th {\n",
       "        vertical-align: top;\n",
       "    }\n",
       "\n",
       "    .dataframe thead th {\n",
       "        text-align: right;\n",
       "    }\n",
       "</style>\n",
       "<table border=\"1\" class=\"dataframe\">\n",
       "  <thead>\n",
       "    <tr style=\"text-align: right;\">\n",
       "      <th></th>\n",
       "      <th>min</th>\n",
       "      <th>categorical</th>\n",
       "      <th>observationCount</th>\n",
       "      <th>patientCount</th>\n",
       "      <th>max</th>\n",
       "      <th>HpdsDataType</th>\n",
       "      <th>categoryValues</th>\n",
       "    </tr>\n",
       "    <tr>\n",
       "      <th>KEY</th>\n",
       "      <th></th>\n",
       "      <th></th>\n",
       "      <th></th>\n",
       "      <th></th>\n",
       "      <th></th>\n",
       "      <th></th>\n",
       "      <th></th>\n",
       "    </tr>\n",
       "  </thead>\n",
       "  <tbody>\n",
       "    <tr>\n",
       "      <th>\\CIBMTR - Cure Sickle Cell Disease\\5 - CRF data collection track only\\Hemoglobin pre-conditioning unit\\</th>\n",
       "      <td>NaN</td>\n",
       "      <td>True</td>\n",
       "      <td>732</td>\n",
       "      <td>732</td>\n",
       "      <td>NaN</td>\n",
       "      <td>phenotypes</td>\n",
       "      <td>[Not reported, g/dL]</td>\n",
       "    </tr>\n",
       "    <tr>\n",
       "      <th>\\CIBMTR - Cure Sickle Cell Disease\\5 - CRF data collection track only\\Acute renal failure requiring dialysis\\</th>\n",
       "      <td>NaN</td>\n",
       "      <td>True</td>\n",
       "      <td>732</td>\n",
       "      <td>732</td>\n",
       "      <td>NaN</td>\n",
       "      <td>phenotypes</td>\n",
       "      <td>[No, Not reported, Yes]</td>\n",
       "    </tr>\n",
       "    <tr>\n",
       "      <th>\\CIBMTR - Cure Sickle Cell Disease\\1 - Patient Related\\HCT-comorbidity index\\</th>\n",
       "      <td>NaN</td>\n",
       "      <td>True</td>\n",
       "      <td>1518</td>\n",
       "      <td>1518</td>\n",
       "      <td>NaN</td>\n",
       "      <td>phenotypes</td>\n",
       "      <td>[0-2, 3+, Not collected before 2008]</td>\n",
       "    </tr>\n",
       "    <tr>\n",
       "      <th>\\CIBMTR - Cure Sickle Cell Disease\\4 - Outcomes\\Death without acute graft versus host disease, grades II-IV\\</th>\n",
       "      <td>NaN</td>\n",
       "      <td>True</td>\n",
       "      <td>1518</td>\n",
       "      <td>1518</td>\n",
       "      <td>NaN</td>\n",
       "      <td>phenotypes</td>\n",
       "      <td>[No, Not Reported, Yes]</td>\n",
       "    </tr>\n",
       "    <tr>\n",
       "      <th>\\CIBMTR - Cure Sickle Cell Disease\\5 - CRF data collection track only\\Stroke pre-conditioning\\</th>\n",
       "      <td>NaN</td>\n",
       "      <td>True</td>\n",
       "      <td>732</td>\n",
       "      <td>732</td>\n",
       "      <td>NaN</td>\n",
       "      <td>phenotypes</td>\n",
       "      <td>[No, Not reported, Yes]</td>\n",
       "    </tr>\n",
       "    <tr>\n",
       "      <th>\\CIBMTR - Cure Sickle Cell Disease\\5 - CRF data collection track only\\Time from HCT to intubation, months\\</th>\n",
       "      <td>0.131579</td>\n",
       "      <td>False</td>\n",
       "      <td>34</td>\n",
       "      <td>34</td>\n",
       "      <td>200.032895</td>\n",
       "      <td>phenotypes</td>\n",
       "      <td>None</td>\n",
       "    </tr>\n",
       "    <tr>\n",
       "      <th>\\CIBMTR - Cure Sickle Cell Disease\\3 - Transplant Related\\Year of transplant ( Grouped )\\</th>\n",
       "      <td>NaN</td>\n",
       "      <td>True</td>\n",
       "      <td>1518</td>\n",
       "      <td>1518</td>\n",
       "      <td>NaN</td>\n",
       "      <td>phenotypes</td>\n",
       "      <td>[2008-2012, 2013-2017, 2018-2019, &lt; 2008]</td>\n",
       "    </tr>\n",
       "    <tr>\n",
       "      <th>\\CIBMTR - Cure Sickle Cell Disease\\3 - Transplant Related\\Donor-recipient HLA matching\\</th>\n",
       "      <td>NaN</td>\n",
       "      <td>True</td>\n",
       "      <td>1518</td>\n",
       "      <td>1518</td>\n",
       "      <td>NaN</td>\n",
       "      <td>phenotypes</td>\n",
       "      <td>[7/8, 8/8, &lt;=6/8]</td>\n",
       "    </tr>\n",
       "    <tr>\n",
       "      <th>\\CIBMTR - Cure Sickle Cell Disease\\5 - CRF data collection track only\\Therapy given for growth hormone deficiency\\</th>\n",
       "      <td>NaN</td>\n",
       "      <td>True</td>\n",
       "      <td>732</td>\n",
       "      <td>732</td>\n",
       "      <td>NaN</td>\n",
       "      <td>phenotypes</td>\n",
       "      <td>[N/A, No, Not reported, Yes]</td>\n",
       "    </tr>\n",
       "    <tr>\n",
       "      <th>\\CIBMTR - Cure Sickle Cell Disease\\5 - CRF data collection track only\\Time from HCT to VOD, months\\</th>\n",
       "      <td>0.197368</td>\n",
       "      <td>False</td>\n",
       "      <td>23</td>\n",
       "      <td>23</td>\n",
       "      <td>8.289474</td>\n",
       "      <td>phenotypes</td>\n",
       "      <td>None</td>\n",
       "    </tr>\n",
       "  </tbody>\n",
       "</table>\n",
       "</div>"
      ],
      "text/plain": [
       "                                                         min  categorical  \\\n",
       "KEY                                                                         \n",
       "\\CIBMTR - Cure Sickle Cell Disease\\5 - CRF data...       NaN         True   \n",
       "\\CIBMTR - Cure Sickle Cell Disease\\5 - CRF data...       NaN         True   \n",
       "\\CIBMTR - Cure Sickle Cell Disease\\1 - Patient ...       NaN         True   \n",
       "\\CIBMTR - Cure Sickle Cell Disease\\4 - Outcomes...       NaN         True   \n",
       "\\CIBMTR - Cure Sickle Cell Disease\\5 - CRF data...       NaN         True   \n",
       "\\CIBMTR - Cure Sickle Cell Disease\\5 - CRF data...  0.131579        False   \n",
       "\\CIBMTR - Cure Sickle Cell Disease\\3 - Transpla...       NaN         True   \n",
       "\\CIBMTR - Cure Sickle Cell Disease\\3 - Transpla...       NaN         True   \n",
       "\\CIBMTR - Cure Sickle Cell Disease\\5 - CRF data...       NaN         True   \n",
       "\\CIBMTR - Cure Sickle Cell Disease\\5 - CRF data...  0.197368        False   \n",
       "\n",
       "                                                    observationCount  \\\n",
       "KEY                                                                    \n",
       "\\CIBMTR - Cure Sickle Cell Disease\\5 - CRF data...               732   \n",
       "\\CIBMTR - Cure Sickle Cell Disease\\5 - CRF data...               732   \n",
       "\\CIBMTR - Cure Sickle Cell Disease\\1 - Patient ...              1518   \n",
       "\\CIBMTR - Cure Sickle Cell Disease\\4 - Outcomes...              1518   \n",
       "\\CIBMTR - Cure Sickle Cell Disease\\5 - CRF data...               732   \n",
       "\\CIBMTR - Cure Sickle Cell Disease\\5 - CRF data...                34   \n",
       "\\CIBMTR - Cure Sickle Cell Disease\\3 - Transpla...              1518   \n",
       "\\CIBMTR - Cure Sickle Cell Disease\\3 - Transpla...              1518   \n",
       "\\CIBMTR - Cure Sickle Cell Disease\\5 - CRF data...               732   \n",
       "\\CIBMTR - Cure Sickle Cell Disease\\5 - CRF data...                23   \n",
       "\n",
       "                                                    patientCount         max  \\\n",
       "KEY                                                                            \n",
       "\\CIBMTR - Cure Sickle Cell Disease\\5 - CRF data...           732         NaN   \n",
       "\\CIBMTR - Cure Sickle Cell Disease\\5 - CRF data...           732         NaN   \n",
       "\\CIBMTR - Cure Sickle Cell Disease\\1 - Patient ...          1518         NaN   \n",
       "\\CIBMTR - Cure Sickle Cell Disease\\4 - Outcomes...          1518         NaN   \n",
       "\\CIBMTR - Cure Sickle Cell Disease\\5 - CRF data...           732         NaN   \n",
       "\\CIBMTR - Cure Sickle Cell Disease\\5 - CRF data...            34  200.032895   \n",
       "\\CIBMTR - Cure Sickle Cell Disease\\3 - Transpla...          1518         NaN   \n",
       "\\CIBMTR - Cure Sickle Cell Disease\\3 - Transpla...          1518         NaN   \n",
       "\\CIBMTR - Cure Sickle Cell Disease\\5 - CRF data...           732         NaN   \n",
       "\\CIBMTR - Cure Sickle Cell Disease\\5 - CRF data...            23    8.289474   \n",
       "\n",
       "                                                   HpdsDataType  \\\n",
       "KEY                                                               \n",
       "\\CIBMTR - Cure Sickle Cell Disease\\5 - CRF data...   phenotypes   \n",
       "\\CIBMTR - Cure Sickle Cell Disease\\5 - CRF data...   phenotypes   \n",
       "\\CIBMTR - Cure Sickle Cell Disease\\1 - Patient ...   phenotypes   \n",
       "\\CIBMTR - Cure Sickle Cell Disease\\4 - Outcomes...   phenotypes   \n",
       "\\CIBMTR - Cure Sickle Cell Disease\\5 - CRF data...   phenotypes   \n",
       "\\CIBMTR - Cure Sickle Cell Disease\\5 - CRF data...   phenotypes   \n",
       "\\CIBMTR - Cure Sickle Cell Disease\\3 - Transpla...   phenotypes   \n",
       "\\CIBMTR - Cure Sickle Cell Disease\\3 - Transpla...   phenotypes   \n",
       "\\CIBMTR - Cure Sickle Cell Disease\\5 - CRF data...   phenotypes   \n",
       "\\CIBMTR - Cure Sickle Cell Disease\\5 - CRF data...   phenotypes   \n",
       "\n",
       "                                                                               categoryValues  \n",
       "KEY                                                                                            \n",
       "\\CIBMTR - Cure Sickle Cell Disease\\5 - CRF data...                       [Not reported, g/dL]  \n",
       "\\CIBMTR - Cure Sickle Cell Disease\\5 - CRF data...                    [No, Not reported, Yes]  \n",
       "\\CIBMTR - Cure Sickle Cell Disease\\1 - Patient ...       [0-2, 3+, Not collected before 2008]  \n",
       "\\CIBMTR - Cure Sickle Cell Disease\\4 - Outcomes...                    [No, Not Reported, Yes]  \n",
       "\\CIBMTR - Cure Sickle Cell Disease\\5 - CRF data...                    [No, Not reported, Yes]  \n",
       "\\CIBMTR - Cure Sickle Cell Disease\\5 - CRF data...                                       None  \n",
       "\\CIBMTR - Cure Sickle Cell Disease\\3 - Transpla...  [2008-2012, 2013-2017, 2018-2019, < 2008]  \n",
       "\\CIBMTR - Cure Sickle Cell Disease\\3 - Transpla...                          [7/8, 8/8, <=6/8]  \n",
       "\\CIBMTR - Cure Sickle Cell Disease\\5 - CRF data...               [N/A, No, Not reported, Yes]  \n",
       "\\CIBMTR - Cure Sickle Cell Disease\\5 - CRF data...                                       None  "
      ]
     },
     "execution_count": 16,
     "metadata": {},
     "output_type": "execute_result"
    }
   ],
   "source": [
    "plain_variablesDict.iloc[10:20,:]"
   ]
  },
  {
   "cell_type": "markdown",
   "metadata": {},
   "source": [
    "### Export Full Data Dictionary to CSV"
   ]
  },
  {
   "cell_type": "markdown",
   "metadata": {},
   "source": [
    "In order to export the data dictionary first we will create a Pandas dataframe called `fullVariableDict`."
   ]
  },
  {
   "cell_type": "code",
   "execution_count": 17,
   "metadata": {},
   "outputs": [],
   "source": [
    "fullVariableDict = resource.dictionary().find().DataFrame()"
   ]
  },
  {
   "cell_type": "markdown",
   "metadata": {},
   "source": [
    "Let's make sure that `fullVariableDict` dataframe contains some values."
   ]
  },
  {
   "cell_type": "code",
   "execution_count": 18,
   "metadata": {},
   "outputs": [
    {
     "data": {
      "text/html": [
       "<div>\n",
       "<style scoped>\n",
       "    .dataframe tbody tr th:only-of-type {\n",
       "        vertical-align: middle;\n",
       "    }\n",
       "\n",
       "    .dataframe tbody tr th {\n",
       "        vertical-align: top;\n",
       "    }\n",
       "\n",
       "    .dataframe thead th {\n",
       "        text-align: right;\n",
       "    }\n",
       "</style>\n",
       "<table border=\"1\" class=\"dataframe\">\n",
       "  <thead>\n",
       "    <tr style=\"text-align: right;\">\n",
       "      <th></th>\n",
       "      <th>min</th>\n",
       "      <th>categorical</th>\n",
       "      <th>observationCount</th>\n",
       "      <th>patientCount</th>\n",
       "      <th>max</th>\n",
       "      <th>HpdsDataType</th>\n",
       "      <th>categoryValues</th>\n",
       "    </tr>\n",
       "    <tr>\n",
       "      <th>KEY</th>\n",
       "      <th></th>\n",
       "      <th></th>\n",
       "      <th></th>\n",
       "      <th></th>\n",
       "      <th></th>\n",
       "      <th></th>\n",
       "      <th></th>\n",
       "    </tr>\n",
       "  </thead>\n",
       "  <tbody>\n",
       "    <tr>\n",
       "      <th>\\CIBMTR - Cure Sickle Cell Disease\\5 - CRF data collection track only\\Time from HCT to diabetes, months\\</th>\n",
       "      <td>0.131579</td>\n",
       "      <td>False</td>\n",
       "      <td>48</td>\n",
       "      <td>48</td>\n",
       "      <td>46.315789</td>\n",
       "      <td>phenotypes</td>\n",
       "      <td>None</td>\n",
       "    </tr>\n",
       "    <tr>\n",
       "      <th>\\CIBMTR - Cure Sickle Cell Disease\\5 - CRF data collection track only\\Serum creatinine pre-conditioning unit\\</th>\n",
       "      <td>NaN</td>\n",
       "      <td>True</td>\n",
       "      <td>732</td>\n",
       "      <td>732</td>\n",
       "      <td>NaN</td>\n",
       "      <td>phenotypes</td>\n",
       "      <td>[Not reported, mg/dL]</td>\n",
       "    </tr>\n",
       "    <tr>\n",
       "      <th>\\CIBMTR - Cure Sickle Cell Disease\\5 - CRF data collection track only\\Hypertension (HTN) requiring therapy\\</th>\n",
       "      <td>NaN</td>\n",
       "      <td>True</td>\n",
       "      <td>732</td>\n",
       "      <td>732</td>\n",
       "      <td>NaN</td>\n",
       "      <td>phenotypes</td>\n",
       "      <td>[No, Not reported, Yes]</td>\n",
       "    </tr>\n",
       "  </tbody>\n",
       "</table>\n",
       "</div>"
      ],
      "text/plain": [
       "                                                         min  categorical  \\\n",
       "KEY                                                                         \n",
       "\\CIBMTR - Cure Sickle Cell Disease\\5 - CRF data...  0.131579        False   \n",
       "\\CIBMTR - Cure Sickle Cell Disease\\5 - CRF data...       NaN         True   \n",
       "\\CIBMTR - Cure Sickle Cell Disease\\5 - CRF data...       NaN         True   \n",
       "\n",
       "                                                    observationCount  \\\n",
       "KEY                                                                    \n",
       "\\CIBMTR - Cure Sickle Cell Disease\\5 - CRF data...                48   \n",
       "\\CIBMTR - Cure Sickle Cell Disease\\5 - CRF data...               732   \n",
       "\\CIBMTR - Cure Sickle Cell Disease\\5 - CRF data...               732   \n",
       "\n",
       "                                                    patientCount        max  \\\n",
       "KEY                                                                           \n",
       "\\CIBMTR - Cure Sickle Cell Disease\\5 - CRF data...            48  46.315789   \n",
       "\\CIBMTR - Cure Sickle Cell Disease\\5 - CRF data...           732        NaN   \n",
       "\\CIBMTR - Cure Sickle Cell Disease\\5 - CRF data...           732        NaN   \n",
       "\n",
       "                                                   HpdsDataType  \\\n",
       "KEY                                                               \n",
       "\\CIBMTR - Cure Sickle Cell Disease\\5 - CRF data...   phenotypes   \n",
       "\\CIBMTR - Cure Sickle Cell Disease\\5 - CRF data...   phenotypes   \n",
       "\\CIBMTR - Cure Sickle Cell Disease\\5 - CRF data...   phenotypes   \n",
       "\n",
       "                                                             categoryValues  \n",
       "KEY                                                                          \n",
       "\\CIBMTR - Cure Sickle Cell Disease\\5 - CRF data...                     None  \n",
       "\\CIBMTR - Cure Sickle Cell Disease\\5 - CRF data...    [Not reported, mg/dL]  \n",
       "\\CIBMTR - Cure Sickle Cell Disease\\5 - CRF data...  [No, Not reported, Yes]  "
      ]
     },
     "execution_count": 18,
     "metadata": {},
     "output_type": "execute_result"
    }
   ],
   "source": [
    "fullVariableDict.iloc[0:3,:]"
   ]
  },
  {
   "cell_type": "code",
   "execution_count": 19,
   "metadata": {},
   "outputs": [],
   "source": [
    "fullVariableDict.to_csv('data_dictionary.csv')"
   ]
  },
  {
   "cell_type": "markdown",
   "metadata": {},
   "source": [
    "You should now see a data_dictionary.csv in the Jupyter Hub file explorer."
   ]
  },
  {
   "cell_type": "markdown",
   "metadata": {},
   "source": [
    "#### Variable dictionary + pandas multiIndex"
   ]
  },
  {
   "cell_type": "markdown",
   "metadata": {},
   "source": [
    "We can use a simple user-defined function (`get_multiIndex_variablesDict`) to add a little more information to the variable dictionary and to simplify working with variables names. It takes advantage of pandas MultiIndex functionality [see pandas official documentation on this topic](https://pandas.pydata.org/pandas-docs/stable/user_guide/advanced.html).\n",
    "\n",
    "Although not an official feature of the API, such functionality illustrates how to quickly select groups of related variables.\n",
    "\n",
    "Printing the multiIndexed variable Dictionary allows us to quickly see the tree-like organization of the variable names. Moreover, original and simplified variable names are now stored respectively in the `name` and `simplified_name` columns (simplified variable names is simply the last component of the variable name, which is usually the most informative to let us know what each variable is about)."
   ]
  },
  {
   "cell_type": "code",
   "execution_count": 20,
   "metadata": {},
   "outputs": [],
   "source": [
    "variablesDict = get_multiIndex_variablesDict(plain_variablesDict)"
   ]
  },
  {
   "cell_type": "code",
   "execution_count": 21,
   "metadata": {},
   "outputs": [
    {
     "data": {
      "text/html": [
       "<div>\n",
       "<style scoped>\n",
       "    .dataframe tbody tr th:only-of-type {\n",
       "        vertical-align: middle;\n",
       "    }\n",
       "\n",
       "    .dataframe tbody tr th {\n",
       "        vertical-align: top;\n",
       "    }\n",
       "\n",
       "    .dataframe thead th {\n",
       "        text-align: right;\n",
       "    }\n",
       "</style>\n",
       "<table border=\"1\" class=\"dataframe\">\n",
       "  <thead>\n",
       "    <tr style=\"text-align: right;\">\n",
       "      <th></th>\n",
       "      <th></th>\n",
       "      <th></th>\n",
       "      <th>simplified_name</th>\n",
       "      <th>name</th>\n",
       "      <th>observationCount</th>\n",
       "      <th>categorical</th>\n",
       "      <th>categoryValues</th>\n",
       "      <th>nb_modalities</th>\n",
       "      <th>min</th>\n",
       "      <th>max</th>\n",
       "      <th>HpdsDataType</th>\n",
       "    </tr>\n",
       "    <tr>\n",
       "      <th>level_0</th>\n",
       "      <th>level_1</th>\n",
       "      <th>level_2</th>\n",
       "      <th></th>\n",
       "      <th></th>\n",
       "      <th></th>\n",
       "      <th></th>\n",
       "      <th></th>\n",
       "      <th></th>\n",
       "      <th></th>\n",
       "      <th></th>\n",
       "      <th></th>\n",
       "    </tr>\n",
       "  </thead>\n",
       "  <tbody>\n",
       "    <tr>\n",
       "      <th rowspan=\"11\" valign=\"top\">CIBMTR - Cure Sickle Cell Disease</th>\n",
       "      <th rowspan=\"5\" valign=\"top\">1 - Patient Related</th>\n",
       "      <th>Cases from 2016 Blood publication</th>\n",
       "      <td>Cases from 2016 Blood publication</td>\n",
       "      <td>\\CIBMTR - Cure Sickle Cell Disease\\1 - Patient...</td>\n",
       "      <td>1517</td>\n",
       "      <td>True</td>\n",
       "      <td>[No, Yes]</td>\n",
       "      <td>2.0</td>\n",
       "      <td>NaN</td>\n",
       "      <td>NaN</td>\n",
       "      <td>phenotypes</td>\n",
       "    </tr>\n",
       "    <tr>\n",
       "      <th>Cases from 2019 Lancet Heamatology publication</th>\n",
       "      <td>Cases from 2019 Lancet Heamatology publication</td>\n",
       "      <td>\\CIBMTR - Cure Sickle Cell Disease\\1 - Patient...</td>\n",
       "      <td>1518</td>\n",
       "      <td>True</td>\n",
       "      <td>[No, Yes]</td>\n",
       "      <td>2.0</td>\n",
       "      <td>NaN</td>\n",
       "      <td>NaN</td>\n",
       "      <td>phenotypes</td>\n",
       "    </tr>\n",
       "    <tr>\n",
       "      <th>Country of HCT institution</th>\n",
       "      <td>Country of HCT institution</td>\n",
       "      <td>\\CIBMTR - Cure Sickle Cell Disease\\1 - Patient...</td>\n",
       "      <td>1518</td>\n",
       "      <td>True</td>\n",
       "      <td>[USA]</td>\n",
       "      <td>1.0</td>\n",
       "      <td>NaN</td>\n",
       "      <td>NaN</td>\n",
       "      <td>phenotypes</td>\n",
       "    </tr>\n",
       "    <tr>\n",
       "      <th>Ethnicity</th>\n",
       "      <td>Ethnicity</td>\n",
       "      <td>\\CIBMTR - Cure Sickle Cell Disease\\1 - Patient...</td>\n",
       "      <td>1518</td>\n",
       "      <td>True</td>\n",
       "      <td>[Hispanic or Latino, Non-Hispanic or non-Latin...</td>\n",
       "      <td>4.0</td>\n",
       "      <td>NaN</td>\n",
       "      <td>NaN</td>\n",
       "      <td>phenotypes</td>\n",
       "    </tr>\n",
       "    <tr>\n",
       "      <th>HCT-comorbidity index</th>\n",
       "      <td>HCT-comorbidity index</td>\n",
       "      <td>\\CIBMTR - Cure Sickle Cell Disease\\1 - Patient...</td>\n",
       "      <td>1518</td>\n",
       "      <td>True</td>\n",
       "      <td>[0-2, 3+, Not collected before 2008]</td>\n",
       "      <td>3.0</td>\n",
       "      <td>NaN</td>\n",
       "      <td>NaN</td>\n",
       "      <td>phenotypes</td>\n",
       "    </tr>\n",
       "    <tr>\n",
       "      <th>...</th>\n",
       "      <th>...</th>\n",
       "      <td>...</td>\n",
       "      <td>...</td>\n",
       "      <td>...</td>\n",
       "      <td>...</td>\n",
       "      <td>...</td>\n",
       "      <td>...</td>\n",
       "      <td>...</td>\n",
       "      <td>...</td>\n",
       "      <td>...</td>\n",
       "    </tr>\n",
       "    <tr>\n",
       "      <th rowspan=\"5\" valign=\"top\">5 - CRF data collection track only</th>\n",
       "      <th>Type of arrythmia</th>\n",
       "      <td>Type of arrythmia</td>\n",
       "      <td>\\CIBMTR - Cure Sickle Cell Disease\\5 - CRF dat...</td>\n",
       "      <td>732</td>\n",
       "      <td>True</td>\n",
       "      <td>[Atrial fibrillation or flutter, N/A, Sick sin...</td>\n",
       "      <td>3.0</td>\n",
       "      <td>NaN</td>\n",
       "      <td>NaN</td>\n",
       "      <td>phenotypes</td>\n",
       "    </tr>\n",
       "    <tr>\n",
       "      <th>Type of therapy for iron overload</th>\n",
       "      <td>Type of therapy for iron overload</td>\n",
       "      <td>\\CIBMTR - Cure Sickle Cell Disease\\5 - CRF dat...</td>\n",
       "      <td>732</td>\n",
       "      <td>True</td>\n",
       "      <td>[Iron chelation only, N/A, Phlebotomy and iron...</td>\n",
       "      <td>4.0</td>\n",
       "      <td>NaN</td>\n",
       "      <td>NaN</td>\n",
       "      <td>phenotypes</td>\n",
       "    </tr>\n",
       "    <tr>\n",
       "      <th>VOD post-HCT</th>\n",
       "      <td>VOD post-HCT</td>\n",
       "      <td>\\CIBMTR - Cure Sickle Cell Disease\\5 - CRF dat...</td>\n",
       "      <td>732</td>\n",
       "      <td>True</td>\n",
       "      <td>[No, Yes]</td>\n",
       "      <td>2.0</td>\n",
       "      <td>NaN</td>\n",
       "      <td>NaN</td>\n",
       "      <td>phenotypes</td>\n",
       "    </tr>\n",
       "    <tr>\n",
       "      <th>Vaso-occlusive cirsis requiring hospitalization within 2 years pre-HCT</th>\n",
       "      <td>Vaso-occlusive cirsis requiring hospitalizatio...</td>\n",
       "      <td>\\CIBMTR - Cure Sickle Cell Disease\\5 - CRF dat...</td>\n",
       "      <td>732</td>\n",
       "      <td>True</td>\n",
       "      <td>[No, Not reported, Yes]</td>\n",
       "      <td>3.0</td>\n",
       "      <td>NaN</td>\n",
       "      <td>NaN</td>\n",
       "      <td>phenotypes</td>\n",
       "    </tr>\n",
       "    <tr>\n",
       "      <th>Vaso-occlusive pain post HCT</th>\n",
       "      <td>Vaso-occlusive pain post HCT</td>\n",
       "      <td>\\CIBMTR - Cure Sickle Cell Disease\\5 - CRF dat...</td>\n",
       "      <td>1518</td>\n",
       "      <td>True</td>\n",
       "      <td>[No, Not Reported, Yes]</td>\n",
       "      <td>3.0</td>\n",
       "      <td>NaN</td>\n",
       "      <td>NaN</td>\n",
       "      <td>phenotypes</td>\n",
       "    </tr>\n",
       "  </tbody>\n",
       "</table>\n",
       "<p>154 rows × 9 columns</p>\n",
       "</div>"
      ],
      "text/plain": [
       "                                                                                                                                                           simplified_name  \\\n",
       "level_0                           level_1                            level_2                                                                                                 \n",
       "CIBMTR - Cure Sickle Cell Disease 1 - Patient Related                Cases from 2016 Blood publication                                   Cases from 2016 Blood publication   \n",
       "                                                                     Cases from 2019 Lancet Heamatology publication         Cases from 2019 Lancet Heamatology publication   \n",
       "                                                                     Country of HCT institution                                                 Country of HCT institution   \n",
       "                                                                     Ethnicity                                                                                   Ethnicity   \n",
       "                                                                     HCT-comorbidity index                                                           HCT-comorbidity index   \n",
       "...                                                                                                                                                                    ...   \n",
       "                                  5 - CRF data collection track only Type of arrythmia                                                                   Type of arrythmia   \n",
       "                                                                     Type of therapy for iron overload                                   Type of therapy for iron overload   \n",
       "                                                                     VOD post-HCT                                                                             VOD post-HCT   \n",
       "                                                                     Vaso-occlusive cirsis requiring hospitalization...  Vaso-occlusive cirsis requiring hospitalizatio...   \n",
       "                                                                     Vaso-occlusive pain post HCT                                             Vaso-occlusive pain post HCT   \n",
       "\n",
       "                                                                                                                                                                      name  \\\n",
       "level_0                           level_1                            level_2                                                                                                 \n",
       "CIBMTR - Cure Sickle Cell Disease 1 - Patient Related                Cases from 2016 Blood publication                   \\CIBMTR - Cure Sickle Cell Disease\\1 - Patient...   \n",
       "                                                                     Cases from 2019 Lancet Heamatology publication      \\CIBMTR - Cure Sickle Cell Disease\\1 - Patient...   \n",
       "                                                                     Country of HCT institution                          \\CIBMTR - Cure Sickle Cell Disease\\1 - Patient...   \n",
       "                                                                     Ethnicity                                           \\CIBMTR - Cure Sickle Cell Disease\\1 - Patient...   \n",
       "                                                                     HCT-comorbidity index                               \\CIBMTR - Cure Sickle Cell Disease\\1 - Patient...   \n",
       "...                                                                                                                                                                    ...   \n",
       "                                  5 - CRF data collection track only Type of arrythmia                                   \\CIBMTR - Cure Sickle Cell Disease\\5 - CRF dat...   \n",
       "                                                                     Type of therapy for iron overload                   \\CIBMTR - Cure Sickle Cell Disease\\5 - CRF dat...   \n",
       "                                                                     VOD post-HCT                                        \\CIBMTR - Cure Sickle Cell Disease\\5 - CRF dat...   \n",
       "                                                                     Vaso-occlusive cirsis requiring hospitalization...  \\CIBMTR - Cure Sickle Cell Disease\\5 - CRF dat...   \n",
       "                                                                     Vaso-occlusive pain post HCT                        \\CIBMTR - Cure Sickle Cell Disease\\5 - CRF dat...   \n",
       "\n",
       "                                                                                                                         observationCount  \\\n",
       "level_0                           level_1                            level_2                                                                \n",
       "CIBMTR - Cure Sickle Cell Disease 1 - Patient Related                Cases from 2016 Blood publication                               1517   \n",
       "                                                                     Cases from 2019 Lancet Heamatology publication                  1518   \n",
       "                                                                     Country of HCT institution                                      1518   \n",
       "                                                                     Ethnicity                                                       1518   \n",
       "                                                                     HCT-comorbidity index                                           1518   \n",
       "...                                                                                                                                   ...   \n",
       "                                  5 - CRF data collection track only Type of arrythmia                                                732   \n",
       "                                                                     Type of therapy for iron overload                                732   \n",
       "                                                                     VOD post-HCT                                                     732   \n",
       "                                                                     Vaso-occlusive cirsis requiring hospitalization...               732   \n",
       "                                                                     Vaso-occlusive pain post HCT                                    1518   \n",
       "\n",
       "                                                                                                                         categorical  \\\n",
       "level_0                           level_1                            level_2                                                           \n",
       "CIBMTR - Cure Sickle Cell Disease 1 - Patient Related                Cases from 2016 Blood publication                          True   \n",
       "                                                                     Cases from 2019 Lancet Heamatology publication             True   \n",
       "                                                                     Country of HCT institution                                 True   \n",
       "                                                                     Ethnicity                                                  True   \n",
       "                                                                     HCT-comorbidity index                                      True   \n",
       "...                                                                                                                              ...   \n",
       "                                  5 - CRF data collection track only Type of arrythmia                                          True   \n",
       "                                                                     Type of therapy for iron overload                          True   \n",
       "                                                                     VOD post-HCT                                               True   \n",
       "                                                                     Vaso-occlusive cirsis requiring hospitalization...         True   \n",
       "                                                                     Vaso-occlusive pain post HCT                               True   \n",
       "\n",
       "                                                                                                                                                            categoryValues  \\\n",
       "level_0                           level_1                            level_2                                                                                                 \n",
       "CIBMTR - Cure Sickle Cell Disease 1 - Patient Related                Cases from 2016 Blood publication                                                           [No, Yes]   \n",
       "                                                                     Cases from 2019 Lancet Heamatology publication                                              [No, Yes]   \n",
       "                                                                     Country of HCT institution                                                                      [USA]   \n",
       "                                                                     Ethnicity                                           [Hispanic or Latino, Non-Hispanic or non-Latin...   \n",
       "                                                                     HCT-comorbidity index                                            [0-2, 3+, Not collected before 2008]   \n",
       "...                                                                                                                                                                    ...   \n",
       "                                  5 - CRF data collection track only Type of arrythmia                                   [Atrial fibrillation or flutter, N/A, Sick sin...   \n",
       "                                                                     Type of therapy for iron overload                   [Iron chelation only, N/A, Phlebotomy and iron...   \n",
       "                                                                     VOD post-HCT                                                                                [No, Yes]   \n",
       "                                                                     Vaso-occlusive cirsis requiring hospitalization...                            [No, Not reported, Yes]   \n",
       "                                                                     Vaso-occlusive pain post HCT                                                  [No, Not Reported, Yes]   \n",
       "\n",
       "                                                                                                                         nb_modalities  \\\n",
       "level_0                           level_1                            level_2                                                             \n",
       "CIBMTR - Cure Sickle Cell Disease 1 - Patient Related                Cases from 2016 Blood publication                             2.0   \n",
       "                                                                     Cases from 2019 Lancet Heamatology publication                2.0   \n",
       "                                                                     Country of HCT institution                                    1.0   \n",
       "                                                                     Ethnicity                                                     4.0   \n",
       "                                                                     HCT-comorbidity index                                         3.0   \n",
       "...                                                                                                                                ...   \n",
       "                                  5 - CRF data collection track only Type of arrythmia                                             3.0   \n",
       "                                                                     Type of therapy for iron overload                             4.0   \n",
       "                                                                     VOD post-HCT                                                  2.0   \n",
       "                                                                     Vaso-occlusive cirsis requiring hospitalization...            3.0   \n",
       "                                                                     Vaso-occlusive pain post HCT                                  3.0   \n",
       "\n",
       "                                                                                                                         min  \\\n",
       "level_0                           level_1                            level_2                                                   \n",
       "CIBMTR - Cure Sickle Cell Disease 1 - Patient Related                Cases from 2016 Blood publication                   NaN   \n",
       "                                                                     Cases from 2019 Lancet Heamatology publication      NaN   \n",
       "                                                                     Country of HCT institution                          NaN   \n",
       "                                                                     Ethnicity                                           NaN   \n",
       "                                                                     HCT-comorbidity index                               NaN   \n",
       "...                                                                                                                      ...   \n",
       "                                  5 - CRF data collection track only Type of arrythmia                                   NaN   \n",
       "                                                                     Type of therapy for iron overload                   NaN   \n",
       "                                                                     VOD post-HCT                                        NaN   \n",
       "                                                                     Vaso-occlusive cirsis requiring hospitalization...  NaN   \n",
       "                                                                     Vaso-occlusive pain post HCT                        NaN   \n",
       "\n",
       "                                                                                                                         max  \\\n",
       "level_0                           level_1                            level_2                                                   \n",
       "CIBMTR - Cure Sickle Cell Disease 1 - Patient Related                Cases from 2016 Blood publication                   NaN   \n",
       "                                                                     Cases from 2019 Lancet Heamatology publication      NaN   \n",
       "                                                                     Country of HCT institution                          NaN   \n",
       "                                                                     Ethnicity                                           NaN   \n",
       "                                                                     HCT-comorbidity index                               NaN   \n",
       "...                                                                                                                      ...   \n",
       "                                  5 - CRF data collection track only Type of arrythmia                                   NaN   \n",
       "                                                                     Type of therapy for iron overload                   NaN   \n",
       "                                                                     VOD post-HCT                                        NaN   \n",
       "                                                                     Vaso-occlusive cirsis requiring hospitalization...  NaN   \n",
       "                                                                     Vaso-occlusive pain post HCT                        NaN   \n",
       "\n",
       "                                                                                                                        HpdsDataType  \n",
       "level_0                           level_1                            level_2                                                          \n",
       "CIBMTR - Cure Sickle Cell Disease 1 - Patient Related                Cases from 2016 Blood publication                    phenotypes  \n",
       "                                                                     Cases from 2019 Lancet Heamatology publication       phenotypes  \n",
       "                                                                     Country of HCT institution                           phenotypes  \n",
       "                                                                     Ethnicity                                            phenotypes  \n",
       "                                                                     HCT-comorbidity index                                phenotypes  \n",
       "...                                                                                                                              ...  \n",
       "                                  5 - CRF data collection track only Type of arrythmia                                    phenotypes  \n",
       "                                                                     Type of therapy for iron overload                    phenotypes  \n",
       "                                                                     VOD post-HCT                                         phenotypes  \n",
       "                                                                     Vaso-occlusive cirsis requiring hospitalization...   phenotypes  \n",
       "                                                                     Vaso-occlusive pain post HCT                         phenotypes  \n",
       "\n",
       "[154 rows x 9 columns]"
      ]
     },
     "execution_count": 21,
     "metadata": {},
     "output_type": "execute_result"
    }
   ],
   "source": [
    "variablesDict.loc[[\"CIBMTR - Cure Sickle Cell Disease\"],:]"
   ]
  },
  {
   "cell_type": "code",
   "execution_count": 22,
   "metadata": {},
   "outputs": [],
   "source": [
    "# Limit the number of lines to be displayed for the future outputs\n",
    "pd.set_option(\"max.rows\", 50)"
   ]
  },
  {
   "cell_type": "markdown",
   "metadata": {},
   "source": [
    "Below is a simple example to illustrate the ease of use a multiIndex dictionary. Let's say we are interested in the variable called \"5 - CRF data collection track only\"."
   ]
  },
  {
   "cell_type": "code",
   "execution_count": 23,
   "metadata": {},
   "outputs": [
    {
     "data": {
      "text/html": [
       "<div>\n",
       "<style scoped>\n",
       "    .dataframe tbody tr th:only-of-type {\n",
       "        vertical-align: middle;\n",
       "    }\n",
       "\n",
       "    .dataframe tbody tr th {\n",
       "        vertical-align: top;\n",
       "    }\n",
       "\n",
       "    .dataframe thead th {\n",
       "        text-align: right;\n",
       "    }\n",
       "</style>\n",
       "<table border=\"1\" class=\"dataframe\">\n",
       "  <thead>\n",
       "    <tr style=\"text-align: right;\">\n",
       "      <th></th>\n",
       "      <th></th>\n",
       "      <th></th>\n",
       "      <th>simplified_name</th>\n",
       "      <th>name</th>\n",
       "      <th>observationCount</th>\n",
       "      <th>categorical</th>\n",
       "      <th>categoryValues</th>\n",
       "      <th>nb_modalities</th>\n",
       "      <th>min</th>\n",
       "      <th>max</th>\n",
       "      <th>HpdsDataType</th>\n",
       "    </tr>\n",
       "    <tr>\n",
       "      <th>level_0</th>\n",
       "      <th>level_1</th>\n",
       "      <th>level_2</th>\n",
       "      <th></th>\n",
       "      <th></th>\n",
       "      <th></th>\n",
       "      <th></th>\n",
       "      <th></th>\n",
       "      <th></th>\n",
       "      <th></th>\n",
       "      <th></th>\n",
       "      <th></th>\n",
       "    </tr>\n",
       "  </thead>\n",
       "  <tbody>\n",
       "    <tr>\n",
       "      <th rowspan=\"11\" valign=\"top\">CIBMTR - Cure Sickle Cell Disease</th>\n",
       "      <th rowspan=\"11\" valign=\"top\">5 - CRF data collection track only</th>\n",
       "      <th>Acute chest syndrome (ACS) pre-conditioning</th>\n",
       "      <td>Acute chest syndrome (ACS) pre-conditioning</td>\n",
       "      <td>\\CIBMTR - Cure Sickle Cell Disease\\5 - CRF dat...</td>\n",
       "      <td>732</td>\n",
       "      <td>True</td>\n",
       "      <td>[No, Not reported, Yes]</td>\n",
       "      <td>3.0</td>\n",
       "      <td>NaN</td>\n",
       "      <td>NaN</td>\n",
       "      <td>phenotypes</td>\n",
       "    </tr>\n",
       "    <tr>\n",
       "      <th>Acute chest syndrome post HCT</th>\n",
       "      <td>Acute chest syndrome post HCT</td>\n",
       "      <td>\\CIBMTR - Cure Sickle Cell Disease\\5 - CRF dat...</td>\n",
       "      <td>1518</td>\n",
       "      <td>True</td>\n",
       "      <td>[No, Not Reported, Yes]</td>\n",
       "      <td>3.0</td>\n",
       "      <td>NaN</td>\n",
       "      <td>NaN</td>\n",
       "      <td>phenotypes</td>\n",
       "    </tr>\n",
       "    <tr>\n",
       "      <th>Acute renal failure requiring dialysis</th>\n",
       "      <td>Acute renal failure requiring dialysis</td>\n",
       "      <td>\\CIBMTR - Cure Sickle Cell Disease\\5 - CRF dat...</td>\n",
       "      <td>732</td>\n",
       "      <td>True</td>\n",
       "      <td>[No, Not reported, Yes]</td>\n",
       "      <td>3.0</td>\n",
       "      <td>NaN</td>\n",
       "      <td>NaN</td>\n",
       "      <td>phenotypes</td>\n",
       "    </tr>\n",
       "    <tr>\n",
       "      <th>Anxiety requiring therapy</th>\n",
       "      <td>Anxiety requiring therapy</td>\n",
       "      <td>\\CIBMTR - Cure Sickle Cell Disease\\5 - CRF dat...</td>\n",
       "      <td>732</td>\n",
       "      <td>True</td>\n",
       "      <td>[No, Not reported, Yes]</td>\n",
       "      <td>3.0</td>\n",
       "      <td>NaN</td>\n",
       "      <td>NaN</td>\n",
       "      <td>phenotypes</td>\n",
       "    </tr>\n",
       "    <tr>\n",
       "      <th>Arrhythmia</th>\n",
       "      <td>Arrhythmia</td>\n",
       "      <td>\\CIBMTR - Cure Sickle Cell Disease\\5 - CRF dat...</td>\n",
       "      <td>732</td>\n",
       "      <td>True</td>\n",
       "      <td>[No, Not reported, Yes]</td>\n",
       "      <td>3.0</td>\n",
       "      <td>NaN</td>\n",
       "      <td>NaN</td>\n",
       "      <td>phenotypes</td>\n",
       "    </tr>\n",
       "    <tr>\n",
       "      <th>...</th>\n",
       "      <td>...</td>\n",
       "      <td>...</td>\n",
       "      <td>...</td>\n",
       "      <td>...</td>\n",
       "      <td>...</td>\n",
       "      <td>...</td>\n",
       "      <td>...</td>\n",
       "      <td>...</td>\n",
       "      <td>...</td>\n",
       "    </tr>\n",
       "    <tr>\n",
       "      <th>Type of arrythmia</th>\n",
       "      <td>Type of arrythmia</td>\n",
       "      <td>\\CIBMTR - Cure Sickle Cell Disease\\5 - CRF dat...</td>\n",
       "      <td>732</td>\n",
       "      <td>True</td>\n",
       "      <td>[Atrial fibrillation or flutter, N/A, Sick sin...</td>\n",
       "      <td>3.0</td>\n",
       "      <td>NaN</td>\n",
       "      <td>NaN</td>\n",
       "      <td>phenotypes</td>\n",
       "    </tr>\n",
       "    <tr>\n",
       "      <th>Type of therapy for iron overload</th>\n",
       "      <td>Type of therapy for iron overload</td>\n",
       "      <td>\\CIBMTR - Cure Sickle Cell Disease\\5 - CRF dat...</td>\n",
       "      <td>732</td>\n",
       "      <td>True</td>\n",
       "      <td>[Iron chelation only, N/A, Phlebotomy and iron...</td>\n",
       "      <td>4.0</td>\n",
       "      <td>NaN</td>\n",
       "      <td>NaN</td>\n",
       "      <td>phenotypes</td>\n",
       "    </tr>\n",
       "    <tr>\n",
       "      <th>VOD post-HCT</th>\n",
       "      <td>VOD post-HCT</td>\n",
       "      <td>\\CIBMTR - Cure Sickle Cell Disease\\5 - CRF dat...</td>\n",
       "      <td>732</td>\n",
       "      <td>True</td>\n",
       "      <td>[No, Yes]</td>\n",
       "      <td>2.0</td>\n",
       "      <td>NaN</td>\n",
       "      <td>NaN</td>\n",
       "      <td>phenotypes</td>\n",
       "    </tr>\n",
       "    <tr>\n",
       "      <th>Vaso-occlusive cirsis requiring hospitalization within 2 years pre-HCT</th>\n",
       "      <td>Vaso-occlusive cirsis requiring hospitalizatio...</td>\n",
       "      <td>\\CIBMTR - Cure Sickle Cell Disease\\5 - CRF dat...</td>\n",
       "      <td>732</td>\n",
       "      <td>True</td>\n",
       "      <td>[No, Not reported, Yes]</td>\n",
       "      <td>3.0</td>\n",
       "      <td>NaN</td>\n",
       "      <td>NaN</td>\n",
       "      <td>phenotypes</td>\n",
       "    </tr>\n",
       "    <tr>\n",
       "      <th>Vaso-occlusive pain post HCT</th>\n",
       "      <td>Vaso-occlusive pain post HCT</td>\n",
       "      <td>\\CIBMTR - Cure Sickle Cell Disease\\5 - CRF dat...</td>\n",
       "      <td>1518</td>\n",
       "      <td>True</td>\n",
       "      <td>[No, Not Reported, Yes]</td>\n",
       "      <td>3.0</td>\n",
       "      <td>NaN</td>\n",
       "      <td>NaN</td>\n",
       "      <td>phenotypes</td>\n",
       "    </tr>\n",
       "  </tbody>\n",
       "</table>\n",
       "<p>111 rows × 9 columns</p>\n",
       "</div>"
      ],
      "text/plain": [
       "                                                                                                                                                           simplified_name  \\\n",
       "level_0                           level_1                            level_2                                                                                                 \n",
       "CIBMTR - Cure Sickle Cell Disease 5 - CRF data collection track only Acute chest syndrome (ACS) pre-conditioning               Acute chest syndrome (ACS) pre-conditioning   \n",
       "                                                                     Acute chest syndrome post HCT                                           Acute chest syndrome post HCT   \n",
       "                                                                     Acute renal failure requiring dialysis                         Acute renal failure requiring dialysis   \n",
       "                                                                     Anxiety requiring therapy                                                   Anxiety requiring therapy   \n",
       "                                                                     Arrhythmia                                                                                 Arrhythmia   \n",
       "...                                                                                                                                                                    ...   \n",
       "                                                                     Type of arrythmia                                                                   Type of arrythmia   \n",
       "                                                                     Type of therapy for iron overload                                   Type of therapy for iron overload   \n",
       "                                                                     VOD post-HCT                                                                             VOD post-HCT   \n",
       "                                                                     Vaso-occlusive cirsis requiring hospitalization...  Vaso-occlusive cirsis requiring hospitalizatio...   \n",
       "                                                                     Vaso-occlusive pain post HCT                                             Vaso-occlusive pain post HCT   \n",
       "\n",
       "                                                                                                                                                                      name  \\\n",
       "level_0                           level_1                            level_2                                                                                                 \n",
       "CIBMTR - Cure Sickle Cell Disease 5 - CRF data collection track only Acute chest syndrome (ACS) pre-conditioning         \\CIBMTR - Cure Sickle Cell Disease\\5 - CRF dat...   \n",
       "                                                                     Acute chest syndrome post HCT                       \\CIBMTR - Cure Sickle Cell Disease\\5 - CRF dat...   \n",
       "                                                                     Acute renal failure requiring dialysis              \\CIBMTR - Cure Sickle Cell Disease\\5 - CRF dat...   \n",
       "                                                                     Anxiety requiring therapy                           \\CIBMTR - Cure Sickle Cell Disease\\5 - CRF dat...   \n",
       "                                                                     Arrhythmia                                          \\CIBMTR - Cure Sickle Cell Disease\\5 - CRF dat...   \n",
       "...                                                                                                                                                                    ...   \n",
       "                                                                     Type of arrythmia                                   \\CIBMTR - Cure Sickle Cell Disease\\5 - CRF dat...   \n",
       "                                                                     Type of therapy for iron overload                   \\CIBMTR - Cure Sickle Cell Disease\\5 - CRF dat...   \n",
       "                                                                     VOD post-HCT                                        \\CIBMTR - Cure Sickle Cell Disease\\5 - CRF dat...   \n",
       "                                                                     Vaso-occlusive cirsis requiring hospitalization...  \\CIBMTR - Cure Sickle Cell Disease\\5 - CRF dat...   \n",
       "                                                                     Vaso-occlusive pain post HCT                        \\CIBMTR - Cure Sickle Cell Disease\\5 - CRF dat...   \n",
       "\n",
       "                                                                                                                         observationCount  \\\n",
       "level_0                           level_1                            level_2                                                                \n",
       "CIBMTR - Cure Sickle Cell Disease 5 - CRF data collection track only Acute chest syndrome (ACS) pre-conditioning                      732   \n",
       "                                                                     Acute chest syndrome post HCT                                   1518   \n",
       "                                                                     Acute renal failure requiring dialysis                           732   \n",
       "                                                                     Anxiety requiring therapy                                        732   \n",
       "                                                                     Arrhythmia                                                       732   \n",
       "...                                                                                                                                   ...   \n",
       "                                                                     Type of arrythmia                                                732   \n",
       "                                                                     Type of therapy for iron overload                                732   \n",
       "                                                                     VOD post-HCT                                                     732   \n",
       "                                                                     Vaso-occlusive cirsis requiring hospitalization...               732   \n",
       "                                                                     Vaso-occlusive pain post HCT                                    1518   \n",
       "\n",
       "                                                                                                                         categorical  \\\n",
       "level_0                           level_1                            level_2                                                           \n",
       "CIBMTR - Cure Sickle Cell Disease 5 - CRF data collection track only Acute chest syndrome (ACS) pre-conditioning                True   \n",
       "                                                                     Acute chest syndrome post HCT                              True   \n",
       "                                                                     Acute renal failure requiring dialysis                     True   \n",
       "                                                                     Anxiety requiring therapy                                  True   \n",
       "                                                                     Arrhythmia                                                 True   \n",
       "...                                                                                                                              ...   \n",
       "                                                                     Type of arrythmia                                          True   \n",
       "                                                                     Type of therapy for iron overload                          True   \n",
       "                                                                     VOD post-HCT                                               True   \n",
       "                                                                     Vaso-occlusive cirsis requiring hospitalization...         True   \n",
       "                                                                     Vaso-occlusive pain post HCT                               True   \n",
       "\n",
       "                                                                                                                                                            categoryValues  \\\n",
       "level_0                           level_1                            level_2                                                                                                 \n",
       "CIBMTR - Cure Sickle Cell Disease 5 - CRF data collection track only Acute chest syndrome (ACS) pre-conditioning                                   [No, Not reported, Yes]   \n",
       "                                                                     Acute chest syndrome post HCT                                                 [No, Not Reported, Yes]   \n",
       "                                                                     Acute renal failure requiring dialysis                                        [No, Not reported, Yes]   \n",
       "                                                                     Anxiety requiring therapy                                                     [No, Not reported, Yes]   \n",
       "                                                                     Arrhythmia                                                                    [No, Not reported, Yes]   \n",
       "...                                                                                                                                                                    ...   \n",
       "                                                                     Type of arrythmia                                   [Atrial fibrillation or flutter, N/A, Sick sin...   \n",
       "                                                                     Type of therapy for iron overload                   [Iron chelation only, N/A, Phlebotomy and iron...   \n",
       "                                                                     VOD post-HCT                                                                                [No, Yes]   \n",
       "                                                                     Vaso-occlusive cirsis requiring hospitalization...                            [No, Not reported, Yes]   \n",
       "                                                                     Vaso-occlusive pain post HCT                                                  [No, Not Reported, Yes]   \n",
       "\n",
       "                                                                                                                         nb_modalities  \\\n",
       "level_0                           level_1                            level_2                                                             \n",
       "CIBMTR - Cure Sickle Cell Disease 5 - CRF data collection track only Acute chest syndrome (ACS) pre-conditioning                   3.0   \n",
       "                                                                     Acute chest syndrome post HCT                                 3.0   \n",
       "                                                                     Acute renal failure requiring dialysis                        3.0   \n",
       "                                                                     Anxiety requiring therapy                                     3.0   \n",
       "                                                                     Arrhythmia                                                    3.0   \n",
       "...                                                                                                                                ...   \n",
       "                                                                     Type of arrythmia                                             3.0   \n",
       "                                                                     Type of therapy for iron overload                             4.0   \n",
       "                                                                     VOD post-HCT                                                  2.0   \n",
       "                                                                     Vaso-occlusive cirsis requiring hospitalization...            3.0   \n",
       "                                                                     Vaso-occlusive pain post HCT                                  3.0   \n",
       "\n",
       "                                                                                                                         min  \\\n",
       "level_0                           level_1                            level_2                                                   \n",
       "CIBMTR - Cure Sickle Cell Disease 5 - CRF data collection track only Acute chest syndrome (ACS) pre-conditioning         NaN   \n",
       "                                                                     Acute chest syndrome post HCT                       NaN   \n",
       "                                                                     Acute renal failure requiring dialysis              NaN   \n",
       "                                                                     Anxiety requiring therapy                           NaN   \n",
       "                                                                     Arrhythmia                                          NaN   \n",
       "...                                                                                                                      ...   \n",
       "                                                                     Type of arrythmia                                   NaN   \n",
       "                                                                     Type of therapy for iron overload                   NaN   \n",
       "                                                                     VOD post-HCT                                        NaN   \n",
       "                                                                     Vaso-occlusive cirsis requiring hospitalization...  NaN   \n",
       "                                                                     Vaso-occlusive pain post HCT                        NaN   \n",
       "\n",
       "                                                                                                                         max  \\\n",
       "level_0                           level_1                            level_2                                                   \n",
       "CIBMTR - Cure Sickle Cell Disease 5 - CRF data collection track only Acute chest syndrome (ACS) pre-conditioning         NaN   \n",
       "                                                                     Acute chest syndrome post HCT                       NaN   \n",
       "                                                                     Acute renal failure requiring dialysis              NaN   \n",
       "                                                                     Anxiety requiring therapy                           NaN   \n",
       "                                                                     Arrhythmia                                          NaN   \n",
       "...                                                                                                                      ...   \n",
       "                                                                     Type of arrythmia                                   NaN   \n",
       "                                                                     Type of therapy for iron overload                   NaN   \n",
       "                                                                     VOD post-HCT                                        NaN   \n",
       "                                                                     Vaso-occlusive cirsis requiring hospitalization...  NaN   \n",
       "                                                                     Vaso-occlusive pain post HCT                        NaN   \n",
       "\n",
       "                                                                                                                        HpdsDataType  \n",
       "level_0                           level_1                            level_2                                                          \n",
       "CIBMTR - Cure Sickle Cell Disease 5 - CRF data collection track only Acute chest syndrome (ACS) pre-conditioning          phenotypes  \n",
       "                                                                     Acute chest syndrome post HCT                        phenotypes  \n",
       "                                                                     Acute renal failure requiring dialysis               phenotypes  \n",
       "                                                                     Anxiety requiring therapy                            phenotypes  \n",
       "                                                                     Arrhythmia                                           phenotypes  \n",
       "...                                                                                                                              ...  \n",
       "                                                                     Type of arrythmia                                    phenotypes  \n",
       "                                                                     Type of therapy for iron overload                    phenotypes  \n",
       "                                                                     VOD post-HCT                                         phenotypes  \n",
       "                                                                     Vaso-occlusive cirsis requiring hospitalization...   phenotypes  \n",
       "                                                                     Vaso-occlusive pain post HCT                         phenotypes  \n",
       "\n",
       "[111 rows x 9 columns]"
      ]
     },
     "execution_count": 23,
     "metadata": {},
     "output_type": "execute_result"
    }
   ],
   "source": [
    "mask_study = variablesDict.index.get_level_values(0) == \"CIBMTR - Cure Sickle Cell Disease\"\n",
    "mask_dctrack = variablesDict.index.get_level_values(1) == \"5 - CRF data collection track only\"\n",
    "dctrack_variables = variablesDict.loc[mask_study & mask_dctrack,:]\n",
    "dctrack_variables"
   ]
  },
  {
   "cell_type": "markdown",
   "metadata": {},
   "source": [
    "This simple filter can be easily combined with other filters to quickly select variables of interest."
   ]
  },
  {
   "cell_type": "markdown",
   "metadata": {},
   "source": [
    "## Querying and retrieving data"
   ]
  },
  {
   "cell_type": "markdown",
   "metadata": {},
   "source": [
    "The second cornerstone of the API is the `query` object, which is how we retrieve data from the resource."
   ]
  },
  {
   "cell_type": "markdown",
   "metadata": {},
   "source": [
    "The query object has several methods that enable us to build a query:"
   ]
  },
  {
   "cell_type": "markdown",
   "metadata": {},
   "source": [
    "| Method | Arguments / Input | Output|\n",
    "|--------|-------------------|-------|\n",
    "| query.select.add() | variable names (string) or list of strings | all variables included in the list (no record subsetting)|\n",
    "| query.require.add() | variable names (string) or list of strings | all variables; only records that do not contain null values for input variables |\n",
    "| query.anyof.add() | variable names (string) or list of strings | all variables; only records that contain at least one non-null value for input variables |\n",
    "| query.filter.add() | variable name and additional filtering values | input variable; only records that match filter criteria |"
   ]
  },
  {
   "cell_type": "markdown",
   "metadata": {},
   "source": [
    "All 4 methods can be combined when building a query. The record eventually returned by the query has to meet all the different specified filters."
   ]
  },
  {
   "cell_type": "markdown",
   "metadata": {},
   "source": [
    "### Building the query"
   ]
  },
  {
   "cell_type": "markdown",
   "metadata": {},
   "source": [
    "Let's say we want to select a cohort consisting of males with avascular necrosis from the CIBMTR - Cure Sickle Cell Disease study. \n",
    "\n",
    "First, we need to get the variables from the study of interest. We can do this by searching for the study name in the `level_0` column of the multiIndexed dictionary and saving the resulting variable from the `name` column."
   ]
  },
  {
   "cell_type": "code",
   "execution_count": 24,
   "metadata": {},
   "outputs": [],
   "source": [
    "# Selecting all variables from \"CIBMTR\" study\n",
    "mask_study = variablesDict.index.get_level_values(0) == \"CIBMTR - Cure Sickle Cell Disease\"\n",
    "varnames = variablesDict.loc[mask_study, \"name\"]"
   ]
  },
  {
   "cell_type": "markdown",
   "metadata": {},
   "source": [
    "Now we will find variables pertaining to sex and avascular necrosis. We can do this by searching for \"Sex\" and \"Avascular necrosis\" in the `simplified_name` column of the multiIndexed dictionary."
   ]
  },
  {
   "cell_type": "code",
   "execution_count": 25,
   "metadata": {},
   "outputs": [],
   "source": [
    "sex_var = variablesDict.loc[variablesDict[\"simplified_name\"] == \"Sex\", \"name\"].values[0]\n",
    "\n",
    "avascular_necrosis_varname = variablesDict.loc[variablesDict[\"simplified_name\"] == \"Avascular necrosis\", \"name\"].values[0]\n"
   ]
  },
  {
   "cell_type": "code",
   "execution_count": 26,
   "metadata": {},
   "outputs": [
    {
     "data": {
      "text/plain": [
       "level_0                            level_1                             level_2           \n",
       "CIBMTR - Cure Sickle Cell Disease  5 - CRF data collection track only  Avascular necrosis    \\CIBMTR - Cure Sickle Cell Disease\\5 - CRF dat...\n",
       "Name: name, dtype: object"
      ]
     },
     "execution_count": 26,
     "metadata": {},
     "output_type": "execute_result"
    }
   ],
   "source": [
    "variablesDict.loc[variablesDict[\"simplified_name\"] == \"Avascular necrosis\", \"name\"] # Peek at the results for avascular necrosis"
   ]
  },
  {
   "cell_type": "markdown",
   "metadata": {},
   "source": [
    "Now we can create a new query and apply our filters to get the data."
   ]
  },
  {
   "cell_type": "code",
   "execution_count": 27,
   "metadata": {},
   "outputs": [
    {
     "data": {
      "text/plain": [
       "<PicSureHpdsLib.PicSureHpdsAttrListKeyValues.AttrListKeyValues at 0x7fd7345e3fd0>"
      ]
     },
     "execution_count": 27,
     "metadata": {},
     "output_type": "execute_result"
    }
   ],
   "source": [
    "my_query = resource.query()\n",
    "my_query.select().add(avascular_necrosis_varname)\n",
    "my_query.filter().add(avascular_necrosis_varname, \"Yes\")"
   ]
  },
  {
   "cell_type": "code",
   "execution_count": 28,
   "metadata": {},
   "outputs": [
    {
     "data": {
      "text/plain": [
       "<PicSureHpdsLib.PicSureHpdsAttrListKeyValues.AttrListKeyValues at 0x7fd7345e3fd0>"
      ]
     },
     "execution_count": 28,
     "metadata": {},
     "output_type": "execute_result"
    }
   ],
   "source": [
    "my_query.select().add(sex_var)\n",
    "my_query.filter().add(sex_var, \"Male\")"
   ]
  },
  {
   "cell_type": "markdown",
   "metadata": {},
   "source": [
    "## Retrieving the data"
   ]
  },
  {
   "cell_type": "markdown",
   "metadata": {},
   "source": [
    "Once our query object is finally built, we use the `query.run()` function to retrieve the data corresponding to our query"
   ]
  },
  {
   "cell_type": "code",
   "execution_count": 29,
   "metadata": {},
   "outputs": [],
   "source": [
    "query_df = my_query.getResultsDataFrame().set_index(\"Patient ID\")"
   ]
  },
  {
   "cell_type": "code",
   "execution_count": 30,
   "metadata": {},
   "outputs": [
    {
     "data": {
      "text/html": [
       "<div>\n",
       "<style scoped>\n",
       "    .dataframe tbody tr th:only-of-type {\n",
       "        vertical-align: middle;\n",
       "    }\n",
       "\n",
       "    .dataframe tbody tr th {\n",
       "        vertical-align: top;\n",
       "    }\n",
       "\n",
       "    .dataframe thead th {\n",
       "        text-align: right;\n",
       "    }\n",
       "</style>\n",
       "<table border=\"1\" class=\"dataframe\">\n",
       "  <thead>\n",
       "    <tr style=\"text-align: right;\">\n",
       "      <th></th>\n",
       "      <th>\\CIBMTR - Cure Sickle Cell Disease\\1 - Patient Related\\Sex\\</th>\n",
       "      <th>\\CIBMTR - Cure Sickle Cell Disease\\5 - CRF data collection track only\\Avascular necrosis\\</th>\n",
       "    </tr>\n",
       "    <tr>\n",
       "      <th>Patient ID</th>\n",
       "      <th></th>\n",
       "      <th></th>\n",
       "    </tr>\n",
       "  </thead>\n",
       "  <tbody>\n",
       "    <tr>\n",
       "      <th>42</th>\n",
       "      <td>Male</td>\n",
       "      <td>Yes</td>\n",
       "    </tr>\n",
       "    <tr>\n",
       "      <th>295</th>\n",
       "      <td>Male</td>\n",
       "      <td>Yes</td>\n",
       "    </tr>\n",
       "    <tr>\n",
       "      <th>336</th>\n",
       "      <td>Male</td>\n",
       "      <td>Yes</td>\n",
       "    </tr>\n",
       "    <tr>\n",
       "      <th>612</th>\n",
       "      <td>Male</td>\n",
       "      <td>Yes</td>\n",
       "    </tr>\n",
       "    <tr>\n",
       "      <th>725</th>\n",
       "      <td>Male</td>\n",
       "      <td>Yes</td>\n",
       "    </tr>\n",
       "    <tr>\n",
       "      <th>752</th>\n",
       "      <td>Male</td>\n",
       "      <td>Yes</td>\n",
       "    </tr>\n",
       "    <tr>\n",
       "      <th>766</th>\n",
       "      <td>Male</td>\n",
       "      <td>Yes</td>\n",
       "    </tr>\n",
       "    <tr>\n",
       "      <th>772</th>\n",
       "      <td>Male</td>\n",
       "      <td>Yes</td>\n",
       "    </tr>\n",
       "    <tr>\n",
       "      <th>895</th>\n",
       "      <td>Male</td>\n",
       "      <td>Yes</td>\n",
       "    </tr>\n",
       "    <tr>\n",
       "      <th>966</th>\n",
       "      <td>Male</td>\n",
       "      <td>Yes</td>\n",
       "    </tr>\n",
       "    <tr>\n",
       "      <th>1008</th>\n",
       "      <td>Male</td>\n",
       "      <td>Yes</td>\n",
       "    </tr>\n",
       "    <tr>\n",
       "      <th>1127</th>\n",
       "      <td>Male</td>\n",
       "      <td>Yes</td>\n",
       "    </tr>\n",
       "    <tr>\n",
       "      <th>1138</th>\n",
       "      <td>Male</td>\n",
       "      <td>Yes</td>\n",
       "    </tr>\n",
       "    <tr>\n",
       "      <th>1287</th>\n",
       "      <td>Male</td>\n",
       "      <td>Yes</td>\n",
       "    </tr>\n",
       "    <tr>\n",
       "      <th>1373</th>\n",
       "      <td>Male</td>\n",
       "      <td>Yes</td>\n",
       "    </tr>\n",
       "    <tr>\n",
       "      <th>1385</th>\n",
       "      <td>Male</td>\n",
       "      <td>Yes</td>\n",
       "    </tr>\n",
       "  </tbody>\n",
       "</table>\n",
       "</div>"
      ],
      "text/plain": [
       "           \\CIBMTR - Cure Sickle Cell Disease\\1 - Patient Related\\Sex\\  \\\n",
       "Patient ID                                                               \n",
       "42                                                       Male            \n",
       "295                                                      Male            \n",
       "336                                                      Male            \n",
       "612                                                      Male            \n",
       "725                                                      Male            \n",
       "752                                                      Male            \n",
       "766                                                      Male            \n",
       "772                                                      Male            \n",
       "895                                                      Male            \n",
       "966                                                      Male            \n",
       "1008                                                     Male            \n",
       "1127                                                     Male            \n",
       "1138                                                     Male            \n",
       "1287                                                     Male            \n",
       "1373                                                     Male            \n",
       "1385                                                     Male            \n",
       "\n",
       "           \\CIBMTR - Cure Sickle Cell Disease\\5 - CRF data collection track only\\Avascular necrosis\\  \n",
       "Patient ID                                                                                            \n",
       "42                                                        Yes                                         \n",
       "295                                                       Yes                                         \n",
       "336                                                       Yes                                         \n",
       "612                                                       Yes                                         \n",
       "725                                                       Yes                                         \n",
       "752                                                       Yes                                         \n",
       "766                                                       Yes                                         \n",
       "772                                                       Yes                                         \n",
       "895                                                       Yes                                         \n",
       "966                                                       Yes                                         \n",
       "1008                                                      Yes                                         \n",
       "1127                                                      Yes                                         \n",
       "1138                                                      Yes                                         \n",
       "1287                                                      Yes                                         \n",
       "1373                                                      Yes                                         \n",
       "1385                                                      Yes                                         "
      ]
     },
     "execution_count": 30,
     "metadata": {},
     "output_type": "execute_result"
    }
   ],
   "source": [
    "query_df"
   ]
  }
 ],
 "metadata": {
  "kernelspec": {
   "display_name": "conda_python3",
   "language": "python",
   "name": "conda_python3"
  },
  "language_info": {
   "codemirror_mode": {
    "name": "ipython",
    "version": 3
   },
   "file_extension": ".py",
   "mimetype": "text/x-python",
   "name": "python",
   "nbconvert_exporter": "python",
   "pygments_lexer": "ipython3",
   "version": "3.6.13"
  },
  "pycharm": {
   "stem_cell": {
    "cell_type": "raw",
    "metadata": {
     "collapsed": false
    },
    "source": []
   }
  }
 },
 "nbformat": 4,
 "nbformat_minor": 4
}
