{
 "cells": [
  {
   "cell_type": "markdown",
   "metadata": {},
   "source": [
    "# PIC-SURE API use-case: quick analysis on CIBMTR data"
   ]
  },
  {
   "cell_type": "markdown",
   "metadata": {},
   "source": [
    "This is a tutorial notebook aimed to get the user quickly up and running with the R PIC-SURE API. It covers the main functionalities of the API."
   ]
  },
  {
   "cell_type": "markdown",
   "metadata": {},
   "source": [
    "## PIC-SURE R API\n",
    "### What is PIC-SURE?\n",
    "\n",
    "As part of the BioData Catalyst initiative, the Patient Information Commons Standard Unification of Research Elements (PIC-SURE) platform has been integrating clinical and genomic datasets from multiple TOPMed and TOPMed related studies funded by the National Heart Lung and Blood Institute (NHLBI).\n",
    "\n",
    "Original data exposed through the PIC-SURE API encompasses a large heterogeneity of data organization underneath. PIC-SURE hides this complexity and exposes the different study datasets in a single tabular format. By simplifying the process of data extraction, it allows investigators to focus on the downstream analyses and to facilitate reproducible sciences.\n",
    "\n",
    "\n",
    "### More about PIC-SURE\n",
    "The API is available in two different programming languages, python and R, enabling investigators to query the databases the same way using either language.\n",
    "\n",
    "\n",
    "PIC-SURE is a larger project from which the R/python PIC-SURE API is only a brick. Among other things, PIC-SURE also offers a graphical user interface that allows researchers to explore variables across multiple studies, filter patients that match criteria, and create cohorts from this interactive exploration.\n",
    "\n",
    "The R API is actively developed by the Avillach Lab at Harvard Medical School.\n",
    "\n",
    "PIC-SURE API GitHub repo:\n",
    "* https://github.com/hms-dbmi/pic-sure-r-adapter-hpds\n",
    "* https://github.com/hms-dbmi/pic-sure-r-client\n",
    "* https://github.com/hms-dbmi/pic-sure-biodatacatalyst-r-adapter-hpds\n",
    "\n",
    "\n"
   ]
  },
  {
   "cell_type": "markdown",
   "metadata": {},
   "source": [
    " -------   "
   ]
  },
  {
   "cell_type": "markdown",
   "metadata": {},
   "source": [
    "# Getting your own user-specific security token"
   ]
  },
  {
   "cell_type": "markdown",
   "metadata": {},
   "source": [
    "**Before running this notebook, please be sure to review the \"Get your security token\" documentation, which exists in the NHLBI_BioData_Catalyst [README.md file](https://github.com/hms-dbmi/Access-to-Data-using-PIC-SURE-API/tree/master/NHLBI_BioData_Catalyst#get-your-security-token). It explains about how to get a security token, which is mandatory to access the databases.**"
   ]
  },
  {
   "cell_type": "markdown",
   "metadata": {},
   "source": [
    "# Environment set-up"
   ]
  },
  {
   "cell_type": "markdown",
   "metadata": {},
   "source": [
    "### Pre-requisites\n",
    "- R 3.4 or later"
   ]
  },
  {
   "cell_type": "markdown",
   "metadata": {},
   "source": [
    "### Install packages"
   ]
  },
  {
   "cell_type": "markdown",
   "metadata": {},
   "source": [
    "Install the following:\n",
    "- packages listed in the `requirements.R` file\n",
    "- PIC-SURE API components (from Github)\n",
    "    - PIC-SURE Adapter\n",
    "    - PIC-SURE Client"
   ]
  },
  {
   "cell_type": "code",
   "execution_count": 1,
   "metadata": {
    "scrolled": true
   },
   "outputs": [
    {
     "name": "stderr",
     "output_type": "stream",
     "text": [
      "Updating HTML index of packages in '.Library'\n",
      "\n",
      "Making 'packages.html' ...\n",
      " done\n",
      "\n",
      "also installing the dependencies ‘credentials’, ‘zip’, ‘gitcreds’, ‘ini’, ‘gert’, ‘gh’, ‘whisker’\n",
      "\n",
      "\n",
      "Updating HTML index of packages in '.Library'\n",
      "\n",
      "Making 'packages.html' ...\n",
      " done\n",
      "\n",
      "Updating HTML index of packages in '.Library'\n",
      "\n",
      "Making 'packages.html' ...\n",
      " done\n",
      "\n"
     ]
    },
    {
     "name": "stdout",
     "output_type": "stream",
     "text": [
      "installing: \n",
      "-  ggplot2 \n",
      "-  dplyr \n",
      "-  tidyr \n",
      "-  urltools \n",
      "-  devtools \n",
      "-  ggrepel \n"
     ]
    },
    {
     "name": "stderr",
     "output_type": "stream",
     "text": [
      "also installing the dependencies ‘systemfonts’, ‘textshaping’, ‘xopen’, ‘brew’, ‘rex’, ‘crosstalk’, ‘clisymbols’, ‘cyclocomp’, ‘xmlparsedata’, ‘downlit’, ‘ragg’, ‘parsedate’, ‘whoami’, ‘hunspell’, ‘memoise’, ‘pkgbuild’, ‘rcmdcheck’, ‘remotes’, ‘roxygen2’, ‘rversions’, ‘sessioninfo’, ‘BiocManager’, ‘covr’, ‘DT’, ‘foghorn’, ‘gmailr’, ‘lintr’, ‘mockery’, ‘pingr’, ‘pkgdown’, ‘rhub’, ‘spelling’\n",
      "\n",
      "\n",
      "Warning message in install.packages(package, dependencies = TRUE):\n",
      "“installation of package ‘systemfonts’ had non-zero exit status”\n",
      "Warning message in install.packages(package, dependencies = TRUE):\n",
      "“installation of package ‘textshaping’ had non-zero exit status”\n",
      "Warning message in install.packages(package, dependencies = TRUE):\n",
      "“installation of package ‘ragg’ had non-zero exit status”\n",
      "Warning message in install.packages(package, dependencies = TRUE):\n",
      "“installation of package ‘pkgdown’ had non-zero exit status”\n",
      "Updating HTML index of packages in '.Library'\n",
      "\n",
      "Making 'packages.html' ...\n",
      " done\n",
      "\n",
      "also installing the dependencies ‘beeswarm’, ‘vipor’, ‘gridExtra’, ‘prettydoc’, ‘ggbeeswarm’\n",
      "\n",
      "\n",
      "Updating HTML index of packages in '.Library'\n",
      "\n",
      "Making 'packages.html' ...\n",
      " done\n",
      "\n",
      "\n",
      "Attaching package: ‘dplyr’\n",
      "\n",
      "\n",
      "The following objects are masked from ‘package:stats’:\n",
      "\n",
      "    filter, lag\n",
      "\n",
      "\n",
      "The following objects are masked from ‘package:base’:\n",
      "\n",
      "    intersect, setdiff, setequal, union\n",
      "\n",
      "\n",
      "Loading required package: usethis\n",
      "\n"
     ]
    }
   ],
   "source": [
    "source(\"R_lib/requirements.R\")"
   ]
  },
  {
   "cell_type": "code",
   "execution_count": 2,
   "metadata": {},
   "outputs": [
    {
     "name": "stderr",
     "output_type": "stream",
     "text": [
      "Downloading GitHub repo hms-dbmi/pic-sure-r-client@HEAD\n",
      "\n"
     ]
    },
    {
     "name": "stdout",
     "output_type": "stream",
     "text": [
      "\n",
      "\u001b[32m✔\u001b[39m  \u001b[90mchecking for file ‘/tmp/Rtmp0XmOla/remotes60703b62a72d/hms-dbmi-pic-sure-r-client-115deb5/DESCRIPTION’\u001b[39m\u001b[36m\u001b[39m\n",
      "\u001b[90m─\u001b[39m\u001b[90m  \u001b[39m\u001b[90mpreparing ‘picsure’:\u001b[39m\u001b[36m\u001b[39m\n",
      "\u001b[32m✔\u001b[39m  \u001b[90mchecking DESCRIPTION meta-information\u001b[39m\u001b[36m\u001b[39m\n",
      "\u001b[90m─\u001b[39m\u001b[90m  \u001b[39m\u001b[90mchecking for LF line-endings in source and make files and shell scripts\u001b[39m\u001b[36m\u001b[39m\n",
      "\u001b[90m─\u001b[39m\u001b[90m  \u001b[39m\u001b[90mchecking for empty or unneeded directories\u001b[39m\u001b[36m\u001b[39m\n",
      "\u001b[90m─\u001b[39m\u001b[90m  \u001b[39m\u001b[90mbuilding ‘picsure_0.1.0.tar.gz’\u001b[39m\u001b[36m\u001b[39m\n",
      "   \n",
      "\r"
     ]
    },
    {
     "name": "stderr",
     "output_type": "stream",
     "text": [
      "Downloading GitHub repo hms-dbmi/pic-sure-r-adapter-hpds@HEAD\n",
      "\n"
     ]
    },
    {
     "name": "stdout",
     "output_type": "stream",
     "text": [
      "\n",
      "\u001b[32m✔\u001b[39m  \u001b[90mchecking for file ‘/tmp/Rtmp0XmOla/remotes6070292436a9/hms-dbmi-pic-sure-r-adapter-hpds-2cee5ee/DESCRIPTION’\u001b[39m\u001b[36m\u001b[39m\n",
      "\u001b[90m─\u001b[39m\u001b[90m  \u001b[39m\u001b[90mpreparing ‘hpds’:\u001b[39m\u001b[36m\u001b[39m\n",
      "\u001b[32m✔\u001b[39m  \u001b[90mchecking DESCRIPTION meta-information\u001b[39m\u001b[36m\u001b[39m\n",
      "\u001b[90m─\u001b[39m\u001b[90m  \u001b[39m\u001b[90mchecking for LF line-endings in source and make files and shell scripts\u001b[39m\u001b[36m\u001b[39m\n",
      "\u001b[90m─\u001b[39m\u001b[90m  \u001b[39m\u001b[90mchecking for empty or unneeded directories\u001b[39m\u001b[36m\u001b[39m\n",
      "\u001b[90m─\u001b[39m\u001b[90m  \u001b[39m\u001b[90mbuilding ‘hpds_0.1.1.tar.gz’\u001b[39m\u001b[36m\u001b[39m\n",
      "   \n",
      "\r"
     ]
    },
    {
     "name": "stderr",
     "output_type": "stream",
     "text": [
      "Downloading GitHub repo hms-dbmi/pic-sure-biodatacatalyst-r-adapter-hpds@HEAD\n",
      "\n"
     ]
    },
    {
     "name": "stdout",
     "output_type": "stream",
     "text": [
      "\n",
      "\u001b[32m✔\u001b[39m  \u001b[90mchecking for file ‘/tmp/Rtmp0XmOla/remotes60702c12cb51/hms-dbmi-pic-sure-biodatacatalyst-r-adapter-hpds-d019468/DESCRIPTION’\u001b[39m\u001b[36m\u001b[39m\n",
      "\u001b[90m─\u001b[39m\u001b[90m  \u001b[39m\u001b[90mpreparing ‘bdc’:\u001b[39m\u001b[36m\u001b[39m\n",
      "\u001b[32m✔\u001b[39m  \u001b[90mchecking DESCRIPTION meta-information\u001b[39m\u001b[36m\u001b[39m\n",
      "\u001b[90m─\u001b[39m\u001b[90m  \u001b[39m\u001b[90mchecking for LF line-endings in source and make files and shell scripts\u001b[39m\u001b[36m\u001b[39m\n",
      "\u001b[90m─\u001b[39m\u001b[90m  \u001b[39m\u001b[90mchecking for empty or unneeded directories\u001b[39m\u001b[36m\u001b[39m\n",
      "\u001b[90m─\u001b[39m\u001b[90m  \u001b[39m\u001b[90mbuilding ‘bdc_0.1.0.tar.gz’\u001b[39m\u001b[36m\u001b[39m\n",
      "   \n",
      "\r"
     ]
    }
   ],
   "source": [
    "Sys.setenv(TAR = \"/bin/tar\")\n",
    "options(unzip = \"internal\")\n",
    "install.packages(\"https://cran.r-project.org/src/contrib/R6_2.5.0.tar.gz\", repos=NULL, type=\"source\")\n",
    "install.packages(\"https://cran.r-project.org/src/contrib/hash_2.2.6.1.tar.gz\", repos=NULL, type=\"source\")\n",
    "devtools::install_github(\"hms-dbmi/pic-sure-r-client\", force=T)\n",
    "devtools::install_github(\"hms-dbmi/pic-sure-r-adapter-hpds\", force=T)\n",
    "devtools::install_github(\"hms-dbmi/pic-sure-biodatacatalyst-r-adapter-hpds\", force=T)"
   ]
  },
  {
   "cell_type": "markdown",
   "metadata": {},
   "source": [
    "##### Loading user-defined functions"
   ]
  },
  {
   "cell_type": "code",
   "execution_count": 3,
   "metadata": {},
   "outputs": [],
   "source": [
    "source(\"R_lib/utils.R\")"
   ]
  },
  {
   "cell_type": "markdown",
   "metadata": {},
   "source": [
    "## Connecting to a PIC-SURE resource"
   ]
  },
  {
   "cell_type": "markdown",
   "metadata": {},
   "source": [
    "The following is required to get access to data through the PIC-SURE API: \n",
    "- Network URL\n",
    "- Resource id\n",
    "- User-specific security token"
   ]
  },
  {
   "cell_type": "markdown",
   "metadata": {},
   "source": [
    "If you have not already retrieved your user-specific token, please refer to the \"Get your security token\" section of the [README.md](https://github.com/hms-dbmi/Access-to-Data-using-PIC-SURE-API/tree/master/NHLBI_BioData_Catalyst#get-your-security-token) file."
   ]
  },
  {
   "cell_type": "code",
   "execution_count": 4,
   "metadata": {},
   "outputs": [],
   "source": [
    "# Set required information as variables\n",
    "PICSURE_network_URL <- \"https://biodatacatalyst.integration.hms.harvard.edu/picsure\"\n",
    "#PICSURE_network_URL <- \"https://picsure.biodatacatalyst.nhlbi.nih.gov/picsure\"\n",
    "resource_id <- \"02e23f52-f354-4e8b-992c-d37c8b9ba140\"\n",
    "token_file <- \"token.txt\""
   ]
  },
  {
   "cell_type": "code",
   "execution_count": 5,
   "metadata": {},
   "outputs": [],
   "source": [
    "token <- scan(token_file, what = \"character\")"
   ]
  },
  {
   "cell_type": "code",
   "execution_count": 6,
   "metadata": {},
   "outputs": [
    {
     "name": "stdout",
     "output_type": "stream",
     "text": [
      "[1] \"02e23f52-f354-4e8b-992c-d37c8b9ba140\"\n",
      "[2] \"70c837be-5ffc-11eb-ae93-0242ac130002\"\n"
     ]
    }
   ],
   "source": [
    "# Establish connection to PIC-SURE\n",
    "connection <- picsure::connect(url = PICSURE_network_URL,\n",
    "                                 token = token)"
   ]
  },
  {
   "cell_type": "code",
   "execution_count": 7,
   "metadata": {
    "scrolled": true
   },
   "outputs": [
    {
     "name": "stdout",
     "output_type": "stream",
     "text": [
      "[1] \"Loading data dictionary... (takes a minute)\"\n"
     ]
    }
   ],
   "source": [
    "# it may take several minutes to connect and download the initialization data\n",
    "resource <- bdc::get.resource(connection,\n",
    "                               resourceUUID = resource_id)"
   ]
  },
  {
   "cell_type": "markdown",
   "metadata": {},
   "source": [
    "Two objects are created here: a `connection` and a `resource` object.\n",
    "\n",
    "Since we will only be using a single resource, **the `resource` object is actually the only one we will need to proceed with data analysis hereafter**.\n",
    "\n",
    "It is connected to the specific data source ID we specified and enables us to query and retrieve data from this database."
   ]
  },
  {
   "cell_type": "markdown",
   "metadata": {},
   "source": [
    "## Getting help with the R PIC-SURE API"
   ]
  },
  {
   "cell_type": "markdown",
   "metadata": {},
   "source": [
    "You can get help with PIC-SURE library functions by using the `?` operator."
   ]
  },
  {
   "cell_type": "code",
   "execution_count": 8,
   "metadata": {},
   "outputs": [],
   "source": [
    "?bdc::get.resource()"
   ]
  },
  {
   "cell_type": "markdown",
   "metadata": {},
   "source": [
    "## Using the *variables dictionary*"
   ]
  },
  {
   "cell_type": "markdown",
   "metadata": {},
   "source": [
    "Once a connection to the desired resource has been established, we first need to understand which variables are available in the database. To this end, we will use the `find.in.dictionary` function."
   ]
  },
  {
   "cell_type": "markdown",
   "metadata": {},
   "source": [
    "For instance, looking for variables containing the term `Sickle Cell` is done this way:"
   ]
  },
  {
   "cell_type": "code",
   "execution_count": 9,
   "metadata": {},
   "outputs": [],
   "source": [
    "dictionary_search <- bdc::find.in.dictionary(resource, \"Sickle Cell\")"
   ]
  },
  {
   "cell_type": "markdown",
   "metadata": {},
   "source": [
    "Four different functions can be used to retrieve results from a dictionary search: `extract.count()`, `extract.keys()`, `extract.entries()`, and `extract.dataframe()`."
   ]
  },
  {
   "cell_type": "code",
   "execution_count": 10,
   "metadata": {},
   "outputs": [
    {
     "name": "stdout",
     "output_type": "stream",
     "text": [
      "$Count\n",
      "[1] 170\n",
      "\n",
      "$Keys\n",
      "$Keys[[1]]\n",
      "[1] \"\\\\Hematopoietic Cell Transplant for Sickle Cell Disease (HCT for SCD) ( phs002385 )\\\\5 - CRF data collection track only\\\\Time from HCT to pancreatitis, months\\\\\"\n",
      "\n",
      "$Keys[[2]]\n",
      "[1] \"\\\\Hematopoietic Cell Transplant for Sickle Cell Disease (HCT for SCD) ( phs002385 )\\\\4 - Outcomes\\\\Death without graft failure\\\\\"\n",
      "\n",
      "\n",
      "$Entries\n",
      "              min patientCount\n",
      "2    4.276316e-01           10\n",
      "210            NA         1518\n",
      "3              NA         1518\n",
      "4              NA          732\n",
      "5              NA         1518\n",
      "6              NA          732\n",
      "7              NA          732\n",
      "8              NA          732\n",
      "9              NA          732\n",
      "10   1.266447e+01            3\n",
      "11   2.631579e-01         1363\n",
      "12             NA          732\n",
      "13             NA          732\n",
      "14             NA         1518\n",
      "15             NA          732\n",
      "16   1.973684e-01           23\n",
      "17   6.447368e+00            2\n",
      "18             NA          732\n",
      "19             NA         1518\n",
      "20             NA          732\n",
      "21   7.894737e-01            1\n",
      "22             NA         1518\n",
      "23   2.631579e-01         1509\n",
      "24             NA          732\n",
      "25   2.302632e-01            5\n",
      "26   1.809211e+00           31\n",
      "27             NA          732\n",
      "28             NA          732\n",
      "29             NA          732\n",
      "30             NA          732\n",
      "31             NA          732\n",
      "32   1.644737e-01          445\n",
      "33  -2.000000e+00          712\n",
      "34             NA          732\n",
      "35             NA          732\n",
      "36             NA          732\n",
      "37   3.947368e-01           29\n",
      "38   8.552632e-01           18\n",
      "39   2.631579e-01           10\n",
      "40  -2.000000e+00          712\n",
      "41   2.631579e-01         1518\n",
      "42             NA          732\n",
      "43   2.302632e-01           10\n",
      "44   3.289474e-02         1490\n",
      "45             NA         1518\n",
      "46   0.000000e+00           58\n",
      "47             NA         1518\n",
      "48             NA          732\n",
      "49   1.644737e-01           19\n",
      "50   1.000000e+00         1518\n",
      "51   0.000000e+00          263\n",
      "52             NA          732\n",
      "53             NA          732\n",
      "54   2.796053e+00            2\n",
      "55   1.644737e-01           13\n",
      "56   2.335526e+00            9\n",
      "57             NA         1518\n",
      "58             NA         1518\n",
      "59             NA          732\n",
      "60             NA          732\n",
      "61  -2.000000e+00          712\n",
      "62   1.315789e-01           34\n",
      "63             NA          732\n",
      "64   0.000000e+00           80\n",
      "65             NA         1518\n",
      "66             NA         1518\n",
      "67             NA         1518\n",
      "68             NA          732\n",
      "69             NA         1518\n",
      "70             NA          732\n",
      "71             NA          732\n",
      "72             NA          732\n",
      "73   1.447368e+00            3\n",
      "74   1.644737e-01           12\n",
      "75             NA         1518\n",
      "76   1.973684e-01           18\n",
      "77             NA       143206\n",
      "78  -1.283400e+04            5\n",
      "79             NA          732\n",
      "80  -2.000000e+00          712\n",
      "81   3.289474e-02         1414\n",
      "82             NA         1518\n",
      "83   4.000000e-01            3\n",
      "84             NA          732\n",
      "85             NA         1518\n",
      "86             NA          732\n",
      "87             NA         1518\n",
      "88             NA          732\n",
      "89   9.539474e-01            5\n",
      "90   3.500000e-01          621\n",
      "91  -2.000000e+00          712\n",
      "92   1.315789e-01           48\n",
      "93   3.421053e+00           16\n",
      "94   8.223684e-01           18\n",
      "95             NA         1518\n",
      "96             NA         1518\n",
      "97   3.400000e+00          672\n",
      "98             NA         1518\n",
      "99             NA          732\n",
      "100            NA          732\n",
      "101            NA         1518\n",
      "102            NA          732\n",
      "103            NA         1518\n",
      "104            NA          732\n",
      "105            NA         1518\n",
      "106            NA         1518\n",
      "107            NA          732\n",
      "108  1.000000e+00          445\n",
      "109            NA          732\n",
      "110            NA         1518\n",
      "111            NA         1518\n",
      "112 -1.000000e+00          712\n",
      "113  3.289474e-02         1484\n",
      "114            NA          732\n",
      "115            NA         1518\n",
      "116            NA          732\n",
      "117 -2.000000e+00          251\n",
      "118            NA          732\n",
      "119            NA          732\n",
      "120            NA          732\n",
      "121 -2.000000e+00          712\n",
      "122            NA          732\n",
      "123            NA          732\n",
      "124  1.644737e-01            2\n",
      "125            NA         1518\n",
      "126  9.868421e-02            9\n",
      "127            NA          732\n",
      "128 -1.000000e+00          712\n",
      "129            NA          732\n",
      "130  3.000000e-01         1518\n",
      "131            NA         1518\n",
      "132  1.236842e+01           12\n",
      "133            NA         1518\n",
      "134            NA          732\n",
      "135            NA          732\n",
      "136            NA         1518\n",
      "137 -1.000000e+00          712\n",
      "138            NA          732\n",
      "139 -1.000000e+00          712\n",
      "140  1.991000e+03         1518\n",
      "141            NA          732\n",
      "142  3.900000e+00          445\n",
      "143            NA          732\n",
      "144  0.000000e+00           14\n",
      "145            NA          732\n",
      "146  2.960526e-01         1488\n",
      "147            NA          732\n",
      "148            NA          732\n",
      "149            NA         1518\n",
      "150            NA          732\n",
      "151  3.289474e-02          719\n",
      "152            NA         1518\n",
      "153            NA          732\n",
      "154            NA          732\n",
      "155            NA          732\n",
      "156            NA          732\n",
      "157            NA          732\n",
      "158 -2.000000e+00          845\n",
      "159            NA          732\n",
      "160            NA          732\n",
      "161            NA         1518\n",
      "162            NA          732\n",
      "163            NA          721\n",
      "164            NA          732\n",
      "165  1.000000e-01          722\n",
      "166            NA         1518\n",
      "167            NA          732\n",
      "168            NA          732\n",
      "169            NA         1518\n",
      "170            NA          732\n",
      "\n"
     ]
    }
   ],
   "source": [
    "print(list(\"Count\"   = bdc::extract.count(dictionary_search), \n",
    "           \"Keys\"    = bdc::extract.keys(dictionary_search)[1:2], # Show first two keys\n",
    "           \"Entries\" = bdc::extract.entries(dictionary_search)[1:2])) # Show first two entries"
   ]
  },
  {
   "cell_type": "code",
   "execution_count": 11,
   "metadata": {
    "scrolled": true
   },
   "outputs": [
    {
     "data": {
      "text/html": [
       "<table class=\"dataframe\">\n",
       "<caption>A data.frame: 6 × 9</caption>\n",
       "<thead>\n",
       "\t<tr><th></th><th scope=col>min</th><th scope=col>patientCount</th><th scope=col>categorical</th><th scope=col>observationCount</th><th scope=col>max</th><th scope=col>name</th><th scope=col>HpdsDataType</th><th scope=col>categoryValues</th><th scope=col>description</th></tr>\n",
       "\t<tr><th></th><th scope=col>&lt;dbl&gt;</th><th scope=col>&lt;int&gt;</th><th scope=col>&lt;lgl&gt;</th><th scope=col>&lt;int&gt;</th><th scope=col>&lt;dbl&gt;</th><th scope=col>&lt;chr&gt;</th><th scope=col>&lt;chr&gt;</th><th scope=col>&lt;list&gt;</th><th scope=col>&lt;lgl&gt;</th></tr>\n",
       "</thead>\n",
       "<tbody>\n",
       "\t<tr><th scope=row>165</th><td>0.1</td><td> 722</td><td>FALSE</td><td> 722</td><td>1.5</td><td>\\Hematopoietic Cell Transplant for Sickle Cell Disease (HCT for SCD) ( phs002385 )\\5 - CRF data collection track only\\Serum creatinine pre-conditioning\\                                   </td><td>phenotypes</td><td>NA</td><td>NA</td></tr>\n",
       "\t<tr><th scope=row>166</th><td> NA</td><td>1518</td><td> TRUE</td><td>1518</td><td> NA</td><td>\\Hematopoietic Cell Transplant for Sickle Cell Disease (HCT for SCD) ( phs002385 )\\4 - Outcomes\\Death without platelet recovery\\                                                           </td><td>phenotypes</td><td>No          , Not Reported, Yes         </td><td>NA</td></tr>\n",
       "\t<tr><th scope=row>167</th><td> NA</td><td> 732</td><td> TRUE</td><td> 732</td><td> NA</td><td>\\Hematopoietic Cell Transplant for Sickle Cell Disease (HCT for SCD) ( phs002385 )\\5 - CRF data collection track only\\Clinically significant fungal infection at any time pre-conditioning\\</td><td>phenotypes</td><td>No          , Not reported, Yes         </td><td>NA</td></tr>\n",
       "\t<tr><th scope=row>168</th><td> NA</td><td> 732</td><td> TRUE</td><td> 732</td><td> NA</td><td>\\Hematopoietic Cell Transplant for Sickle Cell Disease (HCT for SCD) ( phs002385 )\\5 - CRF data collection track only\\Anxiety requiring therapy\\                                           </td><td>phenotypes</td><td>No          , Not reported, Yes         </td><td>NA</td></tr>\n",
       "\t<tr><th scope=row>169</th><td> NA</td><td>1518</td><td> TRUE</td><td>1518</td><td> NA</td><td>\\Hematopoietic Cell Transplant for Sickle Cell Disease (HCT for SCD) ( phs002385 )\\4 - Outcomes\\Secondary malignancy\\                                                                      </td><td>phenotypes</td><td>Acute myelogenous leukemia                 , Central nervous system malignancy          , Clonal cytogenetic abnormality: monosomy 7 , Clonal cytogenetic abnormality: unspecified, EBV lymphoma                               , Genitourinary malignancy                   , Myelodysplastic syndrome                   , Myofibroblastic tumor                      , None                                       , Not Reported                               , Sarcoma                                    , T-cell large granular lymphocyte leukemia  , TP53 mutation                              </td><td>NA</td></tr>\n",
       "\t<tr><th scope=row>170</th><td> NA</td><td> 732</td><td> TRUE</td><td> 732</td><td> NA</td><td>\\Hematopoietic Cell Transplant for Sickle Cell Disease (HCT for SCD) ( phs002385 )\\5 - CRF data collection track only\\Intubation or mechanical ventilation for ACS pre-conditioning\\       </td><td>phenotypes</td><td>N/A         , No          , Not reported, Yes         </td><td>NA</td></tr>\n",
       "</tbody>\n",
       "</table>\n"
      ],
      "text/latex": [
       "A data.frame: 6 × 9\n",
       "\\begin{tabular}{r|lllllllll}\n",
       "  & min & patientCount & categorical & observationCount & max & name & HpdsDataType & categoryValues & description\\\\\n",
       "  & <dbl> & <int> & <lgl> & <int> & <dbl> & <chr> & <chr> & <list> & <lgl>\\\\\n",
       "\\hline\n",
       "\t165 & 0.1 &  722 & FALSE &  722 & 1.5 & \\textbackslash{}Hematopoietic Cell Transplant for Sickle Cell Disease (HCT for SCD) ( phs002385 )\\textbackslash{}5 - CRF data collection track only\\textbackslash{}Serum creatinine pre-conditioning\\textbackslash{}                                    & phenotypes & NA & NA\\\\\n",
       "\t166 &  NA & 1518 &  TRUE & 1518 &  NA & \\textbackslash{}Hematopoietic Cell Transplant for Sickle Cell Disease (HCT for SCD) ( phs002385 )\\textbackslash{}4 - Outcomes\\textbackslash{}Death without platelet recovery\\textbackslash{}                                                            & phenotypes & No          , Not Reported, Yes          & NA\\\\\n",
       "\t167 &  NA &  732 &  TRUE &  732 &  NA & \\textbackslash{}Hematopoietic Cell Transplant for Sickle Cell Disease (HCT for SCD) ( phs002385 )\\textbackslash{}5 - CRF data collection track only\\textbackslash{}Clinically significant fungal infection at any time pre-conditioning\\textbackslash{} & phenotypes & No          , Not reported, Yes          & NA\\\\\n",
       "\t168 &  NA &  732 &  TRUE &  732 &  NA & \\textbackslash{}Hematopoietic Cell Transplant for Sickle Cell Disease (HCT for SCD) ( phs002385 )\\textbackslash{}5 - CRF data collection track only\\textbackslash{}Anxiety requiring therapy\\textbackslash{}                                            & phenotypes & No          , Not reported, Yes          & NA\\\\\n",
       "\t169 &  NA & 1518 &  TRUE & 1518 &  NA & \\textbackslash{}Hematopoietic Cell Transplant for Sickle Cell Disease (HCT for SCD) ( phs002385 )\\textbackslash{}4 - Outcomes\\textbackslash{}Secondary malignancy\\textbackslash{}                                                                       & phenotypes & Acute myelogenous leukemia                 , Central nervous system malignancy          , Clonal cytogenetic abnormality: monosomy 7 , Clonal cytogenetic abnormality: unspecified, EBV lymphoma                               , Genitourinary malignancy                   , Myelodysplastic syndrome                   , Myofibroblastic tumor                      , None                                       , Not Reported                               , Sarcoma                                    , T-cell large granular lymphocyte leukemia  , TP53 mutation                               & NA\\\\\n",
       "\t170 &  NA &  732 &  TRUE &  732 &  NA & \\textbackslash{}Hematopoietic Cell Transplant for Sickle Cell Disease (HCT for SCD) ( phs002385 )\\textbackslash{}5 - CRF data collection track only\\textbackslash{}Intubation or mechanical ventilation for ACS pre-conditioning\\textbackslash{}        & phenotypes & N/A         , No          , Not reported, Yes          & NA\\\\\n",
       "\\end{tabular}\n"
      ],
      "text/markdown": [
       "\n",
       "A data.frame: 6 × 9\n",
       "\n",
       "| <!--/--> | min &lt;dbl&gt; | patientCount &lt;int&gt; | categorical &lt;lgl&gt; | observationCount &lt;int&gt; | max &lt;dbl&gt; | name &lt;chr&gt; | HpdsDataType &lt;chr&gt; | categoryValues &lt;list&gt; | description &lt;lgl&gt; |\n",
       "|---|---|---|---|---|---|---|---|---|---|\n",
       "| 165 | 0.1 |  722 | FALSE |  722 | 1.5 | \\Hematopoietic Cell Transplant for Sickle Cell Disease (HCT for SCD) ( phs002385 )\\5 - CRF data collection track only\\Serum creatinine pre-conditioning\\                                    | phenotypes | NA | NA |\n",
       "| 166 |  NA | 1518 |  TRUE | 1518 |  NA | \\Hematopoietic Cell Transplant for Sickle Cell Disease (HCT for SCD) ( phs002385 )\\4 - Outcomes\\Death without platelet recovery\\                                                            | phenotypes | No          , Not Reported, Yes          | NA |\n",
       "| 167 |  NA |  732 |  TRUE |  732 |  NA | \\Hematopoietic Cell Transplant for Sickle Cell Disease (HCT for SCD) ( phs002385 )\\5 - CRF data collection track only\\Clinically significant fungal infection at any time pre-conditioning\\ | phenotypes | No          , Not reported, Yes          | NA |\n",
       "| 168 |  NA |  732 |  TRUE |  732 |  NA | \\Hematopoietic Cell Transplant for Sickle Cell Disease (HCT for SCD) ( phs002385 )\\5 - CRF data collection track only\\Anxiety requiring therapy\\                                            | phenotypes | No          , Not reported, Yes          | NA |\n",
       "| 169 |  NA | 1518 |  TRUE | 1518 |  NA | \\Hematopoietic Cell Transplant for Sickle Cell Disease (HCT for SCD) ( phs002385 )\\4 - Outcomes\\Secondary malignancy\\                                                                       | phenotypes | Acute myelogenous leukemia                 , Central nervous system malignancy          , Clonal cytogenetic abnormality: monosomy 7 , Clonal cytogenetic abnormality: unspecified, EBV lymphoma                               , Genitourinary malignancy                   , Myelodysplastic syndrome                   , Myofibroblastic tumor                      , None                                       , Not Reported                               , Sarcoma                                    , T-cell large granular lymphocyte leukemia  , TP53 mutation                               | NA |\n",
       "| 170 |  NA |  732 |  TRUE |  732 |  NA | \\Hematopoietic Cell Transplant for Sickle Cell Disease (HCT for SCD) ( phs002385 )\\5 - CRF data collection track only\\Intubation or mechanical ventilation for ACS pre-conditioning\\        | phenotypes | N/A         , No          , Not reported, Yes          | NA |\n",
       "\n"
      ],
      "text/plain": [
       "    min patientCount categorical observationCount max\n",
       "165 0.1  722         FALSE        722             1.5\n",
       "166  NA 1518          TRUE       1518              NA\n",
       "167  NA  732          TRUE        732              NA\n",
       "168  NA  732          TRUE        732              NA\n",
       "169  NA 1518          TRUE       1518              NA\n",
       "170  NA  732          TRUE        732              NA\n",
       "    name                                                                                                                                                                                           \n",
       "165 \\\\Hematopoietic Cell Transplant for Sickle Cell Disease (HCT for SCD) ( phs002385 )\\\\5 - CRF data collection track only\\\\Serum creatinine pre-conditioning\\\\                                   \n",
       "166 \\\\Hematopoietic Cell Transplant for Sickle Cell Disease (HCT for SCD) ( phs002385 )\\\\4 - Outcomes\\\\Death without platelet recovery\\\\                                                           \n",
       "167 \\\\Hematopoietic Cell Transplant for Sickle Cell Disease (HCT for SCD) ( phs002385 )\\\\5 - CRF data collection track only\\\\Clinically significant fungal infection at any time pre-conditioning\\\\\n",
       "168 \\\\Hematopoietic Cell Transplant for Sickle Cell Disease (HCT for SCD) ( phs002385 )\\\\5 - CRF data collection track only\\\\Anxiety requiring therapy\\\\                                           \n",
       "169 \\\\Hematopoietic Cell Transplant for Sickle Cell Disease (HCT for SCD) ( phs002385 )\\\\4 - Outcomes\\\\Secondary malignancy\\\\                                                                      \n",
       "170 \\\\Hematopoietic Cell Transplant for Sickle Cell Disease (HCT for SCD) ( phs002385 )\\\\5 - CRF data collection track only\\\\Intubation or mechanical ventilation for ACS pre-conditioning\\\\       \n",
       "    HpdsDataType\n",
       "165 phenotypes  \n",
       "166 phenotypes  \n",
       "167 phenotypes  \n",
       "168 phenotypes  \n",
       "169 phenotypes  \n",
       "170 phenotypes  \n",
       "    categoryValues                                                                                                                                                                                                                                                                                                                                                                                                                                                                                                                                                                                         \n",
       "165 NA                                                                                                                                                                                                                                                                                                                                                                                                                                                                                                                                                                                                     \n",
       "166 No          , Not Reported, Yes                                                                                                                                                                                                                                                                                                                                                                                                                                                                                                                                                                        \n",
       "167 No          , Not reported, Yes                                                                                                                                                                                                                                                                                                                                                                                                                                                                                                                                                                        \n",
       "168 No          , Not reported, Yes                                                                                                                                                                                                                                                                                                                                                                                                                                                                                                                                                                        \n",
       "169 Acute myelogenous leukemia                 , Central nervous system malignancy          , Clonal cytogenetic abnormality: monosomy 7 , Clonal cytogenetic abnormality: unspecified, EBV lymphoma                               , Genitourinary malignancy                   , Myelodysplastic syndrome                   , Myofibroblastic tumor                      , None                                       , Not Reported                               , Sarcoma                                    , T-cell large granular lymphocyte leukemia  , TP53 mutation                              \n",
       "170 N/A         , No          , Not reported, Yes                                                                                                                                                                                                                                                                                                                                                                                                                                                                                                                                                          \n",
       "    description\n",
       "165 NA         \n",
       "166 NA         \n",
       "167 NA         \n",
       "168 NA         \n",
       "169 NA         \n",
       "170 NA         "
      ]
     },
     "metadata": {},
     "output_type": "display_data"
    }
   ],
   "source": [
    "bdc::extract.entries(dictionary_search) %>% tail() #View last entries as a dataframe"
   ]
  },
  {
   "cell_type": "markdown",
   "metadata": {},
   "source": [
    "**`bdc::extract.dataframe()` retrieves the result of the dictionary search in a data.frame format. This way, it enables us to:**\n",
    "\n",
    "* Use the various information exposed in the dictionary (patientCount, variable type ...) as criteria for variable selection.\n",
    "* Use the row names of the DataFrame to get the actual variables names, to be used in the query, as shown below.\n",
    "\n",
    "Variable names, as currently implemented in the API, aren't very practical to use right away for two reasons:\n",
    "1. Very long\n",
    "2. Presence of backslashes that requires modification right after copy-pasting.\n",
    "\n",
    "However, using the dictionary to select variables can help access the variable names. Let's say we want to retrieve every variable from the HCT for SCD dataset. One way to proceed is to retrieve the whole dictionary for those variables in the form of a data.frame, as below:"
   ]
  },
  {
   "cell_type": "code",
   "execution_count": 12,
   "metadata": {},
   "outputs": [
    {
     "data": {
      "text/html": [
       "<table class=\"dataframe\">\n",
       "<caption>A data.frame: 5 × 9</caption>\n",
       "<thead>\n",
       "\t<tr><th></th><th scope=col>min</th><th scope=col>patientCount</th><th scope=col>categorical</th><th scope=col>observationCount</th><th scope=col>max</th><th scope=col>name</th><th scope=col>HpdsDataType</th><th scope=col>categoryValues</th><th scope=col>description</th></tr>\n",
       "\t<tr><th></th><th scope=col>&lt;dbl&gt;</th><th scope=col>&lt;int&gt;</th><th scope=col>&lt;lgl&gt;</th><th scope=col>&lt;int&gt;</th><th scope=col>&lt;dbl&gt;</th><th scope=col>&lt;chr&gt;</th><th scope=col>&lt;chr&gt;</th><th scope=col>&lt;list&gt;</th><th scope=col>&lt;lgl&gt;</th></tr>\n",
       "</thead>\n",
       "<tbody>\n",
       "\t<tr><th scope=row>2</th><td>0.4276316</td><td>  10</td><td>FALSE</td><td>  10</td><td>123.3882</td><td>\\Hematopoietic Cell Transplant for Sickle Cell Disease (HCT for SCD) ( phs002385 )\\5 - CRF data collection track only\\Time from HCT to pancreatitis, months\\</td><td>phenotypes</td><td>NA</td><td>NA</td></tr>\n",
       "\t<tr><th scope=row>210</th><td>       NA</td><td>1518</td><td> TRUE</td><td>1518</td><td>      NA</td><td>\\Hematopoietic Cell Transplant for Sickle Cell Disease (HCT for SCD) ( phs002385 )\\4 - Outcomes\\Death without graft failure\\                                </td><td>phenotypes</td><td>No          , Not Reported, Yes         </td><td>NA</td></tr>\n",
       "\t<tr><th scope=row>3</th><td>       NA</td><td>1518</td><td> TRUE</td><td>1518</td><td>      NA</td><td>\\Hematopoietic Cell Transplant for Sickle Cell Disease (HCT for SCD) ( phs002385 )\\3 - Transplant Related\\Conditioning intensity\\                           </td><td>phenotypes</td><td>Myeloablative                 , Non-myeloablative             , Not Reported                  , Reduced-intensity conditioning</td><td>NA</td></tr>\n",
       "\t<tr><th scope=row>4</th><td>       NA</td><td> 732</td><td> TRUE</td><td> 732</td><td>      NA</td><td>\\Hematopoietic Cell Transplant for Sickle Cell Disease (HCT for SCD) ( phs002385 )\\5 - CRF data collection track only\\Other organ impairment or disorder\\   </td><td>phenotypes</td><td>No          , Not reported, Yes         </td><td>NA</td></tr>\n",
       "\t<tr><th scope=row>5</th><td>       NA</td><td>1518</td><td> TRUE</td><td>1518</td><td>      NA</td><td>\\Hematopoietic Cell Transplant for Sickle Cell Disease (HCT for SCD) ( phs002385 )\\1 - Patient Related\\Cases from 2016 Blood publication\\                   </td><td>phenotypes</td><td>No , Yes</td><td>NA</td></tr>\n",
       "</tbody>\n",
       "</table>\n"
      ],
      "text/latex": [
       "A data.frame: 5 × 9\n",
       "\\begin{tabular}{r|lllllllll}\n",
       "  & min & patientCount & categorical & observationCount & max & name & HpdsDataType & categoryValues & description\\\\\n",
       "  & <dbl> & <int> & <lgl> & <int> & <dbl> & <chr> & <chr> & <list> & <lgl>\\\\\n",
       "\\hline\n",
       "\t2 & 0.4276316 &   10 & FALSE &   10 & 123.3882 & \\textbackslash{}Hematopoietic Cell Transplant for Sickle Cell Disease (HCT for SCD) ( phs002385 )\\textbackslash{}5 - CRF data collection track only\\textbackslash{}Time from HCT to pancreatitis, months\\textbackslash{} & phenotypes & NA & NA\\\\\n",
       "\t210 &        NA & 1518 &  TRUE & 1518 &       NA & \\textbackslash{}Hematopoietic Cell Transplant for Sickle Cell Disease (HCT for SCD) ( phs002385 )\\textbackslash{}4 - Outcomes\\textbackslash{}Death without graft failure\\textbackslash{}                                 & phenotypes & No          , Not Reported, Yes          & NA\\\\\n",
       "\t3 &        NA & 1518 &  TRUE & 1518 &       NA & \\textbackslash{}Hematopoietic Cell Transplant for Sickle Cell Disease (HCT for SCD) ( phs002385 )\\textbackslash{}3 - Transplant Related\\textbackslash{}Conditioning intensity\\textbackslash{}                            & phenotypes & Myeloablative                 , Non-myeloablative             , Not Reported                  , Reduced-intensity conditioning & NA\\\\\n",
       "\t4 &        NA &  732 &  TRUE &  732 &       NA & \\textbackslash{}Hematopoietic Cell Transplant for Sickle Cell Disease (HCT for SCD) ( phs002385 )\\textbackslash{}5 - CRF data collection track only\\textbackslash{}Other organ impairment or disorder\\textbackslash{}    & phenotypes & No          , Not reported, Yes          & NA\\\\\n",
       "\t5 &        NA & 1518 &  TRUE & 1518 &       NA & \\textbackslash{}Hematopoietic Cell Transplant for Sickle Cell Disease (HCT for SCD) ( phs002385 )\\textbackslash{}1 - Patient Related\\textbackslash{}Cases from 2016 Blood publication\\textbackslash{}                    & phenotypes & No , Yes & NA\\\\\n",
       "\\end{tabular}\n"
      ],
      "text/markdown": [
       "\n",
       "A data.frame: 5 × 9\n",
       "\n",
       "| <!--/--> | min &lt;dbl&gt; | patientCount &lt;int&gt; | categorical &lt;lgl&gt; | observationCount &lt;int&gt; | max &lt;dbl&gt; | name &lt;chr&gt; | HpdsDataType &lt;chr&gt; | categoryValues &lt;list&gt; | description &lt;lgl&gt; |\n",
       "|---|---|---|---|---|---|---|---|---|---|\n",
       "| 2 | 0.4276316 |   10 | FALSE |   10 | 123.3882 | \\Hematopoietic Cell Transplant for Sickle Cell Disease (HCT for SCD) ( phs002385 )\\5 - CRF data collection track only\\Time from HCT to pancreatitis, months\\ | phenotypes | NA | NA |\n",
       "| 210 |        NA | 1518 |  TRUE | 1518 |       NA | \\Hematopoietic Cell Transplant for Sickle Cell Disease (HCT for SCD) ( phs002385 )\\4 - Outcomes\\Death without graft failure\\                                 | phenotypes | No          , Not Reported, Yes          | NA |\n",
       "| 3 |        NA | 1518 |  TRUE | 1518 |       NA | \\Hematopoietic Cell Transplant for Sickle Cell Disease (HCT for SCD) ( phs002385 )\\3 - Transplant Related\\Conditioning intensity\\                            | phenotypes | Myeloablative                 , Non-myeloablative             , Not Reported                  , Reduced-intensity conditioning | NA |\n",
       "| 4 |        NA |  732 |  TRUE |  732 |       NA | \\Hematopoietic Cell Transplant for Sickle Cell Disease (HCT for SCD) ( phs002385 )\\5 - CRF data collection track only\\Other organ impairment or disorder\\    | phenotypes | No          , Not reported, Yes          | NA |\n",
       "| 5 |        NA | 1518 |  TRUE | 1518 |       NA | \\Hematopoietic Cell Transplant for Sickle Cell Disease (HCT for SCD) ( phs002385 )\\1 - Patient Related\\Cases from 2016 Blood publication\\                    | phenotypes | No , Yes | NA |\n",
       "\n"
      ],
      "text/plain": [
       "    min       patientCount categorical observationCount max     \n",
       "2   0.4276316   10         FALSE         10             123.3882\n",
       "210        NA 1518          TRUE       1518                   NA\n",
       "3          NA 1518          TRUE       1518                   NA\n",
       "4          NA  732          TRUE        732                   NA\n",
       "5          NA 1518          TRUE       1518                   NA\n",
       "    name                                                                                                                                                            \n",
       "2   \\\\Hematopoietic Cell Transplant for Sickle Cell Disease (HCT for SCD) ( phs002385 )\\\\5 - CRF data collection track only\\\\Time from HCT to pancreatitis, months\\\\\n",
       "210 \\\\Hematopoietic Cell Transplant for Sickle Cell Disease (HCT for SCD) ( phs002385 )\\\\4 - Outcomes\\\\Death without graft failure\\\\                                \n",
       "3   \\\\Hematopoietic Cell Transplant for Sickle Cell Disease (HCT for SCD) ( phs002385 )\\\\3 - Transplant Related\\\\Conditioning intensity\\\\                           \n",
       "4   \\\\Hematopoietic Cell Transplant for Sickle Cell Disease (HCT for SCD) ( phs002385 )\\\\5 - CRF data collection track only\\\\Other organ impairment or disorder\\\\   \n",
       "5   \\\\Hematopoietic Cell Transplant for Sickle Cell Disease (HCT for SCD) ( phs002385 )\\\\1 - Patient Related\\\\Cases from 2016 Blood publication\\\\                   \n",
       "    HpdsDataType\n",
       "2   phenotypes  \n",
       "210 phenotypes  \n",
       "3   phenotypes  \n",
       "4   phenotypes  \n",
       "5   phenotypes  \n",
       "    categoryValues                                                                                                                \n",
       "2   NA                                                                                                                            \n",
       "210 No          , Not Reported, Yes                                                                                               \n",
       "3   Myeloablative                 , Non-myeloablative             , Not Reported                  , Reduced-intensity conditioning\n",
       "4   No          , Not reported, Yes                                                                                               \n",
       "5   No , Yes                                                                                                                      \n",
       "    description\n",
       "2   NA         \n",
       "210 NA         \n",
       "3   NA         \n",
       "4   NA         \n",
       "5   NA         "
      ]
     },
     "metadata": {},
     "output_type": "display_data"
    }
   ],
   "source": [
    "hctforscd_variablesDict <-  bdc::find.in.dictionary(resource, \"HCT for SCD\") %>% \n",
    "                            bdc::extract.entries()\n",
    "hctforscd_variablesDict[1:5,]"
   ]
  },
  {
   "cell_type": "markdown",
   "metadata": {},
   "source": [
    "*Note: Using* `bdc::find.in.dictionary` *function without any search terms returns every entry.*"
   ]
  },
  {
   "cell_type": "markdown",
   "metadata": {},
   "source": [
    "The dictionary currently returned by the API provides information about the variables, such as:\n",
    "- observationCount: number of entries with non-null value\n",
    "- categorical: type of the variables, True if strings, False if numerical\n",
    "- min/max: only provided for numerical variables\n",
    "- HpdsDataType: 'phenotypes' or 'genotypes'. Currently, the API only exposes 'phenotypes' variables"
   ]
  },
  {
   "cell_type": "markdown",
   "metadata": {},
   "source": [
    "### Extract full HCT for SCD data dictionary to CSV"
   ]
  },
  {
   "cell_type": "markdown",
   "metadata": {},
   "source": [
    "Using the `bdc::find.in.dictionary` we can extact the entire data dictionary by searching for `HCT for SCD` and saving it to `fullVariablesDict`:"
   ]
  },
  {
   "cell_type": "code",
   "execution_count": 13,
   "metadata": {},
   "outputs": [
    {
     "data": {
      "text/html": [
       "<style>\n",
       ".list-inline {list-style: none; margin:0; padding: 0}\n",
       ".list-inline>li {display: inline-block}\n",
       ".list-inline>li:not(:last-child)::after {content: \"\\00b7\"; padding: 0 .5ex}\n",
       "</style>\n",
       "<ol class=list-inline><li>155</li><li>9</li></ol>\n"
      ],
      "text/latex": [
       "\\begin{enumerate*}\n",
       "\\item 155\n",
       "\\item 9\n",
       "\\end{enumerate*}\n"
      ],
      "text/markdown": [
       "1. 155\n",
       "2. 9\n",
       "\n",
       "\n"
      ],
      "text/plain": [
       "[1] 155   9"
      ]
     },
     "metadata": {},
     "output_type": "display_data"
    }
   ],
   "source": [
    "fullVariablesDict <- bdc::find.in.dictionary(resource, \"HCT for SCD\") %>%\n",
    "                     bdc::extract.entries()\n",
    "dim(fullVariablesDict)"
   ]
  },
  {
   "cell_type": "markdown",
   "metadata": {},
   "source": [
    "Check that the `fullVariablesDict` dataframe contains some values."
   ]
  },
  {
   "cell_type": "code",
   "execution_count": 14,
   "metadata": {},
   "outputs": [
    {
     "data": {
      "text/html": [
       "<table class=\"dataframe\">\n",
       "<caption>A data.frame: 5 × 9</caption>\n",
       "<thead>\n",
       "\t<tr><th></th><th scope=col>min</th><th scope=col>patientCount</th><th scope=col>categorical</th><th scope=col>observationCount</th><th scope=col>max</th><th scope=col>name</th><th scope=col>HpdsDataType</th><th scope=col>categoryValues</th><th scope=col>description</th></tr>\n",
       "\t<tr><th></th><th scope=col>&lt;dbl&gt;</th><th scope=col>&lt;int&gt;</th><th scope=col>&lt;lgl&gt;</th><th scope=col>&lt;int&gt;</th><th scope=col>&lt;dbl&gt;</th><th scope=col>&lt;chr&gt;</th><th scope=col>&lt;chr&gt;</th><th scope=col>&lt;list&gt;</th><th scope=col>&lt;lgl&gt;</th></tr>\n",
       "</thead>\n",
       "<tbody>\n",
       "\t<tr><th scope=row>2</th><td>0.4276316</td><td>  10</td><td>FALSE</td><td>  10</td><td>123.3882</td><td>\\Hematopoietic Cell Transplant for Sickle Cell Disease (HCT for SCD) ( phs002385 )\\5 - CRF data collection track only\\Time from HCT to pancreatitis, months\\</td><td>phenotypes</td><td>NA</td><td>NA</td></tr>\n",
       "\t<tr><th scope=row>210</th><td>       NA</td><td>1518</td><td> TRUE</td><td>1518</td><td>      NA</td><td>\\Hematopoietic Cell Transplant for Sickle Cell Disease (HCT for SCD) ( phs002385 )\\4 - Outcomes\\Death without graft failure\\                                </td><td>phenotypes</td><td>No          , Not Reported, Yes         </td><td>NA</td></tr>\n",
       "\t<tr><th scope=row>3</th><td>       NA</td><td>1518</td><td> TRUE</td><td>1518</td><td>      NA</td><td>\\Hematopoietic Cell Transplant for Sickle Cell Disease (HCT for SCD) ( phs002385 )\\3 - Transplant Related\\Conditioning intensity\\                           </td><td>phenotypes</td><td>Myeloablative                 , Non-myeloablative             , Not Reported                  , Reduced-intensity conditioning</td><td>NA</td></tr>\n",
       "\t<tr><th scope=row>4</th><td>       NA</td><td> 732</td><td> TRUE</td><td> 732</td><td>      NA</td><td>\\Hematopoietic Cell Transplant for Sickle Cell Disease (HCT for SCD) ( phs002385 )\\5 - CRF data collection track only\\Other organ impairment or disorder\\   </td><td>phenotypes</td><td>No          , Not reported, Yes         </td><td>NA</td></tr>\n",
       "\t<tr><th scope=row>5</th><td>       NA</td><td>1518</td><td> TRUE</td><td>1518</td><td>      NA</td><td>\\Hematopoietic Cell Transplant for Sickle Cell Disease (HCT for SCD) ( phs002385 )\\1 - Patient Related\\Cases from 2016 Blood publication\\                   </td><td>phenotypes</td><td>No , Yes</td><td>NA</td></tr>\n",
       "</tbody>\n",
       "</table>\n"
      ],
      "text/latex": [
       "A data.frame: 5 × 9\n",
       "\\begin{tabular}{r|lllllllll}\n",
       "  & min & patientCount & categorical & observationCount & max & name & HpdsDataType & categoryValues & description\\\\\n",
       "  & <dbl> & <int> & <lgl> & <int> & <dbl> & <chr> & <chr> & <list> & <lgl>\\\\\n",
       "\\hline\n",
       "\t2 & 0.4276316 &   10 & FALSE &   10 & 123.3882 & \\textbackslash{}Hematopoietic Cell Transplant for Sickle Cell Disease (HCT for SCD) ( phs002385 )\\textbackslash{}5 - CRF data collection track only\\textbackslash{}Time from HCT to pancreatitis, months\\textbackslash{} & phenotypes & NA & NA\\\\\n",
       "\t210 &        NA & 1518 &  TRUE & 1518 &       NA & \\textbackslash{}Hematopoietic Cell Transplant for Sickle Cell Disease (HCT for SCD) ( phs002385 )\\textbackslash{}4 - Outcomes\\textbackslash{}Death without graft failure\\textbackslash{}                                 & phenotypes & No          , Not Reported, Yes          & NA\\\\\n",
       "\t3 &        NA & 1518 &  TRUE & 1518 &       NA & \\textbackslash{}Hematopoietic Cell Transplant for Sickle Cell Disease (HCT for SCD) ( phs002385 )\\textbackslash{}3 - Transplant Related\\textbackslash{}Conditioning intensity\\textbackslash{}                            & phenotypes & Myeloablative                 , Non-myeloablative             , Not Reported                  , Reduced-intensity conditioning & NA\\\\\n",
       "\t4 &        NA &  732 &  TRUE &  732 &       NA & \\textbackslash{}Hematopoietic Cell Transplant for Sickle Cell Disease (HCT for SCD) ( phs002385 )\\textbackslash{}5 - CRF data collection track only\\textbackslash{}Other organ impairment or disorder\\textbackslash{}    & phenotypes & No          , Not reported, Yes          & NA\\\\\n",
       "\t5 &        NA & 1518 &  TRUE & 1518 &       NA & \\textbackslash{}Hematopoietic Cell Transplant for Sickle Cell Disease (HCT for SCD) ( phs002385 )\\textbackslash{}1 - Patient Related\\textbackslash{}Cases from 2016 Blood publication\\textbackslash{}                    & phenotypes & No , Yes & NA\\\\\n",
       "\\end{tabular}\n"
      ],
      "text/markdown": [
       "\n",
       "A data.frame: 5 × 9\n",
       "\n",
       "| <!--/--> | min &lt;dbl&gt; | patientCount &lt;int&gt; | categorical &lt;lgl&gt; | observationCount &lt;int&gt; | max &lt;dbl&gt; | name &lt;chr&gt; | HpdsDataType &lt;chr&gt; | categoryValues &lt;list&gt; | description &lt;lgl&gt; |\n",
       "|---|---|---|---|---|---|---|---|---|---|\n",
       "| 2 | 0.4276316 |   10 | FALSE |   10 | 123.3882 | \\Hematopoietic Cell Transplant for Sickle Cell Disease (HCT for SCD) ( phs002385 )\\5 - CRF data collection track only\\Time from HCT to pancreatitis, months\\ | phenotypes | NA | NA |\n",
       "| 210 |        NA | 1518 |  TRUE | 1518 |       NA | \\Hematopoietic Cell Transplant for Sickle Cell Disease (HCT for SCD) ( phs002385 )\\4 - Outcomes\\Death without graft failure\\                                 | phenotypes | No          , Not Reported, Yes          | NA |\n",
       "| 3 |        NA | 1518 |  TRUE | 1518 |       NA | \\Hematopoietic Cell Transplant for Sickle Cell Disease (HCT for SCD) ( phs002385 )\\3 - Transplant Related\\Conditioning intensity\\                            | phenotypes | Myeloablative                 , Non-myeloablative             , Not Reported                  , Reduced-intensity conditioning | NA |\n",
       "| 4 |        NA |  732 |  TRUE |  732 |       NA | \\Hematopoietic Cell Transplant for Sickle Cell Disease (HCT for SCD) ( phs002385 )\\5 - CRF data collection track only\\Other organ impairment or disorder\\    | phenotypes | No          , Not reported, Yes          | NA |\n",
       "| 5 |        NA | 1518 |  TRUE | 1518 |       NA | \\Hematopoietic Cell Transplant for Sickle Cell Disease (HCT for SCD) ( phs002385 )\\1 - Patient Related\\Cases from 2016 Blood publication\\                    | phenotypes | No , Yes | NA |\n",
       "\n"
      ],
      "text/plain": [
       "    min       patientCount categorical observationCount max     \n",
       "2   0.4276316   10         FALSE         10             123.3882\n",
       "210        NA 1518          TRUE       1518                   NA\n",
       "3          NA 1518          TRUE       1518                   NA\n",
       "4          NA  732          TRUE        732                   NA\n",
       "5          NA 1518          TRUE       1518                   NA\n",
       "    name                                                                                                                                                            \n",
       "2   \\\\Hematopoietic Cell Transplant for Sickle Cell Disease (HCT for SCD) ( phs002385 )\\\\5 - CRF data collection track only\\\\Time from HCT to pancreatitis, months\\\\\n",
       "210 \\\\Hematopoietic Cell Transplant for Sickle Cell Disease (HCT for SCD) ( phs002385 )\\\\4 - Outcomes\\\\Death without graft failure\\\\                                \n",
       "3   \\\\Hematopoietic Cell Transplant for Sickle Cell Disease (HCT for SCD) ( phs002385 )\\\\3 - Transplant Related\\\\Conditioning intensity\\\\                           \n",
       "4   \\\\Hematopoietic Cell Transplant for Sickle Cell Disease (HCT for SCD) ( phs002385 )\\\\5 - CRF data collection track only\\\\Other organ impairment or disorder\\\\   \n",
       "5   \\\\Hematopoietic Cell Transplant for Sickle Cell Disease (HCT for SCD) ( phs002385 )\\\\1 - Patient Related\\\\Cases from 2016 Blood publication\\\\                   \n",
       "    HpdsDataType\n",
       "2   phenotypes  \n",
       "210 phenotypes  \n",
       "3   phenotypes  \n",
       "4   phenotypes  \n",
       "5   phenotypes  \n",
       "    categoryValues                                                                                                                \n",
       "2   NA                                                                                                                            \n",
       "210 No          , Not Reported, Yes                                                                                               \n",
       "3   Myeloablative                 , Non-myeloablative             , Not Reported                  , Reduced-intensity conditioning\n",
       "4   No          , Not reported, Yes                                                                                               \n",
       "5   No , Yes                                                                                                                      \n",
       "    description\n",
       "2   NA         \n",
       "210 NA         \n",
       "3   NA         \n",
       "4   NA         \n",
       "5   NA         "
      ]
     },
     "metadata": {},
     "output_type": "display_data"
    }
   ],
   "source": [
    "fullVariablesDict[0:5,] # View first five rows"
   ]
  },
  {
   "cell_type": "markdown",
   "metadata": {},
   "source": [
    "We can then write the data frame that contains the full HCT for SCD data dictionary to a csv file."
   ]
  },
  {
   "cell_type": "code",
   "execution_count": 15,
   "metadata": {},
   "outputs": [],
   "source": [
    "dataDictFile <- \"data_dictionary_R.csv\" # Name of output file\n",
    "saveDictFrame <- fullVariablesDict[ , c(\"name\", \"patientCount\", \"min\", \"categorical\", \"observationCount\", \"max\", \"HpdsDataType\", \"description\")]\n",
    "write.csv(saveDictFrame, dataDictFile, row.names = FALSE)"
   ]
  },
  {
   "cell_type": "markdown",
   "metadata": {},
   "source": [
    "You should now see a `data_dictionary_R.csv` in the Jupyter Hub file explorer, in the same folder as this notebook."
   ]
  },
  {
   "cell_type": "markdown",
   "metadata": {},
   "source": [
    "### Parsing variable names"
   ]
  },
  {
   "cell_type": "markdown",
   "metadata": {},
   "source": [
    "We can use a simple function, `get_multiIndex_variablesDict`, defined in `R_lib/utils.R` to add a little more information to the variable dictionary and to simplify working with variables names.\n",
    "\n",
    "Although not an official feature of the API, such functionality illustrates how to quickly select groups of related variables.\n",
    "\n",
    "Printing part of the parsed names dictionary allows us to quickly see the tree-like organization of the variable names. Moreover, original and simplified variable names are now stored respectively in the `varName` and `simplified_varName` columns (simplified variable names is simply the last component of the variable name, that is usually the most informative to know what each variable is about)."
   ]
  },
  {
   "cell_type": "code",
   "execution_count": 16,
   "metadata": {},
   "outputs": [
    {
     "data": {
      "text/html": [
       "<table class=\"dataframe\">\n",
       "<caption>A tibble: 6 × 11</caption>\n",
       "<thead>\n",
       "\t<tr><th scope=col>level_0</th><th scope=col>level_1</th><th scope=col>level_2</th><th scope=col>simplified_name</th><th scope=col>name</th><th scope=col>observationCount</th><th scope=col>categorical</th><th scope=col>categoryValues</th><th scope=col>min</th><th scope=col>max</th><th scope=col>HpdsDataType</th></tr>\n",
       "\t<tr><th scope=col>&lt;chr&gt;</th><th scope=col>&lt;chr&gt;</th><th scope=col>&lt;chr&gt;</th><th scope=col>&lt;chr&gt;</th><th scope=col>&lt;chr&gt;</th><th scope=col>&lt;int&gt;</th><th scope=col>&lt;lgl&gt;</th><th scope=col>&lt;list&gt;</th><th scope=col>&lt;dbl&gt;</th><th scope=col>&lt;dbl&gt;</th><th scope=col>&lt;chr&gt;</th></tr>\n",
       "</thead>\n",
       "<tbody>\n",
       "\t<tr><td>Hematopoietic Cell Transplant for Sickle Cell Disease (HCT for SCD) ( phs002385 )</td><td>5 - CRF data collection track only</td><td>Time from HCT to pancreatitis, months             </td><td>Time from HCT to pancreatitis, months             </td><td>\\Hematopoietic Cell Transplant for Sickle Cell Disease (HCT for SCD) ( phs002385 )\\5 - CRF data collection track only\\Time from HCT to pancreatitis, months\\             </td><td>  10</td><td>FALSE</td><td>NA</td><td>0.4276316</td><td>123.3882</td><td>phenotypes</td></tr>\n",
       "\t<tr><td>Hematopoietic Cell Transplant for Sickle Cell Disease (HCT for SCD) ( phs002385 )</td><td>4 - Outcomes                      </td><td>Death without graft failure                       </td><td>Death without graft failure                       </td><td>\\Hematopoietic Cell Transplant for Sickle Cell Disease (HCT for SCD) ( phs002385 )\\4 - Outcomes\\Death without graft failure\\                                             </td><td>1518</td><td> TRUE</td><td>No          , Not Reported, Yes         </td><td>       NA</td><td>      NA</td><td>phenotypes</td></tr>\n",
       "\t<tr><td>Hematopoietic Cell Transplant for Sickle Cell Disease (HCT for SCD) ( phs002385 )</td><td>3 - Transplant Related            </td><td>Conditioning intensity                            </td><td>Conditioning intensity                            </td><td>\\Hematopoietic Cell Transplant for Sickle Cell Disease (HCT for SCD) ( phs002385 )\\3 - Transplant Related\\Conditioning intensity\\                                        </td><td>1518</td><td> TRUE</td><td>Myeloablative                 , Non-myeloablative             , Not Reported                  , Reduced-intensity conditioning</td><td>       NA</td><td>      NA</td><td>phenotypes</td></tr>\n",
       "\t<tr><td>Hematopoietic Cell Transplant for Sickle Cell Disease (HCT for SCD) ( phs002385 )</td><td>5 - CRF data collection track only</td><td>Other organ impairment or disorder                </td><td>Other organ impairment or disorder                </td><td>\\Hematopoietic Cell Transplant for Sickle Cell Disease (HCT for SCD) ( phs002385 )\\5 - CRF data collection track only\\Other organ impairment or disorder\\                </td><td> 732</td><td> TRUE</td><td>No          , Not reported, Yes         </td><td>       NA</td><td>      NA</td><td>phenotypes</td></tr>\n",
       "\t<tr><td>Hematopoietic Cell Transplant for Sickle Cell Disease (HCT for SCD) ( phs002385 )</td><td>1 - Patient Related               </td><td>Cases from 2016 Blood publication                 </td><td>Cases from 2016 Blood publication                 </td><td>\\Hematopoietic Cell Transplant for Sickle Cell Disease (HCT for SCD) ( phs002385 )\\1 - Patient Related\\Cases from 2016 Blood publication\\                                </td><td>1518</td><td> TRUE</td><td>No , Yes</td><td>       NA</td><td>      NA</td><td>phenotypes</td></tr>\n",
       "\t<tr><td>Hematopoietic Cell Transplant for Sickle Cell Disease (HCT for SCD) ( phs002385 )</td><td>5 - CRF data collection track only</td><td>Diabetes/hyperglycemia requiring chronic treatment</td><td>Diabetes/hyperglycemia requiring chronic treatment</td><td>\\Hematopoietic Cell Transplant for Sickle Cell Disease (HCT for SCD) ( phs002385 )\\5 - CRF data collection track only\\Diabetes/hyperglycemia requiring chronic treatment\\</td><td> 732</td><td> TRUE</td><td>No          , Not reported, Yes         </td><td>       NA</td><td>      NA</td><td>phenotypes</td></tr>\n",
       "</tbody>\n",
       "</table>\n"
      ],
      "text/latex": [
       "A tibble: 6 × 11\n",
       "\\begin{tabular}{lllllllllll}\n",
       " level\\_0 & level\\_1 & level\\_2 & simplified\\_name & name & observationCount & categorical & categoryValues & min & max & HpdsDataType\\\\\n",
       " <chr> & <chr> & <chr> & <chr> & <chr> & <int> & <lgl> & <list> & <dbl> & <dbl> & <chr>\\\\\n",
       "\\hline\n",
       "\t Hematopoietic Cell Transplant for Sickle Cell Disease (HCT for SCD) ( phs002385 ) & 5 - CRF data collection track only & Time from HCT to pancreatitis, months              & Time from HCT to pancreatitis, months              & \\textbackslash{}Hematopoietic Cell Transplant for Sickle Cell Disease (HCT for SCD) ( phs002385 )\\textbackslash{}5 - CRF data collection track only\\textbackslash{}Time from HCT to pancreatitis, months\\textbackslash{}              &   10 & FALSE & NA & 0.4276316 & 123.3882 & phenotypes\\\\\n",
       "\t Hematopoietic Cell Transplant for Sickle Cell Disease (HCT for SCD) ( phs002385 ) & 4 - Outcomes                       & Death without graft failure                        & Death without graft failure                        & \\textbackslash{}Hematopoietic Cell Transplant for Sickle Cell Disease (HCT for SCD) ( phs002385 )\\textbackslash{}4 - Outcomes\\textbackslash{}Death without graft failure\\textbackslash{}                                              & 1518 &  TRUE & No          , Not Reported, Yes          &        NA &       NA & phenotypes\\\\\n",
       "\t Hematopoietic Cell Transplant for Sickle Cell Disease (HCT for SCD) ( phs002385 ) & 3 - Transplant Related             & Conditioning intensity                             & Conditioning intensity                             & \\textbackslash{}Hematopoietic Cell Transplant for Sickle Cell Disease (HCT for SCD) ( phs002385 )\\textbackslash{}3 - Transplant Related\\textbackslash{}Conditioning intensity\\textbackslash{}                                         & 1518 &  TRUE & Myeloablative                 , Non-myeloablative             , Not Reported                  , Reduced-intensity conditioning &        NA &       NA & phenotypes\\\\\n",
       "\t Hematopoietic Cell Transplant for Sickle Cell Disease (HCT for SCD) ( phs002385 ) & 5 - CRF data collection track only & Other organ impairment or disorder                 & Other organ impairment or disorder                 & \\textbackslash{}Hematopoietic Cell Transplant for Sickle Cell Disease (HCT for SCD) ( phs002385 )\\textbackslash{}5 - CRF data collection track only\\textbackslash{}Other organ impairment or disorder\\textbackslash{}                 &  732 &  TRUE & No          , Not reported, Yes          &        NA &       NA & phenotypes\\\\\n",
       "\t Hematopoietic Cell Transplant for Sickle Cell Disease (HCT for SCD) ( phs002385 ) & 1 - Patient Related                & Cases from 2016 Blood publication                  & Cases from 2016 Blood publication                  & \\textbackslash{}Hematopoietic Cell Transplant for Sickle Cell Disease (HCT for SCD) ( phs002385 )\\textbackslash{}1 - Patient Related\\textbackslash{}Cases from 2016 Blood publication\\textbackslash{}                                 & 1518 &  TRUE & No , Yes &        NA &       NA & phenotypes\\\\\n",
       "\t Hematopoietic Cell Transplant for Sickle Cell Disease (HCT for SCD) ( phs002385 ) & 5 - CRF data collection track only & Diabetes/hyperglycemia requiring chronic treatment & Diabetes/hyperglycemia requiring chronic treatment & \\textbackslash{}Hematopoietic Cell Transplant for Sickle Cell Disease (HCT for SCD) ( phs002385 )\\textbackslash{}5 - CRF data collection track only\\textbackslash{}Diabetes/hyperglycemia requiring chronic treatment\\textbackslash{} &  732 &  TRUE & No          , Not reported, Yes          &        NA &       NA & phenotypes\\\\\n",
       "\\end{tabular}\n"
      ],
      "text/markdown": [
       "\n",
       "A tibble: 6 × 11\n",
       "\n",
       "| level_0 &lt;chr&gt; | level_1 &lt;chr&gt; | level_2 &lt;chr&gt; | simplified_name &lt;chr&gt; | name &lt;chr&gt; | observationCount &lt;int&gt; | categorical &lt;lgl&gt; | categoryValues &lt;list&gt; | min &lt;dbl&gt; | max &lt;dbl&gt; | HpdsDataType &lt;chr&gt; |\n",
       "|---|---|---|---|---|---|---|---|---|---|---|\n",
       "| Hematopoietic Cell Transplant for Sickle Cell Disease (HCT for SCD) ( phs002385 ) | 5 - CRF data collection track only | Time from HCT to pancreatitis, months              | Time from HCT to pancreatitis, months              | \\Hematopoietic Cell Transplant for Sickle Cell Disease (HCT for SCD) ( phs002385 )\\5 - CRF data collection track only\\Time from HCT to pancreatitis, months\\              |   10 | FALSE | NA | 0.4276316 | 123.3882 | phenotypes |\n",
       "| Hematopoietic Cell Transplant for Sickle Cell Disease (HCT for SCD) ( phs002385 ) | 4 - Outcomes                       | Death without graft failure                        | Death without graft failure                        | \\Hematopoietic Cell Transplant for Sickle Cell Disease (HCT for SCD) ( phs002385 )\\4 - Outcomes\\Death without graft failure\\                                              | 1518 |  TRUE | No          , Not Reported, Yes          |        NA |       NA | phenotypes |\n",
       "| Hematopoietic Cell Transplant for Sickle Cell Disease (HCT for SCD) ( phs002385 ) | 3 - Transplant Related             | Conditioning intensity                             | Conditioning intensity                             | \\Hematopoietic Cell Transplant for Sickle Cell Disease (HCT for SCD) ( phs002385 )\\3 - Transplant Related\\Conditioning intensity\\                                         | 1518 |  TRUE | Myeloablative                 , Non-myeloablative             , Not Reported                  , Reduced-intensity conditioning |        NA |       NA | phenotypes |\n",
       "| Hematopoietic Cell Transplant for Sickle Cell Disease (HCT for SCD) ( phs002385 ) | 5 - CRF data collection track only | Other organ impairment or disorder                 | Other organ impairment or disorder                 | \\Hematopoietic Cell Transplant for Sickle Cell Disease (HCT for SCD) ( phs002385 )\\5 - CRF data collection track only\\Other organ impairment or disorder\\                 |  732 |  TRUE | No          , Not reported, Yes          |        NA |       NA | phenotypes |\n",
       "| Hematopoietic Cell Transplant for Sickle Cell Disease (HCT for SCD) ( phs002385 ) | 1 - Patient Related                | Cases from 2016 Blood publication                  | Cases from 2016 Blood publication                  | \\Hematopoietic Cell Transplant for Sickle Cell Disease (HCT for SCD) ( phs002385 )\\1 - Patient Related\\Cases from 2016 Blood publication\\                                 | 1518 |  TRUE | No , Yes |        NA |       NA | phenotypes |\n",
       "| Hematopoietic Cell Transplant for Sickle Cell Disease (HCT for SCD) ( phs002385 ) | 5 - CRF data collection track only | Diabetes/hyperglycemia requiring chronic treatment | Diabetes/hyperglycemia requiring chronic treatment | \\Hematopoietic Cell Transplant for Sickle Cell Disease (HCT for SCD) ( phs002385 )\\5 - CRF data collection track only\\Diabetes/hyperglycemia requiring chronic treatment\\ |  732 |  TRUE | No          , Not reported, Yes          |        NA |       NA | phenotypes |\n",
       "\n"
      ],
      "text/plain": [
       "  level_0                                                                          \n",
       "1 Hematopoietic Cell Transplant for Sickle Cell Disease (HCT for SCD) ( phs002385 )\n",
       "2 Hematopoietic Cell Transplant for Sickle Cell Disease (HCT for SCD) ( phs002385 )\n",
       "3 Hematopoietic Cell Transplant for Sickle Cell Disease (HCT for SCD) ( phs002385 )\n",
       "4 Hematopoietic Cell Transplant for Sickle Cell Disease (HCT for SCD) ( phs002385 )\n",
       "5 Hematopoietic Cell Transplant for Sickle Cell Disease (HCT for SCD) ( phs002385 )\n",
       "6 Hematopoietic Cell Transplant for Sickle Cell Disease (HCT for SCD) ( phs002385 )\n",
       "  level_1                           \n",
       "1 5 - CRF data collection track only\n",
       "2 4 - Outcomes                      \n",
       "3 3 - Transplant Related            \n",
       "4 5 - CRF data collection track only\n",
       "5 1 - Patient Related               \n",
       "6 5 - CRF data collection track only\n",
       "  level_2                                           \n",
       "1 Time from HCT to pancreatitis, months             \n",
       "2 Death without graft failure                       \n",
       "3 Conditioning intensity                            \n",
       "4 Other organ impairment or disorder                \n",
       "5 Cases from 2016 Blood publication                 \n",
       "6 Diabetes/hyperglycemia requiring chronic treatment\n",
       "  simplified_name                                   \n",
       "1 Time from HCT to pancreatitis, months             \n",
       "2 Death without graft failure                       \n",
       "3 Conditioning intensity                            \n",
       "4 Other organ impairment or disorder                \n",
       "5 Cases from 2016 Blood publication                 \n",
       "6 Diabetes/hyperglycemia requiring chronic treatment\n",
       "  name                                                                                                                                                                         \n",
       "1 \\\\Hematopoietic Cell Transplant for Sickle Cell Disease (HCT for SCD) ( phs002385 )\\\\5 - CRF data collection track only\\\\Time from HCT to pancreatitis, months\\\\             \n",
       "2 \\\\Hematopoietic Cell Transplant for Sickle Cell Disease (HCT for SCD) ( phs002385 )\\\\4 - Outcomes\\\\Death without graft failure\\\\                                             \n",
       "3 \\\\Hematopoietic Cell Transplant for Sickle Cell Disease (HCT for SCD) ( phs002385 )\\\\3 - Transplant Related\\\\Conditioning intensity\\\\                                        \n",
       "4 \\\\Hematopoietic Cell Transplant for Sickle Cell Disease (HCT for SCD) ( phs002385 )\\\\5 - CRF data collection track only\\\\Other organ impairment or disorder\\\\                \n",
       "5 \\\\Hematopoietic Cell Transplant for Sickle Cell Disease (HCT for SCD) ( phs002385 )\\\\1 - Patient Related\\\\Cases from 2016 Blood publication\\\\                                \n",
       "6 \\\\Hematopoietic Cell Transplant for Sickle Cell Disease (HCT for SCD) ( phs002385 )\\\\5 - CRF data collection track only\\\\Diabetes/hyperglycemia requiring chronic treatment\\\\\n",
       "  observationCount categorical\n",
       "1   10             FALSE      \n",
       "2 1518              TRUE      \n",
       "3 1518              TRUE      \n",
       "4  732              TRUE      \n",
       "5 1518              TRUE      \n",
       "6  732              TRUE      \n",
       "  categoryValues                                                                                                                \n",
       "1 NA                                                                                                                            \n",
       "2 No          , Not Reported, Yes                                                                                               \n",
       "3 Myeloablative                 , Non-myeloablative             , Not Reported                  , Reduced-intensity conditioning\n",
       "4 No          , Not reported, Yes                                                                                               \n",
       "5 No , Yes                                                                                                                      \n",
       "6 No          , Not reported, Yes                                                                                               \n",
       "  min       max      HpdsDataType\n",
       "1 0.4276316 123.3882 phenotypes  \n",
       "2        NA       NA phenotypes  \n",
       "3        NA       NA phenotypes  \n",
       "4        NA       NA phenotypes  \n",
       "5        NA       NA phenotypes  \n",
       "6        NA       NA phenotypes  "
      ]
     },
     "metadata": {},
     "output_type": "display_data"
    }
   ],
   "source": [
    "# Display the variables tree hierarchy from the variables name\n",
    "variablesDict <- get_multiIndex_variablesDict(hctforscd_variablesDict)\n",
    "head(variablesDict)"
   ]
  },
  {
   "cell_type": "markdown",
   "metadata": {},
   "source": [
    "Below is a simple example to illustrate the ease of use a multiIndex dictionary. Let's say we are interested in the variables within the \"5 - CRF data collection track only\" of the \"Hematopoietic Cell Transplant for Sickle Cell Disease (HCT for SCD) ( phs002385 )\" study."
   ]
  },
  {
   "cell_type": "code",
   "execution_count": 17,
   "metadata": {},
   "outputs": [
    {
     "data": {
      "text/html": [
       "<table class=\"dataframe\">\n",
       "<caption>A tibble: 111 × 11</caption>\n",
       "<thead>\n",
       "\t<tr><th scope=col>level_0</th><th scope=col>level_1</th><th scope=col>level_2</th><th scope=col>simplified_name</th><th scope=col>name</th><th scope=col>observationCount</th><th scope=col>categorical</th><th scope=col>categoryValues</th><th scope=col>min</th><th scope=col>max</th><th scope=col>HpdsDataType</th></tr>\n",
       "\t<tr><th scope=col>&lt;chr&gt;</th><th scope=col>&lt;chr&gt;</th><th scope=col>&lt;chr&gt;</th><th scope=col>&lt;chr&gt;</th><th scope=col>&lt;chr&gt;</th><th scope=col>&lt;int&gt;</th><th scope=col>&lt;lgl&gt;</th><th scope=col>&lt;list&gt;</th><th scope=col>&lt;dbl&gt;</th><th scope=col>&lt;dbl&gt;</th><th scope=col>&lt;chr&gt;</th></tr>\n",
       "</thead>\n",
       "<tbody>\n",
       "\t<tr><td>Hematopoietic Cell Transplant for Sickle Cell Disease (HCT for SCD) ( phs002385 )</td><td>5 - CRF data collection track only</td><td>Time from HCT to pancreatitis, months                                 </td><td>Time from HCT to pancreatitis, months                                 </td><td>\\Hematopoietic Cell Transplant for Sickle Cell Disease (HCT for SCD) ( phs002385 )\\5 - CRF data collection track only\\Time from HCT to pancreatitis, months\\                                 </td><td> 10</td><td>FALSE</td><td>NA</td><td> 0.4276316</td><td>123.3881579</td><td>phenotypes</td></tr>\n",
       "\t<tr><td>Hematopoietic Cell Transplant for Sickle Cell Disease (HCT for SCD) ( phs002385 )</td><td>5 - CRF data collection track only</td><td>Other organ impairment or disorder                                    </td><td>Other organ impairment or disorder                                    </td><td>\\Hematopoietic Cell Transplant for Sickle Cell Disease (HCT for SCD) ( phs002385 )\\5 - CRF data collection track only\\Other organ impairment or disorder\\                                    </td><td>732</td><td> TRUE</td><td>No          , Not reported, Yes         </td><td>        NA</td><td>         NA</td><td>phenotypes</td></tr>\n",
       "\t<tr><td>Hematopoietic Cell Transplant for Sickle Cell Disease (HCT for SCD) ( phs002385 )</td><td>5 - CRF data collection track only</td><td>Diabetes/hyperglycemia requiring chronic treatment                    </td><td>Diabetes/hyperglycemia requiring chronic treatment                    </td><td>\\Hematopoietic Cell Transplant for Sickle Cell Disease (HCT for SCD) ( phs002385 )\\5 - CRF data collection track only\\Diabetes/hyperglycemia requiring chronic treatment\\                    </td><td>732</td><td> TRUE</td><td>No          , Not reported, Yes         </td><td>        NA</td><td>         NA</td><td>phenotypes</td></tr>\n",
       "\t<tr><td>Hematopoietic Cell Transplant for Sickle Cell Disease (HCT for SCD) ( phs002385 )</td><td>5 - CRF data collection track only</td><td>Did TMA resolve?                                                      </td><td>Did TMA resolve?                                                      </td><td>\\Hematopoietic Cell Transplant for Sickle Cell Disease (HCT for SCD) ( phs002385 )\\5 - CRF data collection track only\\Did TMA resolve?\\                                                      </td><td>732</td><td> TRUE</td><td>N/A         , No          , Not reported, Yes         </td><td>        NA</td><td>         NA</td><td>phenotypes</td></tr>\n",
       "\t<tr><td>Hematopoietic Cell Transplant for Sickle Cell Disease (HCT for SCD) ( phs002385 )</td><td>5 - CRF data collection track only</td><td>VOD post-HCT                                                          </td><td>VOD post-HCT                                                          </td><td>\\Hematopoietic Cell Transplant for Sickle Cell Disease (HCT for SCD) ( phs002385 )\\5 - CRF data collection track only\\VOD post-HCT\\                                                          </td><td>732</td><td> TRUE</td><td>No , Yes</td><td>        NA</td><td>         NA</td><td>phenotypes</td></tr>\n",
       "\t<tr><td>Hematopoietic Cell Transplant for Sickle Cell Disease (HCT for SCD) ( phs002385 )</td><td>5 - CRF data collection track only</td><td>Liver biopsy performed pre-conditioning                               </td><td>Liver biopsy performed pre-conditioning                               </td><td>\\Hematopoietic Cell Transplant for Sickle Cell Disease (HCT for SCD) ( phs002385 )\\5 - CRF data collection track only\\Liver biopsy performed pre-conditioning\\                               </td><td>732</td><td> TRUE</td><td>No          , Not reported, Yes         </td><td>        NA</td><td>         NA</td><td>phenotypes</td></tr>\n",
       "\t<tr><td>Hematopoietic Cell Transplant for Sickle Cell Disease (HCT for SCD) ( phs002385 )</td><td>5 - CRF data collection track only</td><td>Time from HCT to Cataracts, months                                    </td><td>Time from HCT to Cataracts, months                                    </td><td>\\Hematopoietic Cell Transplant for Sickle Cell Disease (HCT for SCD) ( phs002385 )\\5 - CRF data collection track only\\Time from HCT to Cataracts, months\\                                    </td><td>  3</td><td>FALSE</td><td>NA</td><td>12.6644737</td><td> 61.5789474</td><td>phenotypes</td></tr>\n",
       "\t<tr><td>Hematopoietic Cell Transplant for Sickle Cell Disease (HCT for SCD) ( phs002385 )</td><td>5 - CRF data collection track only</td><td>Transfusion of RBC for ACS pre-conditioning                           </td><td>Transfusion of RBC for ACS pre-conditioning                           </td><td>\\Hematopoietic Cell Transplant for Sickle Cell Disease (HCT for SCD) ( phs002385 )\\5 - CRF data collection track only\\Transfusion of RBC for ACS pre-conditioning\\                           </td><td>732</td><td> TRUE</td><td>N/A         , No          , Not reported, Yes         </td><td>        NA</td><td>         NA</td><td>phenotypes</td></tr>\n",
       "\t<tr><td>Hematopoietic Cell Transplant for Sickle Cell Disease (HCT for SCD) ( phs002385 )</td><td>5 - CRF data collection track only</td><td>Type of therapy for iron overload                                     </td><td>Type of therapy for iron overload                                     </td><td>\\Hematopoietic Cell Transplant for Sickle Cell Disease (HCT for SCD) ( phs002385 )\\5 - CRF data collection track only\\Type of therapy for iron overload\\                                     </td><td>732</td><td> TRUE</td><td>Iron chelation only          , N/A                          , Phlebotomy and iron chelation, Phlebotomy only              </td><td>        NA</td><td>         NA</td><td>phenotypes</td></tr>\n",
       "\t<tr><td>Hematopoietic Cell Transplant for Sickle Cell Disease (HCT for SCD) ( phs002385 )</td><td>5 - CRF data collection track only</td><td>Hemoglobin known pre-conditioning                                     </td><td>Hemoglobin known pre-conditioning                                     </td><td>\\Hematopoietic Cell Transplant for Sickle Cell Disease (HCT for SCD) ( phs002385 )\\5 - CRF data collection track only\\Hemoglobin known pre-conditioning\\                                     </td><td>732</td><td> TRUE</td><td>No , Yes</td><td>        NA</td><td>         NA</td><td>phenotypes</td></tr>\n",
       "\t<tr><td>Hematopoietic Cell Transplant for Sickle Cell Disease (HCT for SCD) ( phs002385 )</td><td>5 - CRF data collection track only</td><td>Time from HCT to VOD, months                                          </td><td>Time from HCT to VOD, months                                          </td><td>\\Hematopoietic Cell Transplant for Sickle Cell Disease (HCT for SCD) ( phs002385 )\\5 - CRF data collection track only\\Time from HCT to VOD, months\\                                          </td><td> 23</td><td>FALSE</td><td>NA</td><td> 0.1973684</td><td>  8.2894737</td><td>phenotypes</td></tr>\n",
       "\t<tr><td>Hematopoietic Cell Transplant for Sickle Cell Disease (HCT for SCD) ( phs002385 )</td><td>5 - CRF data collection track only</td><td>Time from HCT to PTSD, months                                         </td><td>Time from HCT to PTSD, months                                         </td><td>\\Hematopoietic Cell Transplant for Sickle Cell Disease (HCT for SCD) ( phs002385 )\\5 - CRF data collection track only\\Time from HCT to PTSD, months\\                                         </td><td>  2</td><td>FALSE</td><td>NA</td><td> 6.4473684</td><td>  8.6842105</td><td>phenotypes</td></tr>\n",
       "\t<tr><td>Hematopoietic Cell Transplant for Sickle Cell Disease (HCT for SCD) ( phs002385 )</td><td>5 - CRF data collection track only</td><td>Hemorrhagic cystitis                                                  </td><td>Hemorrhagic cystitis                                                  </td><td>\\Hematopoietic Cell Transplant for Sickle Cell Disease (HCT for SCD) ( phs002385 )\\5 - CRF data collection track only\\Hemorrhagic cystitis\\                                                  </td><td>732</td><td> TRUE</td><td>No          , Not reported, Yes         </td><td>        NA</td><td>         NA</td><td>phenotypes</td></tr>\n",
       "\t<tr><td>Hematopoietic Cell Transplant for Sickle Cell Disease (HCT for SCD) ( phs002385 )</td><td>5 - CRF data collection track only</td><td>Fibrosis present pre-conditioning                                     </td><td>Fibrosis present pre-conditioning                                     </td><td>\\Hematopoietic Cell Transplant for Sickle Cell Disease (HCT for SCD) ( phs002385 )\\5 - CRF data collection track only\\Fibrosis present pre-conditioning\\                                     </td><td>732</td><td> TRUE</td><td>N/A         , No          , Not reported, Yes         </td><td>        NA</td><td>         NA</td><td>phenotypes</td></tr>\n",
       "\t<tr><td>Hematopoietic Cell Transplant for Sickle Cell Disease (HCT for SCD) ( phs002385 )</td><td>5 - CRF data collection track only</td><td>Time from HCT to myocardial infarction, months                        </td><td>Time from HCT to myocardial infarction, months                        </td><td>\\Hematopoietic Cell Transplant for Sickle Cell Disease (HCT for SCD) ( phs002385 )\\5 - CRF data collection track only\\Time from HCT to myocardial infarction, months\\                        </td><td>  1</td><td>FALSE</td><td>NA</td><td> 0.7894737</td><td>  0.7894737</td><td>phenotypes</td></tr>\n",
       "\t<tr><td>Hematopoietic Cell Transplant for Sickle Cell Disease (HCT for SCD) ( phs002385 )</td><td>5 - CRF data collection track only</td><td>Growth hormone deficiency/ short stature                              </td><td>Growth hormone deficiency/ short stature                              </td><td>\\Hematopoietic Cell Transplant for Sickle Cell Disease (HCT for SCD) ( phs002385 )\\5 - CRF data collection track only\\Growth hormone deficiency/ short stature\\                              </td><td>732</td><td> TRUE</td><td>No          , Not reported, Yes         </td><td>        NA</td><td>         NA</td><td>phenotypes</td></tr>\n",
       "\t<tr><td>Hematopoietic Cell Transplant for Sickle Cell Disease (HCT for SCD) ( phs002385 )</td><td>5 - CRF data collection track only</td><td>Time from HCT to CNS hemorrhage, months                               </td><td>Time from HCT to CNS hemorrhage, months                               </td><td>\\Hematopoietic Cell Transplant for Sickle Cell Disease (HCT for SCD) ( phs002385 )\\5 - CRF data collection track only\\Time from HCT to CNS hemorrhage, months\\                               </td><td>  5</td><td>FALSE</td><td>NA</td><td> 0.2302632</td><td>200.1973684</td><td>phenotypes</td></tr>\n",
       "\t<tr><td>Hematopoietic Cell Transplant for Sickle Cell Disease (HCT for SCD) ( phs002385 )</td><td>5 - CRF data collection track only</td><td>Time from HCT to gonadal dysfunction, months                          </td><td>Time from HCT to gonadal dysfunction, months                          </td><td>\\Hematopoietic Cell Transplant for Sickle Cell Disease (HCT for SCD) ( phs002385 )\\5 - CRF data collection track only\\Time from HCT to gonadal dysfunction, months\\                          </td><td> 31</td><td>FALSE</td><td>NA</td><td> 1.8092105</td><td>134.6381579</td><td>phenotypes</td></tr>\n",
       "\t<tr><td>Hematopoietic Cell Transplant for Sickle Cell Disease (HCT for SCD) ( phs002385 )</td><td>5 - CRF data collection track only</td><td>Vaso-occlusive cirsis requiring hospitalization within 2 years pre-HCT</td><td>Vaso-occlusive cirsis requiring hospitalization within 2 years pre-HCT</td><td>\\Hematopoietic Cell Transplant for Sickle Cell Disease (HCT for SCD) ( phs002385 )\\5 - CRF data collection track only\\Vaso-occlusive cirsis requiring hospitalization within 2 years pre-HCT\\</td><td>732</td><td> TRUE</td><td>No          , Not reported, Yes         </td><td>        NA</td><td>         NA</td><td>phenotypes</td></tr>\n",
       "\t<tr><td>Hematopoietic Cell Transplant for Sickle Cell Disease (HCT for SCD) ( phs002385 )</td><td>5 - CRF data collection track only</td><td>Did patient develop Ipn, ARDS, or IPS following HCT?                  </td><td>Did patient develop Ipn, ARDS, or IPS following HCT?                  </td><td>\\Hematopoietic Cell Transplant for Sickle Cell Disease (HCT for SCD) ( phs002385 )\\5 - CRF data collection track only\\Did patient develop Ipn, ARDS, or IPS following HCT?\\                  </td><td>732</td><td> TRUE</td><td>No          , Not reported, Yes         </td><td>        NA</td><td>         NA</td><td>phenotypes</td></tr>\n",
       "\t<tr><td>Hematopoietic Cell Transplant for Sickle Cell Disease (HCT for SCD) ( phs002385 )</td><td>5 - CRF data collection track only</td><td>Successfully extubated following intubation                           </td><td>Successfully extubated following intubation                           </td><td>\\Hematopoietic Cell Transplant for Sickle Cell Disease (HCT for SCD) ( phs002385 )\\5 - CRF data collection track only\\Successfully extubated following intubation\\                           </td><td>732</td><td> TRUE</td><td>N/A         , No          , Not reported, Yes         </td><td>        NA</td><td>         NA</td><td>phenotypes</td></tr>\n",
       "\t<tr><td>Hematopoietic Cell Transplant for Sickle Cell Disease (HCT for SCD) ( phs002385 )</td><td>5 - CRF data collection track only</td><td>Sickle neuropathy post-HCT                                            </td><td>Sickle neuropathy post-HCT                                            </td><td>\\Hematopoietic Cell Transplant for Sickle Cell Disease (HCT for SCD) ( phs002385 )\\5 - CRF data collection track only\\Sickle neuropathy post-HCT\\                                            </td><td>732</td><td> TRUE</td><td>No          , Not reported, Yes         </td><td>        NA</td><td>         NA</td><td>phenotypes</td></tr>\n",
       "\t<tr><td>Hematopoietic Cell Transplant for Sickle Cell Disease (HCT for SCD) ( phs002385 )</td><td>5 - CRF data collection track only</td><td>Require exchange transfusion                                          </td><td>Require exchange transfusion                                          </td><td>\\Hematopoietic Cell Transplant for Sickle Cell Disease (HCT for SCD) ( phs002385 )\\5 - CRF data collection track only\\Require exchange transfusion\\                                          </td><td>732</td><td> TRUE</td><td>N/A         , No          , Not reported, Yes         </td><td>        NA</td><td>         NA</td><td>phenotypes</td></tr>\n",
       "\t<tr><td>Hematopoietic Cell Transplant for Sickle Cell Disease (HCT for SCD) ( phs002385 )</td><td>5 - CRF data collection track only</td><td>Time from serum albumin test pre-conditioning to transplant, months   </td><td>Time from serum albumin test pre-conditioning to transplant, months   </td><td>\\Hematopoietic Cell Transplant for Sickle Cell Disease (HCT for SCD) ( phs002385 )\\5 - CRF data collection track only\\Time from serum albumin test pre-conditioning to transplant, months\\   </td><td>445</td><td>FALSE</td><td>NA</td><td> 0.1644737</td><td>  4.0460526</td><td>phenotypes</td></tr>\n",
       "\t<tr><td>Hematopoietic Cell Transplant for Sickle Cell Disease (HCT for SCD) ( phs002385 )</td><td>5 - CRF data collection track only</td><td>Stroke pre-conditioning                                               </td><td>Stroke pre-conditioning                                               </td><td>\\Hematopoietic Cell Transplant for Sickle Cell Disease (HCT for SCD) ( phs002385 )\\5 - CRF data collection track only\\Stroke pre-conditioning\\                                               </td><td>732</td><td> TRUE</td><td>No          , Not reported, Yes         </td><td>        NA</td><td>         NA</td><td>phenotypes</td></tr>\n",
       "\t<tr><td>Hematopoietic Cell Transplant for Sickle Cell Disease (HCT for SCD) ( phs002385 )</td><td>5 - CRF data collection track only</td><td>Deep vein thrombosis (DVT)/pulmonary embolism (PE)                    </td><td>Deep vein thrombosis (DVT)/pulmonary embolism (PE)                    </td><td>\\Hematopoietic Cell Transplant for Sickle Cell Disease (HCT for SCD) ( phs002385 )\\5 - CRF data collection track only\\Deep vein thrombosis (DVT)/pulmonary embolism (PE)\\                    </td><td>732</td><td> TRUE</td><td>No          , Not reported, Yes         </td><td>        NA</td><td>         NA</td><td>phenotypes</td></tr>\n",
       "\t<tr><td>Hematopoietic Cell Transplant for Sickle Cell Disease (HCT for SCD) ( phs002385 )</td><td>5 - CRF data collection track only</td><td>Pancreatitis                                                          </td><td>Pancreatitis                                                          </td><td>\\Hematopoietic Cell Transplant for Sickle Cell Disease (HCT for SCD) ( phs002385 )\\5 - CRF data collection track only\\Pancreatitis\\                                                          </td><td>732</td><td> TRUE</td><td>No          , Not reported, Yes         </td><td>        NA</td><td>         NA</td><td>phenotypes</td></tr>\n",
       "\t<tr><td>Hematopoietic Cell Transplant for Sickle Cell Disease (HCT for SCD) ( phs002385 )</td><td>5 - CRF data collection track only</td><td>Time from HCT to avascular necrosis, months                           </td><td>Time from HCT to avascular necrosis, months                           </td><td>\\Hematopoietic Cell Transplant for Sickle Cell Disease (HCT for SCD) ( phs002385 )\\5 - CRF data collection track only\\Time from HCT to avascular necrosis, months\\                           </td><td> 29</td><td>FALSE</td><td>NA</td><td> 0.3947368</td><td>149.3092105</td><td>phenotypes</td></tr>\n",
       "\t<tr><td>Hematopoietic Cell Transplant for Sickle Cell Disease (HCT for SCD) ( phs002385 )</td><td>5 - CRF data collection track only</td><td>Time from HCT to depression, months                                   </td><td>Time from HCT to depression, months                                   </td><td>\\Hematopoietic Cell Transplant for Sickle Cell Disease (HCT for SCD) ( phs002385 )\\5 - CRF data collection track only\\Time from HCT to depression, months\\                                   </td><td> 18</td><td>FALSE</td><td>NA</td><td> 0.8552632</td><td>124.0131579</td><td>phenotypes</td></tr>\n",
       "\t<tr><td>Hematopoietic Cell Transplant for Sickle Cell Disease (HCT for SCD) ( phs002385 )</td><td>5 - CRF data collection track only</td><td>Time from HCT to neuropathy, months                                   </td><td>Time from HCT to neuropathy, months                                   </td><td>\\Hematopoietic Cell Transplant for Sickle Cell Disease (HCT for SCD) ( phs002385 )\\5 - CRF data collection track only\\Time from HCT to neuropathy, months\\                                   </td><td> 10</td><td>FALSE</td><td>NA</td><td> 0.2631579</td><td> 10.2302632</td><td>phenotypes</td></tr>\n",
       "\t<tr><td>⋮</td><td>⋮</td><td>⋮</td><td>⋮</td><td>⋮</td><td>⋮</td><td>⋮</td><td>⋮</td><td>⋮</td><td>⋮</td><td>⋮</td></tr>\n",
       "\t<tr><td>Hematopoietic Cell Transplant for Sickle Cell Disease (HCT for SCD) ( phs002385 )</td><td>5 - CRF data collection track only</td><td>Time from HCT to DVT, months                                          </td><td>Time from HCT to DVT, months                                          </td><td>\\Hematopoietic Cell Transplant for Sickle Cell Disease (HCT for SCD) ( phs002385 )\\5 - CRF data collection track only\\Time from HCT to DVT, months\\                                          </td><td>   9</td><td>FALSE</td><td>NA</td><td> 0.09868421</td><td>123.38816</td><td>phenotypes</td></tr>\n",
       "\t<tr><td>Hematopoietic Cell Transplant for Sickle Cell Disease (HCT for SCD) ( phs002385 )</td><td>5 - CRF data collection track only</td><td>Congestive heart failure                                              </td><td>Congestive heart failure                                              </td><td>\\Hematopoietic Cell Transplant for Sickle Cell Disease (HCT for SCD) ( phs002385 )\\5 - CRF data collection track only\\Congestive heart failure\\                                              </td><td> 732</td><td> TRUE</td><td>No          , Not reported, Yes         </td><td>         NA</td><td>       NA</td><td>phenotypes</td></tr>\n",
       "\t<tr><td>Hematopoietic Cell Transplant for Sickle Cell Disease (HCT for SCD) ( phs002385 )</td><td>5 - CRF data collection track only</td><td>Hypothyroidism requiring treatment                                    </td><td>Hypothyroidism requiring treatment                                    </td><td>\\Hematopoietic Cell Transplant for Sickle Cell Disease (HCT for SCD) ( phs002385 )\\5 - CRF data collection track only\\Hypothyroidism requiring treatment\\                                    </td><td> 732</td><td> TRUE</td><td>No          , Not reported, Yes         </td><td>         NA</td><td>       NA</td><td>phenotypes</td></tr>\n",
       "\t<tr><td>Hematopoietic Cell Transplant for Sickle Cell Disease (HCT for SCD) ( phs002385 )</td><td>5 - CRF data collection track only</td><td>Time from HCT to growth hormone deficiency, months                    </td><td>Time from HCT to growth hormone deficiency, months                    </td><td>\\Hematopoietic Cell Transplant for Sickle Cell Disease (HCT for SCD) ( phs002385 )\\5 - CRF data collection track only\\Time from HCT to growth hormone deficiency, months\\                    </td><td>  12</td><td>FALSE</td><td>NA</td><td>12.36842105</td><td>134.40789</td><td>phenotypes</td></tr>\n",
       "\t<tr><td>Hematopoietic Cell Transplant for Sickle Cell Disease (HCT for SCD) ( phs002385 )</td><td>5 - CRF data collection track only</td><td>Osteoporosis                                                          </td><td>Osteoporosis                                                          </td><td>\\Hematopoietic Cell Transplant for Sickle Cell Disease (HCT for SCD) ( phs002385 )\\5 - CRF data collection track only\\Osteoporosis\\                                                          </td><td> 732</td><td> TRUE</td><td>No          , Not reported</td><td>         NA</td><td>       NA</td><td>phenotypes</td></tr>\n",
       "\t<tr><td>Hematopoietic Cell Transplant for Sickle Cell Disease (HCT for SCD) ( phs002385 )</td><td>5 - CRF data collection track only</td><td>Serum creatinine pre-conditioning unit                                </td><td>Serum creatinine pre-conditioning unit                                </td><td>\\Hematopoietic Cell Transplant for Sickle Cell Disease (HCT for SCD) ( phs002385 )\\5 - CRF data collection track only\\Serum creatinine pre-conditioning unit\\                                </td><td> 732</td><td> TRUE</td><td>Not reported, mg/dL       </td><td>         NA</td><td>       NA</td><td>phenotypes</td></tr>\n",
       "\t<tr><td>Hematopoietic Cell Transplant for Sickle Cell Disease (HCT for SCD) ( phs002385 )</td><td>5 - CRF data collection track only</td><td>Vaso-occlusive pain post HCT                                          </td><td>Vaso-occlusive pain post HCT                                          </td><td>\\Hematopoietic Cell Transplant for Sickle Cell Disease (HCT for SCD) ( phs002385 )\\5 - CRF data collection track only\\Vaso-occlusive pain post HCT\\                                          </td><td>1518</td><td> TRUE</td><td>No          , Not Reported, Yes         </td><td>         NA</td><td>       NA</td><td>phenotypes</td></tr>\n",
       "\t<tr><td>Hematopoietic Cell Transplant for Sickle Cell Disease (HCT for SCD) ( phs002385 )</td><td>5 - CRF data collection track only</td><td>Gonadal dysfunction requiring horomone therapy                        </td><td>Gonadal dysfunction requiring horomone therapy                        </td><td>\\Hematopoietic Cell Transplant for Sickle Cell Disease (HCT for SCD) ( phs002385 )\\5 - CRF data collection track only\\Gonadal dysfunction requiring horomone therapy\\                        </td><td> 732</td><td> TRUE</td><td>No          , Not reported, Yes         </td><td>         NA</td><td>       NA</td><td>phenotypes</td></tr>\n",
       "\t<tr><td>Hematopoietic Cell Transplant for Sickle Cell Disease (HCT for SCD) ( phs002385 )</td><td>5 - CRF data collection track only</td><td>Acute renal failure requiring dialysis                                </td><td>Acute renal failure requiring dialysis                                </td><td>\\Hematopoietic Cell Transplant for Sickle Cell Disease (HCT for SCD) ( phs002385 )\\5 - CRF data collection track only\\Acute renal failure requiring dialysis\\                                </td><td> 732</td><td> TRUE</td><td>No          , Not reported, Yes         </td><td>         NA</td><td>       NA</td><td>phenotypes</td></tr>\n",
       "\t<tr><td>Hematopoietic Cell Transplant for Sickle Cell Disease (HCT for SCD) ( phs002385 )</td><td>5 - CRF data collection track only</td><td>Normal upper limit of serum albumin for center                        </td><td>Normal upper limit of serum albumin for center                        </td><td>\\Hematopoietic Cell Transplant for Sickle Cell Disease (HCT for SCD) ( phs002385 )\\5 - CRF data collection track only\\Normal upper limit of serum albumin for center\\                        </td><td> 445</td><td>FALSE</td><td>NA</td><td> 3.90000000</td><td>  5.70000</td><td>phenotypes</td></tr>\n",
       "\t<tr><td>Hematopoietic Cell Transplant for Sickle Cell Disease (HCT for SCD) ( phs002385 )</td><td>5 - CRF data collection track only</td><td>Type of arrythmia                                                     </td><td>Type of arrythmia                                                     </td><td>\\Hematopoietic Cell Transplant for Sickle Cell Disease (HCT for SCD) ( phs002385 )\\5 - CRF data collection track only\\Type of arrythmia\\                                                     </td><td> 732</td><td> TRUE</td><td>Atrial fibrillation or flutter, N/A                           , Sick sinus syndrome           </td><td>         NA</td><td>       NA</td><td>phenotypes</td></tr>\n",
       "\t<tr><td>Hematopoietic Cell Transplant for Sickle Cell Disease (HCT for SCD) ( phs002385 )</td><td>5 - CRF data collection track only</td><td>Time from HCT to anxiety, months                                      </td><td>Time from HCT to anxiety, months                                      </td><td>\\Hematopoietic Cell Transplant for Sickle Cell Disease (HCT for SCD) ( phs002385 )\\5 - CRF data collection track only\\Time from HCT to anxiety, months\\                                      </td><td>  14</td><td>FALSE</td><td>NA</td><td> 0.00000000</td><td>124.01316</td><td>phenotypes</td></tr>\n",
       "\t<tr><td>Hematopoietic Cell Transplant for Sickle Cell Disease (HCT for SCD) ( phs002385 )</td><td>5 - CRF data collection track only</td><td>CNS hemorrhage                                                        </td><td>CNS hemorrhage                                                        </td><td>\\Hematopoietic Cell Transplant for Sickle Cell Disease (HCT for SCD) ( phs002385 )\\5 - CRF data collection track only\\CNS hemorrhage\\                                                        </td><td> 732</td><td> TRUE</td><td>No          , Not reported, Yes         </td><td>         NA</td><td>       NA</td><td>phenotypes</td></tr>\n",
       "\t<tr><td>Hematopoietic Cell Transplant for Sickle Cell Disease (HCT for SCD) ( phs002385 )</td><td>5 - CRF data collection track only</td><td>DVT catheter related                                                  </td><td>DVT catheter related                                                  </td><td>\\Hematopoietic Cell Transplant for Sickle Cell Disease (HCT for SCD) ( phs002385 )\\5 - CRF data collection track only\\DVT catheter related\\                                                  </td><td> 732</td><td> TRUE</td><td>N/A         , No          , Not reported, Yes         </td><td>         NA</td><td>       NA</td><td>phenotypes</td></tr>\n",
       "\t<tr><td>Hematopoietic Cell Transplant for Sickle Cell Disease (HCT for SCD) ( phs002385 )</td><td>5 - CRF data collection track only</td><td>Post-traumatic stress disorder (PTSD) requiring therapy               </td><td>Post-traumatic stress disorder (PTSD) requiring therapy               </td><td>\\Hematopoietic Cell Transplant for Sickle Cell Disease (HCT for SCD) ( phs002385 )\\5 - CRF data collection track only\\Post-traumatic stress disorder (PTSD) requiring therapy\\               </td><td> 732</td><td> TRUE</td><td>No          , Not reported, Yes         </td><td>         NA</td><td>       NA</td><td>phenotypes</td></tr>\n",
       "\t<tr><td>Hematopoietic Cell Transplant for Sickle Cell Disease (HCT for SCD) ( phs002385 )</td><td>5 - CRF data collection track only</td><td>Neuropathy                                                            </td><td>Neuropathy                                                            </td><td>\\Hematopoietic Cell Transplant for Sickle Cell Disease (HCT for SCD) ( phs002385 )\\5 - CRF data collection track only\\Neuropathy\\                                                            </td><td> 732</td><td> TRUE</td><td>No , Yes</td><td>         NA</td><td>       NA</td><td>phenotypes</td></tr>\n",
       "\t<tr><td>Hematopoietic Cell Transplant for Sickle Cell Disease (HCT for SCD) ( phs002385 )</td><td>5 - CRF data collection track only</td><td>Time from serum creatinine test pre-conditioning to transplant, months</td><td>Time from serum creatinine test pre-conditioning to transplant, months</td><td>\\Hematopoietic Cell Transplant for Sickle Cell Disease (HCT for SCD) ( phs002385 )\\5 - CRF data collection track only\\Time from serum creatinine test pre-conditioning to transplant, months\\</td><td> 719</td><td>FALSE</td><td>NA</td><td> 0.03289474</td><td> 26.08553</td><td>phenotypes</td></tr>\n",
       "\t<tr><td>Hematopoietic Cell Transplant for Sickle Cell Disease (HCT for SCD) ( phs002385 )</td><td>5 - CRF data collection track only</td><td>Depression requiring therapy                                          </td><td>Depression requiring therapy                                          </td><td>\\Hematopoietic Cell Transplant for Sickle Cell Disease (HCT for SCD) ( phs002385 )\\5 - CRF data collection track only\\Depression requiring therapy\\                                          </td><td> 732</td><td> TRUE</td><td>No          , Not reported, Yes         </td><td>         NA</td><td>       NA</td><td>phenotypes</td></tr>\n",
       "\t<tr><td>Hematopoietic Cell Transplant for Sickle Cell Disease (HCT for SCD) ( phs002385 )</td><td>5 - CRF data collection track only</td><td>Acute chest syndrome (ACS) pre-conditioning                           </td><td>Acute chest syndrome (ACS) pre-conditioning                           </td><td>\\Hematopoietic Cell Transplant for Sickle Cell Disease (HCT for SCD) ( phs002385 )\\5 - CRF data collection track only\\Acute chest syndrome (ACS) pre-conditioning\\                           </td><td> 732</td><td> TRUE</td><td>No          , Not reported, Yes         </td><td>         NA</td><td>       NA</td><td>phenotypes</td></tr>\n",
       "\t<tr><td>Hematopoietic Cell Transplant for Sickle Cell Disease (HCT for SCD) ( phs002385 )</td><td>5 - CRF data collection track only</td><td>Therapy given for growth hormone deficiency                           </td><td>Therapy given for growth hormone deficiency                           </td><td>\\Hematopoietic Cell Transplant for Sickle Cell Disease (HCT for SCD) ( phs002385 )\\5 - CRF data collection track only\\Therapy given for growth hormone deficiency\\                           </td><td> 732</td><td> TRUE</td><td>N/A         , No          , Not reported, Yes         </td><td>         NA</td><td>       NA</td><td>phenotypes</td></tr>\n",
       "\t<tr><td>Hematopoietic Cell Transplant for Sickle Cell Disease (HCT for SCD) ( phs002385 )</td><td>5 - CRF data collection track only</td><td>TMA post-HCT                                                          </td><td>TMA post-HCT                                                          </td><td>\\Hematopoietic Cell Transplant for Sickle Cell Disease (HCT for SCD) ( phs002385 )\\5 - CRF data collection track only\\TMA post-HCT\\                                                          </td><td> 732</td><td> TRUE</td><td>No          , Not reported, Yes         </td><td>         NA</td><td>       NA</td><td>phenotypes</td></tr>\n",
       "\t<tr><td>Hematopoietic Cell Transplant for Sickle Cell Disease (HCT for SCD) ( phs002385 )</td><td>5 - CRF data collection track only</td><td>Hemoglobin electrophoresis performed post-HCT                         </td><td>Hemoglobin electrophoresis performed post-HCT                         </td><td>\\Hematopoietic Cell Transplant for Sickle Cell Disease (HCT for SCD) ( phs002385 )\\5 - CRF data collection track only\\Hemoglobin electrophoresis performed post-HCT\\                         </td><td> 732</td><td> TRUE</td><td>No          , Not reported, Yes         </td><td>         NA</td><td>       NA</td><td>phenotypes</td></tr>\n",
       "\t<tr><td>Hematopoietic Cell Transplant for Sickle Cell Disease (HCT for SCD) ( phs002385 )</td><td>5 - CRF data collection track only</td><td>Hemoglobin pre-conditioning unit                                      </td><td>Hemoglobin pre-conditioning unit                                      </td><td>\\Hematopoietic Cell Transplant for Sickle Cell Disease (HCT for SCD) ( phs002385 )\\5 - CRF data collection track only\\Hemoglobin pre-conditioning unit\\                                      </td><td> 732</td><td> TRUE</td><td>Not reported, g/dL        </td><td>         NA</td><td>       NA</td><td>phenotypes</td></tr>\n",
       "\t<tr><td>Hematopoietic Cell Transplant for Sickle Cell Disease (HCT for SCD) ( phs002385 )</td><td>5 - CRF data collection track only</td><td><span style=white-space:pre-wrap>RBC transfused &lt;30 prior to hemoglobin test                           </span></td><td><span style=white-space:pre-wrap>RBC transfused &lt;30 prior to hemoglobin test                           </span></td><td><span style=white-space:pre-wrap>\\Hematopoietic Cell Transplant for Sickle Cell Disease (HCT for SCD) ( phs002385 )\\5 - CRF data collection track only\\RBC transfused &lt;30 prior to hemoglobin test\\                           </span></td><td> 732</td><td> TRUE</td><td><span style=white-space:pre-wrap>No          , Not reported, Yes         </span></td><td><span style=white-space:pre-wrap>         NA</span></td><td><span style=white-space:pre-wrap>       NA</span></td><td>phenotypes</td></tr>\n",
       "\t<tr><td>Hematopoietic Cell Transplant for Sickle Cell Disease (HCT for SCD) ( phs002385 )</td><td>5 - CRF data collection track only</td><td>Sickle neuropathy pre-conditioning                                    </td><td>Sickle neuropathy pre-conditioning                                    </td><td>\\Hematopoietic Cell Transplant for Sickle Cell Disease (HCT for SCD) ( phs002385 )\\5 - CRF data collection track only\\Sickle neuropathy pre-conditioning\\                                    </td><td> 732</td><td> TRUE</td><td>No          , Not reported, Yes         </td><td>         NA</td><td>       NA</td><td>phenotypes</td></tr>\n",
       "\t<tr><td>Hematopoietic Cell Transplant for Sickle Cell Disease (HCT for SCD) ( phs002385 )</td><td>5 - CRF data collection track only</td><td>Serum creatinine known pre-conditioning                               </td><td>Serum creatinine known pre-conditioning                               </td><td>\\Hematopoietic Cell Transplant for Sickle Cell Disease (HCT for SCD) ( phs002385 )\\5 - CRF data collection track only\\Serum creatinine known pre-conditioning\\                               </td><td> 732</td><td> TRUE</td><td>No , Yes</td><td>         NA</td><td>       NA</td><td>phenotypes</td></tr>\n",
       "\t<tr><td>Hematopoietic Cell Transplant for Sickle Cell Disease (HCT for SCD) ( phs002385 )</td><td>5 - CRF data collection track only</td><td>Serum creatinine pre-conditioning                                     </td><td>Serum creatinine pre-conditioning                                     </td><td>\\Hematopoietic Cell Transplant for Sickle Cell Disease (HCT for SCD) ( phs002385 )\\5 - CRF data collection track only\\Serum creatinine pre-conditioning\\                                     </td><td> 722</td><td>FALSE</td><td>NA</td><td> 0.10000000</td><td>  1.50000</td><td>phenotypes</td></tr>\n",
       "\t<tr><td>Hematopoietic Cell Transplant for Sickle Cell Disease (HCT for SCD) ( phs002385 )</td><td>5 - CRF data collection track only</td><td>Clinically significant fungal infection at any time pre-conditioning  </td><td>Clinically significant fungal infection at any time pre-conditioning  </td><td>\\Hematopoietic Cell Transplant for Sickle Cell Disease (HCT for SCD) ( phs002385 )\\5 - CRF data collection track only\\Clinically significant fungal infection at any time pre-conditioning\\  </td><td> 732</td><td> TRUE</td><td>No          , Not reported, Yes         </td><td>         NA</td><td>       NA</td><td>phenotypes</td></tr>\n",
       "\t<tr><td>Hematopoietic Cell Transplant for Sickle Cell Disease (HCT for SCD) ( phs002385 )</td><td>5 - CRF data collection track only</td><td>Anxiety requiring therapy                                             </td><td>Anxiety requiring therapy                                             </td><td>\\Hematopoietic Cell Transplant for Sickle Cell Disease (HCT for SCD) ( phs002385 )\\5 - CRF data collection track only\\Anxiety requiring therapy\\                                             </td><td> 732</td><td> TRUE</td><td>No          , Not reported, Yes         </td><td>         NA</td><td>       NA</td><td>phenotypes</td></tr>\n",
       "\t<tr><td>Hematopoietic Cell Transplant for Sickle Cell Disease (HCT for SCD) ( phs002385 )</td><td>5 - CRF data collection track only</td><td>Intubation or mechanical ventilation for ACS pre-conditioning         </td><td>Intubation or mechanical ventilation for ACS pre-conditioning         </td><td>\\Hematopoietic Cell Transplant for Sickle Cell Disease (HCT for SCD) ( phs002385 )\\5 - CRF data collection track only\\Intubation or mechanical ventilation for ACS pre-conditioning\\         </td><td> 732</td><td> TRUE</td><td>N/A         , No          , Not reported, Yes         </td><td>         NA</td><td>       NA</td><td>phenotypes</td></tr>\n",
       "</tbody>\n",
       "</table>\n"
      ],
      "text/latex": [
       "A tibble: 111 × 11\n",
       "\\begin{tabular}{lllllllllll}\n",
       " level\\_0 & level\\_1 & level\\_2 & simplified\\_name & name & observationCount & categorical & categoryValues & min & max & HpdsDataType\\\\\n",
       " <chr> & <chr> & <chr> & <chr> & <chr> & <int> & <lgl> & <list> & <dbl> & <dbl> & <chr>\\\\\n",
       "\\hline\n",
       "\t Hematopoietic Cell Transplant for Sickle Cell Disease (HCT for SCD) ( phs002385 ) & 5 - CRF data collection track only & Time from HCT to pancreatitis, months                                  & Time from HCT to pancreatitis, months                                  & \\textbackslash{}Hematopoietic Cell Transplant for Sickle Cell Disease (HCT for SCD) ( phs002385 )\\textbackslash{}5 - CRF data collection track only\\textbackslash{}Time from HCT to pancreatitis, months\\textbackslash{}                                  &  10 & FALSE & NA &  0.4276316 & 123.3881579 & phenotypes\\\\\n",
       "\t Hematopoietic Cell Transplant for Sickle Cell Disease (HCT for SCD) ( phs002385 ) & 5 - CRF data collection track only & Other organ impairment or disorder                                     & Other organ impairment or disorder                                     & \\textbackslash{}Hematopoietic Cell Transplant for Sickle Cell Disease (HCT for SCD) ( phs002385 )\\textbackslash{}5 - CRF data collection track only\\textbackslash{}Other organ impairment or disorder\\textbackslash{}                                     & 732 &  TRUE & No          , Not reported, Yes          &         NA &          NA & phenotypes\\\\\n",
       "\t Hematopoietic Cell Transplant for Sickle Cell Disease (HCT for SCD) ( phs002385 ) & 5 - CRF data collection track only & Diabetes/hyperglycemia requiring chronic treatment                     & Diabetes/hyperglycemia requiring chronic treatment                     & \\textbackslash{}Hematopoietic Cell Transplant for Sickle Cell Disease (HCT for SCD) ( phs002385 )\\textbackslash{}5 - CRF data collection track only\\textbackslash{}Diabetes/hyperglycemia requiring chronic treatment\\textbackslash{}                     & 732 &  TRUE & No          , Not reported, Yes          &         NA &          NA & phenotypes\\\\\n",
       "\t Hematopoietic Cell Transplant for Sickle Cell Disease (HCT for SCD) ( phs002385 ) & 5 - CRF data collection track only & Did TMA resolve?                                                       & Did TMA resolve?                                                       & \\textbackslash{}Hematopoietic Cell Transplant for Sickle Cell Disease (HCT for SCD) ( phs002385 )\\textbackslash{}5 - CRF data collection track only\\textbackslash{}Did TMA resolve?\\textbackslash{}                                                       & 732 &  TRUE & N/A         , No          , Not reported, Yes          &         NA &          NA & phenotypes\\\\\n",
       "\t Hematopoietic Cell Transplant for Sickle Cell Disease (HCT for SCD) ( phs002385 ) & 5 - CRF data collection track only & VOD post-HCT                                                           & VOD post-HCT                                                           & \\textbackslash{}Hematopoietic Cell Transplant for Sickle Cell Disease (HCT for SCD) ( phs002385 )\\textbackslash{}5 - CRF data collection track only\\textbackslash{}VOD post-HCT\\textbackslash{}                                                           & 732 &  TRUE & No , Yes &         NA &          NA & phenotypes\\\\\n",
       "\t Hematopoietic Cell Transplant for Sickle Cell Disease (HCT for SCD) ( phs002385 ) & 5 - CRF data collection track only & Liver biopsy performed pre-conditioning                                & Liver biopsy performed pre-conditioning                                & \\textbackslash{}Hematopoietic Cell Transplant for Sickle Cell Disease (HCT for SCD) ( phs002385 )\\textbackslash{}5 - CRF data collection track only\\textbackslash{}Liver biopsy performed pre-conditioning\\textbackslash{}                                & 732 &  TRUE & No          , Not reported, Yes          &         NA &          NA & phenotypes\\\\\n",
       "\t Hematopoietic Cell Transplant for Sickle Cell Disease (HCT for SCD) ( phs002385 ) & 5 - CRF data collection track only & Time from HCT to Cataracts, months                                     & Time from HCT to Cataracts, months                                     & \\textbackslash{}Hematopoietic Cell Transplant for Sickle Cell Disease (HCT for SCD) ( phs002385 )\\textbackslash{}5 - CRF data collection track only\\textbackslash{}Time from HCT to Cataracts, months\\textbackslash{}                                     &   3 & FALSE & NA & 12.6644737 &  61.5789474 & phenotypes\\\\\n",
       "\t Hematopoietic Cell Transplant for Sickle Cell Disease (HCT for SCD) ( phs002385 ) & 5 - CRF data collection track only & Transfusion of RBC for ACS pre-conditioning                            & Transfusion of RBC for ACS pre-conditioning                            & \\textbackslash{}Hematopoietic Cell Transplant for Sickle Cell Disease (HCT for SCD) ( phs002385 )\\textbackslash{}5 - CRF data collection track only\\textbackslash{}Transfusion of RBC for ACS pre-conditioning\\textbackslash{}                            & 732 &  TRUE & N/A         , No          , Not reported, Yes          &         NA &          NA & phenotypes\\\\\n",
       "\t Hematopoietic Cell Transplant for Sickle Cell Disease (HCT for SCD) ( phs002385 ) & 5 - CRF data collection track only & Type of therapy for iron overload                                      & Type of therapy for iron overload                                      & \\textbackslash{}Hematopoietic Cell Transplant for Sickle Cell Disease (HCT for SCD) ( phs002385 )\\textbackslash{}5 - CRF data collection track only\\textbackslash{}Type of therapy for iron overload\\textbackslash{}                                      & 732 &  TRUE & Iron chelation only          , N/A                          , Phlebotomy and iron chelation, Phlebotomy only               &         NA &          NA & phenotypes\\\\\n",
       "\t Hematopoietic Cell Transplant for Sickle Cell Disease (HCT for SCD) ( phs002385 ) & 5 - CRF data collection track only & Hemoglobin known pre-conditioning                                      & Hemoglobin known pre-conditioning                                      & \\textbackslash{}Hematopoietic Cell Transplant for Sickle Cell Disease (HCT for SCD) ( phs002385 )\\textbackslash{}5 - CRF data collection track only\\textbackslash{}Hemoglobin known pre-conditioning\\textbackslash{}                                      & 732 &  TRUE & No , Yes &         NA &          NA & phenotypes\\\\\n",
       "\t Hematopoietic Cell Transplant for Sickle Cell Disease (HCT for SCD) ( phs002385 ) & 5 - CRF data collection track only & Time from HCT to VOD, months                                           & Time from HCT to VOD, months                                           & \\textbackslash{}Hematopoietic Cell Transplant for Sickle Cell Disease (HCT for SCD) ( phs002385 )\\textbackslash{}5 - CRF data collection track only\\textbackslash{}Time from HCT to VOD, months\\textbackslash{}                                           &  23 & FALSE & NA &  0.1973684 &   8.2894737 & phenotypes\\\\\n",
       "\t Hematopoietic Cell Transplant for Sickle Cell Disease (HCT for SCD) ( phs002385 ) & 5 - CRF data collection track only & Time from HCT to PTSD, months                                          & Time from HCT to PTSD, months                                          & \\textbackslash{}Hematopoietic Cell Transplant for Sickle Cell Disease (HCT for SCD) ( phs002385 )\\textbackslash{}5 - CRF data collection track only\\textbackslash{}Time from HCT to PTSD, months\\textbackslash{}                                          &   2 & FALSE & NA &  6.4473684 &   8.6842105 & phenotypes\\\\\n",
       "\t Hematopoietic Cell Transplant for Sickle Cell Disease (HCT for SCD) ( phs002385 ) & 5 - CRF data collection track only & Hemorrhagic cystitis                                                   & Hemorrhagic cystitis                                                   & \\textbackslash{}Hematopoietic Cell Transplant for Sickle Cell Disease (HCT for SCD) ( phs002385 )\\textbackslash{}5 - CRF data collection track only\\textbackslash{}Hemorrhagic cystitis\\textbackslash{}                                                   & 732 &  TRUE & No          , Not reported, Yes          &         NA &          NA & phenotypes\\\\\n",
       "\t Hematopoietic Cell Transplant for Sickle Cell Disease (HCT for SCD) ( phs002385 ) & 5 - CRF data collection track only & Fibrosis present pre-conditioning                                      & Fibrosis present pre-conditioning                                      & \\textbackslash{}Hematopoietic Cell Transplant for Sickle Cell Disease (HCT for SCD) ( phs002385 )\\textbackslash{}5 - CRF data collection track only\\textbackslash{}Fibrosis present pre-conditioning\\textbackslash{}                                      & 732 &  TRUE & N/A         , No          , Not reported, Yes          &         NA &          NA & phenotypes\\\\\n",
       "\t Hematopoietic Cell Transplant for Sickle Cell Disease (HCT for SCD) ( phs002385 ) & 5 - CRF data collection track only & Time from HCT to myocardial infarction, months                         & Time from HCT to myocardial infarction, months                         & \\textbackslash{}Hematopoietic Cell Transplant for Sickle Cell Disease (HCT for SCD) ( phs002385 )\\textbackslash{}5 - CRF data collection track only\\textbackslash{}Time from HCT to myocardial infarction, months\\textbackslash{}                         &   1 & FALSE & NA &  0.7894737 &   0.7894737 & phenotypes\\\\\n",
       "\t Hematopoietic Cell Transplant for Sickle Cell Disease (HCT for SCD) ( phs002385 ) & 5 - CRF data collection track only & Growth hormone deficiency/ short stature                               & Growth hormone deficiency/ short stature                               & \\textbackslash{}Hematopoietic Cell Transplant for Sickle Cell Disease (HCT for SCD) ( phs002385 )\\textbackslash{}5 - CRF data collection track only\\textbackslash{}Growth hormone deficiency/ short stature\\textbackslash{}                               & 732 &  TRUE & No          , Not reported, Yes          &         NA &          NA & phenotypes\\\\\n",
       "\t Hematopoietic Cell Transplant for Sickle Cell Disease (HCT for SCD) ( phs002385 ) & 5 - CRF data collection track only & Time from HCT to CNS hemorrhage, months                                & Time from HCT to CNS hemorrhage, months                                & \\textbackslash{}Hematopoietic Cell Transplant for Sickle Cell Disease (HCT for SCD) ( phs002385 )\\textbackslash{}5 - CRF data collection track only\\textbackslash{}Time from HCT to CNS hemorrhage, months\\textbackslash{}                                &   5 & FALSE & NA &  0.2302632 & 200.1973684 & phenotypes\\\\\n",
       "\t Hematopoietic Cell Transplant for Sickle Cell Disease (HCT for SCD) ( phs002385 ) & 5 - CRF data collection track only & Time from HCT to gonadal dysfunction, months                           & Time from HCT to gonadal dysfunction, months                           & \\textbackslash{}Hematopoietic Cell Transplant for Sickle Cell Disease (HCT for SCD) ( phs002385 )\\textbackslash{}5 - CRF data collection track only\\textbackslash{}Time from HCT to gonadal dysfunction, months\\textbackslash{}                           &  31 & FALSE & NA &  1.8092105 & 134.6381579 & phenotypes\\\\\n",
       "\t Hematopoietic Cell Transplant for Sickle Cell Disease (HCT for SCD) ( phs002385 ) & 5 - CRF data collection track only & Vaso-occlusive cirsis requiring hospitalization within 2 years pre-HCT & Vaso-occlusive cirsis requiring hospitalization within 2 years pre-HCT & \\textbackslash{}Hematopoietic Cell Transplant for Sickle Cell Disease (HCT for SCD) ( phs002385 )\\textbackslash{}5 - CRF data collection track only\\textbackslash{}Vaso-occlusive cirsis requiring hospitalization within 2 years pre-HCT\\textbackslash{} & 732 &  TRUE & No          , Not reported, Yes          &         NA &          NA & phenotypes\\\\\n",
       "\t Hematopoietic Cell Transplant for Sickle Cell Disease (HCT for SCD) ( phs002385 ) & 5 - CRF data collection track only & Did patient develop Ipn, ARDS, or IPS following HCT?                   & Did patient develop Ipn, ARDS, or IPS following HCT?                   & \\textbackslash{}Hematopoietic Cell Transplant for Sickle Cell Disease (HCT for SCD) ( phs002385 )\\textbackslash{}5 - CRF data collection track only\\textbackslash{}Did patient develop Ipn, ARDS, or IPS following HCT?\\textbackslash{}                   & 732 &  TRUE & No          , Not reported, Yes          &         NA &          NA & phenotypes\\\\\n",
       "\t Hematopoietic Cell Transplant for Sickle Cell Disease (HCT for SCD) ( phs002385 ) & 5 - CRF data collection track only & Successfully extubated following intubation                            & Successfully extubated following intubation                            & \\textbackslash{}Hematopoietic Cell Transplant for Sickle Cell Disease (HCT for SCD) ( phs002385 )\\textbackslash{}5 - CRF data collection track only\\textbackslash{}Successfully extubated following intubation\\textbackslash{}                            & 732 &  TRUE & N/A         , No          , Not reported, Yes          &         NA &          NA & phenotypes\\\\\n",
       "\t Hematopoietic Cell Transplant for Sickle Cell Disease (HCT for SCD) ( phs002385 ) & 5 - CRF data collection track only & Sickle neuropathy post-HCT                                             & Sickle neuropathy post-HCT                                             & \\textbackslash{}Hematopoietic Cell Transplant for Sickle Cell Disease (HCT for SCD) ( phs002385 )\\textbackslash{}5 - CRF data collection track only\\textbackslash{}Sickle neuropathy post-HCT\\textbackslash{}                                             & 732 &  TRUE & No          , Not reported, Yes          &         NA &          NA & phenotypes\\\\\n",
       "\t Hematopoietic Cell Transplant for Sickle Cell Disease (HCT for SCD) ( phs002385 ) & 5 - CRF data collection track only & Require exchange transfusion                                           & Require exchange transfusion                                           & \\textbackslash{}Hematopoietic Cell Transplant for Sickle Cell Disease (HCT for SCD) ( phs002385 )\\textbackslash{}5 - CRF data collection track only\\textbackslash{}Require exchange transfusion\\textbackslash{}                                           & 732 &  TRUE & N/A         , No          , Not reported, Yes          &         NA &          NA & phenotypes\\\\\n",
       "\t Hematopoietic Cell Transplant for Sickle Cell Disease (HCT for SCD) ( phs002385 ) & 5 - CRF data collection track only & Time from serum albumin test pre-conditioning to transplant, months    & Time from serum albumin test pre-conditioning to transplant, months    & \\textbackslash{}Hematopoietic Cell Transplant for Sickle Cell Disease (HCT for SCD) ( phs002385 )\\textbackslash{}5 - CRF data collection track only\\textbackslash{}Time from serum albumin test pre-conditioning to transplant, months\\textbackslash{}    & 445 & FALSE & NA &  0.1644737 &   4.0460526 & phenotypes\\\\\n",
       "\t Hematopoietic Cell Transplant for Sickle Cell Disease (HCT for SCD) ( phs002385 ) & 5 - CRF data collection track only & Stroke pre-conditioning                                                & Stroke pre-conditioning                                                & \\textbackslash{}Hematopoietic Cell Transplant for Sickle Cell Disease (HCT for SCD) ( phs002385 )\\textbackslash{}5 - CRF data collection track only\\textbackslash{}Stroke pre-conditioning\\textbackslash{}                                                & 732 &  TRUE & No          , Not reported, Yes          &         NA &          NA & phenotypes\\\\\n",
       "\t Hematopoietic Cell Transplant for Sickle Cell Disease (HCT for SCD) ( phs002385 ) & 5 - CRF data collection track only & Deep vein thrombosis (DVT)/pulmonary embolism (PE)                     & Deep vein thrombosis (DVT)/pulmonary embolism (PE)                     & \\textbackslash{}Hematopoietic Cell Transplant for Sickle Cell Disease (HCT for SCD) ( phs002385 )\\textbackslash{}5 - CRF data collection track only\\textbackslash{}Deep vein thrombosis (DVT)/pulmonary embolism (PE)\\textbackslash{}                     & 732 &  TRUE & No          , Not reported, Yes          &         NA &          NA & phenotypes\\\\\n",
       "\t Hematopoietic Cell Transplant for Sickle Cell Disease (HCT for SCD) ( phs002385 ) & 5 - CRF data collection track only & Pancreatitis                                                           & Pancreatitis                                                           & \\textbackslash{}Hematopoietic Cell Transplant for Sickle Cell Disease (HCT for SCD) ( phs002385 )\\textbackslash{}5 - CRF data collection track only\\textbackslash{}Pancreatitis\\textbackslash{}                                                           & 732 &  TRUE & No          , Not reported, Yes          &         NA &          NA & phenotypes\\\\\n",
       "\t Hematopoietic Cell Transplant for Sickle Cell Disease (HCT for SCD) ( phs002385 ) & 5 - CRF data collection track only & Time from HCT to avascular necrosis, months                            & Time from HCT to avascular necrosis, months                            & \\textbackslash{}Hematopoietic Cell Transplant for Sickle Cell Disease (HCT for SCD) ( phs002385 )\\textbackslash{}5 - CRF data collection track only\\textbackslash{}Time from HCT to avascular necrosis, months\\textbackslash{}                            &  29 & FALSE & NA &  0.3947368 & 149.3092105 & phenotypes\\\\\n",
       "\t Hematopoietic Cell Transplant for Sickle Cell Disease (HCT for SCD) ( phs002385 ) & 5 - CRF data collection track only & Time from HCT to depression, months                                    & Time from HCT to depression, months                                    & \\textbackslash{}Hematopoietic Cell Transplant for Sickle Cell Disease (HCT for SCD) ( phs002385 )\\textbackslash{}5 - CRF data collection track only\\textbackslash{}Time from HCT to depression, months\\textbackslash{}                                    &  18 & FALSE & NA &  0.8552632 & 124.0131579 & phenotypes\\\\\n",
       "\t Hematopoietic Cell Transplant for Sickle Cell Disease (HCT for SCD) ( phs002385 ) & 5 - CRF data collection track only & Time from HCT to neuropathy, months                                    & Time from HCT to neuropathy, months                                    & \\textbackslash{}Hematopoietic Cell Transplant for Sickle Cell Disease (HCT for SCD) ( phs002385 )\\textbackslash{}5 - CRF data collection track only\\textbackslash{}Time from HCT to neuropathy, months\\textbackslash{}                                    &  10 & FALSE & NA &  0.2631579 &  10.2302632 & phenotypes\\\\\n",
       "\t ⋮ & ⋮ & ⋮ & ⋮ & ⋮ & ⋮ & ⋮ & ⋮ & ⋮ & ⋮ & ⋮\\\\\n",
       "\t Hematopoietic Cell Transplant for Sickle Cell Disease (HCT for SCD) ( phs002385 ) & 5 - CRF data collection track only & Time from HCT to DVT, months                                           & Time from HCT to DVT, months                                           & \\textbackslash{}Hematopoietic Cell Transplant for Sickle Cell Disease (HCT for SCD) ( phs002385 )\\textbackslash{}5 - CRF data collection track only\\textbackslash{}Time from HCT to DVT, months\\textbackslash{}                                           &    9 & FALSE & NA &  0.09868421 & 123.38816 & phenotypes\\\\\n",
       "\t Hematopoietic Cell Transplant for Sickle Cell Disease (HCT for SCD) ( phs002385 ) & 5 - CRF data collection track only & Congestive heart failure                                               & Congestive heart failure                                               & \\textbackslash{}Hematopoietic Cell Transplant for Sickle Cell Disease (HCT for SCD) ( phs002385 )\\textbackslash{}5 - CRF data collection track only\\textbackslash{}Congestive heart failure\\textbackslash{}                                               &  732 &  TRUE & No          , Not reported, Yes          &          NA &        NA & phenotypes\\\\\n",
       "\t Hematopoietic Cell Transplant for Sickle Cell Disease (HCT for SCD) ( phs002385 ) & 5 - CRF data collection track only & Hypothyroidism requiring treatment                                     & Hypothyroidism requiring treatment                                     & \\textbackslash{}Hematopoietic Cell Transplant for Sickle Cell Disease (HCT for SCD) ( phs002385 )\\textbackslash{}5 - CRF data collection track only\\textbackslash{}Hypothyroidism requiring treatment\\textbackslash{}                                     &  732 &  TRUE & No          , Not reported, Yes          &          NA &        NA & phenotypes\\\\\n",
       "\t Hematopoietic Cell Transplant for Sickle Cell Disease (HCT for SCD) ( phs002385 ) & 5 - CRF data collection track only & Time from HCT to growth hormone deficiency, months                     & Time from HCT to growth hormone deficiency, months                     & \\textbackslash{}Hematopoietic Cell Transplant for Sickle Cell Disease (HCT for SCD) ( phs002385 )\\textbackslash{}5 - CRF data collection track only\\textbackslash{}Time from HCT to growth hormone deficiency, months\\textbackslash{}                     &   12 & FALSE & NA & 12.36842105 & 134.40789 & phenotypes\\\\\n",
       "\t Hematopoietic Cell Transplant for Sickle Cell Disease (HCT for SCD) ( phs002385 ) & 5 - CRF data collection track only & Osteoporosis                                                           & Osteoporosis                                                           & \\textbackslash{}Hematopoietic Cell Transplant for Sickle Cell Disease (HCT for SCD) ( phs002385 )\\textbackslash{}5 - CRF data collection track only\\textbackslash{}Osteoporosis\\textbackslash{}                                                           &  732 &  TRUE & No          , Not reported &          NA &        NA & phenotypes\\\\\n",
       "\t Hematopoietic Cell Transplant for Sickle Cell Disease (HCT for SCD) ( phs002385 ) & 5 - CRF data collection track only & Serum creatinine pre-conditioning unit                                 & Serum creatinine pre-conditioning unit                                 & \\textbackslash{}Hematopoietic Cell Transplant for Sickle Cell Disease (HCT for SCD) ( phs002385 )\\textbackslash{}5 - CRF data collection track only\\textbackslash{}Serum creatinine pre-conditioning unit\\textbackslash{}                                 &  732 &  TRUE & Not reported, mg/dL        &          NA &        NA & phenotypes\\\\\n",
       "\t Hematopoietic Cell Transplant for Sickle Cell Disease (HCT for SCD) ( phs002385 ) & 5 - CRF data collection track only & Vaso-occlusive pain post HCT                                           & Vaso-occlusive pain post HCT                                           & \\textbackslash{}Hematopoietic Cell Transplant for Sickle Cell Disease (HCT for SCD) ( phs002385 )\\textbackslash{}5 - CRF data collection track only\\textbackslash{}Vaso-occlusive pain post HCT\\textbackslash{}                                           & 1518 &  TRUE & No          , Not Reported, Yes          &          NA &        NA & phenotypes\\\\\n",
       "\t Hematopoietic Cell Transplant for Sickle Cell Disease (HCT for SCD) ( phs002385 ) & 5 - CRF data collection track only & Gonadal dysfunction requiring horomone therapy                         & Gonadal dysfunction requiring horomone therapy                         & \\textbackslash{}Hematopoietic Cell Transplant for Sickle Cell Disease (HCT for SCD) ( phs002385 )\\textbackslash{}5 - CRF data collection track only\\textbackslash{}Gonadal dysfunction requiring horomone therapy\\textbackslash{}                         &  732 &  TRUE & No          , Not reported, Yes          &          NA &        NA & phenotypes\\\\\n",
       "\t Hematopoietic Cell Transplant for Sickle Cell Disease (HCT for SCD) ( phs002385 ) & 5 - CRF data collection track only & Acute renal failure requiring dialysis                                 & Acute renal failure requiring dialysis                                 & \\textbackslash{}Hematopoietic Cell Transplant for Sickle Cell Disease (HCT for SCD) ( phs002385 )\\textbackslash{}5 - CRF data collection track only\\textbackslash{}Acute renal failure requiring dialysis\\textbackslash{}                                 &  732 &  TRUE & No          , Not reported, Yes          &          NA &        NA & phenotypes\\\\\n",
       "\t Hematopoietic Cell Transplant for Sickle Cell Disease (HCT for SCD) ( phs002385 ) & 5 - CRF data collection track only & Normal upper limit of serum albumin for center                         & Normal upper limit of serum albumin for center                         & \\textbackslash{}Hematopoietic Cell Transplant for Sickle Cell Disease (HCT for SCD) ( phs002385 )\\textbackslash{}5 - CRF data collection track only\\textbackslash{}Normal upper limit of serum albumin for center\\textbackslash{}                         &  445 & FALSE & NA &  3.90000000 &   5.70000 & phenotypes\\\\\n",
       "\t Hematopoietic Cell Transplant for Sickle Cell Disease (HCT for SCD) ( phs002385 ) & 5 - CRF data collection track only & Type of arrythmia                                                      & Type of arrythmia                                                      & \\textbackslash{}Hematopoietic Cell Transplant for Sickle Cell Disease (HCT for SCD) ( phs002385 )\\textbackslash{}5 - CRF data collection track only\\textbackslash{}Type of arrythmia\\textbackslash{}                                                      &  732 &  TRUE & Atrial fibrillation or flutter, N/A                           , Sick sinus syndrome            &          NA &        NA & phenotypes\\\\\n",
       "\t Hematopoietic Cell Transplant for Sickle Cell Disease (HCT for SCD) ( phs002385 ) & 5 - CRF data collection track only & Time from HCT to anxiety, months                                       & Time from HCT to anxiety, months                                       & \\textbackslash{}Hematopoietic Cell Transplant for Sickle Cell Disease (HCT for SCD) ( phs002385 )\\textbackslash{}5 - CRF data collection track only\\textbackslash{}Time from HCT to anxiety, months\\textbackslash{}                                       &   14 & FALSE & NA &  0.00000000 & 124.01316 & phenotypes\\\\\n",
       "\t Hematopoietic Cell Transplant for Sickle Cell Disease (HCT for SCD) ( phs002385 ) & 5 - CRF data collection track only & CNS hemorrhage                                                         & CNS hemorrhage                                                         & \\textbackslash{}Hematopoietic Cell Transplant for Sickle Cell Disease (HCT for SCD) ( phs002385 )\\textbackslash{}5 - CRF data collection track only\\textbackslash{}CNS hemorrhage\\textbackslash{}                                                         &  732 &  TRUE & No          , Not reported, Yes          &          NA &        NA & phenotypes\\\\\n",
       "\t Hematopoietic Cell Transplant for Sickle Cell Disease (HCT for SCD) ( phs002385 ) & 5 - CRF data collection track only & DVT catheter related                                                   & DVT catheter related                                                   & \\textbackslash{}Hematopoietic Cell Transplant for Sickle Cell Disease (HCT for SCD) ( phs002385 )\\textbackslash{}5 - CRF data collection track only\\textbackslash{}DVT catheter related\\textbackslash{}                                                   &  732 &  TRUE & N/A         , No          , Not reported, Yes          &          NA &        NA & phenotypes\\\\\n",
       "\t Hematopoietic Cell Transplant for Sickle Cell Disease (HCT for SCD) ( phs002385 ) & 5 - CRF data collection track only & Post-traumatic stress disorder (PTSD) requiring therapy                & Post-traumatic stress disorder (PTSD) requiring therapy                & \\textbackslash{}Hematopoietic Cell Transplant for Sickle Cell Disease (HCT for SCD) ( phs002385 )\\textbackslash{}5 - CRF data collection track only\\textbackslash{}Post-traumatic stress disorder (PTSD) requiring therapy\\textbackslash{}                &  732 &  TRUE & No          , Not reported, Yes          &          NA &        NA & phenotypes\\\\\n",
       "\t Hematopoietic Cell Transplant for Sickle Cell Disease (HCT for SCD) ( phs002385 ) & 5 - CRF data collection track only & Neuropathy                                                             & Neuropathy                                                             & \\textbackslash{}Hematopoietic Cell Transplant for Sickle Cell Disease (HCT for SCD) ( phs002385 )\\textbackslash{}5 - CRF data collection track only\\textbackslash{}Neuropathy\\textbackslash{}                                                             &  732 &  TRUE & No , Yes &          NA &        NA & phenotypes\\\\\n",
       "\t Hematopoietic Cell Transplant for Sickle Cell Disease (HCT for SCD) ( phs002385 ) & 5 - CRF data collection track only & Time from serum creatinine test pre-conditioning to transplant, months & Time from serum creatinine test pre-conditioning to transplant, months & \\textbackslash{}Hematopoietic Cell Transplant for Sickle Cell Disease (HCT for SCD) ( phs002385 )\\textbackslash{}5 - CRF data collection track only\\textbackslash{}Time from serum creatinine test pre-conditioning to transplant, months\\textbackslash{} &  719 & FALSE & NA &  0.03289474 &  26.08553 & phenotypes\\\\\n",
       "\t Hematopoietic Cell Transplant for Sickle Cell Disease (HCT for SCD) ( phs002385 ) & 5 - CRF data collection track only & Depression requiring therapy                                           & Depression requiring therapy                                           & \\textbackslash{}Hematopoietic Cell Transplant for Sickle Cell Disease (HCT for SCD) ( phs002385 )\\textbackslash{}5 - CRF data collection track only\\textbackslash{}Depression requiring therapy\\textbackslash{}                                           &  732 &  TRUE & No          , Not reported, Yes          &          NA &        NA & phenotypes\\\\\n",
       "\t Hematopoietic Cell Transplant for Sickle Cell Disease (HCT for SCD) ( phs002385 ) & 5 - CRF data collection track only & Acute chest syndrome (ACS) pre-conditioning                            & Acute chest syndrome (ACS) pre-conditioning                            & \\textbackslash{}Hematopoietic Cell Transplant for Sickle Cell Disease (HCT for SCD) ( phs002385 )\\textbackslash{}5 - CRF data collection track only\\textbackslash{}Acute chest syndrome (ACS) pre-conditioning\\textbackslash{}                            &  732 &  TRUE & No          , Not reported, Yes          &          NA &        NA & phenotypes\\\\\n",
       "\t Hematopoietic Cell Transplant for Sickle Cell Disease (HCT for SCD) ( phs002385 ) & 5 - CRF data collection track only & Therapy given for growth hormone deficiency                            & Therapy given for growth hormone deficiency                            & \\textbackslash{}Hematopoietic Cell Transplant for Sickle Cell Disease (HCT for SCD) ( phs002385 )\\textbackslash{}5 - CRF data collection track only\\textbackslash{}Therapy given for growth hormone deficiency\\textbackslash{}                            &  732 &  TRUE & N/A         , No          , Not reported, Yes          &          NA &        NA & phenotypes\\\\\n",
       "\t Hematopoietic Cell Transplant for Sickle Cell Disease (HCT for SCD) ( phs002385 ) & 5 - CRF data collection track only & TMA post-HCT                                                           & TMA post-HCT                                                           & \\textbackslash{}Hematopoietic Cell Transplant for Sickle Cell Disease (HCT for SCD) ( phs002385 )\\textbackslash{}5 - CRF data collection track only\\textbackslash{}TMA post-HCT\\textbackslash{}                                                           &  732 &  TRUE & No          , Not reported, Yes          &          NA &        NA & phenotypes\\\\\n",
       "\t Hematopoietic Cell Transplant for Sickle Cell Disease (HCT for SCD) ( phs002385 ) & 5 - CRF data collection track only & Hemoglobin electrophoresis performed post-HCT                          & Hemoglobin electrophoresis performed post-HCT                          & \\textbackslash{}Hematopoietic Cell Transplant for Sickle Cell Disease (HCT for SCD) ( phs002385 )\\textbackslash{}5 - CRF data collection track only\\textbackslash{}Hemoglobin electrophoresis performed post-HCT\\textbackslash{}                          &  732 &  TRUE & No          , Not reported, Yes          &          NA &        NA & phenotypes\\\\\n",
       "\t Hematopoietic Cell Transplant for Sickle Cell Disease (HCT for SCD) ( phs002385 ) & 5 - CRF data collection track only & Hemoglobin pre-conditioning unit                                       & Hemoglobin pre-conditioning unit                                       & \\textbackslash{}Hematopoietic Cell Transplant for Sickle Cell Disease (HCT for SCD) ( phs002385 )\\textbackslash{}5 - CRF data collection track only\\textbackslash{}Hemoglobin pre-conditioning unit\\textbackslash{}                                       &  732 &  TRUE & Not reported, g/dL         &          NA &        NA & phenotypes\\\\\n",
       "\t Hematopoietic Cell Transplant for Sickle Cell Disease (HCT for SCD) ( phs002385 ) & 5 - CRF data collection track only & RBC transfused <30 prior to hemoglobin test                            & RBC transfused <30 prior to hemoglobin test                            & \\textbackslash{}Hematopoietic Cell Transplant for Sickle Cell Disease (HCT for SCD) ( phs002385 )\\textbackslash{}5 - CRF data collection track only\\textbackslash{}RBC transfused <30 prior to hemoglobin test\\textbackslash{}                            &  732 &  TRUE & No          , Not reported, Yes          &          NA &        NA & phenotypes\\\\\n",
       "\t Hematopoietic Cell Transplant for Sickle Cell Disease (HCT for SCD) ( phs002385 ) & 5 - CRF data collection track only & Sickle neuropathy pre-conditioning                                     & Sickle neuropathy pre-conditioning                                     & \\textbackslash{}Hematopoietic Cell Transplant for Sickle Cell Disease (HCT for SCD) ( phs002385 )\\textbackslash{}5 - CRF data collection track only\\textbackslash{}Sickle neuropathy pre-conditioning\\textbackslash{}                                     &  732 &  TRUE & No          , Not reported, Yes          &          NA &        NA & phenotypes\\\\\n",
       "\t Hematopoietic Cell Transplant for Sickle Cell Disease (HCT for SCD) ( phs002385 ) & 5 - CRF data collection track only & Serum creatinine known pre-conditioning                                & Serum creatinine known pre-conditioning                                & \\textbackslash{}Hematopoietic Cell Transplant for Sickle Cell Disease (HCT for SCD) ( phs002385 )\\textbackslash{}5 - CRF data collection track only\\textbackslash{}Serum creatinine known pre-conditioning\\textbackslash{}                                &  732 &  TRUE & No , Yes &          NA &        NA & phenotypes\\\\\n",
       "\t Hematopoietic Cell Transplant for Sickle Cell Disease (HCT for SCD) ( phs002385 ) & 5 - CRF data collection track only & Serum creatinine pre-conditioning                                      & Serum creatinine pre-conditioning                                      & \\textbackslash{}Hematopoietic Cell Transplant for Sickle Cell Disease (HCT for SCD) ( phs002385 )\\textbackslash{}5 - CRF data collection track only\\textbackslash{}Serum creatinine pre-conditioning\\textbackslash{}                                      &  722 & FALSE & NA &  0.10000000 &   1.50000 & phenotypes\\\\\n",
       "\t Hematopoietic Cell Transplant for Sickle Cell Disease (HCT for SCD) ( phs002385 ) & 5 - CRF data collection track only & Clinically significant fungal infection at any time pre-conditioning   & Clinically significant fungal infection at any time pre-conditioning   & \\textbackslash{}Hematopoietic Cell Transplant for Sickle Cell Disease (HCT for SCD) ( phs002385 )\\textbackslash{}5 - CRF data collection track only\\textbackslash{}Clinically significant fungal infection at any time pre-conditioning\\textbackslash{}   &  732 &  TRUE & No          , Not reported, Yes          &          NA &        NA & phenotypes\\\\\n",
       "\t Hematopoietic Cell Transplant for Sickle Cell Disease (HCT for SCD) ( phs002385 ) & 5 - CRF data collection track only & Anxiety requiring therapy                                              & Anxiety requiring therapy                                              & \\textbackslash{}Hematopoietic Cell Transplant for Sickle Cell Disease (HCT for SCD) ( phs002385 )\\textbackslash{}5 - CRF data collection track only\\textbackslash{}Anxiety requiring therapy\\textbackslash{}                                              &  732 &  TRUE & No          , Not reported, Yes          &          NA &        NA & phenotypes\\\\\n",
       "\t Hematopoietic Cell Transplant for Sickle Cell Disease (HCT for SCD) ( phs002385 ) & 5 - CRF data collection track only & Intubation or mechanical ventilation for ACS pre-conditioning          & Intubation or mechanical ventilation for ACS pre-conditioning          & \\textbackslash{}Hematopoietic Cell Transplant for Sickle Cell Disease (HCT for SCD) ( phs002385 )\\textbackslash{}5 - CRF data collection track only\\textbackslash{}Intubation or mechanical ventilation for ACS pre-conditioning\\textbackslash{}          &  732 &  TRUE & N/A         , No          , Not reported, Yes          &          NA &        NA & phenotypes\\\\\n",
       "\\end{tabular}\n"
      ],
      "text/markdown": [
       "\n",
       "A tibble: 111 × 11\n",
       "\n",
       "| level_0 &lt;chr&gt; | level_1 &lt;chr&gt; | level_2 &lt;chr&gt; | simplified_name &lt;chr&gt; | name &lt;chr&gt; | observationCount &lt;int&gt; | categorical &lt;lgl&gt; | categoryValues &lt;list&gt; | min &lt;dbl&gt; | max &lt;dbl&gt; | HpdsDataType &lt;chr&gt; |\n",
       "|---|---|---|---|---|---|---|---|---|---|---|\n",
       "| Hematopoietic Cell Transplant for Sickle Cell Disease (HCT for SCD) ( phs002385 ) | 5 - CRF data collection track only | Time from HCT to pancreatitis, months                                  | Time from HCT to pancreatitis, months                                  | \\Hematopoietic Cell Transplant for Sickle Cell Disease (HCT for SCD) ( phs002385 )\\5 - CRF data collection track only\\Time from HCT to pancreatitis, months\\                                  |  10 | FALSE | NA |  0.4276316 | 123.3881579 | phenotypes |\n",
       "| Hematopoietic Cell Transplant for Sickle Cell Disease (HCT for SCD) ( phs002385 ) | 5 - CRF data collection track only | Other organ impairment or disorder                                     | Other organ impairment or disorder                                     | \\Hematopoietic Cell Transplant for Sickle Cell Disease (HCT for SCD) ( phs002385 )\\5 - CRF data collection track only\\Other organ impairment or disorder\\                                     | 732 |  TRUE | No          , Not reported, Yes          |         NA |          NA | phenotypes |\n",
       "| Hematopoietic Cell Transplant for Sickle Cell Disease (HCT for SCD) ( phs002385 ) | 5 - CRF data collection track only | Diabetes/hyperglycemia requiring chronic treatment                     | Diabetes/hyperglycemia requiring chronic treatment                     | \\Hematopoietic Cell Transplant for Sickle Cell Disease (HCT for SCD) ( phs002385 )\\5 - CRF data collection track only\\Diabetes/hyperglycemia requiring chronic treatment\\                     | 732 |  TRUE | No          , Not reported, Yes          |         NA |          NA | phenotypes |\n",
       "| Hematopoietic Cell Transplant for Sickle Cell Disease (HCT for SCD) ( phs002385 ) | 5 - CRF data collection track only | Did TMA resolve?                                                       | Did TMA resolve?                                                       | \\Hematopoietic Cell Transplant for Sickle Cell Disease (HCT for SCD) ( phs002385 )\\5 - CRF data collection track only\\Did TMA resolve?\\                                                       | 732 |  TRUE | N/A         , No          , Not reported, Yes          |         NA |          NA | phenotypes |\n",
       "| Hematopoietic Cell Transplant for Sickle Cell Disease (HCT for SCD) ( phs002385 ) | 5 - CRF data collection track only | VOD post-HCT                                                           | VOD post-HCT                                                           | \\Hematopoietic Cell Transplant for Sickle Cell Disease (HCT for SCD) ( phs002385 )\\5 - CRF data collection track only\\VOD post-HCT\\                                                           | 732 |  TRUE | No , Yes |         NA |          NA | phenotypes |\n",
       "| Hematopoietic Cell Transplant for Sickle Cell Disease (HCT for SCD) ( phs002385 ) | 5 - CRF data collection track only | Liver biopsy performed pre-conditioning                                | Liver biopsy performed pre-conditioning                                | \\Hematopoietic Cell Transplant for Sickle Cell Disease (HCT for SCD) ( phs002385 )\\5 - CRF data collection track only\\Liver biopsy performed pre-conditioning\\                                | 732 |  TRUE | No          , Not reported, Yes          |         NA |          NA | phenotypes |\n",
       "| Hematopoietic Cell Transplant for Sickle Cell Disease (HCT for SCD) ( phs002385 ) | 5 - CRF data collection track only | Time from HCT to Cataracts, months                                     | Time from HCT to Cataracts, months                                     | \\Hematopoietic Cell Transplant for Sickle Cell Disease (HCT for SCD) ( phs002385 )\\5 - CRF data collection track only\\Time from HCT to Cataracts, months\\                                     |   3 | FALSE | NA | 12.6644737 |  61.5789474 | phenotypes |\n",
       "| Hematopoietic Cell Transplant for Sickle Cell Disease (HCT for SCD) ( phs002385 ) | 5 - CRF data collection track only | Transfusion of RBC for ACS pre-conditioning                            | Transfusion of RBC for ACS pre-conditioning                            | \\Hematopoietic Cell Transplant for Sickle Cell Disease (HCT for SCD) ( phs002385 )\\5 - CRF data collection track only\\Transfusion of RBC for ACS pre-conditioning\\                            | 732 |  TRUE | N/A         , No          , Not reported, Yes          |         NA |          NA | phenotypes |\n",
       "| Hematopoietic Cell Transplant for Sickle Cell Disease (HCT for SCD) ( phs002385 ) | 5 - CRF data collection track only | Type of therapy for iron overload                                      | Type of therapy for iron overload                                      | \\Hematopoietic Cell Transplant for Sickle Cell Disease (HCT for SCD) ( phs002385 )\\5 - CRF data collection track only\\Type of therapy for iron overload\\                                      | 732 |  TRUE | Iron chelation only          , N/A                          , Phlebotomy and iron chelation, Phlebotomy only               |         NA |          NA | phenotypes |\n",
       "| Hematopoietic Cell Transplant for Sickle Cell Disease (HCT for SCD) ( phs002385 ) | 5 - CRF data collection track only | Hemoglobin known pre-conditioning                                      | Hemoglobin known pre-conditioning                                      | \\Hematopoietic Cell Transplant for Sickle Cell Disease (HCT for SCD) ( phs002385 )\\5 - CRF data collection track only\\Hemoglobin known pre-conditioning\\                                      | 732 |  TRUE | No , Yes |         NA |          NA | phenotypes |\n",
       "| Hematopoietic Cell Transplant for Sickle Cell Disease (HCT for SCD) ( phs002385 ) | 5 - CRF data collection track only | Time from HCT to VOD, months                                           | Time from HCT to VOD, months                                           | \\Hematopoietic Cell Transplant for Sickle Cell Disease (HCT for SCD) ( phs002385 )\\5 - CRF data collection track only\\Time from HCT to VOD, months\\                                           |  23 | FALSE | NA |  0.1973684 |   8.2894737 | phenotypes |\n",
       "| Hematopoietic Cell Transplant for Sickle Cell Disease (HCT for SCD) ( phs002385 ) | 5 - CRF data collection track only | Time from HCT to PTSD, months                                          | Time from HCT to PTSD, months                                          | \\Hematopoietic Cell Transplant for Sickle Cell Disease (HCT for SCD) ( phs002385 )\\5 - CRF data collection track only\\Time from HCT to PTSD, months\\                                          |   2 | FALSE | NA |  6.4473684 |   8.6842105 | phenotypes |\n",
       "| Hematopoietic Cell Transplant for Sickle Cell Disease (HCT for SCD) ( phs002385 ) | 5 - CRF data collection track only | Hemorrhagic cystitis                                                   | Hemorrhagic cystitis                                                   | \\Hematopoietic Cell Transplant for Sickle Cell Disease (HCT for SCD) ( phs002385 )\\5 - CRF data collection track only\\Hemorrhagic cystitis\\                                                   | 732 |  TRUE | No          , Not reported, Yes          |         NA |          NA | phenotypes |\n",
       "| Hematopoietic Cell Transplant for Sickle Cell Disease (HCT for SCD) ( phs002385 ) | 5 - CRF data collection track only | Fibrosis present pre-conditioning                                      | Fibrosis present pre-conditioning                                      | \\Hematopoietic Cell Transplant for Sickle Cell Disease (HCT for SCD) ( phs002385 )\\5 - CRF data collection track only\\Fibrosis present pre-conditioning\\                                      | 732 |  TRUE | N/A         , No          , Not reported, Yes          |         NA |          NA | phenotypes |\n",
       "| Hematopoietic Cell Transplant for Sickle Cell Disease (HCT for SCD) ( phs002385 ) | 5 - CRF data collection track only | Time from HCT to myocardial infarction, months                         | Time from HCT to myocardial infarction, months                         | \\Hematopoietic Cell Transplant for Sickle Cell Disease (HCT for SCD) ( phs002385 )\\5 - CRF data collection track only\\Time from HCT to myocardial infarction, months\\                         |   1 | FALSE | NA |  0.7894737 |   0.7894737 | phenotypes |\n",
       "| Hematopoietic Cell Transplant for Sickle Cell Disease (HCT for SCD) ( phs002385 ) | 5 - CRF data collection track only | Growth hormone deficiency/ short stature                               | Growth hormone deficiency/ short stature                               | \\Hematopoietic Cell Transplant for Sickle Cell Disease (HCT for SCD) ( phs002385 )\\5 - CRF data collection track only\\Growth hormone deficiency/ short stature\\                               | 732 |  TRUE | No          , Not reported, Yes          |         NA |          NA | phenotypes |\n",
       "| Hematopoietic Cell Transplant for Sickle Cell Disease (HCT for SCD) ( phs002385 ) | 5 - CRF data collection track only | Time from HCT to CNS hemorrhage, months                                | Time from HCT to CNS hemorrhage, months                                | \\Hematopoietic Cell Transplant for Sickle Cell Disease (HCT for SCD) ( phs002385 )\\5 - CRF data collection track only\\Time from HCT to CNS hemorrhage, months\\                                |   5 | FALSE | NA |  0.2302632 | 200.1973684 | phenotypes |\n",
       "| Hematopoietic Cell Transplant for Sickle Cell Disease (HCT for SCD) ( phs002385 ) | 5 - CRF data collection track only | Time from HCT to gonadal dysfunction, months                           | Time from HCT to gonadal dysfunction, months                           | \\Hematopoietic Cell Transplant for Sickle Cell Disease (HCT for SCD) ( phs002385 )\\5 - CRF data collection track only\\Time from HCT to gonadal dysfunction, months\\                           |  31 | FALSE | NA |  1.8092105 | 134.6381579 | phenotypes |\n",
       "| Hematopoietic Cell Transplant for Sickle Cell Disease (HCT for SCD) ( phs002385 ) | 5 - CRF data collection track only | Vaso-occlusive cirsis requiring hospitalization within 2 years pre-HCT | Vaso-occlusive cirsis requiring hospitalization within 2 years pre-HCT | \\Hematopoietic Cell Transplant for Sickle Cell Disease (HCT for SCD) ( phs002385 )\\5 - CRF data collection track only\\Vaso-occlusive cirsis requiring hospitalization within 2 years pre-HCT\\ | 732 |  TRUE | No          , Not reported, Yes          |         NA |          NA | phenotypes |\n",
       "| Hematopoietic Cell Transplant for Sickle Cell Disease (HCT for SCD) ( phs002385 ) | 5 - CRF data collection track only | Did patient develop Ipn, ARDS, or IPS following HCT?                   | Did patient develop Ipn, ARDS, or IPS following HCT?                   | \\Hematopoietic Cell Transplant for Sickle Cell Disease (HCT for SCD) ( phs002385 )\\5 - CRF data collection track only\\Did patient develop Ipn, ARDS, or IPS following HCT?\\                   | 732 |  TRUE | No          , Not reported, Yes          |         NA |          NA | phenotypes |\n",
       "| Hematopoietic Cell Transplant for Sickle Cell Disease (HCT for SCD) ( phs002385 ) | 5 - CRF data collection track only | Successfully extubated following intubation                            | Successfully extubated following intubation                            | \\Hematopoietic Cell Transplant for Sickle Cell Disease (HCT for SCD) ( phs002385 )\\5 - CRF data collection track only\\Successfully extubated following intubation\\                            | 732 |  TRUE | N/A         , No          , Not reported, Yes          |         NA |          NA | phenotypes |\n",
       "| Hematopoietic Cell Transplant for Sickle Cell Disease (HCT for SCD) ( phs002385 ) | 5 - CRF data collection track only | Sickle neuropathy post-HCT                                             | Sickle neuropathy post-HCT                                             | \\Hematopoietic Cell Transplant for Sickle Cell Disease (HCT for SCD) ( phs002385 )\\5 - CRF data collection track only\\Sickle neuropathy post-HCT\\                                             | 732 |  TRUE | No          , Not reported, Yes          |         NA |          NA | phenotypes |\n",
       "| Hematopoietic Cell Transplant for Sickle Cell Disease (HCT for SCD) ( phs002385 ) | 5 - CRF data collection track only | Require exchange transfusion                                           | Require exchange transfusion                                           | \\Hematopoietic Cell Transplant for Sickle Cell Disease (HCT for SCD) ( phs002385 )\\5 - CRF data collection track only\\Require exchange transfusion\\                                           | 732 |  TRUE | N/A         , No          , Not reported, Yes          |         NA |          NA | phenotypes |\n",
       "| Hematopoietic Cell Transplant for Sickle Cell Disease (HCT for SCD) ( phs002385 ) | 5 - CRF data collection track only | Time from serum albumin test pre-conditioning to transplant, months    | Time from serum albumin test pre-conditioning to transplant, months    | \\Hematopoietic Cell Transplant for Sickle Cell Disease (HCT for SCD) ( phs002385 )\\5 - CRF data collection track only\\Time from serum albumin test pre-conditioning to transplant, months\\    | 445 | FALSE | NA |  0.1644737 |   4.0460526 | phenotypes |\n",
       "| Hematopoietic Cell Transplant for Sickle Cell Disease (HCT for SCD) ( phs002385 ) | 5 - CRF data collection track only | Stroke pre-conditioning                                                | Stroke pre-conditioning                                                | \\Hematopoietic Cell Transplant for Sickle Cell Disease (HCT for SCD) ( phs002385 )\\5 - CRF data collection track only\\Stroke pre-conditioning\\                                                | 732 |  TRUE | No          , Not reported, Yes          |         NA |          NA | phenotypes |\n",
       "| Hematopoietic Cell Transplant for Sickle Cell Disease (HCT for SCD) ( phs002385 ) | 5 - CRF data collection track only | Deep vein thrombosis (DVT)/pulmonary embolism (PE)                     | Deep vein thrombosis (DVT)/pulmonary embolism (PE)                     | \\Hematopoietic Cell Transplant for Sickle Cell Disease (HCT for SCD) ( phs002385 )\\5 - CRF data collection track only\\Deep vein thrombosis (DVT)/pulmonary embolism (PE)\\                     | 732 |  TRUE | No          , Not reported, Yes          |         NA |          NA | phenotypes |\n",
       "| Hematopoietic Cell Transplant for Sickle Cell Disease (HCT for SCD) ( phs002385 ) | 5 - CRF data collection track only | Pancreatitis                                                           | Pancreatitis                                                           | \\Hematopoietic Cell Transplant for Sickle Cell Disease (HCT for SCD) ( phs002385 )\\5 - CRF data collection track only\\Pancreatitis\\                                                           | 732 |  TRUE | No          , Not reported, Yes          |         NA |          NA | phenotypes |\n",
       "| Hematopoietic Cell Transplant for Sickle Cell Disease (HCT for SCD) ( phs002385 ) | 5 - CRF data collection track only | Time from HCT to avascular necrosis, months                            | Time from HCT to avascular necrosis, months                            | \\Hematopoietic Cell Transplant for Sickle Cell Disease (HCT for SCD) ( phs002385 )\\5 - CRF data collection track only\\Time from HCT to avascular necrosis, months\\                            |  29 | FALSE | NA |  0.3947368 | 149.3092105 | phenotypes |\n",
       "| Hematopoietic Cell Transplant for Sickle Cell Disease (HCT for SCD) ( phs002385 ) | 5 - CRF data collection track only | Time from HCT to depression, months                                    | Time from HCT to depression, months                                    | \\Hematopoietic Cell Transplant for Sickle Cell Disease (HCT for SCD) ( phs002385 )\\5 - CRF data collection track only\\Time from HCT to depression, months\\                                    |  18 | FALSE | NA |  0.8552632 | 124.0131579 | phenotypes |\n",
       "| Hematopoietic Cell Transplant for Sickle Cell Disease (HCT for SCD) ( phs002385 ) | 5 - CRF data collection track only | Time from HCT to neuropathy, months                                    | Time from HCT to neuropathy, months                                    | \\Hematopoietic Cell Transplant for Sickle Cell Disease (HCT for SCD) ( phs002385 )\\5 - CRF data collection track only\\Time from HCT to neuropathy, months\\                                    |  10 | FALSE | NA |  0.2631579 |  10.2302632 | phenotypes |\n",
       "| ⋮ | ⋮ | ⋮ | ⋮ | ⋮ | ⋮ | ⋮ | ⋮ | ⋮ | ⋮ | ⋮ |\n",
       "| Hematopoietic Cell Transplant for Sickle Cell Disease (HCT for SCD) ( phs002385 ) | 5 - CRF data collection track only | Time from HCT to DVT, months                                           | Time from HCT to DVT, months                                           | \\Hematopoietic Cell Transplant for Sickle Cell Disease (HCT for SCD) ( phs002385 )\\5 - CRF data collection track only\\Time from HCT to DVT, months\\                                           |    9 | FALSE | NA |  0.09868421 | 123.38816 | phenotypes |\n",
       "| Hematopoietic Cell Transplant for Sickle Cell Disease (HCT for SCD) ( phs002385 ) | 5 - CRF data collection track only | Congestive heart failure                                               | Congestive heart failure                                               | \\Hematopoietic Cell Transplant for Sickle Cell Disease (HCT for SCD) ( phs002385 )\\5 - CRF data collection track only\\Congestive heart failure\\                                               |  732 |  TRUE | No          , Not reported, Yes          |          NA |        NA | phenotypes |\n",
       "| Hematopoietic Cell Transplant for Sickle Cell Disease (HCT for SCD) ( phs002385 ) | 5 - CRF data collection track only | Hypothyroidism requiring treatment                                     | Hypothyroidism requiring treatment                                     | \\Hematopoietic Cell Transplant for Sickle Cell Disease (HCT for SCD) ( phs002385 )\\5 - CRF data collection track only\\Hypothyroidism requiring treatment\\                                     |  732 |  TRUE | No          , Not reported, Yes          |          NA |        NA | phenotypes |\n",
       "| Hematopoietic Cell Transplant for Sickle Cell Disease (HCT for SCD) ( phs002385 ) | 5 - CRF data collection track only | Time from HCT to growth hormone deficiency, months                     | Time from HCT to growth hormone deficiency, months                     | \\Hematopoietic Cell Transplant for Sickle Cell Disease (HCT for SCD) ( phs002385 )\\5 - CRF data collection track only\\Time from HCT to growth hormone deficiency, months\\                     |   12 | FALSE | NA | 12.36842105 | 134.40789 | phenotypes |\n",
       "| Hematopoietic Cell Transplant for Sickle Cell Disease (HCT for SCD) ( phs002385 ) | 5 - CRF data collection track only | Osteoporosis                                                           | Osteoporosis                                                           | \\Hematopoietic Cell Transplant for Sickle Cell Disease (HCT for SCD) ( phs002385 )\\5 - CRF data collection track only\\Osteoporosis\\                                                           |  732 |  TRUE | No          , Not reported |          NA |        NA | phenotypes |\n",
       "| Hematopoietic Cell Transplant for Sickle Cell Disease (HCT for SCD) ( phs002385 ) | 5 - CRF data collection track only | Serum creatinine pre-conditioning unit                                 | Serum creatinine pre-conditioning unit                                 | \\Hematopoietic Cell Transplant for Sickle Cell Disease (HCT for SCD) ( phs002385 )\\5 - CRF data collection track only\\Serum creatinine pre-conditioning unit\\                                 |  732 |  TRUE | Not reported, mg/dL        |          NA |        NA | phenotypes |\n",
       "| Hematopoietic Cell Transplant for Sickle Cell Disease (HCT for SCD) ( phs002385 ) | 5 - CRF data collection track only | Vaso-occlusive pain post HCT                                           | Vaso-occlusive pain post HCT                                           | \\Hematopoietic Cell Transplant for Sickle Cell Disease (HCT for SCD) ( phs002385 )\\5 - CRF data collection track only\\Vaso-occlusive pain post HCT\\                                           | 1518 |  TRUE | No          , Not Reported, Yes          |          NA |        NA | phenotypes |\n",
       "| Hematopoietic Cell Transplant for Sickle Cell Disease (HCT for SCD) ( phs002385 ) | 5 - CRF data collection track only | Gonadal dysfunction requiring horomone therapy                         | Gonadal dysfunction requiring horomone therapy                         | \\Hematopoietic Cell Transplant for Sickle Cell Disease (HCT for SCD) ( phs002385 )\\5 - CRF data collection track only\\Gonadal dysfunction requiring horomone therapy\\                         |  732 |  TRUE | No          , Not reported, Yes          |          NA |        NA | phenotypes |\n",
       "| Hematopoietic Cell Transplant for Sickle Cell Disease (HCT for SCD) ( phs002385 ) | 5 - CRF data collection track only | Acute renal failure requiring dialysis                                 | Acute renal failure requiring dialysis                                 | \\Hematopoietic Cell Transplant for Sickle Cell Disease (HCT for SCD) ( phs002385 )\\5 - CRF data collection track only\\Acute renal failure requiring dialysis\\                                 |  732 |  TRUE | No          , Not reported, Yes          |          NA |        NA | phenotypes |\n",
       "| Hematopoietic Cell Transplant for Sickle Cell Disease (HCT for SCD) ( phs002385 ) | 5 - CRF data collection track only | Normal upper limit of serum albumin for center                         | Normal upper limit of serum albumin for center                         | \\Hematopoietic Cell Transplant for Sickle Cell Disease (HCT for SCD) ( phs002385 )\\5 - CRF data collection track only\\Normal upper limit of serum albumin for center\\                         |  445 | FALSE | NA |  3.90000000 |   5.70000 | phenotypes |\n",
       "| Hematopoietic Cell Transplant for Sickle Cell Disease (HCT for SCD) ( phs002385 ) | 5 - CRF data collection track only | Type of arrythmia                                                      | Type of arrythmia                                                      | \\Hematopoietic Cell Transplant for Sickle Cell Disease (HCT for SCD) ( phs002385 )\\5 - CRF data collection track only\\Type of arrythmia\\                                                      |  732 |  TRUE | Atrial fibrillation or flutter, N/A                           , Sick sinus syndrome            |          NA |        NA | phenotypes |\n",
       "| Hematopoietic Cell Transplant for Sickle Cell Disease (HCT for SCD) ( phs002385 ) | 5 - CRF data collection track only | Time from HCT to anxiety, months                                       | Time from HCT to anxiety, months                                       | \\Hematopoietic Cell Transplant for Sickle Cell Disease (HCT for SCD) ( phs002385 )\\5 - CRF data collection track only\\Time from HCT to anxiety, months\\                                       |   14 | FALSE | NA |  0.00000000 | 124.01316 | phenotypes |\n",
       "| Hematopoietic Cell Transplant for Sickle Cell Disease (HCT for SCD) ( phs002385 ) | 5 - CRF data collection track only | CNS hemorrhage                                                         | CNS hemorrhage                                                         | \\Hematopoietic Cell Transplant for Sickle Cell Disease (HCT for SCD) ( phs002385 )\\5 - CRF data collection track only\\CNS hemorrhage\\                                                         |  732 |  TRUE | No          , Not reported, Yes          |          NA |        NA | phenotypes |\n",
       "| Hematopoietic Cell Transplant for Sickle Cell Disease (HCT for SCD) ( phs002385 ) | 5 - CRF data collection track only | DVT catheter related                                                   | DVT catheter related                                                   | \\Hematopoietic Cell Transplant for Sickle Cell Disease (HCT for SCD) ( phs002385 )\\5 - CRF data collection track only\\DVT catheter related\\                                                   |  732 |  TRUE | N/A         , No          , Not reported, Yes          |          NA |        NA | phenotypes |\n",
       "| Hematopoietic Cell Transplant for Sickle Cell Disease (HCT for SCD) ( phs002385 ) | 5 - CRF data collection track only | Post-traumatic stress disorder (PTSD) requiring therapy                | Post-traumatic stress disorder (PTSD) requiring therapy                | \\Hematopoietic Cell Transplant for Sickle Cell Disease (HCT for SCD) ( phs002385 )\\5 - CRF data collection track only\\Post-traumatic stress disorder (PTSD) requiring therapy\\                |  732 |  TRUE | No          , Not reported, Yes          |          NA |        NA | phenotypes |\n",
       "| Hematopoietic Cell Transplant for Sickle Cell Disease (HCT for SCD) ( phs002385 ) | 5 - CRF data collection track only | Neuropathy                                                             | Neuropathy                                                             | \\Hematopoietic Cell Transplant for Sickle Cell Disease (HCT for SCD) ( phs002385 )\\5 - CRF data collection track only\\Neuropathy\\                                                             |  732 |  TRUE | No , Yes |          NA |        NA | phenotypes |\n",
       "| Hematopoietic Cell Transplant for Sickle Cell Disease (HCT for SCD) ( phs002385 ) | 5 - CRF data collection track only | Time from serum creatinine test pre-conditioning to transplant, months | Time from serum creatinine test pre-conditioning to transplant, months | \\Hematopoietic Cell Transplant for Sickle Cell Disease (HCT for SCD) ( phs002385 )\\5 - CRF data collection track only\\Time from serum creatinine test pre-conditioning to transplant, months\\ |  719 | FALSE | NA |  0.03289474 |  26.08553 | phenotypes |\n",
       "| Hematopoietic Cell Transplant for Sickle Cell Disease (HCT for SCD) ( phs002385 ) | 5 - CRF data collection track only | Depression requiring therapy                                           | Depression requiring therapy                                           | \\Hematopoietic Cell Transplant for Sickle Cell Disease (HCT for SCD) ( phs002385 )\\5 - CRF data collection track only\\Depression requiring therapy\\                                           |  732 |  TRUE | No          , Not reported, Yes          |          NA |        NA | phenotypes |\n",
       "| Hematopoietic Cell Transplant for Sickle Cell Disease (HCT for SCD) ( phs002385 ) | 5 - CRF data collection track only | Acute chest syndrome (ACS) pre-conditioning                            | Acute chest syndrome (ACS) pre-conditioning                            | \\Hematopoietic Cell Transplant for Sickle Cell Disease (HCT for SCD) ( phs002385 )\\5 - CRF data collection track only\\Acute chest syndrome (ACS) pre-conditioning\\                            |  732 |  TRUE | No          , Not reported, Yes          |          NA |        NA | phenotypes |\n",
       "| Hematopoietic Cell Transplant for Sickle Cell Disease (HCT for SCD) ( phs002385 ) | 5 - CRF data collection track only | Therapy given for growth hormone deficiency                            | Therapy given for growth hormone deficiency                            | \\Hematopoietic Cell Transplant for Sickle Cell Disease (HCT for SCD) ( phs002385 )\\5 - CRF data collection track only\\Therapy given for growth hormone deficiency\\                            |  732 |  TRUE | N/A         , No          , Not reported, Yes          |          NA |        NA | phenotypes |\n",
       "| Hematopoietic Cell Transplant for Sickle Cell Disease (HCT for SCD) ( phs002385 ) | 5 - CRF data collection track only | TMA post-HCT                                                           | TMA post-HCT                                                           | \\Hematopoietic Cell Transplant for Sickle Cell Disease (HCT for SCD) ( phs002385 )\\5 - CRF data collection track only\\TMA post-HCT\\                                                           |  732 |  TRUE | No          , Not reported, Yes          |          NA |        NA | phenotypes |\n",
       "| Hematopoietic Cell Transplant for Sickle Cell Disease (HCT for SCD) ( phs002385 ) | 5 - CRF data collection track only | Hemoglobin electrophoresis performed post-HCT                          | Hemoglobin electrophoresis performed post-HCT                          | \\Hematopoietic Cell Transplant for Sickle Cell Disease (HCT for SCD) ( phs002385 )\\5 - CRF data collection track only\\Hemoglobin electrophoresis performed post-HCT\\                          |  732 |  TRUE | No          , Not reported, Yes          |          NA |        NA | phenotypes |\n",
       "| Hematopoietic Cell Transplant for Sickle Cell Disease (HCT for SCD) ( phs002385 ) | 5 - CRF data collection track only | Hemoglobin pre-conditioning unit                                       | Hemoglobin pre-conditioning unit                                       | \\Hematopoietic Cell Transplant for Sickle Cell Disease (HCT for SCD) ( phs002385 )\\5 - CRF data collection track only\\Hemoglobin pre-conditioning unit\\                                       |  732 |  TRUE | Not reported, g/dL         |          NA |        NA | phenotypes |\n",
       "| Hematopoietic Cell Transplant for Sickle Cell Disease (HCT for SCD) ( phs002385 ) | 5 - CRF data collection track only | RBC transfused &lt;30 prior to hemoglobin test                            | RBC transfused &lt;30 prior to hemoglobin test                            | \\Hematopoietic Cell Transplant for Sickle Cell Disease (HCT for SCD) ( phs002385 )\\5 - CRF data collection track only\\RBC transfused &lt;30 prior to hemoglobin test\\                            |  732 |  TRUE | No          , Not reported, Yes          |          NA |        NA | phenotypes |\n",
       "| Hematopoietic Cell Transplant for Sickle Cell Disease (HCT for SCD) ( phs002385 ) | 5 - CRF data collection track only | Sickle neuropathy pre-conditioning                                     | Sickle neuropathy pre-conditioning                                     | \\Hematopoietic Cell Transplant for Sickle Cell Disease (HCT for SCD) ( phs002385 )\\5 - CRF data collection track only\\Sickle neuropathy pre-conditioning\\                                     |  732 |  TRUE | No          , Not reported, Yes          |          NA |        NA | phenotypes |\n",
       "| Hematopoietic Cell Transplant for Sickle Cell Disease (HCT for SCD) ( phs002385 ) | 5 - CRF data collection track only | Serum creatinine known pre-conditioning                                | Serum creatinine known pre-conditioning                                | \\Hematopoietic Cell Transplant for Sickle Cell Disease (HCT for SCD) ( phs002385 )\\5 - CRF data collection track only\\Serum creatinine known pre-conditioning\\                                |  732 |  TRUE | No , Yes |          NA |        NA | phenotypes |\n",
       "| Hematopoietic Cell Transplant for Sickle Cell Disease (HCT for SCD) ( phs002385 ) | 5 - CRF data collection track only | Serum creatinine pre-conditioning                                      | Serum creatinine pre-conditioning                                      | \\Hematopoietic Cell Transplant for Sickle Cell Disease (HCT for SCD) ( phs002385 )\\5 - CRF data collection track only\\Serum creatinine pre-conditioning\\                                      |  722 | FALSE | NA |  0.10000000 |   1.50000 | phenotypes |\n",
       "| Hematopoietic Cell Transplant for Sickle Cell Disease (HCT for SCD) ( phs002385 ) | 5 - CRF data collection track only | Clinically significant fungal infection at any time pre-conditioning   | Clinically significant fungal infection at any time pre-conditioning   | \\Hematopoietic Cell Transplant for Sickle Cell Disease (HCT for SCD) ( phs002385 )\\5 - CRF data collection track only\\Clinically significant fungal infection at any time pre-conditioning\\   |  732 |  TRUE | No          , Not reported, Yes          |          NA |        NA | phenotypes |\n",
       "| Hematopoietic Cell Transplant for Sickle Cell Disease (HCT for SCD) ( phs002385 ) | 5 - CRF data collection track only | Anxiety requiring therapy                                              | Anxiety requiring therapy                                              | \\Hematopoietic Cell Transplant for Sickle Cell Disease (HCT for SCD) ( phs002385 )\\5 - CRF data collection track only\\Anxiety requiring therapy\\                                              |  732 |  TRUE | No          , Not reported, Yes          |          NA |        NA | phenotypes |\n",
       "| Hematopoietic Cell Transplant for Sickle Cell Disease (HCT for SCD) ( phs002385 ) | 5 - CRF data collection track only | Intubation or mechanical ventilation for ACS pre-conditioning          | Intubation or mechanical ventilation for ACS pre-conditioning          | \\Hematopoietic Cell Transplant for Sickle Cell Disease (HCT for SCD) ( phs002385 )\\5 - CRF data collection track only\\Intubation or mechanical ventilation for ACS pre-conditioning\\          |  732 |  TRUE | N/A         , No          , Not reported, Yes          |          NA |        NA | phenotypes |\n",
       "\n"
      ],
      "text/plain": [
       "    level_0                                                                          \n",
       "1   Hematopoietic Cell Transplant for Sickle Cell Disease (HCT for SCD) ( phs002385 )\n",
       "2   Hematopoietic Cell Transplant for Sickle Cell Disease (HCT for SCD) ( phs002385 )\n",
       "3   Hematopoietic Cell Transplant for Sickle Cell Disease (HCT for SCD) ( phs002385 )\n",
       "4   Hematopoietic Cell Transplant for Sickle Cell Disease (HCT for SCD) ( phs002385 )\n",
       "5   Hematopoietic Cell Transplant for Sickle Cell Disease (HCT for SCD) ( phs002385 )\n",
       "6   Hematopoietic Cell Transplant for Sickle Cell Disease (HCT for SCD) ( phs002385 )\n",
       "7   Hematopoietic Cell Transplant for Sickle Cell Disease (HCT for SCD) ( phs002385 )\n",
       "8   Hematopoietic Cell Transplant for Sickle Cell Disease (HCT for SCD) ( phs002385 )\n",
       "9   Hematopoietic Cell Transplant for Sickle Cell Disease (HCT for SCD) ( phs002385 )\n",
       "10  Hematopoietic Cell Transplant for Sickle Cell Disease (HCT for SCD) ( phs002385 )\n",
       "11  Hematopoietic Cell Transplant for Sickle Cell Disease (HCT for SCD) ( phs002385 )\n",
       "12  Hematopoietic Cell Transplant for Sickle Cell Disease (HCT for SCD) ( phs002385 )\n",
       "13  Hematopoietic Cell Transplant for Sickle Cell Disease (HCT for SCD) ( phs002385 )\n",
       "14  Hematopoietic Cell Transplant for Sickle Cell Disease (HCT for SCD) ( phs002385 )\n",
       "15  Hematopoietic Cell Transplant for Sickle Cell Disease (HCT for SCD) ( phs002385 )\n",
       "16  Hematopoietic Cell Transplant for Sickle Cell Disease (HCT for SCD) ( phs002385 )\n",
       "17  Hematopoietic Cell Transplant for Sickle Cell Disease (HCT for SCD) ( phs002385 )\n",
       "18  Hematopoietic Cell Transplant for Sickle Cell Disease (HCT for SCD) ( phs002385 )\n",
       "19  Hematopoietic Cell Transplant for Sickle Cell Disease (HCT for SCD) ( phs002385 )\n",
       "20  Hematopoietic Cell Transplant for Sickle Cell Disease (HCT for SCD) ( phs002385 )\n",
       "21  Hematopoietic Cell Transplant for Sickle Cell Disease (HCT for SCD) ( phs002385 )\n",
       "22  Hematopoietic Cell Transplant for Sickle Cell Disease (HCT for SCD) ( phs002385 )\n",
       "23  Hematopoietic Cell Transplant for Sickle Cell Disease (HCT for SCD) ( phs002385 )\n",
       "24  Hematopoietic Cell Transplant for Sickle Cell Disease (HCT for SCD) ( phs002385 )\n",
       "25  Hematopoietic Cell Transplant for Sickle Cell Disease (HCT for SCD) ( phs002385 )\n",
       "26  Hematopoietic Cell Transplant for Sickle Cell Disease (HCT for SCD) ( phs002385 )\n",
       "27  Hematopoietic Cell Transplant for Sickle Cell Disease (HCT for SCD) ( phs002385 )\n",
       "28  Hematopoietic Cell Transplant for Sickle Cell Disease (HCT for SCD) ( phs002385 )\n",
       "29  Hematopoietic Cell Transplant for Sickle Cell Disease (HCT for SCD) ( phs002385 )\n",
       "30  Hematopoietic Cell Transplant for Sickle Cell Disease (HCT for SCD) ( phs002385 )\n",
       "⋮   ⋮                                                                                \n",
       "82  Hematopoietic Cell Transplant for Sickle Cell Disease (HCT for SCD) ( phs002385 )\n",
       "83  Hematopoietic Cell Transplant for Sickle Cell Disease (HCT for SCD) ( phs002385 )\n",
       "84  Hematopoietic Cell Transplant for Sickle Cell Disease (HCT for SCD) ( phs002385 )\n",
       "85  Hematopoietic Cell Transplant for Sickle Cell Disease (HCT for SCD) ( phs002385 )\n",
       "86  Hematopoietic Cell Transplant for Sickle Cell Disease (HCT for SCD) ( phs002385 )\n",
       "87  Hematopoietic Cell Transplant for Sickle Cell Disease (HCT for SCD) ( phs002385 )\n",
       "88  Hematopoietic Cell Transplant for Sickle Cell Disease (HCT for SCD) ( phs002385 )\n",
       "89  Hematopoietic Cell Transplant for Sickle Cell Disease (HCT for SCD) ( phs002385 )\n",
       "90  Hematopoietic Cell Transplant for Sickle Cell Disease (HCT for SCD) ( phs002385 )\n",
       "91  Hematopoietic Cell Transplant for Sickle Cell Disease (HCT for SCD) ( phs002385 )\n",
       "92  Hematopoietic Cell Transplant for Sickle Cell Disease (HCT for SCD) ( phs002385 )\n",
       "93  Hematopoietic Cell Transplant for Sickle Cell Disease (HCT for SCD) ( phs002385 )\n",
       "94  Hematopoietic Cell Transplant for Sickle Cell Disease (HCT for SCD) ( phs002385 )\n",
       "95  Hematopoietic Cell Transplant for Sickle Cell Disease (HCT for SCD) ( phs002385 )\n",
       "96  Hematopoietic Cell Transplant for Sickle Cell Disease (HCT for SCD) ( phs002385 )\n",
       "97  Hematopoietic Cell Transplant for Sickle Cell Disease (HCT for SCD) ( phs002385 )\n",
       "98  Hematopoietic Cell Transplant for Sickle Cell Disease (HCT for SCD) ( phs002385 )\n",
       "99  Hematopoietic Cell Transplant for Sickle Cell Disease (HCT for SCD) ( phs002385 )\n",
       "100 Hematopoietic Cell Transplant for Sickle Cell Disease (HCT for SCD) ( phs002385 )\n",
       "101 Hematopoietic Cell Transplant for Sickle Cell Disease (HCT for SCD) ( phs002385 )\n",
       "102 Hematopoietic Cell Transplant for Sickle Cell Disease (HCT for SCD) ( phs002385 )\n",
       "103 Hematopoietic Cell Transplant for Sickle Cell Disease (HCT for SCD) ( phs002385 )\n",
       "104 Hematopoietic Cell Transplant for Sickle Cell Disease (HCT for SCD) ( phs002385 )\n",
       "105 Hematopoietic Cell Transplant for Sickle Cell Disease (HCT for SCD) ( phs002385 )\n",
       "106 Hematopoietic Cell Transplant for Sickle Cell Disease (HCT for SCD) ( phs002385 )\n",
       "107 Hematopoietic Cell Transplant for Sickle Cell Disease (HCT for SCD) ( phs002385 )\n",
       "108 Hematopoietic Cell Transplant for Sickle Cell Disease (HCT for SCD) ( phs002385 )\n",
       "109 Hematopoietic Cell Transplant for Sickle Cell Disease (HCT for SCD) ( phs002385 )\n",
       "110 Hematopoietic Cell Transplant for Sickle Cell Disease (HCT for SCD) ( phs002385 )\n",
       "111 Hematopoietic Cell Transplant for Sickle Cell Disease (HCT for SCD) ( phs002385 )\n",
       "    level_1                           \n",
       "1   5 - CRF data collection track only\n",
       "2   5 - CRF data collection track only\n",
       "3   5 - CRF data collection track only\n",
       "4   5 - CRF data collection track only\n",
       "5   5 - CRF data collection track only\n",
       "6   5 - CRF data collection track only\n",
       "7   5 - CRF data collection track only\n",
       "8   5 - CRF data collection track only\n",
       "9   5 - CRF data collection track only\n",
       "10  5 - CRF data collection track only\n",
       "11  5 - CRF data collection track only\n",
       "12  5 - CRF data collection track only\n",
       "13  5 - CRF data collection track only\n",
       "14  5 - CRF data collection track only\n",
       "15  5 - CRF data collection track only\n",
       "16  5 - CRF data collection track only\n",
       "17  5 - CRF data collection track only\n",
       "18  5 - CRF data collection track only\n",
       "19  5 - CRF data collection track only\n",
       "20  5 - CRF data collection track only\n",
       "21  5 - CRF data collection track only\n",
       "22  5 - CRF data collection track only\n",
       "23  5 - CRF data collection track only\n",
       "24  5 - CRF data collection track only\n",
       "25  5 - CRF data collection track only\n",
       "26  5 - CRF data collection track only\n",
       "27  5 - CRF data collection track only\n",
       "28  5 - CRF data collection track only\n",
       "29  5 - CRF data collection track only\n",
       "30  5 - CRF data collection track only\n",
       "⋮   ⋮                                 \n",
       "82  5 - CRF data collection track only\n",
       "83  5 - CRF data collection track only\n",
       "84  5 - CRF data collection track only\n",
       "85  5 - CRF data collection track only\n",
       "86  5 - CRF data collection track only\n",
       "87  5 - CRF data collection track only\n",
       "88  5 - CRF data collection track only\n",
       "89  5 - CRF data collection track only\n",
       "90  5 - CRF data collection track only\n",
       "91  5 - CRF data collection track only\n",
       "92  5 - CRF data collection track only\n",
       "93  5 - CRF data collection track only\n",
       "94  5 - CRF data collection track only\n",
       "95  5 - CRF data collection track only\n",
       "96  5 - CRF data collection track only\n",
       "97  5 - CRF data collection track only\n",
       "98  5 - CRF data collection track only\n",
       "99  5 - CRF data collection track only\n",
       "100 5 - CRF data collection track only\n",
       "101 5 - CRF data collection track only\n",
       "102 5 - CRF data collection track only\n",
       "103 5 - CRF data collection track only\n",
       "104 5 - CRF data collection track only\n",
       "105 5 - CRF data collection track only\n",
       "106 5 - CRF data collection track only\n",
       "107 5 - CRF data collection track only\n",
       "108 5 - CRF data collection track only\n",
       "109 5 - CRF data collection track only\n",
       "110 5 - CRF data collection track only\n",
       "111 5 - CRF data collection track only\n",
       "    level_2                                                               \n",
       "1   Time from HCT to pancreatitis, months                                 \n",
       "2   Other organ impairment or disorder                                    \n",
       "3   Diabetes/hyperglycemia requiring chronic treatment                    \n",
       "4   Did TMA resolve?                                                      \n",
       "5   VOD post-HCT                                                          \n",
       "6   Liver biopsy performed pre-conditioning                               \n",
       "7   Time from HCT to Cataracts, months                                    \n",
       "8   Transfusion of RBC for ACS pre-conditioning                           \n",
       "9   Type of therapy for iron overload                                     \n",
       "10  Hemoglobin known pre-conditioning                                     \n",
       "11  Time from HCT to VOD, months                                          \n",
       "12  Time from HCT to PTSD, months                                         \n",
       "13  Hemorrhagic cystitis                                                  \n",
       "14  Fibrosis present pre-conditioning                                     \n",
       "15  Time from HCT to myocardial infarction, months                        \n",
       "16  Growth hormone deficiency/ short stature                              \n",
       "17  Time from HCT to CNS hemorrhage, months                               \n",
       "18  Time from HCT to gonadal dysfunction, months                          \n",
       "19  Vaso-occlusive cirsis requiring hospitalization within 2 years pre-HCT\n",
       "20  Did patient develop Ipn, ARDS, or IPS following HCT?                  \n",
       "21  Successfully extubated following intubation                           \n",
       "22  Sickle neuropathy post-HCT                                            \n",
       "23  Require exchange transfusion                                          \n",
       "24  Time from serum albumin test pre-conditioning to transplant, months   \n",
       "25  Stroke pre-conditioning                                               \n",
       "26  Deep vein thrombosis (DVT)/pulmonary embolism (PE)                    \n",
       "27  Pancreatitis                                                          \n",
       "28  Time from HCT to avascular necrosis, months                           \n",
       "29  Time from HCT to depression, months                                   \n",
       "30  Time from HCT to neuropathy, months                                   \n",
       "⋮   ⋮                                                                     \n",
       "82  Time from HCT to DVT, months                                          \n",
       "83  Congestive heart failure                                              \n",
       "84  Hypothyroidism requiring treatment                                    \n",
       "85  Time from HCT to growth hormone deficiency, months                    \n",
       "86  Osteoporosis                                                          \n",
       "87  Serum creatinine pre-conditioning unit                                \n",
       "88  Vaso-occlusive pain post HCT                                          \n",
       "89  Gonadal dysfunction requiring horomone therapy                        \n",
       "90  Acute renal failure requiring dialysis                                \n",
       "91  Normal upper limit of serum albumin for center                        \n",
       "92  Type of arrythmia                                                     \n",
       "93  Time from HCT to anxiety, months                                      \n",
       "94  CNS hemorrhage                                                        \n",
       "95  DVT catheter related                                                  \n",
       "96  Post-traumatic stress disorder (PTSD) requiring therapy               \n",
       "97  Neuropathy                                                            \n",
       "98  Time from serum creatinine test pre-conditioning to transplant, months\n",
       "99  Depression requiring therapy                                          \n",
       "100 Acute chest syndrome (ACS) pre-conditioning                           \n",
       "101 Therapy given for growth hormone deficiency                           \n",
       "102 TMA post-HCT                                                          \n",
       "103 Hemoglobin electrophoresis performed post-HCT                         \n",
       "104 Hemoglobin pre-conditioning unit                                      \n",
       "105 RBC transfused <30 prior to hemoglobin test                           \n",
       "106 Sickle neuropathy pre-conditioning                                    \n",
       "107 Serum creatinine known pre-conditioning                               \n",
       "108 Serum creatinine pre-conditioning                                     \n",
       "109 Clinically significant fungal infection at any time pre-conditioning  \n",
       "110 Anxiety requiring therapy                                             \n",
       "111 Intubation or mechanical ventilation for ACS pre-conditioning         \n",
       "    simplified_name                                                       \n",
       "1   Time from HCT to pancreatitis, months                                 \n",
       "2   Other organ impairment or disorder                                    \n",
       "3   Diabetes/hyperglycemia requiring chronic treatment                    \n",
       "4   Did TMA resolve?                                                      \n",
       "5   VOD post-HCT                                                          \n",
       "6   Liver biopsy performed pre-conditioning                               \n",
       "7   Time from HCT to Cataracts, months                                    \n",
       "8   Transfusion of RBC for ACS pre-conditioning                           \n",
       "9   Type of therapy for iron overload                                     \n",
       "10  Hemoglobin known pre-conditioning                                     \n",
       "11  Time from HCT to VOD, months                                          \n",
       "12  Time from HCT to PTSD, months                                         \n",
       "13  Hemorrhagic cystitis                                                  \n",
       "14  Fibrosis present pre-conditioning                                     \n",
       "15  Time from HCT to myocardial infarction, months                        \n",
       "16  Growth hormone deficiency/ short stature                              \n",
       "17  Time from HCT to CNS hemorrhage, months                               \n",
       "18  Time from HCT to gonadal dysfunction, months                          \n",
       "19  Vaso-occlusive cirsis requiring hospitalization within 2 years pre-HCT\n",
       "20  Did patient develop Ipn, ARDS, or IPS following HCT?                  \n",
       "21  Successfully extubated following intubation                           \n",
       "22  Sickle neuropathy post-HCT                                            \n",
       "23  Require exchange transfusion                                          \n",
       "24  Time from serum albumin test pre-conditioning to transplant, months   \n",
       "25  Stroke pre-conditioning                                               \n",
       "26  Deep vein thrombosis (DVT)/pulmonary embolism (PE)                    \n",
       "27  Pancreatitis                                                          \n",
       "28  Time from HCT to avascular necrosis, months                           \n",
       "29  Time from HCT to depression, months                                   \n",
       "30  Time from HCT to neuropathy, months                                   \n",
       "⋮   ⋮                                                                     \n",
       "82  Time from HCT to DVT, months                                          \n",
       "83  Congestive heart failure                                              \n",
       "84  Hypothyroidism requiring treatment                                    \n",
       "85  Time from HCT to growth hormone deficiency, months                    \n",
       "86  Osteoporosis                                                          \n",
       "87  Serum creatinine pre-conditioning unit                                \n",
       "88  Vaso-occlusive pain post HCT                                          \n",
       "89  Gonadal dysfunction requiring horomone therapy                        \n",
       "90  Acute renal failure requiring dialysis                                \n",
       "91  Normal upper limit of serum albumin for center                        \n",
       "92  Type of arrythmia                                                     \n",
       "93  Time from HCT to anxiety, months                                      \n",
       "94  CNS hemorrhage                                                        \n",
       "95  DVT catheter related                                                  \n",
       "96  Post-traumatic stress disorder (PTSD) requiring therapy               \n",
       "97  Neuropathy                                                            \n",
       "98  Time from serum creatinine test pre-conditioning to transplant, months\n",
       "99  Depression requiring therapy                                          \n",
       "100 Acute chest syndrome (ACS) pre-conditioning                           \n",
       "101 Therapy given for growth hormone deficiency                           \n",
       "102 TMA post-HCT                                                          \n",
       "103 Hemoglobin electrophoresis performed post-HCT                         \n",
       "104 Hemoglobin pre-conditioning unit                                      \n",
       "105 RBC transfused <30 prior to hemoglobin test                           \n",
       "106 Sickle neuropathy pre-conditioning                                    \n",
       "107 Serum creatinine known pre-conditioning                               \n",
       "108 Serum creatinine pre-conditioning                                     \n",
       "109 Clinically significant fungal infection at any time pre-conditioning  \n",
       "110 Anxiety requiring therapy                                             \n",
       "111 Intubation or mechanical ventilation for ACS pre-conditioning         \n",
       "    name                                                                                                                                                                                             \n",
       "1   \\\\Hematopoietic Cell Transplant for Sickle Cell Disease (HCT for SCD) ( phs002385 )\\\\5 - CRF data collection track only\\\\Time from HCT to pancreatitis, months\\\\                                 \n",
       "2   \\\\Hematopoietic Cell Transplant for Sickle Cell Disease (HCT for SCD) ( phs002385 )\\\\5 - CRF data collection track only\\\\Other organ impairment or disorder\\\\                                    \n",
       "3   \\\\Hematopoietic Cell Transplant for Sickle Cell Disease (HCT for SCD) ( phs002385 )\\\\5 - CRF data collection track only\\\\Diabetes/hyperglycemia requiring chronic treatment\\\\                    \n",
       "4   \\\\Hematopoietic Cell Transplant for Sickle Cell Disease (HCT for SCD) ( phs002385 )\\\\5 - CRF data collection track only\\\\Did TMA resolve?\\\\                                                      \n",
       "5   \\\\Hematopoietic Cell Transplant for Sickle Cell Disease (HCT for SCD) ( phs002385 )\\\\5 - CRF data collection track only\\\\VOD post-HCT\\\\                                                          \n",
       "6   \\\\Hematopoietic Cell Transplant for Sickle Cell Disease (HCT for SCD) ( phs002385 )\\\\5 - CRF data collection track only\\\\Liver biopsy performed pre-conditioning\\\\                               \n",
       "7   \\\\Hematopoietic Cell Transplant for Sickle Cell Disease (HCT for SCD) ( phs002385 )\\\\5 - CRF data collection track only\\\\Time from HCT to Cataracts, months\\\\                                    \n",
       "8   \\\\Hematopoietic Cell Transplant for Sickle Cell Disease (HCT for SCD) ( phs002385 )\\\\5 - CRF data collection track only\\\\Transfusion of RBC for ACS pre-conditioning\\\\                           \n",
       "9   \\\\Hematopoietic Cell Transplant for Sickle Cell Disease (HCT for SCD) ( phs002385 )\\\\5 - CRF data collection track only\\\\Type of therapy for iron overload\\\\                                     \n",
       "10  \\\\Hematopoietic Cell Transplant for Sickle Cell Disease (HCT for SCD) ( phs002385 )\\\\5 - CRF data collection track only\\\\Hemoglobin known pre-conditioning\\\\                                     \n",
       "11  \\\\Hematopoietic Cell Transplant for Sickle Cell Disease (HCT for SCD) ( phs002385 )\\\\5 - CRF data collection track only\\\\Time from HCT to VOD, months\\\\                                          \n",
       "12  \\\\Hematopoietic Cell Transplant for Sickle Cell Disease (HCT for SCD) ( phs002385 )\\\\5 - CRF data collection track only\\\\Time from HCT to PTSD, months\\\\                                         \n",
       "13  \\\\Hematopoietic Cell Transplant for Sickle Cell Disease (HCT for SCD) ( phs002385 )\\\\5 - CRF data collection track only\\\\Hemorrhagic cystitis\\\\                                                  \n",
       "14  \\\\Hematopoietic Cell Transplant for Sickle Cell Disease (HCT for SCD) ( phs002385 )\\\\5 - CRF data collection track only\\\\Fibrosis present pre-conditioning\\\\                                     \n",
       "15  \\\\Hematopoietic Cell Transplant for Sickle Cell Disease (HCT for SCD) ( phs002385 )\\\\5 - CRF data collection track only\\\\Time from HCT to myocardial infarction, months\\\\                        \n",
       "16  \\\\Hematopoietic Cell Transplant for Sickle Cell Disease (HCT for SCD) ( phs002385 )\\\\5 - CRF data collection track only\\\\Growth hormone deficiency/ short stature\\\\                              \n",
       "17  \\\\Hematopoietic Cell Transplant for Sickle Cell Disease (HCT for SCD) ( phs002385 )\\\\5 - CRF data collection track only\\\\Time from HCT to CNS hemorrhage, months\\\\                               \n",
       "18  \\\\Hematopoietic Cell Transplant for Sickle Cell Disease (HCT for SCD) ( phs002385 )\\\\5 - CRF data collection track only\\\\Time from HCT to gonadal dysfunction, months\\\\                          \n",
       "19  \\\\Hematopoietic Cell Transplant for Sickle Cell Disease (HCT for SCD) ( phs002385 )\\\\5 - CRF data collection track only\\\\Vaso-occlusive cirsis requiring hospitalization within 2 years pre-HCT\\\\\n",
       "20  \\\\Hematopoietic Cell Transplant for Sickle Cell Disease (HCT for SCD) ( phs002385 )\\\\5 - CRF data collection track only\\\\Did patient develop Ipn, ARDS, or IPS following HCT?\\\\                  \n",
       "21  \\\\Hematopoietic Cell Transplant for Sickle Cell Disease (HCT for SCD) ( phs002385 )\\\\5 - CRF data collection track only\\\\Successfully extubated following intubation\\\\                           \n",
       "22  \\\\Hematopoietic Cell Transplant for Sickle Cell Disease (HCT for SCD) ( phs002385 )\\\\5 - CRF data collection track only\\\\Sickle neuropathy post-HCT\\\\                                            \n",
       "23  \\\\Hematopoietic Cell Transplant for Sickle Cell Disease (HCT for SCD) ( phs002385 )\\\\5 - CRF data collection track only\\\\Require exchange transfusion\\\\                                          \n",
       "24  \\\\Hematopoietic Cell Transplant for Sickle Cell Disease (HCT for SCD) ( phs002385 )\\\\5 - CRF data collection track only\\\\Time from serum albumin test pre-conditioning to transplant, months\\\\   \n",
       "25  \\\\Hematopoietic Cell Transplant for Sickle Cell Disease (HCT for SCD) ( phs002385 )\\\\5 - CRF data collection track only\\\\Stroke pre-conditioning\\\\                                               \n",
       "26  \\\\Hematopoietic Cell Transplant for Sickle Cell Disease (HCT for SCD) ( phs002385 )\\\\5 - CRF data collection track only\\\\Deep vein thrombosis (DVT)/pulmonary embolism (PE)\\\\                    \n",
       "27  \\\\Hematopoietic Cell Transplant for Sickle Cell Disease (HCT for SCD) ( phs002385 )\\\\5 - CRF data collection track only\\\\Pancreatitis\\\\                                                          \n",
       "28  \\\\Hematopoietic Cell Transplant for Sickle Cell Disease (HCT for SCD) ( phs002385 )\\\\5 - CRF data collection track only\\\\Time from HCT to avascular necrosis, months\\\\                           \n",
       "29  \\\\Hematopoietic Cell Transplant for Sickle Cell Disease (HCT for SCD) ( phs002385 )\\\\5 - CRF data collection track only\\\\Time from HCT to depression, months\\\\                                   \n",
       "30  \\\\Hematopoietic Cell Transplant for Sickle Cell Disease (HCT for SCD) ( phs002385 )\\\\5 - CRF data collection track only\\\\Time from HCT to neuropathy, months\\\\                                   \n",
       "⋮   ⋮                                                                                                                                                                                                \n",
       "82  \\\\Hematopoietic Cell Transplant for Sickle Cell Disease (HCT for SCD) ( phs002385 )\\\\5 - CRF data collection track only\\\\Time from HCT to DVT, months\\\\                                          \n",
       "83  \\\\Hematopoietic Cell Transplant for Sickle Cell Disease (HCT for SCD) ( phs002385 )\\\\5 - CRF data collection track only\\\\Congestive heart failure\\\\                                              \n",
       "84  \\\\Hematopoietic Cell Transplant for Sickle Cell Disease (HCT for SCD) ( phs002385 )\\\\5 - CRF data collection track only\\\\Hypothyroidism requiring treatment\\\\                                    \n",
       "85  \\\\Hematopoietic Cell Transplant for Sickle Cell Disease (HCT for SCD) ( phs002385 )\\\\5 - CRF data collection track only\\\\Time from HCT to growth hormone deficiency, months\\\\                    \n",
       "86  \\\\Hematopoietic Cell Transplant for Sickle Cell Disease (HCT for SCD) ( phs002385 )\\\\5 - CRF data collection track only\\\\Osteoporosis\\\\                                                          \n",
       "87  \\\\Hematopoietic Cell Transplant for Sickle Cell Disease (HCT for SCD) ( phs002385 )\\\\5 - CRF data collection track only\\\\Serum creatinine pre-conditioning unit\\\\                                \n",
       "88  \\\\Hematopoietic Cell Transplant for Sickle Cell Disease (HCT for SCD) ( phs002385 )\\\\5 - CRF data collection track only\\\\Vaso-occlusive pain post HCT\\\\                                          \n",
       "89  \\\\Hematopoietic Cell Transplant for Sickle Cell Disease (HCT for SCD) ( phs002385 )\\\\5 - CRF data collection track only\\\\Gonadal dysfunction requiring horomone therapy\\\\                        \n",
       "90  \\\\Hematopoietic Cell Transplant for Sickle Cell Disease (HCT for SCD) ( phs002385 )\\\\5 - CRF data collection track only\\\\Acute renal failure requiring dialysis\\\\                                \n",
       "91  \\\\Hematopoietic Cell Transplant for Sickle Cell Disease (HCT for SCD) ( phs002385 )\\\\5 - CRF data collection track only\\\\Normal upper limit of serum albumin for center\\\\                        \n",
       "92  \\\\Hematopoietic Cell Transplant for Sickle Cell Disease (HCT for SCD) ( phs002385 )\\\\5 - CRF data collection track only\\\\Type of arrythmia\\\\                                                     \n",
       "93  \\\\Hematopoietic Cell Transplant for Sickle Cell Disease (HCT for SCD) ( phs002385 )\\\\5 - CRF data collection track only\\\\Time from HCT to anxiety, months\\\\                                      \n",
       "94  \\\\Hematopoietic Cell Transplant for Sickle Cell Disease (HCT for SCD) ( phs002385 )\\\\5 - CRF data collection track only\\\\CNS hemorrhage\\\\                                                        \n",
       "95  \\\\Hematopoietic Cell Transplant for Sickle Cell Disease (HCT for SCD) ( phs002385 )\\\\5 - CRF data collection track only\\\\DVT catheter related\\\\                                                  \n",
       "96  \\\\Hematopoietic Cell Transplant for Sickle Cell Disease (HCT for SCD) ( phs002385 )\\\\5 - CRF data collection track only\\\\Post-traumatic stress disorder (PTSD) requiring therapy\\\\               \n",
       "97  \\\\Hematopoietic Cell Transplant for Sickle Cell Disease (HCT for SCD) ( phs002385 )\\\\5 - CRF data collection track only\\\\Neuropathy\\\\                                                            \n",
       "98  \\\\Hematopoietic Cell Transplant for Sickle Cell Disease (HCT for SCD) ( phs002385 )\\\\5 - CRF data collection track only\\\\Time from serum creatinine test pre-conditioning to transplant, months\\\\\n",
       "99  \\\\Hematopoietic Cell Transplant for Sickle Cell Disease (HCT for SCD) ( phs002385 )\\\\5 - CRF data collection track only\\\\Depression requiring therapy\\\\                                          \n",
       "100 \\\\Hematopoietic Cell Transplant for Sickle Cell Disease (HCT for SCD) ( phs002385 )\\\\5 - CRF data collection track only\\\\Acute chest syndrome (ACS) pre-conditioning\\\\                           \n",
       "101 \\\\Hematopoietic Cell Transplant for Sickle Cell Disease (HCT for SCD) ( phs002385 )\\\\5 - CRF data collection track only\\\\Therapy given for growth hormone deficiency\\\\                           \n",
       "102 \\\\Hematopoietic Cell Transplant for Sickle Cell Disease (HCT for SCD) ( phs002385 )\\\\5 - CRF data collection track only\\\\TMA post-HCT\\\\                                                          \n",
       "103 \\\\Hematopoietic Cell Transplant for Sickle Cell Disease (HCT for SCD) ( phs002385 )\\\\5 - CRF data collection track only\\\\Hemoglobin electrophoresis performed post-HCT\\\\                         \n",
       "104 \\\\Hematopoietic Cell Transplant for Sickle Cell Disease (HCT for SCD) ( phs002385 )\\\\5 - CRF data collection track only\\\\Hemoglobin pre-conditioning unit\\\\                                      \n",
       "105 \\\\Hematopoietic Cell Transplant for Sickle Cell Disease (HCT for SCD) ( phs002385 )\\\\5 - CRF data collection track only\\\\RBC transfused <30 prior to hemoglobin test\\\\                           \n",
       "106 \\\\Hematopoietic Cell Transplant for Sickle Cell Disease (HCT for SCD) ( phs002385 )\\\\5 - CRF data collection track only\\\\Sickle neuropathy pre-conditioning\\\\                                    \n",
       "107 \\\\Hematopoietic Cell Transplant for Sickle Cell Disease (HCT for SCD) ( phs002385 )\\\\5 - CRF data collection track only\\\\Serum creatinine known pre-conditioning\\\\                               \n",
       "108 \\\\Hematopoietic Cell Transplant for Sickle Cell Disease (HCT for SCD) ( phs002385 )\\\\5 - CRF data collection track only\\\\Serum creatinine pre-conditioning\\\\                                     \n",
       "109 \\\\Hematopoietic Cell Transplant for Sickle Cell Disease (HCT for SCD) ( phs002385 )\\\\5 - CRF data collection track only\\\\Clinically significant fungal infection at any time pre-conditioning\\\\  \n",
       "110 \\\\Hematopoietic Cell Transplant for Sickle Cell Disease (HCT for SCD) ( phs002385 )\\\\5 - CRF data collection track only\\\\Anxiety requiring therapy\\\\                                             \n",
       "111 \\\\Hematopoietic Cell Transplant for Sickle Cell Disease (HCT for SCD) ( phs002385 )\\\\5 - CRF data collection track only\\\\Intubation or mechanical ventilation for ACS pre-conditioning\\\\         \n",
       "    observationCount categorical\n",
       "1    10              FALSE      \n",
       "2   732               TRUE      \n",
       "3   732               TRUE      \n",
       "4   732               TRUE      \n",
       "5   732               TRUE      \n",
       "6   732               TRUE      \n",
       "7     3              FALSE      \n",
       "8   732               TRUE      \n",
       "9   732               TRUE      \n",
       "10  732               TRUE      \n",
       "11   23              FALSE      \n",
       "12    2              FALSE      \n",
       "13  732               TRUE      \n",
       "14  732               TRUE      \n",
       "15    1              FALSE      \n",
       "16  732               TRUE      \n",
       "17    5              FALSE      \n",
       "18   31              FALSE      \n",
       "19  732               TRUE      \n",
       "20  732               TRUE      \n",
       "21  732               TRUE      \n",
       "22  732               TRUE      \n",
       "23  732               TRUE      \n",
       "24  445              FALSE      \n",
       "25  732               TRUE      \n",
       "26  732               TRUE      \n",
       "27  732               TRUE      \n",
       "28   29              FALSE      \n",
       "29   18              FALSE      \n",
       "30   10              FALSE      \n",
       "⋮   ⋮                ⋮          \n",
       "82     9             FALSE      \n",
       "83   732              TRUE      \n",
       "84   732              TRUE      \n",
       "85    12             FALSE      \n",
       "86   732              TRUE      \n",
       "87   732              TRUE      \n",
       "88  1518              TRUE      \n",
       "89   732              TRUE      \n",
       "90   732              TRUE      \n",
       "91   445             FALSE      \n",
       "92   732              TRUE      \n",
       "93    14             FALSE      \n",
       "94   732              TRUE      \n",
       "95   732              TRUE      \n",
       "96   732              TRUE      \n",
       "97   732              TRUE      \n",
       "98   719             FALSE      \n",
       "99   732              TRUE      \n",
       "100  732              TRUE      \n",
       "101  732              TRUE      \n",
       "102  732              TRUE      \n",
       "103  732              TRUE      \n",
       "104  732              TRUE      \n",
       "105  732              TRUE      \n",
       "106  732              TRUE      \n",
       "107  732              TRUE      \n",
       "108  722             FALSE      \n",
       "109  732              TRUE      \n",
       "110  732              TRUE      \n",
       "111  732              TRUE      \n",
       "    categoryValues                                                                                                            \n",
       "1   NA                                                                                                                        \n",
       "2   No          , Not reported, Yes                                                                                           \n",
       "3   No          , Not reported, Yes                                                                                           \n",
       "4   N/A         , No          , Not reported, Yes                                                                             \n",
       "5   No , Yes                                                                                                                  \n",
       "6   No          , Not reported, Yes                                                                                           \n",
       "7   NA                                                                                                                        \n",
       "8   N/A         , No          , Not reported, Yes                                                                             \n",
       "9   Iron chelation only          , N/A                          , Phlebotomy and iron chelation, Phlebotomy only              \n",
       "10  No , Yes                                                                                                                  \n",
       "11  NA                                                                                                                        \n",
       "12  NA                                                                                                                        \n",
       "13  No          , Not reported, Yes                                                                                           \n",
       "14  N/A         , No          , Not reported, Yes                                                                             \n",
       "15  NA                                                                                                                        \n",
       "16  No          , Not reported, Yes                                                                                           \n",
       "17  NA                                                                                                                        \n",
       "18  NA                                                                                                                        \n",
       "19  No          , Not reported, Yes                                                                                           \n",
       "20  No          , Not reported, Yes                                                                                           \n",
       "21  N/A         , No          , Not reported, Yes                                                                             \n",
       "22  No          , Not reported, Yes                                                                                           \n",
       "23  N/A         , No          , Not reported, Yes                                                                             \n",
       "24  NA                                                                                                                        \n",
       "25  No          , Not reported, Yes                                                                                           \n",
       "26  No          , Not reported, Yes                                                                                           \n",
       "27  No          , Not reported, Yes                                                                                           \n",
       "28  NA                                                                                                                        \n",
       "29  NA                                                                                                                        \n",
       "30  NA                                                                                                                        \n",
       "⋮   ⋮                                                                                                                         \n",
       "82  NA                                                                                                                        \n",
       "83  No          , Not reported, Yes                                                                                           \n",
       "84  No          , Not reported, Yes                                                                                           \n",
       "85  NA                                                                                                                        \n",
       "86  No          , Not reported                                                                                                \n",
       "87  Not reported, mg/dL                                                                                                       \n",
       "88  No          , Not Reported, Yes                                                                                           \n",
       "89  No          , Not reported, Yes                                                                                           \n",
       "90  No          , Not reported, Yes                                                                                           \n",
       "91  NA                                                                                                                        \n",
       "92  Atrial fibrillation or flutter, N/A                           , Sick sinus syndrome                                       \n",
       "93  NA                                                                                                                        \n",
       "94  No          , Not reported, Yes                                                                                           \n",
       "95  N/A         , No          , Not reported, Yes                                                                             \n",
       "96  No          , Not reported, Yes                                                                                           \n",
       "97  No , Yes                                                                                                                  \n",
       "98  NA                                                                                                                        \n",
       "99  No          , Not reported, Yes                                                                                           \n",
       "100 No          , Not reported, Yes                                                                                           \n",
       "101 N/A         , No          , Not reported, Yes                                                                             \n",
       "102 No          , Not reported, Yes                                                                                           \n",
       "103 No          , Not reported, Yes                                                                                           \n",
       "104 Not reported, g/dL                                                                                                        \n",
       "105 No          , Not reported, Yes                                                                                           \n",
       "106 No          , Not reported, Yes                                                                                           \n",
       "107 No , Yes                                                                                                                  \n",
       "108 NA                                                                                                                        \n",
       "109 No          , Not reported, Yes                                                                                           \n",
       "110 No          , Not reported, Yes                                                                                           \n",
       "111 N/A         , No          , Not reported, Yes                                                                             \n",
       "    min         max         HpdsDataType\n",
       "1    0.4276316  123.3881579 phenotypes  \n",
       "2           NA           NA phenotypes  \n",
       "3           NA           NA phenotypes  \n",
       "4           NA           NA phenotypes  \n",
       "5           NA           NA phenotypes  \n",
       "6           NA           NA phenotypes  \n",
       "7   12.6644737   61.5789474 phenotypes  \n",
       "8           NA           NA phenotypes  \n",
       "9           NA           NA phenotypes  \n",
       "10          NA           NA phenotypes  \n",
       "11   0.1973684    8.2894737 phenotypes  \n",
       "12   6.4473684    8.6842105 phenotypes  \n",
       "13          NA           NA phenotypes  \n",
       "14          NA           NA phenotypes  \n",
       "15   0.7894737    0.7894737 phenotypes  \n",
       "16          NA           NA phenotypes  \n",
       "17   0.2302632  200.1973684 phenotypes  \n",
       "18   1.8092105  134.6381579 phenotypes  \n",
       "19          NA           NA phenotypes  \n",
       "20          NA           NA phenotypes  \n",
       "21          NA           NA phenotypes  \n",
       "22          NA           NA phenotypes  \n",
       "23          NA           NA phenotypes  \n",
       "24   0.1644737    4.0460526 phenotypes  \n",
       "25          NA           NA phenotypes  \n",
       "26          NA           NA phenotypes  \n",
       "27          NA           NA phenotypes  \n",
       "28   0.3947368  149.3092105 phenotypes  \n",
       "29   0.8552632  124.0131579 phenotypes  \n",
       "30   0.2631579   10.2302632 phenotypes  \n",
       "⋮   ⋮           ⋮           ⋮           \n",
       "82   0.09868421 123.38816   phenotypes  \n",
       "83           NA        NA   phenotypes  \n",
       "84           NA        NA   phenotypes  \n",
       "85  12.36842105 134.40789   phenotypes  \n",
       "86           NA        NA   phenotypes  \n",
       "87           NA        NA   phenotypes  \n",
       "88           NA        NA   phenotypes  \n",
       "89           NA        NA   phenotypes  \n",
       "90           NA        NA   phenotypes  \n",
       "91   3.90000000   5.70000   phenotypes  \n",
       "92           NA        NA   phenotypes  \n",
       "93   0.00000000 124.01316   phenotypes  \n",
       "94           NA        NA   phenotypes  \n",
       "95           NA        NA   phenotypes  \n",
       "96           NA        NA   phenotypes  \n",
       "97           NA        NA   phenotypes  \n",
       "98   0.03289474  26.08553   phenotypes  \n",
       "99           NA        NA   phenotypes  \n",
       "100          NA        NA   phenotypes  \n",
       "101          NA        NA   phenotypes  \n",
       "102          NA        NA   phenotypes  \n",
       "103          NA        NA   phenotypes  \n",
       "104          NA        NA   phenotypes  \n",
       "105          NA        NA   phenotypes  \n",
       "106          NA        NA   phenotypes  \n",
       "107          NA        NA   phenotypes  \n",
       "108  0.10000000   1.50000   phenotypes  \n",
       "109          NA        NA   phenotypes  \n",
       "110          NA        NA   phenotypes  \n",
       "111          NA        NA   phenotypes  "
      ]
     },
     "metadata": {},
     "output_type": "display_data"
    }
   ],
   "source": [
    "# Find studies that match the name of interest\n",
    "mask_study <- variablesDict[,1] == \"Hematopoietic Cell Transplant for Sickle Cell Disease (HCT for SCD) ( phs002385 )\"\n",
    "# Find CRF data collection track only variable names\n",
    "mask_dctrack <- grepl(\"5 - CRF data collection track only\", variablesDict[[\"level_1\"]])\n",
    "# Filter to the variables\n",
    "filter_variables <- variablesDict[mask_study & mask_dctrack,]\n",
    "filter_variables"
   ]
  },
  {
   "cell_type": "markdown",
   "metadata": {},
   "source": [
    "This simple filter can be easily combined with other filters to quickly select variables of interest."
   ]
  },
  {
   "cell_type": "markdown",
   "metadata": {},
   "source": [
    "## Querying and retrieving data"
   ]
  },
  {
   "cell_type": "markdown",
   "metadata": {},
   "source": [
    "The second cornerstone of the API are the `query` functions, which is how we retrieve data from the resource."
   ]
  },
  {
   "cell_type": "markdown",
   "metadata": {},
   "source": [
    "First, we need to create a query object."
   ]
  },
  {
   "cell_type": "code",
   "execution_count": 18,
   "metadata": {},
   "outputs": [],
   "source": [
    "my_query <- bdc::new.query(resource=resource)"
   ]
  },
  {
   "cell_type": "markdown",
   "metadata": {},
   "source": [
    "The query function has several methods that enable us to build a query:"
   ]
  },
  {
   "cell_type": "markdown",
   "metadata": {},
   "source": [
    "| Method | Arguments / Input | Output|\n",
    "|--------|-------------------|-------|\n",
    "| query.select.add() | variable names (string) or list of strings | all variables included in the list (no record subsetting)|\n",
    "| query.require.add() | variable names (string) or list of strings | all variables; only records that do not contain null values for input variables |\n",
    "| query.anyof.add() | variable names (string) or list of strings | all variables; only records that contain at least one non-null value for input variables |\n",
    "| query.filter.add() | variable name and additional filtering values | input variable; only records that match filter criteria |"
   ]
  },
  {
   "cell_type": "markdown",
   "metadata": {},
   "source": [
    "All 4 methods can be combined when building a query. The record eventually returned by the query have to meet all the different specified filters."
   ]
  },
  {
   "cell_type": "markdown",
   "metadata": {},
   "source": [
    "### Building the query"
   ]
  },
  {
   "cell_type": "markdown",
   "metadata": {},
   "source": [
    "Let's say we are interested in the age at which patients from the following cohort received their transplant:\n",
    "* males\n",
    "* patients with avascular necrosis\n",
    "* patients that received their transplant after the year 1999\n",
    "\n",
    "First we will find variables pertaining to sex and avascular necrosis. We can do this by searching for \"Sex\" and \"Avascular necrosis\" in the `simplified_name` column of `variablesDict`."
   ]
  },
  {
   "cell_type": "code",
   "execution_count": 19,
   "metadata": {},
   "outputs": [],
   "source": [
    "sex_var <- variablesDict[variablesDict[\"simplified_name\"] == \"Sex\", ]$name %>% as.character()\n",
    "avascular_necrosis_varname <- variablesDict[variablesDict[\"simplified_name\"] == \"Avascular necrosis\", ]$name %>% as.character() "
   ]
  },
  {
   "cell_type": "markdown",
   "metadata": {},
   "source": [
    "Next, we can find the variable pertaining to \"Year of transplant\"."
   ]
  },
  {
   "cell_type": "code",
   "execution_count": 20,
   "metadata": {},
   "outputs": [],
   "source": [
    "yr_transplant_varname <- variablesDict[variablesDict[\"simplified_name\"] == \"Year of transplant\", ]$name %>% as.character()"
   ]
  },
  {
   "cell_type": "markdown",
   "metadata": {},
   "source": [
    "Now we can create a new query and apply our filters to retrieve the cohort of interest."
   ]
  },
  {
   "cell_type": "code",
   "execution_count": 21,
   "metadata": {},
   "outputs": [],
   "source": [
    "bdc::query.filter.add(query = my_query, \n",
    "                      keys = sex_var,\n",
    "                      value = \"Male\")\n",
    "\n",
    "bdc::query.filter.add(query = my_query, \n",
    "                      keys = avascular_necrosis_varname,\n",
    "                      value = \"Yes\")\n",
    "\n",
    "bdc::query.filter.add(query = my_query, \n",
    "                      keys = yr_transplant_varname, \n",
    "                      min=2000)"
   ]
  },
  {
   "cell_type": "markdown",
   "metadata": {},
   "source": [
    "Using this cohort, we can add the variable of interest: \"Patient age at transplant, years\""
   ]
  },
  {
   "cell_type": "code",
   "execution_count": 22,
   "metadata": {},
   "outputs": [],
   "source": [
    "age_transplant_var = variablesDict[variablesDict['simplified_name'] == \"Patient age at transplant, years\",]$name %>% as.character()\n",
    "bdc::query.select.add(my_query, keys = age_transplant_var)"
   ]
  },
  {
   "cell_type": "markdown",
   "metadata": {},
   "source": [
    "## Retrieving the data"
   ]
  },
  {
   "cell_type": "markdown",
   "metadata": {},
   "source": [
    "Once our query object is finally built, we use the `query.run` function to retrieve the data corresponding to our query"
   ]
  },
  {
   "cell_type": "code",
   "execution_count": 23,
   "metadata": {},
   "outputs": [],
   "source": [
    "my_df <- bdc::query.run(my_query, result.type = \"dataframe\")"
   ]
  },
  {
   "cell_type": "code",
   "execution_count": 24,
   "metadata": {},
   "outputs": [
    {
     "data": {
      "text/html": [
       "<table class=\"dataframe\">\n",
       "<caption>A data.frame: 6 × 8</caption>\n",
       "<thead>\n",
       "\t<tr><th></th><th scope=col>Patient ID</th><th scope=col>\\Hematopoietic Cell Transplant for Sickle Cell Disease (HCT for SCD) ( phs002385 )\\1 - Patient Related\\Patient age at transplant, years\\</th><th scope=col>\\Hematopoietic Cell Transplant for Sickle Cell Disease (HCT for SCD) ( phs002385 )\\1 - Patient Related\\Sex\\</th><th scope=col>\\Hematopoietic Cell Transplant for Sickle Cell Disease (HCT for SCD) ( phs002385 )\\3 - Transplant Related\\Year of transplant\\</th><th scope=col>\\Hematopoietic Cell Transplant for Sickle Cell Disease (HCT for SCD) ( phs002385 )\\5 - CRF data collection track only\\Avascular necrosis\\</th><th scope=col>\\_Parent Study Accession with Subject ID\\</th><th scope=col>\\_Topmed Study Accession with Subject ID\\</th><th scope=col>\\_consents\\</th></tr>\n",
       "\t<tr><th></th><th scope=col>&lt;int&gt;</th><th scope=col>&lt;dbl&gt;</th><th scope=col>&lt;chr&gt;</th><th scope=col>&lt;dbl&gt;</th><th scope=col>&lt;chr&gt;</th><th scope=col>&lt;lgl&gt;</th><th scope=col>&lt;chr&gt;</th><th scope=col>&lt;chr&gt;</th></tr>\n",
       "</thead>\n",
       "<tbody>\n",
       "\t<tr><th scope=row>1</th><td>800541</td><td>15</td><td>Male</td><td>2007</td><td>Yes</td><td>NA</td><td>phs002385.v1_299196 </td><td>phs002385.c1</td></tr>\n",
       "\t<tr><th scope=row>2</th><td>800794</td><td>18</td><td>Male</td><td>2008</td><td>Yes</td><td>NA</td><td>phs002385.v1_2916761</td><td>phs002385.c1</td></tr>\n",
       "\t<tr><th scope=row>3</th><td>800835</td><td>13</td><td>Male</td><td>2009</td><td>Yes</td><td>NA</td><td>phs002385.v1_3085064</td><td>phs002385.c1</td></tr>\n",
       "\t<tr><th scope=row>4</th><td>801111</td><td>16</td><td>Male</td><td>2012</td><td>Yes</td><td>NA</td><td>phs002385.v1_3878738</td><td>phs002385.c1</td></tr>\n",
       "\t<tr><th scope=row>5</th><td>801224</td><td>20</td><td>Male</td><td>2014</td><td>Yes</td><td>NA</td><td>phs002385.v1_4214529</td><td>phs002385.c1</td></tr>\n",
       "\t<tr><th scope=row>6</th><td>801251</td><td>15</td><td>Male</td><td>2014</td><td>Yes</td><td>NA</td><td>phs002385.v1_4262950</td><td>phs002385.c1</td></tr>\n",
       "</tbody>\n",
       "</table>\n"
      ],
      "text/latex": [
       "A data.frame: 6 × 8\n",
       "\\begin{tabular}{r|llllllll}\n",
       "  & Patient ID & \\textbackslash{}Hematopoietic Cell Transplant for Sickle Cell Disease (HCT for SCD) ( phs002385 )\\textbackslash{}1 - Patient Related\\textbackslash{}Patient age at transplant, years\\textbackslash{} & \\textbackslash{}Hematopoietic Cell Transplant for Sickle Cell Disease (HCT for SCD) ( phs002385 )\\textbackslash{}1 - Patient Related\\textbackslash{}Sex\\textbackslash{} & \\textbackslash{}Hematopoietic Cell Transplant for Sickle Cell Disease (HCT for SCD) ( phs002385 )\\textbackslash{}3 - Transplant Related\\textbackslash{}Year of transplant\\textbackslash{} & \\textbackslash{}Hematopoietic Cell Transplant for Sickle Cell Disease (HCT for SCD) ( phs002385 )\\textbackslash{}5 - CRF data collection track only\\textbackslash{}Avascular necrosis\\textbackslash{} & \\textbackslash{}\\_Parent Study Accession with Subject ID\\textbackslash{} & \\textbackslash{}\\_Topmed Study Accession with Subject ID\\textbackslash{} & \\textbackslash{}\\_consents\\textbackslash{}\\\\\n",
       "  & <int> & <dbl> & <chr> & <dbl> & <chr> & <lgl> & <chr> & <chr>\\\\\n",
       "\\hline\n",
       "\t1 & 800541 & 15 & Male & 2007 & Yes & NA & phs002385.v1\\_299196  & phs002385.c1\\\\\n",
       "\t2 & 800794 & 18 & Male & 2008 & Yes & NA & phs002385.v1\\_2916761 & phs002385.c1\\\\\n",
       "\t3 & 800835 & 13 & Male & 2009 & Yes & NA & phs002385.v1\\_3085064 & phs002385.c1\\\\\n",
       "\t4 & 801111 & 16 & Male & 2012 & Yes & NA & phs002385.v1\\_3878738 & phs002385.c1\\\\\n",
       "\t5 & 801224 & 20 & Male & 2014 & Yes & NA & phs002385.v1\\_4214529 & phs002385.c1\\\\\n",
       "\t6 & 801251 & 15 & Male & 2014 & Yes & NA & phs002385.v1\\_4262950 & phs002385.c1\\\\\n",
       "\\end{tabular}\n"
      ],
      "text/markdown": [
       "\n",
       "A data.frame: 6 × 8\n",
       "\n",
       "| <!--/--> | Patient ID &lt;int&gt; | \\Hematopoietic Cell Transplant for Sickle Cell Disease (HCT for SCD) ( phs002385 )\\1 - Patient Related\\Patient age at transplant, years\\ &lt;dbl&gt; | \\Hematopoietic Cell Transplant for Sickle Cell Disease (HCT for SCD) ( phs002385 )\\1 - Patient Related\\Sex\\ &lt;chr&gt; | \\Hematopoietic Cell Transplant for Sickle Cell Disease (HCT for SCD) ( phs002385 )\\3 - Transplant Related\\Year of transplant\\ &lt;dbl&gt; | \\Hematopoietic Cell Transplant for Sickle Cell Disease (HCT for SCD) ( phs002385 )\\5 - CRF data collection track only\\Avascular necrosis\\ &lt;chr&gt; | \\_Parent Study Accession with Subject ID\\ &lt;lgl&gt; | \\_Topmed Study Accession with Subject ID\\ &lt;chr&gt; | \\_consents\\ &lt;chr&gt; |\n",
       "|---|---|---|---|---|---|---|---|---|\n",
       "| 1 | 800541 | 15 | Male | 2007 | Yes | NA | phs002385.v1_299196  | phs002385.c1 |\n",
       "| 2 | 800794 | 18 | Male | 2008 | Yes | NA | phs002385.v1_2916761 | phs002385.c1 |\n",
       "| 3 | 800835 | 13 | Male | 2009 | Yes | NA | phs002385.v1_3085064 | phs002385.c1 |\n",
       "| 4 | 801111 | 16 | Male | 2012 | Yes | NA | phs002385.v1_3878738 | phs002385.c1 |\n",
       "| 5 | 801224 | 20 | Male | 2014 | Yes | NA | phs002385.v1_4214529 | phs002385.c1 |\n",
       "| 6 | 801251 | 15 | Male | 2014 | Yes | NA | phs002385.v1_4262950 | phs002385.c1 |\n",
       "\n"
      ],
      "text/plain": [
       "  Patient ID\n",
       "1 800541    \n",
       "2 800794    \n",
       "3 800835    \n",
       "4 801111    \n",
       "5 801224    \n",
       "6 801251    \n",
       "  \\\\Hematopoietic Cell Transplant for Sickle Cell Disease (HCT for SCD) ( phs002385 )\\\\1 - Patient Related\\\\Patient age at transplant, years\\\\\n",
       "1 15                                                                                                                                          \n",
       "2 18                                                                                                                                          \n",
       "3 13                                                                                                                                          \n",
       "4 16                                                                                                                                          \n",
       "5 20                                                                                                                                          \n",
       "6 15                                                                                                                                          \n",
       "  \\\\Hematopoietic Cell Transplant for Sickle Cell Disease (HCT for SCD) ( phs002385 )\\\\1 - Patient Related\\\\Sex\\\\\n",
       "1 Male                                                                                                           \n",
       "2 Male                                                                                                           \n",
       "3 Male                                                                                                           \n",
       "4 Male                                                                                                           \n",
       "5 Male                                                                                                           \n",
       "6 Male                                                                                                           \n",
       "  \\\\Hematopoietic Cell Transplant for Sickle Cell Disease (HCT for SCD) ( phs002385 )\\\\3 - Transplant Related\\\\Year of transplant\\\\\n",
       "1 2007                                                                                                                             \n",
       "2 2008                                                                                                                             \n",
       "3 2009                                                                                                                             \n",
       "4 2012                                                                                                                             \n",
       "5 2014                                                                                                                             \n",
       "6 2014                                                                                                                             \n",
       "  \\\\Hematopoietic Cell Transplant for Sickle Cell Disease (HCT for SCD) ( phs002385 )\\\\5 - CRF data collection track only\\\\Avascular necrosis\\\\\n",
       "1 Yes                                                                                                                                          \n",
       "2 Yes                                                                                                                                          \n",
       "3 Yes                                                                                                                                          \n",
       "4 Yes                                                                                                                                          \n",
       "5 Yes                                                                                                                                          \n",
       "6 Yes                                                                                                                                          \n",
       "  \\\\_Parent Study Accession with Subject ID\\\\\n",
       "1 NA                                         \n",
       "2 NA                                         \n",
       "3 NA                                         \n",
       "4 NA                                         \n",
       "5 NA                                         \n",
       "6 NA                                         \n",
       "  \\\\_Topmed Study Accession with Subject ID\\\\ \\\\_consents\\\\\n",
       "1 phs002385.v1_299196                         phs002385.c1 \n",
       "2 phs002385.v1_2916761                        phs002385.c1 \n",
       "3 phs002385.v1_3085064                        phs002385.c1 \n",
       "4 phs002385.v1_3878738                        phs002385.c1 \n",
       "5 phs002385.v1_4214529                        phs002385.c1 \n",
       "6 phs002385.v1_4262950                        phs002385.c1 "
      ]
     },
     "metadata": {},
     "output_type": "display_data"
    }
   ],
   "source": [
    "head(my_df)"
   ]
  },
  {
   "cell_type": "markdown",
   "metadata": {},
   "source": [
    "Once the data has been retrieved as a dataframe, you can use R functions to conduct analyses and create visualizations, such as this:"
   ]
  },
  {
   "cell_type": "code",
   "execution_count": 25,
   "metadata": {},
   "outputs": [
    {
     "data": {
      "image/png": "[encoded data removed]",
      "text/plain": [
       "plot without title"
      ]
     },
     "metadata": {
      "image/png": {
       "height": 420,
       "width": 420
      }
     },
     "output_type": "display_data"
    }
   ],
   "source": [
    "names(my_df)[2] <- \"age_at_transplant\" # Rename long column to age_at_transplant\n",
    "ggplot(data = my_df) +\n",
    "    geom_histogram(mapping = aes(x=age_at_transplant), bins=15) +\n",
    "    labs(x = \"Age received transplant, yrs old\", y = \"Count\") +\n",
    "    theme_bw()"
   ]
  },
  {
   "cell_type": "code",
   "execution_count": null,
   "metadata": {},
   "outputs": [],
   "source": []
  }
 ],
 "metadata": {
  "kernelspec": {
   "display_name": "R",
   "language": "R",
   "name": "ir"
  },
  "language_info": {
   "codemirror_mode": "r",
   "file_extension": ".r",
   "mimetype": "text/x-r-source",
   "name": "R",
   "pygments_lexer": "r",
   "version": "4.0.5"
  }
 },
 "nbformat": 4,
 "nbformat_minor": 4
}
