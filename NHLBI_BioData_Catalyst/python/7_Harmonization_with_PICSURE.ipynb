{
 "cells": [
  {
   "cell_type": "markdown",
   "id": "0406e518",
   "metadata": {},
   "source": [
    "# Harmonization across studies with PIC-SURE"
   ]
  },
  {
   "cell_type": "markdown",
   "id": "f9c60d22",
   "metadata": {},
   "source": [
    "This tutorial notebook will demonstrate how to query and work with the BioData Catalyst studies, particularly cross-study harmonization. For a more step-by-step introduction to the python PIC-SURE API, see the `1_PICSURE_API_101.ipynb` notebook."
   ]
  },
  {
   "cell_type": "markdown",
   "id": "2ea113ed",
   "metadata": {},
   "source": [
    "**Before running this notebook, please be sure to review the \\\"Get your security token\\\" documentation, which exists in the NHLBI_BioData_Catalyst [README.md file](https://github.com/hms-dbmi/Access-to-Data-using-PIC-SURE-API/tree/master/NHLBI_BioData_Catalyst#get-your-security-token). It explains about how to get a security token, which is mandatory to access the databases.**"
   ]
  },
  {
   "cell_type": "markdown",
   "id": "5c144462",
   "metadata": {},
   "source": [
    " -------   "
   ]
  },
  {
   "cell_type": "markdown",
   "id": "335258dd",
   "metadata": {},
   "source": [
    "# Environment set-up"
   ]
  },
  {
   "cell_type": "markdown",
   "id": "74d13e9b",
   "metadata": {},
   "source": [
    "### System requirements\n",
    "- Python 3.6 or later\n",
    "- pip package manager\n",
    "- bash interpreter"
   ]
  },
  {
   "cell_type": "markdown",
   "id": "946b6493",
   "metadata": {},
   "source": [
    "### Installation of external dependencies"
   ]
  },
  {
   "cell_type": "code",
   "execution_count": null,
   "id": "fbbceaa0",
   "metadata": {
    "scrolled": true
   },
   "outputs": [],
   "source": [
    "import sys\n",
    "!{sys.executable} -m pip install -r requirements.txt"
   ]
  },
  {
   "cell_type": "code",
   "execution_count": null,
   "id": "5895b6f2",
   "metadata": {
    "scrolled": true
   },
   "outputs": [],
   "source": [
    "!{sys.executable} -m pip install --upgrade --force-reinstall git+https://github.com/hms-dbmi/pic-sure-python-adapter-hpds.git\n",
    "!{sys.executable} -m pip install --upgrade --force-reinstall git+https://github.com/hms-dbmi/pic-sure-python-client.git\n",
    "!{sys.executable} -m pip install --upgrade --force-reinstall git+https://github.com/hms-dbmi/pic-sure-biodatacatalyst-python-adapter-hpds.git"
   ]
  },
  {
   "cell_type": "code",
   "execution_count": null,
   "id": "fe6338dc",
   "metadata": {},
   "outputs": [],
   "source": [
    "import json\n",
    "\n",
    "import pandas as pd\n",
    "import numpy as np \n",
    "import matplotlib.pyplot as plt\n",
    "\n",
    "import PicSureClient\n",
    "import PicSureBdcAdapter\n",
    "\n",
    "from python_lib.utils import get_multiIndex_variablesDict, joining_variablesDict_onCol\n",
    "\n",
    "import re"
   ]
  },
  {
   "cell_type": "code",
   "execution_count": null,
   "id": "8c5d9bad",
   "metadata": {},
   "outputs": [],
   "source": [
    "print(\"NB: This Jupyter Notebook has been written using PIC-SURE API following versions:\\n- PicSureBdcAdapter: 1.0.0\\n- PicSureClient: 1.1.0\")\n",
    "print(\"The installed PIC-SURE API libraries versions:\\n- PicSureBdcAdapter: {0}\\n- PicSureClient: {1}\".format(PicSureBdcAdapter.__version__, PicSureClient.__version__))"
   ]
  },
  {
   "cell_type": "markdown",
   "id": "4986d885",
   "metadata": {},
   "source": [
    "## Connecting to a PIC-SURE network"
   ]
  },
  {
   "cell_type": "code",
   "execution_count": null,
   "id": "3d15a4a8",
   "metadata": {},
   "outputs": [],
   "source": [
    "PICSURE_network_URL = \"https://picsure.biodatacatalyst.nhlbi.nih.gov/picsure\"\n",
    "resource_id = \"02e23f52-f354-4e8b-992c-d37c8b9ba140\"\n",
    "token_file = \"token.txt\""
   ]
  },
  {
   "cell_type": "code",
   "execution_count": null,
   "id": "e2186933",
   "metadata": {},
   "outputs": [],
   "source": [
    "with open(token_file, \"r\") as f:\n",
    "    my_token = f.read()"
   ]
  },
  {
   "cell_type": "code",
   "execution_count": null,
   "id": "193b000b",
   "metadata": {},
   "outputs": [],
   "source": [
    "client = PicSureClient.Client()\n",
    "connection = client.connect(PICSURE_network_URL, my_token)\n",
    "adapter = PicSureBdcAdapter.Adapter(connection)\n",
    "resource = adapter.useResource(resource_id)"
   ]
  },
  {
   "cell_type": "markdown",
   "id": "15617968",
   "metadata": {},
   "source": [
    " -------   "
   ]
  },
  {
   "cell_type": "markdown",
   "id": "60fdf22b",
   "metadata": {},
   "source": [
    "## Harmonizing variables with PIC-SURE\n",
    "One of the key challenges to conducting analyses with several studies is ensuring correct data harmonization, or combining of data from different sources. There are many harmonization techniques, but this notebook will demonstrate how to find and extract similar variables from different studies in PIC-SURE. Two examples of this will be shown:\n",
    "1. Retrieving variables for *sex and gender* across studies with BMI\n",
    "2. Harmonizing the variable *\"orthopnea\"* across studies\n",
    "\n",
    "\n",
    "*For more information about the TOPMed DCC Harmonized Data Set in PIC-SURE, please refer to the [`2_HarmonizedVariables_analysis.ipynb`](https://github.com/hms-dbmi/Access-to-Data-using-PIC-SURE-API/blob/master/NHLBI_BioData_Catalyst/python/2_HarmonizedVariables_analysis.ipynb) notebook*"
   ]
  },
  {
   "cell_type": "markdown",
   "id": "f8366b18",
   "metadata": {},
   "source": [
    "### Sex and gender variables across studies"
   ]
  },
  {
   "cell_type": "markdown",
   "id": "8c5c838c",
   "metadata": {},
   "source": [
    "Let's start by doing separate searches for `sex` and `gender` to gain a better understanding of the variables that exist in PIC-SURE with these terms."
   ]
  },
  {
   "cell_type": "code",
   "execution_count": null,
   "id": "16503dec",
   "metadata": {},
   "outputs": [],
   "source": [
    "# Get dataframe of full results\n",
    "full_dict = resource.dictionary().find().DataFrame()\n",
    "full_multiindex_dict = get_multiIndex_variablesDict(full_dict)"
   ]
  },
  {
   "cell_type": "code",
   "execution_count": null,
   "id": "601d7cd0",
   "metadata": {},
   "outputs": [],
   "source": [
    "sex = full_multiindex_dict['simplified_name'].str.contains('sex') # Find all instances where 'sex' in simplified_name\n",
    "gender = full_multiindex_dict['simplified_name'].str.contains('gender') # Find all instances where 'gender' in simplified_name"
   ]
  },
  {
   "cell_type": "code",
   "execution_count": null,
   "id": "f94be324",
   "metadata": {},
   "outputs": [],
   "source": [
    "# Uncomment the following lines of code to preview the filtered dataframes\n",
    "#full_multiindex_dict[sex] # Sex variables\n",
    "#full_multiindex_dict[gender] # Gender variables"
   ]
  },
  {
   "cell_type": "markdown",
   "id": "a42d4b17",
   "metadata": {},
   "source": [
    "After reviewing the variables using the dataframe (or the [user interface](https://picsure.biodatacatalyst.nhlbi.nih.gov/psamaui/login)), let's say we are interested in sex/gender variables from the following studies:\n",
    "- TOPMed Harmonized data set\n",
    "- ECLIPSE (Evaluation of COPD Longitudinally to Identify Predictive Surrogate Endpoints)\n",
    "- EOCOPD (Early Onset of COPD)\n",
    "\n",
    "However, these concept paths are labelled differently for each of these studies. For example, some use the keyword `sex` while others use `gender`. To acccount for these differences, we need to develop a way to search for multiple keywords at once."
   ]
  },
  {
   "cell_type": "markdown",
   "id": "09711d16",
   "metadata": {},
   "source": [
    "First, let's get all of the concept paths associated with each study."
   ]
  },
  {
   "cell_type": "code",
   "execution_count": null,
   "id": "522ec1fe",
   "metadata": {},
   "outputs": [],
   "source": [
    "topmed_harmonized = resource.dictionary().find(\"DCC Harmonized data set\").DataFrame()\n",
    "eclipse = resource.dictionary().find(\"Evaluation of COPD Longitudinally to Identify Predictive Surrogate Endpoints (ECLIPSE)\").DataFrame()\n",
    "eocopd = resource.dictionary().find(\"NHLBI TOPMed: Boston Early-Onset COPD Study\").DataFrame()"
   ]
  },
  {
   "cell_type": "markdown",
   "id": "27121697",
   "metadata": {},
   "source": [
    "Now we will search for the terms of interest (`sex` and `gender`) and filter out these concept paths.\n",
    "\n",
    "Below is a simple user-defined function that you could use to accomplish this."
   ]
  },
  {
   "cell_type": "code",
   "execution_count": null,
   "id": "f7623e4f",
   "metadata": {},
   "outputs": [],
   "source": [
    "# Function that filters out variables from a dataframe (df) that contain any of the terms (list_of_terms)\n",
    "def find_vars(df, list_of_terms):\n",
    "    regex_version = '('+('|').join(list_of_terms)+')'\n",
    "    var_filter = df.index.str.contains(regex_version, flags=re.IGNORECASE)\n",
    "    vars_list = list(df[var_filter].index)\n",
    "    return vars_list"
   ]
  },
  {
   "cell_type": "code",
   "execution_count": null,
   "id": "eafc68c8",
   "metadata": {},
   "outputs": [],
   "source": [
    "# Search for 'sex' and 'gender' variables in TOPMed Harmonized dataset\n",
    "topmed_var = find_vars(topmed_harmonized, ['sex', 'gender'])\n",
    "print(\"Concept path from TOPMed Harmonized data set:\\n\", topmed_var)"
   ]
  },
  {
   "cell_type": "code",
   "execution_count": null,
   "id": "df0b5b96",
   "metadata": {},
   "outputs": [],
   "source": [
    "# Search for 'sex' and 'gender' variables in ECLIPSE dataset\n",
    "eclipse_var = find_vars(eclipse, ['sex', 'gender'])\n",
    "print(\"Concept path from ECLIPSE data set:\\n\", eclipse_var)"
   ]
  },
  {
   "cell_type": "code",
   "execution_count": null,
   "id": "2177e22b",
   "metadata": {},
   "outputs": [],
   "source": [
    "# Search for 'sex' and 'gender' variables in EOCOPD dataset\n",
    "eocopd_vars = find_vars(eocopd, ['sex', 'gender'])\n",
    "print(\"Number of concept paths from EOCOPD data set:\\n\", len(eocopd_vars))"
   ]
  },
  {
   "cell_type": "markdown",
   "id": "6eae5885",
   "metadata": {},
   "source": [
    "Since there are multiple concept paths that are contain either `gender` or `sex` in the EOCOPD dataset, we can investigate these concept paths to determine the true variable of interest."
   ]
  },
  {
   "cell_type": "code",
   "execution_count": null,
   "id": "d406d6ff",
   "metadata": {
    "scrolled": true
   },
   "outputs": [],
   "source": [
    "# Uncomment following line to see full list of sex/gender variables in EOCOPD\n",
    "#print(\"Full list of variables\", eocopd_vars)\n",
    "\n",
    "# Based on this, we can see that the variable we want for this analysis is the last in the list: Gender of participant\n",
    "eocopd_var = find_vars(eocopd, ['gender of participant'])\n",
    "print(\"Concept path from EOCOPD data set:\\n\", eocopd_var)"
   ]
  },
  {
   "cell_type": "markdown",
   "id": "ea392ae4",
   "metadata": {},
   "source": [
    "As part of our research, let's also say we are interested in body mass index (BMI) measurements across these studies. Let's save these concept paths to use in our queries as well."
   ]
  },
  {
   "cell_type": "code",
   "execution_count": null,
   "id": "9bb1055b",
   "metadata": {},
   "outputs": [],
   "source": [
    "topmed_bmi = find_vars(topmed_harmonized, ['body mass index'])\n",
    "print(topmed_bmi)\n",
    "eclipse_bmi = find_vars(eclipse, ['body mass index'])\n",
    "print(eclipse_bmi)\n",
    "eocopd_bmi = find_vars(eocopd, ['body mass index'])\n",
    "print(eocopd_bmi)"
   ]
  },
  {
   "cell_type": "markdown",
   "id": "972e66fb",
   "metadata": {},
   "source": [
    "Now that we know and have saved our concept paths of interest, we can use these to build our query. \n",
    "\n",
    "**Note: queries with the TOPMed DCC Harmonized data set cannot be combined with concept paths from other datasets. Because of this, we will run two separate queries and combine the dataframes.**"
   ]
  },
  {
   "cell_type": "code",
   "execution_count": null,
   "id": "09afd39c",
   "metadata": {},
   "outputs": [],
   "source": [
    "# Initialize a query\n",
    "eclipse_query = resource.query()\n",
    "# Build query using these concept paths\n",
    "eclipse_query.anyof().add(eclipse_var)\n",
    "eclipse_query.anyof().add(eclipse_bmi)"
   ]
  },
  {
   "cell_type": "code",
   "execution_count": null,
   "id": "a583390d",
   "metadata": {},
   "outputs": [],
   "source": [
    "# Check results\n",
    "eclipse_results = eclipse_query.getResultsDataFrame(low_memory=False)\n",
    "eclipse_results.head()"
   ]
  },
  {
   "cell_type": "code",
   "execution_count": null,
   "id": "bb4853d5",
   "metadata": {},
   "outputs": [],
   "source": [
    "# Initialize a query\n",
    "eocopd_query = resource.query()\n",
    "# Build query using these concept paths\n",
    "eocopd_query.anyof().add(eocopd_var)\n",
    "eocopd_query.anyof().add(eocopd_bmi)"
   ]
  },
  {
   "cell_type": "code",
   "execution_count": null,
   "id": "ddf6e79e",
   "metadata": {},
   "outputs": [],
   "source": [
    "# Check results \n",
    "eocopd_results = eocopd_query.getResultsDataFrame(low_memory=False)\n",
    "eocopd_results.head()"
   ]
  },
  {
   "cell_type": "code",
   "execution_count": null,
   "id": "95e70526",
   "metadata": {},
   "outputs": [],
   "source": [
    "# Initialize a query\n",
    "dcc_harmonized_query = resource.query()\n",
    "# Build query using TOPMed harmonized concept paths\n",
    "dcc_harmonized_query.anyof().add(topmed_var)\n",
    "dcc_harmonized_query.anyof().add(topmed_bmi)"
   ]
  },
  {
   "cell_type": "code",
   "execution_count": null,
   "id": "e7c3650a",
   "metadata": {},
   "outputs": [],
   "source": [
    "# Check results\n",
    "dcc_harmonized_results = dcc_harmonized_query.getResultsDataFrame(low_memory=False)\n",
    "dcc_harmonized_results.head()"
   ]
  },
  {
   "cell_type": "markdown",
   "id": "d6e03ba3",
   "metadata": {},
   "source": [
    "Now that we have our patient-level dataframes, we can combine them into a single, cohesive dataframe.\n",
    "\n",
    "The following function accomplishes three main tasks:\n",
    "1. Removes extra columns, such as Patient ID and consent information\n",
    "2. Renames the BMI and Sex columns\n",
    "3. Adds the Dataset column, which corresponds to the study"
   ]
  },
  {
   "cell_type": "code",
   "execution_count": null,
   "id": "ae4f4cb4",
   "metadata": {},
   "outputs": [],
   "source": [
    "def clean_up_df(df, study):\n",
    "    columns_to_drop = ['\\\\_Parent Study Accession with Subject ID\\\\', '\\\\_Topmed Study Accession with Subject ID\\\\', '\\\\_consents\\\\', '\\\\_harmonized_consent\\\\']\n",
    "    df1 = df.drop(columns=columns_to_drop, errors='ignore')\n",
    "    if 'body mass index' in df1.columns.values[1].lower():\n",
    "        df1.columns = ['Patient ID', 'BMI', 'Sex']\n",
    "    else:\n",
    "        df1.columns = ['Patient ID', 'Sex', 'BMI']\n",
    "    df2 = df1.dropna(subset=['BMI'])\n",
    "    df2['Dataset'] = study\n",
    "    return df2"
   ]
  },
  {
   "cell_type": "code",
   "execution_count": null,
   "id": "c2274ed7",
   "metadata": {},
   "outputs": [],
   "source": [
    "clean_eclipse = clean_up_df(eclipse_results, 'ECLIPSE')\n",
    "clean_eocopd = clean_up_df(eocopd_results, 'EOCOPD')\n",
    "clean_dcc = clean_up_df(dcc_harmonized_results, 'TOPMed Harmonized')"
   ]
  },
  {
   "cell_type": "markdown",
   "id": "6bca2eb2",
   "metadata": {},
   "source": [
    "The datasets have been prepped. We can now merge them and begin our analysis."
   ]
  },
  {
   "cell_type": "code",
   "execution_count": null,
   "id": "566a7462",
   "metadata": {},
   "outputs": [],
   "source": [
    "# Combine individual dataframes\n",
    "final_df = pd.concat([clean for clean in [clean_eclipse, clean_eocopd, clean_dcc]], ignore_index=True)"
   ]
  },
  {
   "cell_type": "code",
   "execution_count": null,
   "id": "622d4def",
   "metadata": {},
   "outputs": [],
   "source": [
    "# Comparison of the datasets and sample harmonization\n",
    "separate = final_df.drop(columns = ['Patient ID']).groupby(['Dataset','Sex']).mean()\n",
    "print(separate)\n",
    "harmonized = final_df.drop(columns = ['Patient ID']).groupby(['Sex']).mean()\n",
    "print(harmonized)"
   ]
  },
  {
   "cell_type": "code",
   "execution_count": null,
   "id": "55f7aea7",
   "metadata": {},
   "outputs": [],
   "source": [
    "# Make lists of male and female mean BMI for plotting\n",
    "male_means = list(separate[separate.index.get_level_values('Sex')=='Male']['BMI'])\n",
    "male_means.append(*list(harmonized[harmonized.index.get_level_values('Sex')=='Male']['BMI']))\n",
    "female_means = list(separate[separate.index.get_level_values('Sex')=='Female']['BMI'])\n",
    "female_means.append(*list(harmonized[harmonized.index.get_level_values('Sex')=='Female']['BMI']))"
   ]
  },
  {
   "cell_type": "code",
   "execution_count": null,
   "id": "637bfa27",
   "metadata": {},
   "outputs": [],
   "source": [
    "# Bar plot of the results\n",
    "width = 0.2\n",
    "labels = ['Male', 'Female']\n",
    "x = np.arange(len(labels))\n",
    "\n",
    "fig, ax = plt.subplots()\n",
    "study1 = ax.bar(x - width*1.5, [male_means[0], female_means[0]], width, label='ECLIPSE')\n",
    "study2 = ax.bar(x - width*0.5, [male_means[1], female_means[1]], width, label='EOCOPD')\n",
    "study3 = ax.bar(x + width*0.5, [male_means[2], female_means[2]], width, label='TOPMed Harmonized')\n",
    "study4 = ax.bar(x + width*1.5, [male_means[3], female_means[3]], width, label='Combined')\n",
    "\n",
    "ax.set_ylabel('Body Mass Index (BMI)')\n",
    "ax.set_title('Body Mass Index by Sex and Dataset')\n",
    "ax.set_xticks(x)\n",
    "ax.set_xticklabels(labels)\n",
    "ax.legend()\n",
    "plt.legend(bbox_to_anchor=(1.05, 1.0), loc='upper left')\n",
    "fig.tight_layout()\n",
    "\n",
    "plt.show()"
   ]
  },
  {
   "cell_type": "code",
   "execution_count": null,
   "id": "6841ba0a",
   "metadata": {},
   "outputs": [],
   "source": []
  }
 ],
 "metadata": {
  "kernelspec": {
   "display_name": "conda_python3",
   "language": "python",
   "name": "conda_python3"
  },
  "language_info": {
   "codemirror_mode": {
    "name": "ipython",
    "version": 3
   },
   "file_extension": ".py",
   "mimetype": "text/x-python",
   "name": "python",
   "nbconvert_exporter": "python",
   "pygments_lexer": "ipython3",
   "version": "3.6.13"
  }
 },
 "nbformat": 4,
 "nbformat_minor": 5
}
