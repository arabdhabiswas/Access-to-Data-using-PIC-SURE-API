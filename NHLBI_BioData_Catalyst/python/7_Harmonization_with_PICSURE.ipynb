{
 "cells": [
  {
   "cell_type": "markdown",
   "id": "8fd95bc6",
   "metadata": {},
   "source": [
    "# Harmonization across studies with PIC-SURE"
   ]
  },
  {
   "cell_type": "markdown",
   "id": "8ad44513",
   "metadata": {},
   "source": [
    "This tutorial notebook will demonstrate how to query and work with the BioData Catalyst studies, particularly cross-study harmonization. For a more step-by-step introduction to the python PIC-SURE API, see the `1_PICSURE_API_101.ipynb` notebook."
   ]
  },
  {
   "cell_type": "markdown",
   "id": "11277f9b",
   "metadata": {},
   "source": [
    "**Before running this notebook, please be sure to review the \\\"Get your security token\\\" documentation, which exists in the NHLBI_BioData_Catalyst [README.md file](https://github.com/hms-dbmi/Access-to-Data-using-PIC-SURE-API/tree/master/NHLBI_BioData_Catalyst#get-your-security-token). It explains about how to get a security token, which is mandatory to access the databases.**"
   ]
  },
  {
   "cell_type": "markdown",
   "id": "5269f6a3",
   "metadata": {},
   "source": [
    " -------   "
   ]
  },
  {
   "cell_type": "markdown",
   "id": "e180136c",
   "metadata": {},
   "source": [
    "# Environment set-up"
   ]
  },
  {
   "cell_type": "markdown",
   "id": "92f66f9b",
   "metadata": {},
   "source": [
    "### System requirements\n",
    "- Python 3.6 or later\n",
    "- pip package manager\n",
    "- bash interpreter"
   ]
  },
  {
   "cell_type": "markdown",
   "id": "c68728c7",
   "metadata": {},
   "source": [
    "### Installation of external dependencies"
   ]
  },
  {
   "cell_type": "code",
   "execution_count": null,
   "id": "057bedfa",
   "metadata": {
    "scrolled": true
   },
   "outputs": [],
   "source": [
    "import sys\n",
    "!{sys.executable} -m pip install -r requirements.txt"
   ]
  },
  {
   "cell_type": "code",
   "execution_count": null,
   "id": "2bcc06a8",
   "metadata": {
    "scrolled": true
   },
   "outputs": [],
   "source": [
    "!{sys.executable} -m pip install --upgrade --force-reinstall git+https://github.com/hms-dbmi/pic-sure-python-adapter-hpds.git\n",
    "!{sys.executable} -m pip install --upgrade --force-reinstall git+https://github.com/hms-dbmi/pic-sure-python-client.git\n",
    "!{sys.executable} -m pip install --upgrade --force-reinstall git+https://github.com/hms-dbmi/pic-sure-biodatacatalyst-python-adapter-hpds.git"
   ]
  },
  {
   "cell_type": "code",
   "execution_count": null,
   "id": "d818a7fe",
   "metadata": {},
   "outputs": [],
   "source": [
    "import json\n",
    "\n",
    "import pandas as pd\n",
    "import numpy as np \n",
    "import matplotlib.pyplot as plt\n",
    "\n",
    "import PicSureClient\n",
    "import PicSureBdcAdapter\n",
    "\n",
    "from python_lib.utils import get_multiIndex_variablesDict, joining_variablesDict_onCol\n",
    "\n",
    "import re"
   ]
  },
  {
   "cell_type": "code",
   "execution_count": null,
   "id": "50e0b946",
   "metadata": {},
   "outputs": [],
   "source": [
    "print(\"NB: This Jupyter Notebook has been written using PIC-SURE API following versions:\\n- PicSureBdcAdapter: 1.0.0\\n- PicSureClient: 1.1.0\")\n",
    "print(\"The installed PIC-SURE API libraries versions:\\n- PicSureBdcAdapter: {0}\\n- PicSureClient: {1}\".format(PicSureBdcAdapter.__version__, PicSureClient.__version__))"
   ]
  },
  {
   "cell_type": "markdown",
   "id": "53e0798a",
   "metadata": {},
   "source": [
    "## Connecting to a PIC-SURE network"
   ]
  },
  {
   "cell_type": "code",
   "execution_count": null,
   "id": "967da565",
   "metadata": {},
   "outputs": [],
   "source": [
    "PICSURE_network_URL = \"https://picsure.biodatacatalyst.nhlbi.nih.gov/picsure\"\n",
    "resource_id = \"02e23f52-f354-4e8b-992c-d37c8b9ba140\"\n",
    "token_file = \"token.txt\""
   ]
  },
  {
   "cell_type": "code",
   "execution_count": null,
   "id": "89548749",
   "metadata": {},
   "outputs": [],
   "source": [
    "with open(token_file, \"r\") as f:\n",
    "    my_token = f.read()"
   ]
  },
  {
   "cell_type": "code",
   "execution_count": null,
   "id": "30df5c15",
   "metadata": {},
   "outputs": [],
   "source": [
    "client = PicSureClient.Client()\n",
    "connection = client.connect(PICSURE_network_URL, my_token)\n",
    "adapter = PicSureBdcAdapter.Adapter(connection)\n",
    "resource = adapter.useResource(resource_id)"
   ]
  },
  {
   "cell_type": "markdown",
   "id": "51e5bf9a",
   "metadata": {},
   "source": [
    " -------   "
   ]
  },
  {
   "cell_type": "markdown",
   "id": "34cbe8f6",
   "metadata": {},
   "source": [
    "## Harmonizing variables with PIC-SURE\n",
    "One of the key challenges to conducting analyses with several studies is ensuring correct data harmonization, or combining of data from different sources. There are many harmonization techniques, but this notebook will demonstrate how to find and extract similar variables from different studies in PIC-SURE. Two examples of this will be shown:\n",
    "1. Retrieving variables for *sex and gender* across studies with BMI\n",
    "2. Harmonizing the variable *\"orthopnea\"* across studies with age\n",
    "\n",
    "\n",
    "*For more information about the TOPMed DCC Harmonized Data Set in PIC-SURE, please refer to the [`2_TOPMed_DCC_Harmonized_Variables_analysis.ipynb`](https://github.com/hms-dbmi/Access-to-Data-using-PIC-SURE-API/blob/master/NHLBI_BioData_Catalyst/python/2_TOPMed_DCC_Harmonized_Variables_analysis.ipynb) notebook*"
   ]
  },
  {
   "cell_type": "markdown",
   "id": "573cf0d3",
   "metadata": {},
   "source": [
    "-----"
   ]
  },
  {
   "cell_type": "markdown",
   "id": "4ef67422",
   "metadata": {},
   "source": [
    "### Sex and gender variables across studies"
   ]
  },
  {
   "cell_type": "markdown",
   "id": "ceb46805",
   "metadata": {},
   "source": [
    "Let's start by doing separate searches for `sex` and `gender` to gain a better understanding of the variables that exist in PIC-SURE with these terms."
   ]
  },
  {
   "cell_type": "code",
   "execution_count": null,
   "id": "470a6936",
   "metadata": {},
   "outputs": [],
   "source": [
    "# Get dataframe of full results\n",
    "full_dict = resource.dictionary().find().DataFrame()\n",
    "full_multiindex_dict = get_multiIndex_variablesDict(full_dict)"
   ]
  },
  {
   "cell_type": "code",
   "execution_count": null,
   "id": "6bd65ccb",
   "metadata": {},
   "outputs": [],
   "source": [
    "sex = full_multiindex_dict['simplified_name'].str.contains('sex') # Find all instances where 'sex' in simplified_name\n",
    "gender = full_multiindex_dict['simplified_name'].str.contains('gender') # Find all instances where 'gender' in simplified_name"
   ]
  },
  {
   "cell_type": "code",
   "execution_count": null,
   "id": "dbac9041",
   "metadata": {},
   "outputs": [],
   "source": [
    "# Uncomment the following lines of code to preview the filtered dataframes\n",
    "#full_multiindex_dict[sex] # Sex variables\n",
    "#full_multiindex_dict[gender] # Gender variables"
   ]
  },
  {
   "cell_type": "markdown",
   "id": "d9751745",
   "metadata": {},
   "source": [
    "After reviewing the variables using the dataframe (or the [user interface](https://picsure.biodatacatalyst.nhlbi.nih.gov/psamaui/login)), let's say we are interested in sex/gender variables from the following studies:\n",
    "- TOPMed Harmonized data set\n",
    "- ECLIPSE (Evaluation of COPD Longitudinally to Identify Predictive Surrogate Endpoints)\n",
    "- EOCOPD (Early Onset of COPD)\n",
    "\n",
    "However, these concept paths are labelled differently for each of these studies. For example, some use the keyword `sex` while others use `gender`. To acccount for these differences, we need to develop a way to search for multiple keywords at once."
   ]
  },
  {
   "cell_type": "markdown",
   "id": "3de06bef",
   "metadata": {},
   "source": [
    "First, let's get all of the concept paths associated with each study."
   ]
  },
  {
   "cell_type": "code",
   "execution_count": null,
   "id": "8e5083ed",
   "metadata": {},
   "outputs": [],
   "source": [
    "topmed_harmonized = resource.dictionary().find(\"DCC Harmonized data set\").DataFrame()\n",
    "eclipse = resource.dictionary().find(\"Evaluation of COPD Longitudinally to Identify Predictive Surrogate Endpoints (ECLIPSE)\").DataFrame()\n",
    "eocopd = resource.dictionary().find(\"NHLBI TOPMed: Boston Early-Onset COPD Study\").DataFrame()"
   ]
  },
  {
   "cell_type": "markdown",
   "id": "961d34d0",
   "metadata": {},
   "source": [
    "Now we will search for the terms of interest (`sex` and `gender`) and filter out these concept paths.\n",
    "\n",
    "Below is a simple user-defined function that you could use to accomplish this."
   ]
  },
  {
   "cell_type": "code",
   "execution_count": null,
   "id": "25ed7a04",
   "metadata": {},
   "outputs": [],
   "source": [
    "# Function that filters out variables from a dataframe (df) that contain any of the terms (list_of_terms)\n",
    "def find_vars(df, list_of_terms):\n",
    "    regex_version = '('+('|').join(list_of_terms)+')'\n",
    "    var_filter = df.index.str.contains(regex_version, flags=re.IGNORECASE)\n",
    "    vars_list = list(df[var_filter].index)\n",
    "    return vars_list"
   ]
  },
  {
   "cell_type": "code",
   "execution_count": null,
   "id": "6d862acf",
   "metadata": {},
   "outputs": [],
   "source": [
    "# Search for 'sex' and 'gender' variables in TOPMed Harmonized dataset\n",
    "topmed_var = find_vars(topmed_harmonized, ['sex', 'gender'])\n",
    "print(\"Concept path from TOPMed Harmonized data set:\\n\", topmed_var)"
   ]
  },
  {
   "cell_type": "code",
   "execution_count": null,
   "id": "36c94b4a",
   "metadata": {},
   "outputs": [],
   "source": [
    "# Search for 'sex' and 'gender' variables in ECLIPSE dataset\n",
    "eclipse_var = find_vars(eclipse, ['sex', 'gender'])\n",
    "print(\"Concept path from ECLIPSE data set:\\n\", eclipse_var)"
   ]
  },
  {
   "cell_type": "code",
   "execution_count": null,
   "id": "1fe7c6f0",
   "metadata": {},
   "outputs": [],
   "source": [
    "# Search for 'sex' and 'gender' variables in EOCOPD dataset\n",
    "eocopd_vars = find_vars(eocopd, ['sex', 'gender'])\n",
    "print(\"Number of concept paths from EOCOPD data set:\\n\", len(eocopd_vars))"
   ]
  },
  {
   "cell_type": "markdown",
   "id": "0a573f74",
   "metadata": {},
   "source": [
    "Since there are multiple concept paths that are contain either `gender` or `sex` in the EOCOPD dataset, we can investigate these concept paths to determine the true variable of interest."
   ]
  },
  {
   "cell_type": "code",
   "execution_count": null,
   "id": "287e14e5",
   "metadata": {
    "scrolled": true
   },
   "outputs": [],
   "source": [
    "# Uncomment following line to see full list of sex/gender variables in EOCOPD\n",
    "#print(\"Full list of variables\", eocopd_vars)\n",
    "\n",
    "# Based on this, we can see that the variable we want for this analysis is the last in the list: Gender of participant\n",
    "eocopd_var = find_vars(eocopd, ['gender of participant'])\n",
    "print(\"Concept path from EOCOPD data set:\\n\", eocopd_var)"
   ]
  },
  {
   "cell_type": "markdown",
   "id": "5a8dac7e",
   "metadata": {},
   "source": [
    "As part of our research, let's also say we are interested in body mass index (BMI) measurements across these studies. Let's save these concept paths to use in our queries as well."
   ]
  },
  {
   "cell_type": "code",
   "execution_count": null,
   "id": "a777f4a0",
   "metadata": {},
   "outputs": [],
   "source": [
    "topmed_bmi = find_vars(topmed_harmonized, ['body mass index'])\n",
    "print(topmed_bmi)\n",
    "eclipse_bmi = find_vars(eclipse, ['body mass index'])\n",
    "print(eclipse_bmi)\n",
    "eocopd_bmi = find_vars(eocopd, ['body mass index'])\n",
    "print(eocopd_bmi)"
   ]
  },
  {
   "cell_type": "markdown",
   "id": "8570167d",
   "metadata": {},
   "source": [
    "Now that we know and have saved our concept paths of interest, we can use these to build our query. \n",
    "\n",
    "**Note: queries with the TOPMed DCC Harmonized data set cannot be combined with concept paths from other datasets. Because of this, we will run two separate queries and combine the dataframes.**"
   ]
  },
  {
   "cell_type": "code",
   "execution_count": null,
   "id": "da852e16",
   "metadata": {},
   "outputs": [],
   "source": [
    "# Initialize a query\n",
    "eclipse_query = resource.query()\n",
    "# Build query using these concept paths\n",
    "eclipse_query.anyof().add(eclipse_var)\n",
    "eclipse_query.anyof().add(eclipse_bmi)"
   ]
  },
  {
   "cell_type": "code",
   "execution_count": null,
   "id": "53e53da0",
   "metadata": {},
   "outputs": [],
   "source": [
    "# Check results\n",
    "eclipse_results = eclipse_query.getResultsDataFrame(low_memory=False)\n",
    "eclipse_results.head()"
   ]
  },
  {
   "cell_type": "code",
   "execution_count": null,
   "id": "6bf1832c",
   "metadata": {},
   "outputs": [],
   "source": [
    "# Initialize a query\n",
    "eocopd_query = resource.query()\n",
    "# Build query using these concept paths\n",
    "eocopd_query.anyof().add(eocopd_var)\n",
    "eocopd_query.anyof().add(eocopd_bmi)"
   ]
  },
  {
   "cell_type": "code",
   "execution_count": null,
   "id": "6b310f84",
   "metadata": {},
   "outputs": [],
   "source": [
    "# Check results \n",
    "eocopd_results = eocopd_query.getResultsDataFrame(low_memory=False)\n",
    "eocopd_results.head()"
   ]
  },
  {
   "cell_type": "code",
   "execution_count": null,
   "id": "f66a1eb5",
   "metadata": {},
   "outputs": [],
   "source": [
    "# Initialize a query\n",
    "dcc_harmonized_query = resource.query()\n",
    "# Build query using TOPMed harmonized concept paths\n",
    "dcc_harmonized_query.anyof().add(topmed_var)\n",
    "dcc_harmonized_query.anyof().add(topmed_bmi)"
   ]
  },
  {
   "cell_type": "code",
   "execution_count": null,
   "id": "aaa216dc",
   "metadata": {},
   "outputs": [],
   "source": [
    "# Check results\n",
    "dcc_harmonized_results = dcc_harmonized_query.getResultsDataFrame(low_memory=False)\n",
    "dcc_harmonized_results.head()"
   ]
  },
  {
   "cell_type": "markdown",
   "id": "18eb59a9",
   "metadata": {},
   "source": [
    "Now that we have our patient-level dataframes, we can combine them into a single, cohesive dataframe.\n",
    "\n",
    "The following function accomplishes three main tasks:\n",
    "1. Removes extra columns, such as Patient ID and consent information\n",
    "2. Renames the BMI and Sex columns\n",
    "3. Adds the Dataset column, which corresponds to the study"
   ]
  },
  {
   "cell_type": "code",
   "execution_count": null,
   "id": "063c9a91",
   "metadata": {},
   "outputs": [],
   "source": [
    "def clean_up_df(df, study):\n",
    "    columns_to_drop = ['\\\\_Parent Study Accession with Subject ID\\\\', '\\\\_Topmed Study Accession with Subject ID\\\\', '\\\\_consents\\\\', '\\\\_harmonized_consent\\\\']\n",
    "    df1 = df.drop(columns=columns_to_drop, errors='ignore')\n",
    "    if 'body mass index' in df1.columns.values[1].lower():\n",
    "        df1.columns = ['Patient ID', 'BMI', 'Sex']\n",
    "    else:\n",
    "        df1.columns = ['Patient ID', 'Sex', 'BMI']\n",
    "    df2 = df1.dropna(subset=['BMI'])\n",
    "    df2['Dataset'] = study\n",
    "    return df2"
   ]
  },
  {
   "cell_type": "code",
   "execution_count": null,
   "id": "255be8d4",
   "metadata": {},
   "outputs": [],
   "source": [
    "clean_eclipse = clean_up_df(eclipse_results, 'ECLIPSE')\n",
    "clean_eocopd = clean_up_df(eocopd_results, 'EOCOPD')\n",
    "clean_dcc = clean_up_df(dcc_harmonized_results, 'TOPMed Harmonized')"
   ]
  },
  {
   "cell_type": "markdown",
   "id": "e4dc69d8",
   "metadata": {},
   "source": [
    "The datasets have been prepped. We can now merge them and begin our analysis."
   ]
  },
  {
   "cell_type": "code",
   "execution_count": null,
   "id": "6cacef58",
   "metadata": {},
   "outputs": [],
   "source": [
    "# Combine individual dataframes\n",
    "final_df = pd.concat([clean for clean in [clean_eclipse, clean_eocopd, clean_dcc]], ignore_index=True)"
   ]
  },
  {
   "cell_type": "code",
   "execution_count": null,
   "id": "b0c965c3",
   "metadata": {},
   "outputs": [],
   "source": [
    "# Comparison of the datasets and sample harmonization\n",
    "separate = final_df.drop(columns = ['Patient ID']).groupby(['Dataset','Sex']).mean()\n",
    "print(separate)\n",
    "harmonized = final_df.drop(columns = ['Patient ID']).groupby(['Sex']).mean()\n",
    "print(harmonized)"
   ]
  },
  {
   "cell_type": "code",
   "execution_count": null,
   "id": "12788145",
   "metadata": {},
   "outputs": [],
   "source": [
    "# Make lists of male and female mean BMI for plotting\n",
    "male_means = list(separate[separate.index.get_level_values('Sex')=='Male']['BMI'])\n",
    "male_means.append(*list(harmonized[harmonized.index.get_level_values('Sex')=='Male']['BMI']))\n",
    "female_means = list(separate[separate.index.get_level_values('Sex')=='Female']['BMI'])\n",
    "female_means.append(*list(harmonized[harmonized.index.get_level_values('Sex')=='Female']['BMI']))"
   ]
  },
  {
   "cell_type": "code",
   "execution_count": null,
   "id": "7203d592",
   "metadata": {},
   "outputs": [],
   "source": [
    "# Bar plot of the results\n",
    "width = 0.2\n",
    "labels = ['Male', 'Female']\n",
    "x = np.arange(len(labels))\n",
    "\n",
    "fig, ax = plt.subplots()\n",
    "study1 = ax.bar(x - width*1.5, [male_means[0], female_means[0]], width, label='ECLIPSE')\n",
    "study2 = ax.bar(x - width*0.5, [male_means[1], female_means[1]], width, label='EOCOPD')\n",
    "study3 = ax.bar(x + width*0.5, [male_means[2], female_means[2]], width, label='TOPMed Harmonized')\n",
    "study4 = ax.bar(x + width*1.5, [male_means[3], female_means[3]], width, label='Combined')\n",
    "\n",
    "ax.set_ylabel('Body Mass Index (BMI)')\n",
    "ax.set_title('Body Mass Index by Sex and Dataset')\n",
    "ax.set_xticks(x)\n",
    "ax.set_xticklabels(labels)\n",
    "ax.legend()\n",
    "plt.legend(bbox_to_anchor=(1.05, 1.0), loc='upper left')\n",
    "fig.tight_layout()\n",
    "\n",
    "plt.show()"
   ]
  },
  {
   "cell_type": "markdown",
   "id": "5caa8dfd",
   "metadata": {},
   "source": [
    "-----"
   ]
  },
  {
   "cell_type": "markdown",
   "id": "253bb957",
   "metadata": {},
   "source": [
    "### Orthopnea variables across studies\n",
    "In this example, we will be harmonizing variables related to `orthopnea`. Orthopnea is shortness of breath that occurs when individuals lie flat. Because of this, people with orthopnea have to sleep propped up in bed or sitting in a chair. You can read more about this condition [here](https://www.sleepfoundation.org/sleep-apnea/orthopnea).\n",
    "\n",
    "Let's start by doing a search in PIC-SURE for concept paths containing `orthopnea`."
   ]
  },
  {
   "cell_type": "code",
   "execution_count": null,
   "id": "4fc3e544",
   "metadata": {},
   "outputs": [],
   "source": [
    "ortho_dict = resource.dictionary().find(\"orthopnea\").DataFrame()\n",
    "ortho_dict.head()"
   ]
  },
  {
   "cell_type": "markdown",
   "id": "92e024fb",
   "metadata": {},
   "source": [
    "As shown in the resulting dataframe, orthopnea is often recorded as a something like `sleep on two or more pillows to help you breathe?`\n",
    "\n",
    "Let's do a search for `pillows` in PIC-SURE to explore those concept paths."
   ]
  },
  {
   "cell_type": "code",
   "execution_count": null,
   "id": "156f19d3",
   "metadata": {},
   "outputs": [],
   "source": [
    "pillow_dict = resource.dictionary().find(\"pillows\").DataFrame()\n",
    "pillow_dict.tail()"
   ]
  },
  {
   "cell_type": "markdown",
   "id": "851a6fcd",
   "metadata": {},
   "source": [
    "As shown in the resulting dataframe, there are some concept paths related to orthopnea that were not captured by the previous `orthopnea` search, such as `Do you sleep on 2 or more pillows to improve your breathing?` from the Jackson Heart Study (JHS) Cohort (phs000286). In fact, the JHS dataset was not returned at all when we searched for `orthopnea`. \n",
    "\n",
    "This is problematic for researchers studying these types of variables, since the concept paths of interest may not always be captured by a single search term. To account for this, ???"
   ]
  },
  {
   "cell_type": "markdown",
   "id": "057a12e5",
   "metadata": {},
   "source": [
    "Let's say we want to harmonize orthopnea variables from the following datasets: FHS, MESA, and WHI. We can first get all concept paths in each study and then search for our terms of interest (`orthopnea` or `pillows`) to retrieve the concept paths of interest."
   ]
  },
  {
   "cell_type": "code",
   "execution_count": null,
   "id": "e3fc0d8f",
   "metadata": {},
   "outputs": [],
   "source": [
    "def find_concept_paths(study_name, list_of_terms):\n",
    "    df = resource.dictionary().find(study_name).DataFrame()\n",
    "    regex_version = '('+('|').join(list_of_terms)+')'\n",
    "    var_filter = df.index.str.contains(regex_version, flags=re.IGNORECASE)\n",
    "    vars_list = list(df[var_filter].index)\n",
    "    return vars_list"
   ]
  },
  {
   "cell_type": "code",
   "execution_count": null,
   "id": "40c24d3a",
   "metadata": {},
   "outputs": [],
   "source": [
    "ortho_terms = ['orthopnea', 'pillows']"
   ]
  },
  {
   "cell_type": "code",
   "execution_count": null,
   "id": "19af791a",
   "metadata": {},
   "outputs": [],
   "source": [
    "mesa = find_concept_paths('Multi-Ethnic Study of Atherosclerosis (MESA) SHARe ( phs000209 )', ortho_terms)\n",
    "# mesa # Uncomment to view full results list\n",
    "mesa_var = mesa[0]\n",
    "mesa_var"
   ]
  },
  {
   "cell_type": "code",
   "execution_count": null,
   "id": "a98fee6c",
   "metadata": {},
   "outputs": [],
   "source": [
    "whi = find_concept_paths(\"Women's Health Initiative Clinical Trial and Observational Study ( phs000200 )\", ortho_terms)\n",
    "# whi # Uncomment to view full results list\n",
    "whi_var = whi[0]\n",
    "whi_var"
   ]
  },
  {
   "cell_type": "code",
   "execution_count": null,
   "id": "b79426b2",
   "metadata": {},
   "outputs": [],
   "source": [
    "fhs = find_concept_paths(\"Framingham Cohort ( phs000007 )\", ortho_terms)\n",
    "fhs # Uncomment to view full results list\n",
    "fhs_var = fhs[37]\n",
    "fhs_var"
   ]
  },
  {
   "cell_type": "code",
   "execution_count": null,
   "id": "7237e941",
   "metadata": {},
   "outputs": [],
   "source": [
    "mesa_pneu = find_concept_paths('Multi-Ethnic Study of Atherosclerosis (MESA) SHARe ( phs000209 )', ['pneumonia'])\n",
    "#mesa_pneu # Uncomment to view full results list\n",
    "mesa_pneu_var = mesa_pneu[4]\n",
    "mesa_pneu_var"
   ]
  },
  {
   "cell_type": "code",
   "execution_count": null,
   "id": "1c6cd6b3",
   "metadata": {},
   "outputs": [],
   "source": [
    "whi_pneu = find_concept_paths(\"Women's Health Initiative Clinical Trial and Observational Study ( phs000200 )\", ['pneumonia'])\n",
    "# whi_pneu # Uncomment to view full results list\n",
    "whi_pneu_var = whi_pneu[0]\n",
    "whi_pneu_var"
   ]
  },
  {
   "cell_type": "code",
   "execution_count": null,
   "id": "7e761344",
   "metadata": {},
   "outputs": [],
   "source": [
    "fhs_pneu = find_concept_paths(\"Framingham Cohort ( phs000007 )\", ['pneumonia'])\n",
    "# fhs_pneu # Uncomment to view full results\n",
    "fhs_pneu_var = fhs_pneu[26]\n",
    "fhs_pneu_var"
   ]
  },
  {
   "cell_type": "code",
   "execution_count": null,
   "id": "b18db138",
   "metadata": {},
   "outputs": [],
   "source": [
    "mesa_query = resource.query()\n",
    "mesa_query.anyof().add(mesa_var)\n",
    "mesa_query.require().add(mesa_pneu_var)\n",
    "mesa_results = mesa_query.getResultsDataFrame(low_memory=False)"
   ]
  },
  {
   "cell_type": "code",
   "execution_count": null,
   "id": "7e309bc0",
   "metadata": {},
   "outputs": [],
   "source": [
    "fhs_query = resource.query()\n",
    "fhs_query.anyof().add(fhs_var)\n",
    "fhs_query.require().add(fhs_pneu_var)\n",
    "fhs_results = fhs_query.getResultsDataFrame(low_memory=False)"
   ]
  },
  {
   "cell_type": "code",
   "execution_count": null,
   "id": "a1801119",
   "metadata": {},
   "outputs": [],
   "source": [
    "whi_query = resource.query()\n",
    "whi_query.anyof().add(whi_var)\n",
    "whi_query.require().add(whi_pneu_var)\n",
    "whi_results = whi_query.getResultsDataFrame(low_memory=False)"
   ]
  },
  {
   "cell_type": "code",
   "execution_count": null,
   "id": "99a1f8a4",
   "metadata": {},
   "outputs": [],
   "source": [
    "mesa_results"
   ]
  },
  {
   "cell_type": "code",
   "execution_count": null,
   "id": "d198085a",
   "metadata": {},
   "outputs": [],
   "source": [
    "fhs_results"
   ]
  },
  {
   "cell_type": "code",
   "execution_count": null,
   "id": "6b92738d",
   "metadata": {},
   "outputs": [],
   "source": [
    "whi_results"
   ]
  },
  {
   "cell_type": "code",
   "execution_count": null,
   "id": "79bab2b6",
   "metadata": {},
   "outputs": [],
   "source": [
    "def clean_up_df2(df, study):\n",
    "    columns_to_drop = ['\\\\_Parent Study Accession with Subject ID\\\\', '\\\\_Topmed Study Accession with Subject ID\\\\', '\\\\_consents\\\\', '\\\\_harmonized_consent\\\\']\n",
    "    df1 = df.drop(columns=columns_to_drop, errors='ignore')\n",
    "    if 'pneumonia' in df1.columns.values[1].lower():\n",
    "        df1.columns = ['Patient ID', 'Pneumonia', 'Orthopnea']\n",
    "    else:\n",
    "        df1.columns = ['Patient ID', 'Orthopnea', 'Pneumonia']\n",
    "    #df2 = df1.dropna(subset=['BMI'])\n",
    "    df1['Dataset'] = study\n",
    "    return df1"
   ]
  },
  {
   "cell_type": "code",
   "execution_count": null,
   "id": "736a3465",
   "metadata": {},
   "outputs": [],
   "source": [
    "clean_fhs = clean_up_df2(fhs_results, 'FHS')\n",
    "clean_whi = clean_up_df2(whi_results, 'WHI')\n",
    "clean_mesa = clean_up_df2(mesa_results, 'MESA')"
   ]
  },
  {
   "cell_type": "code",
   "execution_count": null,
   "id": "32b81354",
   "metadata": {},
   "outputs": [],
   "source": [
    "clean_whi"
   ]
  },
  {
   "cell_type": "code",
   "execution_count": null,
   "id": "ad7ec506",
   "metadata": {},
   "outputs": [],
   "source": [
    "# Create a mapping table with all values that exist and then what they should be\n",
    "# Use this to conduct the curation aspect of this harmonization process\n",
    "# Break up by study and show combined, similar to above example\n",
    "# Three rows (combined, etc) Columns for orthopnea, pneumonia, -- maybe look into venn diagrams"
   ]
  }
 ],
 "metadata": {
  "kernelspec": {
   "display_name": "conda_python3",
   "language": "python",
   "name": "conda_python3"
  },
  "language_info": {
   "codemirror_mode": {
    "name": "ipython",
    "version": 3
   },
   "file_extension": ".py",
   "mimetype": "text/x-python",
   "name": "python",
   "nbconvert_exporter": "python",
   "pygments_lexer": "ipython3",
   "version": "3.6.13"
  }
 },
 "nbformat": 4,
 "nbformat_minor": 5
}
