{
 "cells": [
  {
   "cell_type": "markdown",
   "id": "3f81533b",
   "metadata": {},
   "source": [
    "Draft conversion of ORCHID_COVID19.ipynb from R to python."
   ]
  },
  {
   "cell_type": "markdown",
   "id": "48e668d2",
   "metadata": {},
   "source": [
    "# ORCHID Clinical Trial: statistical analysis reproduction"
   ]
  },
  {
   "cell_type": "markdown",
   "id": "19da8531",
   "metadata": {},
   "source": [
    "# Version 1.0"
   ]
  },
  {
   "cell_type": "markdown",
   "id": "d7222557",
   "metadata": {},
   "source": [
    "This notebook reproduces the statistical analysis of the ORCHID clinical trial. Results have been published to JAMA, on November 7th 2021: [\"Effect of Hydroxychloroquine on Clinical Status at 14 Days in Hospitalized Patients With COVID-19\"](https://jamanetwork.com/journals/jama/fullarticle/2772922). The statistical analysis plan can be found on [clinicaltrials.gov](https://clinicaltrials.gov/ct2/show/NCT04332991?term=orchid&cond=Covid19&cntry=US&draw=2&rank=1). \n",
    "\n",
    "The clinical trial has been conducted between April and July 2020, and stopped before enrollment completion for futility, finding no difference of efficacy between hydroxychloroquine and placebo. This notebook is a reproduction of the clinical trial results based on the clinical trial protocol and the investigators original source code."
   ]
  },
  {
   "cell_type": "markdown",
   "id": "df34d916",
   "metadata": {},
   "source": [
    "# Data Access using PIC-SURE API"
   ]
  },
  {
   "cell_type": "markdown",
   "id": "d54805b5",
   "metadata": {},
   "source": [
    "User access authentication works through a security token, which is passed to the API using the token.txt file (file to be created by the user). In order to know how to get your security token, please see [the README of the PIC-SURE API GitHub repo](https://github.com/hms-dbmi/Access-to-Data-using-PIC-SURE-API/tree/master/NHLBI_BioData_Catalyst)."
   ]
  },
  {
   "cell_type": "markdown",
   "id": "9b655cb3",
   "metadata": {},
   "source": [
    "# ORCHID Clinical Trial"
   ]
  },
  {
   "cell_type": "markdown",
   "id": "a4fe777d",
   "metadata": {},
   "source": [
    "It is a multi-center, double blinded, randomized clinical trial conducted to assess the efficacy of hydroxychloroquine in the treatment of COVID-19 in hospitalized patients."
   ]
  },
  {
   "cell_type": "markdown",
   "id": "aa27f64e",
   "metadata": {},
   "source": [
    "NHLBI made available the data to every authorized investigators. Hence, this notebook enables anybody with authorized credentials to reproduce the ORCHID clinical trial results by showing how to:\n",
    "1. Access the data using the PIC-SURE API\n",
    "2. Reproduce the results of this study using the open-source R programming languages"
   ]
  },
  {
   "cell_type": "markdown",
   "id": "ac6147f3",
   "metadata": {},
   "source": [
    "# Overview of the statistical analysis plan\n",
    "\n",
    "The primary outcome is the COVID-19 Outcome Scale (COS) assess at 14 days. The scale comprises 7 levels, as follows:\n",
    "- 1, Dead\n",
    "- 2, Hospitalized on invasive mechanical ventilation or ECMO\n",
    "- 3, Hospitalized on non-invasive ventilation or high flow nasal cannula\n",
    "- 4, Hospitalized on supplemental oxygen\n",
    "- 5, Hospitalized not on supplemental oxygen\n",
    "- 6, Not hospitalized with limitation in activity (continued symptoms)\n",
    "- 7, Not hospitalized without limitation in activity (no symptoms)\n",
    "\n",
    "This scale will also be assessed at different timepoints as secondary outcomes: day-3, day-7, and day-28.\n",
    "\n",
    "This scale will be treated as an ordered factor, and thus this outcome will be analyzed using a proportional odds regression model. \n",
    "\n",
    "Other secondary outcomes will be considered. Death, and composite of death and ECMO will be analyzed using logistic regression models. Time to recovery (patient without oxygen supplementation -- ie COS level 6 or 7) and time to discharge will be analyzed using survival models. Support free-days (hospital, oxygen, ICU, ventilation, and vasopressor) will be treated as ordered factors and analyzed using proportional odds regression models.\n",
    "\n",
    "All these outcomes will be analyzed using multivariable models, taking into account the following potential confoundings: \n",
    "- Age at randomization\n",
    "- Sex\n",
    "- Clinical status as assessed by the COVID Ordinal Outcome Scale at randomization\n",
    "- Sequential Organ Failure Assessment (SOFA) score at randomization\n",
    "- Duration of acute respiratory infection symptoms prior to randomization"
   ]
  },
  {
   "cell_type": "markdown",
   "id": "d1b9d2cd",
   "metadata": {},
   "source": [
    "# Packages Installation "
   ]
  },
  {
   "cell_type": "code",
   "execution_count": null,
   "id": "d3109903",
   "metadata": {
    "scrolled": true
   },
   "outputs": [],
   "source": [
    "# Install packages needed to use PIC-SURE\n",
    "import sys\n",
    "!{sys.executable} -m pip install --upgrade --force-reinstall git+https://github.com/hms-dbmi/pic-sure-python-client.git\n",
    "!{sys.executable} -m pip install --upgrade --force-reinstall git+https://github.com/hms-dbmi/pic-sure-python-adapter-hpds.git\n",
    "!{sys.executable} -m pip install --upgrade --force-reinstall git+https://github.com/hms-dbmi/pic-sure-biodatacatalyst-python-adapter-hpds.git"
   ]
  },
  {
   "cell_type": "code",
   "execution_count": null,
   "id": "3d3b1744",
   "metadata": {},
   "outputs": [],
   "source": [
    "!cat requirements.txt"
   ]
  },
  {
   "cell_type": "code",
   "execution_count": null,
   "id": "1053bbf3",
   "metadata": {
    "scrolled": true
   },
   "outputs": [],
   "source": [
    "!{sys.executable} -m pip install -r requirements.txt"
   ]
  },
  {
   "cell_type": "code",
   "execution_count": null,
   "id": "a870ea93",
   "metadata": {},
   "outputs": [],
   "source": [
    "import pandas as pd\n",
    "from pandas.api.types import CategoricalDtype\n",
    "\n",
    "import numpy as np\n",
    "\n",
    "import re\n",
    "\n",
    "import PicSureClient\n",
    "import PicSureBdcAdapter"
   ]
  },
  {
   "cell_type": "markdown",
   "id": "9c7a95d0",
   "metadata": {},
   "source": [
    "# Installing the library and connecting to the database using the PICSURE API "
   ]
  },
  {
   "cell_type": "code",
   "execution_count": null,
   "id": "cf1c99af",
   "metadata": {},
   "outputs": [],
   "source": [
    "PICSURE_network_URL = \"https://picsure.biodatacatalyst.nhlbi.nih.gov/picsure\"\n",
    "resource_id = \"02e23f52-f354-4e8b-992c-d37c8b9ba140\"\n",
    "token_file = \"token.txt\"\n",
    "with open(token_file, \"r\") as f:\n",
    "    my_token = f.read()\n",
    "client = PicSureClient.Client()\n",
    "connection = client.connect(PICSURE_network_URL, my_token, True)\n",
    "adapter = PicSureBdcAdapter.Adapter(connection)\n",
    "resource = adapter.useResource(resource_id)"
   ]
  },
  {
   "cell_type": "markdown",
   "id": "87ac9e14",
   "metadata": {},
   "source": [
    "# Querying the data"
   ]
  },
  {
   "cell_type": "code",
   "execution_count": null,
   "id": "405acdcf",
   "metadata": {},
   "outputs": [],
   "source": [
    "dictionary_results = resource.dictionary().find('ORCHID')\n",
    "list_variables = dictionary_results.keys()\n",
    "query = resource.query()\n",
    "query.anyof().add(list_variables)\n",
    "raw_df = query.getResultsDataFrame(low_memory=False)"
   ]
  },
  {
   "cell_type": "markdown",
   "id": "30582c6d",
   "metadata": {},
   "source": [
    "# Data Management"
   ]
  },
  {
   "cell_type": "markdown",
   "id": "b8f90050",
   "metadata": {},
   "source": [
    "The raw data contains long variable names, and the following code trims the uninformative part."
   ]
  },
  {
   "cell_type": "code",
   "execution_count": null,
   "id": "03b55ffb",
   "metadata": {},
   "outputs": [],
   "source": [
    "simplified_names = []\n",
    "for i in list(raw_df.columns):\n",
    "    short_var = i.split('\\\\')\n",
    "    if short_var[-1] == 'Patient ID':\n",
    "        simplified_names.append(short_var[-1])\n",
    "    else:\n",
    "        simplified_names.append(short_var[-2])\n",
    "\n",
    "raw_df.columns = simplified_names\n",
    "orchid_data = raw_df"
   ]
  },
  {
   "cell_type": "markdown",
   "id": "b3d77e83",
   "metadata": {},
   "source": [
    "This cell rename signification of the variables that are being used throughout the notebook."
   ]
  },
  {
   "cell_type": "code",
   "execution_count": null,
   "id": "ba437672",
   "metadata": {},
   "outputs": [],
   "source": [
    "outcomes_labels = {\n",
    "    'safe_seizure' : 'Seizure',\n",
    "    'safe_vtach' : 'Ventricular tachyarrhythmia',\n",
    "    'safe_ca' : 'Cardiac arrest treated with CPR',\n",
    "    'safe_astalt' : 'AST or ALT ≥2 times upper limit of normal',\n",
    "    'safe_hypogly' : 'Symptomatic hypoglycemia',\n",
    "    'safe_cytopenia' : 'Cytopenia',\n",
    "    'd_covid3' : 'COVID Outcomes Scale score at day 2',\n",
    "    'd_covid8' : 'COVID Outcomes Scale score at day 7',\n",
    "    'd_covid15' : \"COVID Outcomes Scale score at day 14, median (IQR)\",\n",
    "    'd_covid29' : 'COVID Outcomes Scale score at day 28',\n",
    "    'd_mort15' : 'All-cause, all-location death at Day 14',\n",
    "    'd_mort29' : 'All-cause, all-location death at Day 28',\n",
    "    'd_ecmo_death' : 'Composite of death or ECMO through 28 d, No./total No. (%)',\n",
    "    'd_time_to_recovery' : 'Time to recovery in days, median (IQR)',\n",
    "    'd_hospfreedays' : 'Hospital-free days',\n",
    "    'd_icufreedays' : 'ICU-free days',\n",
    "    'd_oxyfreedays' : 'Oxygen-free days',\n",
    "    'd_vasofreedays' : 'Vasopressor-free days',\n",
    "    'd_ventfreedays' : 'Ventilator-free days'\n",
    "}\n",
    "\n",
    "table1_labels = {\n",
    "    'bl_sex' : 'Sex',\n",
    "    'bl_age' : 'Age',\n",
    "    'race_ethnicity' : 'Ethnicity',\n",
    "    'bl_prehosp' : 'Location at hospitalization',\n",
    "    'bmi' : 'BMI' ,\n",
    "    'diabetes_bool' : 'Diabetes',\n",
    "    'kidney_bool' : 'Chronic Kidney Disease',\n",
    "    'cad_bool' : 'Coronary Artery Disease',\n",
    "    'hypertension_bool' : 'Hypertension',\n",
    "    'copd_bool' : 'Chronic Obstructive Pulmonary Disease',\n",
    "    'bl_randloc' : 'Location at randomization',\n",
    "    'covid_ooscale_1' : 'COVID Clinical Scale at Baseline',\n",
    "    'vit_vasop_1' : 'Vasopressor',\n",
    "    'd_sofa_gcs' : 'SOFA at baseline',\n",
    "    'ie_arisymptoms___cou': 'Cough',\n",
    "    'ie_arisymptoms___fev': 'Fever (temperature >37.5 °C)',\n",
    "    'ie_arisymptoms___sob': 'Sobbering',\n",
    "    'ie_arisymptoms___st': 'Shortness of breath',\n",
    "    'd_onset_duration': 'Symptoms onset duration',\n",
    "    'labs_wbch_1' : 'Lowest white cells blood count at Day 1(/mm3)',\n",
    "    'labs_wbcl_1' : 'Highest white cells blood count at Day 1(/mm3)',\n",
    "    'sofa_platl_1' : 'Lowest platelet count at Day 1(k/mm3)',\n",
    "    'labs_asth_1' : 'Highest AST - Aspartate aminotransferase (units per liter) (Day 1)'\n",
    "}\n",
    "combined_labels = {**outcomes_labels, **table1_labels}\n",
    "pd.DataFrame(list(combined_labels.items()),columns = ['Variable Name','Meaning'], index=None) "
   ]
  },
  {
   "cell_type": "markdown",
   "id": "af3b641e",
   "metadata": {},
   "source": [
    "Here we define the group of variables used for the analysis."
   ]
  },
  {
   "cell_type": "code",
   "execution_count": null,
   "id": "efd58379",
   "metadata": {},
   "outputs": [],
   "source": [
    "primary_outcome_name = \"d_covid15\"\n",
    "secondary_outcomes_death = [\"d_mort15\",\n",
    "                               \"d_mort29\",\n",
    "                               \"d_ecmo_death\"]\n",
    "secondary_outcomes_ccs = ['d_covid3',\n",
    "                            'd_covid8',\n",
    "                            'd_covid29']\n",
    "secondary_outcomes_daysfree = [\n",
    "  'd_time_to_recovery',\n",
    "  \"d_hospfreedays\",\n",
    "  \"d_oxyfreedays\",\n",
    "  \"d_ventfreedays\",\n",
    "  \"d_vasofreedays\",\n",
    "  \"d_icufreedays\"\n",
    "]\n",
    "safety_outcomes = [\n",
    "  'safe_cytopenia',\n",
    "  'safe_seizure',\n",
    "  'safe_astalt',\n",
    "  'safe_hypogly',\n",
    "  'safe_ca',\n",
    "  'safe_vtach'\n",
    "]\n",
    "chronic_conditions = [\n",
    "    'charl_contis',\n",
    "    'charl_ulcer',\n",
    "    'charl_hypertension',\n",
    "    'charl_cad',\n",
    "    'charl_fatal',\n",
    "    'charl_liver',\n",
    "    'charl_diabetes',\n",
    "    'charl_kidney',\n",
    "    'charl_copd'\n",
    "]\n",
    "secondary_outcomes_binary = [*safety_outcomes, *secondary_outcomes_death]\n",
    "ordered_outcome_names = [*primary_outcome_name, *secondary_outcomes_ccs, *secondary_outcomes_daysfree]"
   ]
  },
  {
   "cell_type": "markdown",
   "id": "8e3a32b5",
   "metadata": {},
   "source": [
    "The code below recodes some variables."
   ]
  },
  {
   "cell_type": "code",
   "execution_count": null,
   "id": "9158fedc",
   "metadata": {},
   "outputs": [],
   "source": [
    "rand_trt_order = CategoricalDtype(categories = ['Placebo', 'Hydroxychloroquine'], ordered=True)\n",
    "orchid_data['rand_trt'] = orchid_data['rand_trt'].astype(rand_trt_order)\n",
    "\n",
    "def recode_values(df, yes_test, yes_value, no_test, no_value, vars_list):\n",
    "    final = []\n",
    "    for index, row in df.iterrows():\n",
    "        test_values = set(row[vars_list])\n",
    "        if test_values.intersection(set(yes_test)):\n",
    "            final.append(yes_value)\n",
    "        elif test_values.intersection(set(no_test)) or len(no_test)==0:\n",
    "            final.append(no_value)\n",
    "        else:\n",
    "            final.append(np.nan)\n",
    "    return(final)       \n",
    "\n",
    "# Recoding cytopenia\n",
    "cytopenia_vars = ['safe_neutrop',\n",
    "                  'safe_lympho',\n",
    "                  'safe_anemia',\n",
    "                  'safe_thombo']\n",
    "orchid_data['safe_cytopenia'] = recode_values(orchid_data, ['Yes'], 'Yes', ['No'], 'No', cytopenia_vars)\n",
    "\n",
    "# Recoding respiratory outcomes\n",
    "respiratory_symptoms_variables = [\n",
    "    'ie_arisymptoms___cou',\n",
    "    'ie_arisymptoms___fev',\n",
    "    'ie_arisymptoms___sob',\n",
    "    'ie_arisymptoms___st']\n",
    "for res_var in respiratory_symptoms_variables:\n",
    "    orchid_data[res_var] = recode_values(orchid_data, ['Checked'], True, ['Unchecked'], False, [res_var])\n",
    "\n",
    "for sec_outcome in secondary_outcomes_binary:\n",
    "    orchid_data[sec_outcome] = recode_values(orchid_data, ['Yes', 1], 'Yes', ['No', 0], 'No', [sec_outcome])\n",
    "\n",
    "factor_days = list(range(1, 29))\n",
    "days_order = CategoricalDtype(categories = factor_days, ordered=True)\n",
    "for days_var in secondary_outcomes_daysfree:\n",
    "    orchid_data[days_var] = orchid_data[days_var].astype(object)\n",
    "    orchid_data[days_var] = orchid_data[days_var].astype(days_order)\n",
    "\n",
    "# Transforming COVID Clinical scale into ordered factors\n",
    "levels = ['1, Dead',\n",
    "    '2, Hospitalized on invasive mechanical ventilation or ECMO',\n",
    "    '3, Hospitalized on non-invasive ventilation or high flow nasal cannula',\n",
    "    '4, Hospitalized on supplemental oxygen,',\n",
    "    '5, Hospitalized not on supplemental oxygen',\n",
    "    '6, Not hospitalized with limitation in activity (continued symptoms)',\n",
    "    '7, Not hospitalized without limitation in activity (no symptoms)']\n",
    "clin_order = CategoricalDtype(categories = levels, ordered=True)\n",
    "pattern = re.compile('(^d_covid)|(^covid_ooscale)')\n",
    "clin_scale_vars = list(filter(pattern.match, list(orchid_data.columns)))\n",
    "for clin_var in clin_scale_vars:\n",
    "    orchid_data[clin_var] = orchid_data[clin_var].astype(clin_order)\n",
    "\n",
    "# Recoding death\n",
    "orchid_data['vs_died'] = recode_values(orchid_data, ['Yes'], 1, ['No'], 0, ['vs_died'])\n",
    "\n",
    "# Recoding ethnicity\n",
    "def recode_multi_race(df, race_vars):\n",
    "    final = []\n",
    "    for index, row in df.iterrows():\n",
    "        if list(row[race_vars]).count('Checked') > 1:\n",
    "            final.append(True)\n",
    "        else:\n",
    "            final.append(False)\n",
    "    return(final)\n",
    "        \n",
    "orchid_data['multi_race'] = recode_multi_race(orchid_data, ['bl_race___1', 'bl_race___othcat', 'bl_race___5'])\n",
    "\n",
    "def recode_race_ethnicity(df):\n",
    "    final = []\n",
    "    for index, row in df.iterrows():\n",
    "        if row['bl_ethnic'] == 'Hispanic or Latino':\n",
    "            final.append('Hispanic or Latino')\n",
    "        elif row['multi_race'] == True:\n",
    "            final.append('Mutlirace')\n",
    "        elif row['bl_race___1'] == 'Checked':\n",
    "            final.append('Black or African American')\n",
    "        elif row['bl_race___5'] == 'Checked':\n",
    "            final.append('White')\n",
    "        elif row['bl_race___othcat'] == 'Checked':\n",
    "            final.append('American Indian or Alaska Native/Asian/Native Hawaiian or Other Pacific Islander')\n",
    "        else:\n",
    "            final.append(np.nan)\n",
    "    return(final)\n",
    "\n",
    "orchid_data['race_ethnicity'] = recode_race_ethnicity(orchid_data)\n",
    "\n",
    "# BMI\n",
    "orchid_data['bmi'] = round(orchid_data['bl_weight'] / (orchid_data['bl_height']/100)**2, 1)\n",
    "\n",
    "# Chronics comorbidities\n",
    "diab_vars = ['DM with end organ damage present (excludes diet controlled alone)',\n",
    "             'Uncomplicated DM present (no end organ damage present)']\n",
    "orchid_data['diabetes_bool'] = recode_values(orchid_data, diab_vars, True, [], False, ['charl_diabetes'])\n",
    "\n",
    "kidney_vars = ['Moderate to severe kidney disease present (Cr > 3, ESRD, chart diagnosis of CKD stage 5 (eGFR < 15 mL/min/1.73m²) not on dialysis)',\n",
    "               'Moderate to severe kidney disease present and patient is dialysis dependent']\n",
    "orchid_data['kidney_bool'] = recode_values(orchid_data, kidney_vars, True, [], False, ['charl_kidney'])\n",
    "\n",
    "orchid_data['cad_bool'] = recode_values(orchid_data, ['Yes'], True, [], False, ['charl_cad'])\n",
    "orchid_data['hypertension_bool'] = recode_values(orchid_data, ['Yes'], True, [], False, ['charl_hypertension'])\n",
    "orchid_data['copd_bool'] = recode_values(orchid_data, ['Yes'], True, [], False, ['charl_copd'])"
   ]
  },
  {
   "cell_type": "markdown",
   "id": "138648e6",
   "metadata": {},
   "source": [
    "# Population Description"
   ]
  },
  {
   "cell_type": "markdown",
   "id": "f9367968",
   "metadata": {},
   "source": [
    "The following code calculates statistics about baseline characteristics of the population according to treatment groups."
   ]
  },
  {
   "cell_type": "code",
   "execution_count": null,
   "id": "c50c2f10",
   "metadata": {},
   "outputs": [],
   "source": [
    "orchid_table1 = orchid_data\n",
    "table1_rand_trt_order = CategoricalDtype(categories = ['Hydroxychloroquine', 'Placebo'], ordered=True)\n",
    "orchid_table1['rand_trt'] = orchid_table1['rand_trt'].astype(table1_rand_trt_order)"
   ]
  },
  {
   "cell_type": "code",
   "execution_count": null,
   "id": "4031e29c",
   "metadata": {},
   "outputs": [],
   "source": [
    "def get_table_info(df, variable, true_filter=False):\n",
    "    variables = ['rand_trt', variable]\n",
    "    table_df = df.groupby(variables).count()['Patient ID'].unstack(level=0)\n",
    "    if true_filter != False:\n",
    "        table_df = table_df[table_df.index == True]\n",
    "        table_df = table_df.rename(index={True: true_filter})\n",
    "    table_df = table_df.fillna(0).astype(int)#.round(1)\n",
    "    return table_df"
   ]
  },
  {
   "cell_type": "code",
   "execution_count": null,
   "id": "cb9e1bee",
   "metadata": {},
   "outputs": [],
   "source": [
    "demo_series_age = orchid_table1.groupby(['rand_trt']).mean()['bl_age']\n",
    "demo_table_age = pd.Series.to_frame(demo_series_age, name=\"Age\").T\n",
    "demo_table_age = demo_table_age.round(1)\n",
    "demo_table_sex = get_table_info(orchid_table1, 'bl_sex')\n",
    "demo_table_race = get_table_info(orchid_table1,'race_ethnicity')\n",
    "demographics_table = pd.concat([demo_table_sex, demo_table_age, demo_table_race])"
   ]
  },
  {
   "cell_type": "code",
   "execution_count": null,
   "id": "8aba8bcc",
   "metadata": {},
   "outputs": [],
   "source": [
    "baseline_table_loc = get_table_info(orchid_table1, 'bl_randloc')\n",
    "baseline_table_sym = get_table_info(orchid_table1, 'covid_ooscale_1')\n",
    "baseline_table_vaso = get_table_info(orchid_table1, 'vit_vasop_1')\n",
    "baseline_table = pd.concat([baseline_table_loc, baseline_table_sym, baseline_table_vaso])"
   ]
  },
  {
   "cell_type": "code",
   "execution_count": null,
   "id": "31cf9a9a",
   "metadata": {},
   "outputs": [],
   "source": [
    "comorbidity_table_diab = get_table_info(orchid_table1, 'diabetes_bool', 'Diabetes')\n",
    "comorbidity_table_kidney = get_table_info(orchid_table1, 'kidney_bool', 'Chronic Kidney Disease')\n",
    "comorbidity_table_cad = get_table_info(orchid_table1, 'cad_bool', 'Coronary Artery Disease')\n",
    "comorbidity_table_hyper = get_table_info(orchid_table1, 'hypertension_bool', 'Hypertension')\n",
    "comorbidity_table_copd = get_table_info(orchid_table1, 'copd_bool', \"Chronic Obstructive Pulmonary Disease\")\n",
    "comorbidity_table = pd.concat([comorbidity_table_diab, comorbidity_table_kidney, comorbidity_table_cad, comorbidity_table_hyper, comorbidity_table_copd])"
   ]
  },
  {
   "cell_type": "code",
   "execution_count": null,
   "id": "84e36510",
   "metadata": {},
   "outputs": [],
   "source": [
    "symptoms_table_cough = get_table_info(orchid_table1, 'ie_arisymptoms___cou', \"Cough\")\n",
    "symptoms_table_fever = get_table_info(orchid_table1, 'ie_arisymptoms___fev', 'Fever (temperature >37.5 degC)')\n",
    "symptoms_table_sobbering = get_table_info(orchid_table1, 'ie_arisymptoms___sob', 'Sobbering')\n",
    "symptoms_table_st = get_table_info(orchid_table1, 'ie_arisymptoms___st', 'Shortness of breath')\n",
    "symptoms_table = pd.concat([symptoms_table_cough, symptoms_table_fever, symptoms_table_sobbering, symptoms_table_st])"
   ]
  },
  {
   "cell_type": "code",
   "execution_count": null,
   "id": "1986b74a",
   "metadata": {},
   "outputs": [],
   "source": [
    "admissions_series_sofa = orchid_table1.groupby(['rand_trt']).mean()['d_sofa_gcs']\n",
    "admissions_table_sofa = pd.Series.to_frame(admissions_series_sofa, name=\"SOFA at baseline\").T\n",
    "admissions_series_onset = orchid_table1.groupby(['rand_trt']).mean()['d_onset_duration']\n",
    "admissions_table_onset = pd.Series.to_frame(admissions_series_onset, name=\"Symptoms onset duration\").T\n",
    "admissions_table = pd.concat([admissions_table_sofa, admissions_table_onset])"
   ]
  },
  {
   "cell_type": "code",
   "execution_count": null,
   "id": "75f07973",
   "metadata": {},
   "outputs": [],
   "source": [
    "table1_df = pd.concat([demographics_table, baseline_table, symptoms_table, admissions_table, comorbidity_table])"
   ]
  },
  {
   "cell_type": "code",
   "execution_count": null,
   "id": "2a0b2036",
   "metadata": {},
   "outputs": [],
   "source": [
    "minor_label = ['Sex', 'Sex', 'Sex', 'Age', \n",
    "               'Ethnicity', 'Ethnicity','Ethnicity', 'Ethnicity','Ethnicity', \n",
    "               'Location at randomization', 'Location at randomization', 'Location at randomization', 'Location at randomization', 'Location at randomization', \n",
    "               'COVID Clinical Scale at Baseline', 'COVID Clinical Scale at Baseline', 'COVID Clinical Scale at Baseline', 'COVID Clinical Scale at Baseline', 'COVID Clinical Scale at Baseline', 'COVID Clinical Scale at Baseline', 'COVID Clinical Scale at Baseline', \n",
    "               'Vasopressor', 'Vasopressor', 'Cough', 'Fever', 'Sobbering', 'Shortness of breath', 'SOFA at baseline', 'Symptoms onset duration', \n",
    "               'Diabetes', 'Chronic Kidney Disease', 'Coronary Artery Disease', 'Hypertension', 'Chronic Obstructive Pulmonary Disease']\n",
    "table1_df.columns = table1_df.columns.add_categories('minor_label')\n",
    "table1_df['minor_label'] = minor_label"
   ]
  },
  {
   "cell_type": "code",
   "execution_count": null,
   "id": "db497bae",
   "metadata": {},
   "outputs": [],
   "source": [
    "major_label = ['Demographics', 'Demographics','Demographics','Demographics','Demographics','Demographics','Demographics','Demographics','Demographics','Demographics','Demographics','Demographics','Demographics','Demographics', \n",
    "               'COVID-19 Symptoms', 'COVID-19 Symptoms','COVID-19 Symptoms','COVID-19 Symptoms','COVID-19 Symptoms','COVID-19 Symptoms','COVID-19 Symptoms','COVID-19 Symptoms','COVID-19 Symptoms','COVID-19 Symptoms','COVID-19 Symptoms','COVID-19 Symptoms','COVID-19 Symptoms','COVID-19 Symptoms','COVID-19 Symptoms', \n",
    "               'Comorbidities', 'Comorbidities', 'Comorbidities', 'Comorbidities', 'Comorbidities']\n",
    "table1_df.columns = table1_df.columns.add_categories('major_label')\n",
    "table1_df['major_label'] = major_label"
   ]
  },
  {
   "cell_type": "code",
   "execution_count": null,
   "id": "72e20f74",
   "metadata": {},
   "outputs": [],
   "source": [
    "table1_df.columns = table1_df.columns.tolist()\n",
    "table1_df = table1_df.reset_index()\n",
    "table1_df = table1_df.set_index(['major_label', 'minor_label', 'index'])\n",
    "table1_df.index.names = ['Category', 'Subcategory', 'Group']\n",
    "table1_df = table1_df.round(1)"
   ]
  },
  {
   "cell_type": "code",
   "execution_count": null,
   "id": "90caffb8",
   "metadata": {},
   "outputs": [],
   "source": [
    "table1_df"
   ]
  }
 ],
 "metadata": {
  "kernelspec": {
   "display_name": "conda_python3",
   "language": "python",
   "name": "conda_python3"
  },
  "language_info": {
   "codemirror_mode": {
    "name": "ipython",
    "version": 3
   },
   "file_extension": ".py",
   "mimetype": "text/x-python",
   "name": "python",
   "nbconvert_exporter": "python",
   "pygments_lexer": "ipython3",
   "version": "3.6.13"
  }
 },
 "nbformat": 4,
 "nbformat_minor": 5
}
