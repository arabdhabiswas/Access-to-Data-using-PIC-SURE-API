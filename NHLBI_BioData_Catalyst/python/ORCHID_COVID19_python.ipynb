{
 "cells": [
  {
   "cell_type": "markdown",
   "id": "alpine-salem",
   "metadata": {},
   "source": [
    "Draft conversion of ORCHID_COVID19.ipynb from R to python."
   ]
  },
  {
   "cell_type": "markdown",
   "id": "sound-galaxy",
   "metadata": {},
   "source": [
    "# ORCHID Clinical Trial: statistical analysis reproduction"
   ]
  },
  {
   "cell_type": "markdown",
   "id": "exact-landscape",
   "metadata": {},
   "source": [
    "# Version 1.0"
   ]
  },
  {
   "cell_type": "markdown",
   "id": "preceding-estate",
   "metadata": {},
   "source": [
    "This notebook reproduces the statistical analysis of the ORCHID clinical trial. Results have been published to JAMA, on November 7th 2021: [\"Effect of Hydroxychloroquine on Clinical Status at 14 Days in Hospitalized Patients With COVID-19\"](https://jamanetwork.com/journals/jama/fullarticle/2772922). The statistical analysis plan can be found on [clinicaltrials.gov](https://clinicaltrials.gov/ct2/show/NCT04332991?term=orchid&cond=Covid19&cntry=US&draw=2&rank=1). \n",
    "\n",
    "The clinical trial has been conducted between April and July 2020, and stopped before enrollment completion for futility, finding no difference of efficacy between hydroxychloroquine and placebo. This notebook is a reproduction of the clinical trial results based on the clinical trial protocol and the investigators original source code."
   ]
  },
  {
   "cell_type": "markdown",
   "id": "residential-albuquerque",
   "metadata": {},
   "source": [
    "# Data Access using PIC-SURE API"
   ]
  },
  {
   "cell_type": "markdown",
   "id": "working-intake",
   "metadata": {},
   "source": [
    "User access authentication works through a security token, which is passed to the API using the token.txt file (file to be created by the user). In order to know how to get your security token, please see [the README of the PIC-SURE API GitHub repo](https://github.com/hms-dbmi/Access-to-Data-using-PIC-SURE-API/tree/master/NHLBI_BioData_Catalyst)."
   ]
  },
  {
   "cell_type": "markdown",
   "id": "modern-register",
   "metadata": {},
   "source": [
    "# ORCHID Clinical Trial"
   ]
  },
  {
   "cell_type": "markdown",
   "id": "moved-tract",
   "metadata": {},
   "source": [
    "It is a multi-center, double blinded, randomized clinical trial conducted to assess the efficacy of hydroxychloroquine in the treatment of COVID-19 in hospitalized patients."
   ]
  },
  {
   "cell_type": "markdown",
   "id": "annoying-joshua",
   "metadata": {},
   "source": [
    "NHLBI made available the data to every authorized investigators. Hence, this notebook enables anybody with authorized credentials to reproduce the ORCHID clinical trial results by showing how to:\n",
    "1. Access the data using the PIC-SURE API\n",
    "2. Reproduce the results of this study using the open-source R programming languages"
   ]
  },
  {
   "cell_type": "markdown",
   "id": "aerial-kidney",
   "metadata": {},
   "source": [
    "# Overview of the statistical analysis plan\n",
    "\n",
    "The primary outcome is the COVID-19 Outcome Scale (COS) assess at 14 days. The scale comprises 7 levels, as follows:\n",
    "- 1, Dead\n",
    "- 2, Hospitalized on invasive mechanical ventilation or ECMO\n",
    "- 3, Hospitalized on non-invasive ventilation or high flow nasal cannula\n",
    "- 4, Hospitalized on supplemental oxygen\n",
    "- 5, Hospitalized not on supplemental oxygen\n",
    "- 6, Not hospitalized with limitation in activity (continued symptoms)\n",
    "- 7, Not hospitalized without limitation in activity (no symptoms)\n",
    "\n",
    "This scale will also be assessed at different timepoints as secondary outcomes: day-3, day-7, and day-28.\n",
    "\n",
    "This scale will be treated as an ordered factor, and thus this outcome will be analyzed using a proportional odds regression model. \n",
    "\n",
    "Other secondary outcomes will be considered. Death, and composite of death and ECMO will be analyzed using logistic regression models. Time to recovery (patient without oxygen supplementation -- ie COS level 6 or 7) and time to discharge will be analyzed using survival models. Support free-days (hospital, oxygen, ICU, ventilation, and vasopressor) will be treated as ordered factors and analyzed using proportional odds regression models.\n",
    "\n",
    "All these outcomes will be analyzed using multivariable models, taking into account the following potential confoundings: \n",
    "- Age at randomization\n",
    "- Sex\n",
    "- Clinical status as assessed by the COVID Ordinal Outcome Scale at randomization\n",
    "- Sequential Organ Failure Assessment (SOFA) score at randomization\n",
    "- Duration of acute respiratory infection symptoms prior to randomization"
   ]
  },
  {
   "cell_type": "markdown",
   "id": "running-albany",
   "metadata": {},
   "source": [
    "# Packages Installation "
   ]
  },
  {
   "cell_type": "code",
   "execution_count": 2,
   "id": "directed-market",
   "metadata": {
    "scrolled": true
   },
   "outputs": [
    {
     "name": "stdout",
     "output_type": "stream",
     "text": [
      "Collecting git+https://github.com/hms-dbmi/pic-sure-python-client.git\n",
      "  Cloning https://github.com/hms-dbmi/pic-sure-python-client.git to /tmp/pip-req-build-8jgmad8l\n",
      "  Running command git clone -q https://github.com/hms-dbmi/pic-sure-python-client.git /tmp/pip-req-build-8jgmad8l\n",
      "Building wheels for collected packages: PicSureClient\n",
      "  Building wheel for PicSureClient (setup.py) ... \u001b[?25ldone\n",
      "\u001b[?25h  Created wheel for PicSureClient: filename=PicSureClient-0.1.0-py2.py3-none-any.whl size=10225 sha256=fee93ed91d838e10202c886999c6817f80f3610707d3141f58ad3e98e725ef17\n",
      "  Stored in directory: /tmp/pip-ephem-wheel-cache-e16j8vsr/wheels/31/ef/21/e362bba8de04e0072fafec9f77bd1abdf7e166213d27e98729\n",
      "Successfully built PicSureClient\n",
      "Installing collected packages: PicSureClient\n",
      "Successfully installed PicSureClient-0.1.0\n",
      "Collecting git+https://github.com/hms-dbmi/pic-sure-python-adapter-hpds.git\n",
      "  Cloning https://github.com/hms-dbmi/pic-sure-python-adapter-hpds.git to /tmp/pip-req-build-6coizxbo\n",
      "  Running command git clone -q https://github.com/hms-dbmi/pic-sure-python-adapter-hpds.git /tmp/pip-req-build-6coizxbo\n",
      "Collecting httplib2\n",
      "  Downloading httplib2-0.19.1-py3-none-any.whl (95 kB)\n",
      "\u001b[K     |████████████████████████████████| 95 kB 6.3 MB/s  eta 0:00:01\n",
      "\u001b[?25hCollecting pyparsing<3,>=2.4.2\n",
      "  Downloading pyparsing-2.4.7-py2.py3-none-any.whl (67 kB)\n",
      "\u001b[K     |████████████████████████████████| 67 kB 1.2 MB/s  eta 0:00:01\n",
      "\u001b[?25hBuilding wheels for collected packages: PicSureHpdsLib\n",
      "  Building wheel for PicSureHpdsLib (setup.py) ... \u001b[?25ldone\n",
      "\u001b[?25h  Created wheel for PicSureHpdsLib: filename=PicSureHpdsLib-0.9.0-py2.py3-none-any.whl size=21999 sha256=2c2c22a893b84bc5c73a55207be591eb77f4fa2f80bf0e22dbf90e4d1c6b30bb\n",
      "  Stored in directory: /tmp/pip-ephem-wheel-cache-0zrso23a/wheels/ae/d9/1a/c8c0ac8151b575c845efddc061fe014d86c51d1fd2c408907c\n",
      "Successfully built PicSureHpdsLib\n",
      "Installing collected packages: pyparsing, httplib2, PicSureHpdsLib\n",
      "  Attempting uninstall: pyparsing\n",
      "    Found existing installation: pyparsing 2.4.7\n",
      "    Uninstalling pyparsing-2.4.7:\n",
      "      Successfully uninstalled pyparsing-2.4.7\n",
      "Successfully installed PicSureHpdsLib-0.9.0 httplib2-0.19.1 pyparsing-2.4.7\n",
      "Collecting git+https://github.com/hms-dbmi/pic-sure-biodatacatalyst-python-adapter-hpds.git\n",
      "  Cloning https://github.com/hms-dbmi/pic-sure-biodatacatalyst-python-adapter-hpds.git to /tmp/pip-req-build-2ie91wya\n",
      "  Running command git clone -q https://github.com/hms-dbmi/pic-sure-biodatacatalyst-python-adapter-hpds.git /tmp/pip-req-build-2ie91wya\n",
      "Collecting httplib2\n",
      "  Using cached httplib2-0.19.1-py3-none-any.whl (95 kB)\n",
      "Collecting pyparsing<3,>=2.4.2\n",
      "  Using cached pyparsing-2.4.7-py2.py3-none-any.whl (67 kB)\n",
      "Building wheels for collected packages: PicSureBdcAdapter\n",
      "  Building wheel for PicSureBdcAdapter (setup.py) ... \u001b[?25ldone\n",
      "\u001b[?25h  Created wheel for PicSureBdcAdapter: filename=PicSureBdcAdapter-1.0.0-py3-none-any.whl size=8605 sha256=24cc53c97e68bc069985748dae6159a7c76beb71afc638a24970024696f8374a\n",
      "  Stored in directory: /tmp/pip-ephem-wheel-cache-hvg9xgt2/wheels/20/c3/f6/72bb8b68322e9bb56152181e827c51c09df269e5f84ed7311b\n",
      "Successfully built PicSureBdcAdapter\n",
      "Installing collected packages: pyparsing, httplib2, PicSureBdcAdapter\n",
      "  Attempting uninstall: pyparsing\n",
      "    Found existing installation: pyparsing 2.4.7\n",
      "    Uninstalling pyparsing-2.4.7:\n",
      "      Successfully uninstalled pyparsing-2.4.7\n",
      "  Attempting uninstall: httplib2\n",
      "    Found existing installation: httplib2 0.19.1\n",
      "    Uninstalling httplib2-0.19.1:\n",
      "      Successfully uninstalled httplib2-0.19.1\n",
      "Successfully installed PicSureBdcAdapter-1.0.0 httplib2-0.19.1 pyparsing-2.4.7\n"
     ]
    }
   ],
   "source": [
    "# Install packages needed to use PIC-SURE\n",
    "import sys\n",
    "!{sys.executable} -m pip install --upgrade --force-reinstall git+https://github.com/hms-dbmi/pic-sure-python-client.git\n",
    "!{sys.executable} -m pip install --upgrade --force-reinstall git+https://github.com/hms-dbmi/pic-sure-python-adapter-hpds.git\n",
    "!{sys.executable} -m pip install --upgrade --force-reinstall git+https://github.com/hms-dbmi/pic-sure-biodatacatalyst-python-adapter-hpds.git"
   ]
  },
  {
   "cell_type": "code",
   "execution_count": 3,
   "id": "possible-whale",
   "metadata": {},
   "outputs": [
    {
     "name": "stdout",
     "output_type": "stream",
     "text": [
      "numpy==1.16.4\r\n",
      "matplotlib>=3.1.1\r\n",
      "pandas>=0.25.3\r\n",
      "scipy>=1.3.1\r\n",
      "tqdm>=4.38.0\r\n",
      "statsmodels>=0.10.2\r\n"
     ]
    }
   ],
   "source": [
    "!cat requirements.txt"
   ]
  },
  {
   "cell_type": "code",
   "execution_count": 5,
   "id": "impossible-alcohol",
   "metadata": {
    "scrolled": true
   },
   "outputs": [
    {
     "name": "stdout",
     "output_type": "stream",
     "text": [
      "Collecting numpy==1.16.4\n",
      "  Downloading numpy-1.16.4-cp36-cp36m-manylinux1_x86_64.whl (17.3 MB)\n",
      "\u001b[K     |████████████████████████████████| 17.3 MB 18.0 MB/s eta 0:00:01\n",
      "\u001b[?25hRequirement already satisfied: matplotlib>=3.1.1 in /home/ec2-user/anaconda3/envs/python3/lib/python3.6/site-packages (from -r requirements.txt (line 2)) (3.3.4)\n",
      "Requirement already satisfied: pandas>=0.25.3 in /home/ec2-user/anaconda3/envs/python3/lib/python3.6/site-packages (from -r requirements.txt (line 3)) (1.1.5)\n",
      "Requirement already satisfied: scipy>=1.3.1 in /home/ec2-user/anaconda3/envs/python3/lib/python3.6/site-packages (from -r requirements.txt (line 4)) (1.5.3)\n",
      "Collecting tqdm>=4.38.0\n",
      "  Downloading tqdm-4.60.0-py2.py3-none-any.whl (75 kB)\n",
      "\u001b[K     |████████████████████████████████| 75 kB 7.4 MB/s  eta 0:00:01\n",
      "\u001b[?25hRequirement already satisfied: statsmodels>=0.10.2 in /home/ec2-user/anaconda3/envs/python3/lib/python3.6/site-packages (from -r requirements.txt (line 6)) (0.12.2)\n",
      "Requirement already satisfied: cycler>=0.10 in /home/ec2-user/anaconda3/envs/python3/lib/python3.6/site-packages (from matplotlib>=3.1.1->-r requirements.txt (line 2)) (0.10.0)\n",
      "Requirement already satisfied: python-dateutil>=2.1 in /home/ec2-user/anaconda3/envs/python3/lib/python3.6/site-packages (from matplotlib>=3.1.1->-r requirements.txt (line 2)) (2.8.1)\n",
      "Requirement already satisfied: kiwisolver>=1.0.1 in /home/ec2-user/anaconda3/envs/python3/lib/python3.6/site-packages (from matplotlib>=3.1.1->-r requirements.txt (line 2)) (1.3.1)\n",
      "Requirement already satisfied: pyparsing!=2.0.4,!=2.1.2,!=2.1.6,>=2.0.3 in /home/ec2-user/anaconda3/envs/python3/lib/python3.6/site-packages (from matplotlib>=3.1.1->-r requirements.txt (line 2)) (2.4.7)\n",
      "Requirement already satisfied: pillow>=6.2.0 in /home/ec2-user/anaconda3/envs/python3/lib/python3.6/site-packages (from matplotlib>=3.1.1->-r requirements.txt (line 2)) (7.2.0)\n",
      "Requirement already satisfied: pytz>=2017.2 in /home/ec2-user/anaconda3/envs/python3/lib/python3.6/site-packages (from pandas>=0.25.3->-r requirements.txt (line 3)) (2021.1)\n",
      "Requirement already satisfied: patsy>=0.5 in /home/ec2-user/anaconda3/envs/python3/lib/python3.6/site-packages (from statsmodels>=0.10.2->-r requirements.txt (line 6)) (0.5.1)\n",
      "Requirement already satisfied: six in /home/ec2-user/anaconda3/envs/python3/lib/python3.6/site-packages (from cycler>=0.10->matplotlib>=3.1.1->-r requirements.txt (line 2)) (1.15.0)\n",
      "Installing collected packages: numpy, tqdm\n",
      "  Attempting uninstall: numpy\n",
      "    Found existing installation: numpy 1.19.5\n",
      "    Uninstalling numpy-1.19.5:\n",
      "      Successfully uninstalled numpy-1.19.5\n",
      "\u001b[31mERROR: pip's dependency resolver does not currently take into account all the packages that are installed. This behaviour is the source of the following dependency conflicts.\n",
      "pyarrow 3.0.0 requires numpy>=1.16.6, but you have numpy 1.16.4 which is incompatible.\u001b[0m\n",
      "Successfully installed numpy-1.16.4 tqdm-4.60.0\n"
     ]
    }
   ],
   "source": [
    "!{sys.executable} -m pip install -r requirements.txt"
   ]
  },
  {
   "cell_type": "code",
   "execution_count": 6,
   "id": "yellow-judgment",
   "metadata": {},
   "outputs": [],
   "source": [
    "import json\n",
    "from pprint import pprint\n",
    "\n",
    "import pandas as pd\n",
    "import numpy as np \n",
    "import matplotlib.pyplot as plt\n",
    "from scipy import stats\n",
    "\n",
    "import PicSureClient\n",
    "import PicSureBdcAdapter\n",
    "\n",
    "from python_lib.utils import get_multiIndex_variablesDict, joining_variablesDict_onCol"
   ]
  },
  {
   "cell_type": "markdown",
   "id": "wanted-cover",
   "metadata": {},
   "source": [
    "# Installing the library and connecting to the database using the PICSURE API "
   ]
  },
  {
   "cell_type": "code",
   "execution_count": 7,
   "id": "cooked-backing",
   "metadata": {},
   "outputs": [],
   "source": [
    "PICSURE_network_URL = \"https://picsure.biodatacatalyst.nhlbi.nih.gov/picsure\"\n",
    "resource_id = \"02e23f52-f354-4e8b-992c-d37c8b9ba140\"\n",
    "token_file = \"token.txt\""
   ]
  },
  {
   "cell_type": "code",
   "execution_count": null,
   "id": "aerial-syndication",
   "metadata": {},
   "outputs": [],
   "source": []
  }
 ],
 "metadata": {
  "kernelspec": {
   "display_name": "conda_python3",
   "language": "python",
   "name": "conda_python3"
  },
  "language_info": {
   "codemirror_mode": {
    "name": "ipython",
    "version": 3
   },
   "file_extension": ".py",
   "mimetype": "text/x-python",
   "name": "python",
   "nbconvert_exporter": "python",
   "pygments_lexer": "ipython3",
   "version": "3.6.13"
  }
 },
 "nbformat": 4,
 "nbformat_minor": 5
}
