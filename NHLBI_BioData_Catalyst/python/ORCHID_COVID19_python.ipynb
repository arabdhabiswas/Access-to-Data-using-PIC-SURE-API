{
 "cells": [
  {
   "cell_type": "markdown",
   "id": "b42e921f",
   "metadata": {},
   "source": [
    "Draft conversion of ORCHID_COVID19.ipynb from R to python."
   ]
  },
  {
   "cell_type": "markdown",
   "id": "88477269",
   "metadata": {},
   "source": [
    "# ORCHID Clinical Trial: statistical analysis reproduction"
   ]
  },
  {
   "cell_type": "markdown",
   "id": "2950ac01",
   "metadata": {},
   "source": [
    "# Version 1.0"
   ]
  },
  {
   "cell_type": "markdown",
   "id": "90075cff",
   "metadata": {},
   "source": [
    "This notebook reproduces the statistical analysis of the ORCHID clinical trial. Results have been published to JAMA, on November 7th 2021: [\"Effect of Hydroxychloroquine on Clinical Status at 14 Days in Hospitalized Patients With COVID-19\"](https://jamanetwork.com/journals/jama/fullarticle/2772922). The statistical analysis plan can be found on [clinicaltrials.gov](https://clinicaltrials.gov/ct2/show/NCT04332991?term=orchid&cond=Covid19&cntry=US&draw=2&rank=1). \n",
    "\n",
    "The clinical trial has been conducted between April and July 2020, and stopped before enrollment completion for futility, finding no difference of efficacy between hydroxychloroquine and placebo. This notebook is a reproduction of the clinical trial results based on the clinical trial protocol and the investigators original source code."
   ]
  },
  {
   "cell_type": "markdown",
   "id": "2ebc83ba",
   "metadata": {},
   "source": [
    "# Data Access using PIC-SURE API"
   ]
  },
  {
   "cell_type": "markdown",
   "id": "6eedd1f4",
   "metadata": {},
   "source": [
    "User access authentication works through a security token, which is passed to the API using the token.txt file (file to be created by the user). In order to know how to get your security token, please see [the README of the PIC-SURE API GitHub repo](https://github.com/hms-dbmi/Access-to-Data-using-PIC-SURE-API/tree/master/NHLBI_BioData_Catalyst)."
   ]
  },
  {
   "cell_type": "markdown",
   "id": "cc7fe6b9",
   "metadata": {},
   "source": [
    "# ORCHID Clinical Trial"
   ]
  },
  {
   "cell_type": "markdown",
   "id": "4ac8bfa6",
   "metadata": {},
   "source": [
    "It is a multi-center, double blinded, randomized clinical trial conducted to assess the efficacy of hydroxychloroquine in the treatment of COVID-19 in hospitalized patients."
   ]
  },
  {
   "cell_type": "markdown",
   "id": "68b95f95",
   "metadata": {},
   "source": [
    "NHLBI made available the data to every authorized investigators. Hence, this notebook enables anybody with authorized credentials to reproduce the ORCHID clinical trial results by showing how to:\n",
    "1. Access the data using the PIC-SURE API\n",
    "2. Reproduce the results of this study using the open-source R programming languages"
   ]
  },
  {
   "cell_type": "markdown",
   "id": "52190d66",
   "metadata": {},
   "source": [
    "# Overview of the statistical analysis plan\n",
    "\n",
    "The primary outcome is the COVID-19 Outcome Scale (COS) assess at 14 days. The scale comprises 7 levels, as follows:\n",
    "- 1, Dead\n",
    "- 2, Hospitalized on invasive mechanical ventilation or ECMO\n",
    "- 3, Hospitalized on non-invasive ventilation or high flow nasal cannula\n",
    "- 4, Hospitalized on supplemental oxygen\n",
    "- 5, Hospitalized not on supplemental oxygen\n",
    "- 6, Not hospitalized with limitation in activity (continued symptoms)\n",
    "- 7, Not hospitalized without limitation in activity (no symptoms)\n",
    "\n",
    "This scale will also be assessed at different timepoints as secondary outcomes: day-3, day-7, and day-28.\n",
    "\n",
    "This scale will be treated as an ordered factor, and thus this outcome will be analyzed using a proportional odds regression model. \n",
    "\n",
    "Other secondary outcomes will be considered. Death, and composite of death and ECMO will be analyzed using logistic regression models. Time to recovery (patient without oxygen supplementation -- ie COS level 6 or 7) and time to discharge will be analyzed using survival models. Support free-days (hospital, oxygen, ICU, ventilation, and vasopressor) will be treated as ordered factors and analyzed using proportional odds regression models.\n",
    "\n",
    "All these outcomes will be analyzed using multivariable models, taking into account the following potential confoundings: \n",
    "- Age at randomization\n",
    "- Sex\n",
    "- Clinical status as assessed by the COVID Ordinal Outcome Scale at randomization\n",
    "- Sequential Organ Failure Assessment (SOFA) score at randomization\n",
    "- Duration of acute respiratory infection symptoms prior to randomization"
   ]
  },
  {
   "cell_type": "markdown",
   "id": "75dd81cd",
   "metadata": {},
   "source": [
    "# Packages Installation "
   ]
  },
  {
   "cell_type": "code",
   "execution_count": null,
   "id": "7401e3fe",
   "metadata": {
    "scrolled": true
   },
   "outputs": [],
   "source": [
    "# Install packages needed to use PIC-SURE\n",
    "import sys\n",
    "!{sys.executable} -m pip install --upgrade --force-reinstall git+https://github.com/hms-dbmi/pic-sure-python-client.git\n",
    "!{sys.executable} -m pip install --upgrade --force-reinstall git+https://github.com/hms-dbmi/pic-sure-python-adapter-hpds.git\n",
    "!{sys.executable} -m pip install --upgrade --force-reinstall git+https://github.com/hms-dbmi/pic-sure-biodatacatalyst-python-adapter-hpds.git"
   ]
  },
  {
   "cell_type": "code",
   "execution_count": null,
   "id": "f3114b83",
   "metadata": {},
   "outputs": [],
   "source": [
    "!cat requirements.txt"
   ]
  },
  {
   "cell_type": "code",
   "execution_count": null,
   "id": "bed06c73",
   "metadata": {
    "scrolled": true
   },
   "outputs": [],
   "source": [
    "!{sys.executable} -m pip install -r requirements.txt"
   ]
  },
  {
   "cell_type": "code",
   "execution_count": null,
   "id": "3d232947",
   "metadata": {},
   "outputs": [],
   "source": [
    "import pandas as pd\n",
    "from pandas.api.types import CategoricalDtype\n",
    "\n",
    "import numpy as np\n",
    "\n",
    "import re\n",
    "\n",
    "import PicSureClient\n",
    "import PicSureBdcAdapter"
   ]
  },
  {
   "cell_type": "markdown",
   "id": "f70276a2",
   "metadata": {},
   "source": [
    "# Installing the library and connecting to the database using the PICSURE API "
   ]
  },
  {
   "cell_type": "code",
   "execution_count": null,
   "id": "165667e7",
   "metadata": {},
   "outputs": [],
   "source": [
    "PICSURE_network_URL = \"https://picsure.biodatacatalyst.nhlbi.nih.gov/picsure\"\n",
    "resource_id = \"02e23f52-f354-4e8b-992c-d37c8b9ba140\"\n",
    "token_file = \"token.txt\"\n",
    "with open(token_file, \"r\") as f:\n",
    "    my_token = f.read()\n",
    "client = PicSureClient.Client()\n",
    "connection = client.connect(PICSURE_network_URL, my_token, True)\n",
    "adapter = PicSureBdcAdapter.Adapter(connection)\n",
    "resource = adapter.useResource(resource_id)"
   ]
  },
  {
   "cell_type": "markdown",
   "id": "24810d6c",
   "metadata": {},
   "source": [
    "# Querying the data"
   ]
  },
  {
   "cell_type": "code",
   "execution_count": null,
   "id": "7b713c0a",
   "metadata": {},
   "outputs": [],
   "source": [
    "dictionary_results = resource.dictionary().find('ORCHID')\n",
    "list_variables = dictionary_results.keys()\n",
    "query = resource.query()\n",
    "query.anyof().add(list_variables)\n",
    "raw_df = query.getResultsDataFrame(low_memory=False)"
   ]
  },
  {
   "cell_type": "markdown",
   "id": "10c1c769",
   "metadata": {},
   "source": [
    "# Data Management"
   ]
  },
  {
   "cell_type": "markdown",
   "id": "d4b0149e",
   "metadata": {},
   "source": [
    "The raw data contains long variable names, and the following code trims the uninformative part."
   ]
  },
  {
   "cell_type": "code",
   "execution_count": null,
   "id": "847b00c8",
   "metadata": {},
   "outputs": [],
   "source": [
    "simplified_names = []\n",
    "for i in list(raw_df.columns):\n",
    "    short_var = i.split('\\\\')\n",
    "    if short_var[-1] == 'Patient ID':\n",
    "        simplified_names.append(short_var[-1])\n",
    "    else:\n",
    "        simplified_names.append(short_var[-2])\n",
    "\n",
    "raw_df.columns = simplified_names\n",
    "orchid_data = raw_df"
   ]
  },
  {
   "cell_type": "markdown",
   "id": "312aa6fc",
   "metadata": {},
   "source": [
    "This cell rename signification of the variables that are being used throughout the notebook."
   ]
  },
  {
   "cell_type": "code",
   "execution_count": null,
   "id": "dae094ed",
   "metadata": {},
   "outputs": [],
   "source": [
    "outcomes_labels = {\n",
    "    'safe_seizure' : 'Seizure',\n",
    "    'safe_vtach' : 'Ventricular tachyarrhythmia',\n",
    "    'safe_ca' : 'Cardiac arrest treated with CPR',\n",
    "    'safe_astalt' : 'AST or ALT ≥2 times upper limit of normal',\n",
    "    'safe_hypogly' : 'Symptomatic hypoglycemia',\n",
    "    'safe_cytopenia' : 'Cytopenia',\n",
    "    'd_covid3' : 'COVID Outcomes Scale score at day 2',\n",
    "    'd_covid8' : 'COVID Outcomes Scale score at day 7',\n",
    "    'd_covid15' : \"COVID Outcomes Scale score at day 14, median (IQR)\",\n",
    "    'd_covid29' : 'COVID Outcomes Scale score at day 28',\n",
    "    'd_mort15' : 'All-cause, all-location death at Day 14',\n",
    "    'd_mort29' : 'All-cause, all-location death at Day 28',\n",
    "    'd_ecmo_death' : 'Composite of death or ECMO through 28 d, No./total No. (%)',\n",
    "    'd_time_to_recovery' : 'Time to recovery in days, median (IQR)',\n",
    "    'd_hospfreedays' : 'Hospital-free days',\n",
    "    'd_icufreedays' : 'ICU-free days',\n",
    "    'd_oxyfreedays' : 'Oxygen-free days',\n",
    "    'd_vasofreedays' : 'Vasopressor-free days',\n",
    "    'd_ventfreedays' : 'Ventilator-free days'\n",
    "}\n",
    "\n",
    "table1_labels = {\n",
    "    'bl_sex' : 'Sex',\n",
    "    'bl_age' : 'Age',\n",
    "    'race_ethnicity' : 'Ethnicity',\n",
    "    'bl_prehosp' : 'Location at hospitalization',\n",
    "    'bmi' : 'BMI' ,\n",
    "    'diabetes_bool' : 'Diabetes',\n",
    "    'kidney_bool' : 'Chronic Kidney Disease',\n",
    "    'cad_bool' : 'Coronary Artery Disease',\n",
    "    'hypertension_bool' : 'Hypertension',\n",
    "    'copd_bool' : 'Chronic Obstructive Pulmonary Disease',\n",
    "    'bl_randloc' : 'Location at randomization',\n",
    "    'covid_ooscale_1' : 'COVID Clinical Scale at Baseline',\n",
    "    'vit_vasop_1' : 'Vasopressor',\n",
    "    'd_sofa_gcs' : 'SOFA at baseline',\n",
    "    'ie_arisymptoms___cou': 'Cough',\n",
    "    'ie_arisymptoms___fev': 'Fever (temperature >37.5 °C)',\n",
    "    'ie_arisymptoms___sob': 'Sobbering',\n",
    "    'ie_arisymptoms___st': 'Shortness of breath',\n",
    "    'd_onset_duration': 'Symptoms onset duration',\n",
    "    'labs_wbch_1' : 'Lowest white cells blood count at Day 1(/mm3)',\n",
    "    'labs_wbcl_1' : 'Highest white cells blood count at Day 1(/mm3)',\n",
    "    'sofa_platl_1' : 'Lowest platelet count at Day 1(k/mm3)',\n",
    "    'labs_asth_1' : 'Highest AST - Aspartate aminotransferase (units per liter) (Day 1)'\n",
    "}\n",
    "combined_labels = {**outcomes_labels, **table1_labels}\n",
    "pd.DataFrame(list(combined_labels.items()),columns = ['Variable Name','Meaning'], index=None) "
   ]
  },
  {
   "cell_type": "markdown",
   "id": "d5940f4c",
   "metadata": {},
   "source": [
    "Here we define the group of variables used for the analysis."
   ]
  },
  {
   "cell_type": "code",
   "execution_count": null,
   "id": "7689912c",
   "metadata": {},
   "outputs": [],
   "source": [
    "primary_outcome_name = \"d_covid15\"\n",
    "secondary_outcomes_death = [\"d_mort15\",\n",
    "                               \"d_mort29\",\n",
    "                               \"d_ecmo_death\"]\n",
    "secondary_outcomes_ccs = ['d_covid3',\n",
    "                            'd_covid8',\n",
    "                            'd_covid29']\n",
    "secondary_outcomes_daysfree = [\n",
    "  'd_time_to_recovery',\n",
    "  \"d_hospfreedays\",\n",
    "  \"d_oxyfreedays\",\n",
    "  \"d_ventfreedays\",\n",
    "  \"d_vasofreedays\",\n",
    "  \"d_icufreedays\"\n",
    "]\n",
    "safety_outcomes = [\n",
    "  'safe_cytopenia',\n",
    "  'safe_seizure',\n",
    "  'safe_astalt',\n",
    "  'safe_hypogly',\n",
    "  'safe_ca',\n",
    "  'safe_vtach'\n",
    "]\n",
    "chronic_conditions = [\n",
    "    'charl_contis',\n",
    "    'charl_ulcer',\n",
    "    'charl_hypertension',\n",
    "    'charl_cad',\n",
    "    'charl_fatal',\n",
    "    'charl_liver',\n",
    "    'charl_diabetes',\n",
    "    'charl_kidney',\n",
    "    'charl_copd'\n",
    "]\n",
    "secondary_outcomes_binary = [*safety_outcomes, *secondary_outcomes_death]\n",
    "ordered_outcome_names = [*primary_outcome_name, *secondary_outcomes_ccs, *secondary_outcomes_daysfree]"
   ]
  },
  {
   "cell_type": "markdown",
   "id": "522ff22d",
   "metadata": {},
   "source": [
    "The code below recodes some variables."
   ]
  },
  {
   "cell_type": "code",
   "execution_count": null,
   "id": "0da1f9b9",
   "metadata": {},
   "outputs": [],
   "source": [
    "rand_trt_order = CategoricalDtype(categories = ['Placebo', 'Hydroxychloroquine'], ordered=True)\n",
    "orchid_data['rand_trt'] = orchid_data['rand_trt'].astype(rand_trt_order)\n",
    "\n",
    "def recode_values(df, yes_test, yes_value, no_test, no_value, vars_list):\n",
    "    final = []\n",
    "    for index, row in df.iterrows():\n",
    "        test_values = set(row[vars_list])\n",
    "        if test_values.intersection(set(yes_test)):\n",
    "            final.append(yes_value)\n",
    "        elif test_values.intersection(set(no_test)) or len(no_test)==0:\n",
    "            final.append(no_value)\n",
    "        else:\n",
    "            final.append(np.nan)\n",
    "    return(final)       \n",
    "\n",
    "# Recoding cytopenia\n",
    "cytopenia_vars = ['safe_neutrop',\n",
    "                  'safe_lympho',\n",
    "                  'safe_anemia',\n",
    "                  'safe_thombo']\n",
    "orchid_data['safe_cytopenia'] = recode_values(orchid_data, ['Yes'], 'Yes', ['No'], 'No', cytopenia_vars)\n",
    "\n",
    "# Recoding respiratory outcomes\n",
    "respiratory_symptoms_variables = [\n",
    "    'ie_arisymptoms___cou',\n",
    "    'ie_arisymptoms___fev',\n",
    "    'ie_arisymptoms___sob',\n",
    "    'ie_arisymptoms___st']\n",
    "for res_var in respiratory_symptoms_variables:\n",
    "    orchid_data[res_var] = recode_values(orchid_data, ['Checked'], True, ['Unchecked'], False, [res_var])\n",
    "\n",
    "for sec_outcome in secondary_outcomes_binary:\n",
    "    orchid_data[sec_outcome] = recode_values(orchid_data, ['Yes', 1], 'Yes', ['No', 0], 'No', [sec_outcome])\n",
    "\n",
    "factor_days = list(range(1, 29))\n",
    "days_order = CategoricalDtype(categories = factor_days, ordered=True)\n",
    "for days_var in secondary_outcomes_daysfree:\n",
    "    orchid_data[days_var] = orchid_data[days_var].astype(object)\n",
    "    orchid_data[days_var] = orchid_data[days_var].astype(days_order)\n",
    "\n",
    "# Transforming COVID Clinical scale into ordered factors\n",
    "levels = ['1, Dead',\n",
    "    '2, Hospitalized on invasive mechanical ventilation or ECMO',\n",
    "    '3, Hospitalized on non-invasive ventilation or high flow nasal cannula',\n",
    "    '4, Hospitalized on supplemental oxygen,',\n",
    "    '5, Hospitalized not on supplemental oxygen',\n",
    "    '6, Not hospitalized with limitation in activity (continued symptoms)',\n",
    "    '7, Not hospitalized without limitation in activity (no symptoms)']\n",
    "clin_order = CategoricalDtype(categories = levels, ordered=True)\n",
    "pattern = re.compile('(^d_covid)|(^covid_ooscale)')\n",
    "clin_scale_vars = list(filter(pattern.match, list(orchid_data.columns)))\n",
    "for clin_var in clin_scale_vars:\n",
    "    orchid_data[clin_var] = orchid_data[clin_var].astype(clin_order)\n",
    "\n",
    "# Recoding death\n",
    "orchid_data['vs_died'] = recode_values(orchid_data, ['Yes'], 1, ['No'], 0, ['vs_died'])\n",
    "\n",
    "# Recoding ethnicity\n",
    "def recode_multi_race(df, race_vars):\n",
    "    final = []\n",
    "    for index, row in df.iterrows():\n",
    "        if list(row[race_vars]).count('Checked') > 1:\n",
    "            final.append(True)\n",
    "        else:\n",
    "            final.append(False)\n",
    "    return(final)\n",
    "        \n",
    "orchid_data['multi_race'] = recode_multi_race(orchid_data, ['bl_race___1', 'bl_race___othcat', 'bl_race___5'])\n",
    "\n",
    "def recode_race_ethnicity(df):\n",
    "    final = []\n",
    "    for index, row in df.iterrows():\n",
    "        if row['bl_ethnic'] == 'Hispanic or Latino':\n",
    "            final.append('Hispanic or Latino')\n",
    "        elif row['multi_race'] == True:\n",
    "            final.append('Mutlirace')\n",
    "        elif row['bl_race___1'] == 'Checked':\n",
    "            final.append('Black or African American')\n",
    "        elif row['bl_race___5'] == 'Checked':\n",
    "            final.append('White')\n",
    "        elif row['bl_race___othcat'] == 'Checked':\n",
    "            final.append('American Indian or Alaska Native/Asian/Native Hawaiian or Other Pacific Islander')\n",
    "        else:\n",
    "            final.append(np.nan)\n",
    "    return(final)\n",
    "\n",
    "orchid_data['race_ethnicity'] = recode_race_ethnicity(orchid_data)\n",
    "\n",
    "# BMI\n",
    "orchid_data['bmi'] = round(orchid_data['bl_weight'] / (orchid_data['bl_height']/100)**2, 1)\n",
    "\n",
    "# Chronics comorbidities\n",
    "diab_vars = ['DM with end organ damage present (excludes diet controlled alone)',\n",
    "             'Uncomplicated DM present (no end organ damage present)']\n",
    "orchid_data['diabetes_bool'] = recode_values(orchid_data, diab_vars, True, [], False, ['charl_diabetes'])\n",
    "\n",
    "kidney_vars = ['Moderate to severe kidney disease present (Cr > 3, ESRD, chart diagnosis of CKD stage 5 (eGFR < 15 mL/min/1.73m²) not on dialysis)',\n",
    "               'Moderate to severe kidney disease present and patient is dialysis dependent']\n",
    "orchid_data['kidney_bool'] = recode_values(orchid_data, kidney_vars, True, [], False, ['charl_kidney'])\n",
    "\n",
    "orchid_data['cad_bool'] = recode_values(orchid_data, ['Yes'], True, [], False, ['charl_cad'])\n",
    "orchid_data['hypertension_bool'] = recode_values(orchid_data, ['Yes'], True, [], False, ['charl_hypertension'])\n",
    "orchid_data['copd_bool'] = recode_values(orchid_data, ['Yes'], True, [], False, ['charl_copd'])"
   ]
  },
  {
   "cell_type": "code",
   "execution_count": null,
   "id": "a3ac5b5f",
   "metadata": {},
   "outputs": [],
   "source": []
  }
 ],
 "metadata": {
  "kernelspec": {
   "display_name": "conda_python3",
   "language": "python",
   "name": "conda_python3"
  },
  "language_info": {
   "codemirror_mode": {
    "name": "ipython",
    "version": 3
   },
   "file_extension": ".py",
   "mimetype": "text/x-python",
   "name": "python",
   "nbconvert_exporter": "python",
   "pygments_lexer": "ipython3",
   "version": "3.6.13"
  }
 },
 "nbformat": 4,
 "nbformat_minor": 5
}
