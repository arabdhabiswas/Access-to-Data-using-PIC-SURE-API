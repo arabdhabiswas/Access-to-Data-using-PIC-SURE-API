{
 "cells": [
  {
   "cell_type": "markdown",
   "id": "jewish-arthur",
   "metadata": {},
   "source": [
    "# Identifying and Extracting Longitudinal Variables using python PIC-SURE API"
   ]
  },
  {
   "cell_type": "markdown",
   "id": "international-vietnam",
   "metadata": {},
   "source": [
    "This tutorial notebook will demonstrate how to idetify and extract longitudinal variables using the R PIC-SURE API. Longitudinal variables are defined as containing multiple 'Exam' or 'Visit' descriptions within their concept path.\n",
    "\n",
    "\n",
    "In this example, we will find the patient level data for a lipid-related longitudinal variable within the Framingham Heart study. We will:\n",
    "1. Identify what longitudinal variables are associated with the keywords of interest (lipid, triglyceride), and how many exams / visits are associated with each one\n",
    "2. Select a longitudinal variable of interest from a specific study (Framingham heart study)\n",
    "3. Extract patient level data into a dataframe where each rows represent patients and columns represent visits"
   ]
  },
  {
   "cell_type": "markdown",
   "id": "governing-heart",
   "metadata": {},
   "source": [
    "For a more basic introduction to the python PIC-SURE API, see the `1_PICSURE_API_101.ipynb` notebook.\n",
    " \n",
    "**Before running this notebook, please be sure to get a user-specific security token. For more information about how to proceed, see the \\\"Get your security token\\\" instructions in the [README.md](https://github.com/hms-dbmi/Access-to-Data-using-PIC-SURE-API/tree/harmonized_lipid_measurements_example/NHLBI_BioData_Catalyst#get-your-security-token).**"
   ]
  },
  {
   "cell_type": "markdown",
   "id": "appreciated-sheet",
   "metadata": {},
   "source": [
    "## Environment Set-Up"
   ]
  },
  {
   "cell_type": "markdown",
   "id": "southern-hamburg",
   "metadata": {},
   "source": [
    "### System Requirements\n",
    "- python 3.6 or later\n",
    "- pip python package manager, already available in most systems with a python interpreter installed ([pip installation instructions](https://pip.pypa.io/en/stable/installing/))"
   ]
  },
  {
   "cell_type": "markdown",
   "id": "aggregate-yacht",
   "metadata": {},
   "source": [
    "### Install Packages"
   ]
  },
  {
   "cell_type": "code",
   "execution_count": null,
   "id": "miniature-extent",
   "metadata": {
    "scrolled": true
   },
   "outputs": [],
   "source": [
    "import sys\n",
    "!{sys.executable} -m pip install -r requirements.txt"
   ]
  },
  {
   "cell_type": "code",
   "execution_count": null,
   "id": "opened-objective",
   "metadata": {
    "scrolled": true
   },
   "outputs": [],
   "source": [
    "!{sys.executable} -m pip install --upgrade --force-reinstall git+https://github.com/hms-dbmi/pic-sure-python-client.git\n",
    "!{sys.executable} -m pip install --upgrade --force-reinstall git+https://github.com/hms-dbmi/pic-sure-python-adapter-hpds.git\n",
    "!{sys.executable} -m pip install --upgrade --force-reinstall git+https://github.com/hms-dbmi/pic-sure-biodatacatalyst-python-adapter-hpds.git"
   ]
  },
  {
   "cell_type": "code",
   "execution_count": null,
   "id": "forty-union",
   "metadata": {},
   "outputs": [],
   "source": [
    "import json\n",
    "from pprint import pprint\n",
    "\n",
    "import pandas as pd\n",
    "import numpy as np \n",
    "import matplotlib.pyplot as plt\n",
    "from scipy import stats\n",
    "\n",
    "import PicSureClient\n",
    "import PicSureBdcAdapter\n",
    "\n",
    "from python_lib.utils import get_multiIndex_variablesDict, joining_variablesDict_onCol\n",
    "\n",
    "import re"
   ]
  },
  {
   "cell_type": "code",
   "execution_count": null,
   "id": "stunning-programmer",
   "metadata": {},
   "outputs": [],
   "source": [
    "# Pandas DataFrame display options\n",
    "pd.set_option(\"max.rows\", 100)\n",
    "\n",
    "# Matplotlib display parameters\n",
    "plt.rcParams[\"figure.figsize\"] = (14,8)\n",
    "font = {'weight' : 'bold',\n",
    "        'size'   : 12}\n",
    "plt.rc('font', **font)"
   ]
  },
  {
   "cell_type": "markdown",
   "id": "exclusive-galaxy",
   "metadata": {},
   "source": [
    "## Connecting to a PIC-SURE Network\n",
    "**Again, before running this notebook, please be sure to get a user-specific security token. For more information about how to proceed, see the \\\"Get your security token\\\" instructions in the [README.md](https://github.com/hms-dbmi/Access-to-Data-using-PIC-SURE-API/tree/harmonized_lipid_measurements_example/NHLBI_BioData_Catalyst#get-your-security-token).**"
   ]
  },
  {
   "cell_type": "code",
   "execution_count": null,
   "id": "brown-eight",
   "metadata": {},
   "outputs": [],
   "source": [
    "PICSURE_network_URL = \"https://picsure.biodatacatalyst.nhlbi.nih.gov/picsure\"\n",
    "resource_id = \"02e23f52-f354-4e8b-992c-d37c8b9ba140\"\n",
    "token_file = \"token.txt\""
   ]
  },
  {
   "cell_type": "code",
   "execution_count": null,
   "id": "floating-forty",
   "metadata": {},
   "outputs": [],
   "source": [
    "with open(token_file, \"r\") as f:\n",
    "    my_token = f.read()"
   ]
  },
  {
   "cell_type": "code",
   "execution_count": null,
   "id": "applied-proposition",
   "metadata": {
    "scrolled": true
   },
   "outputs": [],
   "source": [
    "client = PicSureClient.Client()\n",
    "connection = client.connect(PICSURE_network_URL, my_token, True)\n",
    "adapter = PicSureBdcAdapter.Adapter(connection)\n",
    "resource = adapter.useResource(resource_id)"
   ]
  },
  {
   "cell_type": "markdown",
   "id": "applied-butter",
   "metadata": {},
   "source": [
    "## Longitudinal Lipid Variable Example\n",
    "Example showing how to extract lipid measurements from multiple visits for different cohorts\n",
    "\n",
    "### Access the data\n",
    "First, we will create a multiIndex variable dictionary of all variables we have access to."
   ]
  },
  {
   "cell_type": "code",
   "execution_count": null,
   "id": "centered-redhead",
   "metadata": {
    "scrolled": true
   },
   "outputs": [],
   "source": [
    "fullVariableDict = resource.dictionary().find().DataFrame()\n",
    "variablesDict = get_multiIndex_variablesDict(fullVariableDict)\n",
    "variablesDict"
   ]
  },
  {
   "cell_type": "markdown",
   "id": "clear-remedy",
   "metadata": {},
   "source": [
    "In this example, we are interested in variables related to lipids. We can find all variables related to the search terms 'lipid' and 'triglyceride' through applying the following filter on the multiIndex dictionary:"
   ]
  },
  {
   "cell_type": "code",
   "execution_count": null,
   "id": "bigger-signal",
   "metadata": {},
   "outputs": [],
   "source": [
    "mask_lipid = [type(i) == str and \"lipid\" in i for i in variablesDict['name']]\n",
    "mask_triglyceride = [type(i) == str and \"triglyceride\" in i for i in variablesDict['name']]\n",
    "\n",
    "lipid_vars = variablesDict.loc[mask_lipid or mask_triglyceride,:]\n",
    "\n",
    "lipid_vars"
   ]
  },
  {
   "cell_type": "markdown",
   "id": "demographic-measurement",
   "metadata": {},
   "source": [
    "### Identify the longitudinal lipid variables\n",
    "This block of code does the following:\n",
    "\n",
    "- uses the multiindex dataframe containing variables which are related to 'lipid' or 'triglyceride'\n",
    "- filters for variables with keywords 'exam #' or 'visit #'\n",
    "- extracts the exam number of each variable into column exam_number\n",
    "- groups variables by study (level_0) and longitudinal variable (longvar)\n",
    "- returns a table showing the variables that have more than one exam recorded"
   ]
  },
  {
   "cell_type": "code",
   "execution_count": null,
   "id": "referenced-stanley",
   "metadata": {},
   "outputs": [],
   "source": [
    "test = \"results at ExAm 43 lipids\"\n",
    "print(re.search('.* (exam|visit) \\d+ .*', test, re.IGNORECASE).group())"
   ]
  },
  {
   "cell_type": "code",
   "execution_count": null,
   "id": "limited-movement",
   "metadata": {},
   "outputs": [],
   "source": [
    "for i in lipid_vars['name']:\n",
    "    if re.search('.* (exam|visit) \\d+ .*', i, re.IGNORECASE):\n",
    "        print(i)\n",
    "\n",
    "#re.search('.* (exam|visit) \\d+ .*', lipid_vars[\"name\"], re.IGNORECASE).group()\n",
    "#lipid_vars[lipid_vars['name'].str.contains('.* (exam|visit) \\d+ .*')==True]\n",
    "#longitudinal_lipid_vars = lipid_vars[lipid_vars[\"name\"].str.contains('(exam|visit) \\d+')==True]\n",
    "#longitudinal_lipid_vars.shape\n",
    "#lipid_vars[lipid_vars[\"name\"].str.contains('visit \\d+')==True]# | lipid_vars[\"name\"].str.contains('visit \\d+')==True)]"
   ]
  },
  {
   "cell_type": "raw",
   "id": "respiratory-summer",
   "metadata": {},
   "source": [
    "longitudinal_lipid_vars <- lipid_vars %>% \n",
    "\n",
    "  # filter for longitudinal varibles; here defined as variable names containing 'exam' or 'visit' (case insensitive)\n",
    "  filter((grepl('Exam \\\\d+', name, ignore.case = TRUE) | \n",
    "         grepl('Visit \\\\d+', name, ignore.case = TRUE))) %>%\n",
    "\n",
    "  # extract the exam / visit number and store it as a new variable: 'exam_number'\n",
    "  mutate(exam_number = str_extract(name, regex(\"(exam \\\\d+)|(visit \\\\d+)\", ignore_case=T)),\n",
    "         \n",
    "         # extract the longitudinal variable name by removing the exam / visit number and store as new variable: 'longvar'\n",
    "         longvar =  str_replace(name, regex('(exam \\\\d+.$)|(visit \\\\d+.$)', ignore_case = T), '')) %>%\n",
    "\n",
    "  # group our variable data by study name (level_0) and longitudinal variable name (longvar)\n",
    "  group_by(level_0, longvar) %>%\n",
    "\n",
    "  # count number of exams / visits within each distinct study - variable pairing and store as new variable: 'n_exams'\n",
    "  summarise(n_exams = n_distinct(exam_number)) %>% \n",
    "\n",
    "  # filter results to only include variables which have more than one exam / visit (n_exams > 1)\n",
    "  filter(n_exams > 1) %>%\n",
    "\n",
    "  # sort results by number of exams / visits \n",
    "  arrange(desc(n_exams))\n",
    "\n",
    "\n",
    "longitudinal_lipid_vars"
   ]
  }
 ],
 "metadata": {
  "kernelspec": {
   "display_name": "conda_python3",
   "language": "python",
   "name": "conda_python3"
  },
  "language_info": {
   "codemirror_mode": {
    "name": "ipython",
    "version": 3
   },
   "file_extension": ".py",
   "mimetype": "text/x-python",
   "name": "python",
   "nbconvert_exporter": "python",
   "pygments_lexer": "ipython3",
   "version": "3.6.13"
  }
 },
 "nbformat": 4,
 "nbformat_minor": 5
}
