{
 "cells": [
  {
   "cell_type": "markdown",
   "id": "9eb0aa8f",
   "metadata": {},
   "source": [
    "# Identifying and Extracting Longitudinal Variables using python PIC-SURE API"
   ]
  },
  {
   "cell_type": "markdown",
   "id": "90fd137f",
   "metadata": {},
   "source": [
    "This tutorial notebook will demonstrate how to identify and extract longitudinal variables using the R PIC-SURE API. Longitudinal variables are defined as containing multiple 'Exam' or 'Visit' descriptions within their concept path.\n",
    "\n",
    "\n",
    "In this example, we will find the patient level data for a lipid-related longitudinal variable within the Framingham Heart study. We will:\n",
    "1. Identify what longitudinal variables are associated with the keywords of interest (lipid, triglyceride), and how many exams / visits are associated with each one\n",
    "2. Select a longitudinal variable of interest from a specific study (Framingham heart study)\n",
    "3. Extract patient level data into a dataframe where each rows represent patients and columns represent visits"
   ]
  },
  {
   "cell_type": "markdown",
   "id": "789f2952",
   "metadata": {},
   "source": [
    "For a more basic introduction to the python PIC-SURE API, see the `1_PICSURE_API_101.ipynb` notebook.\n",
    " \n",
    "**Before running this notebook, please be sure to get a user-specific security token. For more information about how to proceed, see the \\\"Get your security token\\\" instructions in the [README.md](https://github.com/hms-dbmi/Access-to-Data-using-PIC-SURE-API/tree/harmonized_lipid_measurements_example/NHLBI_BioData_Catalyst#get-your-security-token).**"
   ]
  },
  {
   "cell_type": "markdown",
   "id": "fdaa03d8",
   "metadata": {},
   "source": [
    "## Environment Set-Up"
   ]
  },
  {
   "cell_type": "markdown",
   "id": "eed73f2a",
   "metadata": {},
   "source": [
    "### System Requirements\n",
    "- python 3.6 or later\n",
    "- pip python package manager, already available in most systems with a python interpreter installed ([pip installation instructions](https://pip.pypa.io/en/stable/installing/))"
   ]
  },
  {
   "cell_type": "markdown",
   "id": "9d4c005b",
   "metadata": {},
   "source": [
    "### Install Packages"
   ]
  },
  {
   "cell_type": "code",
   "execution_count": null,
   "id": "db6579ce",
   "metadata": {
    "scrolled": true
   },
   "outputs": [],
   "source": [
    "import sys\n",
    "!{sys.executable} -m pip install -r requirements.txt"
   ]
  },
  {
   "cell_type": "code",
   "execution_count": null,
   "id": "3b8c50e1",
   "metadata": {
    "scrolled": true
   },
   "outputs": [],
   "source": [
    "!{sys.executable} -m pip install --upgrade --force-reinstall git+https://github.com/hms-dbmi/pic-sure-python-client.git\n",
    "!{sys.executable} -m pip install --upgrade --force-reinstall git+https://github.com/hms-dbmi/pic-sure-python-adapter-hpds.git\n",
    "!{sys.executable} -m pip install --upgrade --force-reinstall git+https://github.com/hms-dbmi/pic-sure-biodatacatalyst-python-adapter-hpds.git"
   ]
  },
  {
   "cell_type": "code",
   "execution_count": null,
   "id": "c63e4049",
   "metadata": {},
   "outputs": [],
   "source": [
    "import json\n",
    "from pprint import pprint\n",
    "\n",
    "import pandas as pd\n",
    "import numpy as np \n",
    "import matplotlib.pyplot as plt\n",
    "from scipy import stats\n",
    "\n",
    "import PicSureClient\n",
    "import PicSureBdcAdapter\n",
    "\n",
    "from python_lib.utils import get_multiIndex_variablesDict, joining_variablesDict_onCol\n",
    "\n",
    "import re"
   ]
  },
  {
   "cell_type": "markdown",
   "id": "3411cbd0",
   "metadata": {},
   "source": [
    "## Connecting to a PIC-SURE Network\n",
    "**Again, before running this notebook, please be sure to get a user-specific security token. For more information about how to proceed, see the \\\"Get your security token\\\" instructions in the [README.md](https://github.com/hms-dbmi/Access-to-Data-using-PIC-SURE-API/tree/harmonized_lipid_measurements_example/NHLBI_BioData_Catalyst#get-your-security-token).**"
   ]
  },
  {
   "cell_type": "code",
   "execution_count": null,
   "id": "0a967587",
   "metadata": {},
   "outputs": [],
   "source": [
    "PICSURE_network_URL = \"https://picsure.biodatacatalyst.nhlbi.nih.gov/picsure\"\n",
    "resource_id = \"02e23f52-f354-4e8b-992c-d37c8b9ba140\"\n",
    "token_file = \"token.txt\""
   ]
  },
  {
   "cell_type": "code",
   "execution_count": null,
   "id": "dd53f3b3",
   "metadata": {},
   "outputs": [],
   "source": [
    "with open(token_file, \"r\") as f:\n",
    "    my_token = f.read()"
   ]
  },
  {
   "cell_type": "code",
   "execution_count": null,
   "id": "63f9a5e0",
   "metadata": {
    "scrolled": true
   },
   "outputs": [],
   "source": [
    "client = PicSureClient.Client()\n",
    "connection = client.connect(PICSURE_network_URL, my_token, True)\n",
    "adapter = PicSureBdcAdapter.Adapter(connection)\n",
    "resource = adapter.useResource(resource_id)"
   ]
  },
  {
   "cell_type": "markdown",
   "id": "1f6eaccc",
   "metadata": {},
   "source": [
    "## Longitudinal Lipid Variable Example\n",
    "Example showing how to extract lipid measurements from multiple visits for different cohorts\n",
    "\n",
    "### Access the data\n",
    "First, we will create a variable dictionary of all variables we have access to."
   ]
  },
  {
   "cell_type": "code",
   "execution_count": null,
   "id": "4d18966c",
   "metadata": {
    "scrolled": true
   },
   "outputs": [],
   "source": [
    "fullVariableDict = resource.dictionary().find(\"NHLBI Atherosclerosis Risk in Communities (ARIC) Candidate Gene Association Resource (CARe) ( phs000280 )\").keys()\n",
    "#fullVariableDict\n",
    "#variablesDict = get_multiIndex_variablesDict(fullVariableDict)\n",
    "variablesDict = pd.DataFrame(fullVariableDict, columns=['name'])\n",
    "variablesDict"
   ]
  },
  {
   "cell_type": "markdown",
   "id": "bba0139c",
   "metadata": {},
   "source": [
    "In this example, we are interested in variables related to lipids. We can find all variables related to the search terms 'lipid' and 'triglyceride' through applying the following filter on the multiIndex dictionary:"
   ]
  },
  {
   "cell_type": "code",
   "execution_count": null,
   "id": "d4e58707",
   "metadata": {
    "scrolled": true
   },
   "outputs": [],
   "source": [
    "mask_lipid = [type(i) == str and \"lipid\" in i.lower() for i in variablesDict['name']]\n",
    "mask_triglyceride = [type(i) == str and \"triglyceride\" in i.lower() for i in variablesDict['name']]\n",
    "lipid_vars = variablesDict.loc[mask_lipid or mask_triglyceride,:]\n",
    "lipid_vars"
   ]
  },
  {
   "cell_type": "markdown",
   "id": "b4717ebc",
   "metadata": {},
   "source": [
    "### Identify the longitudinal lipid variables\n",
    "The following code does the following:\n",
    "\n",
    "- uses the dataframe containing variables which are related to 'lipid' or 'triglyceride'\n",
    "- filters for variables with keywords 'exam #' or 'visit #'\n",
    "- extracts the exam number of each variable into column `exam_number`\n",
    "- groups variables longitudinal variable (`longvar`)\n",
    "- returns a table showing the variables that have more than one exam recorded"
   ]
  },
  {
   "cell_type": "markdown",
   "id": "0b2bac17",
   "metadata": {},
   "source": [
    "First, the longitudinal concept paths that have exam or visit number information will be saved to `longitudinal_concept_paths`."
   ]
  },
  {
   "cell_type": "code",
   "execution_count": null,
   "id": "2ce17d20",
   "metadata": {},
   "outputs": [],
   "source": [
    "longitudinal_concept_paths = []\n",
    "for i in lipid_vars['name']:\n",
    "    if re.search('exam \\d+', i, re.IGNORECASE):\n",
    "        longitudinal_concept_paths.append(i)\n",
    "    if re.search('visit \\d+', i, re.IGNORECASE):\n",
    "        longitudinal_concept_paths.append(i)\n",
    "len(longitudinal_concept_paths)"
   ]
  },
  {
   "cell_type": "markdown",
   "id": "d440d260",
   "metadata": {},
   "source": [
    "Now `longitudinal_concept_paths` will be used to extract the longitudinal variables from the `lipid_vars` dataframe. The exam or visit number will be extracted into the `exam_number` column and the longitudinal variable will be saved to the `longvar` column."
   ]
  },
  {
   "cell_type": "code",
   "execution_count": null,
   "id": "99d576e2",
   "metadata": {
    "scrolled": true
   },
   "outputs": [],
   "source": [
    "long_info = lipid_vars[lipid_vars['name'].isin(longitudinal_concept_paths)].reset_index()\n",
    "long_info['exam_number'] = long_info['name'].str.extract('(exam \\d+|visit \\d+)', flags=re.IGNORECASE)\n",
    "long_info['longvar'] = long_info['name'].str.replace('(exam \\d+|visit \\d+)', 'exam', flags=re.IGNORECASE).str.lower()\n",
    "long_info"
   ]
  },
  {
   "cell_type": "markdown",
   "id": "b9927574",
   "metadata": {},
   "source": [
    "To find the longitudinal variables with the greatest number of exams, a new dataframe `longitudinal_lipid_vars` is used to display the `longvar` and number of exams (`n_exam`). "
   ]
  },
  {
   "cell_type": "code",
   "execution_count": null,
   "id": "57f4108b",
   "metadata": {},
   "outputs": [],
   "source": [
    "longitudinal_lipid_vars = pd.DataFrame(\n",
    "    long_info.pivot_table(index=['longvar'], aggfunc='size'), \n",
    "    columns=['n_exam']).sort_values(by='n_exam', ascending=False).reset_index()\n",
    "longitudinal_lipid_vars"
   ]
  },
  {
   "cell_type": "markdown",
   "id": "99bf787b",
   "metadata": {},
   "source": [
    "Now that we know which longitudinal variables are available to us, we can choose a variable of interest and extract the patient and visit level data associated with it.\n",
    "\n",
    "However, note that the `longvar` we extracted is not equivalent to the actual PIC-SURE concept path needed to query for this variable. "
   ]
  },
  {
   "cell_type": "markdown",
   "id": "bfeceff4",
   "metadata": {},
   "source": [
    "*We can filter for specific studies after this and then extract the longitudinal variable names (note that longvar is not equivalent to the actual PIC-SURE concept path, will need to use original name from lipid vars); you won't be able to use the table above by itself to get the data of interest*"
   ]
  },
  {
   "cell_type": "markdown",
   "id": "12c5695c",
   "metadata": {},
   "source": [
    "### Isolate variables of interest\n",
    "\n",
    "In this example, we will choose to further investigate the first longitudinal variable in the `longitudinal_lipid_vars` dataframe we generated above."
   ]
  },
  {
   "cell_type": "code",
   "execution_count": null,
   "id": "0b7b1a67",
   "metadata": {},
   "outputs": [],
   "source": [
    "my_variable = longitudinal_lipid_vars['longvar'][0]\n",
    "print(my_variable)"
   ]
  },
  {
   "cell_type": "markdown",
   "id": "b6d0b4af",
   "metadata": {},
   "source": [
    "To add the longitudinal variable of interest to our PIC-SURE query, we will need to search for our variable within the overall data dictionary we created before (`long_info`)."
   ]
  },
  {
   "cell_type": "code",
   "execution_count": null,
   "id": "c6da5733",
   "metadata": {},
   "outputs": [],
   "source": [
    "keywords = my_variable.split('exam' or 'visit')\n",
    "keywords"
   ]
  },
  {
   "cell_type": "code",
   "execution_count": null,
   "id": "d5d20840",
   "metadata": {},
   "outputs": [],
   "source": [
    "def check_keywords(variable, keywords):\n",
    "    final_result = []\n",
    "    for var in variable:\n",
    "        result = 0\n",
    "        var = var.lower()\n",
    "        for i in keywords:\n",
    "            if i in var:\n",
    "                result += 1\n",
    "        final_result.append(result)\n",
    "    return final_result"
   ]
  },
  {
   "cell_type": "code",
   "execution_count": null,
   "id": "413a9699",
   "metadata": {},
   "outputs": [],
   "source": [
    "test_val = check_keywords(variablesDict['name'], keywords)\n",
    "variablesDict['test_val'] = test_val\n",
    "mask = variablesDict['test_val'] == len(keywords)\n",
    "query_vars = variablesDict[mask]\n",
    "qvars = query_vars['name']"
   ]
  },
  {
   "cell_type": "code",
   "execution_count": null,
   "id": "d6af8d26",
   "metadata": {},
   "outputs": [],
   "source": [
    "query_vars = long_info.loc[[type(i) == str and my_variable in i.lower() for i in long_info['longvar']], 'name']\n",
    "query_vars"
   ]
  },
  {
   "cell_type": "markdown",
   "id": "2a4549db",
   "metadata": {},
   "source": [
    "The resulting `query_vars` variable contains the variables we will want to add to our query. "
   ]
  },
  {
   "cell_type": "markdown",
   "id": "b0837b21",
   "metadata": {},
   "source": [
    "### Create & run query\n",
    "First, we will create a new query object."
   ]
  },
  {
   "cell_type": "code",
   "execution_count": null,
   "id": "e49c35d7",
   "metadata": {},
   "outputs": [],
   "source": [
    "my_query = resource.query()"
   ]
  },
  {
   "cell_type": "markdown",
   "id": "661c4d84",
   "metadata": {},
   "source": [
    "We will use the `query.anyof().add()` method. This will allow us to include all input variables, but only patient records that contain at least one non-null value for those variables in the output. See the `1_PICSURE_API_101.ipynb` notebook for a more in depth explanation of query methods."
   ]
  },
  {
   "cell_type": "code",
   "execution_count": null,
   "id": "9f0ed296",
   "metadata": {},
   "outputs": [],
   "source": [
    "my_query.anyof().add(qvars)"
   ]
  },
  {
   "cell_type": "markdown",
   "id": "015540b8",
   "metadata": {},
   "source": [
    "#### Update consent codes if necessary\n",
    "Uncomment this code below and run as necessary to restrict your query to certain consent codes.\n",
    "In the current example, the query is restricted to the 'phs000179.c2' consent code."
   ]
  },
  {
   "cell_type": "code",
   "execution_count": null,
   "id": "fb200c86",
   "metadata": {},
   "outputs": [],
   "source": [
    "# Delete current consents\n",
    "#my_query.filter().delete(\"\\\\_consents\\\\\")\n",
    "\n",
    "# Add new consents\n",
    "#my_query.filter().add(\"\\\\_consents\\\\\", ['phs000179.c2'])"
   ]
  },
  {
   "cell_type": "markdown",
   "id": "035725f6",
   "metadata": {},
   "source": [
    "We can now run our query:"
   ]
  },
  {
   "cell_type": "code",
   "execution_count": null,
   "id": "82b8abea",
   "metadata": {},
   "outputs": [],
   "source": [
    "query_result = my_query.getResultsDataFrame(low_memory=False)"
   ]
  },
  {
   "cell_type": "markdown",
   "id": "08573dc8",
   "metadata": {},
   "source": [
    "Our dataframe contains each exam / visit for the longitudinal variable of interest, with each row representing a patient. In order to be included in the output, each patient must have at least one reported value for one of the exams / visits for the variable of interest"
   ]
  },
  {
   "cell_type": "code",
   "execution_count": null,
   "id": "22326619",
   "metadata": {},
   "outputs": [],
   "source": [
    "query_result"
   ]
  },
  {
   "cell_type": "code",
   "execution_count": null,
   "id": "6c84861e",
   "metadata": {},
   "outputs": [],
   "source": []
  }
 ],
 "metadata": {
  "kernelspec": {
   "display_name": "conda_python3",
   "language": "python",
   "name": "conda_python3"
  },
  "language_info": {
   "codemirror_mode": {
    "name": "ipython",
    "version": 3
   },
   "file_extension": ".py",
   "mimetype": "text/x-python",
   "name": "python",
   "nbconvert_exporter": "python",
   "pygments_lexer": "ipython3",
   "version": "3.6.13"
  }
 },
 "nbformat": 4,
 "nbformat_minor": 5
}
