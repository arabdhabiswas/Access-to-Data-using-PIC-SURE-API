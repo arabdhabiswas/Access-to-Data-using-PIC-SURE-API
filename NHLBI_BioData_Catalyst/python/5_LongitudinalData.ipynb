{
 "cells": [
  {
   "cell_type": "markdown",
   "id": "261bff89",
   "metadata": {},
   "source": [
    "# Identifying and Extracting Longitudinal Variables using python PIC-SURE API"
   ]
  },
  {
   "cell_type": "markdown",
   "id": "e771eded",
   "metadata": {},
   "source": [
    "This tutorial notebook will demonstrate how to identify and extract longitudinal variables using the R PIC-SURE API. Longitudinal variables are defined as containing multiple 'Exam' or 'Visit' descriptions within their concept path.\n",
    "\n",
    "\n",
    "In this example, we will find the patient level data for a lipid-related longitudinal variable within the Framingham Heart study. We will:\n",
    "1. Identify what longitudinal variables are associated with the keywords of interest (lipid, triglyceride), and how many exams / visits are associated with each one\n",
    "2. Select a longitudinal variable of interest from a specific study (Framingham heart study)\n",
    "3. Extract patient level data into a dataframe where each rows represent patients and columns represent visits"
   ]
  },
  {
   "cell_type": "markdown",
   "id": "a8e0b353",
   "metadata": {},
   "source": [
    "For a more basic introduction to the python PIC-SURE API, see the `1_PICSURE_API_101.ipynb` notebook.\n",
    " \n",
    "**Before running this notebook, please be sure to get a user-specific security token. For more information about how to proceed, see the \\\"Get your security token\\\" instructions in the [README.md](https://github.com/hms-dbmi/Access-to-Data-using-PIC-SURE-API/tree/harmonized_lipid_measurements_example/NHLBI_BioData_Catalyst#get-your-security-token).**"
   ]
  },
  {
   "cell_type": "markdown",
   "id": "07406bc2",
   "metadata": {},
   "source": [
    "## Environment Set-Up"
   ]
  },
  {
   "cell_type": "markdown",
   "id": "58cf6ac6",
   "metadata": {},
   "source": [
    "### System Requirements\n",
    "- python 3.6 or later\n",
    "- pip python package manager, already available in most systems with a python interpreter installed ([pip installation instructions](https://pip.pypa.io/en/stable/installing/))"
   ]
  },
  {
   "cell_type": "markdown",
   "id": "b942503a",
   "metadata": {},
   "source": [
    "### Install Packages"
   ]
  },
  {
   "cell_type": "code",
   "execution_count": null,
   "id": "10fa28d9",
   "metadata": {
    "scrolled": true
   },
   "outputs": [],
   "source": [
    "import sys\n",
    "!{sys.executable} -m pip install -r requirements.txt"
   ]
  },
  {
   "cell_type": "code",
   "execution_count": null,
   "id": "dce6dbad",
   "metadata": {
    "scrolled": true
   },
   "outputs": [],
   "source": [
    "!{sys.executable} -m pip install --upgrade --force-reinstall git+https://github.com/hms-dbmi/pic-sure-python-client.git\n",
    "!{sys.executable} -m pip install --upgrade --force-reinstall git+https://github.com/hms-dbmi/pic-sure-python-adapter-hpds.git\n",
    "!{sys.executable} -m pip install --upgrade --force-reinstall git+https://github.com/hms-dbmi/pic-sure-biodatacatalyst-python-adapter-hpds.git"
   ]
  },
  {
   "cell_type": "code",
   "execution_count": null,
   "id": "62c5176e",
   "metadata": {},
   "outputs": [],
   "source": [
    "import json\n",
    "from pprint import pprint\n",
    "\n",
    "import pandas as pd\n",
    "import numpy as np \n",
    "import matplotlib.pyplot as plt\n",
    "from scipy import stats\n",
    "\n",
    "import PicSureClient\n",
    "import PicSureBdcAdapter\n",
    "\n",
    "from python_lib.utils import get_multiIndex_variablesDict, joining_variablesDict_onCol\n",
    "\n",
    "import re"
   ]
  },
  {
   "cell_type": "markdown",
   "id": "f027e9aa",
   "metadata": {},
   "source": [
    "## Connecting to a PIC-SURE Network\n",
    "**Again, before running this notebook, please be sure to get a user-specific security token. For more information about how to proceed, see the \\\"Get your security token\\\" instructions in the [README.md](https://github.com/hms-dbmi/Access-to-Data-using-PIC-SURE-API/tree/harmonized_lipid_measurements_example/NHLBI_BioData_Catalyst#get-your-security-token).**"
   ]
  },
  {
   "cell_type": "code",
   "execution_count": null,
   "id": "d8f23140",
   "metadata": {},
   "outputs": [],
   "source": [
    "PICSURE_network_URL = \"https://picsure.biodatacatalyst.nhlbi.nih.gov/picsure\"\n",
    "resource_id = \"02e23f52-f354-4e8b-992c-d37c8b9ba140\"\n",
    "token_file = \"token.txt\""
   ]
  },
  {
   "cell_type": "code",
   "execution_count": null,
   "id": "b66d39b1",
   "metadata": {},
   "outputs": [],
   "source": [
    "with open(token_file, \"r\") as f:\n",
    "    my_token = f.read()"
   ]
  },
  {
   "cell_type": "code",
   "execution_count": null,
   "id": "f6c2d236",
   "metadata": {
    "scrolled": true
   },
   "outputs": [],
   "source": [
    "client = PicSureClient.Client()\n",
    "connection = client.connect(PICSURE_network_URL, my_token, True)\n",
    "adapter = PicSureBdcAdapter.Adapter(connection)\n",
    "resource = adapter.useResource(resource_id)"
   ]
  },
  {
   "cell_type": "markdown",
   "id": "57a7cd31",
   "metadata": {},
   "source": [
    "## Longitudinal Lipid Variable Example\n",
    "Example showing how to extract lipid measurements from multiple visits for different cohorts\n",
    "\n",
    "### Access the data\n",
    "First, we will create a variable dictionary of all variables we have access to."
   ]
  },
  {
   "cell_type": "code",
   "execution_count": null,
   "id": "262a2382",
   "metadata": {
    "scrolled": true
   },
   "outputs": [],
   "source": [
    "fullVariableDict = resource.dictionary().find().keys() # All variables\n",
    "variablesDict = pd.DataFrame(fullVariableDict, columns=['name']) # get dataframe of all variables"
   ]
  },
  {
   "cell_type": "markdown",
   "id": "c29e23dd",
   "metadata": {},
   "source": [
    "In this example, we are interested in variables related to lipids. We can find all variables related to the search terms 'lipid' and 'triglyceride' through applying the following filter on the dictionary dataframe:"
   ]
  },
  {
   "cell_type": "code",
   "execution_count": null,
   "id": "cd3cd31e",
   "metadata": {
    "scrolled": true
   },
   "outputs": [],
   "source": [
    "mask_lipid = [type(i) == str and \"lipid\" in i.lower() for i in variablesDict['name']]\n",
    "mask_triglyceride = [type(i) == str and \"triglyceride\" in i.lower() for i in variablesDict['name']]\n",
    "lipid_vars = variablesDict.loc[mask_lipid or mask_triglyceride,:]\n",
    "lipid_vars"
   ]
  },
  {
   "cell_type": "markdown",
   "id": "492577d9",
   "metadata": {},
   "source": [
    "### Identify the longitudinal lipid variables\n",
    "The following code does the following:\n",
    "\n",
    "- uses the dataframe containing variables which are related to 'lipid' or 'triglyceride'\n",
    "- filters for variables with keywords 'exam #' or 'visit #'\n",
    "- extracts the exam number of each variable into column `exam_number`\n",
    "- groups variables longitudinal variable (`longvar`)\n",
    "- returns a table showing the variables that have more than one exam recorded"
   ]
  },
  {
   "cell_type": "markdown",
   "id": "823992e4",
   "metadata": {},
   "source": [
    "First, the longitudinal concept paths that have exam or visit number information will be saved to `longitudinal_concept_paths`."
   ]
  },
  {
   "cell_type": "code",
   "execution_count": null,
   "id": "a9d0484e",
   "metadata": {},
   "outputs": [],
   "source": [
    "longitudinal_concept_paths = [] # Initialize empty list\n",
    "for i in lipid_vars['name']:\n",
    "    # If variable has exam # or visit #, add it to longitudinal_concept_paths\n",
    "    if re.search('(exam \\d+|visit \\d+)', i, re.IGNORECASE):\n",
    "        longitudinal_concept_paths.append(i)\n",
    "len(longitudinal_concept_paths)"
   ]
  },
  {
   "cell_type": "markdown",
   "id": "fba28f11",
   "metadata": {},
   "source": [
    "Now `longitudinal_concept_paths` will be used to extract the longitudinal variables from the `lipid_vars` dataframe. The exam or visit number will be extracted into the `exam_number` column and the longitudinal variable will be saved to the `longvar` column."
   ]
  },
  {
   "cell_type": "code",
   "execution_count": null,
   "id": "2254e700",
   "metadata": {
    "scrolled": true
   },
   "outputs": [],
   "source": [
    "# Save variables that have longitudinal_concept_path in it\n",
    "long_info = lipid_vars[lipid_vars['name'].isin(longitudinal_concept_paths)].reset_index()\n",
    "# Save exam # as exam_number\n",
    "long_info['exam_number'] = long_info['name'].str.extract('(exam \\d+|visit \\d+)', flags=re.IGNORECASE)\n",
    "# Save variable name without exam # as longvar\n",
    "long_info['longvar'] = long_info['name'].str.replace('(exam \\d+|visit \\d+)', 'exam', flags=re.IGNORECASE).str.lower()\n",
    "long_info"
   ]
  },
  {
   "cell_type": "markdown",
   "id": "97d57ae8",
   "metadata": {},
   "source": [
    "*Note: Some variables have capitalization differences, which is why* `longvar` *has been changed to lowercase.*"
   ]
  },
  {
   "cell_type": "markdown",
   "id": "3ef6fc9e",
   "metadata": {},
   "source": [
    "To find the longitudinal variables with the greatest number of exams, a new dataframe `longitudinal_lipid_vars` is used to display the `longvar` and number of exams (`n_exam`). "
   ]
  },
  {
   "cell_type": "code",
   "execution_count": null,
   "id": "ea75ede0",
   "metadata": {},
   "outputs": [],
   "source": [
    "longitudinal_lipid_vars = pd.DataFrame(\n",
    "    long_info.pivot_table(index=['longvar'], aggfunc='size'), \n",
    "    columns=['n_exam']).sort_values(by='n_exam', ascending=False).reset_index()\n",
    "longitudinal_lipid_vars"
   ]
  },
  {
   "cell_type": "markdown",
   "id": "b090733c",
   "metadata": {},
   "source": [
    "Now that we know which longitudinal variables are available to us, we can choose a variable of interest and extract the patient and visit level data associated with it.\n",
    "\n",
    "However, note that the `longvar` we extracted is not equivalent to the actual PIC-SURE concept path needed to query for this variable. "
   ]
  },
  {
   "cell_type": "markdown",
   "id": "e6df94e4",
   "metadata": {},
   "source": [
    "*We can filter for specific studies after this and then extract the longitudinal variable names (note that longvar is not equivalent to the actual PIC-SURE concept path, will need to use original name from lipid vars); you won't be able to use the table above by itself to get the data of interest*"
   ]
  },
  {
   "cell_type": "markdown",
   "id": "d6b7cf1a",
   "metadata": {},
   "source": [
    "### Isolate variables of interest\n",
    "\n",
    "In this example, we will choose to further investigate the first longitudinal variable in the `longitudinal_lipid_vars` dataframe we generated above."
   ]
  },
  {
   "cell_type": "code",
   "execution_count": null,
   "id": "41b05036",
   "metadata": {},
   "outputs": [],
   "source": [
    "my_variable = longitudinal_lipid_vars['longvar'][0]\n",
    "print(my_variable)"
   ]
  },
  {
   "cell_type": "markdown",
   "id": "cbf635d7",
   "metadata": {},
   "source": [
    "To add the longitudinal variable of interest to our PIC-SURE query, we will need to search for our variable within the overall data dictionary we created before (`long_info`)."
   ]
  },
  {
   "cell_type": "markdown",
   "id": "05fa7906",
   "metadata": {},
   "source": [
    "*Note: There are some related variables that have minor text differences. The workaround here is to separate the variable into parts. Here, we separate* `longvar` *where it says \"exam\" or \"visit\" into the variable* `keywords`*. Then we check to see if each of these parts are in the variable name.*\n",
    "\n",
    "*This workaround does not work for every variable, so be sure to double check that you are selecting all longitudinal variables of interest.*"
   ]
  },
  {
   "cell_type": "code",
   "execution_count": null,
   "id": "eacaa348",
   "metadata": {},
   "outputs": [],
   "source": [
    "# Split my_variable into separate strings wherever 'exam' or 'visit' is\n",
    "keywords = re.split('exam|visit', my_variable)\n",
    "keywords"
   ]
  },
  {
   "cell_type": "code",
   "execution_count": null,
   "id": "d136f928",
   "metadata": {},
   "outputs": [],
   "source": [
    "# Quick function that returns how many of the keywords match the variable\n",
    "def check_keywords(variable, keywords):\n",
    "    final_result = []\n",
    "    for var in variable:\n",
    "        result = 0\n",
    "        var = var.lower()\n",
    "        for i in keywords:\n",
    "            if i in var:\n",
    "                result += 1\n",
    "        final_result.append(result)\n",
    "    return final_result"
   ]
  },
  {
   "cell_type": "code",
   "execution_count": null,
   "id": "ef07621a",
   "metadata": {},
   "outputs": [],
   "source": [
    "# Save the counts of keywords that match the variable to test_val\n",
    "test_val = check_keywords(variablesDict['name'], keywords)\n",
    "variablesDict['test_val'] = test_val\n",
    "# Find variables where all keywords match the variable\n",
    "mask = variablesDict['test_val'] == len(keywords)\n",
    "# Filter to these variables\n",
    "query_vars = variablesDict[mask]\n",
    "qvars = query_vars['name']\n",
    "qvars"
   ]
  },
  {
   "cell_type": "markdown",
   "id": "24865b81",
   "metadata": {},
   "source": [
    "The resulting `qvars` variable contains the variables we will want to add to our query. "
   ]
  },
  {
   "cell_type": "markdown",
   "id": "bcce898d",
   "metadata": {},
   "source": [
    "### Create & run query\n",
    "First, we will create a new query object."
   ]
  },
  {
   "cell_type": "code",
   "execution_count": null,
   "id": "c2297c9e",
   "metadata": {},
   "outputs": [],
   "source": [
    "my_query = resource.query()"
   ]
  },
  {
   "cell_type": "markdown",
   "id": "c311e246",
   "metadata": {},
   "source": [
    "We will use the `query.anyof().add()` method. This will allow us to include all input variables, but only patient records that contain at least one non-null value for those variables in the output. See the `1_PICSURE_API_101.ipynb` notebook for a more in depth explanation of query methods."
   ]
  },
  {
   "cell_type": "code",
   "execution_count": null,
   "id": "53fea8ea",
   "metadata": {},
   "outputs": [],
   "source": [
    "my_query.anyof().add(qvars)"
   ]
  },
  {
   "cell_type": "markdown",
   "id": "9c8c1b69",
   "metadata": {},
   "source": [
    "#### Update consent codes if necessary\n",
    "Uncomment this code below and run as necessary to restrict your query to certain consent codes.\n",
    "In the current example, the query is restricted to the 'phs000179.c2' consent code."
   ]
  },
  {
   "cell_type": "code",
   "execution_count": null,
   "id": "bc8517e3",
   "metadata": {},
   "outputs": [],
   "source": [
    "# Delete current consents\n",
    "#my_query.filter().delete(\"\\\\_consents\\\\\")\n",
    "\n",
    "# Add new consents\n",
    "#my_query.filter().add(\"\\\\_consents\\\\\", ['phs000179.c2'])"
   ]
  },
  {
   "cell_type": "markdown",
   "id": "12b6bb87",
   "metadata": {},
   "source": [
    "We can now run our query:"
   ]
  },
  {
   "cell_type": "code",
   "execution_count": null,
   "id": "6d5964b1",
   "metadata": {},
   "outputs": [],
   "source": [
    "query_result = my_query.getResultsDataFrame(low_memory=False)"
   ]
  },
  {
   "cell_type": "markdown",
   "id": "9a02a5e9",
   "metadata": {},
   "source": [
    "Our dataframe contains each exam / visit for the longitudinal variable of interest, with each row representing a patient. In order to be included in the output, each patient must have at least one reported value for one of the exams / visits for the variable of interest"
   ]
  },
  {
   "cell_type": "code",
   "execution_count": null,
   "id": "31ea09de",
   "metadata": {},
   "outputs": [],
   "source": [
    "query_result"
   ]
  },
  {
   "cell_type": "code",
   "execution_count": null,
   "id": "302e576d",
   "metadata": {},
   "outputs": [],
   "source": []
  }
 ],
 "metadata": {
  "kernelspec": {
   "display_name": "conda_python3",
   "language": "python",
   "name": "conda_python3"
  },
  "language_info": {
   "codemirror_mode": {
    "name": "ipython",
    "version": 3
   },
   "file_extension": ".py",
   "mimetype": "text/x-python",
   "name": "python",
   "nbconvert_exporter": "python",
   "pygments_lexer": "ipython3",
   "version": "3.6.13"
  }
 },
 "nbformat": 4,
 "nbformat_minor": 5
}
