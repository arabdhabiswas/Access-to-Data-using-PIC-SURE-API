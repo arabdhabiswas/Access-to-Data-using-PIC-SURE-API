{
 "cells": [
  {
   "cell_type": "markdown",
   "id": "copyrighted-afghanistan",
   "metadata": {},
   "source": [
    "# Identifying and Extracting Longitudinal Variables using R PIC-SURE API"
   ]
  },
  {
   "cell_type": "markdown",
   "id": "natural-dietary",
   "metadata": {},
   "source": [
    "This tutorial notebook will demonstrate how to idetify and extract longitudinal variables using the R PIC-SURE API. Longitudinal variables are defined as containing multiple 'Exam' or 'Visit' descriptions within their concept path. \n",
    "\n",
    "In this example, we will find the patient level data for a lipid-related longitudinal variable within the Framingham Heart study. We will:\n",
    "1. Identify what longitudinal variables are associated with the keywords of interest (lipid, triglyceride), and how many exams / visits are associated with each one\n",
    "2. Select a longitudinal variable of interest from a specific study (Framingham heart study)\n",
    "3. Extract patient level data into a dataframe where each rows represent patients and columns represent visits"
   ]
  },
  {
   "cell_type": "markdown",
   "id": "passing-custom",
   "metadata": {},
   "source": [
    "For a more basic introduction to the R PIC-SURE API, see the `1_PICSURE_API_101.ipynb` notebook.\n",
    "\n",
    "**Before running this notebook, please be sure to get a user-specific security token. For more information about how to proceed, see the \"Get your security token\" instructions in the [README.md](https://github.com/hms-dbmi/Access-to-Data-using-PIC-SURE-API/tree/harmonized_lipid_measurements_example/NHLBI_BioData_Catalyst#get-your-security-token).**"
   ]
  },
  {
   "cell_type": "markdown",
   "id": "contrary-trouble",
   "metadata": {},
   "source": [
    "## Environment Set-Up"
   ]
  },
  {
   "cell_type": "markdown",
   "id": "noted-condition",
   "metadata": {},
   "source": [
    "### System Requirements\n",
    "R >= 3.4"
   ]
  },
  {
   "cell_type": "markdown",
   "id": "structural-brother",
   "metadata": {},
   "source": [
    "### Install Packages"
   ]
  },
  {
   "cell_type": "code",
   "execution_count": null,
   "id": "postal-mailman",
   "metadata": {},
   "outputs": [],
   "source": [
    "source(\"R_lib/requirements.R\")"
   ]
  },
  {
   "cell_type": "markdown",
   "id": "surprised-genealogy",
   "metadata": {},
   "source": [
    "Install latest R PIC-SURE API libraries from github"
   ]
  },
  {
   "cell_type": "code",
   "execution_count": null,
   "id": "grand-robin",
   "metadata": {},
   "outputs": [],
   "source": [
    "Sys.setenv(TAR = \"/bin/tar\")\n",
    "options(unzip = \"internal\")\n",
    "install.packages(\"https://cran.r-project.org/src/contrib/Archive/devtools/devtools_1.13.6.tar.gz\", repos=NULL, type=\"source\")\n",
    "install.packages(\"https://cran.r-project.org/src/contrib/R6_2.5.0.tar.gz\", repos=NULL, type=\"source\")\n",
    "install.packages(\"https://cran.r-project.org/src/contrib/hash_2.2.6.1.tar.gz\", repos=NULL, type=\"source\")\n",
    "install.packages(c(\"urltools\"),repos = \"http://cran.us.r-project.org\")\n",
    "devtools::install_github(\"hms-dbmi/pic-sure-r-client\", force=T)\n",
    "devtools::install_github(\"hms-dbmi/pic-sure-r-adapter-hpds\", force=T)\n",
    "devtools::install_github(\"hms-dbmi/pic-sure-biodatacatalyst-r-adapter-hpds\", force=T)"
   ]
  },
  {
   "cell_type": "markdown",
   "id": "central-habitat",
   "metadata": {},
   "source": [
    "Load user-defined functions"
   ]
  },
  {
   "cell_type": "code",
   "execution_count": null,
   "id": "yellow-seafood",
   "metadata": {},
   "outputs": [],
   "source": [
    "source(\"R_lib/utils.R\")"
   ]
  },
  {
   "cell_type": "markdown",
   "id": "collaborative-vegetation",
   "metadata": {},
   "source": [
    "## Connecting to a PIC-SURE Network\n",
    "**Again, before running this notebook, please be sure to get a user-specific security token. For more information about how to proceed, see the \"Get your security token\" instructions in the [README.md](https://github.com/hms-dbmi/Access-to-Data-using-PIC-SURE-API/tree/harmonized_lipid_measurements_example/NHLBI_BioData_Catalyst#get-your-security-token).**"
   ]
  },
  {
   "cell_type": "code",
   "execution_count": null,
   "id": "freelance-confidentiality",
   "metadata": {},
   "outputs": [],
   "source": [
    "PICSURE_network_URL <- \"https://picsure.biodatacatalyst.nhlbi.nih.gov/picsure\"\n",
    "resource_id <- \"02e23f52-f354-4e8b-992c-d37c8b9ba140\"\n",
    "token_file <- \"token.txt\""
   ]
  },
  {
   "cell_type": "code",
   "execution_count": null,
   "id": "emerging-integrity",
   "metadata": {},
   "outputs": [],
   "source": [
    "token <- scan(token_file, what = \"character\")\n"
   ]
  },
  {
   "cell_type": "code",
   "execution_count": null,
   "id": "united-patrol",
   "metadata": {},
   "outputs": [],
   "source": [
    "myconnection <- picsure::connect(url = PICSURE_network_URL,\n",
    "                                 token = token)"
   ]
  },
  {
   "cell_type": "code",
   "execution_count": null,
   "id": "frank-norwegian",
   "metadata": {},
   "outputs": [],
   "source": [
    "resource <- bdc::get.resource(myconnection,\n",
    "                               resourceUUID = resource_id)"
   ]
  },
  {
   "cell_type": "markdown",
   "id": "interested-training",
   "metadata": {},
   "source": [
    "## Longitudinal Lipid Variable Example\n",
    "Example showing how to extract lipid measurements from multiple visits for different cohorts\n",
    "\n",
    "### Access the data\n",
    "First, we will create a multiIndex variable dictionary of all variables we have access to."
   ]
  },
  {
   "cell_type": "code",
   "execution_count": null,
   "id": "falling-cambridge",
   "metadata": {},
   "outputs": [],
   "source": [
    "varDict <- bdc::find.in.dictionary(resource) %>% bdc::extract.entries() # all variables\n",
    "multiindex <- get_multiIndex_variablesDict(varDict) # get multiindex table of all variables"
   ]
  },
  {
   "cell_type": "markdown",
   "id": "partial-cabin",
   "metadata": {},
   "source": [
    "In this example, we are interested in variables related to lipids. We can find all variables related to the search terms 'lipid' and 'triglyceride' through applying the following filter on the multiIndex dictionary:"
   ]
  },
  {
   "cell_type": "code",
   "execution_count": null,
   "id": "magnetic-anthony",
   "metadata": {},
   "outputs": [],
   "source": [
    "lipid_vars <- multiindex %>% filter(grepl('triglyceride', name, ignore.case = TRUE) |\n",
    "                                   grepl('lipid', name, ignore.case = TRUE))\n",
    "lipid_vars"
   ]
  },
  {
   "cell_type": "markdown",
   "id": "happy-payroll",
   "metadata": {},
   "source": [
    "### Identify the longitudinal lipid variables\n",
    "This block of code does the following:\n",
    "- uses the multiindex dataframe containing variables which are related to 'lipid' or 'triglyceride'\n",
    "- filters for variables with keywords 'exam #' or 'visit #'\n",
    "- extracts the exam number of each variable into column `exam_number`\n",
    "- groups variables by study (`level_0`) and longitudinal variable (`longvar`)\n",
    "- returns a table showing the variables that have more than one exam recorded (longitudinal variables?)"
   ]
  },
  {
   "cell_type": "code",
   "execution_count": null,
   "id": "south-compiler",
   "metadata": {},
   "outputs": [],
   "source": [
    "longitudinal_lipid_vars <- lipid_vars %>% \n",
    "\n",
    "  # filter for longitudinal varibles; here defined as variable names containing 'exam' or 'visit' (case insensitive)\n",
    "  filter((grepl('Exam \\\\d+', name, ignore.case = TRUE) | \n",
    "         grepl('Visit \\\\d+', name, ignore.case = TRUE))) %>%\n",
    "\n",
    "  # extract the exam / visit number and store it as a new variable: 'exam_number'\n",
    "  mutate(exam_number = str_extract(name, regex(\"(exam \\\\d+)|(visit \\\\d+)\", ignore_case=T)),\n",
    "         \n",
    "         # extract the longitudinal variable name by removing the exam / visit number and store as new variable: 'longvar'\n",
    "         longvar =  str_replace(name, regex('(exam \\\\d+.$)|(visit \\\\d+.$)', ignore_case = T), '')) %>%\n",
    "\n",
    "  # group our variable data by study name (level_0) and longitudinal variable name (longvar)\n",
    "  group_by(level_0, longvar) %>%\n",
    "\n",
    "  # count number of exams / visits within each distinct study - variable pairing and store as new variable: 'n_exams'\n",
    "  summarise(n_exams = n_distinct(exam_number)) %>% \n",
    "\n",
    "  # filter results to only include variables which have more than one exam / visit (n_exams > 1)\n",
    "  filter(n_exams > 1) %>%\n",
    "\n",
    "  # sort results by number of exams / visits \n",
    "  arrange(desc(n_exams))\n",
    "\n",
    "\n",
    "longitudinal_lipid_vars\n",
    "   "
   ]
  },
  {
   "cell_type": "markdown",
   "id": "fourth-breed",
   "metadata": {},
   "source": [
    "Now that we know which longitudinal variables are available to us, we can choose a variable of interest and extract the patient and visit level data associated with it.\n",
    "\n",
    "However, note that the 'longvar' we extracted is not equivalent to the actual PIC-SURE concept path needed to query for this variable. "
   ]
  },
  {
   "cell_type": "markdown",
   "id": "buried-retrieval",
   "metadata": {},
   "source": [
    "*We can filter for specific studies after this and then extract the longitudinal variable names (note that longvar is not equivalent to the actual PIC-SURE concept path, will need to use original name from lipid vars); you won't be able to use the table above by itself to get the data of interest*"
   ]
  },
  {
   "cell_type": "markdown",
   "id": "concerned-carpet",
   "metadata": {},
   "source": [
    "### Isolate variables of interest\n",
    "\n",
    "In this example, we will choose to further investigate the first longitudinal variable in the `longitudinal_lipid_vars` dataframe we generated above."
   ]
  },
  {
   "cell_type": "code",
   "execution_count": null,
   "id": "early-cartridge",
   "metadata": {},
   "outputs": [],
   "source": [
    "my_variable <- longitudinal_lipid_vars$longvar[1]\n",
    "print(my_variable)"
   ]
  },
  {
   "cell_type": "markdown",
   "id": "voluntary-rescue",
   "metadata": {},
   "source": [
    "To add the longitudinal variable of interest to our PIC-SURE query, we will need to search for our variable within the overal multiindex data dictionary we created before (`multiindex`)"
   ]
  },
  {
   "cell_type": "code",
   "execution_count": null,
   "id": "anticipated-globe",
   "metadata": {},
   "outputs": [],
   "source": [
    "# remove all punctuation when searching as R has issues with many characters\n",
    "query_vars <- multiindex %>% \n",
    "  filter(grepl(str_replace_all(my_variable, '[[:punct:]]', ''),\n",
    "               str_replace_all(name, '[[:punct:]]', '')) &\n",
    "         grepl(regex('(exam \\\\d+.$)|(visit \\\\d+.$)', ignore_case = T), tolower(name))) %>%\n",
    "  pull(name)\n",
    "\n",
    "query_vars\n"
   ]
  },
  {
   "cell_type": "code",
   "execution_count": null,
   "id": "latin-request",
   "metadata": {},
   "outputs": [],
   "source": [
    "# remove all punctuation when searching as R has issues with many characters\n",
    "query_vars <- multiindex %>% \n",
    "  filter(grepl(str_replace_all(my_variable, '[[:punct:]]', ''),\n",
    "               str_replace_all(name, '[[:punct:]]', '')) &\n",
    "         grepl(regex('(exam \\\\d+.$)|(visit \\\\d+.$)', ignore_case = T), tolower(name))) %>%\n",
    "  pull(name)\n",
    "\n",
    "query_vars"
   ]
  },
  {
   "cell_type": "markdown",
   "id": "dirty-denial",
   "metadata": {},
   "source": [
    "The resulting `query_vars` variable contains the variables we will want to add to our query. "
   ]
  },
  {
   "cell_type": "markdown",
   "id": "underlying-andorra",
   "metadata": {},
   "source": [
    "### Create & run query\n",
    "First, we will create a new query object."
   ]
  },
  {
   "cell_type": "code",
   "execution_count": null,
   "id": "breathing-painting",
   "metadata": {},
   "outputs": [],
   "source": [
    "my_query <- bdc::new.query(resource = resource)"
   ]
  },
  {
   "cell_type": "markdown",
   "id": "spare-attitude",
   "metadata": {},
   "source": [
    "We will use the `bdc::query.select.add()` method, as we want to include all variables in `query_vars`. See the `1_PICSURE_API_101.ipynb` notebook for a more in depth explanation of query methods."
   ]
  },
  {
   "cell_type": "code",
   "execution_count": null,
   "id": "impressive-shannon",
   "metadata": {},
   "outputs": [],
   "source": [
    "bdc::query.select.add(query = my_query,\n",
    "                      keys = lapply(query_vars, as.character))"
   ]
  },
  {
   "cell_type": "markdown",
   "id": "criminal-prince",
   "metadata": {},
   "source": [
    "We can now run our query:"
   ]
  },
  {
   "cell_type": "code",
   "execution_count": null,
   "id": "useful-holly",
   "metadata": {},
   "outputs": [],
   "source": [
    "my_df <- bdc::query.run(my_query, result.type = \"dataframe\")"
   ]
  },
  {
   "cell_type": "markdown",
   "id": "fluid-retailer",
   "metadata": {},
   "source": [
    "Our dataframe contains each exam / visit for the longitudinal variable of interest, with each row representing a patient."
   ]
  },
  {
   "cell_type": "code",
   "execution_count": null,
   "id": "artificial-adelaide",
   "metadata": {},
   "outputs": [],
   "source": [
    "my_df"
   ]
  },
  {
   "cell_type": "code",
   "execution_count": null,
   "id": "detailed-marijuana",
   "metadata": {},
   "outputs": [],
   "source": []
  },
  {
   "cell_type": "code",
   "execution_count": null,
   "id": "terminal-crisis",
   "metadata": {},
   "outputs": [],
   "source": []
  },
  {
   "cell_type": "code",
   "execution_count": null,
   "id": "exempt-paris",
   "metadata": {},
   "outputs": [],
   "source": []
  },
  {
   "cell_type": "code",
   "execution_count": null,
   "id": "otherwise-failing",
   "metadata": {},
   "outputs": [],
   "source": []
  },
  {
   "cell_type": "code",
   "execution_count": null,
   "id": "behavioral-surgery",
   "metadata": {},
   "outputs": [],
   "source": []
  },
  {
   "cell_type": "code",
   "execution_count": null,
   "id": "measured-mention",
   "metadata": {},
   "outputs": [],
   "source": []
  },
  {
   "cell_type": "code",
   "execution_count": null,
   "id": "musical-scroll",
   "metadata": {},
   "outputs": [],
   "source": []
  }
 ],
 "metadata": {
  "kernelspec": {
   "display_name": "R",
   "language": "R",
   "name": "ir"
  },
  "language_info": {
   "codemirror_mode": "r",
   "file_extension": ".r",
   "mimetype": "text/x-r-source",
   "name": "R",
   "pygments_lexer": "r",
   "version": "4.0.3"
  }
 },
 "nbformat": 4,
 "nbformat_minor": 5
}
