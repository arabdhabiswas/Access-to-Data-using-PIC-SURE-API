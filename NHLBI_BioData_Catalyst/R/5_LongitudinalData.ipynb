{
 "cells": [
  {
   "cell_type": "markdown",
   "id": "9393aad0",
   "metadata": {},
   "source": [
    "# Identifying and Extracting Longitudinal Variables using R PIC-SURE API"
   ]
  },
  {
   "cell_type": "markdown",
   "id": "4b71fda3",
   "metadata": {},
   "source": [
    "This tutorial notebook will demonstrate how to identify and extract longitudinal variables using the R PIC-SURE API. Longitudinal variables are defined as containing multiple 'Exam' or 'Visit' descriptions within their concept path. \n",
    "\n",
    "In this example, we will find the patient level data for a lipid-related longitudinal variable within the Framingham Heart study. We will:\n",
    "1. Identify what longitudinal variables are associated with the keywords of interest (lipid, triglyceride), and how many exams / visits are associated with each one\n",
    "2. Select a longitudinal variable of interest from a specific study (Framingham heart study)\n",
    "3. Extract patient level data into a dataframe where each rows represent patients and columns represent visits"
   ]
  },
  {
   "cell_type": "markdown",
   "id": "40883738",
   "metadata": {},
   "source": [
    "For a more basic introduction to the R PIC-SURE API, see the `1_PICSURE_API_101.ipynb` notebook.\n",
    "\n",
    "**Before running this notebook, please be sure to get a user-specific security token. For more information about how to proceed, see the \"Get your security token\" instructions in the [README.md](https://github.com/hms-dbmi/Access-to-Data-using-PIC-SURE-API/tree/master/NHLBI_BioData_Catalyst#get-your-security-token).**"
   ]
  },
  {
   "cell_type": "markdown",
   "id": "3d9bf9cc",
   "metadata": {},
   "source": [
    "## Environment Set-Up"
   ]
  },
  {
   "cell_type": "markdown",
   "id": "b6b35ca4",
   "metadata": {},
   "source": [
    "### System Requirements\n",
    "R >= 3.4"
   ]
  },
  {
   "cell_type": "markdown",
   "id": "0a84ad92",
   "metadata": {},
   "source": [
    "### Install Packages"
   ]
  },
  {
   "cell_type": "code",
   "execution_count": null,
   "id": "34a56d86",
   "metadata": {
    "scrolled": true
   },
   "outputs": [],
   "source": [
    "source(\"R_lib/requirements.R\")"
   ]
  },
  {
   "cell_type": "markdown",
   "id": "3f1b4641",
   "metadata": {},
   "source": [
    "Install latest R PIC-SURE API libraries from github"
   ]
  },
  {
   "cell_type": "code",
   "execution_count": null,
   "id": "e1331e62",
   "metadata": {
    "scrolled": true
   },
   "outputs": [],
   "source": [
    "Sys.setenv(TAR = \"/bin/tar\")\n",
    "options(unzip = \"internal\")\n",
    "install.packages(\"https://cran.r-project.org/src/contrib/Archive/devtools/devtools_1.13.6.tar.gz\", repos=NULL, type=\"source\")\n",
    "install.packages(\"https://cran.r-project.org/src/contrib/R6_2.5.0.tar.gz\", repos=NULL, type=\"source\")\n",
    "install.packages(\"https://cran.r-project.org/src/contrib/hash_2.2.6.1.tar.gz\", repos=NULL, type=\"source\")\n",
    "install.packages(c(\"urltools\"),repos = \"http://cran.us.r-project.org\")\n",
    "devtools::install_github(\"hms-dbmi/pic-sure-r-client\", force=T)\n",
    "devtools::install_github(\"hms-dbmi/pic-sure-r-adapter-hpds\", force=T)\n",
    "devtools::install_github(\"hms-dbmi/pic-sure-biodatacatalyst-r-adapter-hpds\", force=T)"
   ]
  },
  {
   "cell_type": "markdown",
   "id": "c145efdb",
   "metadata": {},
   "source": [
    "Load user-defined functions"
   ]
  },
  {
   "cell_type": "code",
   "execution_count": null,
   "id": "03b10c25",
   "metadata": {},
   "outputs": [],
   "source": [
    "source(\"R_lib/utils.R\")"
   ]
  },
  {
   "cell_type": "markdown",
   "id": "11e46794",
   "metadata": {},
   "source": [
    "## Connecting to a PIC-SURE Network\n",
    "**Again, before running this notebook, please be sure to get a user-specific security token. For more information about how to proceed, see the \"Get your security token\" instructions in the [README.md](https://github.com/hms-dbmi/Access-to-Data-using-PIC-SURE-API/tree/master/NHLBI_BioData_Catalyst#get-your-security-token).**"
   ]
  },
  {
   "cell_type": "code",
   "execution_count": null,
   "id": "bb069483",
   "metadata": {},
   "outputs": [],
   "source": [
    "PICSURE_network_URL <- \"https://picsure.biodatacatalyst.nhlbi.nih.gov/picsure\"\n",
    "resource_id <- \"02e23f52-f354-4e8b-992c-d37c8b9ba140\"\n",
    "token_file <- \"token.txt\""
   ]
  },
  {
   "cell_type": "code",
   "execution_count": null,
   "id": "53e23fd0",
   "metadata": {},
   "outputs": [],
   "source": [
    "token <- scan(token_file, what = \"character\")"
   ]
  },
  {
   "cell_type": "code",
   "execution_count": null,
   "id": "803601df",
   "metadata": {},
   "outputs": [],
   "source": [
    "myconnection <- picsure::connect(url = PICSURE_network_URL,\n",
    "                                 token = token)"
   ]
  },
  {
   "cell_type": "code",
   "execution_count": null,
   "id": "4b1bc155",
   "metadata": {},
   "outputs": [],
   "source": [
    "resource <- bdc::get.resource(myconnection,\n",
    "                               resourceUUID = resource_id)"
   ]
  },
  {
   "cell_type": "markdown",
   "id": "f21b5bc1",
   "metadata": {},
   "source": [
    "## Longitudinal Lipid Variable Example\n",
    "Example showing how to extract lipid measurements from multiple visits for different cohorts\n",
    "\n",
    "### Access the data\n",
    "First, we will create multiIndex variable dictionaries of all variables that contain 'lipid' or 'triglyceride'. We will then combine these multiIndex variable dictionaries into `lipid_vars`."
   ]
  },
  {
   "cell_type": "code",
   "execution_count": null,
   "id": "d2476fca",
   "metadata": {},
   "outputs": [],
   "source": [
    "lipid_varDict <- bdc::find.in.dictionary(resource, 'lipid') %>% bdc::extract.entries()\n",
    "triglyceride_varDict <- bdc::find.in.dictionary(resource, 'triglyceride') %>% bdc::extract.entries()\n",
    "\n",
    "lipid_multiindex <- get_multiIndex_variablesDict(lipid_varDict)\n",
    "triglyceride_multiindex <- get_multiIndex_variablesDict(triglyceride_varDict)"
   ]
  },
  {
   "cell_type": "code",
   "execution_count": null,
   "id": "e7d3b6c8",
   "metadata": {},
   "outputs": [],
   "source": [
    "lipid_vars <- rbind(lipid_multiindex, triglyceride_multiindex)\n",
    "lipid_vars"
   ]
  },
  {
   "cell_type": "markdown",
   "id": "ad4926ba",
   "metadata": {},
   "source": [
    "### Identify the longitudinal lipid variables\n",
    "This block of code does the following:\n",
    "- uses the multiindex dataframe containing variables which are related to 'lipid' or 'triglyceride'\n",
    "- filters for variables with keywords 'exam #' or 'visit #'\n",
    "- extracts the exam number of each variable into column `exam_number`\n",
    "- groups variables by study (`level_0`) and longitudinal variable (`longvar`)\n",
    "- returns a table showing the variables that have more than one exam recorded"
   ]
  },
  {
   "cell_type": "code",
   "execution_count": null,
   "id": "c29b3fd0",
   "metadata": {
    "scrolled": true
   },
   "outputs": [],
   "source": [
    "longitudinal_lipid_vars <- lipid_vars %>%\n",
    "    # Filter to variables containing exam # or visit #\n",
    "    filter((grepl('exam \\\\d+', name, ignore.case=TRUE) |\n",
    "          grepl('visit \\\\d+', name, ignore.case=TRUE))) %>%\n",
    "    # Save exam # as exam_number and variable without exam # info as longvar\n",
    "    mutate(exam_number = str_extract(name, regex(\"(exam \\\\d+)|(visit \\\\d+)\", ignore_case=T)),\n",
    "          longvar =  tolower(str_replace_all(name, regex('(exam|visit) \\\\d+', ignore_case = T), 'exam'))) %>%\n",
    "    # Group by level_0 (study) and longvar\n",
    "    group_by(level_0, longvar) %>%\n",
    "    # Count number of exams for each longvar\n",
    "    summarise(n_exams = n_distinct(exam_number)) %>%\n",
    "    # Find longvars with 2+ exams (longitudinal variables)\n",
    "    filter(n_exams > 1) %>% \n",
    "    arrange(desc(n_exams))\n",
    "    \n",
    "longitudinal_lipid_vars"
   ]
  },
  {
   "cell_type": "markdown",
   "id": "ffe90db8",
   "metadata": {},
   "source": [
    "*Note: Some variables have capitalization differences, which is why* `longvar` *has been changed to lowercase.*"
   ]
  },
  {
   "cell_type": "markdown",
   "id": "fef9740e",
   "metadata": {},
   "source": [
    "Now that we know which longitudinal variables are available to us, we can choose a variable of interest and extract the patient and visit level data associated with it.\n",
    "\n",
    "However, note that the `longvar` we extracted is not equivalent to the actual PIC-SURE concept path needed to query for this variable. "
   ]
  },
  {
   "cell_type": "markdown",
   "id": "49b136f9",
   "metadata": {},
   "source": [
    "*Now we can filter for specific studies and extract the longitudinal variable names. Note that* `longvar` *is not equivalent to the actual PIC-SURE concept path, we will need to use the original name from* `multiindex`*. You will not be able to use only the table above to get the variables of interest.*"
   ]
  },
  {
   "cell_type": "markdown",
   "id": "82a53e2c",
   "metadata": {},
   "source": [
    "### Isolate variables of interest\n",
    "\n",
    "In this example, we will choose to further investigate the first longitudinal variable in the `longitudinal_lipid_vars` dataframe we generated above."
   ]
  },
  {
   "cell_type": "code",
   "execution_count": null,
   "id": "2c8f5934",
   "metadata": {},
   "outputs": [],
   "source": [
    "my_variable <- longitudinal_lipid_vars$longvar[1]\n",
    "print(my_variable)"
   ]
  },
  {
   "cell_type": "markdown",
   "id": "779b4687",
   "metadata": {},
   "source": [
    "To add the longitudinal variable of interest to our PIC-SURE query, we will need to search for our variable within the overall multiindex data dictionary we created before (`multiindex`)"
   ]
  },
  {
   "cell_type": "markdown",
   "id": "8c40b5ea",
   "metadata": {},
   "source": [
    "*Note: There are some variables that have minor text differences. The workaround here is to separate the variable into parts. Here, we separate* `longvar` *where it says \"exam\" or \"visit\" into the variable* `keywords`*. Then we check to see if each of these parts are in the variable name.*\n",
    "\n",
    "*This workaround does not work for every variable, so be sure to double check that you are selecting all longitudinal variables of interest.*"
   ]
  },
  {
   "cell_type": "code",
   "execution_count": null,
   "id": "a8277c3c",
   "metadata": {},
   "outputs": [],
   "source": [
    "# Getting rid of punctuation that gives R trouble\n",
    "fixed_my_variable <- str_replace_all(my_variable, '[[:punct:]]', '')\n",
    "# Split the fixed_my_variable into separate strings wherever 'exam' or 'visit' is\n",
    "keywords <- unlist(strsplit(fixed_my_variable, c('exam','visit')))\n",
    "\n",
    "keywords"
   ]
  },
  {
   "cell_type": "code",
   "execution_count": null,
   "id": "4d0f3e1f",
   "metadata": {},
   "outputs": [],
   "source": [
    "# Filter the lipid_vars to get query variables\n",
    "query_vars <- lipid_vars %>%\n",
    "                mutate(new_name = tolower(str_replace_all(name, '[[:punct:]]', '')), # Get rid of punctuation from concept path and make lowercase\n",
    "                       test_val = sapply(keywords, # For each string in keywords,\n",
    "                                         grepl, # see if it is in...\n",
    "                                         new_name, # the concept path\n",
    "                                         ignore.case=TRUE),\n",
    "                      other = apply(test_val, 1, sum)) %>% # Count the number of \"TRUE\", or times that theres a keywords & new_name match\n",
    "                filter(other == length(keywords)) %>% # Keep only rows where all keywords matched new_name\n",
    "                pull(name) # Return only full concept paths\n",
    "query_vars"
   ]
  },
  {
   "cell_type": "markdown",
   "id": "ebca0221",
   "metadata": {},
   "source": [
    "The resulting `query_vars` variable contains the variables we will want to add to our query. "
   ]
  },
  {
   "cell_type": "markdown",
   "id": "1facb1d7",
   "metadata": {},
   "source": [
    "### Create & run query\n",
    "First, we will create a new query object."
   ]
  },
  {
   "cell_type": "code",
   "execution_count": null,
   "id": "841667f0",
   "metadata": {},
   "outputs": [],
   "source": [
    "my_query <- bdc::new.query(resource = resource)"
   ]
  },
  {
   "cell_type": "markdown",
   "id": "25de6ac5",
   "metadata": {},
   "source": [
    "We will use the `bdc::query.anyof.add()` method. This will allow us to include all input variables, but only patient records that contain at least one non-null value for those variables in the output. See the `1_PICSURE_API_101.ipynb` notebook for a more in depth explanation of query methods."
   ]
  },
  {
   "cell_type": "code",
   "execution_count": null,
   "id": "fc59864a",
   "metadata": {},
   "outputs": [],
   "source": [
    "bdc::query.anyof.add(query = my_query,\n",
    "                      keys = lapply(query_vars, as.character))"
   ]
  },
  {
   "cell_type": "markdown",
   "id": "1ea96430",
   "metadata": {},
   "source": [
    "#### Update consent codes if necessary\n",
    "Uncomment this code below and run as necessary to restrict your query to certain consent codes.\n",
    "In the current example, the query is restricted to the 'phs000179.c2' consent code."
   ]
  },
  {
   "cell_type": "code",
   "execution_count": null,
   "id": "cfa6c0d7",
   "metadata": {},
   "outputs": [],
   "source": [
    "# Delete current consents\n",
    "#bdc::query.filter.delete(query = my_query,\n",
    "#                      keys = \"\\\\_consents\\\\\")\n",
    "\n",
    "# Add in consents\n",
    "#bdc::query.filter.add(query = my_query,\n",
    "#                      keys = \"\\\\_consents\\\\\",\n",
    "#                      as.list(c(\"phs000179.c2\")))"
   ]
  },
  {
   "cell_type": "markdown",
   "id": "dc816904",
   "metadata": {},
   "source": [
    "We can now run our query:"
   ]
  },
  {
   "cell_type": "code",
   "execution_count": null,
   "id": "52d6563a",
   "metadata": {},
   "outputs": [],
   "source": [
    "my_df <- bdc::query.run(my_query, result.type = \"dataframe\")"
   ]
  },
  {
   "cell_type": "markdown",
   "id": "3d6b4196",
   "metadata": {},
   "source": [
    "Our dataframe contains each exam / visit for the longitudinal variable of interest, with each row representing a patient. In order to be included in the output, each patient must have at least one reported value for one of the exams / visits for the variable of interest"
   ]
  },
  {
   "cell_type": "code",
   "execution_count": null,
   "id": "c2ca1b74",
   "metadata": {},
   "outputs": [],
   "source": [
    "my_df"
   ]
  },
  {
   "cell_type": "code",
   "execution_count": null,
   "id": "3ee2e995",
   "metadata": {},
   "outputs": [],
   "source": []
  }
 ],
 "metadata": {
  "kernelspec": {
   "display_name": "R",
   "language": "R",
   "name": "ir"
  },
  "language_info": {
   "codemirror_mode": "r",
   "file_extension": ".r",
   "mimetype": "text/x-r-source",
   "name": "R",
   "pygments_lexer": "r",
   "version": "3.6.3"
  },
  "toc": {
   "base_numbering": 1,
   "nav_menu": {},
   "number_sections": true,
   "sideBar": true,
   "skip_h1_title": false,
   "title_cell": "Table of Contents",
   "title_sidebar": "Contents",
   "toc_cell": false,
   "toc_position": {},
   "toc_section_display": true,
   "toc_window_display": false
  }
 },
 "nbformat": 4,
 "nbformat_minor": 5
}
