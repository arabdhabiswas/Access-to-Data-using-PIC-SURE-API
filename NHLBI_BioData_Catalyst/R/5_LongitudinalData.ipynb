{
 "cells": [
  {
   "cell_type": "markdown",
   "id": "senior-vermont",
   "metadata": {},
   "source": [
    "# Identifying and Extracting Longitudinal Variables using R PIC-SURE API"
   ]
  },
  {
   "cell_type": "markdown",
   "id": "electric-palestine",
   "metadata": {},
   "source": [
    "This tutorial notebook will demonstrate how to idetify and extract longitudinal variables using the R PIC-SURE API. Longitudinal variables are defined as containing multiple 'Exam' or 'Visit' descriptions within their concept path. \n",
    "\n",
    "In this example, we will find the patient level data for a lipid-related longitudinal variable within the Framingham Heart study. We will:\n",
    "1. Identify what longitudinal variables are associated with the keywords of interest (lipid, triglyceride), and how many exams / visits are associated with each one\n",
    "2. Select a longitudinal variable of interest from a specific study (Framingham heart study)\n",
    "3. Extract patient level data into a dataframe where each rows represent patients and columns represent visits"
   ]
  },
  {
   "cell_type": "markdown",
   "id": "english-center",
   "metadata": {},
   "source": [
    "For a more basic introduction to the R PIC-SURE API, see the `1_PICSURE_API_101.ipynb` notebook.\n",
    "\n",
    "**Before running this notebook, please be sure to get a user-specific security token. For more information about how to proceed, see the \"Get your security token\" instructions in the [README.md](https://github.com/hms-dbmi/Access-to-Data-using-PIC-SURE-API/tree/harmonized_lipid_measurements_example/NHLBI_BioData_Catalyst#get-your-security-token).**"
   ]
  },
  {
   "cell_type": "markdown",
   "id": "differential-therapy",
   "metadata": {},
   "source": [
    "## Environment Set-Up"
   ]
  },
  {
   "cell_type": "markdown",
   "id": "universal-algeria",
   "metadata": {},
   "source": [
    "### System Requirements\n",
    "R >= 3.4"
   ]
  },
  {
   "cell_type": "markdown",
   "id": "finished-pension",
   "metadata": {},
   "source": [
    "### Install Packages"
   ]
  },
  {
   "cell_type": "code",
   "execution_count": null,
   "id": "adequate-particular",
   "metadata": {},
   "outputs": [],
   "source": [
    "source(\"R_lib/requirements.R\")"
   ]
  },
  {
   "cell_type": "markdown",
   "id": "amino-front",
   "metadata": {},
   "source": [
    "Install latest R PIC-SURE API libraries from github"
   ]
  },
  {
   "cell_type": "code",
   "execution_count": null,
   "id": "chief-subscriber",
   "metadata": {},
   "outputs": [],
   "source": [
    "Sys.setenv(TAR = \"/bin/tar\")\n",
    "options(unzip = \"internal\")\n",
    "install.packages(\"https://cran.r-project.org/src/contrib/Archive/devtools/devtools_1.13.6.tar.gz\", repos=NULL, type=\"source\")\n",
    "install.packages(\"https://cran.r-project.org/src/contrib/R6_2.5.0.tar.gz\", repos=NULL, type=\"source\")\n",
    "install.packages(\"https://cran.r-project.org/src/contrib/hash_2.2.6.1.tar.gz\", repos=NULL, type=\"source\")\n",
    "install.packages(c(\"urltools\"),repos = \"http://cran.us.r-project.org\")\n",
    "devtools::install_github(\"hms-dbmi/pic-sure-r-client\", force=T)\n",
    "devtools::install_github(\"hms-dbmi/pic-sure-r-adapter-hpds\", force=T)\n",
    "devtools::install_github(\"hms-dbmi/pic-sure-biodatacatalyst-r-adapter-hpds\", force=T)"
   ]
  },
  {
   "cell_type": "markdown",
   "id": "devoted-vertex",
   "metadata": {},
   "source": [
    "Load user-defined functions"
   ]
  },
  {
   "cell_type": "code",
   "execution_count": null,
   "id": "indonesian-power",
   "metadata": {},
   "outputs": [],
   "source": [
    "source(\"R_lib/utils.R\")"
   ]
  },
  {
   "cell_type": "markdown",
   "id": "disturbed-persian",
   "metadata": {},
   "source": [
    "## Connecting to a PIC-SURE Network\n",
    "**Again, before running this notebook, please be sure to get a user-specific security token. For more information about how to proceed, see the \"Get your security token\" instructions in the [README.md](https://github.com/hms-dbmi/Access-to-Data-using-PIC-SURE-API/tree/harmonized_lipid_measurements_example/NHLBI_BioData_Catalyst#get-your-security-token).**"
   ]
  },
  {
   "cell_type": "code",
   "execution_count": null,
   "id": "banner-scanner",
   "metadata": {},
   "outputs": [],
   "source": [
    "PICSURE_network_URL <- \"https://picsure.biodatacatalyst.nhlbi.nih.gov/picsure\"\n",
    "resource_id <- \"02e23f52-f354-4e8b-992c-d37c8b9ba140\"\n",
    "token_file <- \"token.txt\""
   ]
  },
  {
   "cell_type": "code",
   "execution_count": null,
   "id": "american-ground",
   "metadata": {},
   "outputs": [],
   "source": [
    "token <- scan(token_file, what = \"character\")\n"
   ]
  },
  {
   "cell_type": "code",
   "execution_count": null,
   "id": "express-wedding",
   "metadata": {},
   "outputs": [],
   "source": [
    "myconnection <- picsure::connect(url = PICSURE_network_URL,\n",
    "                                 token = token)"
   ]
  },
  {
   "cell_type": "code",
   "execution_count": null,
   "id": "protecting-family",
   "metadata": {},
   "outputs": [],
   "source": [
    "resource <- bdc::get.resource(myconnection,\n",
    "                               resourceUUID = resource_id)"
   ]
  },
  {
   "cell_type": "markdown",
   "id": "polyphonic-animal",
   "metadata": {},
   "source": [
    "## Longitudinal Lipid Variable Example\n",
    "Example showing how to extract lipid measurements from multiple visits for different cohorts\n",
    "\n",
    "### Access the data\n",
    "First, we will create a multiIndex variable dictionary of all variables we have access to."
   ]
  },
  {
   "cell_type": "code",
   "execution_count": null,
   "id": "cognitive-failure",
   "metadata": {},
   "outputs": [],
   "source": [
    "varDict <- bdc::find.in.dictionary(resource) %>% bdc::extract.entries() # all variables\n",
    "multiindex <- get_multiIndex_variablesDict(varDict) # get multiindex table of all variables"
   ]
  },
  {
   "cell_type": "markdown",
   "id": "magnetic-closure",
   "metadata": {},
   "source": [
    "In this example, we are interested in variables related to lipids. We can find all variables related to the search terms 'lipid' and 'triglyceride' through applying the following filter on the multiIndex dictionary:"
   ]
  },
  {
   "cell_type": "code",
   "execution_count": null,
   "id": "brilliant-childhood",
   "metadata": {},
   "outputs": [],
   "source": [
    "lipid_vars <- multiindex %>% filter(grepl('triglyceride', name, ignore.case = TRUE) |\n",
    "                                   grepl('lipid', name, ignore.case = TRUE))\n",
    "lipid_vars"
   ]
  },
  {
   "cell_type": "markdown",
   "id": "central-trouble",
   "metadata": {},
   "source": [
    "### Identify the longitudinal lipid variables\n",
    "This block of code does the following:\n",
    "- uses the multiindex dataframe containing variables which are related to 'lipid' or 'triglyceride'\n",
    "- filters for variables with keywords 'exam #' or 'visit #'\n",
    "- extracts the exam number of each variable into column `exam_number`\n",
    "- groups variables by study (`level_0`) and longitudinal variable (`longvar`)\n",
    "- returns a table showing the variables that have more than one exam recorded (longitudinal variables?)"
   ]
  },
  {
   "cell_type": "code",
   "execution_count": null,
   "id": "egyptian-breathing",
   "metadata": {},
   "outputs": [],
   "source": [
    "longitudinal_lipid_vars <- lipid_vars %>% \n",
    "\n",
    "  # filter for longitudinal varibles; here defined as variable names containing 'exam' or 'visit' (case insensitive)\n",
    "  filter((grepl('Exam \\\\d+', name, ignore.case = TRUE) | \n",
    "         grepl('Visit \\\\d+', name, ignore.case = TRUE))) %>%\n",
    "\n",
    "  # extract the exam / visit number and store it as a new variable: 'exam_number'\n",
    "  mutate(exam_number = str_extract(name, regex(\"(exam \\\\d+)|(visit \\\\d+)\", ignore_case=T)),\n",
    "         \n",
    "         # extract the longitudinal variable name by removing the exam / visit number and store as new variable: 'longvar'\n",
    "         longvar =  str_replace(name, regex('(exam \\\\d+.$)|(visit \\\\d+.$)', ignore_case = T), '')) %>%\n",
    "\n",
    "  # group our variable data by study name (level_0) and longitudinal variable name (longvar)\n",
    "  group_by(level_0, longvar) %>%\n",
    "\n",
    "  # count number of exams / visits within each distinct study - variable pairing and store as new variable: 'n_exams'\n",
    "  summarise(n_exams = n_distinct(exam_number)) %>% \n",
    "\n",
    "  # filter results to only include variables which have more than one exam / visit (n_exams > 1)\n",
    "  filter(n_exams > 1) %>%\n",
    "\n",
    "  # sort results by number of exams / visits \n",
    "  arrange(desc(n_exams))\n",
    "\n",
    "\n",
    "longitudinal_lipid_vars\n",
    "   "
   ]
  },
  {
   "cell_type": "markdown",
   "id": "recorded-adolescent",
   "metadata": {},
   "source": [
    "Now that we know which longitudinal variables are available to us, we can choose a variable of interest and extract the patient and visit level data associated with it.\n",
    "\n",
    "However, note that the 'longvar' we extracted is not equivalent to the actual PIC-SURE concept path needed to query for this variable. "
   ]
  },
  {
   "cell_type": "markdown",
   "id": "important-triangle",
   "metadata": {},
   "source": [
    "*We can filter for specific studies after this and then extract the longitudinal variable names (note that longvar is not equivalent to the actual PIC-SURE concept path, will need to use original name from lipid vars); you won't be able to use the table above by itself to get the data of interest*"
   ]
  },
  {
   "cell_type": "markdown",
   "id": "solid-school",
   "metadata": {},
   "source": [
    "### Isolate variables of interest\n",
    "\n",
    "In this example, we will choose to further investigate the first longitudinal variable in the `longitudinal_lipid_vars` dataframe we generated above."
   ]
  },
  {
   "cell_type": "code",
   "execution_count": null,
   "id": "beginning-beginning",
   "metadata": {},
   "outputs": [],
   "source": [
    "my_variable <- longitudinal_lipid_vars$longvar[1]\n",
    "print(my_variable)"
   ]
  },
  {
   "cell_type": "markdown",
   "id": "authentic-maintenance",
   "metadata": {},
   "source": [
    "To add the longitudinal variable of interest to our PIC-SURE query, we will need to search for our variable within the overal multiindex data dictionary we created before (`multiindex`)"
   ]
  },
  {
   "cell_type": "code",
   "execution_count": null,
   "id": "universal-vanilla",
   "metadata": {},
   "outputs": [],
   "source": [
    "# remove all punctuation when searching as R has issues with many characters\n",
    "query_vars <- multiindex %>% \n",
    "  filter(grepl(str_replace_all(my_variable, '[[:punct:]]', ''),\n",
    "               str_replace_all(name, '[[:punct:]]', '')) &\n",
    "         grepl(regex('(exam \\\\d+.$)|(visit \\\\d+.$)', ignore_case = T), tolower(name))) %>%\n",
    "  pull(name)\n",
    "\n",
    "query_vars\n"
   ]
  },
  {
   "cell_type": "code",
   "execution_count": null,
   "id": "radical-fiber",
   "metadata": {},
   "outputs": [],
   "source": [
    "# remove all punctuation when searching as R has issues with many characters\n",
    "query_vars <- multiindex %>% \n",
    "  filter(grepl(str_replace_all(my_variable, '[[:punct:]]', ''),\n",
    "               str_replace_all(name, '[[:punct:]]', '')) &\n",
    "         grepl(regex('(exam \\\\d+.$)|(visit \\\\d+.$)', ignore_case = T), tolower(name))) %>%\n",
    "  pull(name)\n",
    "\n",
    "query_vars"
   ]
  },
  {
   "cell_type": "markdown",
   "id": "reverse-titanium",
   "metadata": {},
   "source": [
    "The resulting `query_vars` variable contains the variables we will want to add to our query. "
   ]
  },
  {
   "cell_type": "markdown",
   "id": "canadian-computer",
   "metadata": {},
   "source": [
    "### Create & run query\n",
    "First, we will create a new query object."
   ]
  },
  {
   "cell_type": "code",
   "execution_count": null,
   "id": "parliamentary-campbell",
   "metadata": {},
   "outputs": [],
   "source": [
    "my_query <- bdc::new.query(resource = resource)"
   ]
  },
  {
   "cell_type": "markdown",
   "id": "breeding-darwin",
   "metadata": {},
   "source": [
    "We will use the `bdc::query.anyof.add()` method. This will allow us to include all input variables, but only patient records that contain at least one non-null value for those variables in the output. See the `1_PICSURE_API_101.ipynb` notebook for a more in depth explanation of query methods."
   ]
  },
  {
   "cell_type": "code",
   "execution_count": null,
   "id": "instant-scottish",
   "metadata": {},
   "outputs": [],
   "source": [
    "bdc::query.anyof.add(query = my_query,\n",
    "                      keys = lapply(query_vars, as.character))"
   ]
  },
  {
   "cell_type": "markdown",
   "id": "another-armenia",
   "metadata": {},
   "source": [
    "#### Update consent codes if necessary\n",
    "Uncomment this code below and run as necessary to restrict your query to certain consent codes.\n",
    "In the current example, the query is restricted to the 'phs000179.c2' consent code."
   ]
  },
  {
   "cell_type": "code",
   "execution_count": null,
   "id": "cultural-mountain",
   "metadata": {},
   "outputs": [],
   "source": [
    "# Delete current consents\n",
    "#bdc::query.filter.delete(query = my_query,\n",
    "#                      keys = \"\\\\_consents\\\\\")\n",
    "\n",
    "# Add in consents\n",
    "#bdc::query.filter.add(query = my_query,\n",
    "#                      keys = \"\\\\_consents\\\\\",\n",
    "#                      as.list(c(\"phs000179.c2\")))"
   ]
  },
  {
   "cell_type": "markdown",
   "id": "inner-schema",
   "metadata": {},
   "source": [
    "We can now run our query:"
   ]
  },
  {
   "cell_type": "code",
   "execution_count": null,
   "id": "important-error",
   "metadata": {},
   "outputs": [],
   "source": [
    "my_df <- bdc::query.run(my_query, result.type = \"dataframe\")"
   ]
  },
  {
   "cell_type": "markdown",
   "id": "drawn-input",
   "metadata": {},
   "source": [
    "Our dataframe contains each exam / visit for the longitudinal variable of interest, with each row representing a patient. In order to be included in the output, each patient must have at least one reported value for one of the exams / visits for the variable of interest"
   ]
  },
  {
   "cell_type": "code",
   "execution_count": null,
   "id": "artistic-equipment",
   "metadata": {},
   "outputs": [],
   "source": [
    "my_df"
   ]
  },
  {
   "cell_type": "code",
   "execution_count": null,
   "id": "declared-integration",
   "metadata": {},
   "outputs": [],
   "source": []
  },
  {
   "cell_type": "code",
   "execution_count": null,
   "id": "universal-gossip",
   "metadata": {},
   "outputs": [],
   "source": []
  },
  {
   "cell_type": "code",
   "execution_count": null,
   "id": "cosmetic-license",
   "metadata": {},
   "outputs": [],
   "source": []
  },
  {
   "cell_type": "code",
   "execution_count": null,
   "id": "opponent-terry",
   "metadata": {},
   "outputs": [],
   "source": []
  },
  {
   "cell_type": "code",
   "execution_count": null,
   "id": "associate-manner",
   "metadata": {},
   "outputs": [],
   "source": []
  },
  {
   "cell_type": "code",
   "execution_count": null,
   "id": "grave-rugby",
   "metadata": {},
   "outputs": [],
   "source": []
  },
  {
   "cell_type": "code",
   "execution_count": null,
   "id": "italic-third",
   "metadata": {},
   "outputs": [],
   "source": []
  }
 ],
 "metadata": {
  "kernelspec": {
   "display_name": "R",
   "language": "R",
   "name": "ir"
  },
  "language_info": {
   "codemirror_mode": "r",
   "file_extension": ".r",
   "mimetype": "text/x-r-source",
   "name": "R",
   "pygments_lexer": "r",
   "version": "4.0.3"
  }
 },
 "nbformat": 4,
 "nbformat_minor": 5
}
