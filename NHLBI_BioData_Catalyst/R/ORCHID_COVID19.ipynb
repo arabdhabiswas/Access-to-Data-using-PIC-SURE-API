{
 "cells": [
  {
   "cell_type": "markdown",
   "metadata": {},
   "source": [
    "# Version 0.1"
   ]
  },
  {
   "cell_type": "markdown",
   "metadata": {},
   "source": [
    "**Important information** \n",
    "\n",
    "This is a development version of the notebook reproducing the statistical analysis of the ORCHID trial. Even though the code producing the analyses and the plots will change and be refined, the libraries required to run the notebook will not change. Hence it can already be tested on computing platform to test that every thing works well regarding the packages installation and environment reproduction."
   ]
  },
  {
   "cell_type": "markdown",
   "metadata": {},
   "source": [
    "# ORCHID Clinical Trial"
   ]
  },
  {
   "cell_type": "markdown",
   "metadata": {},
   "source": [
    "Multi-center, double blinded, randomized clinical trial conducted to assess the efficacy of hydroxychloroquine in the treatment of COVID-19. Results published in JAMA on November 9th 2020m, [paper available here](https://jamanetwork.com/journals/jama/fullarticle/10.1001/jama.2020.22240?utm_campaign=articlePDF&utm_medium=articlePDFlink&utm_source=articlePDF&utm_content=jama.2020.22240)"
   ]
  },
  {
   "cell_type": "markdown",
   "metadata": {},
   "source": [
    "NHLBI made available the data to every authorized investigators. Hence, this notebook enables anybody with authorized credentials to reproduce the ORCHID clinical trial results by showing how to:\n",
    "1. Access the data using the PIC-SURE API\n",
    "2. Reproduce the results of this study using the open-source R programming languages"
   ]
  },
  {
   "cell_type": "markdown",
   "metadata": {
    "lines_to_next_cell": 0
   },
   "source": [
    "# Packages Installation "
   ]
  },
  {
   "cell_type": "code",
   "execution_count": null,
   "metadata": {},
   "outputs": [],
   "source": [
    "options(repr.plot.width=16, repr.plot.height=8)"
   ]
  },
  {
   "cell_type": "code",
   "execution_count": null,
   "metadata": {
    "lines_to_next_cell": 2
   },
   "outputs": [],
   "source": [
    "required_libraries <- c(\n",
    "  'tidyverse',\n",
    "  'devtools',\n",
    "  'kableExtra',\n",
    "  'survival',\n",
    "  'survminer',\n",
    "  'MASS',\n",
    "  'quantreg',\n",
    "  'DescTools', \n",
    "  'IRdisplay')\n",
    "for (package in required_libraries) {\n",
    "  if (!package %in% row.names(installed.packages())) install.packages(package)\n",
    "  library(package, character.only = TRUE)\n",
    "}\n",
    "devtools::install_github(\"hms-dbmi/pic-sure-r-client\", force = TRUE)\n",
    "devtools::install_github(\"hms-dbmi/pic-sure-r-adapter-hpds\", force = TRUE)"
   ]
  },
  {
   "cell_type": "markdown",
   "metadata": {},
   "source": [
    "# Installing the library and connecting to the database "
   ]
  },
  {
   "cell_type": "markdown",
   "metadata": {},
   "source": [
    "User access authentication works through a security token, which is passed to the API using the token.txt file (file to be created by the user). In order to know how to get your PIC-SURE token, please see [the README of the PIC-SURE API GitHub repo](https://github.com/hms-dbmi/Access-to-Data-using-PIC-SURE-API/tree/master/NHLBI_BioData_Catalyst)."
   ]
  },
  {
   "cell_type": "code",
   "execution_count": null,
   "metadata": {
    "name": "Installing the library and connecting to the database"
   },
   "outputs": [],
   "source": [
    "# PICSURE_network_URL <- \"https://biodatacatalyst.integration.hms.harvard.edu/picsure/\"\n",
    "PICSURE_network_URL <- \"https://picsure.biodatacatalyst.nhlbi.nih.gov/picsure\"\n",
    "token_file <- \"token.txt\"\n",
    "token <- scan(token_file, what = \"character\")\n",
    "httr::set_config(httr::config(ssl_verifypeer=0L, ssl_verifyhost=0L))\n",
    "myconnection <- picsure::connect(url = PICSURE_network_URL, token = token)\n",
    "resource_id <- picsure::list.resources(myconnection)\n",
    "resource <- hpds::get.resource(myconnection, resourceUUID = resource_id)"
   ]
  },
  {
   "cell_type": "markdown",
   "metadata": {
    "lines_to_next_cell": 0
   },
   "source": [
    "# Querying the data"
   ]
  },
  {
   "cell_type": "code",
   "execution_count": null,
   "metadata": {
    "lines_to_next_cell": 0,
    "name": "Query the data"
   },
   "outputs": [],
   "source": [
    "dictionary_results <- hpds::find.in.dictionary(resource, 'ORCHID', verbose = T)\n",
    "list_variables <- hpds::extract.keys(dictionary_results)\n",
    "query <- hpds::new.query(resource)\n",
    "hpds::query.anyof.add(query, list_variables)\n",
    "raw_df <- hpds::query.run(query, result.type = \"dataframe\") %>%\n",
    "  as_tibble()"
   ]
  },
  {
   "cell_type": "markdown",
   "metadata": {
    "lines_to_next_cell": 0
   },
   "source": [
    "# Variable names "
   ]
  },
  {
   "cell_type": "code",
   "execution_count": null,
   "metadata": {
    "lines_to_next_cell": 2
   },
   "outputs": [],
   "source": [
    "primary_outcome_name <- \"d_covid15\"\n",
    "secondary_outcomes_binary <- c(\"d_mort15\",\n",
    "                               \"d_mort29\",\n",
    "                               \"d_ecmo_death\")\n",
    "secondary_outcomes_ccs <- c('d_covid3',\n",
    "                            'd_covid8',\n",
    "                            'd_covid29')\n",
    "secondary_outcomes_daysfree <- c(\n",
    "  'd_time_to_recovery',\n",
    "  \"d_hospfreedays\",\n",
    "  \"d_oxyfreedays\",\n",
    "  \"d_ventfreedays\",\n",
    "  \"d_vasofreedays\",\n",
    "  \"d_icufreedays\"\n",
    ")\n",
    "safety_outcomes <- c(\n",
    "  'safe_cytopenia',\n",
    "  'safe_seizure',\n",
    "  'safe_astalt',\n",
    "  'safe_hypogly',\n",
    "  'safe_ca',\n",
    "  'safe_vtach'\n",
    ")\n",
    "covariates <- c('rand_trt',\n",
    "                'bl_age',\n",
    "                'bl_sex',\n",
    "                'covid_ooscale_1',\n",
    "                'd_sofa_gcs_s',\n",
    "                'bl_symptomdt')"
   ]
  },
  {
   "cell_type": "markdown",
   "metadata": {
    "lines_to_next_cell": 0
   },
   "source": [
    "# Data Management"
   ]
  },
  {
   "cell_type": "code",
   "execution_count": null,
   "metadata": {},
   "outputs": [],
   "source": [
    "simplified_names <- names(raw_df) %>%\n",
    "  str_extract('((?<=X\\\\.COVID19\\\\.ORCHID\\\\.\\\\.\\\\.phs002299\\\\.\\\\.\\\\.)\\\\w+(?=\\\\.))|(Patient\\\\.ID)')\n",
    "orchid_data <- raw_df[!is.na(simplified_names)]\n",
    "names(orchid_data) <- simplified_names[!is.na(simplified_names)]\n",
    "\n",
    "orchid_data$rand_trt <- relevel(orchid_data$rand_trt, 'Placebo')\n",
    "orchid_data$safe_cytopenia <- apply(\n",
    "  orchid_data[, c('safe_neutrop',\n",
    "                  'safe_lympho',\n",
    "                  'safe_anemia',\n",
    "                  'safe_thombo')],\n",
    "  1,\n",
    "  function(row) ifelse(any(row == 'Yes', na.rm = TRUE), 'Yes', 'No'))\n",
    "\n",
    "\n",
    "dm_factors <- function(factor) {\n",
    "  factor <- as.character(factor)\n",
    "  ifelse(factor == '', NA, ifelse(\n",
    "    factor %in% c('Yes', '1'), 'Yes', ifelse(\n",
    "      factor %in% c('No', '0'), 'No', NA\n",
    "    )\n",
    "  )) %>% as.factor()\n",
    "}\n",
    "orchid_data[c(safety_outcomes, secondary_outcomes_binary)] <- lapply(\n",
    "  orchid_data[c(safety_outcomes, secondary_outcomes_binary)],\n",
    "  dm_factors) %>%\n",
    "  as_tibble()\n",
    "\n",
    "\n",
    "create_ordered_daysfree <- function(variable) {\n",
    "  factor_levels <- as.character(0:28)\n",
    "  factor_variable <- factor(as.character(variable), ordered = TRUE, levels = factor_levels)\n",
    "  return(factor_variable)\n",
    "}\n",
    "orchid_data[secondary_outcomes_daysfree] <- lapply(\n",
    "  orchid_data[secondary_outcomes_daysfree], create_ordered_daysfree) %>%\n",
    "  as_tibble()\n",
    "\n",
    "\n",
    "create_ordered_covid_clinical_scale <- function(variable) {\n",
    "  levels <- c(\n",
    "    '1, Dead',\n",
    "    '2, Hospitalized on invasive mechanical ventilation or ECMO',\n",
    "    '3, Hospitalized on non-invasive ventilation or high flow nasal cannula',\n",
    "    '4, Hospitalized on supplemental oxygen,',\n",
    "    '5, Hospitalized not on supplemental oxygen',\n",
    "    '6, Not hospitalized with limitation in activity (continued symptoms)',\n",
    "    '7, Not hospitalized without limitation in activity (no symptoms)'\n",
    "  )\n",
    "  factor(variable, levels = levels, ordered = TRUE)\n",
    "}\n",
    "orchid_data[grep('^d_covid', names(orchid_data))] <- lapply(\n",
    "  orchid_data[grep('^d_covid', names(orchid_data))],\n",
    "  create_ordered_covid_clinical_scale) %>%\n",
    "  as_tibble()"
   ]
  },
  {
   "cell_type": "markdown",
   "metadata": {},
   "source": [
    "# Statistical Analysis\n",
    "\n",
    "## COVID-19 Ordered Clinical Scale Description"
   ]
  },
  {
   "cell_type": "code",
   "execution_count": null,
   "metadata": {},
   "outputs": [],
   "source": [
    "coos_df <- orchid_data %>%\n",
    "  dplyr::select(subject_id, rand_trt, starts_with(\"d_covid\")) %>%\n",
    "  pivot_longer(cols = starts_with(\"d_covid\"),\n",
    "               names_to = \"date\",\n",
    "               values_to = \"COOS\") %>%\n",
    "  mutate(COOS =  fct_rev(COOS))\n",
    "\n",
    "barplot_width <- 0.6\n",
    "plot_count_COOS <- coos_df %>%\n",
    "  filter(date %in% c(\"d_covid15\", \"d_covid29\")) %>%\n",
    "  mutate(rand_trt = fct_recode(rand_trt,\n",
    "                               \"Hydroxychloroquine\\n(n=242)\" = \"Hydroxychloroquine\",\n",
    "                               \"Placebo\\n(n=237)\" = \"Placebo\"),\n",
    "         date = fct_recode(date,\n",
    "                           \"14 d After randomization\\n(primary outcome)\" = \"d_covid15\",\n",
    "                           \"28 d After randomization\\n(secondary outcome)\" = \"d_covid29\")) %>%\n",
    "  ggplot(aes(x = rand_trt, fill = COOS)) +\n",
    "  geom_bar(width = barplot_width, position=\"fill\", colour = \"black\") +\n",
    "  scale_y_continuous(labels = scales::percent,\n",
    "                     limits = c(0, 1)) +\n",
    "  facet_grid( ~ date) +\n",
    "  scale_fill_brewer(palette = \"Greens\") +\n",
    "  theme_bw() +\n",
    "  theme(legend.background = element_blank(),\n",
    "        legend.box.background = element_rect(colour = \"black\"),\n",
    "        panel.spacing = grid::unit(c(0), \"lines\"),\n",
    "        axis.line = element_line(colour = \"black\"),\n",
    "        panel.grid.major = element_blank(),\n",
    "        # panel.grid.minor = element_blank(),\n",
    "        panel.border = element_blank(),\n",
    "        panel.background = element_blank(),\n",
    "        strip.background = element_rect(colour = \"white\", fill = \"white\")) +\n",
    "  labs(title=\"Clinical Status on the Coronavirus Disease (COVID) Outcomes Scale 14 Days and 28 Days After Randomization\",\n",
    "       fill = \"Clinical status (COVID Outcomes Scale category)\"\n",
    "       ) +\n",
    "  xlab(\"Treatment group\") +\n",
    "  ylab(\"Patients with clinical status, %\")\n",
    "plot_count_COOS"
   ]
  },
  {
   "cell_type": "code",
   "execution_count": null,
   "metadata": {},
   "outputs": [],
   "source": [
    "### Table count\n",
    "table_count_coos <- coos_df %>%\n",
    "  filter(date %in% c(\"d_covid15\", \"d_covid29\")) %>%\n",
    "  mutate(COOS = COOS) %>%\n",
    "  group_by(COOS, date, rand_trt) %>%\n",
    "  count() %>%\n",
    "  pivot_wider(id_cols = COOS,\n",
    "              names_from = c(date, rand_trt),\n",
    "              values_from = n) %>%\n",
    "  mutate(across(everything(), replace_na, replace = 0)) %>%\n",
    "  rename(\"Hydroxychloroquine\\n(n = 242)\" = \"d_covid15_Hydroxychloroquine\",\n",
    "         \"Hydroxychloroquine\\n(n = 242) \" = \"d_covid29_Hydroxychloroquine\",\n",
    "         \"Placebo\\n(n = 237)\" = \"d_covid15_Placebo\",\n",
    "         \"Placebo\\n(n = 237) \" = \"d_covid29_Placebo\",\n",
    "         \"Clinical status\\n(COVID Outcomes Scale category)\" = \"COOS\")\n",
    "\n",
    "table_count_coos %>%\n",
    "  kableExtra::kbl() %>%\n",
    "  kableExtra::kable_paper() %>%\n",
    "  kableExtra::add_header_above(c(\" \",\n",
    "                     \"14 d After randomization, No. (%)\" = 2,\n",
    "                     \"28 d After randomization, No. (%)\" = 2)\n",
    "  ) %>%\n",
    "as.character() %>%\n",
    "display_html()"
   ]
  },
  {
   "cell_type": "markdown",
   "metadata": {},
   "source": [
    "## Outcomes"
   ]
  },
  {
   "cell_type": "code",
   "execution_count": null,
   "metadata": {
    "lines_to_next_cell": 0
   },
   "outputs": [],
   "source": [
    "\n",
    "fitted_polr <- function(outcome, covariates, df) {\n",
    "  formula <- paste(outcome,\n",
    "                   paste(covariates, collapse = \" + \"),\n",
    "                   sep = \" ~ \")\n",
    "  fitted_model <- MASS::polr(formula, Hess = TRUE, dat = df)\n",
    "  return(fitted_model)\n",
    "}\n",
    "\n",
    "dm_polr_results <- function(fitted_model) {\n",
    "  coef_table <- coef(summary(fitted_model))['rand_trtHydroxychloroquine',]\n",
    "  OR <- exp(coef(fitted_model))['rand_trtHydroxychloroquine']\n",
    "  coeff_names <- names(OR)\n",
    "  ci <- exp(coef_table['Value'] + qnorm(c(0.025, 0.975))*coef_table['Std. Error'])\n",
    "  p <- pnorm(abs(coef_table[\"t value\"]), lower.tail = FALSE) * 2\n",
    "  results <- round(c(OR, ci, p), 2)\n",
    "  names(results) <- c('OR', '2.5%', '97.5%', 'pvalue')\n",
    "  return(results)\n",
    "}\n",
    "\n",
    "ci_quantreg <- function(outcome, covariates, df) {\n",
    "  formula <- paste0(outcome, ' ~ rand_trt')\n",
    "  df[[outcome]] <- as.numeric(df[[outcome]])\n",
    "  non_nan <- !is.na(df[[outcome]])\n",
    "  qr_b <- boot.rq(cbind(1, df[['rand_trt']][non_nan]), df[[outcome]][non_nan], tau = 0.5, R = 10000)\n",
    "  ci <- t(apply(qr_b$B, 2, quantile, c(0.025,0.975)))[2, ]\n",
    "  return(ci)\n",
    "}\n",
    "\n",
    "\n",
    "list_results_outcomes <- list()\n",
    "for (outcome_name in c(primary_outcome_name, secondary_outcomes_ccs, secondary_outcomes_daysfree)) {\n",
    "  print(outcome_name)\n",
    "  fitted_model <- fitted_polr(outcome_name, covariates, orchid_data)\n",
    "  result_model_polyr <- dm_polr_results(fitted_model)\n",
    "  adjusted_OR <- paste0(result_model_polyr[[\"OR\"]], ' (', result_model_polyr[[\"2.5%\"]], ' - ',\n",
    "                        result_model_polyr[[\"97.5%\"]], ')'\n",
    "  )\n",
    "  quartiles <- by(orchid_data, relevel(orchid_data$rand_trt, 'Hydroxychloroquine'),\n",
    "     function(df) {\n",
    "       numeric_var <- as.numeric(df[[outcome_name]])\n",
    "       trunc(quantile(numeric_var, probs = c(0.25, 0.5, 0.75), na.rm = TRUE))\n",
    "     })\n",
    "  median <- quartiles %>%\n",
    "    lapply(function(x) paste0(x[['50%']], ' (', x[['25%']], ' to ', x[['75%']], ')'))\n",
    "  unadjusted_diff <- quartiles[[1]][['50%']] - quartiles[[2]][['50%']]\n",
    "  if (unadjusted_diff == 0) {\n",
    "    ci_unadjusted_diff <- as.character(unadjusted_diff)\n",
    "  } else {\n",
    "    ci_diff_num <- ci_quantreg(outcome = outcome_name, covariates = covariates, df = orchid_data)\n",
    "    ci_unadjusted_diff <- paste0(unadjusted_diff, ' (', ci_diff_num[[1]], ' to ', ci_diff_num[[2]], ')')\n",
    "  }\n",
    "  list_results_outcomes[[outcome_name]] <- c(median,\n",
    "                                                     \"Unadjusted difference\" = ci_unadjusted_diff,\n",
    "                                                     \"Adjusted odds ratio or odds ratio\" = adjusted_OR\n",
    "  )\n",
    "}\n",
    "\n",
    "\n",
    "dm_result_logistr <- function(fitted_model) {\n",
    "  coef_table <- coef(summary(fitted_model))['rand_trtHydroxychloroquine',]\n",
    "  OR <- exp(coef(fitted_model))['rand_trtHydroxychloroquine']\n",
    "  ci <- exp(coef_table['Estimate'] + qnorm(c(0.025, 0.975))*coef_table['Std. Error'])\n",
    "  results <- round(c(OR, ci), 2)\n",
    "  names(results) <- c('OR', '2.5%', '97.5%')\n",
    "  return(results)\n",
    "}\n",
    "\n",
    "\n",
    "# list_results_outcomes <- list()\n",
    "for (safety_outcome in c(safety_outcomes, secondary_outcomes_binary)) {\n",
    "  formula_safety <- paste(safety_outcome,\n",
    "                          \"rand_trt\",\n",
    "                          sep = \" ~ \")\n",
    "  non_na <- ! (is.na(orchid_data[[safety_outcome]]) | orchid_data[[safety_outcome]] == '')\n",
    "  OR <- tryCatch({\n",
    "    fitted_model <- glm(formula_safety, family = binomial(link = \"logit\"), data = orchid_data[non_na, ])\n",
    "    OR <- dm_result_logistr(fitted_model)\n",
    "    if (is.infinite(OR[['97.5%']])) OR <- NA\n",
    "    OR\n",
    "  },\n",
    "  error = function(e) e,\n",
    "  warning = function(w) NA\n",
    "  )\n",
    "  table_count <- table(orchid_data[non_na, c('rand_trt', safety_outcome)]) %>%\n",
    "    as.data.frame() %>%\n",
    "    pivot_wider(names_from = all_of(safety_outcome), values_from = 'Freq') %>%\n",
    "    mutate(freq = round(Yes/(Yes + No), 3) * 100)\n",
    "  table_count <- table_count[c(2, 1), ]\n",
    "  count_safety = table_count[['Yes']]\n",
    "  freq_safety = table_count[['freq']]\n",
    "  names(count_safety) = table_count[['rand_trt']]\n",
    "  names(freq_safety) = table_count[['rand_trt']]\n",
    "  diff <- BinomDiffCI(x1 = table_count[[1, \"Yes\"]],\n",
    "              n1 = sum(table_count[1, c('No', 'Yes')]),\n",
    "              x2 = table_count[[2, \"Yes\"]],\n",
    "              n2 = sum(table_count[2, c('No', 'Yes')]),\n",
    "              method = \"wald\") %>% round(3) * 100\n",
    "  list_results_outcomes[[safety_outcome]] <- c(\n",
    "    paste0(count_safety, ' (', freq_safety, ')'),\n",
    "    paste0(diff[[1]], ' (', diff[[2]], ' to ', diff[[3]], ')'),\n",
    "    if (length(OR) == 1) NA else paste0(OR[['OR']], ' (', OR[['2.5%']], ' to ', OR[['97.5%']], ')')\n",
    "  )\n",
    "}\n",
    "\n",
    "\n",
    "output_results <- do.call(rbind, list_results_outcomes)\n",
    "\n",
    "\n",
    "\n",
    "list_renaming <- c(\n",
    "  'safe_seizure' =\t'Seizures',\n",
    "  'safe_vtach' =\t'Ventricular tachyarrhythmia',\n",
    "  'safe_ca' =\t'Cardiac arrest treated with CPR',\n",
    "  'safe_astalt' =\t'AST or ALT ≥2 times upper limit of normal',\n",
    "  'safe_hypogly' =\t'Symptomatic hypoglycemia',\n",
    "  'd_covid3' =\t'COVID Outcomes Scale score, median (IQR) at 2d',\n",
    "  'd_covid8' =\t'COVID Outcomes Scale score, median (IQR) at 2d',\n",
    "  'd_covid15' =\t'COVID Outcomes Scale score, median (IQR) at 2d',\n",
    "  'd_covid29' =\t'COVID Outcomes Scale score, median (IQR) at 2d',\n",
    "  'd_mort15' =\t'All-cause, all-location death',\n",
    "  'd_mort29' =\t'All-cause, all-location death',\n",
    "  'd_ecmo_death' =\t'Ecmo or Death',\n",
    "  'd_hospfreedays' =\t'Hospital Free Days',\n",
    "  'd_icufreedays' =\t'ICU Free Days',\n",
    "  'd_oxyfreedays' =\t'Oxygen free days',\n",
    "  'd_time_to_recovery' =\t'Time to recovery',\n",
    "  'd_vasofreedays' =\t'Vasopressor Free Days',\n",
    "  'd_ventfreedays' =\t'Ventilator Free Days'\n",
    ")\n",
    "row.names(output_results) <- list_renaming[row.names(output_results)]\n",
    "\n",
    "output_results %>%\n",
    "  kable(caption=\"Effect of Hydroxychloroquine on COVID Outcomes Scale category\") %>%\n",
    "  kable_minimal() %>%\n",
    "  as.character() %>%\n",
    "  IRdisplay::display_html()"
   ]
  },
  {
   "cell_type": "markdown",
   "metadata": {},
   "source": [
    "\n"
   ]
  },
  {
   "cell_type": "markdown",
   "metadata": {},
   "source": [
    "## Survival Outcomes"
   ]
  },
  {
   "cell_type": "code",
   "execution_count": null,
   "metadata": {
    "lines_to_next_cell": 2
   },
   "outputs": [],
   "source": [
    "\n",
    "orchid_data$vs_died[orchid_data$vs_died == ''] <- NA\n",
    "orchid_data$vs_died <- fct_recode(orchid_data$vs_died, '0' = 'No', '1' = 'Yes') %>%\n",
    "  as.character() %>%\n",
    "  as.numeric()\n",
    "\n",
    "orchid_data$death_fu <- orchid_data$d_lastalivedt + 1\n",
    "\n",
    "coxph_death <- coxph(Surv(time = orchid_data$death_fu,\n",
    "                          event = orchid_data$vs_died) ~\n",
    "                       rand_trt + bl_age + bl_sex + covid_ooscale_1 + d_sofa_gcs_s + bl_symptomdt,\n",
    "                     data = orchid_data)\n",
    "\n",
    "\n",
    "survfit_death <- survfit(Surv(time = orchid_data$death_fu,\n",
    "                              event = orchid_data$vs_died) ~ rand_trt,\n",
    "                         data = orchid_data)\n",
    "\n",
    "\n",
    "# Time to discharge\n",
    "\n",
    "orchid_data$iho_dischyn[orchid_data$iho_dischyn == ''] <- NA\n",
    "orchid_data$iho_dischyn <- fct_recode(orchid_data$iho_dischyn, '0' = 'No', '1' = 'Yes') %>%\n",
    "  as.character() %>%\n",
    "  as.numeric()\n",
    "\n",
    "\n",
    "orchid_data$event_censored_dt <- apply(data.frame(orchid_data$iho_dischdt,\n",
    "                 orchid_data$vs_deathdt,\n",
    "                 orchid_data$vs_alivedt), 1, min, na.rm = TRUE)\n",
    "# derived_vars$day_free_hospital\n",
    "\n",
    "\n",
    "orchid_data$death_discharge <- as.factor(ifelse(orchid_data$vs_died == 0 | is.na(orchid_data$vs_died),\n",
    "                                                ifelse(orchid_data$iho_dischyn != 1 | is.na(orchid_data$iho_dischyn),\n",
    "                                                       \"censor\", 'discharge'),\n",
    "                                                \"death\"))\n",
    "\n",
    "discharge_data <- finegray(Surv(orchid_data$event_censored_dt, orchid_data$death_discharge) ~ .,\n",
    "                           data = orchid_data,\n",
    "                           etype = \"discharge\")\n",
    "\n",
    "discharge_survival <- coxph(Surv(fgstart, fgstop, fgstatus) ~\n",
    "                              rand_trt + bl_age + bl_sex + covid_ooscale_1 + d_sofa_gcs_s + bl_symptomdt,\n",
    "                            data = discharge_data,\n",
    "                            weight = fgwt)\n",
    "survfit_discharge <- survfit(\n",
    "  Surv(orchid_data$iho_dischdt, orchid_data$iho_dischyn) ~ rand_trt,\n",
    "  data = orchid_data)\n",
    "\n",
    "\n",
    "death_plot <- ggsurvplot(survfit_death,\n",
    "           xlim = c(0, 29),\n",
    "           size = 1,                 # change line size\n",
    "           palette = c(\"#E7B800\", \"#2E9FDF\"),# custom color palettes\n",
    "           conf.int = FALSE,          # Add confidence interval\n",
    "           pval = TRUE,              # Add p-value\n",
    "           risk.table = TRUE,        # Add risk table\n",
    "           risk.table.col = \"strata\",# Risk table color by groups\n",
    "           legend.labs =c(\"Hydroxychloroquine\", \"Placebo\"),\n",
    "           risk.table.height = 0.25,\n",
    "           ggtheme = theme_bw(),\n",
    "           combine = TRUE,\n",
    "           keep_data = TRUE,\n",
    "           type=\"cuminc\",\n",
    "           title = \"Treatment Effect on Survival\"\n",
    ")\n",
    "\n",
    "death_plot"
   ]
  },
  {
   "cell_type": "code",
   "execution_count": null,
   "metadata": {
    "lines_to_next_cell": 0
   },
   "outputs": [],
   "source": [
    "discharge_plot <- ggsurvplot(\n",
    "  survfit_discharge,\n",
    "  xlim = c(0, 29),\n",
    "  size = 1,                 # change line size\n",
    "  palette = c(\"#E7B800\", \"#2E9FDF\"),# custom color palettes\n",
    "  conf.int = FALSE,          # Add confidence interval\n",
    "  pval = TRUE,              # Add p-value\n",
    "  risk.table = TRUE,        # Add risk table\n",
    "  risk.table.col = \"strata\",# Risk table color by groups\n",
    "  legend.labs =c(\"Hydroxychloroquine\", \"Placebo\"),\n",
    "  risk.table.height = 0.25,\n",
    "  ggtheme = theme_bw(),\n",
    "  combine = TRUE,\n",
    "  keep_data = TRUE,\n",
    "  linetype = 'strata',\n",
    "  fun = 'event',\n",
    "  type=\"cuminc\",\n",
    "  title = \"Treatment Effect on Survival\"\n",
    ")\n",
    "\n",
    "discharge_plot\n"
   ]
  },
  {
   "cell_type": "markdown",
   "metadata": {},
   "source": [
    "\n"
   ]
  }
 ],
 "metadata": {
  "jupytext": {
   "cell_metadata_filter": "name,-all",
   "main_language": "R",
   "notebook_metadata_filter": "-all"
  },
  "kernelspec": {
   "display_name": "R",
   "language": "R",
   "name": "ir"
  },
  "language_info": {
   "codemirror_mode": "r",
   "file_extension": ".r",
   "mimetype": "text/x-r-source",
   "name": "R",
   "pygments_lexer": "r",
   "version": "3.6.3"
  }
 },
 "nbformat": 4,
 "nbformat_minor": 4
}
