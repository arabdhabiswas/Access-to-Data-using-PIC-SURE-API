{
 "cells": [
  {
   "cell_type": "markdown",
   "id": "2dbaf89a",
   "metadata": {},
   "source": [
    "# Harmonization across studies with PIC-SURE"
   ]
  },
  {
   "cell_type": "markdown",
   "id": "44d0dff8",
   "metadata": {},
   "source": [
    "This tutorial notebook will demonstrate how to query and work with the BioData Catalyst studies, particularly cross-study harmonization. For a more step-by-step introduction to the python PIC-SURE API, see the `1_PICSURE_API_101.ipynb` notebook."
   ]
  },
  {
   "cell_type": "markdown",
   "id": "2fd4c754",
   "metadata": {},
   "source": [
    "**Before running this notebook, please be sure to review the \\\"Get your security token\\\" documentation, which exists in the NHLBI_BioData_Catalyst [README.md file](https://github.com/hms-dbmi/Access-to-Data-using-PIC-SURE-API/tree/master/NHLBI_BioData_Catalyst#get-your-security-token). It explains about how to get a security token, which is mandatory to access the databases.**"
   ]
  },
  {
   "cell_type": "markdown",
   "id": "bd6c7ec3",
   "metadata": {},
   "source": [
    "-----"
   ]
  },
  {
   "cell_type": "markdown",
   "id": "91525f0a",
   "metadata": {},
   "source": [
    "# Environment set-up"
   ]
  },
  {
   "cell_type": "markdown",
   "id": "ef7beb79",
   "metadata": {},
   "source": [
    "### Pre-requisites\n",
    "- R 3.4 or later\n",
    "\n",
    "\n",
    "### Install packages\n",
    "Install the following:\n",
    "- packages listed in the `requirements.R` file\n",
    "- PIC-SURE API components (from Github)\n",
    "    - PIC-SURE Adapter\n",
    "    - PIC-SURE Client"
   ]
  },
  {
   "cell_type": "code",
   "execution_count": 1,
   "id": "24f9c0ea",
   "metadata": {
    "scrolled": true
   },
   "outputs": [
    {
     "name": "stderr",
     "output_type": "stream",
     "text": [
      "Updating HTML index of packages in '.Library'\n",
      "\n",
      "Making 'packages.html' ...\n",
      " done\n",
      "\n",
      "Updating HTML index of packages in '.Library'\n",
      "\n",
      "Making 'packages.html' ...\n",
      " done\n",
      "\n",
      "Updating HTML index of packages in '.Library'\n",
      "\n",
      "Making 'packages.html' ...\n",
      " done\n",
      "\n"
     ]
    },
    {
     "name": "stdout",
     "output_type": "stream",
     "text": [
      "installing: \n",
      "-  ggplot2 \n",
      "-  dplyr \n",
      "-  tidyr \n",
      "-  urltools \n",
      "-  devtools \n",
      "-  ggrepel \n"
     ]
    },
    {
     "name": "stderr",
     "output_type": "stream",
     "text": [
      "also installing the dependencies ‘systemfonts’, ‘textshaping’, ‘ragg’, ‘pkgdown’\n",
      "\n",
      "\n",
      "Warning message in install.packages(package, dependencies = TRUE):\n",
      "“installation of package ‘systemfonts’ had non-zero exit status”\n",
      "Warning message in install.packages(package, dependencies = TRUE):\n",
      "“installation of package ‘textshaping’ had non-zero exit status”\n",
      "Warning message in install.packages(package, dependencies = TRUE):\n",
      "“installation of package ‘ragg’ had non-zero exit status”\n",
      "Warning message in install.packages(package, dependencies = TRUE):\n",
      "“installation of package ‘pkgdown’ had non-zero exit status”\n",
      "Updating HTML index of packages in '.Library'\n",
      "\n",
      "Making 'packages.html' ...\n",
      " done\n",
      "\n",
      "\n",
      "Attaching package: ‘dplyr’\n",
      "\n",
      "\n",
      "The following objects are masked from ‘package:stats’:\n",
      "\n",
      "    filter, lag\n",
      "\n",
      "\n",
      "The following objects are masked from ‘package:base’:\n",
      "\n",
      "    intersect, setdiff, setequal, union\n",
      "\n",
      "\n",
      "Loading required package: usethis\n",
      "\n"
     ]
    }
   ],
   "source": [
    "source(\"R_lib/requirements.R\")"
   ]
  },
  {
   "cell_type": "code",
   "execution_count": 2,
   "id": "cb3a3d12",
   "metadata": {
    "scrolled": true
   },
   "outputs": [
    {
     "name": "stderr",
     "output_type": "stream",
     "text": [
      "Warning message in install.packages(\"https://cran.r-project.org/src/contrib/Archive/devtools/devtools_1.13.6.tar.gz\", :\n",
      "“installation of package ‘/tmp/Rtmpsew0pr/downloaded_packages/devtools_1.13.6.tar.gz’ had non-zero exit status”\n",
      "Updating HTML index of packages in '.Library'\n",
      "\n",
      "Making 'packages.html' ...\n",
      " done\n",
      "\n",
      "Downloading GitHub repo hms-dbmi/pic-sure-r-client@HEAD\n",
      "\n"
     ]
    },
    {
     "name": "stdout",
     "output_type": "stream",
     "text": [
      "\n",
      "\u001b[32m✔\u001b[39m  \u001b[90mchecking for file ‘/tmp/Rtmpsew0pr/remotes18fc4e097a53/hms-dbmi-pic-sure-r-client-115deb5/DESCRIPTION’\u001b[39m\u001b[36m\u001b[39m\n",
      "\u001b[90m─\u001b[39m\u001b[90m  \u001b[39m\u001b[90mpreparing ‘picsure’:\u001b[39m\u001b[36m\u001b[39m\n",
      "\u001b[32m✔\u001b[39m  \u001b[90mchecking DESCRIPTION meta-information\u001b[39m\u001b[36m\u001b[39m\n",
      "\u001b[90m─\u001b[39m\u001b[90m  \u001b[39m\u001b[90mchecking for LF line-endings in source and make files and shell scripts\u001b[39m\u001b[36m\u001b[39m\n",
      "\u001b[90m─\u001b[39m\u001b[90m  \u001b[39m\u001b[90mchecking for empty or unneeded directories\u001b[39m\u001b[36m\u001b[39m\n",
      "   Omitted ‘LazyData’ from DESCRIPTION\n",
      "\u001b[90m─\u001b[39m\u001b[90m  \u001b[39m\u001b[90mbuilding ‘picsure_0.1.0.tar.gz’\u001b[39m\u001b[36m\u001b[39m\n",
      "   \n",
      "\r"
     ]
    },
    {
     "name": "stderr",
     "output_type": "stream",
     "text": [
      "Downloading GitHub repo hms-dbmi/pic-sure-r-adapter-hpds@HEAD\n",
      "\n"
     ]
    },
    {
     "name": "stdout",
     "output_type": "stream",
     "text": [
      "\n",
      "\u001b[32m✔\u001b[39m  \u001b[90mchecking for file ‘/tmp/Rtmpsew0pr/remotes18fc5b2f485a/hms-dbmi-pic-sure-r-adapter-hpds-2cee5ee/DESCRIPTION’\u001b[39m\u001b[36m\u001b[39m\n",
      "\u001b[90m─\u001b[39m\u001b[90m  \u001b[39m\u001b[90mpreparing ‘hpds’:\u001b[39m\u001b[36m\u001b[39m\n",
      "\u001b[32m✔\u001b[39m  \u001b[90mchecking DESCRIPTION meta-information\u001b[39m\u001b[36m\u001b[39m\n",
      "\u001b[90m─\u001b[39m\u001b[90m  \u001b[39m\u001b[90mchecking for LF line-endings in source and make files and shell scripts\u001b[39m\u001b[36m\u001b[39m\n",
      "\u001b[90m─\u001b[39m\u001b[90m  \u001b[39m\u001b[90mchecking for empty or unneeded directories\u001b[39m\u001b[36m\u001b[39m\n",
      "   Omitted ‘LazyData’ from DESCRIPTION\n",
      "\u001b[90m─\u001b[39m\u001b[90m  \u001b[39m\u001b[90mbuilding ‘hpds_0.1.1.tar.gz’\u001b[39m\u001b[36m\u001b[39m\n",
      "   \n",
      "\r"
     ]
    },
    {
     "name": "stderr",
     "output_type": "stream",
     "text": [
      "Downloading GitHub repo hms-dbmi/pic-sure-biodatacatalyst-r-adapter-hpds@HEAD\n",
      "\n"
     ]
    },
    {
     "name": "stdout",
     "output_type": "stream",
     "text": [
      "\n",
      "\u001b[32m✔\u001b[39m  \u001b[90mchecking for file ‘/tmp/Rtmpsew0pr/remotes18fc56a4e567/hms-dbmi-pic-sure-biodatacatalyst-r-adapter-hpds-d019468/DESCRIPTION’\u001b[39m\u001b[36m\u001b[39m\n",
      "\u001b[90m─\u001b[39m\u001b[90m  \u001b[39m\u001b[90mpreparing ‘bdc’:\u001b[39m\u001b[36m\u001b[39m\n",
      "\u001b[32m✔\u001b[39m  \u001b[90mchecking DESCRIPTION meta-information\u001b[39m\u001b[36m\u001b[39m\n",
      "\u001b[90m─\u001b[39m\u001b[90m  \u001b[39m\u001b[90mchecking for LF line-endings in source and make files and shell scripts\u001b[39m\u001b[36m\u001b[39m\n",
      "\u001b[90m─\u001b[39m\u001b[90m  \u001b[39m\u001b[90mchecking for empty or unneeded directories\u001b[39m\u001b[36m\u001b[39m\n",
      "   Omitted ‘LazyData’ from DESCRIPTION\n",
      "\u001b[90m─\u001b[39m\u001b[90m  \u001b[39m\u001b[90mbuilding ‘bdc_0.1.0.tar.gz’\u001b[39m\u001b[36m\u001b[39m\n",
      "   \n",
      "\r"
     ]
    }
   ],
   "source": [
    "Sys.setenv(TAR = \"/bin/tar\")\n",
    "options(unzip = \"internal\")\n",
    "install.packages(\"https://cran.r-project.org/src/contrib/Archive/devtools/devtools_1.13.6.tar.gz\", repos=NULL, type=\"source\")\n",
    "install.packages(\"https://cran.r-project.org/src/contrib/R6_2.5.1.tar.gz\", repos=NULL, type=\"source\")\n",
    "install.packages(\"https://cran.r-project.org/src/contrib/hash_2.2.6.1.tar.gz\", repos=NULL, type=\"source\")\n",
    "install.packages(c(\"urltools\"),repos = \"http://cran.us.r-project.org\")\n",
    "devtools::install_github(\"hms-dbmi/pic-sure-r-client\", force=T)\n",
    "devtools::install_github(\"hms-dbmi/pic-sure-r-adapter-hpds\", force=T)\n",
    "devtools::install_github(\"hms-dbmi/pic-sure-biodatacatalyst-r-adapter-hpds\", force=T)"
   ]
  },
  {
   "cell_type": "markdown",
   "id": "34ab109f",
   "metadata": {},
   "source": [
    "##### Loading user-defined functions"
   ]
  },
  {
   "cell_type": "code",
   "execution_count": 3,
   "id": "a4091939",
   "metadata": {},
   "outputs": [],
   "source": [
    "source(\"R_lib/utils.R\")"
   ]
  },
  {
   "cell_type": "markdown",
   "id": "6af56542",
   "metadata": {},
   "source": [
    "## Connecting to a PIC-SURE resource"
   ]
  },
  {
   "cell_type": "code",
   "execution_count": 4,
   "id": "90b7e4b7",
   "metadata": {},
   "outputs": [],
   "source": [
    "PICSURE_network_URL <- \"https://picsure.biodatacatalyst.nhlbi.nih.gov/picsure\"\n",
    "resource_id <- \"02e23f52-f354-4e8b-992c-d37c8b9ba140\"\n",
    "token_file <- \"token.txt\""
   ]
  },
  {
   "cell_type": "code",
   "execution_count": 5,
   "id": "1b11a750",
   "metadata": {},
   "outputs": [],
   "source": [
    "token <- scan(token_file, what = \"character\")"
   ]
  },
  {
   "cell_type": "code",
   "execution_count": 6,
   "id": "75160339",
   "metadata": {},
   "outputs": [
    {
     "name": "stdout",
     "output_type": "stream",
     "text": [
      "[1] \"02e23f52-f354-4e8b-992c-d37c8b9ba140\"\n",
      "[2] \"70c837be-5ffc-11eb-ae93-0242ac130002\"\n",
      "[1] \"Loading data dictionary... (takes a minute)\"\n"
     ]
    }
   ],
   "source": [
    "connection <- picsure::connect(url = PICSURE_network_URL,\n",
    "                                 token = token)\n",
    "resource <- bdc::get.resource(connection,\n",
    "                               resourceUUID = resource_id)"
   ]
  },
  {
   "cell_type": "markdown",
   "id": "b1ed7314",
   "metadata": {},
   "source": [
    "-----"
   ]
  },
  {
   "cell_type": "markdown",
   "id": "2b3b2e84",
   "metadata": {},
   "source": [
    "## Harmonizing variables with PIC-SURE\n",
    "One of the key challenges to conducting analyses with several studies is ensuring correct data harmonization, or combining of data from different sources. There are many harmonization techniques, but this notebook will demonstrate how to find and extract similar variables from different studies in PIC-SURE. Two examples of this will be shown:\n",
    "1. Retrieving variables for *sex and gender* across studies with BMI\n",
    "2. Harmonizing the variable *\"orthopnea\"* across studies with age\n",
    "\n",
    "\n",
    "*For more information about the TOPMed DCC Harmonized Data Set in PIC-SURE, please refer to the [`2_TOPMed_DCC_Harmonized_Variables_analysis.ipynb`](https://github.com/hms-dbmi/Access-to-Data-using-PIC-SURE-API/blob/master/NHLBI_BioData_Catalyst/R/2_TOPMed_DCC_Harmonized_Variables_analysis.ipynb) notebook*"
   ]
  },
  {
   "cell_type": "markdown",
   "id": "5c0a7d87",
   "metadata": {},
   "source": [
    "-----"
   ]
  },
  {
   "cell_type": "markdown",
   "id": "0a04f74e",
   "metadata": {},
   "source": [
    "### Sex and gender variables across studies"
   ]
  },
  {
   "cell_type": "markdown",
   "id": "cafd75bc",
   "metadata": {},
   "source": [
    "Let's start by doing separate searches for `sex` and `gender` to gain a better understanding of the variables that exist in PIC-SURE with these terms."
   ]
  },
  {
   "cell_type": "code",
   "execution_count": 7,
   "id": "7bbc31e2",
   "metadata": {},
   "outputs": [],
   "source": [
    "full_dict <- bdc::find.in.dictionary(resource) %>%\n",
    "    bdc::extract.entries()\n",
    "full_multiindex_dict <- get_multiIndex_variablesDict(full_dict)"
   ]
  },
  {
   "cell_type": "code",
   "execution_count": 8,
   "id": "6ac9a25c",
   "metadata": {},
   "outputs": [],
   "source": [
    "sex_mask <- full_multiindex_dict$simplified_name[str_detect(full_multiindex_dict$simplified_name, 'sex')]\n",
    "sex <- full_multiindex_dict[full_multiindex_dict$simplified_name %in% sex_mask,]\n",
    "gender_mask <- full_multiindex_dict$simplified_name[str_detect(full_multiindex_dict$simplified_name, 'gender')]\n",
    "gender <- full_multiindex_dict[full_multiindex_dict$simplified_name %in% gender_mask,]"
   ]
  },
  {
   "cell_type": "code",
   "execution_count": 9,
   "id": "68d7f7d1",
   "metadata": {},
   "outputs": [],
   "source": [
    "# Uncomment the following lines of code to preview the filtered dataframes\n",
    "#head(sex)\n",
    "#head(gender)"
   ]
  },
  {
   "cell_type": "markdown",
   "id": "d781c742",
   "metadata": {},
   "source": [
    "After reviewing the variables using the dataframe (or the [user interface](https://picsure.biodatacatalyst.nhlbi.nih.gov/psamaui/login)), let's say we are interested in sex/gender variables from the following studies:\n",
    "- TOPMed Harmonized data set\n",
    "- ECLIPSE (Evaluation of COPD Longitudinally to Identify Predictive Surrogate Endpoints)\n",
    "- EOCOPD (Early Onset of COPD)\n",
    "\n",
    "However, these concept paths are labelled differently for each of these studies. For example, some use the keyword `sex` while others use `gender`. To acccount for these differences, we need to develop a way to search for multiple keywords at once."
   ]
  },
  {
   "cell_type": "markdown",
   "id": "cc66bb1b",
   "metadata": {},
   "source": [
    "First, let's get all of the concept paths associated with each study."
   ]
  },
  {
   "cell_type": "code",
   "execution_count": 10,
   "id": "b7a47642",
   "metadata": {},
   "outputs": [],
   "source": [
    "topmed_harmonized <- bdc::find.in.dictionary(resource, 'DCC Harmonized data set') %>%\n",
    "    bdc::extract.entries()\n",
    "eclipse <- bdc::find.in.dictionary(resource, 'Evaluation of COPD Longitudinally to Identify Predictive Surrogate Endpoints (ECLIPSE)') %>%\n",
    "    bdc::extract.entries()\n",
    "eocopd <- bdc::find.in.dictionary(resource, 'NHLBI TOPMed: Boston Early-Onset COPD Study') %>%\n",
    "    bdc::extract.entries()"
   ]
  },
  {
   "cell_type": "markdown",
   "id": "1eb6948c",
   "metadata": {},
   "source": [
    "Now we will search for the terms of interest (`sex` and `gender`) and filter out these concept paths.\n",
    "\n",
    "Below is a simple user-defined function that you could use to accomplish this."
   ]
  },
  {
   "cell_type": "code",
   "execution_count": 12,
   "id": "3fc1de78",
   "metadata": {},
   "outputs": [],
   "source": [
    "# Function that filters out variables from a dataframe (df) that contain any of the terms (list_of_terms)\n",
    "find_vars <- function(df, list_of_terms){\n",
    "    if(length(list_of_terms)>1){\n",
    "        pattern <- paste(list_of_terms, collapse='|')\n",
    "    } else {\n",
    "        pattern <- list_of_terms\n",
    "    }\n",
    "    pattern <- paste(c('(', pattern, ')'), collapse = '')\n",
    "    df_filtered <- df %>%\n",
    "        filter(grepl(pattern, name, ignore.case=TRUE))\n",
    "    vars_list <- list(df_filtered$name)[[1]]\n",
    "    return(vars_list)\n",
    "}"
   ]
  },
  {
   "cell_type": "code",
   "execution_count": 13,
   "id": "b22f1e03",
   "metadata": {},
   "outputs": [
    {
     "name": "stdout",
     "output_type": "stream",
     "text": [
      "[1] \"Concept path from TOPMed Harmonized data set:\"                                         \n",
      "[2] \"\\\\DCC Harmonized data set\\\\01 - Demographics\\\\Subject sex  as recorded by the study.\\\\\"\n"
     ]
    }
   ],
   "source": [
    "# Search for 'sex' and 'gender' variables in TOPMed Harmonized dataset\n",
    "topmed_var <- find_vars(topmed_harmonized, c('sex', 'gender'))\n",
    "print(c(\"Concept path from TOPMed Harmonized data set:\", topmed_var))"
   ]
  },
  {
   "cell_type": "code",
   "execution_count": 14,
   "id": "aa43b25f",
   "metadata": {},
   "outputs": [
    {
     "name": "stdout",
     "output_type": "stream",
     "text": [
      "[1] \"Concept path from ECLIPSE data set:\"                                                                          \n",
      "[2] \"\\\\Evaluation of COPD Longitudinally to Identify Predictive Surrogate Endpoints (ECLIPSE) ( phs001252 )\\\\Sex\\\\\"\n"
     ]
    }
   ],
   "source": [
    "# Search for 'sex' and 'gender' variables in ECLIPSE dataset\n",
    "eclipse_var <- find_vars(eclipse, c('sex', 'gender'))\n",
    "print(c(\"Concept path from ECLIPSE data set:\", eclipse_var))"
   ]
  },
  {
   "cell_type": "code",
   "execution_count": 15,
   "id": "271c5a87",
   "metadata": {},
   "outputs": [
    {
     "name": "stdout",
     "output_type": "stream",
     "text": [
      "[1] \"Number of concept paths from EOCOPD data set:\"\n",
      "[2] \"14\"                                           \n"
     ]
    }
   ],
   "source": [
    "# Search for 'sex' and 'gender' variables in EOCOPD dataset\n",
    "eocopd_vars <- find_vars(eocopd, c('sex', 'gender'))\n",
    "print(c(\"Number of concept paths from EOCOPD data set:\", length(eocopd_vars)))"
   ]
  },
  {
   "cell_type": "markdown",
   "id": "57d42bb2",
   "metadata": {},
   "source": [
    "Since there are multiple concept paths that are contain either `gender` or `sex` in the EOCOPD dataset, we can investigate these concept paths to determine the true variable of interest."
   ]
  },
  {
   "cell_type": "code",
   "execution_count": 16,
   "id": "f2ca8bea",
   "metadata": {},
   "outputs": [
    {
     "name": "stdout",
     "output_type": "stream",
     "text": [
      "[1] \"Concept path from EOCOPD data set:\"                                                                                                                                                                                                                                                                                                                                                                                                                                                                                                                         \n",
      "[2] \"\\\\NHLBI TOPMed: Boston Early-Onset COPD Study ( phs000946 )\\\\Subject ID, subject age, gender, race, height, weight, BMI, age at sample collection, pregnancy, number of cigarettes per day, current or former smoker, and packs of cigarettes smoked per day multiplied by years of participants with early onset COPD and their pedigree and involved in the 'Boston Early-Onset COPD Study in the National Heart, Lung, and Blood Institute (NHLBI) Trans-Omics for Precision Medicine (TOPMed) Program' project.\\\\Gender of participant [Male, Female]\\\\\"\n"
     ]
    }
   ],
   "source": [
    "# Uncomment the following line to see full list of sex/gender variables in EOCOPD\n",
    "#print(c(\"Full list of variables\", eocopd_vars))\n",
    "\n",
    "# Based on this, we can see that the variable we want for this analysis is the last in the list: Gender of participant\n",
    "eocopd_var <- find_vars(eocopd, c('gender of participant'))\n",
    "print(c(\"Concept path from EOCOPD data set:\", eocopd_var))"
   ]
  },
  {
   "cell_type": "markdown",
   "id": "d112c401",
   "metadata": {},
   "source": [
    "As part of our research, let's also say we are interested in body mass index (BMI) measurements across these studies. Let's save these concept paths to use in our queries as well."
   ]
  },
  {
   "cell_type": "code",
   "execution_count": 17,
   "id": "e1b37c60",
   "metadata": {},
   "outputs": [
    {
     "name": "stdout",
     "output_type": "stream",
     "text": [
      "[1] \"\\\\DCC Harmonized data set\\\\03 - Baseline common covariates\\\\Body mass index calculated at baseline.\\\\\"\n",
      "[1] \"\\\\Evaluation of COPD Longitudinally to Identify Predictive Surrogate Endpoints (ECLIPSE) ( phs001252 )\\\\Body mass index (kg/m2)\\\\\"\n",
      "[1] \"\\\\NHLBI TOPMed: Boston Early-Onset COPD Study ( phs000946 )\\\\Subject ID, subject age, gender, race, height, weight, BMI, age at sample collection, pregnancy, number of cigarettes per day, current or former smoker, and packs of cigarettes smoked per day multiplied by years of participants with early onset COPD and their pedigree and involved in the 'Boston Early-Onset COPD Study in the National Heart, Lung, and Blood Institute (NHLBI) Trans-Omics for Precision Medicine (TOPMed) Program' project.\\\\Body Mass Index [BMI ]\\\\\"\n"
     ]
    }
   ],
   "source": [
    "topmed_bmi <- find_vars(topmed_harmonized, c('body mass index'))\n",
    "print(topmed_bmi)\n",
    "eclipse_bmi <- find_vars(eclipse, c('body mass index'))\n",
    "print(eclipse_bmi)\n",
    "eocopd_bmi <- find_vars(eocopd, c('body mass index'))\n",
    "print(eocopd_bmi)"
   ]
  },
  {
   "cell_type": "markdown",
   "id": "e51e21cf",
   "metadata": {},
   "source": [
    "Now that we know and have saved our concept paths of interest, we can use these to build our query. \n",
    "\n",
    "**Note: queries with the TOPMed DCC Harmonized data set cannot be combined with concept paths from other datasets. Because of this, we will run separate queries and combine the dataframes.**"
   ]
  },
  {
   "cell_type": "code",
   "execution_count": 18,
   "id": "e09e242a",
   "metadata": {},
   "outputs": [],
   "source": [
    "# Initialize a query\n",
    "eclipse_query <- bdc::new.query(resource = resource)\n",
    "# Build query using these concept paths\n",
    "bdc::query.anyof.add(query = eclipse_query,\n",
    "                     keys = eclipse_var)\n",
    "bdc::query.anyof.add(query = eclipse_query,\n",
    "                     keys = eclipse_bmi)"
   ]
  },
  {
   "cell_type": "code",
   "execution_count": 19,
   "id": "2bb93d81",
   "metadata": {},
   "outputs": [
    {
     "data": {
      "text/html": [
       "<table class=\"dataframe\">\n",
       "<caption>A data.frame: 6 × 6</caption>\n",
       "<thead>\n",
       "\t<tr><th></th><th scope=col>Patient ID</th><th scope=col>\\Evaluation of COPD Longitudinally to Identify Predictive Surrogate Endpoints (ECLIPSE) ( phs001252 )\\Body mass index (kg/m2)\\</th><th scope=col>\\Evaluation of COPD Longitudinally to Identify Predictive Surrogate Endpoints (ECLIPSE) ( phs001252 )\\Sex\\</th><th scope=col>\\_Parent Study Accession with Subject ID\\</th><th scope=col>\\_Topmed Study Accession with Subject ID\\</th><th scope=col>\\_consents\\</th></tr>\n",
       "\t<tr><th></th><th scope=col>&lt;int&gt;</th><th scope=col>&lt;dbl&gt;</th><th scope=col>&lt;chr&gt;</th><th scope=col>&lt;chr&gt;</th><th scope=col>&lt;lgl&gt;</th><th scope=col>&lt;chr&gt;</th></tr>\n",
       "</thead>\n",
       "<tbody>\n",
       "\t<tr><th scope=row>1</th><td>34717</td><td>25.23634</td><td>Female</td><td>phs001252.v1_ecl122536</td><td>NA</td><td>phs001252.c1</td></tr>\n",
       "\t<tr><th scope=row>2</th><td>34718</td><td>26.17188</td><td>Female</td><td>phs001252.v1_ecl122472</td><td>NA</td><td>phs001252.c1</td></tr>\n",
       "\t<tr><th scope=row>3</th><td>34719</td><td>23.22082</td><td>Male  </td><td>phs001252.v1_ecl122464</td><td>NA</td><td>phs001252.c1</td></tr>\n",
       "\t<tr><th scope=row>4</th><td>34720</td><td>21.52695</td><td>Female</td><td>phs001252.v1_ecl122401</td><td>NA</td><td>phs001252.c1</td></tr>\n",
       "\t<tr><th scope=row>5</th><td>34721</td><td>22.30815</td><td>Male  </td><td>phs001252.v1_ecl122383</td><td>NA</td><td>phs001252.c1</td></tr>\n",
       "\t<tr><th scope=row>6</th><td>34722</td><td>21.43903</td><td>Female</td><td>phs001252.v1_ecl122354</td><td>NA</td><td>phs001252.c1</td></tr>\n",
       "</tbody>\n",
       "</table>\n"
      ],
      "text/latex": [
       "A data.frame: 6 × 6\n",
       "\\begin{tabular}{r|llllll}\n",
       "  & Patient ID & \\textbackslash{}Evaluation of COPD Longitudinally to Identify Predictive Surrogate Endpoints (ECLIPSE) ( phs001252 )\\textbackslash{}Body mass index (kg/m2)\\textbackslash{} & \\textbackslash{}Evaluation of COPD Longitudinally to Identify Predictive Surrogate Endpoints (ECLIPSE) ( phs001252 )\\textbackslash{}Sex\\textbackslash{} & \\textbackslash{}\\_Parent Study Accession with Subject ID\\textbackslash{} & \\textbackslash{}\\_Topmed Study Accession with Subject ID\\textbackslash{} & \\textbackslash{}\\_consents\\textbackslash{}\\\\\n",
       "  & <int> & <dbl> & <chr> & <chr> & <lgl> & <chr>\\\\\n",
       "\\hline\n",
       "\t1 & 34717 & 25.23634 & Female & phs001252.v1\\_ecl122536 & NA & phs001252.c1\\\\\n",
       "\t2 & 34718 & 26.17188 & Female & phs001252.v1\\_ecl122472 & NA & phs001252.c1\\\\\n",
       "\t3 & 34719 & 23.22082 & Male   & phs001252.v1\\_ecl122464 & NA & phs001252.c1\\\\\n",
       "\t4 & 34720 & 21.52695 & Female & phs001252.v1\\_ecl122401 & NA & phs001252.c1\\\\\n",
       "\t5 & 34721 & 22.30815 & Male   & phs001252.v1\\_ecl122383 & NA & phs001252.c1\\\\\n",
       "\t6 & 34722 & 21.43903 & Female & phs001252.v1\\_ecl122354 & NA & phs001252.c1\\\\\n",
       "\\end{tabular}\n"
      ],
      "text/markdown": [
       "\n",
       "A data.frame: 6 × 6\n",
       "\n",
       "| <!--/--> | Patient ID &lt;int&gt; | \\Evaluation of COPD Longitudinally to Identify Predictive Surrogate Endpoints (ECLIPSE) ( phs001252 )\\Body mass index (kg/m2)\\ &lt;dbl&gt; | \\Evaluation of COPD Longitudinally to Identify Predictive Surrogate Endpoints (ECLIPSE) ( phs001252 )\\Sex\\ &lt;chr&gt; | \\_Parent Study Accession with Subject ID\\ &lt;chr&gt; | \\_Topmed Study Accession with Subject ID\\ &lt;lgl&gt; | \\_consents\\ &lt;chr&gt; |\n",
       "|---|---|---|---|---|---|---|\n",
       "| 1 | 34717 | 25.23634 | Female | phs001252.v1_ecl122536 | NA | phs001252.c1 |\n",
       "| 2 | 34718 | 26.17188 | Female | phs001252.v1_ecl122472 | NA | phs001252.c1 |\n",
       "| 3 | 34719 | 23.22082 | Male   | phs001252.v1_ecl122464 | NA | phs001252.c1 |\n",
       "| 4 | 34720 | 21.52695 | Female | phs001252.v1_ecl122401 | NA | phs001252.c1 |\n",
       "| 5 | 34721 | 22.30815 | Male   | phs001252.v1_ecl122383 | NA | phs001252.c1 |\n",
       "| 6 | 34722 | 21.43903 | Female | phs001252.v1_ecl122354 | NA | phs001252.c1 |\n",
       "\n"
      ],
      "text/plain": [
       "  Patient ID\n",
       "1 34717     \n",
       "2 34718     \n",
       "3 34719     \n",
       "4 34720     \n",
       "5 34721     \n",
       "6 34722     \n",
       "  \\\\Evaluation of COPD Longitudinally to Identify Predictive Surrogate Endpoints (ECLIPSE) ( phs001252 )\\\\Body mass index (kg/m2)\\\\\n",
       "1 25.23634                                                                                                                         \n",
       "2 26.17188                                                                                                                         \n",
       "3 23.22082                                                                                                                         \n",
       "4 21.52695                                                                                                                         \n",
       "5 22.30815                                                                                                                         \n",
       "6 21.43903                                                                                                                         \n",
       "  \\\\Evaluation of COPD Longitudinally to Identify Predictive Surrogate Endpoints (ECLIPSE) ( phs001252 )\\\\Sex\\\\\n",
       "1 Female                                                                                                       \n",
       "2 Female                                                                                                       \n",
       "3 Male                                                                                                         \n",
       "4 Female                                                                                                       \n",
       "5 Male                                                                                                         \n",
       "6 Female                                                                                                       \n",
       "  \\\\_Parent Study Accession with Subject ID\\\\\n",
       "1 phs001252.v1_ecl122536                     \n",
       "2 phs001252.v1_ecl122472                     \n",
       "3 phs001252.v1_ecl122464                     \n",
       "4 phs001252.v1_ecl122401                     \n",
       "5 phs001252.v1_ecl122383                     \n",
       "6 phs001252.v1_ecl122354                     \n",
       "  \\\\_Topmed Study Accession with Subject ID\\\\ \\\\_consents\\\\\n",
       "1 NA                                          phs001252.c1 \n",
       "2 NA                                          phs001252.c1 \n",
       "3 NA                                          phs001252.c1 \n",
       "4 NA                                          phs001252.c1 \n",
       "5 NA                                          phs001252.c1 \n",
       "6 NA                                          phs001252.c1 "
      ]
     },
     "metadata": {},
     "output_type": "display_data"
    }
   ],
   "source": [
    "# Check results\n",
    "eclipse_results <- bdc::query.run(eclipse_query, result.type = 'dataframe')\n",
    "head(eclipse_results)"
   ]
  },
  {
   "cell_type": "code",
   "execution_count": 20,
   "id": "903efd1c",
   "metadata": {},
   "outputs": [],
   "source": [
    "# Initialize a query\n",
    "eocopd_query <- bdc::new.query(resource = resource)\n",
    "# Build query using these concept paths\n",
    "bdc::query.anyof.add(query = eocopd_query,\n",
    "                     keys = eocopd_var)\n",
    "bdc::query.anyof.add(query = eocopd_query,\n",
    "                     keys = eocopd_bmi)"
   ]
  },
  {
   "cell_type": "code",
   "execution_count": 21,
   "id": "421c1033",
   "metadata": {},
   "outputs": [
    {
     "data": {
      "text/html": [
       "<table class=\"dataframe\">\n",
       "<caption>A data.frame: 6 × 6</caption>\n",
       "<thead>\n",
       "\t<tr><th></th><th scope=col>Patient ID</th><th scope=col>\\NHLBI TOPMed: Boston Early-Onset COPD Study ( phs000946 )\\Subject ID, subject age, gender, race, height, weight, BMI, age at sample collection, pregnancy, number of cigarettes per day, current or former smoker, and packs of cigarettes smoked per day multiplied by years of participants with early onset COPD and their pedigree and involved in the 'Boston Early-Onset COPD Study in the National Heart, Lung, and Blood Institute (NHLBI) Trans-Omics for Precision Medicine (TOPMed) Program' project.\\Body Mass Index [BMI ]\\</th><th scope=col>\\NHLBI TOPMed: Boston Early-Onset COPD Study ( phs000946 )\\Subject ID, subject age, gender, race, height, weight, BMI, age at sample collection, pregnancy, number of cigarettes per day, current or former smoker, and packs of cigarettes smoked per day multiplied by years of participants with early onset COPD and their pedigree and involved in the 'Boston Early-Onset COPD Study in the National Heart, Lung, and Blood Institute (NHLBI) Trans-Omics for Precision Medicine (TOPMed) Program' project.\\Gender of participant [Male, Female]\\</th><th scope=col>\\_Parent Study Accession with Subject ID\\</th><th scope=col>\\_Topmed Study Accession with Subject ID\\</th><th scope=col>\\_consents\\</th></tr>\n",
       "\t<tr><th></th><th scope=col>&lt;int&gt;</th><th scope=col>&lt;dbl&gt;</th><th scope=col>&lt;chr&gt;</th><th scope=col>&lt;lgl&gt;</th><th scope=col>&lt;chr&gt;</th><th scope=col>&lt;chr&gt;</th></tr>\n",
       "</thead>\n",
       "<tbody>\n",
       "\t<tr><th scope=row>1</th><td>53559</td><td>20.55</td><td>Female</td><td>NA</td><td>phs000946.v4_EO8057436</td><td>phs000946.c1</td></tr>\n",
       "\t<tr><th scope=row>2</th><td>53560</td><td>  NaN</td><td>Female</td><td>NA</td><td>phs000946.v4_EO5009365</td><td>phs000946.c1</td></tr>\n",
       "\t<tr><th scope=row>3</th><td>53561</td><td>38.37</td><td>Female</td><td>NA</td><td>phs000946.v4_EO2092254</td><td>phs000946.c1</td></tr>\n",
       "\t<tr><th scope=row>4</th><td>53562</td><td>20.97</td><td>Female</td><td>NA</td><td>phs000946.v4_EO3071342</td><td>phs000946.c1</td></tr>\n",
       "\t<tr><th scope=row>5</th><td>53563</td><td>  NaN</td><td>Female</td><td>NA</td><td>phs000946.v4_EO6087779</td><td>phs000946.c1</td></tr>\n",
       "\t<tr><th scope=row>6</th><td>53564</td><td>19.11</td><td>Female</td><td>NA</td><td>phs000946.v4_EO1035541</td><td>phs000946.c1</td></tr>\n",
       "</tbody>\n",
       "</table>\n"
      ],
      "text/latex": [
       "A data.frame: 6 × 6\n",
       "\\begin{tabular}{r|llllll}\n",
       "  & Patient ID & \\textbackslash{}NHLBI TOPMed: Boston Early-Onset COPD Study ( phs000946 )\\textbackslash{}Subject ID, subject age, gender, race, height, weight, BMI, age at sample collection, pregnancy, number of cigarettes per day, current or former smoker, and packs of cigarettes smoked per day multiplied by years of participants with early onset COPD and their pedigree and involved in the 'Boston Early-Onset COPD Study in the National Heart, Lung, and Blood Institute (NHLBI) Trans-Omics for Precision Medicine (TOPMed) Program' project.\\textbackslash{}Body Mass Index {[}BMI {]}\\textbackslash{} & \\textbackslash{}NHLBI TOPMed: Boston Early-Onset COPD Study ( phs000946 )\\textbackslash{}Subject ID, subject age, gender, race, height, weight, BMI, age at sample collection, pregnancy, number of cigarettes per day, current or former smoker, and packs of cigarettes smoked per day multiplied by years of participants with early onset COPD and their pedigree and involved in the 'Boston Early-Onset COPD Study in the National Heart, Lung, and Blood Institute (NHLBI) Trans-Omics for Precision Medicine (TOPMed) Program' project.\\textbackslash{}Gender of participant {[}Male, Female{]}\\textbackslash{} & \\textbackslash{}\\_Parent Study Accession with Subject ID\\textbackslash{} & \\textbackslash{}\\_Topmed Study Accession with Subject ID\\textbackslash{} & \\textbackslash{}\\_consents\\textbackslash{}\\\\\n",
       "  & <int> & <dbl> & <chr> & <lgl> & <chr> & <chr>\\\\\n",
       "\\hline\n",
       "\t1 & 53559 & 20.55 & Female & NA & phs000946.v4\\_EO8057436 & phs000946.c1\\\\\n",
       "\t2 & 53560 &   NaN & Female & NA & phs000946.v4\\_EO5009365 & phs000946.c1\\\\\n",
       "\t3 & 53561 & 38.37 & Female & NA & phs000946.v4\\_EO2092254 & phs000946.c1\\\\\n",
       "\t4 & 53562 & 20.97 & Female & NA & phs000946.v4\\_EO3071342 & phs000946.c1\\\\\n",
       "\t5 & 53563 &   NaN & Female & NA & phs000946.v4\\_EO6087779 & phs000946.c1\\\\\n",
       "\t6 & 53564 & 19.11 & Female & NA & phs000946.v4\\_EO1035541 & phs000946.c1\\\\\n",
       "\\end{tabular}\n"
      ],
      "text/markdown": [
       "\n",
       "A data.frame: 6 × 6\n",
       "\n",
       "| <!--/--> | Patient ID &lt;int&gt; | \\NHLBI TOPMed: Boston Early-Onset COPD Study ( phs000946 )\\Subject ID, subject age, gender, race, height, weight, BMI, age at sample collection, pregnancy, number of cigarettes per day, current or former smoker, and packs of cigarettes smoked per day multiplied by years of participants with early onset COPD and their pedigree and involved in the 'Boston Early-Onset COPD Study in the National Heart, Lung, and Blood Institute (NHLBI) Trans-Omics for Precision Medicine (TOPMed) Program' project.\\Body Mass Index [BMI ]\\ &lt;dbl&gt; | \\NHLBI TOPMed: Boston Early-Onset COPD Study ( phs000946 )\\Subject ID, subject age, gender, race, height, weight, BMI, age at sample collection, pregnancy, number of cigarettes per day, current or former smoker, and packs of cigarettes smoked per day multiplied by years of participants with early onset COPD and their pedigree and involved in the 'Boston Early-Onset COPD Study in the National Heart, Lung, and Blood Institute (NHLBI) Trans-Omics for Precision Medicine (TOPMed) Program' project.\\Gender of participant [Male, Female]\\ &lt;chr&gt; | \\_Parent Study Accession with Subject ID\\ &lt;lgl&gt; | \\_Topmed Study Accession with Subject ID\\ &lt;chr&gt; | \\_consents\\ &lt;chr&gt; |\n",
       "|---|---|---|---|---|---|---|\n",
       "| 1 | 53559 | 20.55 | Female | NA | phs000946.v4_EO8057436 | phs000946.c1 |\n",
       "| 2 | 53560 |   NaN | Female | NA | phs000946.v4_EO5009365 | phs000946.c1 |\n",
       "| 3 | 53561 | 38.37 | Female | NA | phs000946.v4_EO2092254 | phs000946.c1 |\n",
       "| 4 | 53562 | 20.97 | Female | NA | phs000946.v4_EO3071342 | phs000946.c1 |\n",
       "| 5 | 53563 |   NaN | Female | NA | phs000946.v4_EO6087779 | phs000946.c1 |\n",
       "| 6 | 53564 | 19.11 | Female | NA | phs000946.v4_EO1035541 | phs000946.c1 |\n",
       "\n"
      ],
      "text/plain": [
       "  Patient ID\n",
       "1 53559     \n",
       "2 53560     \n",
       "3 53561     \n",
       "4 53562     \n",
       "5 53563     \n",
       "6 53564     \n",
       "  \\\\NHLBI TOPMed: Boston Early-Onset COPD Study ( phs000946 )\\\\Subject ID, subject age, gender, race, height, weight, BMI, age at sample collection, pregnancy, number of cigarettes per day, current or former smoker, and packs of cigarettes smoked per day multiplied by years of participants with early onset COPD and their pedigree and involved in the 'Boston Early-Onset COPD Study in the National Heart, Lung, and Blood Institute (NHLBI) Trans-Omics for Precision Medicine (TOPMed) Program' project.\\\\Body Mass Index [BMI ]\\\\\n",
       "1 20.55                                                                                                                                                                                                                                                                                                                                                                                                                                                                                                                                        \n",
       "2   NaN                                                                                                                                                                                                                                                                                                                                                                                                                                                                                                                                        \n",
       "3 38.37                                                                                                                                                                                                                                                                                                                                                                                                                                                                                                                                        \n",
       "4 20.97                                                                                                                                                                                                                                                                                                                                                                                                                                                                                                                                        \n",
       "5   NaN                                                                                                                                                                                                                                                                                                                                                                                                                                                                                                                                        \n",
       "6 19.11                                                                                                                                                                                                                                                                                                                                                                                                                                                                                                                                        \n",
       "  \\\\NHLBI TOPMed: Boston Early-Onset COPD Study ( phs000946 )\\\\Subject ID, subject age, gender, race, height, weight, BMI, age at sample collection, pregnancy, number of cigarettes per day, current or former smoker, and packs of cigarettes smoked per day multiplied by years of participants with early onset COPD and their pedigree and involved in the 'Boston Early-Onset COPD Study in the National Heart, Lung, and Blood Institute (NHLBI) Trans-Omics for Precision Medicine (TOPMed) Program' project.\\\\Gender of participant [Male, Female]\\\\\n",
       "1 Female                                                                                                                                                                                                                                                                                                                                                                                                                                                                                                                                                     \n",
       "2 Female                                                                                                                                                                                                                                                                                                                                                                                                                                                                                                                                                     \n",
       "3 Female                                                                                                                                                                                                                                                                                                                                                                                                                                                                                                                                                     \n",
       "4 Female                                                                                                                                                                                                                                                                                                                                                                                                                                                                                                                                                     \n",
       "5 Female                                                                                                                                                                                                                                                                                                                                                                                                                                                                                                                                                     \n",
       "6 Female                                                                                                                                                                                                                                                                                                                                                                                                                                                                                                                                                     \n",
       "  \\\\_Parent Study Accession with Subject ID\\\\\n",
       "1 NA                                         \n",
       "2 NA                                         \n",
       "3 NA                                         \n",
       "4 NA                                         \n",
       "5 NA                                         \n",
       "6 NA                                         \n",
       "  \\\\_Topmed Study Accession with Subject ID\\\\ \\\\_consents\\\\\n",
       "1 phs000946.v4_EO8057436                      phs000946.c1 \n",
       "2 phs000946.v4_EO5009365                      phs000946.c1 \n",
       "3 phs000946.v4_EO2092254                      phs000946.c1 \n",
       "4 phs000946.v4_EO3071342                      phs000946.c1 \n",
       "5 phs000946.v4_EO6087779                      phs000946.c1 \n",
       "6 phs000946.v4_EO1035541                      phs000946.c1 "
      ]
     },
     "metadata": {},
     "output_type": "display_data"
    }
   ],
   "source": [
    "# Check results\n",
    "eocopd_results <- bdc::query.run(eocopd_query, result.type = 'dataframe')\n",
    "head(eocopd_results)"
   ]
  },
  {
   "cell_type": "code",
   "execution_count": 22,
   "id": "d866ee11",
   "metadata": {},
   "outputs": [],
   "source": [
    "# Initialize a query\n",
    "dcc_harmonized_query <- bdc::new.query(resource = resource)\n",
    "# Build query using these concept paths\n",
    "bdc::query.anyof.add(query = dcc_harmonized_query,\n",
    "                     keys =  topmed_var)\n",
    "bdc::query.anyof.add(query = dcc_harmonized_query,\n",
    "                     keys = topmed_bmi)"
   ]
  },
  {
   "cell_type": "code",
   "execution_count": 23,
   "id": "7dc23a00",
   "metadata": {},
   "outputs": [
    {
     "data": {
      "text/html": [
       "<table class=\"dataframe\">\n",
       "<caption>A data.frame: 6 × 7</caption>\n",
       "<thead>\n",
       "\t<tr><th></th><th scope=col>Patient ID</th><th scope=col>\\DCC Harmonized data set\\01 - Demographics\\Subject sex  as recorded by the study.\\</th><th scope=col>\\DCC Harmonized data set\\03 - Baseline common covariates\\Body mass index calculated at baseline.\\</th><th scope=col>\\_Parent Study Accession with Subject ID\\</th><th scope=col>\\_Topmed Study Accession with Subject ID\\</th><th scope=col>\\_consents\\</th><th scope=col>\\_harmonized_consent\\</th></tr>\n",
       "\t<tr><th></th><th scope=col>&lt;int&gt;</th><th scope=col>&lt;chr&gt;</th><th scope=col>&lt;dbl&gt;</th><th scope=col>&lt;chr&gt;</th><th scope=col>&lt;chr&gt;</th><th scope=col>&lt;chr&gt;</th><th scope=col>&lt;chr&gt;</th></tr>\n",
       "</thead>\n",
       "<tbody>\n",
       "\t<tr><th scope=row>1</th><td>1</td><td>Male  </td><td>22.50754</td><td></td><td>phs000956.v4_DBG00001</td><td>phs000956.c2</td><td>phs000956.c2</td></tr>\n",
       "\t<tr><th scope=row>2</th><td>2</td><td>Female</td><td>21.84996</td><td></td><td>phs000956.v4_DBG00002</td><td>phs000956.c2</td><td>phs000956.c2</td></tr>\n",
       "\t<tr><th scope=row>3</th><td>3</td><td>Male  </td><td>22.31174</td><td></td><td>phs000956.v4_DBG00003</td><td>phs000956.c2</td><td>phs000956.c2</td></tr>\n",
       "\t<tr><th scope=row>4</th><td>4</td><td>Male  </td><td>22.60935</td><td></td><td>phs000956.v4_DBG00004</td><td>phs000956.c2</td><td>phs000956.c2</td></tr>\n",
       "\t<tr><th scope=row>5</th><td>5</td><td>Male  </td><td>31.20570</td><td></td><td>phs000956.v4_DBG00005</td><td>phs000956.c2</td><td>phs000956.c2</td></tr>\n",
       "\t<tr><th scope=row>6</th><td>6</td><td>Male  </td><td>28.76824</td><td></td><td>phs000956.v4_DBG00006</td><td>phs000956.c2</td><td>phs000956.c2</td></tr>\n",
       "</tbody>\n",
       "</table>\n"
      ],
      "text/latex": [
       "A data.frame: 6 × 7\n",
       "\\begin{tabular}{r|lllllll}\n",
       "  & Patient ID & \\textbackslash{}DCC Harmonized data set\\textbackslash{}01 - Demographics\\textbackslash{}Subject sex  as recorded by the study.\\textbackslash{} & \\textbackslash{}DCC Harmonized data set\\textbackslash{}03 - Baseline common covariates\\textbackslash{}Body mass index calculated at baseline.\\textbackslash{} & \\textbackslash{}\\_Parent Study Accession with Subject ID\\textbackslash{} & \\textbackslash{}\\_Topmed Study Accession with Subject ID\\textbackslash{} & \\textbackslash{}\\_consents\\textbackslash{} & \\textbackslash{}\\_harmonized\\_consent\\textbackslash{}\\\\\n",
       "  & <int> & <chr> & <dbl> & <chr> & <chr> & <chr> & <chr>\\\\\n",
       "\\hline\n",
       "\t1 & 1 & Male   & 22.50754 &  & phs000956.v4\\_DBG00001 & phs000956.c2 & phs000956.c2\\\\\n",
       "\t2 & 2 & Female & 21.84996 &  & phs000956.v4\\_DBG00002 & phs000956.c2 & phs000956.c2\\\\\n",
       "\t3 & 3 & Male   & 22.31174 &  & phs000956.v4\\_DBG00003 & phs000956.c2 & phs000956.c2\\\\\n",
       "\t4 & 4 & Male   & 22.60935 &  & phs000956.v4\\_DBG00004 & phs000956.c2 & phs000956.c2\\\\\n",
       "\t5 & 5 & Male   & 31.20570 &  & phs000956.v4\\_DBG00005 & phs000956.c2 & phs000956.c2\\\\\n",
       "\t6 & 6 & Male   & 28.76824 &  & phs000956.v4\\_DBG00006 & phs000956.c2 & phs000956.c2\\\\\n",
       "\\end{tabular}\n"
      ],
      "text/markdown": [
       "\n",
       "A data.frame: 6 × 7\n",
       "\n",
       "| <!--/--> | Patient ID &lt;int&gt; | \\DCC Harmonized data set\\01 - Demographics\\Subject sex  as recorded by the study.\\ &lt;chr&gt; | \\DCC Harmonized data set\\03 - Baseline common covariates\\Body mass index calculated at baseline.\\ &lt;dbl&gt; | \\_Parent Study Accession with Subject ID\\ &lt;chr&gt; | \\_Topmed Study Accession with Subject ID\\ &lt;chr&gt; | \\_consents\\ &lt;chr&gt; | \\_harmonized_consent\\ &lt;chr&gt; |\n",
       "|---|---|---|---|---|---|---|---|\n",
       "| 1 | 1 | Male   | 22.50754 | <!----> | phs000956.v4_DBG00001 | phs000956.c2 | phs000956.c2 |\n",
       "| 2 | 2 | Female | 21.84996 | <!----> | phs000956.v4_DBG00002 | phs000956.c2 | phs000956.c2 |\n",
       "| 3 | 3 | Male   | 22.31174 | <!----> | phs000956.v4_DBG00003 | phs000956.c2 | phs000956.c2 |\n",
       "| 4 | 4 | Male   | 22.60935 | <!----> | phs000956.v4_DBG00004 | phs000956.c2 | phs000956.c2 |\n",
       "| 5 | 5 | Male   | 31.20570 | <!----> | phs000956.v4_DBG00005 | phs000956.c2 | phs000956.c2 |\n",
       "| 6 | 6 | Male   | 28.76824 | <!----> | phs000956.v4_DBG00006 | phs000956.c2 | phs000956.c2 |\n",
       "\n"
      ],
      "text/plain": [
       "  Patient ID\n",
       "1 1         \n",
       "2 2         \n",
       "3 3         \n",
       "4 4         \n",
       "5 5         \n",
       "6 6         \n",
       "  \\\\DCC Harmonized data set\\\\01 - Demographics\\\\Subject sex  as recorded by the study.\\\\\n",
       "1 Male                                                                                  \n",
       "2 Female                                                                                \n",
       "3 Male                                                                                  \n",
       "4 Male                                                                                  \n",
       "5 Male                                                                                  \n",
       "6 Male                                                                                  \n",
       "  \\\\DCC Harmonized data set\\\\03 - Baseline common covariates\\\\Body mass index calculated at baseline.\\\\\n",
       "1 22.50754                                                                                             \n",
       "2 21.84996                                                                                             \n",
       "3 22.31174                                                                                             \n",
       "4 22.60935                                                                                             \n",
       "5 31.20570                                                                                             \n",
       "6 28.76824                                                                                             \n",
       "  \\\\_Parent Study Accession with Subject ID\\\\\n",
       "1                                            \n",
       "2                                            \n",
       "3                                            \n",
       "4                                            \n",
       "5                                            \n",
       "6                                            \n",
       "  \\\\_Topmed Study Accession with Subject ID\\\\ \\\\_consents\\\\\n",
       "1 phs000956.v4_DBG00001                       phs000956.c2 \n",
       "2 phs000956.v4_DBG00002                       phs000956.c2 \n",
       "3 phs000956.v4_DBG00003                       phs000956.c2 \n",
       "4 phs000956.v4_DBG00004                       phs000956.c2 \n",
       "5 phs000956.v4_DBG00005                       phs000956.c2 \n",
       "6 phs000956.v4_DBG00006                       phs000956.c2 \n",
       "  \\\\_harmonized_consent\\\\\n",
       "1 phs000956.c2           \n",
       "2 phs000956.c2           \n",
       "3 phs000956.c2           \n",
       "4 phs000956.c2           \n",
       "5 phs000956.c2           \n",
       "6 phs000956.c2           "
      ]
     },
     "metadata": {},
     "output_type": "display_data"
    }
   ],
   "source": [
    "# Check results\n",
    "dcc_harmonized_results <- bdc::query.run(dcc_harmonized_query, result.type = 'dataframe')\n",
    "head(dcc_harmonized_results)"
   ]
  },
  {
   "cell_type": "markdown",
   "id": "1c70dda4",
   "metadata": {},
   "source": [
    "Now that we have our patient-level dataframes, we can combine them into a single, cohesive dataframe.\n",
    "\n",
    "The following function accomplishes three main tasks:\n",
    "1. Removes extra columns, such as consent information\n",
    "2. Renames the BMI and Sex columns\n",
    "3. Adds the Dataset column, which corresponds to the study"
   ]
  },
  {
   "cell_type": "code",
   "execution_count": 24,
   "id": "3b2fe5fe",
   "metadata": {},
   "outputs": [],
   "source": [
    "clean_up_df <- function(df, study){\n",
    "    columns_to_drop <- c('\\\\_Parent Study Accession with Subject ID\\\\', '\\\\_Topmed Study Accession with Subject ID\\\\', '\\\\_consents\\\\', '\\\\_harmonized_consent\\\\')\n",
    "    df1 <- df[,!(names(df) %in% columns_to_drop)]\n",
    "    if(grepl('body mass index', names(df1)[2], ignore.case=TRUE)){\n",
    "        names(df1)[2] <- 'BMI'\n",
    "        names(df1)[3] <- 'Sex'\n",
    "    } else {\n",
    "        names(df1)[2] <- \"Sex\"\n",
    "        names(df1)[3] <- \"BMI\"\n",
    "    }\n",
    "    df2 <- na.omit(df1)\n",
    "    df2$Dataset <- study\n",
    "    return(df2)\n",
    "}"
   ]
  },
  {
   "cell_type": "code",
   "execution_count": 25,
   "id": "e5f44c99",
   "metadata": {
    "scrolled": true
   },
   "outputs": [],
   "source": [
    "clean_eclipse <- clean_up_df(eclipse_results, 'ECLIPSE')\n",
    "clean_eocopd <- clean_up_df(eocopd_results, \"EOCOPD\")\n",
    "clean_dcc <- clean_up_df(dcc_harmonized_results, \"TOPMed Harmonized\")"
   ]
  },
  {
   "cell_type": "markdown",
   "id": "6a49e4b3",
   "metadata": {},
   "source": [
    "The datasets have been prepped. We can now merge them and begin our analysis."
   ]
  },
  {
   "cell_type": "code",
   "execution_count": 26,
   "id": "2c61ddbc",
   "metadata": {},
   "outputs": [],
   "source": [
    "# Combine individual dataframes\n",
    "final_df <- rbind(clean_eclipse, clean_eocopd, clean_dcc)"
   ]
  },
  {
   "cell_type": "code",
   "execution_count": 27,
   "id": "d81b41c8",
   "metadata": {
    "scrolled": true
   },
   "outputs": [
    {
     "name": "stderr",
     "output_type": "stream",
     "text": [
      "`summarise()` has grouped output by 'Dataset'. You can override using the `.groups` argument.\n",
      "\n"
     ]
    },
    {
     "name": "stdout",
     "output_type": "stream",
     "text": [
      "\u001b[90m# A tibble: 6 × 3\u001b[39m\n",
      "\u001b[90m# Groups:   Dataset [3]\u001b[39m\n",
      "  Dataset           Sex    mean_BMI\n",
      "  \u001b[3m\u001b[90m<chr>\u001b[39m\u001b[23m             \u001b[3m\u001b[90m<chr>\u001b[39m\u001b[23m     \u001b[3m\u001b[90m<dbl>\u001b[39m\u001b[23m\n",
      "\u001b[90m1\u001b[39m ECLIPSE           Female     25.4\n",
      "\u001b[90m2\u001b[39m ECLIPSE           Male       26.0\n",
      "\u001b[90m3\u001b[39m EOCOPD            Female     24.8\n",
      "\u001b[90m4\u001b[39m EOCOPD            Male       23.8\n",
      "\u001b[90m5\u001b[39m TOPMed Harmonized Female     28.1\n",
      "\u001b[90m6\u001b[39m TOPMed Harmonized Male       27.8\n",
      "\u001b[90m# A tibble: 2 × 2\u001b[39m\n",
      "  Sex    mean_BMI\n",
      "  \u001b[3m\u001b[90m<chr>\u001b[39m\u001b[23m     \u001b[3m\u001b[90m<dbl>\u001b[39m\u001b[23m\n",
      "\u001b[90m1\u001b[39m Female     28.1\n",
      "\u001b[90m2\u001b[39m Male       27.7\n"
     ]
    }
   ],
   "source": [
    "# Comparison of the datasets and sample harmonization\n",
    "separate <- final_df %>%\n",
    "    select(-c('Patient ID')) %>%\n",
    "    group_by(Dataset, Sex) %>%\n",
    "    summarise(mean_BMI = mean(BMI))\n",
    "print(separate)\n",
    "\n",
    "harmonized <- final_df %>%\n",
    "    select(-c('Patient ID', 'Dataset')) %>%\n",
    "    group_by(Sex) %>%\n",
    "    summarise(mean_BMI = mean(BMI))\n",
    "print(harmonized)"
   ]
  },
  {
   "cell_type": "code",
   "execution_count": 28,
   "id": "936f0e50",
   "metadata": {},
   "outputs": [],
   "source": [
    "# Make lists of male and female mean BMI for plotting\n",
    "male_means <- c(separate$mean_BMI[separate$Sex == 'Male'], harmonized$mean_BMI[harmonized$Sex == 'Male'])\n",
    "female_means <-  c(separate$mean_BMI[separate$Sex == 'Female'], harmonized$mean_BMI[harmonized$Sex == 'Female'])"
   ]
  },
  {
   "cell_type": "code",
   "execution_count": 29,
   "id": "6120e62f",
   "metadata": {},
   "outputs": [
    {
     "data": {
      "text/html": [
       "<table class=\"dataframe\">\n",
       "<caption>A data.frame: 8 × 3</caption>\n",
       "<thead>\n",
       "\t<tr><th scope=col>total_means</th><th scope=col>sex</th><th scope=col>studies</th></tr>\n",
       "\t<tr><th scope=col>&lt;dbl&gt;</th><th scope=col>&lt;chr&gt;</th><th scope=col>&lt;chr&gt;</th></tr>\n",
       "</thead>\n",
       "<tbody>\n",
       "\t<tr><td>25.96239</td><td>Male  </td><td>ECLIPSE          </td></tr>\n",
       "\t<tr><td>23.76579</td><td>Male  </td><td>EOCOPD           </td></tr>\n",
       "\t<tr><td>27.82438</td><td>Male  </td><td>TOPMed Harmonized</td></tr>\n",
       "\t<tr><td>27.74444</td><td>Male  </td><td>Combined         </td></tr>\n",
       "\t<tr><td>25.35706</td><td>Female</td><td>ECLIPSE          </td></tr>\n",
       "\t<tr><td>24.79020</td><td>Female</td><td>EOCOPD           </td></tr>\n",
       "\t<tr><td>28.10379</td><td>Female</td><td>TOPMed Harmonized</td></tr>\n",
       "\t<tr><td>28.08766</td><td>Female</td><td>Combined         </td></tr>\n",
       "</tbody>\n",
       "</table>\n"
      ],
      "text/latex": [
       "A data.frame: 8 × 3\n",
       "\\begin{tabular}{lll}\n",
       " total\\_means & sex & studies\\\\\n",
       " <dbl> & <chr> & <chr>\\\\\n",
       "\\hline\n",
       "\t 25.96239 & Male   & ECLIPSE          \\\\\n",
       "\t 23.76579 & Male   & EOCOPD           \\\\\n",
       "\t 27.82438 & Male   & TOPMed Harmonized\\\\\n",
       "\t 27.74444 & Male   & Combined         \\\\\n",
       "\t 25.35706 & Female & ECLIPSE          \\\\\n",
       "\t 24.79020 & Female & EOCOPD           \\\\\n",
       "\t 28.10379 & Female & TOPMed Harmonized\\\\\n",
       "\t 28.08766 & Female & Combined         \\\\\n",
       "\\end{tabular}\n"
      ],
      "text/markdown": [
       "\n",
       "A data.frame: 8 × 3\n",
       "\n",
       "| total_means &lt;dbl&gt; | sex &lt;chr&gt; | studies &lt;chr&gt; |\n",
       "|---|---|---|\n",
       "| 25.96239 | Male   | ECLIPSE           |\n",
       "| 23.76579 | Male   | EOCOPD            |\n",
       "| 27.82438 | Male   | TOPMed Harmonized |\n",
       "| 27.74444 | Male   | Combined          |\n",
       "| 25.35706 | Female | ECLIPSE           |\n",
       "| 24.79020 | Female | EOCOPD            |\n",
       "| 28.10379 | Female | TOPMed Harmonized |\n",
       "| 28.08766 | Female | Combined          |\n",
       "\n"
      ],
      "text/plain": [
       "  total_means sex    studies          \n",
       "1 25.96239    Male   ECLIPSE          \n",
       "2 23.76579    Male   EOCOPD           \n",
       "3 27.82438    Male   TOPMed Harmonized\n",
       "4 27.74444    Male   Combined         \n",
       "5 25.35706    Female ECLIPSE          \n",
       "6 24.79020    Female EOCOPD           \n",
       "7 28.10379    Female TOPMed Harmonized\n",
       "8 28.08766    Female Combined         "
      ]
     },
     "metadata": {},
     "output_type": "display_data"
    }
   ],
   "source": [
    "studies <- rep(c('ECLIPSE', \"EOCOPD\", 'TOPMed Harmonized', \"Combined\"), 2)\n",
    "sex <- c(rep('Male', 4), rep('Female', 4))\n",
    "total_means <- c(male_means, female_means)\n",
    "to_plot <- data.frame(total_means, sex, studies)\n",
    "to_plot"
   ]
  },
  {
   "cell_type": "code",
   "execution_count": 30,
   "id": "6fc4a69b",
   "metadata": {},
   "outputs": [
    {
     "data": {
      "image/png": "[encoded data removed]",
      "text/plain": [
       "plot without title"
      ]
     },
     "metadata": {
      "image/png": {
       "height": 420,
       "width": 420
      }
     },
     "output_type": "display_data"
    }
   ],
   "source": [
    "ggplot(data = to_plot, aes(fill=studies, y=total_means, x=sex)) + \n",
    "    geom_bar(position=\"dodge\", stat=\"identity\") +\n",
    "    labs(title = \"Average Body Mass Index by Sex and Dataset\",\n",
    "         x = \"Sex\", y = \"Body Mass Index (BMI)\",\n",
    "         fill = \"Dataset\")"
   ]
  },
  {
   "cell_type": "markdown",
   "id": "0b7e7687",
   "metadata": {},
   "source": [
    "-----"
   ]
  },
  {
   "cell_type": "markdown",
   "id": "89661263",
   "metadata": {},
   "source": [
    "### Orthopnea variables across studies\n",
    "In this example, we will be harmonizing variables related to `orthopnea`. Orthopnea is shortness of breath that occurs when individuals lie flat. Because of this, people with orthopnea have to sleep propped up in bed or sitting in a chair. You can read more about this condition [here](https://www.sleepfoundation.org/sleep-apnea/orthopnea).\n",
    "\n",
    "Let's start by doing a search in PIC-SURE for concept paths containing `orthopnea`."
   ]
  },
  {
   "cell_type": "code",
   "execution_count": 31,
   "id": "4c617b15",
   "metadata": {
    "scrolled": true
   },
   "outputs": [
    {
     "data": {
      "text/html": [
       "<table class=\"dataframe\">\n",
       "<caption>A data.frame: 6 × 9</caption>\n",
       "<thead>\n",
       "\t<tr><th></th><th scope=col>categorical</th><th scope=col>observationCount</th><th scope=col>patientCount</th><th scope=col>name</th><th scope=col>min</th><th scope=col>max</th><th scope=col>HpdsDataType</th><th scope=col>categoryValues</th><th scope=col>description</th></tr>\n",
       "\t<tr><th></th><th scope=col>&lt;lgl&gt;</th><th scope=col>&lt;int&gt;</th><th scope=col>&lt;int&gt;</th><th scope=col>&lt;chr&gt;</th><th scope=col>&lt;lgl&gt;</th><th scope=col>&lt;lgl&gt;</th><th scope=col>&lt;chr&gt;</th><th scope=col>&lt;list&gt;</th><th scope=col>&lt;lgl&gt;</th></tr>\n",
       "</thead>\n",
       "<tbody>\n",
       "\t<tr><th scope=row>1</th><td>TRUE</td><td>7048</td><td>7048</td><td>\\Framingham Cohort ( phs000007 )\\Tests\\ECG\\DO YOU/HAVE YOU NEEDED TO SLEEP ON TWO OR MORE PILLOWS TO HELP YOU BREATH? (ORTHOPNEA)\\                                                                                                                                                                                                                                                                                                                                         </td><td>NA</td><td>NA</td><td>phenotypes</td><td>NO , YES</td><td>NA</td></tr>\n",
       "\t<tr><th scope=row>2</th><td>TRUE</td><td>4064</td><td>4064</td><td>\\Framingham Cohort ( phs000007 )\\Lab Work\\Blood\\Hematologic\\DO YOU/HAVE YOU NEEDED TO SLEEP ON TWO OR MORE PILLOWS TO HELP YOU BREATH? (ORTHOPNEA)\\                                                                                                                                                                                                                                                                                                                       </td><td>NA</td><td>NA</td><td>phenotypes</td><td>NO , YES</td><td>NA</td></tr>\n",
       "\t<tr><th scope=row>3</th><td>TRUE</td><td> 288</td><td> 288</td><td>\\Framingham Cohort ( phs000007 )\\Clinic Questionnaire (Interview and Physical Exam)\\Clinic Exam Questionnaire\\MD Interview, Physical Exam, Examiner's Opinion, and Clinical Diagnostic Impression; Non-MD / Non-medical Interview / Self-report and Physical Exam / Anthropometrics / Observed Performance\\Medical History - Respiratory Symptoms - Part II - Shortness of breath: Do you/have you needed to sleep on two or more pillows to help you breath? (Orthopnea)\\</td><td>NA</td><td>NA</td><td>phenotypes</td><td>No , Yes</td><td>NA</td></tr>\n",
       "\t<tr><th scope=row>4</th><td>TRUE</td><td> 379</td><td> 379</td><td>\\Framingham Cohort ( phs000007 )\\Clinic Questionnaire (Interview and Physical Exam)\\Clinic Exam Questionnaire\\MD Interview, Physical Exam, Examiner's Opinion, and Clinical Diagnostic Impression; Non-MD / Non-medical Interview / Self-report and Physical Exam / Anthropometrics / Observed Performance\\ORTHOPNEA, RECENT\\                                                                                                                                             </td><td>NA</td><td>NA</td><td>phenotypes</td><td>MAYBE, NO   , YES  </td><td>NA</td></tr>\n",
       "\t<tr><th scope=row>5</th><td>TRUE</td><td> 141</td><td> 141</td><td>\\Framingham Cohort ( phs000007 )\\Tests\\ECG\\Medical History - Respiratory Symptoms: Do you/have you needed to sleep on two or more pillows to help you breathe (Orthopnea)? Variable appears on Form A only\\                                                                                                                                                                                                                                                                </td><td>NA</td><td>NA</td><td>phenotypes</td><td>No                                                        , Not applicable/ question not included in administered form, Yes                                                       </td><td>NA</td></tr>\n",
       "\t<tr><th scope=row>6</th><td>TRUE</td><td> 379</td><td> 379</td><td>\\Framingham Cohort ( phs000007 )\\Tests\\Pulmonary Function Tests\\ORTHOPNEA, RECENT\\                                                                                                                                                                                                                                                                                                                                                                                         </td><td>NA</td><td>NA</td><td>phenotypes</td><td>MAYBE, NO   , YES  </td><td>NA</td></tr>\n",
       "</tbody>\n",
       "</table>\n"
      ],
      "text/latex": [
       "A data.frame: 6 × 9\n",
       "\\begin{tabular}{r|lllllllll}\n",
       "  & categorical & observationCount & patientCount & name & min & max & HpdsDataType & categoryValues & description\\\\\n",
       "  & <lgl> & <int> & <int> & <chr> & <lgl> & <lgl> & <chr> & <list> & <lgl>\\\\\n",
       "\\hline\n",
       "\t1 & TRUE & 7048 & 7048 & \\textbackslash{}Framingham Cohort ( phs000007 )\\textbackslash{}Tests\\textbackslash{}ECG\\textbackslash{}DO YOU/HAVE YOU NEEDED TO SLEEP ON TWO OR MORE PILLOWS TO HELP YOU BREATH? (ORTHOPNEA)\\textbackslash{}                                                                                                                                                                                                                                                                                                                                          & NA & NA & phenotypes & NO , YES & NA\\\\\n",
       "\t2 & TRUE & 4064 & 4064 & \\textbackslash{}Framingham Cohort ( phs000007 )\\textbackslash{}Lab Work\\textbackslash{}Blood\\textbackslash{}Hematologic\\textbackslash{}DO YOU/HAVE YOU NEEDED TO SLEEP ON TWO OR MORE PILLOWS TO HELP YOU BREATH? (ORTHOPNEA)\\textbackslash{}                                                                                                                                                                                                                                                                                                                        & NA & NA & phenotypes & NO , YES & NA\\\\\n",
       "\t3 & TRUE &  288 &  288 & \\textbackslash{}Framingham Cohort ( phs000007 )\\textbackslash{}Clinic Questionnaire (Interview and Physical Exam)\\textbackslash{}Clinic Exam Questionnaire\\textbackslash{}MD Interview, Physical Exam, Examiner's Opinion, and Clinical Diagnostic Impression; Non-MD / Non-medical Interview / Self-report and Physical Exam / Anthropometrics / Observed Performance\\textbackslash{}Medical History - Respiratory Symptoms - Part II - Shortness of breath: Do you/have you needed to sleep on two or more pillows to help you breath? (Orthopnea)\\textbackslash{} & NA & NA & phenotypes & No , Yes & NA\\\\\n",
       "\t4 & TRUE &  379 &  379 & \\textbackslash{}Framingham Cohort ( phs000007 )\\textbackslash{}Clinic Questionnaire (Interview and Physical Exam)\\textbackslash{}Clinic Exam Questionnaire\\textbackslash{}MD Interview, Physical Exam, Examiner's Opinion, and Clinical Diagnostic Impression; Non-MD / Non-medical Interview / Self-report and Physical Exam / Anthropometrics / Observed Performance\\textbackslash{}ORTHOPNEA, RECENT\\textbackslash{}                                                                                                                                              & NA & NA & phenotypes & MAYBE, NO   , YES   & NA\\\\\n",
       "\t5 & TRUE &  141 &  141 & \\textbackslash{}Framingham Cohort ( phs000007 )\\textbackslash{}Tests\\textbackslash{}ECG\\textbackslash{}Medical History - Respiratory Symptoms: Do you/have you needed to sleep on two or more pillows to help you breathe (Orthopnea)? Variable appears on Form A only\\textbackslash{}                                                                                                                                                                                                                                                                 & NA & NA & phenotypes & No                                                        , Not applicable/ question not included in administered form, Yes                                                        & NA\\\\\n",
       "\t6 & TRUE &  379 &  379 & \\textbackslash{}Framingham Cohort ( phs000007 )\\textbackslash{}Tests\\textbackslash{}Pulmonary Function Tests\\textbackslash{}ORTHOPNEA, RECENT\\textbackslash{}                                                                                                                                                                                                                                                                                                                                                                                          & NA & NA & phenotypes & MAYBE, NO   , YES   & NA\\\\\n",
       "\\end{tabular}\n"
      ],
      "text/markdown": [
       "\n",
       "A data.frame: 6 × 9\n",
       "\n",
       "| <!--/--> | categorical &lt;lgl&gt; | observationCount &lt;int&gt; | patientCount &lt;int&gt; | name &lt;chr&gt; | min &lt;lgl&gt; | max &lt;lgl&gt; | HpdsDataType &lt;chr&gt; | categoryValues &lt;list&gt; | description &lt;lgl&gt; |\n",
       "|---|---|---|---|---|---|---|---|---|---|\n",
       "| 1 | TRUE | 7048 | 7048 | \\Framingham Cohort ( phs000007 )\\Tests\\ECG\\DO YOU/HAVE YOU NEEDED TO SLEEP ON TWO OR MORE PILLOWS TO HELP YOU BREATH? (ORTHOPNEA)\\                                                                                                                                                                                                                                                                                                                                          | NA | NA | phenotypes | NO , YES | NA |\n",
       "| 2 | TRUE | 4064 | 4064 | \\Framingham Cohort ( phs000007 )\\Lab Work\\Blood\\Hematologic\\DO YOU/HAVE YOU NEEDED TO SLEEP ON TWO OR MORE PILLOWS TO HELP YOU BREATH? (ORTHOPNEA)\\                                                                                                                                                                                                                                                                                                                        | NA | NA | phenotypes | NO , YES | NA |\n",
       "| 3 | TRUE |  288 |  288 | \\Framingham Cohort ( phs000007 )\\Clinic Questionnaire (Interview and Physical Exam)\\Clinic Exam Questionnaire\\MD Interview, Physical Exam, Examiner's Opinion, and Clinical Diagnostic Impression; Non-MD / Non-medical Interview / Self-report and Physical Exam / Anthropometrics / Observed Performance\\Medical History - Respiratory Symptoms - Part II - Shortness of breath: Do you/have you needed to sleep on two or more pillows to help you breath? (Orthopnea)\\ | NA | NA | phenotypes | No , Yes | NA |\n",
       "| 4 | TRUE |  379 |  379 | \\Framingham Cohort ( phs000007 )\\Clinic Questionnaire (Interview and Physical Exam)\\Clinic Exam Questionnaire\\MD Interview, Physical Exam, Examiner's Opinion, and Clinical Diagnostic Impression; Non-MD / Non-medical Interview / Self-report and Physical Exam / Anthropometrics / Observed Performance\\ORTHOPNEA, RECENT\\                                                                                                                                              | NA | NA | phenotypes | MAYBE, NO   , YES   | NA |\n",
       "| 5 | TRUE |  141 |  141 | \\Framingham Cohort ( phs000007 )\\Tests\\ECG\\Medical History - Respiratory Symptoms: Do you/have you needed to sleep on two or more pillows to help you breathe (Orthopnea)? Variable appears on Form A only\\                                                                                                                                                                                                                                                                 | NA | NA | phenotypes | No                                                        , Not applicable/ question not included in administered form, Yes                                                        | NA |\n",
       "| 6 | TRUE |  379 |  379 | \\Framingham Cohort ( phs000007 )\\Tests\\Pulmonary Function Tests\\ORTHOPNEA, RECENT\\                                                                                                                                                                                                                                                                                                                                                                                          | NA | NA | phenotypes | MAYBE, NO   , YES   | NA |\n",
       "\n"
      ],
      "text/plain": [
       "  categorical observationCount patientCount\n",
       "1 TRUE        7048             7048        \n",
       "2 TRUE        4064             4064        \n",
       "3 TRUE         288              288        \n",
       "4 TRUE         379              379        \n",
       "5 TRUE         141              141        \n",
       "6 TRUE         379              379        \n",
       "  name                                                                                                                                                                                                                                                                                                                                                                                                                                                                            \n",
       "1 \\\\Framingham Cohort ( phs000007 )\\\\Tests\\\\ECG\\\\DO YOU/HAVE YOU NEEDED TO SLEEP ON TWO OR MORE PILLOWS TO HELP YOU BREATH? (ORTHOPNEA)\\\\                                                                                                                                                                                                                                                                                                                                         \n",
       "2 \\\\Framingham Cohort ( phs000007 )\\\\Lab Work\\\\Blood\\\\Hematologic\\\\DO YOU/HAVE YOU NEEDED TO SLEEP ON TWO OR MORE PILLOWS TO HELP YOU BREATH? (ORTHOPNEA)\\\\                                                                                                                                                                                                                                                                                                                       \n",
       "3 \\\\Framingham Cohort ( phs000007 )\\\\Clinic Questionnaire (Interview and Physical Exam)\\\\Clinic Exam Questionnaire\\\\MD Interview, Physical Exam, Examiner's Opinion, and Clinical Diagnostic Impression; Non-MD / Non-medical Interview / Self-report and Physical Exam / Anthropometrics / Observed Performance\\\\Medical History - Respiratory Symptoms - Part II - Shortness of breath: Do you/have you needed to sleep on two or more pillows to help you breath? (Orthopnea)\\\\\n",
       "4 \\\\Framingham Cohort ( phs000007 )\\\\Clinic Questionnaire (Interview and Physical Exam)\\\\Clinic Exam Questionnaire\\\\MD Interview, Physical Exam, Examiner's Opinion, and Clinical Diagnostic Impression; Non-MD / Non-medical Interview / Self-report and Physical Exam / Anthropometrics / Observed Performance\\\\ORTHOPNEA, RECENT\\\\                                                                                                                                             \n",
       "5 \\\\Framingham Cohort ( phs000007 )\\\\Tests\\\\ECG\\\\Medical History - Respiratory Symptoms: Do you/have you needed to sleep on two or more pillows to help you breathe (Orthopnea)? Variable appears on Form A only\\\\                                                                                                                                                                                                                                                                \n",
       "6 \\\\Framingham Cohort ( phs000007 )\\\\Tests\\\\Pulmonary Function Tests\\\\ORTHOPNEA, RECENT\\\\                                                                                                                                                                                                                                                                                                                                                                                         \n",
       "  min max HpdsDataType\n",
       "1 NA  NA  phenotypes  \n",
       "2 NA  NA  phenotypes  \n",
       "3 NA  NA  phenotypes  \n",
       "4 NA  NA  phenotypes  \n",
       "5 NA  NA  phenotypes  \n",
       "6 NA  NA  phenotypes  \n",
       "  categoryValues                                                                                                                                                                    \n",
       "1 NO , YES                                                                                                                                                                          \n",
       "2 NO , YES                                                                                                                                                                          \n",
       "3 No , Yes                                                                                                                                                                          \n",
       "4 MAYBE, NO   , YES                                                                                                                                                                 \n",
       "5 No                                                        , Not applicable/ question not included in administered form, Yes                                                       \n",
       "6 MAYBE, NO   , YES                                                                                                                                                                 \n",
       "  description\n",
       "1 NA         \n",
       "2 NA         \n",
       "3 NA         \n",
       "4 NA         \n",
       "5 NA         \n",
       "6 NA         "
      ]
     },
     "metadata": {},
     "output_type": "display_data"
    }
   ],
   "source": [
    "ortho_dict <- bdc::find.in.dictionary(resource, \"orthopnea\") %>%\n",
    "    bdc::extract.entries()\n",
    "head(ortho_dict)"
   ]
  },
  {
   "cell_type": "markdown",
   "id": "84e265a6",
   "metadata": {},
   "source": [
    "As shown in the resulting dataframe, orthopnea is often recorded as a something like `sleep on two or more pillows to help you breathe?`\n",
    "\n",
    "Let's do a search for `pillows` in PIC-SURE to explore those concept paths."
   ]
  },
  {
   "cell_type": "code",
   "execution_count": 32,
   "id": "6bcf3253",
   "metadata": {
    "scrolled": true
   },
   "outputs": [
    {
     "data": {
      "text/html": [
       "<table class=\"dataframe\">\n",
       "<caption>A data.frame: 6 × 9</caption>\n",
       "<thead>\n",
       "\t<tr><th></th><th scope=col>categorical</th><th scope=col>observationCount</th><th scope=col>patientCount</th><th scope=col>name</th><th scope=col>min</th><th scope=col>max</th><th scope=col>HpdsDataType</th><th scope=col>categoryValues</th><th scope=col>description</th></tr>\n",
       "\t<tr><th></th><th scope=col>&lt;lgl&gt;</th><th scope=col>&lt;int&gt;</th><th scope=col>&lt;int&gt;</th><th scope=col>&lt;chr&gt;</th><th scope=col>&lt;lgl&gt;</th><th scope=col>&lt;lgl&gt;</th><th scope=col>&lt;chr&gt;</th><th scope=col>&lt;list&gt;</th><th scope=col>&lt;lgl&gt;</th></tr>\n",
       "</thead>\n",
       "<tbody>\n",
       "\t<tr><th scope=row>105</th><td>TRUE</td><td> 141</td><td> 141</td><td>\\Framingham Cohort ( phs000007 )\\Clinic Questionnaire (Interview and Physical Exam)\\Clinic Exam Questionnaire\\MD Interview, Physical Exam, Examiner's Opinion, and Clinical Diagnostic Impression; Non-MD / Non-medical Interview / Self-report and Physical Exam / Anthropometrics / Observed Performance\\Medical History - Respiratory Symptoms: Do you/have you needed to sleep on two or more pillows to help you breathe (Orthopnea)? Variable appears on Form A only\\                                                                              </td><td>NA</td><td>NA</td><td>phenotypes</td><td>No                                                        , Not applicable/ question not included in administered form, Yes                                                       </td><td>NA</td></tr>\n",
       "\t<tr><th scope=row>106</th><td>TRUE</td><td> 280</td><td> 280</td><td>\\Framingham Cohort ( phs000007 )\\Clinic Questionnaire (Interview and Physical Exam)\\Clinic Exam Questionnaire\\MD Interview, Physical Exam, Examiner's Opinion, and Clinical Diagnostic Impression; Non-MD / Non-medical Interview / Self-report and Physical Exam / Anthropometrics / Observed Performance\\Respiratory Disease Questionnaire - Tech Administered: When you are near animals, such as cats, dogs, horses, near feathers, including pillows, quilts, or in a dusty or moldy part of the house, do you ever - Get itching or watering eyes?\\</td><td>NA</td><td>NA</td><td>phenotypes</td><td>No , Yes</td><td>NA</td></tr>\n",
       "\t<tr><th scope=row>107</th><td>TRUE</td><td>4429</td><td>4046</td><td>\\Framingham Cohort ( phs000007 )\\Tests\\ECG\\SLEEP ON 2 OR MORE PILLOWS TO HELP YOU BREATHE\\                                                                                                                                                                                                                                                                                                                                                                                                                                                                </td><td>NA</td><td>NA</td><td>phenotypes</td><td>NO , YES</td><td>NA</td></tr>\n",
       "\t<tr><th scope=row>108</th><td>TRUE</td><td>   2</td><td>   2</td><td>\\Framingham Cohort ( phs000007 )\\Tests\\ECG\\Medical History - Respiratory Symptoms: Do you need (Have you needed) to sleep on two or more pillows to help you breathe (Orthopnea)?\\                                                                                                                                                                                                                                                                                                                                                                        </td><td>NA</td><td>NA</td><td>phenotypes</td><td>No</td><td>NA</td></tr>\n",
       "\t<tr><th scope=row>109</th><td>TRUE</td><td>3093</td><td>2930</td><td>\\Jackson Heart Study (JHS) Cohort ( phs000286 )\\Do you sleep on 2 or more pillows to improve your breathing?\\                                                                                                                                                                                                                                                                                                                                                                                                                                               </td><td>NA</td><td>NA</td><td>phenotypes</td><td>Don't know, No        , Refused   , Yes       </td><td>NA</td></tr>\n",
       "\t<tr><th scope=row>110</th><td>TRUE</td><td> 280</td><td> 280</td><td>\\Framingham Cohort ( phs000007 )\\Tests\\Ankle-arm Blood Pressure\\Respiratory Disease Questionnaire - Tech Administered: When you are near animals, such as cats, dogs, horses, near feathers, including pillows, quilts, or in a dusty or moldy part of the house, do you ever - Start to wheeze?\\                                                                                                                                                                                                                                                         </td><td>NA</td><td>NA</td><td>phenotypes</td><td>No , Yes</td><td>NA</td></tr>\n",
       "</tbody>\n",
       "</table>\n"
      ],
      "text/latex": [
       "A data.frame: 6 × 9\n",
       "\\begin{tabular}{r|lllllllll}\n",
       "  & categorical & observationCount & patientCount & name & min & max & HpdsDataType & categoryValues & description\\\\\n",
       "  & <lgl> & <int> & <int> & <chr> & <lgl> & <lgl> & <chr> & <list> & <lgl>\\\\\n",
       "\\hline\n",
       "\t105 & TRUE &  141 &  141 & \\textbackslash{}Framingham Cohort ( phs000007 )\\textbackslash{}Clinic Questionnaire (Interview and Physical Exam)\\textbackslash{}Clinic Exam Questionnaire\\textbackslash{}MD Interview, Physical Exam, Examiner's Opinion, and Clinical Diagnostic Impression; Non-MD / Non-medical Interview / Self-report and Physical Exam / Anthropometrics / Observed Performance\\textbackslash{}Medical History - Respiratory Symptoms: Do you/have you needed to sleep on two or more pillows to help you breathe (Orthopnea)? Variable appears on Form A only\\textbackslash{}                                                                               & NA & NA & phenotypes & No                                                        , Not applicable/ question not included in administered form, Yes                                                        & NA\\\\\n",
       "\t106 & TRUE &  280 &  280 & \\textbackslash{}Framingham Cohort ( phs000007 )\\textbackslash{}Clinic Questionnaire (Interview and Physical Exam)\\textbackslash{}Clinic Exam Questionnaire\\textbackslash{}MD Interview, Physical Exam, Examiner's Opinion, and Clinical Diagnostic Impression; Non-MD / Non-medical Interview / Self-report and Physical Exam / Anthropometrics / Observed Performance\\textbackslash{}Respiratory Disease Questionnaire - Tech Administered: When you are near animals, such as cats, dogs, horses, near feathers, including pillows, quilts, or in a dusty or moldy part of the house, do you ever - Get itching or watering eyes?\\textbackslash{} & NA & NA & phenotypes & No , Yes & NA\\\\\n",
       "\t107 & TRUE & 4429 & 4046 & \\textbackslash{}Framingham Cohort ( phs000007 )\\textbackslash{}Tests\\textbackslash{}ECG\\textbackslash{}SLEEP ON 2 OR MORE PILLOWS TO HELP YOU BREATHE\\textbackslash{}                                                                                                                                                                                                                                                                                                                                                                                                                                                                 & NA & NA & phenotypes & NO , YES & NA\\\\\n",
       "\t108 & TRUE &    2 &    2 & \\textbackslash{}Framingham Cohort ( phs000007 )\\textbackslash{}Tests\\textbackslash{}ECG\\textbackslash{}Medical History - Respiratory Symptoms: Do you need (Have you needed) to sleep on two or more pillows to help you breathe (Orthopnea)?\\textbackslash{}                                                                                                                                                                                                                                                                                                                                                                         & NA & NA & phenotypes & No & NA\\\\\n",
       "\t109 & TRUE & 3093 & 2930 & \\textbackslash{}Jackson Heart Study (JHS) Cohort ( phs000286 )\\textbackslash{}Do you sleep on 2 or more pillows to improve your breathing?\\textbackslash{}                                                                                                                                                                                                                                                                                                                                                                                                                                                & NA & NA & phenotypes & Don't know, No        , Refused   , Yes        & NA\\\\\n",
       "\t110 & TRUE &  280 &  280 & \\textbackslash{}Framingham Cohort ( phs000007 )\\textbackslash{}Tests\\textbackslash{}Ankle-arm Blood Pressure\\textbackslash{}Respiratory Disease Questionnaire - Tech Administered: When you are near animals, such as cats, dogs, horses, near feathers, including pillows, quilts, or in a dusty or moldy part of the house, do you ever - Start to wheeze?\\textbackslash{}                                                                                                                                                                                                                                                          & NA & NA & phenotypes & No , Yes & NA\\\\\n",
       "\\end{tabular}\n"
      ],
      "text/markdown": [
       "\n",
       "A data.frame: 6 × 9\n",
       "\n",
       "| <!--/--> | categorical &lt;lgl&gt; | observationCount &lt;int&gt; | patientCount &lt;int&gt; | name &lt;chr&gt; | min &lt;lgl&gt; | max &lt;lgl&gt; | HpdsDataType &lt;chr&gt; | categoryValues &lt;list&gt; | description &lt;lgl&gt; |\n",
       "|---|---|---|---|---|---|---|---|---|---|\n",
       "| 105 | TRUE |  141 |  141 | \\Framingham Cohort ( phs000007 )\\Clinic Questionnaire (Interview and Physical Exam)\\Clinic Exam Questionnaire\\MD Interview, Physical Exam, Examiner's Opinion, and Clinical Diagnostic Impression; Non-MD / Non-medical Interview / Self-report and Physical Exam / Anthropometrics / Observed Performance\\Medical History - Respiratory Symptoms: Do you/have you needed to sleep on two or more pillows to help you breathe (Orthopnea)? Variable appears on Form A only\\                                                                               | NA | NA | phenotypes | No                                                        , Not applicable/ question not included in administered form, Yes                                                        | NA |\n",
       "| 106 | TRUE |  280 |  280 | \\Framingham Cohort ( phs000007 )\\Clinic Questionnaire (Interview and Physical Exam)\\Clinic Exam Questionnaire\\MD Interview, Physical Exam, Examiner's Opinion, and Clinical Diagnostic Impression; Non-MD / Non-medical Interview / Self-report and Physical Exam / Anthropometrics / Observed Performance\\Respiratory Disease Questionnaire - Tech Administered: When you are near animals, such as cats, dogs, horses, near feathers, including pillows, quilts, or in a dusty or moldy part of the house, do you ever - Get itching or watering eyes?\\ | NA | NA | phenotypes | No , Yes | NA |\n",
       "| 107 | TRUE | 4429 | 4046 | \\Framingham Cohort ( phs000007 )\\Tests\\ECG\\SLEEP ON 2 OR MORE PILLOWS TO HELP YOU BREATHE\\                                                                                                                                                                                                                                                                                                                                                                                                                                                                 | NA | NA | phenotypes | NO , YES | NA |\n",
       "| 108 | TRUE |    2 |    2 | \\Framingham Cohort ( phs000007 )\\Tests\\ECG\\Medical History - Respiratory Symptoms: Do you need (Have you needed) to sleep on two or more pillows to help you breathe (Orthopnea)?\\                                                                                                                                                                                                                                                                                                                                                                         | NA | NA | phenotypes | No | NA |\n",
       "| 109 | TRUE | 3093 | 2930 | \\Jackson Heart Study (JHS) Cohort ( phs000286 )\\Do you sleep on 2 or more pillows to improve your breathing?\\                                                                                                                                                                                                                                                                                                                                                                                                                                                | NA | NA | phenotypes | Don't know, No        , Refused   , Yes        | NA |\n",
       "| 110 | TRUE |  280 |  280 | \\Framingham Cohort ( phs000007 )\\Tests\\Ankle-arm Blood Pressure\\Respiratory Disease Questionnaire - Tech Administered: When you are near animals, such as cats, dogs, horses, near feathers, including pillows, quilts, or in a dusty or moldy part of the house, do you ever - Start to wheeze?\\                                                                                                                                                                                                                                                          | NA | NA | phenotypes | No , Yes | NA |\n",
       "\n"
      ],
      "text/plain": [
       "    categorical observationCount patientCount\n",
       "105 TRUE         141              141        \n",
       "106 TRUE         280              280        \n",
       "107 TRUE        4429             4046        \n",
       "108 TRUE           2                2        \n",
       "109 TRUE        3093             2930        \n",
       "110 TRUE         280              280        \n",
       "    name                                                                                                                                                                                                                                                                                                                                                                                                                                                                                                                                                           \n",
       "105 \\\\Framingham Cohort ( phs000007 )\\\\Clinic Questionnaire (Interview and Physical Exam)\\\\Clinic Exam Questionnaire\\\\MD Interview, Physical Exam, Examiner's Opinion, and Clinical Diagnostic Impression; Non-MD / Non-medical Interview / Self-report and Physical Exam / Anthropometrics / Observed Performance\\\\Medical History - Respiratory Symptoms: Do you/have you needed to sleep on two or more pillows to help you breathe (Orthopnea)? Variable appears on Form A only\\\\                                                                              \n",
       "106 \\\\Framingham Cohort ( phs000007 )\\\\Clinic Questionnaire (Interview and Physical Exam)\\\\Clinic Exam Questionnaire\\\\MD Interview, Physical Exam, Examiner's Opinion, and Clinical Diagnostic Impression; Non-MD / Non-medical Interview / Self-report and Physical Exam / Anthropometrics / Observed Performance\\\\Respiratory Disease Questionnaire - Tech Administered: When you are near animals, such as cats, dogs, horses, near feathers, including pillows, quilts, or in a dusty or moldy part of the house, do you ever - Get itching or watering eyes?\\\\\n",
       "107 \\\\Framingham Cohort ( phs000007 )\\\\Tests\\\\ECG\\\\SLEEP ON 2 OR MORE PILLOWS TO HELP YOU BREATHE\\\\                                                                                                                                                                                                                                                                                                                                                                                                                                                                \n",
       "108 \\\\Framingham Cohort ( phs000007 )\\\\Tests\\\\ECG\\\\Medical History - Respiratory Symptoms: Do you need (Have you needed) to sleep on two or more pillows to help you breathe (Orthopnea)?\\\\                                                                                                                                                                                                                                                                                                                                                                        \n",
       "109 \\\\Jackson Heart Study (JHS) Cohort ( phs000286 )\\\\Do you sleep on 2 or more pillows to improve your breathing?\\\\                                                                                                                                                                                                                                                                                                                                                                                                                                               \n",
       "110 \\\\Framingham Cohort ( phs000007 )\\\\Tests\\\\Ankle-arm Blood Pressure\\\\Respiratory Disease Questionnaire - Tech Administered: When you are near animals, such as cats, dogs, horses, near feathers, including pillows, quilts, or in a dusty or moldy part of the house, do you ever - Start to wheeze?\\\\                                                                                                                                                                                                                                                         \n",
       "    min max HpdsDataType\n",
       "105 NA  NA  phenotypes  \n",
       "106 NA  NA  phenotypes  \n",
       "107 NA  NA  phenotypes  \n",
       "108 NA  NA  phenotypes  \n",
       "109 NA  NA  phenotypes  \n",
       "110 NA  NA  phenotypes  \n",
       "    categoryValues                                                                                                                                                                    \n",
       "105 No                                                        , Not applicable/ question not included in administered form, Yes                                                       \n",
       "106 No , Yes                                                                                                                                                                          \n",
       "107 NO , YES                                                                                                                                                                          \n",
       "108 No                                                                                                                                                                                \n",
       "109 Don't know, No        , Refused   , Yes                                                                                                                                           \n",
       "110 No , Yes                                                                                                                                                                          \n",
       "    description\n",
       "105 NA         \n",
       "106 NA         \n",
       "107 NA         \n",
       "108 NA         \n",
       "109 NA         \n",
       "110 NA         "
      ]
     },
     "metadata": {},
     "output_type": "display_data"
    }
   ],
   "source": [
    "pillow_dict <- bdc::find.in.dictionary(resource, \"pillows\") %>%\n",
    "    bdc::extract.entries()\n",
    "tail(pillow_dict)"
   ]
  },
  {
   "cell_type": "markdown",
   "id": "c33bb798",
   "metadata": {},
   "source": [
    "As shown in the resulting dataframe, there are some concept paths related to orthopnea that were not captured by the previous `orthopnea` search, such as `Do you sleep on 2 or more pillows to improve your breathing?` from the Jackson Heart Study (JHS) Cohort (phs000286). In fact, the JHS dataset was not returned at all when we searched for `orthopnea`. \n",
    "\n",
    "This is problematic for researchers studying these types of variables, since the concept paths of interest may not always be captured by a single search term. To account for this, researchers must conduct exploratory searches to determine potential search terms."
   ]
  },
  {
   "cell_type": "markdown",
   "id": "b994f517",
   "metadata": {},
   "source": [
    "Let's say we want to harmonize orthopnea variables from the following datasets: FHS, MESA, and WHI. We can first get all concept paths in each study and then search for our terms of interest (`orthopnea` or `pillows`) to retrieve the concept paths of interest."
   ]
  },
  {
   "cell_type": "code",
   "execution_count": 33,
   "id": "7c948ffd",
   "metadata": {},
   "outputs": [],
   "source": [
    "# Function that filters out variabels from a dataframe (df) that contain any of the terms (list_of_terms)\n",
    "find_concept_paths <- function(study_name, list_of_terms){\n",
    "    df <- bdc::find.in.dictionary(resource, study_name) %>%\n",
    "        bdc::extract.entries()\n",
    "    if(length(list_of_terms)>1){\n",
    "        pattern <- paste(list_of_terms, collapse='|')\n",
    "    } else {\n",
    "        pattern <- list_of_terms\n",
    "    }\n",
    "    pattern <- paste(c('(', pattern, ')'), collapse = '')\n",
    "    df_filtered <- df %>%\n",
    "        filter(grepl(pattern, name, ignore.case=TRUE))\n",
    "    vars_list <- list(df_filtered$name)[[1]]\n",
    "    return(vars_list)\n",
    "}"
   ]
  },
  {
   "cell_type": "code",
   "execution_count": 34,
   "id": "b6cd1901",
   "metadata": {},
   "outputs": [],
   "source": [
    "ortho_terms = c('orthopnea', 'pillows')"
   ]
  },
  {
   "cell_type": "code",
   "execution_count": 35,
   "id": "d255b7a7",
   "metadata": {},
   "outputs": [
    {
     "data": {
      "text/html": [
       "'\\\\Multi-Ethnic Study of Atherosclerosis (MESA) SHARe ( phs000209 )\\\\SLEEP ON TWO OR MORE PILLOWS TO HELP BREATHE\\\\'"
      ],
      "text/latex": [
       "'\\textbackslash{}\\textbackslash{}Multi-Ethnic Study of Atherosclerosis (MESA) SHARe ( phs000209 )\\textbackslash{}\\textbackslash{}SLEEP ON TWO OR MORE PILLOWS TO HELP BREATHE\\textbackslash{}\\textbackslash{}'"
      ],
      "text/markdown": [
       "'\\\\Multi-Ethnic Study of Atherosclerosis (MESA) SHARe ( phs000209 )\\\\SLEEP ON TWO OR MORE PILLOWS TO HELP BREATHE\\\\'"
      ],
      "text/plain": [
       "[1] \"\\\\Multi-Ethnic Study of Atherosclerosis (MESA) SHARe ( phs000209 )\\\\SLEEP ON TWO OR MORE PILLOWS TO HELP BREATHE\\\\\""
      ]
     },
     "metadata": {},
     "output_type": "display_data"
    }
   ],
   "source": [
    "mesa <- find_concept_paths('Multi-Ethnic Study of Atherosclerosis (MESA) SHARe ( phs000209 )', ortho_terms)\n",
    "#mesa # Uncomment to view full results list\n",
    "mesa_var <- mesa[1]\n",
    "mesa_var"
   ]
  },
  {
   "cell_type": "code",
   "execution_count": 36,
   "id": "e288c0de",
   "metadata": {},
   "outputs": [
    {
     "data": {
      "text/html": [
       "'\\\\Women\\'s Health Initiative Clinical Trial and Observational Study ( phs000200 )\\\\UNC Heart Failure Details (Main, Ext1, Ext2)\\\\F136 Orthopnea\\\\'"
      ],
      "text/latex": [
       "'\\textbackslash{}\\textbackslash{}Women\\textbackslash{}'s Health Initiative Clinical Trial and Observational Study ( phs000200 )\\textbackslash{}\\textbackslash{}UNC Heart Failure Details (Main, Ext1, Ext2)\\textbackslash{}\\textbackslash{}F136 Orthopnea\\textbackslash{}\\textbackslash{}'"
      ],
      "text/markdown": [
       "'\\\\Women\\'s Health Initiative Clinical Trial and Observational Study ( phs000200 )\\\\UNC Heart Failure Details (Main, Ext1, Ext2)\\\\F136 Orthopnea\\\\'"
      ],
      "text/plain": [
       "[1] \"\\\\Women's Health Initiative Clinical Trial and Observational Study ( phs000200 )\\\\UNC Heart Failure Details (Main, Ext1, Ext2)\\\\F136 Orthopnea\\\\\""
      ]
     },
     "metadata": {},
     "output_type": "display_data"
    }
   ],
   "source": [
    "whi <- find_concept_paths(\"Women's Health Initiative Clinical Trial and Observational Study ( phs000200 )\", ortho_terms)\n",
    "#whi # Uncomment to view full results list\n",
    "whi_var <- whi[1]\n",
    "whi_var"
   ]
  },
  {
   "cell_type": "code",
   "execution_count": 37,
   "id": "af719fa3",
   "metadata": {},
   "outputs": [
    {
     "data": {
      "text/html": [
       "'\\\\Framingham Cohort ( phs000007 )\\\\Clinic Questionnaire (Interview and Physical Exam)\\\\Clinic Exam Questionnaire\\\\MD Interview, Physical Exam, Examiner\\'s Opinion, and Clinical Diagnostic Impression; Non-MD / Non-medical Interview / Self-report and Physical Exam / Anthropometrics / Observed Performance\\\\DO YOU/HAVE YOU NEEDED TO SLEEP ON TWO OR MORE PILLOWS TO HELP YOU BREATH? (ORTHOPNEA)\\\\'"
      ],
      "text/latex": [
       "'\\textbackslash{}\\textbackslash{}Framingham Cohort ( phs000007 )\\textbackslash{}\\textbackslash{}Clinic Questionnaire (Interview and Physical Exam)\\textbackslash{}\\textbackslash{}Clinic Exam Questionnaire\\textbackslash{}\\textbackslash{}MD Interview, Physical Exam, Examiner\\textbackslash{}'s Opinion, and Clinical Diagnostic Impression; Non-MD / Non-medical Interview / Self-report and Physical Exam / Anthropometrics / Observed Performance\\textbackslash{}\\textbackslash{}DO YOU/HAVE YOU NEEDED TO SLEEP ON TWO OR MORE PILLOWS TO HELP YOU BREATH? (ORTHOPNEA)\\textbackslash{}\\textbackslash{}'"
      ],
      "text/markdown": [
       "'\\\\Framingham Cohort ( phs000007 )\\\\Clinic Questionnaire (Interview and Physical Exam)\\\\Clinic Exam Questionnaire\\\\MD Interview, Physical Exam, Examiner\\'s Opinion, and Clinical Diagnostic Impression; Non-MD / Non-medical Interview / Self-report and Physical Exam / Anthropometrics / Observed Performance\\\\DO YOU/HAVE YOU NEEDED TO SLEEP ON TWO OR MORE PILLOWS TO HELP YOU BREATH? (ORTHOPNEA)\\\\'"
      ],
      "text/plain": [
       "[1] \"\\\\Framingham Cohort ( phs000007 )\\\\Clinic Questionnaire (Interview and Physical Exam)\\\\Clinic Exam Questionnaire\\\\MD Interview, Physical Exam, Examiner's Opinion, and Clinical Diagnostic Impression; Non-MD / Non-medical Interview / Self-report and Physical Exam / Anthropometrics / Observed Performance\\\\DO YOU/HAVE YOU NEEDED TO SLEEP ON TWO OR MORE PILLOWS TO HELP YOU BREATH? (ORTHOPNEA)\\\\\""
      ]
     },
     "metadata": {},
     "output_type": "display_data"
    }
   ],
   "source": [
    "fhs <- find_concept_paths(\"Framingham Cohort ( phs000007 )\", ortho_terms)\n",
    "#fhs # Uncomment to view full results list\n",
    "fhs_var <- fhs[38]\n",
    "fhs_var"
   ]
  },
  {
   "cell_type": "markdown",
   "id": "d77f2a18",
   "metadata": {},
   "source": [
    "As part of our research, let's say we are interested in exploring the relationship between pneumonia and orthopnea. Let's save concept paths related to `pneumonia` as well. "
   ]
  },
  {
   "cell_type": "code",
   "execution_count": 38,
   "id": "e7b5485e",
   "metadata": {},
   "outputs": [
    {
     "data": {
      "text/html": [
       "'\\\\Multi-Ethnic Study of Atherosclerosis (MESA) SHARe ( phs000209 )\\\\MESA Lung Spirometry Dataset: The MESA Lung Spirometry Exam is an ancillary exam of the MESA Study. This dataset consists of spirometry phenotype variables including, but not limited to FEF, FVC, FEV, FEV%, FET and PEF and subject phenotype variables including sociodemography, anthropometry, family medical history, medications, inhalation exposures, smoking status, and respiratory signs, symptoms and diseases.\\\\TIMES WITH PNEUMONIA\\\\'"
      ],
      "text/latex": [
       "'\\textbackslash{}\\textbackslash{}Multi-Ethnic Study of Atherosclerosis (MESA) SHARe ( phs000209 )\\textbackslash{}\\textbackslash{}MESA Lung Spirometry Dataset: The MESA Lung Spirometry Exam is an ancillary exam of the MESA Study. This dataset consists of spirometry phenotype variables including, but not limited to FEF, FVC, FEV, FEV\\%, FET and PEF and subject phenotype variables including sociodemography, anthropometry, family medical history, medications, inhalation exposures, smoking status, and respiratory signs, symptoms and diseases.\\textbackslash{}\\textbackslash{}TIMES WITH PNEUMONIA\\textbackslash{}\\textbackslash{}'"
      ],
      "text/markdown": [
       "'\\\\Multi-Ethnic Study of Atherosclerosis (MESA) SHARe ( phs000209 )\\\\MESA Lung Spirometry Dataset: The MESA Lung Spirometry Exam is an ancillary exam of the MESA Study. This dataset consists of spirometry phenotype variables including, but not limited to FEF, FVC, FEV, FEV%, FET and PEF and subject phenotype variables including sociodemography, anthropometry, family medical history, medications, inhalation exposures, smoking status, and respiratory signs, symptoms and diseases.\\\\TIMES WITH PNEUMONIA\\\\'"
      ],
      "text/plain": [
       "[1] \"\\\\Multi-Ethnic Study of Atherosclerosis (MESA) SHARe ( phs000209 )\\\\MESA Lung Spirometry Dataset: The MESA Lung Spirometry Exam is an ancillary exam of the MESA Study. This dataset consists of spirometry phenotype variables including, but not limited to FEF, FVC, FEV, FEV%, FET and PEF and subject phenotype variables including sociodemography, anthropometry, family medical history, medications, inhalation exposures, smoking status, and respiratory signs, symptoms and diseases.\\\\TIMES WITH PNEUMONIA\\\\\""
      ]
     },
     "metadata": {},
     "output_type": "display_data"
    }
   ],
   "source": [
    "mesa_pneu <- find_concept_paths('Multi-Ethnic Study of Atherosclerosis (MESA) SHARe ( phs000209 )', c('pneumonia'))\n",
    "#mesa_pneu # Uncomment to view full results list\n",
    "mesa_pneu_var <- mesa_pneu[5]\n",
    "mesa_pneu_var"
   ]
  },
  {
   "cell_type": "code",
   "execution_count": 39,
   "id": "796611a2",
   "metadata": {},
   "outputs": [
    {
     "data": {
      "text/html": [
       "'\\\\Women\\'s Health Initiative Clinical Trial and Observational Study ( phs000200 )\\\\Form 156 - Eating Habits Supplemental Questionnaire (Ext2)\\\\Pneumonia diagnosed by a physician\\\\'"
      ],
      "text/latex": [
       "'\\textbackslash{}\\textbackslash{}Women\\textbackslash{}'s Health Initiative Clinical Trial and Observational Study ( phs000200 )\\textbackslash{}\\textbackslash{}Form 156 - Eating Habits Supplemental Questionnaire (Ext2)\\textbackslash{}\\textbackslash{}Pneumonia diagnosed by a physician\\textbackslash{}\\textbackslash{}'"
      ],
      "text/markdown": [
       "'\\\\Women\\'s Health Initiative Clinical Trial and Observational Study ( phs000200 )\\\\Form 156 - Eating Habits Supplemental Questionnaire (Ext2)\\\\Pneumonia diagnosed by a physician\\\\'"
      ],
      "text/plain": [
       "[1] \"\\\\Women's Health Initiative Clinical Trial and Observational Study ( phs000200 )\\\\Form 156 - Eating Habits Supplemental Questionnaire (Ext2)\\\\Pneumonia diagnosed by a physician\\\\\""
      ]
     },
     "metadata": {},
     "output_type": "display_data"
    }
   ],
   "source": [
    "whi_pneu <- find_concept_paths(\"Women's Health Initiative Clinical Trial and Observational Study ( phs000200 )\", c('pneumonia'))\n",
    "# whi_pneu # Uncomment to view full results list\n",
    "whi_pneu_var <- whi_pneu[1]\n",
    "whi_pneu_var"
   ]
  },
  {
   "cell_type": "code",
   "execution_count": 40,
   "id": "4a8ba6dd",
   "metadata": {},
   "outputs": [
    {
     "data": {
      "text/html": [
       "'\\\\Framingham Cohort ( phs000007 )\\\\Validated / Reviewed / Scored / Abstracted Data\\\\Exam Dates, Age, Sex\\\\CDI: PNEUMONIA\\\\'"
      ],
      "text/latex": [
       "'\\textbackslash{}\\textbackslash{}Framingham Cohort ( phs000007 )\\textbackslash{}\\textbackslash{}Validated / Reviewed / Scored / Abstracted Data\\textbackslash{}\\textbackslash{}Exam Dates, Age, Sex\\textbackslash{}\\textbackslash{}CDI: PNEUMONIA\\textbackslash{}\\textbackslash{}'"
      ],
      "text/markdown": [
       "'\\\\Framingham Cohort ( phs000007 )\\\\Validated / Reviewed / Scored / Abstracted Data\\\\Exam Dates, Age, Sex\\\\CDI: PNEUMONIA\\\\'"
      ],
      "text/plain": [
       "[1] \"\\\\Framingham Cohort ( phs000007 )\\\\Validated / Reviewed / Scored / Abstracted Data\\\\Exam Dates, Age, Sex\\\\CDI: PNEUMONIA\\\\\""
      ]
     },
     "metadata": {},
     "output_type": "display_data"
    }
   ],
   "source": [
    "fhs_pneu <- find_concept_paths(\"Framingham Cohort ( phs000007 )\", c('pneumonia'))\n",
    "# fhs_pneu # Uncomment to view full results\n",
    "fhs_pneu_var <- fhs_pneu[27]\n",
    "fhs_pneu_var"
   ]
  },
  {
   "cell_type": "markdown",
   "id": "10c8035b",
   "metadata": {},
   "source": [
    "Now that we know and have saved our concept paths of interest, we can use these to build our queries and obtain our dataframes. "
   ]
  },
  {
   "cell_type": "code",
   "execution_count": 41,
   "id": "80234861",
   "metadata": {},
   "outputs": [],
   "source": [
    "mesa_query <- bdc::new.query(resource = resource)\n",
    "bdc::query.anyof.add(query = mesa_query,\n",
    "                     keys =  mesa_var)\n",
    "bdc::query.require.add(query = mesa_query,\n",
    "                     keys =  mesa_pneu_var)\n",
    "mesa_results <- bdc::query.run(mesa_query, result.type = 'dataframe')"
   ]
  },
  {
   "cell_type": "code",
   "execution_count": 42,
   "id": "0516585b",
   "metadata": {},
   "outputs": [],
   "source": [
    "fhs_query <- bdc::new.query(resource = resource)\n",
    "bdc::query.anyof.add(query = fhs_query,\n",
    "                     keys =  fhs_var)\n",
    "bdc::query.require.add(query = fhs_query,\n",
    "                     keys =  fhs_pneu_var)\n",
    "fhs_results <- bdc::query.run(fhs_query, result.type = 'dataframe')"
   ]
  },
  {
   "cell_type": "code",
   "execution_count": 43,
   "id": "e0fd3b1d",
   "metadata": {},
   "outputs": [],
   "source": [
    "whi_query <- bdc::new.query(resource = resource)\n",
    "bdc::query.anyof.add(query = whi_query,\n",
    "                     keys =  whi_var)\n",
    "bdc::query.require.add(query = whi_query,\n",
    "                     keys =  whi_pneu_var)\n",
    "whi_results <- bdc::query.run(whi_query, result.type = 'dataframe')"
   ]
  },
  {
   "cell_type": "markdown",
   "id": "49931b85",
   "metadata": {},
   "source": [
    "Now that we have our patient-level dataframes, we can combine them into a single, cohesive dataframe.\n",
    "\n",
    "The following function accomplishes three main tasks:\n",
    "1. Removes extra columns, such as consent information\n",
    "2. Renames the Pneumonia and Orthopnea columns\n",
    "3. Adds the Dataset column, which corresponds to the study"
   ]
  },
  {
   "cell_type": "code",
   "execution_count": 44,
   "id": "ed0e61df",
   "metadata": {},
   "outputs": [],
   "source": [
    "clean_up_df2 <- function(df, study){\n",
    "    columns_to_drop <- c('\\\\_Parent Study Accession with Subject ID\\\\', '\\\\_Topmed Study Accession with Subject ID\\\\', '\\\\_consents\\\\', '\\\\_harmonized_consent\\\\')\n",
    "    df1 <- df[,!(names(df) %in% columns_to_drop)]\n",
    "    if(grepl('pneumonia', names(df1)[2], ignore.case=TRUE)){\n",
    "        names(df1)[2] <- 'Pneumonia'\n",
    "        names(df1)[3] <- 'Orthopnea'\n",
    "    } else {\n",
    "        names(df1)[2] <- \"Orthopnea\"\n",
    "        names(df1)[3] <- \"Pneumonia\"\n",
    "    }\n",
    "    df1$Dataset <- study\n",
    "    return(df1)\n",
    "}"
   ]
  },
  {
   "cell_type": "code",
   "execution_count": 45,
   "id": "6197ef77",
   "metadata": {},
   "outputs": [],
   "source": [
    "clean_fhs <- clean_up_df2(fhs_results, 'FHS')\n",
    "clean_whi <- clean_up_df2(whi_results, 'WHI')\n",
    "clean_mesa <- clean_up_df2(mesa_results, 'MESA')"
   ]
  },
  {
   "cell_type": "markdown",
   "id": "81da80db",
   "metadata": {},
   "source": [
    "As you may have noticed, the orthopnea and pneumonia variables are encoded differently between these studies. Specifically:\n",
    "- In FHS, pneumonia is recorded as \"NO\", \"MAYBE\", or \"YES\"\n",
    "- In MESA, pneumonia is recorded as \"Yes\", \"No\", or \"Don't know / Not sure\"\n",
    "- In WHI, pneumonia is recoded as a value, or the number of times a participant has been diagnosed with pneumonia\n",
    "\n",
    "To harmonize these variables, we need to create a consistent encoding across these studies. "
   ]
  },
  {
   "cell_type": "code",
   "execution_count": 46,
   "id": "cf8c85e6",
   "metadata": {},
   "outputs": [],
   "source": [
    "# Combine results for the pneumonia and orthopnea variables\n",
    "pneumonia_results <- c(unique(clean_fhs$Pneumonia), \n",
    "                       unique(clean_whi$Pneumonia),\n",
    "                       unique(clean_mesa$Pneumonia))\n",
    "orthopnea_results <- c(unique(clean_fhs$Orthopnea), \n",
    "                       unique(clean_whi$Orthopnea),\n",
    "                       unique(clean_mesa$Orthopnea))\n",
    "raw <- c(pneumonia_results, orthopnea_results)\n",
    "#pneumonia_results # Uncomment to view values\n",
    "#orthopnea_results # Uncomment to view values"
   ]
  },
  {
   "cell_type": "markdown",
   "id": "bac239c0",
   "metadata": {},
   "source": [
    "The following code creates these mappings:\n",
    "\n",
    "|Raw value|Harmonized value|\n",
    "|---|---|\n",
    "|No|0|\n",
    "|NO|0|\n",
    "|No/Not recorded|0|\n",
    "|Numeric value equal to 0|0|\n",
    "|MAYBE|2|\n",
    "|Don't know / Not sure|2|\n",
    "|DO NOT KNOW|2|\n",
    "|YES|1|\n",
    "|Yes|1|\n",
    "|Numeric value greater than 0|1|"
   ]
  },
  {
   "cell_type": "code",
   "execution_count": 47,
   "id": "3ce6c5cb",
   "metadata": {},
   "outputs": [],
   "source": [
    "# Function to create mapping\n",
    "create_mappings <- function(raw){\n",
    "    if_else(raw %in% c(\"NO\", \"no\", \"No\", \"No//Not Recorded\"), 0,\n",
    "            if_else(raw %in% c(\"YES\", \"Yes\", \"yes\"), 1,\n",
    "                    if_else(raw %in% c(\"MAYBE\", 'DO NOT KNOW', \"Don't know / Not sure\"), 2,\n",
    "                            if_else(raw == 0, 0, 1))))\n",
    "}\n"
   ]
  },
  {
   "cell_type": "code",
   "execution_count": 48,
   "id": "523c0cef",
   "metadata": {},
   "outputs": [
    {
     "data": {
      "text/html": [
       "<table class=\"dataframe\">\n",
       "<caption>A data.frame: 6 × 4</caption>\n",
       "<thead>\n",
       "\t<tr><th></th><th scope=col>Patient ID</th><th scope=col>Pneumonia</th><th scope=col>Orthopnea</th><th scope=col>Dataset</th></tr>\n",
       "\t<tr><th></th><th scope=col>&lt;int&gt;</th><th scope=col>&lt;dbl&gt;</th><th scope=col>&lt;dbl&gt;</th><th scope=col>&lt;chr&gt;</th></tr>\n",
       "</thead>\n",
       "<tbody>\n",
       "\t<tr><th scope=row>1</th><td>436586</td><td>1</td><td>1</td><td>WHI</td></tr>\n",
       "\t<tr><th scope=row>2</th><td>436691</td><td>0</td><td>1</td><td>WHI</td></tr>\n",
       "\t<tr><th scope=row>3</th><td>436776</td><td>0</td><td>1</td><td>WHI</td></tr>\n",
       "\t<tr><th scope=row>4</th><td>436930</td><td>0</td><td>1</td><td>WHI</td></tr>\n",
       "\t<tr><th scope=row>5</th><td>436939</td><td>1</td><td>1</td><td>WHI</td></tr>\n",
       "\t<tr><th scope=row>6</th><td>437029</td><td>0</td><td>1</td><td>WHI</td></tr>\n",
       "</tbody>\n",
       "</table>\n"
      ],
      "text/latex": [
       "A data.frame: 6 × 4\n",
       "\\begin{tabular}{r|llll}\n",
       "  & Patient ID & Pneumonia & Orthopnea & Dataset\\\\\n",
       "  & <int> & <dbl> & <dbl> & <chr>\\\\\n",
       "\\hline\n",
       "\t1 & 436586 & 1 & 1 & WHI\\\\\n",
       "\t2 & 436691 & 0 & 1 & WHI\\\\\n",
       "\t3 & 436776 & 0 & 1 & WHI\\\\\n",
       "\t4 & 436930 & 0 & 1 & WHI\\\\\n",
       "\t5 & 436939 & 1 & 1 & WHI\\\\\n",
       "\t6 & 437029 & 0 & 1 & WHI\\\\\n",
       "\\end{tabular}\n"
      ],
      "text/markdown": [
       "\n",
       "A data.frame: 6 × 4\n",
       "\n",
       "| <!--/--> | Patient ID &lt;int&gt; | Pneumonia &lt;dbl&gt; | Orthopnea &lt;dbl&gt; | Dataset &lt;chr&gt; |\n",
       "|---|---|---|---|---|\n",
       "| 1 | 436586 | 1 | 1 | WHI |\n",
       "| 2 | 436691 | 0 | 1 | WHI |\n",
       "| 3 | 436776 | 0 | 1 | WHI |\n",
       "| 4 | 436930 | 0 | 1 | WHI |\n",
       "| 5 | 436939 | 1 | 1 | WHI |\n",
       "| 6 | 437029 | 0 | 1 | WHI |\n",
       "\n"
      ],
      "text/plain": [
       "  Patient ID Pneumonia Orthopnea Dataset\n",
       "1 436586     1         1         WHI    \n",
       "2 436691     0         1         WHI    \n",
       "3 436776     0         1         WHI    \n",
       "4 436930     0         1         WHI    \n",
       "5 436939     1         1         WHI    \n",
       "6 437029     0         1         WHI    "
      ]
     },
     "metadata": {},
     "output_type": "display_data"
    }
   ],
   "source": [
    "final_df <- rbind(clean_whi, clean_mesa, clean_fhs) %>%\n",
    "    mutate(Pneumonia = create_mappings(Pneumonia),\n",
    "           Orthopnea = create_mappings(Orthopnea))\n",
    "head(final_df)"
   ]
  },
  {
   "cell_type": "markdown",
   "id": "a7acfcb0",
   "metadata": {},
   "source": [
    "Now that the variables have been encoded in the same way, we can use this dataframe for analysis and visualizations. "
   ]
  },
  {
   "cell_type": "code",
   "execution_count": 49,
   "id": "72235f9d",
   "metadata": {
    "scrolled": true
   },
   "outputs": [
    {
     "name": "stderr",
     "output_type": "stream",
     "text": [
      "Updating HTML index of packages in '.Library'\n",
      "\n",
      "Making 'packages.html' ...\n",
      " done\n",
      "\n",
      "'getOption(\"repos\")' replaces Bioconductor standard repositories, see\n",
      "'?repositories' for details\n",
      "\n",
      "replacement repositories:\n",
      "    CRAN: https://cran.r-project.org\n",
      "\n",
      "\n",
      "Bioconductor version 3.13 (BiocManager 1.30.16), R 4.1.1 (2021-08-10)\n",
      "\n",
      "Warning message:\n",
      "“package(s) not installed when version(s) same as current; use `force = TRUE` to\n",
      "  re-install: 'limma'”\n",
      "Old packages: 'fansi', 'googlesheets4', 'ipred', 'later', 'pryr', 'reticulate',\n",
      "  'xfun'\n",
      "\n"
     ]
    }
   ],
   "source": [
    "#library\n",
    "install.packages(\"BiocManager\")\n",
    "BiocManager::install(\"limma\")\n",
    "library(limma)"
   ]
  },
  {
   "cell_type": "code",
   "execution_count": 50,
   "id": "83b8fb94",
   "metadata": {},
   "outputs": [],
   "source": [
    "# Filters to apply to the final_df to create figure\n",
    "fhs <- final_df$Dataset == \"FHS\"\n",
    "mesa <- final_df$Dataset == 'MESA'\n",
    "whi <- final_df$Dataset == \"WHI\""
   ]
  },
  {
   "cell_type": "code",
   "execution_count": 51,
   "id": "4396fb74",
   "metadata": {
    "scrolled": false
   },
   "outputs": [
    {
     "data": {
      "image/png": "[encoded data removed]",
      "text/plain": [
       "Plot with title “FHS Dataset”"
      ]
     },
     "metadata": {
      "image/png": {
       "height": 420,
       "width": 420
      }
     },
     "output_type": "display_data"
    }
   ],
   "source": [
    "fhs_subset <- as.matrix(final_df[fhs, c('Pneumonia', 'Orthopnea')])\n",
    "vennDiagram(vennCounts(fhs_subset), main='FHS Dataset')"
   ]
  },
  {
   "cell_type": "code",
   "execution_count": 52,
   "id": "66242ef1",
   "metadata": {},
   "outputs": [
    {
     "data": {
      "image/png": "[encoded data removed]",
      "text/plain": [
       "Plot with title “MESA Dataset”"
      ]
     },
     "metadata": {
      "image/png": {
       "height": 420,
       "width": 420
      }
     },
     "output_type": "display_data"
    }
   ],
   "source": [
    "mesa_subset <- as.matrix(final_df[mesa, c('Pneumonia', 'Orthopnea')])\n",
    "vennDiagram(vennCounts(mesa_subset), main=\"MESA Dataset\")"
   ]
  },
  {
   "cell_type": "code",
   "execution_count": 53,
   "id": "20f70531",
   "metadata": {},
   "outputs": [
    {
     "data": {
      "image/png": "[encoded data removed]",
      "text/plain": [
       "Plot with title “WHI Dataset”"
      ]
     },
     "metadata": {
      "image/png": {
       "height": 420,
       "width": 420
      }
     },
     "output_type": "display_data"
    }
   ],
   "source": [
    "whi_subset <- as.matrix(final_df[whi, c('Pneumonia', 'Orthopnea')])\n",
    "vennDiagram(vennCounts(whi_subset), main='WHI Dataset')"
   ]
  },
  {
   "cell_type": "code",
   "execution_count": 54,
   "id": "ae5389d1",
   "metadata": {},
   "outputs": [
    {
     "data": {
      "image/png": "[encoded data removed]",
      "text/plain": [
       "Plot with title “Harmonized”"
      ]
     },
     "metadata": {
      "image/png": {
       "height": 420,
       "width": 420
      }
     },
     "output_type": "display_data"
    }
   ],
   "source": [
    "sub <- as.matrix(final_df[, c('Pneumonia', 'Orthopnea')])\n",
    "v <- vennDiagram(vennCounts(sub), main='Harmonized')"
   ]
  },
  {
   "cell_type": "code",
   "execution_count": null,
   "id": "cd0de1de",
   "metadata": {},
   "outputs": [],
   "source": []
  }
 ],
 "metadata": {
  "kernelspec": {
   "display_name": "R",
   "language": "R",
   "name": "ir"
  },
  "language_info": {
   "codemirror_mode": "r",
   "file_extension": ".r",
   "mimetype": "text/x-r-source",
   "name": "R",
   "pygments_lexer": "r",
   "version": "4.1.1"
  }
 },
 "nbformat": 4,
 "nbformat_minor": 5
}
