{
 "cells": [
  {
   "cell_type": "markdown",
   "id": "dec219c3",
   "metadata": {},
   "source": [
    "# Harmonization across studies with PIC-SURE"
   ]
  },
  {
   "cell_type": "markdown",
   "id": "7c719636",
   "metadata": {},
   "source": [
    "This tutorial notebook will demonstrate how to query and work with the BioData Catalyst studies, particularly cross-study harmonization. For a more step-by-step introduction to the python PIC-SURE API, see the `1_PICSURE_API_101.ipynb` notebook."
   ]
  },
  {
   "cell_type": "markdown",
   "id": "dd2c4fcf",
   "metadata": {},
   "source": [
    "**Before running this notebook, please be sure to review the \\\"Get your security token\\\" documentation, which exists in the NHLBI_BioData_Catalyst [README.md file](https://github.com/hms-dbmi/Access-to-Data-using-PIC-SURE-API/tree/master/NHLBI_BioData_Catalyst#get-your-security-token). It explains about how to get a security token, which is mandatory to access the databases.**"
   ]
  },
  {
   "cell_type": "markdown",
   "id": "fde6d30b",
   "metadata": {},
   "source": [
    "-----"
   ]
  },
  {
   "cell_type": "markdown",
   "id": "fa20d770",
   "metadata": {},
   "source": [
    "# Environment set-up"
   ]
  },
  {
   "cell_type": "markdown",
   "id": "9b2d8e87",
   "metadata": {},
   "source": [
    "### Pre-requisites\n",
    "- R 3.4 or later\n",
    "\n",
    "\n",
    "### Install packages\n",
    "Install the following:\n",
    "- packages listed in the `requirements.R` file\n",
    "- PIC-SURE API components (from Github)\n",
    "    - PIC-SURE Adapter\n",
    "    - PIC-SURE Client"
   ]
  },
  {
   "cell_type": "code",
   "execution_count": null,
   "id": "117fc296",
   "metadata": {
    "scrolled": true
   },
   "outputs": [],
   "source": [
    "source(\"R_lib/requirements.R\")"
   ]
  },
  {
   "cell_type": "code",
   "execution_count": null,
   "id": "364e4494",
   "metadata": {
    "scrolled": true
   },
   "outputs": [],
   "source": [
    "Sys.setenv(TAR = \"/bin/tar\")\n",
    "options(unzip = \"internal\")\n",
    "install.packages(\"https://cran.r-project.org/src/contrib/Archive/devtools/devtools_1.13.6.tar.gz\", repos=NULL, type=\"source\")\n",
    "install.packages(\"https://cran.r-project.org/src/contrib/R6_2.5.1.tar.gz\", repos=NULL, type=\"source\")\n",
    "install.packages(\"https://cran.r-project.org/src/contrib/hash_2.2.6.1.tar.gz\", repos=NULL, type=\"source\")\n",
    "install.packages(c(\"urltools\"),repos = \"http://cran.us.r-project.org\")\n",
    "devtools::install_github(\"hms-dbmi/pic-sure-r-client\", force=T)\n",
    "devtools::install_github(\"hms-dbmi/pic-sure-r-adapter-hpds\", force=T)\n",
    "devtools::install_github(\"hms-dbmi/pic-sure-biodatacatalyst-r-adapter-hpds\", force=T)"
   ]
  },
  {
   "cell_type": "markdown",
   "id": "104e4f3b",
   "metadata": {},
   "source": [
    "##### Loading user-defined functions"
   ]
  },
  {
   "cell_type": "code",
   "execution_count": null,
   "id": "234f6d3c",
   "metadata": {},
   "outputs": [],
   "source": [
    "source(\"R_lib/utils.R\")"
   ]
  },
  {
   "cell_type": "markdown",
   "id": "26d99719",
   "metadata": {},
   "source": [
    "## Connecting to a PIC-SURE resource"
   ]
  },
  {
   "cell_type": "code",
   "execution_count": null,
   "id": "8c424b39",
   "metadata": {},
   "outputs": [],
   "source": [
    "PICSURE_network_URL <- \"https://picsure.biodatacatalyst.nhlbi.nih.gov/picsure\"\n",
    "resource_id <- \"02e23f52-f354-4e8b-992c-d37c8b9ba140\"\n",
    "token_file <- \"token.txt\""
   ]
  },
  {
   "cell_type": "code",
   "execution_count": null,
   "id": "aec1881a",
   "metadata": {},
   "outputs": [],
   "source": [
    "token <- scan(token_file, what = \"character\")"
   ]
  },
  {
   "cell_type": "code",
   "execution_count": null,
   "id": "635a07ce",
   "metadata": {},
   "outputs": [],
   "source": [
    "connection <- picsure::connect(url = PICSURE_network_URL,\n",
    "                                 token = token)\n",
    "resource <- bdc::get.resource(connection,\n",
    "                               resourceUUID = resource_id)"
   ]
  },
  {
   "cell_type": "markdown",
   "id": "9d435876",
   "metadata": {},
   "source": [
    "-----"
   ]
  },
  {
   "cell_type": "markdown",
   "id": "d4787cb2",
   "metadata": {},
   "source": [
    "## Harmonizing variables with PIC-SURE\n",
    "One of the key challenges to conducting analyses with several studies is ensuring correct data harmonization, or combining of data from different sources. There are many harmonization techniques, but this notebook will demonstrate how to find and extract similar variables from different studies in PIC-SURE. Two examples of this will be shown:\n",
    "1. Retrieving variables for *sex and gender* across studies with BMI\n",
    "2. Harmonizing the variable *\"orthopnea\"* across studies with age\n",
    "\n",
    "\n",
    "*For more information about the TOPMed DCC Harmonized Data Set in PIC-SURE, please refer to the [`2_TOPMed_DCC_Harmonized_Variables_analysis.ipynb`](https://github.com/hms-dbmi/Access-to-Data-using-PIC-SURE-API/blob/master/NHLBI_BioData_Catalyst/R/2_TOPMed_DCC_Harmonized_Variables_analysis.ipynb) notebook*"
   ]
  },
  {
   "cell_type": "markdown",
   "id": "24a56594",
   "metadata": {},
   "source": [
    "-----"
   ]
  },
  {
   "cell_type": "markdown",
   "id": "5262fdc0",
   "metadata": {},
   "source": [
    "### Sex and gender variables across studies"
   ]
  },
  {
   "cell_type": "markdown",
   "id": "db49ba70",
   "metadata": {},
   "source": [
    "Let's start by doing separate searches for `sex` and `gender` to gain a better understanding of the variables that exist in PIC-SURE with these terms."
   ]
  },
  {
   "cell_type": "code",
   "execution_count": null,
   "id": "e3f9f237",
   "metadata": {},
   "outputs": [],
   "source": [
    "full_dict <- bdc::find.in.dictionary(resource) %>%\n",
    "    bdc::extract.entries()\n",
    "full_multiindex_dict <- get_multiIndex_variablesDict(full_dict)"
   ]
  },
  {
   "cell_type": "code",
   "execution_count": null,
   "id": "4dc27f00",
   "metadata": {},
   "outputs": [],
   "source": [
    "sex_mask <- full_multiindex_dict$simplified_name[str_detect(full_multiindex_dict$simplified_name, 'sex')]\n",
    "sex <- full_multiindex_dict[full_multiindex_dict$simplified_name %in% sex_mask,]\n",
    "gender_mask <- full_multiindex_dict$simplified_name[str_detect(full_multiindex_dict$simplified_name, 'gender')]\n",
    "gender <- full_multiindex_dict[full_multiindex_dict$simplified_name %in% gender_mask,]"
   ]
  },
  {
   "cell_type": "code",
   "execution_count": null,
   "id": "75265001",
   "metadata": {},
   "outputs": [],
   "source": [
    "# Uncomment the following lines of code to preview the filtered dataframes\n",
    "#head(sex)\n",
    "#head(gender)"
   ]
  },
  {
   "cell_type": "markdown",
   "id": "8d0e5ac8",
   "metadata": {},
   "source": [
    "After reviewing the variables using the dataframe (or the [user interface](https://picsure.biodatacatalyst.nhlbi.nih.gov/psamaui/login)), let's say we are interested in sex/gender variables from the following studies:\n",
    "- TOPMed Harmonized data set\n",
    "- ECLIPSE (Evaluation of COPD Longitudinally to Identify Predictive Surrogate Endpoints)\n",
    "- EOCOPD (Early Onset of COPD)\n",
    "\n",
    "However, these concept paths are labelled differently for each of these studies. For example, some use the keyword `sex` while others use `gender`. To acccount for these differences, we need to develop a way to search for multiple keywords at once."
   ]
  },
  {
   "cell_type": "markdown",
   "id": "0fad44e3",
   "metadata": {},
   "source": [
    "First, let's get all of the concept paths associated with each study."
   ]
  },
  {
   "cell_type": "code",
   "execution_count": null,
   "id": "82d81417",
   "metadata": {},
   "outputs": [],
   "source": [
    "topmed_harmonized <- bdc::find.in.dictionary(resource, 'DCC Harmonized data set') %>%\n",
    "    bdc::extract.entries()\n",
    "eclipse <- bdc::find.in.dictionary(resource, 'Evaluation of COPD Longitudinally to Identify Predictive Surrogate Endpoints (ECLIPSE)') %>%\n",
    "    bdc::extract.entries()\n",
    "eocopd <- bdc::find.in.dictionary(resource, 'NHLBI TOPMed: Boston Early-Onset COPD Study') %>%\n",
    "    bdc::extract.entries()"
   ]
  },
  {
   "cell_type": "code",
   "execution_count": null,
   "id": "f73426fa",
   "metadata": {},
   "outputs": [],
   "source": [
    "topmed_harmonized"
   ]
  },
  {
   "cell_type": "markdown",
   "id": "c0c98fdc",
   "metadata": {},
   "source": [
    "Now we will search for the terms of interest (`sex` and `gender`) and filter out these concept paths.\n",
    "\n",
    "Below is a simple user-defined function that you could use to accomplish this."
   ]
  },
  {
   "cell_type": "code",
   "execution_count": null,
   "id": "78a2168a",
   "metadata": {},
   "outputs": [],
   "source": [
    "# Function that filters out variables from a dataframe (df) that contain any of the terms (list_of_terms)\n",
    "find_vars <- function(df, list_of_terms){\n",
    "    if(length(list_of_terms)>1){\n",
    "        pattern <- paste(list_of_terms, collapse='|')\n",
    "    } else {\n",
    "        pattern <- list_of_terms\n",
    "    }\n",
    "    pattern <- paste(c('(', pattern, ')'), collapse = '')\n",
    "    df_filtered <- df %>%\n",
    "        filter(grepl(pattern, name, ignore.case=TRUE))\n",
    "    vars_list <- list(df_filtered$name)[[1]]\n",
    "    return(vars_list)\n",
    "}"
   ]
  },
  {
   "cell_type": "code",
   "execution_count": null,
   "id": "b0c1f13e",
   "metadata": {},
   "outputs": [],
   "source": [
    "# Search for 'sex' and 'gender' variables in TOPMed Harmonized dataset\n",
    "topmed_var <- find_vars(topmed_harmonized, c('sex', 'gender'))\n",
    "print(c(\"Concept path from TOPMed Harmonized data set:\", topmed_var))"
   ]
  },
  {
   "cell_type": "code",
   "execution_count": null,
   "id": "81889bd0",
   "metadata": {},
   "outputs": [],
   "source": [
    "# Search for 'sex' and 'gender' variables in ECLIPSE dataset\n",
    "eclipse_var <- find_vars(eclipse, c('sex', 'gender'))\n",
    "print(c(\"Concept path from ECLIPSE data set:\", eclipse_var))"
   ]
  },
  {
   "cell_type": "code",
   "execution_count": null,
   "id": "0321a08b",
   "metadata": {},
   "outputs": [],
   "source": [
    "# Search for 'sex' and 'gender' variables in EOCOPD dataset\n",
    "eocopd_vars <- find_vars(eocopd, c('sex', 'gender'))\n",
    "print(c(\"Number of concept paths from EOCOPD data set:\", length(eocopd_vars)))"
   ]
  },
  {
   "cell_type": "markdown",
   "id": "3b47bec4",
   "metadata": {},
   "source": [
    "Since there are multiple concept paths that are contain either `gender` or `sex` in the EOCOPD dataset, we can investigate these concept paths to determine the true variable of interest."
   ]
  },
  {
   "cell_type": "code",
   "execution_count": null,
   "id": "f34aa38a",
   "metadata": {},
   "outputs": [],
   "source": [
    "# Uncomment the following line to see full list of sex/gender variables in EOCOPD\n",
    "#print(c(\"Full list of variables\", eocopd_vars))\n",
    "\n",
    "# Based on this, we can see that the variable we want for this analysis is the last in the list: Gender of participant\n",
    "eocopd_var <- find_vars(eocopd, c('gender of participant'))\n",
    "print(c(\"Concept path from EOCOPD data set:\", eocopd_var))"
   ]
  },
  {
   "cell_type": "markdown",
   "id": "a307fb53",
   "metadata": {},
   "source": [
    "As part of our research, let's also say we are interested in body mass index (BMI) measurements across these studies. Let's save these concept paths to use in our queries as well."
   ]
  },
  {
   "cell_type": "code",
   "execution_count": null,
   "id": "0b113852",
   "metadata": {},
   "outputs": [],
   "source": [
    "topmed_bmi <- find_vars(topmed_harmonized, c('body mass index'))\n",
    "print(topmed_bmi)\n",
    "eclipse_bmi <- find_vars(eclipse, c('body mass index'))\n",
    "print(eclipse_bmi)\n",
    "eocopd_bmi <- find_vars(eocopd, c('body mass index'))\n",
    "print(eocopd_bmi)"
   ]
  },
  {
   "cell_type": "markdown",
   "id": "379deac3",
   "metadata": {},
   "source": [
    "Now that we know and have saved our concept paths of interest, we can use these to build our query. \n",
    "\n",
    "**Note: queries with the TOPMed DCC Harmonized data set cannot be combined with concept paths from other datasets. Because of this, we will run separate queries and combine the dataframes.**"
   ]
  },
  {
   "cell_type": "code",
   "execution_count": null,
   "id": "50bcc840",
   "metadata": {},
   "outputs": [],
   "source": [
    "# Initialize a query\n",
    "eclipse_query <- bdc::new.query(resource = resource)\n",
    "# Build query using these concept paths\n",
    "bdc::query.anyof.add(query = eclipse_query,\n",
    "                     keys = eclipse_var)\n",
    "bdc::query.anyof.add(query = eclipse_query,\n",
    "                     keys = eclipse_bmi)"
   ]
  },
  {
   "cell_type": "code",
   "execution_count": null,
   "id": "a23b0397",
   "metadata": {},
   "outputs": [],
   "source": [
    "# Check results\n",
    "eclipse_results <- bdc::query.run(eclipse_query, result.type = 'dataframe')\n",
    "head(eclipse_results)"
   ]
  },
  {
   "cell_type": "code",
   "execution_count": null,
   "id": "1867695c",
   "metadata": {},
   "outputs": [],
   "source": [
    "# Initialize a query\n",
    "eocopd_query <- bdc::new.query(resource = resource)\n",
    "# Build query using these concept paths\n",
    "bdc::query.anyof.add(query = eocopd_query,\n",
    "                     keys = eocopd_var)\n",
    "bdc::query.anyof.add(query = eocopd_query,\n",
    "                     keys = eocopd_bmi)"
   ]
  },
  {
   "cell_type": "code",
   "execution_count": null,
   "id": "deb26a64",
   "metadata": {},
   "outputs": [],
   "source": [
    "# Check results\n",
    "eocopd_results <- bdc::query.run(eocopd_query, result.type = 'dataframe')\n",
    "head(eocopd_results)"
   ]
  },
  {
   "cell_type": "code",
   "execution_count": null,
   "id": "fa033337",
   "metadata": {},
   "outputs": [],
   "source": [
    "# Initialize a query\n",
    "dcc_harmonized_query <- bdc::new.query(resource = resource)\n",
    "# Build query using these concept paths\n",
    "bdc::query.anyof.add(query = dcc_harmonized_query,\n",
    "                     keys =  topmed_var)\n",
    "bdc::query.anyof.add(query = dcc_harmonized_query,\n",
    "                     keys = topmed_bmi)"
   ]
  },
  {
   "cell_type": "code",
   "execution_count": null,
   "id": "1fb2882e",
   "metadata": {},
   "outputs": [],
   "source": [
    "# Check results\n",
    "dcc_harmonized_results <- bdc::query.run(dcc_harmonized_query, result.type = 'dataframe')\n",
    "head(dcc_harmonized_results)"
   ]
  },
  {
   "cell_type": "markdown",
   "id": "258fd196",
   "metadata": {},
   "source": [
    "Now that we have our patient-level dataframes, we can combine them into a single, cohesive dataframe.\n",
    "\n",
    "The following function accomplishes three main tasks:\n",
    "1. Removes extra columns, such as consent information\n",
    "2. Renames the BMI and Sex columns\n",
    "3. Adds the Dataset column, which corresponds to the study"
   ]
  },
  {
   "cell_type": "code",
   "execution_count": null,
   "id": "d56ca364",
   "metadata": {},
   "outputs": [],
   "source": [
    "clean_up_df <- function(df, study){\n",
    "    columns_to_drop <- c('\\\\_Parent Study Accession with Subject ID\\\\', '\\\\_Topmed Study Accession with Subject ID\\\\', '\\\\_consents\\\\', '\\\\_harmonized_consent\\\\')\n",
    "    df1 <- df[,!(names(df) %in% columns_to_drop)]\n",
    "    if(grepl('body mass index', names(df1)[2], ignore.case=TRUE)){\n",
    "        names(df1)[2] <- 'BMI'\n",
    "        names(df1)[3] <- 'Sex'\n",
    "    } else {\n",
    "        names(df1)[2] <- \"Sex\"\n",
    "        names(df1)[3] <- \"BMI\"\n",
    "    }\n",
    "    df2 <- na.omit(df1)\n",
    "    df2$Dataset <- study\n",
    "    return(df2)\n",
    "}"
   ]
  },
  {
   "cell_type": "code",
   "execution_count": null,
   "id": "c842ae23",
   "metadata": {
    "scrolled": true
   },
   "outputs": [],
   "source": [
    "clean_eclipse <- clean_up_df(eclipse_results, 'ECLIPSE')\n",
    "clean_eocopd <- clean_up_df(eocopd_results, \"EOCOPD\")\n",
    "clean_dcc <- clean_up_df(dcc_harmonized_results, \"TOPMed Harmonized\")"
   ]
  },
  {
   "cell_type": "markdown",
   "id": "1a4a4cbf",
   "metadata": {},
   "source": [
    "The datasets have been prepped. We can now merge them and begin our analysis."
   ]
  },
  {
   "cell_type": "code",
   "execution_count": null,
   "id": "c9bd840a",
   "metadata": {},
   "outputs": [],
   "source": [
    "# Combine individual dataframes\n",
    "final_df <- rbind(clean_eclipse, clean_eocopd, clean_dcc)"
   ]
  },
  {
   "cell_type": "code",
   "execution_count": null,
   "id": "7883e5fd",
   "metadata": {
    "scrolled": true
   },
   "outputs": [],
   "source": [
    "# Comparison of the datasets and sample harmonization\n",
    "separate <- final_df %>%\n",
    "    select(-c('Patient ID')) %>%\n",
    "    group_by(Dataset, Sex) %>%\n",
    "    summarise(mean_BMI = mean(BMI))\n",
    "print(separate)\n",
    "\n",
    "harmonized <- final_df %>%\n",
    "    select(-c('Patient ID', 'Dataset')) %>%\n",
    "    group_by(Sex) %>%\n",
    "    summarise(mean_BMI = mean(BMI))\n",
    "print(harmonized)"
   ]
  },
  {
   "cell_type": "code",
   "execution_count": null,
   "id": "9e5af96b",
   "metadata": {},
   "outputs": [],
   "source": [
    "# Make lists of male and female mean BMI for plotting\n",
    "male_means <- c(separate$mean_BMI[separate$Sex == 'Male'], harmonized$mean_BMI[harmonized$Sex == 'Male'])\n",
    "female_means <-  c(separate$mean_BMI[separate$Sex == 'Female'], harmonized$mean_BMI[harmonized$Sex == 'Female'])"
   ]
  },
  {
   "cell_type": "code",
   "execution_count": null,
   "id": "c299cb50",
   "metadata": {},
   "outputs": [],
   "source": [
    "studies <- rep(c('ECLIPSE', \"EOCOPD\", 'TOPMed Harmonized', \"Combined\"), 2)\n",
    "total_means <- c(male_means, female_means)\n",
    "to_plot <- data.frame(total_means, studies)\n",
    "to_plot"
   ]
  },
  {
   "cell_type": "code",
   "execution_count": null,
   "id": "46ea330c",
   "metadata": {},
   "outputs": [],
   "source": [
    "ggplot(data = to_plot, aes(fill=studies, y=value, x=specie)) + \n",
    "    geom_bar(position=\"dodge\", stat=\"identity\")"
   ]
  }
 ],
 "metadata": {
  "kernelspec": {
   "display_name": "R",
   "language": "R",
   "name": "ir"
  },
  "language_info": {
   "codemirror_mode": "r",
   "file_extension": ".r",
   "mimetype": "text/x-r-source",
   "name": "R",
   "pygments_lexer": "r",
   "version": "4.1.1"
  }
 },
 "nbformat": 4,
 "nbformat_minor": 5
}
