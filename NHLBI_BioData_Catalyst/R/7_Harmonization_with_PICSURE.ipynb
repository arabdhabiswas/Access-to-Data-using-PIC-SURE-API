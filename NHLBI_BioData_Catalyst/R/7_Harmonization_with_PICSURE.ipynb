{
 "cells": [
  {
   "cell_type": "markdown",
   "id": "4bbf9244",
   "metadata": {},
   "source": [
    "# Harmonization across studies with PIC-SURE"
   ]
  },
  {
   "cell_type": "markdown",
   "id": "80155fea",
   "metadata": {},
   "source": [
    "This tutorial notebook will demonstrate how to query and work with the BioData Catalyst studies, particularly cross-study harmonization. For a more step-by-step introduction to the python PIC-SURE API, see the `1_PICSURE_API_101.ipynb` notebook."
   ]
  },
  {
   "cell_type": "markdown",
   "id": "2f045120",
   "metadata": {},
   "source": [
    "**Before running this notebook, please be sure to review the \\\"Get your security token\\\" documentation, which exists in the NHLBI_BioData_Catalyst [README.md file](https://github.com/hms-dbmi/Access-to-Data-using-PIC-SURE-API/tree/master/NHLBI_BioData_Catalyst#get-your-security-token). It explains about how to get a security token, which is mandatory to access the databases.**"
   ]
  },
  {
   "cell_type": "markdown",
   "id": "416035a8",
   "metadata": {},
   "source": [
    "-----"
   ]
  },
  {
   "cell_type": "markdown",
   "id": "22ca68bb",
   "metadata": {},
   "source": [
    "# Environment set-up"
   ]
  },
  {
   "cell_type": "markdown",
   "id": "d7aafc27",
   "metadata": {},
   "source": [
    "### Pre-requisites\n",
    "- R 3.4 or later\n",
    "\n",
    "\n",
    "### Install packages\n",
    "Install the following:\n",
    "- packages listed in the `requirements.R` file\n",
    "- PIC-SURE API components (from Github)\n",
    "    - PIC-SURE Adapter\n",
    "    - PIC-SURE Client"
   ]
  },
  {
   "cell_type": "code",
   "execution_count": null,
   "id": "dc4f3637",
   "metadata": {
    "scrolled": true
   },
   "outputs": [],
   "source": [
    "source(\"R_lib/requirements.R\")"
   ]
  },
  {
   "cell_type": "code",
   "execution_count": null,
   "id": "bfd6fe69",
   "metadata": {
    "scrolled": true
   },
   "outputs": [],
   "source": [
    "Sys.setenv(TAR = \"/bin/tar\")\n",
    "options(unzip = \"internal\")\n",
    "install.packages(\"https://cran.r-project.org/src/contrib/Archive/devtools/devtools_1.13.6.tar.gz\", repos=NULL, type=\"source\")\n",
    "install.packages(\"https://cran.r-project.org/src/contrib/R6_2.5.1.tar.gz\", repos=NULL, type=\"source\")\n",
    "install.packages(\"https://cran.r-project.org/src/contrib/hash_2.2.6.1.tar.gz\", repos=NULL, type=\"source\")\n",
    "install.packages(c(\"urltools\"),repos = \"http://cran.us.r-project.org\")\n",
    "devtools::install_github(\"hms-dbmi/pic-sure-r-client\", force=T)\n",
    "devtools::install_github(\"hms-dbmi/pic-sure-r-adapter-hpds\", force=T)\n",
    "devtools::install_github(\"hms-dbmi/pic-sure-biodatacatalyst-r-adapter-hpds\", force=T)"
   ]
  },
  {
   "cell_type": "markdown",
   "id": "2f3cac84",
   "metadata": {},
   "source": [
    "##### Loading user-defined functions"
   ]
  },
  {
   "cell_type": "code",
   "execution_count": null,
   "id": "ac3b047f",
   "metadata": {},
   "outputs": [],
   "source": [
    "source(\"R_lib/utils.R\")"
   ]
  },
  {
   "cell_type": "markdown",
   "id": "65990dee",
   "metadata": {},
   "source": [
    "## Connecting to a PIC-SURE resource"
   ]
  },
  {
   "cell_type": "code",
   "execution_count": null,
   "id": "b9abbb38",
   "metadata": {},
   "outputs": [],
   "source": [
    "PICSURE_network_URL <- \"https://picsure.biodatacatalyst.nhlbi.nih.gov/picsure\"\n",
    "resource_id <- \"02e23f52-f354-4e8b-992c-d37c8b9ba140\"\n",
    "token_file <- \"token.txt\""
   ]
  },
  {
   "cell_type": "code",
   "execution_count": null,
   "id": "3d6f82ee",
   "metadata": {},
   "outputs": [],
   "source": [
    "token <- scan(token_file, what = \"character\")"
   ]
  },
  {
   "cell_type": "code",
   "execution_count": null,
   "id": "4caf8088",
   "metadata": {},
   "outputs": [],
   "source": [
    "connection <- picsure::connect(url = PICSURE_network_URL,\n",
    "                                 token = token)\n",
    "resource <- bdc::get.resource(connection,\n",
    "                               resourceUUID = resource_id)"
   ]
  },
  {
   "cell_type": "markdown",
   "id": "acef4810",
   "metadata": {},
   "source": [
    "-----"
   ]
  },
  {
   "cell_type": "markdown",
   "id": "be0f6716",
   "metadata": {},
   "source": [
    "## Harmonizing variables with PIC-SURE\n",
    "One of the key challenges to conducting analyses with several studies is ensuring correct data harmonization, or combining of data from different sources. There are many harmonization techniques, but this notebook will demonstrate how to find and extract similar variables from different studies in PIC-SURE. Two examples of this will be shown:\n",
    "1. Retrieving variables for *sex and gender* across studies with BMI\n",
    "2. Harmonizing the variable *\"orthopnea\"* across studies with age\n",
    "\n",
    "\n",
    "*For more information about the TOPMed DCC Harmonized Data Set in PIC-SURE, please refer to the [`2_TOPMed_DCC_Harmonized_Variables_analysis.ipynb`](https://github.com/hms-dbmi/Access-to-Data-using-PIC-SURE-API/blob/master/NHLBI_BioData_Catalyst/R/2_TOPMed_DCC_Harmonized_Variables_analysis.ipynb) notebook*"
   ]
  },
  {
   "cell_type": "markdown",
   "id": "21622d00",
   "metadata": {},
   "source": [
    "-----"
   ]
  },
  {
   "cell_type": "markdown",
   "id": "3aa601e9",
   "metadata": {},
   "source": [
    "### Sex and gender variables across studies"
   ]
  },
  {
   "cell_type": "markdown",
   "id": "43369f9f",
   "metadata": {},
   "source": [
    "Let's start by doing separate searches for `sex` and `gender` to gain a better understanding of the variables that exist in PIC-SURE with these terms."
   ]
  },
  {
   "cell_type": "code",
   "execution_count": null,
   "id": "b2300e06",
   "metadata": {},
   "outputs": [],
   "source": [
    "full_dict <- bdc::find.in.dictionary(resource) %>%\n",
    "    bdc::extract.entries()\n",
    "full_multiindex_dict <- get_multiIndex_variablesDict(full_dict)"
   ]
  },
  {
   "cell_type": "code",
   "execution_count": null,
   "id": "e642a173",
   "metadata": {},
   "outputs": [],
   "source": [
    "sex_mask <- full_multiindex_dict$simplified_name[str_detect(full_multiindex_dict$simplified_name, 'sex')]\n",
    "sex <- full_multiindex_dict[full_multiindex_dict$simplified_name %in% sex_mask,]\n",
    "gender_mask <- full_multiindex_dict$simplified_name[str_detect(full_multiindex_dict$simplified_name, 'gender')]\n",
    "gender <- full_multiindex_dict[full_multiindex_dict$simplified_name %in% gender_mask,]"
   ]
  },
  {
   "cell_type": "code",
   "execution_count": null,
   "id": "5810c9ef",
   "metadata": {},
   "outputs": [],
   "source": [
    "# Uncomment the following lines of code to preview the filtered dataframes\n",
    "#head(sex)\n",
    "#head(gender)"
   ]
  },
  {
   "cell_type": "markdown",
   "id": "75266665",
   "metadata": {},
   "source": [
    "After reviewing the variables using the dataframe (or the [user interface](https://picsure.biodatacatalyst.nhlbi.nih.gov/psamaui/login)), let's say we are interested in sex/gender variables from the following studies:\n",
    "- TOPMed Harmonized data set\n",
    "- ECLIPSE (Evaluation of COPD Longitudinally to Identify Predictive Surrogate Endpoints)\n",
    "- EOCOPD (Early Onset of COPD)\n",
    "\n",
    "However, these concept paths are labelled differently for each of these studies. For example, some use the keyword `sex` while others use `gender`. To acccount for these differences, we need to develop a way to search for multiple keywords at once."
   ]
  },
  {
   "cell_type": "markdown",
   "id": "af2df2d0",
   "metadata": {},
   "source": [
    "First, let's get all of the concept paths associated with each study."
   ]
  },
  {
   "cell_type": "code",
   "execution_count": null,
   "id": "956ee446",
   "metadata": {},
   "outputs": [],
   "source": [
    "topmed_harmonized <- bdc::find.in.dictionary(resource, 'DCC Harmonized data set') %>%\n",
    "    bdc::extract.entries()\n",
    "eclipse <- bdc::find.in.dictionary(resource, 'Evaluation of COPD Longitudinally to Identify Predictive Surrogate Endpoints (ECLIPSE)') %>%\n",
    "    bdc::extract.entries()\n",
    "eocopd <- bdc::find.in.dictionary(resource, 'NHLBI TOPMed: Boston Early-Onset COPD Study') %>%\n",
    "    bdc::extract.entries()"
   ]
  },
  {
   "cell_type": "markdown",
   "id": "d18d2c30",
   "metadata": {},
   "source": [
    "Now we will search for the terms of interest (`sex` and `gender`) and filter out these concept paths.\n",
    "\n",
    "Below is a simple user-defined function that you could use to accomplish this."
   ]
  },
  {
   "cell_type": "code",
   "execution_count": null,
   "id": "2d79ed2a",
   "metadata": {},
   "outputs": [],
   "source": []
  }
 ],
 "metadata": {
  "kernelspec": {
   "display_name": "R",
   "language": "R",
   "name": "ir"
  },
  "language_info": {
   "codemirror_mode": "r",
   "file_extension": ".r",
   "mimetype": "text/x-r-source",
   "name": "R",
   "pygments_lexer": "r",
   "version": "4.1.1"
  }
 },
 "nbformat": 4,
 "nbformat_minor": 5
}
