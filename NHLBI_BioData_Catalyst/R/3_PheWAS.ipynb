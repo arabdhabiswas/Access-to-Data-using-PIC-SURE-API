{
 "cells": [
  {
   "cell_type": "markdown",
   "metadata": {},
   "source": [
    "# PIC-SURE R API use-case: Phenome-Wide analysis on BioData Catalyst studies"
   ]
  },
  {
   "cell_type": "markdown",
   "metadata": {},
   "source": [
    "This notebook is an illustration example about how to query data using the R **PIC-SURE API**. It takes as use-case a simple PheWAS analysis. This notebook is intentionally straightforward, and explanation provided are only aimed at guiding through the PheWAS analysis process. For a more step-by-step introduction to the R PIC-SURE API, see the `1_PICSURE_API_101.ipynb` notebook."
   ]
  },
  {
   "cell_type": "markdown",
   "metadata": {},
   "source": [
    "**Before running this notebook, please be sure to get an user-specific security token. For more information on how to proceed, see the `get_your_token.ipynb` notebook**"
   ]
  },
  {
   "cell_type": "markdown",
   "metadata": {},
   "source": [
    "## Environment set-up"
   ]
  },
  {
   "cell_type": "markdown",
   "metadata": {},
   "source": [
    "### System requirements\n",
    "- R 4.0 or later"
   ]
  },
  {
   "cell_type": "markdown",
   "metadata": {},
   "source": [
    "### Packages installation"
   ]
  },
  {
   "cell_type": "code",
   "execution_count": null,
   "metadata": {
    "scrolled": true
   },
   "outputs": [],
   "source": [
    "source(\"R_lib/requirements.R\")"
   ]
  },
  {
   "cell_type": "markdown",
   "metadata": {},
   "source": [
    "#### Installing latest R PIC-SURE API libraries from github"
   ]
  },
  {
   "cell_type": "code",
   "execution_count": null,
   "metadata": {},
   "outputs": [],
   "source": [
    "library('devtools', lib.loc = '~/studies/avillachlab-picsure-libraries-all/lib/')"
   ]
  },
  {
   "cell_type": "code",
   "execution_count": null,
   "metadata": {
    "scrolled": true
   },
   "outputs": [],
   "source": [
    "Sys.setenv(TAR = \"/bin/tar\")\n",
    "options(unzip = \"internal\")\n",
    "#install.packages(\"https://cran.r-project.org/src/contrib/Archive/devtools/devtools_1.13.6.tar.gz\", repos=NULL, type=\"source\")\n",
    "install.packages(\"https://cran.r-project.org/src/contrib/R6_2.5.1.tar.gz\", repos=NULL, type=\"source\")\n",
    "install.packages(\"https://cran.r-project.org/src/contrib/hash_2.2.6.1.tar.gz\", repos=NULL, type=\"source\")\n",
    "install.packages(c(\"urltools\"),repos = \"http://cran.us.r-project.org\")\n",
    "devtools::install_github(\"hms-dbmi/pic-sure-r-client\", force=T)\n",
    "devtools::install_github(\"hms-dbmi/pic-sure-r-adapter-hpds\", force=T)\n",
    "devtools::install_github(\"hms-dbmi/pic-sure-biodatacatalyst-r-adapter-hpds\", force=T)"
   ]
  },
  {
   "cell_type": "code",
   "execution_count": null,
   "metadata": {},
   "outputs": [],
   "source": [
    "########testing cell\n",
    "library(dplyr)\n",
    "library(ggplot2)"
   ]
  },
  {
   "cell_type": "markdown",
   "metadata": {},
   "source": [
    "#### Loading user-defined functions"
   ]
  },
  {
   "cell_type": "code",
   "execution_count": null,
   "metadata": {},
   "outputs": [],
   "source": [
    "source(\"R_lib/utils.R\")"
   ]
  },
  {
   "cell_type": "markdown",
   "metadata": {},
   "source": [
    "## Connecting to a PIC-SURE network"
   ]
  },
  {
   "cell_type": "code",
   "execution_count": null,
   "metadata": {},
   "outputs": [],
   "source": [
    "PICSURE_network_URL <- \"https://picsure.biodatacatalyst.nhlbi.nih.gov/picsure\"\n",
    "resource_id <- \"02e23f52-f354-4e8b-992c-d37c8b9ba140\"\n",
    "token_file <- \"token.txt\""
   ]
  },
  {
   "cell_type": "code",
   "execution_count": null,
   "metadata": {},
   "outputs": [],
   "source": [
    "token <- scan(token_file, what = \"character\")\n"
   ]
  },
  {
   "cell_type": "code",
   "execution_count": null,
   "metadata": {},
   "outputs": [],
   "source": [
    "myconnection <- picsure::connect(url = PICSURE_network_URL,\n",
    "                                 token = token)"
   ]
  },
  {
   "cell_type": "code",
   "execution_count": null,
   "metadata": {},
   "outputs": [],
   "source": [
    "resource <- bdc::get.resource(myconnection,\n",
    "                               resourceUUID = resource_id)"
   ]
  },
  {
   "cell_type": "markdown",
   "metadata": {},
   "source": [
    "# PheWAS analysis\n",
    "*Note: This example is not meant to be publication-ready, but rather serve as a guide or starting point to perform PheWAS.*\n",
    "\n",
    "This PheWAS analysis focuses on the TopMed DCC Harmonized Variables. \n",
    "We leverage the harmonized variables to provide an example PheWAS focused on total cholesterol in two studies: ARIC and FHS.\n",
    "The PIC-SURE API is helpful in wrangling our phenotypic data. \n",
    "\n",
    "In a nutshell, this PheWAS analysis follows the subsequent steps:\n",
    "1. Retrieving the variable dictionary, using the PIC-SURE API dedicated methods\n",
    "2. Using the PIC-SURE API to select variables and retrieve data\n",
    "3. Data management\n",
    "4. Statistical analysis for each study and sex\n",
    "5. Visualization of results in Manhattan Plot\n",
    "\n",
    "With this, we are tackling two different analysis considerations of a PheWAS: \n",
    "1) Using multiple variables in a PheWAS\n",
    "2) Harmonization and meta-analysis issues when using data from multiple studies or datasets"
   ]
  },
  {
   "cell_type": "markdown",
   "metadata": {},
   "source": [
    "### 1. Retrieving variable dictionary from PIC-SURE\n",
    "The first step to conducting the PheWAS is to retrieve information about the variables that will be used in the analysis. For this example, we will be using variables from the TOPMed Data Coordinating Center (DCC) Harmonized data set. \n",
    "\n",
    "The Data Harmonization effort aims to produce \"a high quality, lasting resource of publicly available and thoroughly documented harmonized phenotype variables\". The TOPMed DCC collaborates with Working Group members and phenotype experts on this endeavour. So far, 44 harmonized variables are accessible through PIC-SURE API (in addition to the age at which each variable value has been collected for a given subject).\n",
    "\n",
    "Which phenotypic characteristics are included in the harmonized variables?\n",
    "\n",
    "- Key NHLBI phenotypes\n",
    "    - Blood cell counts\n",
    "    - VTE\n",
    "    - Atherosclerosis-related phenotypes\n",
    "    - Lipids\n",
    "    - Blood pressure\n",
    "    \n",
    "    \n",
    "- Common covariates\n",
    "    - Height\n",
    "    - Weight\n",
    "    - BMI\n",
    "    - Smoking status\n",
    "    - Race/ethnicity\n",
    "\n",
    "More information about the variable harmonization process is available at https://www.nhlbiwgs.org/sites/default/files/pheno_harmonization_guidelines.pdf"
   ]
  },
  {
   "cell_type": "markdown",
   "metadata": {},
   "source": [
    "Here, we retrieve the harmonized variables information by searching for `DCC Harmonized data set` in PIC-SURE."
   ]
  },
  {
   "cell_type": "code",
   "execution_count": null,
   "metadata": {},
   "outputs": [],
   "source": [
    "harmonized_variables <- bdc::find.in.dictionary(resource, \"DCC Harmonized data set\") "
   ]
  },
  {
   "cell_type": "code",
   "execution_count": null,
   "metadata": {},
   "outputs": [],
   "source": [
    "harmonized_dic <- lapply(bdc::extract.entries(harmonized_variables), as.character)\n",
    "plain_variablesDict <- dplyr::bind_rows(harmonized_dic) %>% dplyr::arrange(name)"
   ]
  },
  {
   "cell_type": "code",
   "execution_count": null,
   "metadata": {
    "scrolled": true
   },
   "outputs": [],
   "source": [
    "# Display the variables tree hierarchy from the variables name\n",
    "variablesDict <- get_multiIndex_variablesDict(plain_variablesDict)\n",
    "dim(variablesDict)\n",
    "head(variablesDict)"
   ]
  },
  {
   "cell_type": "markdown",
   "metadata": {},
   "source": [
    "### 2. Using the PIC-SURE API to select variables and retrieve data\n",
    "As you can see, we retrieved 80 variables from the DCC harmonized data set. The structure of `variablesDict` allows us to visualize the tree-like structure of the concept paths more easily.\n",
    "Now that we've retrieved the variable information, we need to select our variable of interest. In this example, we are interested in exploring the relationship between the harmonized variables and blood cholesterol. Specifically, we will find the full concept path that contains \"Blood mass concentration of total cholesterol\"."
   ]
  },
  {
   "cell_type": "code",
   "execution_count": null,
   "metadata": {},
   "outputs": [],
   "source": [
    "my_harmonized_dic <- bdc::extract.entries(harmonized_variables)"
   ]
  },
  {
   "cell_type": "code",
   "execution_count": null,
   "metadata": {},
   "outputs": [],
   "source": [
    "# Retrieve the dependent variable - total cholesterol\n",
    "cholesterol_path <- my_harmonized_dic %>% filter(grepl('Blood mass concentration of total cholesterol', name)) %>% pull(name)\n",
    "cholesterol_path"
   ]
  },
  {
   "cell_type": "code",
   "execution_count": null,
   "metadata": {},
   "outputs": [],
   "source": [
    "# Create full list of concept paths with cholesterol_path removed\n",
    "selected_vars <- lapply(variablesDict[[\"name\"]] %>% as.list(), as.character)\n",
    "selected_vars <- selected_vars[selected_vars != cholesterol_path]"
   ]
  },
  {
   "cell_type": "markdown",
   "metadata": {},
   "source": [
    "We are ready to create our query and retrieve the dataframe. This query will consist of two parts:\n",
    "1. **Any record of `cholesterol_path`.** By performing an \"any record of\" filter on the `cholesterol_path`, we will filter out all participants that do not have total blood cholesterol measurements. This allows us to perform more meaningful statistical analysis on the data.\n",
    "2. **Select all remaining harmonized variables.** We will then add all of the remaining harmonized variables to the query, which will allow us to retrieve this information."
   ]
  },
  {
   "cell_type": "code",
   "execution_count": null,
   "metadata": {},
   "outputs": [],
   "source": [
    "# Initialize a query\n",
    "query <- bdc::new.query(resource = resource)"
   ]
  },
  {
   "cell_type": "code",
   "execution_count": null,
   "metadata": {},
   "outputs": [],
   "source": [
    "bdc::query.anyof.add(query, cholesterol_path) # Use anyof for the cholesterol variable to filter out the NA values\n",
    "bdc::query.select.add(query, selected_vars)\n",
    "facts <- bdc::query.run(query, result.type = \"dataframe\")"
   ]
  },
  {
   "cell_type": "code",
   "execution_count": null,
   "metadata": {},
   "outputs": [],
   "source": [
    "head(facts)"
   ]
  },
  {
   "cell_type": "markdown",
   "metadata": {},
   "source": [
    "### 3. Data-management\n",
    "Now that we have retrieved the data, we shall perform some data management steps to prepare for the statistical analysis. First, we will identify which variables are categorical and which are continuous using the \"categorical\" column of the `facts` dataframe. This is an example of how the PIC-SURE API greatly simplifies this step for the user, as categorizing variables can be tricky."
   ]
  },
  {
   "cell_type": "code",
   "execution_count": null,
   "metadata": {},
   "outputs": [],
   "source": [
    "categorical_varnames <- my_harmonized_dic %>% filter(categorical == TRUE) %>% pull(name)\n",
    "continuous_varnames <-  my_harmonized_dic %>% filter(categorical == FALSE) %>% pull(name)"
   ]
  },
  {
   "cell_type": "code",
   "execution_count": null,
   "metadata": {},
   "outputs": [],
   "source": [
    "# remove cholesterol_path from continuous_varnames\n",
    "continuous_varnames <- continuous_varnames[-which(continuous_varnames == cholesterol_path)]\n",
    "# remove subgroup concept path from categorical_varnames\n",
    "categorical_varnames <- categorical_varnames[-which(categorical_varnames == \"\\\\DCC Harmonized data set\\\\01 - Demographics\\\\A distinct subgroup within a study  generally indicating subjects who share similar characteristics due to study design. Subjects may belong to only one subcohort.\\\\\")]"
   ]
  },
  {
   "cell_type": "markdown",
   "metadata": {},
   "source": [
    "To perform this PheWAS, we will frame two participant cohorts in the context of the dependent variable of interest. In this example, we are interested in blood cholesterol. However, `Blood mass concentation of total cholesterol` is a continuous variable. We shall convert this variable into a binary variable with two groups, Normal/Low and High cholesterol levels, by applying a [threshold of 200mg/dL](https://www.mayoclinic.org/diseases-conditions/high-blood-cholesterol/diagnosis-treatment/drc-20350806). "
   ]
  },
  {
   "cell_type": "code",
   "execution_count": null,
   "metadata": {},
   "outputs": [],
   "source": [
    "chol_vector <- as.numeric(unlist(facts['\\\\DCC Harmonized data set\\\\06 - Lipids\\\\Blood mass concentration of total cholesterol\\\\']))\n",
    "facts$categorical_cholesterol <- cut(chol_vector, breaks = c(48, 200, 647),\n",
    "                  labels = c(\"Normal/Low\", \"High\"))"
   ]
  },
  {
   "cell_type": "markdown",
   "metadata": {},
   "source": [
    "We will also specify the variable name for the covariate we are interested in, in this case Sex."
   ]
  },
  {
   "cell_type": "code",
   "execution_count": null,
   "metadata": {},
   "outputs": [],
   "source": [
    "sex_path <- colnames(facts)[grep('sex', colnames(facts))]\n",
    "sex_path"
   ]
  },
  {
   "cell_type": "markdown",
   "metadata": {},
   "source": [
    "We will also select our cohorts of interest. In this example, we are interested in participants from the Framingham Heart Study (FHS) and the Atherosclerosis Risk In Communities (ARIC) cohort. We can utilize the `A distinct subgroup within a study  generally indicating subjects who share similar characteristics due to study design. Subjects may belong to only one subcohort.` concept path in the DCC Harmonized data set to select the participants of interest."
   ]
  },
  {
   "cell_type": "code",
   "execution_count": null,
   "metadata": {},
   "outputs": [],
   "source": [
    "subgroup_var <- colnames(facts)[2] # Get concept path for distinct subgroups\n",
    "# Filter using FHS and ARIC\n",
    "fhs_subset <- facts %>% filter(grepl('FHS', get(subgroup_var)))\n",
    "aric_subset <- facts %>% filter(grepl('ARIC', get(subgroup_var)))"
   ]
  },
  {
   "cell_type": "markdown",
   "metadata": {},
   "source": [
    "### 4. Statistical analysis\n",
    "Two different association tests will be carried out according to variables data types:\n",
    "- Logistic regression for continuous variables, using the `glm` R function\n",
    "- Fisher exact test for categorical variables, using the `fisher.test` R function\n",
    "\n",
    "We will create two functions, `test_continuous` and `test_categorical`, to perform these statistical tests. \n",
    "An additional function, `check_vars`, will be used to check if the data passes some assumptions of these tests.\n"
   ]
  },
  {
   "cell_type": "code",
   "execution_count": null,
   "metadata": {},
   "outputs": [],
   "source": [
    "test_continuous <- function(dependent_vec, independent_vec){\n",
    "    \n",
    "    pval <- 999\n",
    "    glm.fit <- glm(dependent_vec ~ independent_vec, family = 'binomial')\n",
    "    try(pval <- coef(summary(glm.fit))['independent_vec','Pr(>|z|)'], silent = TRUE)\n",
    "    if (pval == 999) {pval <- NA}\n",
    "    \n",
    "    return(pval)\n",
    "}\n",
    "\n",
    "test_categorical <- function(dependent_vec, independent_vec) {\n",
    "    \n",
    "    contingency_table <- table(dependent_vec, independent_vec)\n",
    "    \n",
    "    # set arbitrary cutoff (5): do not compute stats for categorical variables with too many levels\n",
    "    if (max(dim(contingency_table)) > 5 | min(dim(contingency_table)) == 1) {\n",
    "        return(NA)\n",
    "    } else {\n",
    "        res <- fisher.test(contingency_table, workspace = 2e8, simulate.p.value=TRUE)\n",
    "        pval <- res$p.value\n",
    "        return(pval)\n",
    "    }   \n",
    "}\n",
    "\n",
    "check_vars <- function(dependent_var, other_var, df, case_value, control_value){\n",
    "    pass <- FALSE\n",
    "    cases <- df %>% filter(get(dependent_var) == case_value)\n",
    "    controls <- df %>% filter(get(dependent_var) == control_value)\n",
    "    \n",
    "    \n",
    "    try(if ((var(cases, na.rm = TRUE) != 0) & (var(controls, na.rm = TRUE) != 0)) {pass <- TRUE}, silent = TRUE)\n",
    "    \n",
    "    concept_vec <- df %>% pull(eval(other_var))\n",
    "    if(length(table(concept_vec)) > 1) {pass <- TRUE}\n",
    "    \n",
    "    return(pass)\n",
    "}"
   ]
  },
  {
   "cell_type": "markdown",
   "metadata": {},
   "source": [
    "We wrap the previously created functions into one broad analysis function: ```run_phewas```. This would allow the user to run a variation of the analyses described here simply by modifying the calls to the function. The arguments are described below.\n",
    "- facts: a dataframe representing the results from your PIC-SURE query. This dataframe can be filtered as needed.\n",
    "- dependent_var: the column name corresponding to the name of your outcome varible. In this example. 'categorical_cholesterol'.\n",
    "- continuous_varnames: a vector containing all column names of continuous variables within the facts dataframe which you would like to test.\n",
    "- categorical_varnames: a vector containing all column names of categorical variables within the facts dataframe which you would like to test.\n",
    "- case_value: the value corresponding to the 'cases' in the dependent_var vector\n",
    "- control_value: the value corresponding to the 'controls' in the dependent_var vector"
   ]
  },
  {
   "cell_type": "code",
   "execution_count": null,
   "metadata": {},
   "outputs": [],
   "source": [
    "run_phewas <- function(facts, dependent_var, continuous_varnames, categorical_varnames, case_value, control_value){\n",
    "\n",
    "    results_df <- data.frame('concept_code' = '', \n",
    "                             'simplified_varname' = '', \n",
    "                             'vartype' = '', \n",
    "                             'pval' = 1.0,\n",
    "                             'n_cases' = 0,\n",
    "                             'n_controls' = 0,\n",
    "                             'var_cases' = 0,\n",
    "                             'var_controls' = 0\n",
    "                            )[-1,]\n",
    "\n",
    "    for (other_var in continuous_varnames){\n",
    "        \n",
    "        df <- facts %>% select(eval(dependent_var), eval(other_var)) # do any filtering, removal of NA or blank values here if necessary (currently not doing so)\n",
    "        check <- check_vars(dependent_var, other_var, df, case_value, control_value)\n",
    "        if(check){\n",
    "        results_df <- results_df %>% add_row(concept_code = other_var, \n",
    "                                             simplified_varname = str_extract(other_var, '\\\\\\\\[^\\\\\\\\]*\\\\\\\\$') %>% str_replace_all('\\\\\\\\', ''), \n",
    "                                             vartype = 'continuous', \n",
    "                                             pval = test_continuous(df[,1], df[,2]),\n",
    "                                             n_cases = df %>% filter(get(dependent_var) == case_value, !is.na(get(other_var))) %>% nrow(),\n",
    "                                             n_controls = df %>% filter(get(dependent_var) == control_value, !is.na(get(other_var))) %>% nrow(),\n",
    "                                             var_cases = df %>% filter(get(dependent_var) == case_value) %>% pull(eval(other_var)) %>% var(na.rm = TRUE), #Variance\n",
    "                                             var_controls = df %>% filter(get(dependent_var) == control_value) %>% pull(eval(other_var)) %>% var(na.rm = TRUE)\n",
    "                                            )\n",
    "            }\n",
    "    }\n",
    "    for (other_var in categorical_varnames){\n",
    "        \n",
    "        df <- facts %>% select(eval(dependent_var), eval(other_var)) # do any filtering, removal of NA or blank values here if necessary (currently not doing so)\n",
    "        check <- check_vars(dependent_var, other_var, df, case_value, control_value)\n",
    "        if(check) {\n",
    "        results_df <- results_df %>% add_row(concept_code = other_var, \n",
    "                                             simplified_varname = str_extract(other_var, '\\\\\\\\[^\\\\\\\\]*\\\\\\\\$') %>% str_replace_all('\\\\\\\\', ''), \n",
    "                                             vartype = 'categorical', \n",
    "                                             pval = test_categorical(df[,2], df[,1]),\n",
    "                                             n_cases = df %>% filter(get(dependent_var) == case_value, !is.na(get(other_var))) %>% nrow(),\n",
    "                                             n_controls = df %>% filter(get(dependent_var) == control_value, !is.na(get(other_var))) %>% nrow(),\n",
    "                                             var_cases = NA,\n",
    "                                             var_controls = NA\n",
    "                                            )\n",
    "        \n",
    "            }\n",
    "        }\n",
    "    return(results_df)\n",
    "}"
   ]
  },
  {
   "cell_type": "markdown",
   "metadata": {},
   "source": [
    "We then use our previously defined wrapper function to run the phewas 4 times:\n",
    "- Testing all harmonized variables against cholesterol in females in the FHS study\n",
    "- Testing all harmonized variables against cholesterol in males in the FHS study\n",
    "- Testing all harmonized variables against cholesterol in females in the ARIC study\n",
    "- Testing all harmonized variables against cholesterol in males in the ARIC study"
   ]
  },
  {
   "cell_type": "code",
   "execution_count": null,
   "metadata": {
    "scrolled": true
   },
   "outputs": [],
   "source": [
    "fhs_female_df <- run_phewas(fhs_subset %>% filter(get(sex_path) == 'Female'),\n",
    "                                     \"categorical_cholesterol\", \n",
    "                                     continuous_varnames, \n",
    "                                     categorical_varnames, \n",
    "                                     case_value=\"High\", \n",
    "                                     control_value=\"Normal/Low\") %>%\n",
    "    mutate(sex = 'Female',\n",
    "           study = 'FHS')\n",
    "\n",
    "fhs_male_df <- run_phewas(fhs_subset %>% filter(get(sex_path) == 'Male'),\n",
    "                                     \"categorical_cholesterol\", \n",
    "                                     continuous_varnames, \n",
    "                                     categorical_varnames, \n",
    "                                     case_value=\"High\", \n",
    "                                     control_value=\"Normal/Low\") %>%\n",
    "    mutate(sex = 'Male',\n",
    "           study = 'FHS')\n",
    "\n",
    "aric_female_df <- run_phewas(aric_subset %>% filter(get(sex_path) == 'Female'), \n",
    "                                       \"categorical_cholesterol\", \n",
    "                                       continuous_varnames, \n",
    "                                       categorical_varnames, \n",
    "                                       case_value=\"High\", \n",
    "                                       control_value=\"Normal/Low\") %>%\n",
    "    mutate(sex = 'Female',\n",
    "           study = 'ARIC')\n",
    "\n",
    "aric_male_df <- run_phewas(aric_subset %>% filter(get(sex_path) == 'Male'), \n",
    "                                       \"categorical_cholesterol\", \n",
    "                                       continuous_varnames, \n",
    "                                       categorical_varnames, \n",
    "                                       case_value=\"High\", \n",
    "                                       control_value=\"Normal/Low\") %>%\n",
    "    mutate(sex = 'Male',\n",
    "           study = 'ARIC')"
   ]
  },
  {
   "cell_type": "code",
   "execution_count": null,
   "metadata": {},
   "outputs": [],
   "source": [
    "combined_df <- rbind(fhs_female_df, fhs_male_df, aric_female_df, aric_male_df)\n",
    "head(combined_df)"
   ]
  },
  {
   "cell_type": "markdown",
   "metadata": {},
   "source": [
    "Because we are running many statistical tests, we need to perform a p-value adjustment. Here, we use the holm-bonferroni method with an alpha of 0.01."
   ]
  },
  {
   "cell_type": "code",
   "execution_count": null,
   "metadata": {},
   "outputs": [],
   "source": [
    "combined_df$adj_pvalues <- p.adjust(combined_df$pval, method=\"holm\")\n",
    "combined_df$log_adj_pvalues <- -log10(combined_df$adj_pvalues)\n",
    "adjusted_alpha <- -log10(0.01) "
   ]
  },
  {
   "cell_type": "code",
   "execution_count": null,
   "metadata": {},
   "outputs": [],
   "source": [
    "# idenfity top 5 adjusted p value results for each sex / study category\n",
    "combined_df <- combined_df %>% \n",
    "    group_by(study, sex) %>% \n",
    "    mutate(top5pbystudy = log_adj_pvalues %in% sort(log_adj_pvalues, decreasing = TRUE)[1:5])"
   ]
  },
  {
   "cell_type": "markdown",
   "metadata": {},
   "source": [
    "### 5. Visualization of results in a Manhattan plot\n",
    "We plot a Manhattan plot, commonly used in PheWAS analyses, to visualize our results.\n",
    "The x axis represents each of the phenotypes tested, and the y axis represents their associated -log10 p value. "
   ]
  },
  {
   "cell_type": "code",
   "execution_count": null,
   "metadata": {},
   "outputs": [],
   "source": [
    "options(repr.plot.width=25, repr.plot.height=20)\n",
    "library(ggplot2)\n",
    "my_theme <- theme_bw() +\n",
    "theme(axis.title.y = element_text(face=\"italic\", size=30),\n",
    "      title = element_text(size=35),\n",
    "      axis.title.x = element_text(size=30),\n",
    "      axis.text.x = element_blank(),\n",
    "      #legend.position = \"none\",\n",
    "      panel.grid.major.x = element_blank()\n",
    "      )"
   ]
  },
  {
   "cell_type": "code",
   "execution_count": null,
   "metadata": {},
   "outputs": [],
   "source": [
    "# Manatthan plot using geom_jitter --> more suitable when number of point per category is enough\n",
    "ggplot(combined_df, aes(x=simplified_varname, y=log_adj_pvalues)) +\n",
    "geom_jitter(alpha=1, aes_string(colour=\"sex\"),\n",
    "           width=0.5,\n",
    "           size=5) +\n",
    "geom_hline(yintercept=adjusted_alpha, linetype=\"dashed\", color = 'red') +\n",
    "scale_y_continuous(expand = c(0, 20) ) +\n",
    "geom_text(aes(label = ifelse(top5pbystudy, str_wrap(as.character(simplified_varname), 40),'')), hjust=.08, vjust=-0.08, size = 6) +\n",
    "labs(title=\"Association between phenotypic variables and cholesterol level status\",\n",
    "    x=\"Phenotype\",\n",
    "    y=\"- log10(p-values)\",\n",
    "    colour=\"Variable type\") +\n",
    "facet_wrap(facets = vars(study), nrow = 2) +\n",
    "my_theme\n"
   ]
  },
  {
   "cell_type": "code",
   "execution_count": null,
   "metadata": {},
   "outputs": [],
   "source": []
  },
  {
   "cell_type": "code",
   "execution_count": null,
   "metadata": {},
   "outputs": [],
   "source": []
  },
  {
   "cell_type": "code",
   "execution_count": null,
   "metadata": {},
   "outputs": [],
   "source": []
  },
  {
   "cell_type": "markdown",
   "metadata": {},
   "source": [
    "## PheWAS analysis"
   ]
  },
  {
   "cell_type": "markdown",
   "metadata": {},
   "source": [
    "In a nutshell, this PheWAS analysis follows the subsequent steps:\n",
    "- Retrieving the variables dictionary, using the PIC-SURE API dedicated methods\n",
    "- From the info provided by the dictionary, retrieving the data in an exploitable format through PIC-SURE API calls\n",
    "- Data management\n",
    "- Running univariate tests again every phenotype variables\n",
    "- Adjusting for multiple hypotheses testing issue\n",
    "- Plotting results\n",
    "\n",
    "\n",
    "This analysis is conducted using individuals enrolled in the COPDGene Study. Overall goal of this cohort is to detect underlying genetic factors to develop Chronic Obstructive Pulmonary Disease (COPD), and currently includes more than 10,000 individuals ([more information on COPDGene Study](http://www.copdgene.org))."
   ]
  },
  {
   "cell_type": "markdown",
   "metadata": {},
   "source": [
    "### 1. Retrieving variable dictionary from the Database"
   ]
  },
  {
   "cell_type": "markdown",
   "metadata": {},
   "source": [
    "Retrieving variables dictionary for COPDGene related variables."
   ]
  },
  {
   "cell_type": "code",
   "execution_count": null,
   "metadata": {},
   "outputs": [],
   "source": [
    "copdgene_variables <- bdc::find.in.dictionary(resource, \"Genetic Epidemiology of COPD (COPDGene)\") \n"
   ]
  },
  {
   "cell_type": "code",
   "execution_count": null,
   "metadata": {},
   "outputs": [],
   "source": [
    "copdgene_dic <- lapply(bdc::extract.entries(copdgene_variables), as.character)\n",
    "plain_variablesDict <- dplyr::bind_rows(copdgene_dic) %>% dplyr::arrange(name)"
   ]
  },
  {
   "cell_type": "code",
   "execution_count": null,
   "metadata": {},
   "outputs": [],
   "source": [
    "my_copdgene_dic <- bdc::extract.entries(copdgene_variables)"
   ]
  },
  {
   "cell_type": "markdown",
   "metadata": {},
   "source": [
    "Here we retrieved information about all the available variables of the COPDGene study, as well as information about the individual consents. The Consent variable will be eventually used to filter the patients pertaining to the COPDGene study. We are then combining both dictionaries into a single one."
   ]
  },
  {
   "cell_type": "code",
   "execution_count": null,
   "metadata": {},
   "outputs": [],
   "source": [
    "# Display the variables tree hierarchy from the variables name\n",
    "variablesDict <- get_multiIndex_variablesDict(plain_variablesDict)\n",
    "head(variablesDict)"
   ]
  },
  {
   "cell_type": "markdown",
   "metadata": {},
   "source": [
    "### 2. Selecting variables and retrieving data from HPDS"
   ]
  },
  {
   "cell_type": "markdown",
   "metadata": {},
   "source": [
    "Subseting to keep only the phenotype variables + the variable \"affection status\" that will be used as the dependent variable for this illustration use-case."
   ]
  },
  {
   "cell_type": "code",
   "execution_count": null,
   "metadata": {},
   "outputs": [],
   "source": [
    "# all copd variables\n",
    "mask_copdgene <- variablesDict[\"level_0\"] == 'Genetic Epidemiology of COPD (COPDGene) Funded by the National Heart, Lung, and Blood Institute ( phs000179 )'\n",
    "# all phenotypic variables, determined by ? previosly called 'subject phenotype'\n",
    "mask_pheno <- variablesDict[\"level_1\"] == \"Subject ID, died center, age at enrolment, race, ethnic, gender, body weight, body height, BMI, systolic and diastolic blood pressure, measurement of several parameters during 6 minutes work, CT slicer, CT scanner, heart rate, oxygen saturation and therapy, medical history of back pain, cancer, cardio vascular diseases, diabetes, digestive system diseases, eye diseases, general health, musculoskeletal diseases, painful joint type, respiratory tract disease, smoking, and walking limbs, medication history of treatment with beta-agonist, theophylline, inhaled corticosteroid, Oral corticosteroids, ipratropium bromide, and tiotroprium bromide, respiratory disease, St. George's Respiratory Questionnaire, SF-36 Health Survey, spirometry, and VIDA of participants with or without chronic obstructive pulmonary disease and involved in the 'Genetic Epidemiology of COPD (COPDGene) Funded by the National Heart, Lung, and Blood Institute' project.\"#'Subject Phenotype'\n",
    "mask_status <- variablesDict[\"level_2\"] == 'Affection status'\n",
    "# Will probably need to add more to the mask_to_drop variable\n",
    "mask_to_drop <- variablesDict[[\"simplified_name\"]] %in% list(\"Dbgap_id\", \"De-identified site code\", \"A1AD: phenotype/genotype\")\n",
    "mask_vars <- mask_copdgene & (mask_pheno | mask_status) & !mask_to_drop\n",
    "selected_vars <- variablesDict[mask_vars, ]$name %>% unname() %>% as.list()"
   ]
  },
  {
   "cell_type": "markdown",
   "metadata": {},
   "source": [
    "\n",
    "### Subsetting only COPDGene records"
   ]
  },
  {
   "cell_type": "markdown",
   "metadata": {},
   "source": [
    "We are using the COPDGene study accession 'phs000179'."
   ]
  },
  {
   "cell_type": "markdown",
   "metadata": {},
   "source": [
    "We can view the list of consents we have access to:"
   ]
  },
  {
   "cell_type": "code",
   "execution_count": null,
   "metadata": {},
   "outputs": [],
   "source": [
    "#not sure if this is the best way to view all consents we have access to?\n",
    "consent_variable <- bdc::find.in.dictionary(resource, \"_parent_consents\")  \n",
    "consent_dic <- bdc::extract.entries(consent_variable)\n",
    "available_consents <- unlist(consent_dic$categoryValues)\n",
    "available_consents"
   ]
  },
  {
   "cell_type": "code",
   "execution_count": null,
   "metadata": {},
   "outputs": [],
   "source": [
    "##### Note from Emily:\n",
    "# May be able to use this? Got this from the 101 notebook - if we want to remain consistent\n",
    "# bdc::query.show(bdc::new.query(resource = resource))"
   ]
  },
  {
   "cell_type": "markdown",
   "metadata": {},
   "source": [
    "We will narrow our query to only include consent codes starting with 'phs000179'.\n"
   ]
  },
  {
   "cell_type": "code",
   "execution_count": null,
   "metadata": {},
   "outputs": [],
   "source": [
    "copd_consents <- available_consents[grepl('phs000179', available_consents)]\n",
    "copd_consents"
   ]
  },
  {
   "cell_type": "markdown",
   "metadata": {},
   "source": [
    "next, we create a new query object: "
   ]
  },
  {
   "cell_type": "code",
   "execution_count": null,
   "metadata": {},
   "outputs": [],
   "source": [
    "my_query = bdc::new.query(resource = resource)"
   ]
  },
  {
   "cell_type": "code",
   "execution_count": null,
   "metadata": {},
   "outputs": [],
   "source": [
    "# Delete existing consents\n",
    "bdc::query.filter.delete(query = my_query,\n",
    "                      keys = \"\\\\_consents\\\\\")\n",
    "# add in our copd consents\n",
    "bdc::query.filter.add(query = my_query,\n",
    "                      keys = \"\\\\_consents\\\\\",\n",
    "                      as.list(copd_consents))\n",
    "# note: running this cell results in the following warning:\n",
    "#    Warning message in grep(catval, ch):\n",
    "#    “argument 'pattern' has length > 1 and only the first element will be used”\n",
    "# but still functions as expected"
   ]
  },
  {
   "cell_type": "code",
   "execution_count": null,
   "metadata": {},
   "outputs": [],
   "source": [
    "bdc::query.show(my_query)"
   ]
  },
  {
   "cell_type": "code",
   "execution_count": null,
   "metadata": {},
   "outputs": [],
   "source": [
    "facts = bdc::query.run(query = my_query, result.type = \"dataframe\")"
   ]
  },
  {
   "cell_type": "code",
   "execution_count": null,
   "metadata": {},
   "outputs": [],
   "source": [
    "head(facts)"
   ]
  },
  {
   "cell_type": "code",
   "execution_count": null,
   "metadata": {},
   "outputs": [],
   "source": [
    "# add variables?\n",
    "q = bdc::new.query(resource = resource)\n",
    "bdc::query.filter.delete(query = q,\n",
    "                      keys = \"\\\\_consents\\\\\")\n",
    "\n",
    "# add in our copd consents\n",
    "bdc::query.filter.add(query = q,\n",
    "                      keys = \"\\\\_consents\\\\\",\n",
    "                      as.list(copd_consents))\n",
    "\n",
    "bdc::query.select.add(query = q,\n",
    "                      keys = as.list(my_copdgene_dic %>% pull(name)))\n",
    "\n",
    "facts = bdc::query.run(query = q, result.type = \"dataframe\")"
   ]
  },
  {
   "cell_type": "code",
   "execution_count": null,
   "metadata": {},
   "outputs": [],
   "source": [
    "head(facts)"
   ]
  },
  {
   "cell_type": "markdown",
   "metadata": {},
   "source": [
    "### 3. Data-management"
   ]
  },
  {
   "cell_type": "markdown",
   "metadata": {},
   "source": [
    "#### Selecting variables regarding their types"
   ]
  },
  {
   "cell_type": "markdown",
   "metadata": {},
   "source": [
    "One important step in a PheWAS is to separate variables by type (e.g., categorical, continuous). This distinction is straightforward using the variables dictionary."
   ]
  },
  {
   "cell_type": "code",
   "execution_count": null,
   "metadata": {},
   "outputs": [],
   "source": [
    "head(my_copdgene_dic)"
   ]
  },
  {
   "cell_type": "code",
   "execution_count": null,
   "metadata": {},
   "outputs": [],
   "source": [
    "categorical_varnames <- my_copdgene_dic %>% filter(categorical == TRUE) %>% pull(name)\n",
    "continuous_varnames <- my_copdgene_dic %>% filter(categorical == FALSE) %>% pull(name)"
   ]
  },
  {
   "cell_type": "markdown",
   "metadata": {},
   "source": [
    "### Selecting the dependent variable to study\n",
    "Most of PheWAS studies use a genetic variant as the dependent variable to separate the population between cases and controls. However the population doesn't have to be dichotomized using a genetic variant, and any phenotypic variable could be used to run a PheWAS analysis (see for example [*Neuraz et al.*, 2013](https://journals.plos.org/ploscompbiol/article?id=10.1371/journal.pcbi.1003405)).\n",
    "\n",
    "Here we will use the **COPD status** as the case-control variable to dichotomize the population in our analysis, and keep only the population subset containing relevant values for the COPD status (i.e. keeping \"Case\" and \"Control\" individuals, thus discarding \"Other\", \"Control, Exclusionary Disease\", and null values)."
   ]
  },
  {
   "cell_type": "code",
   "execution_count": null,
   "metadata": {
    "scrolled": true
   },
   "outputs": [],
   "source": [
    "# find the full path for the dependent variable: Affection status\n",
    "my_copdgene_dic %>% filter(grepl('Affection status', name))\n",
    "affection_status_path <- my_copdgene_dic %>% filter(grepl('Affection status', name)) %>% pull(name)"
   ]
  },
  {
   "cell_type": "code",
   "execution_count": null,
   "metadata": {},
   "outputs": [],
   "source": [
    "affection_status_path"
   ]
  },
  {
   "cell_type": "code",
   "execution_count": null,
   "metadata": {},
   "outputs": [],
   "source": [
    "# remove affection_status_path from categorical_varnames\n",
    "categorical_varnames <- categorical_varnames[-which(categorical_varnames == affection_status_path)]"
   ]
  },
  {
   "cell_type": "markdown",
   "metadata": {},
   "source": [
    "Then we subset our population regarding the relevant values for the COPD diagnosis variable (i.e. keeping \"Case\" and \"Control\" individuals, and discarding \"Other\", \"Control, Exclusionary Disease\", and null values)."
   ]
  },
  {
   "cell_type": "code",
   "execution_count": null,
   "metadata": {},
   "outputs": [],
   "source": [
    "subset <- facts %>% filter(get(affection_status_path) %in% c('Case', 'Control'))"
   ]
  },
  {
   "cell_type": "code",
   "execution_count": null,
   "metadata": {},
   "outputs": [],
   "source": [
    "table(subset %>% pull(affection_status_path))"
   ]
  },
  {
   "cell_type": "markdown",
   "metadata": {},
   "source": [
    "### 4. Univariate statistical tests"
   ]
  },
  {
   "cell_type": "markdown",
   "metadata": {},
   "source": [
    "From this point, each variable present in the `facts_dummies` dataset will be tested against the selected dependent variable, (ie presence or absence of COPD).\n",
    "\n",
    "Two different association tests will be carried out according to variables data types:\n",
    "- Mann-Whitney U test for continuous variables\n",
    "- Fisher exact test for categorical variables"
   ]
  },
  {
   "cell_type": "code",
   "execution_count": null,
   "metadata": {},
   "outputs": [],
   "source": [
    "test_continuous <- function(dependent_vec, independent_vec){\n",
    "    \n",
    "    res <- wilcox.test(dependent_vec~independent_vec)\n",
    "    pval <- res$p.value\n",
    "    \n",
    "    return(pval)\n",
    "}"
   ]
  },
  {
   "cell_type": "code",
   "execution_count": null,
   "metadata": {},
   "outputs": [],
   "source": [
    "test_categorical <- function(dependent_vec, independent_vec) {\n",
    "    \n",
    "    contingency_table <- table(dependent_vec, independent_vec)\n",
    "    \n",
    "    # set arbitrary cutoff (5): do not compute stats for categorical variables with too many levels\n",
    "    if (max(dim(contingency_table)) > 5 | min(dim(contingency_table)) == 1) {\n",
    "        return(NA)\n",
    "    } else {\n",
    "        res <- fisher.test(contingency_table, workspace = 2e8, simulate.p.value=TRUE)\n",
    "        pval <- res$p.value\n",
    "        return(pval)\n",
    "    }\n",
    "    \n",
    "}"
   ]
  },
  {
   "cell_type": "code",
   "execution_count": null,
   "metadata": {},
   "outputs": [],
   "source": []
  },
  {
   "cell_type": "code",
   "execution_count": null,
   "metadata": {},
   "outputs": [],
   "source": [
    "results_df <- data.frame('full_varpath' = '', \n",
    "                         'simplified_varname' = '', \n",
    "                         'vartype' = '', \n",
    "                         'pval' = 1.0,\n",
    "                         'n_cases' = 0,\n",
    "                         'n_controls' = 0,\n",
    "                         'var_cases' = 0,\n",
    "                         'var_controls' = 0,\n",
    "                         'odds_ratio' = 0 #https://www.rdocumentation.org/packages/questionr/versions/0.7.5/topics/odds.ratio \n",
    "                        )[-1,]\n",
    "\n",
    "for (var in continuous_varnames){\n",
    "    \n",
    "    df <- subset %>% select(eval(affection_status_path), eval(var)) # do any filtering, removal of NA or blank values here if necessary (currently not doing so)\n",
    "\n",
    "    results_df <- results_df %>% add_row(full_varpath = var, \n",
    "                                         simplified_varname = str_extract(var, '\\\\\\\\[^\\\\\\\\]*\\\\\\\\$') %>% str_replace_all('\\\\\\\\', ''), \n",
    "                                         vartype = 'continuous', \n",
    "                                         pval = test_continuous(df[,2], df[,1]),\n",
    "                                         n_cases = df %>% filter(get(affection_status_path) == 'Case', !is.na(get(var))) %>% nrow(),\n",
    "                                         n_controls = df %>% filter(get(affection_status_path) == 'Control', !is.na(get(var))) %>% nrow(),\n",
    "                                         var_cases = df %>% filter(get(affection_status_path) == 'Case') %>% pull(eval(var)) %>% var(na.rm = TRUE),\n",
    "                                         var_controls = df %>% filter(get(affection_status_path) == 'Control') %>% pull(eval(var)) %>% var(na.rm = TRUE)\n",
    "                                        )\n",
    "    \n",
    "}\n",
    "\n",
    "for (var in categorical_varnames){\n",
    "    \n",
    "    df <- subset %>% select(eval(affection_status_path), eval(var)) # do any filtering, removal of NA or blank values here if necessary (currently not doing so)\n",
    "    \n",
    "    results_df <- results_df %>% add_row(full_varpath = var, \n",
    "                                         simplified_varname = str_extract(var, '\\\\\\\\[^\\\\\\\\]*\\\\\\\\$') %>% str_replace_all('\\\\\\\\', ''), \n",
    "                                         vartype = 'categorical', \n",
    "                                         pval = test_categorical(df[,2], df[,1]),\n",
    "                                         n_cases = df %>% filter(get(affection_status_path) == 'Case', !is.na(get(var))) %>% nrow(),\n",
    "                                         n_controls = df %>% filter(get(affection_status_path) == 'Control', !is.na(get(var))) %>% nrow(),\n",
    "                                         var_cases = NA,\n",
    "                                         var_controls = NA\n",
    "                                        )\n",
    "    \n",
    "}"
   ]
  },
  {
   "cell_type": "code",
   "execution_count": null,
   "metadata": {},
   "outputs": [],
   "source": [
    "results_df"
   ]
  },
  {
   "cell_type": "code",
   "execution_count": null,
   "metadata": {},
   "outputs": [],
   "source": []
  },
  {
   "cell_type": "code",
   "execution_count": null,
   "metadata": {},
   "outputs": [],
   "source": []
  },
  {
   "cell_type": "code",
   "execution_count": null,
   "metadata": {},
   "outputs": [],
   "source": []
  },
  {
   "cell_type": "code",
   "execution_count": null,
   "metadata": {},
   "outputs": [],
   "source": []
  },
  {
   "cell_type": "markdown",
   "metadata": {},
   "source": [
    "## 5. Multiple hypotheses testing correction: Bonferroni Method"
   ]
  },
  {
   "cell_type": "markdown",
   "metadata": {},
   "source": [
    "In order to handle the multiple testing problem (increase in the probability of getting statistically significant associations), we will use the Bonferroni correction method. Although many other multiple-comparison corrections exist, Bonferroni is the most straightforward to use, because it doesn't require assumptions about variables correlation. Other PheWAS analysis also use False Discovery Rate controlling procedures ([see](https://en.wikipedia.org/wiki/False_discovery_rate))."
   ]
  },
  {
   "cell_type": "markdown",
   "metadata": {},
   "source": [
    "In a nutshell, Bonferonni allows to calculate a corrected \"statistical significant threshold\" according to the number of test performed. Every p-value below this threshold will be deemed statistically significant."
   ]
  },
  {
   "cell_type": "code",
   "execution_count": null,
   "metadata": {},
   "outputs": [],
   "source": [
    "results_df$adj_pvalues <- p.adjust(results_df$pval, method=\"holm\")"
   ]
  },
  {
   "cell_type": "code",
   "execution_count": null,
   "metadata": {},
   "outputs": [],
   "source": [
    "results_df$log_adj_pvalues <- -log10(results_df$adj_pvalues)"
   ]
  },
  {
   "cell_type": "code",
   "execution_count": null,
   "metadata": {},
   "outputs": [],
   "source": [
    "adjusted_alpha <- -log10(0.01)"
   ]
  },
  {
   "cell_type": "markdown",
   "metadata": {},
   "source": [
    "## 6. Result visualisations: Manhattan plot"
   ]
  },
  {
   "cell_type": "markdown",
   "metadata": {},
   "source": [
    "Manhattan plot is the classical way to plot the results of a PheWAS analysis. It plots every tested phenotypical variables on the X-axis, against their *-log(pvalue)* on the Y-axis. The horizontal line represents the adjusted significance level threshold."
   ]
  },
  {
   "cell_type": "markdown",
   "metadata": {},
   "source": [
    "#### Plotting the data"
   ]
  },
  {
   "cell_type": "code",
   "execution_count": null,
   "metadata": {},
   "outputs": [],
   "source": [
    "options(repr.plot.width=25, repr.plot.height=20)"
   ]
  },
  {
   "cell_type": "code",
   "execution_count": null,
   "metadata": {},
   "outputs": [],
   "source": [
    "library(ggplot2)"
   ]
  },
  {
   "cell_type": "code",
   "execution_count": null,
   "metadata": {},
   "outputs": [],
   "source": [
    "my_theme <- theme_bw() +\n",
    "theme(axis.title.y = element_text(face=\"italic\", size=15),\n",
    "      title = element_text(size=20),\n",
    "      axis.title.x = element_text(size=15),\n",
    "      axis.text.x = element_blank(),\n",
    "      #legend.position = \"none\",\n",
    "      panel.grid.major.x = element_blank()\n",
    "      )\n"
   ]
  },
  {
   "cell_type": "code",
   "execution_count": null,
   "metadata": {},
   "outputs": [],
   "source": [
    "# Manatthan plot using geom_jitter --> more suitable when number of point per category is enough\n",
    "ggplot(results_df, aes(x=simplified_varname, y=log_adj_pvalues)) +\n",
    "geom_jitter(alpha=1, aes_string(colour=\"vartype\"),\n",
    "           width=0.5,\n",
    "           size=3) +\n",
    "geom_hline(yintercept=adjusted_alpha, linetype=\"dashed\", color = 'red') +\n",
    "scale_y_continuous(expand = c(0, 20) ) +\n",
    "geom_text(aes(label = ifelse(log_adj_pvalues > adjusted_alpha, str_wrap(as.character(simplified_varname), 20),'')), hjust=.08, vjust=-0.08, size = 5) +\n",
    "labs(title=\"Association between phenotypic variables and COPD status\",\n",
    "    x=\"Phenotype\",\n",
    "    y=\"- log10(p-values)\",\n",
    "    colour=\"Variable type\") +\n",
    "my_theme\n",
    "\n"
   ]
  },
  {
   "cell_type": "markdown",
   "metadata": {},
   "source": [
    "Overall, it appears that most of the tested phenotypes covariates are above the adjusted threshold of significant association. However, it is not that surprising given the nature of our dependent variable: a lot of the collected phenotypic variables are correlated to the COPD status."
   ]
  },
  {
   "cell_type": "code",
   "execution_count": null,
   "metadata": {},
   "outputs": [],
   "source": []
  },
  {
   "cell_type": "code",
   "execution_count": null,
   "metadata": {},
   "outputs": [],
   "source": []
  },
  {
   "cell_type": "code",
   "execution_count": null,
   "metadata": {},
   "outputs": [],
   "source": []
  }
 ],
 "metadata": {
  "jupytext": {
   "formats": "ipynb,Rmd"
  },
  "kernelspec": {
   "display_name": "R",
   "language": "R",
   "name": "ir"
  },
  "language_info": {
   "codemirror_mode": "r",
   "file_extension": ".r",
   "mimetype": "text/x-r-source",
   "name": "R",
   "pygments_lexer": "r",
   "version": "4.1.1"
  }
 },
 "nbformat": 4,
 "nbformat_minor": 4
}
