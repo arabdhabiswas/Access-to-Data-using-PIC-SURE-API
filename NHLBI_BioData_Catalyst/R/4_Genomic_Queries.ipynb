{
 "cells": [
  {
   "cell_type": "markdown",
   "metadata": {},
   "source": [
    "# PIC-SURE API Use-Case: Querying on Genomic Variables"
   ]
  },
  {
   "cell_type": "markdown",
   "metadata": {},
   "source": [
    "This is a tutorial notebook, aimed to be quickly up and running with the R PIC-SURE API. It covers the main functionalities of the API."
   ]
  },
  {
   "cell_type": "markdown",
   "metadata": {},
   "source": [
    "## PIC-SURE R API \n",
    "### What is PIC-SURE? \n",
    "\n",
    "<!--img src=\"./img/PIC-SURE_logo.png\" width= \"360px\"> -->\n",
    "\n",
    "As part of the BioData Catalyst initiative, the Patient Information Commons Standard Unification of Research Elements (PIC-SURE) platform has been integrating clinical and genomic datasets from multiple TOPMed and TOPMed related studies funded by the National Heart Lung and Blood Institute (NHLBI). \n",
    "\n",
    "Original data exposed through PIC-SURE API encompass a large heterogeneity of data organization underneath. PIC-SURE hide this complexity and exposes the different studies dataset in a single tabular format. By easing the process of data extraction, it allows investigators to focus on the downstream analyses and facilitate reproducible sciences.\n",
    "\n",
    "Both phenotypic and genetic variables are accessible through the PIC-SURE API.\n",
    "\n",
    "### More about PIC-SURE\n",
    "The API is available in two different programming languages, python and R, enabling investigators to query the databases the same way using any of those languages.\n",
    "\n",
    "PIC-SURE is a larger project from which the R/python PIC-SURE API is only a brick. Among other things, PIC-SURE also offers a graphical user interface that allows researchers to explore variables across multiple studies, filter patient that match criteria, and create cohort from this interactive exploration.\n",
    "\n",
    "The R API is actively developed by the Avillach-Lab at Harvard Medical School.\n",
    "\n",
    "PIC-SURE API R Library GitHub repos:\n",
    "* https://github.com/hms-dbmi/pic-sure-r-adapter-hpds\n",
    "* https://github.com/hms-dbmi/pic-sure-r-client\n",
    "\n"
   ]
  },
  {
   "cell_type": "markdown",
   "metadata": {},
   "source": [
    " -------"
   ]
  },
  {
   "cell_type": "markdown",
   "metadata": {},
   "source": [
    "# Getting your own user-specific security token"
   ]
  },
  {
   "cell_type": "markdown",
   "metadata": {},
   "source": [
    "**Before running this notebook, please be sure to review the `get_your_token.ipynb` notebook. It contains explanation about how to get a security token, mandatory to access the databases.**"
   ]
  },
  {
   "cell_type": "markdown",
   "metadata": {},
   "source": [
    "# Environment set-up"
   ]
  },
  {
   "cell_type": "markdown",
   "metadata": {},
   "source": [
    "### Pre-requisite\n",
    "- R 3.4 or later"
   ]
  },
  {
   "cell_type": "markdown",
   "metadata": {},
   "source": [
    "### Packages installation"
   ]
  },
  {
   "cell_type": "code",
   "execution_count": 1,
   "metadata": {
    "scrolled": false
   },
   "outputs": [
    {
     "name": "stderr",
     "output_type": "stream",
     "text": [
      "Updating HTML index of packages in '.Library'\n",
      "Making 'packages.html' ... done\n",
      "also installing the dependencies ‘ini’, ‘desc’, ‘fs’, ‘gh’, ‘git2r’, ‘rematch2’, ‘rlang’\n",
      "\n",
      "Updating HTML index of packages in '.Library'\n",
      "Making 'packages.html' ... done\n",
      "also installing the dependencies ‘sys’, ‘askpass’\n",
      "\n",
      "Updating HTML index of packages in '.Library'\n",
      "Making 'packages.html' ... done\n"
     ]
    },
    {
     "name": "stdout",
     "output_type": "stream",
     "text": [
      "installing: \n",
      "-  ggplot2 \n",
      "-  dplyr \n",
      "-  tidyr \n",
      "-  urltools \n",
      "-  devtools \n",
      "-  ggrepel \n"
     ]
    },
    {
     "name": "stderr",
     "output_type": "stream",
     "text": [
      "also installing the dependency ‘triebeard’\n",
      "\n",
      "Updating HTML index of packages in '.Library'\n",
      "Making 'packages.html' ... done\n",
      "also installing the dependencies ‘xfun’, ‘knitr’, ‘evaluate’, ‘tinytex’, ‘rmarkdown’, ‘prettydoc’\n",
      "\n",
      "Updating HTML index of packages in '.Library'\n",
      "Making 'packages.html' ... done\n",
      "Warning message:\n",
      "“As of rlang 0.4.0, dplyr must be at least version 0.8.0.\n",
      "* dplyr 0.7.8 is too old for rlang 0.4.8.\n",
      "* Please update dplyr with `install.packages(\"dplyr\")` and restart R.”\n",
      "Attaching package: ‘dplyr’\n",
      "\n",
      "The following objects are masked from ‘package:stats’:\n",
      "\n",
      "    filter, lag\n",
      "\n",
      "The following objects are masked from ‘package:base’:\n",
      "\n",
      "    intersect, setdiff, setequal, union\n",
      "\n"
     ]
    }
   ],
   "source": [
    "source(\"R_lib/requirements.R\")"
   ]
  },
  {
   "cell_type": "markdown",
   "metadata": {},
   "source": [
    "#### Installing the latest PIC-SURE API library from GitHub"
   ]
  },
  {
   "cell_type": "markdown",
   "metadata": {},
   "source": [
    "Installation of the two components of the PIC-SURE API from GitHub, that is the PIC-SURE adapter and the PIC-SURE Client."
   ]
  },
  {
   "cell_type": "code",
   "execution_count": 2,
   "metadata": {},
   "outputs": [
    {
     "name": "stderr",
     "output_type": "stream",
     "text": [
      "Downloading GitHub repo hms-dbmi/pic-sure-r-client@master\n",
      "from URL https://api.github.com/repos/hms-dbmi/pic-sure-r-client/zipball/master\n",
      "Installing picsure\n",
      "Installing httr\n",
      "Installing curl\n",
      "'/opt/conda/lib/R/bin/R' --no-site-file --no-environ --no-save --no-restore  \\\n",
      "  --quiet CMD INSTALL '/tmp/RtmpkHu0Yb/devtools3a2e3e5675/curl'  \\\n",
      "  --library='/opt/conda/lib/R/library' --install-tests \n",
      "\n",
      "Installing jsonlite\n",
      "'/opt/conda/lib/R/bin/R' --no-site-file --no-environ --no-save --no-restore  \\\n",
      "  --quiet CMD INSTALL '/tmp/RtmpkHu0Yb/devtools3a30fda959/jsonlite'  \\\n",
      "  --library='/opt/conda/lib/R/library' --install-tests \n",
      "\n",
      "Installing mime\n",
      "'/opt/conda/lib/R/bin/R' --no-site-file --no-environ --no-save --no-restore  \\\n",
      "  --quiet CMD INSTALL '/tmp/RtmpkHu0Yb/devtools3a60913b94/mime'  \\\n",
      "  --library='/opt/conda/lib/R/library' --install-tests \n",
      "\n",
      "Installing R6\n",
      "'/opt/conda/lib/R/bin/R' --no-site-file --no-environ --no-save --no-restore  \\\n",
      "  --quiet CMD INSTALL '/tmp/RtmpkHu0Yb/devtools3a4f91875e/R6'  \\\n",
      "  --library='/opt/conda/lib/R/library' --install-tests \n",
      "\n",
      "'/opt/conda/lib/R/bin/R' --no-site-file --no-environ --no-save --no-restore  \\\n",
      "  --quiet CMD INSTALL '/tmp/RtmpkHu0Yb/devtools3ac400dbd/httr'  \\\n",
      "  --library='/opt/conda/lib/R/library' --install-tests \n",
      "\n",
      "Skipping install of 'jsonlite' from a cran remote, the SHA1 (1.7.1) has not changed since last install.\n",
      "  Use `force = TRUE` to force installation\n",
      "Skipping install of 'R6' from a cran remote, the SHA1 (2.4.1) has not changed since last install.\n",
      "  Use `force = TRUE` to force installation\n",
      "Installing stringr\n",
      "Installing glue\n",
      "'/opt/conda/lib/R/bin/R' --no-site-file --no-environ --no-save --no-restore  \\\n",
      "  --quiet CMD INSTALL '/tmp/RtmpkHu0Yb/devtools3ae3295f6/glue'  \\\n",
      "  --library='/opt/conda/lib/R/library' --install-tests \n",
      "\n",
      "Installing stringi\n",
      "'/opt/conda/lib/R/bin/R' --no-site-file --no-environ --no-save --no-restore  \\\n",
      "  --quiet CMD INSTALL '/tmp/RtmpkHu0Yb/devtools3a3aaea4c7/stringi'  \\\n",
      "  --library='/opt/conda/lib/R/library' --install-tests \n",
      "\n",
      "'/opt/conda/lib/R/bin/R' --no-site-file --no-environ --no-save --no-restore  \\\n",
      "  --quiet CMD INSTALL '/tmp/RtmpkHu0Yb/devtools3a5ed5ffd1/stringr'  \\\n",
      "  --library='/opt/conda/lib/R/library' --install-tests \n",
      "\n",
      "'/opt/conda/lib/R/bin/R' --no-site-file --no-environ --no-save --no-restore  \\\n",
      "  --quiet CMD INSTALL  \\\n",
      "  '/tmp/RtmpkHu0Yb/devtools3a4ffce9dc/hms-dbmi-pic-sure-r-client-65b80ba'  \\\n",
      "  --library='/opt/conda/lib/R/library' --install-tests \n",
      "\n",
      "Downloading GitHub repo hms-dbmi/pic-sure-r-adapter-hpds@master\n",
      "from URL https://api.github.com/repos/hms-dbmi/pic-sure-r-adapter-hpds/zipball/master\n",
      "Installing hpds\n",
      "Installing hash\n",
      "'/opt/conda/lib/R/bin/R' --no-site-file --no-environ --no-save --no-restore  \\\n",
      "  --quiet CMD INSTALL '/tmp/RtmpkHu0Yb/devtools3a16e8ba55/hash'  \\\n",
      "  --library='/opt/conda/lib/R/library' --install-tests \n",
      "\n",
      "'/opt/conda/lib/R/bin/R' --no-site-file --no-environ --no-save --no-restore  \\\n",
      "  --quiet CMD INSTALL  \\\n",
      "  '/tmp/RtmpkHu0Yb/devtools3a55ffa8ea/hms-dbmi-pic-sure-r-adapter-hpds-14766f9'  \\\n",
      "  --library='/opt/conda/lib/R/library' --install-tests \n",
      "\n"
     ]
    }
   ],
   "source": [
    "Sys.setenv(TAR = \"/bin/tar\")\n",
    "options(unzip = \"internal\")\n",
    "devtools::install_github(\"hms-dbmi/pic-sure-r-client\", force=T)\n",
    "devtools::install_github(\"hms-dbmi/pic-sure-r-adapter-hpds\", force=T)"
   ]
  },
  {
   "cell_type": "markdown",
   "metadata": {},
   "source": [
    "## Connecting to a PIC-SURE resource"
   ]
  },
  {
   "cell_type": "markdown",
   "metadata": {},
   "source": [
    "Several information are required to get access to data through the PIC-SURE API: a network URL, a resource id, and a user-specific security token."
   ]
  },
  {
   "cell_type": "code",
   "execution_count": 29,
   "metadata": {},
   "outputs": [],
   "source": [
    "PICSURE_network_URL <- \"https://picsure.biodatacatalyst.nhlbi.nih.gov/picsure\"\n",
    "resource_id <- \"02e23f52-f354-4e8b-992c-d37c8b9ba140\"\n",
    "token_file <- \"token.txt\""
   ]
  },
  {
   "cell_type": "code",
   "execution_count": 30,
   "metadata": {},
   "outputs": [],
   "source": [
    "token <- scan(token_file, what = \"character\")"
   ]
  },
  {
   "cell_type": "code",
   "execution_count": 31,
   "metadata": {},
   "outputs": [
    {
     "name": "stdout",
     "output_type": "stream",
     "text": [
      "[1] \"02e23f52-f354-4e8b-992c-d37c8b9ba140\"\n"
     ]
    }
   ],
   "source": [
    "connection <- picsure::connect(url = PICSURE_network_URL,\n",
    "                                 token = token)"
   ]
  },
  {
   "cell_type": "code",
   "execution_count": 32,
   "metadata": {},
   "outputs": [],
   "source": [
    "resource <- hpds::get.resource(connection,\n",
    "                               resourceUUID = resource_id)"
   ]
  },
  {
   "cell_type": "markdown",
   "metadata": {},
   "source": [
    "Two objects are created here: a `connection` and a `resource` object.\n",
    "\n",
    "As we will only be using one single resource, **the `resource` object is actually the only one we will need to proceed with data analysis hereafter**.\n",
    "\n",
    "It is connected to the specific data source ID we specified, and enables to query and retrieve data from this database."
   ]
  },
  {
   "cell_type": "markdown",
   "metadata": {},
   "source": [
    "## Building the Query with the PIC-SURE API"
   ]
  },
  {
   "cell_type": "markdown",
   "metadata": {},
   "source": [
    "We are going to create a new query request from the PIC-SURE resource that was specified above.  We will limit the query to a single study, a single gender and age range (phenotype), two genetic filters, and then run the query.  First we will create a new query instance."
   ]
  },
  {
   "cell_type": "code",
   "execution_count": 33,
   "metadata": {},
   "outputs": [],
   "source": [
    "my_query <- hpds::new.query(resource = resource)"
   ]
  },
  {
   "cell_type": "markdown",
   "metadata": {},
   "source": [
    "\n",
    "#### Limiting the Query to a Single Study"
   ]
  },
  {
   "cell_type": "markdown",
   "metadata": {},
   "source": [
    "By default new query objects are automatically populated with all the consent groups that you have access to.  For this example we are going to clear these and specify a single consent that represents accessing only the SAGE study."
   ]
  },
  {
   "cell_type": "code",
   "execution_count": 34,
   "metadata": {},
   "outputs": [
    {
     "data": {
      "text/plain": [
       "{\n",
       "    \"numericFilters\": [\n",
       "\n",
       "    ],\n",
       "    \"categoryFilters\": {\n",
       "        \"\\\\_Consents\\\\Short Study Accession with Consent Code\\\\\": [\n",
       "            \"phs001217.c1\",\n",
       "            \"phs001217.c0\",\n",
       "            \"phs001345.c1\",\n",
       "            \"phs000956.c2\",\n",
       "            \"phs000946.c1\",\n",
       "            \"phs001345.c0\",\n",
       "            \"phs001368.c3\",\n",
       "            \"phs001368.c2\",\n",
       "            \"phs000956.c0\",\n",
       "            \"phs001402.c1\",\n",
       "            \"phs001368.c1\",\n",
       "            \"phs001189.c1\",\n",
       "            \"phs001368.c0\",\n",
       "            \"phs001387.c0\",\n",
       "            \"phs001143.c1\",\n",
       "            \"phs001402.c0\",\n",
       "            \"phs001143.c0\",\n",
       "            \"phs000988.c1\",\n",
       "            \"phs000810.c2\",\n",
       "            \"phs001207.c1\",\n",
       "            \"phs001207.c0\",\n",
       "            \"phs000810.c1\",\n",
       "            \"phs000988.c0\",\n",
       "            \"phs001040.c1\",\n",
       "            \"phs000951.c2\",\n",
       "            \"phs000951.c1\",\n",
       "            \"phs000997.c1\",\n",
       "            \"phs001237.c0\",\n",
       "            \"phs001237.c1\",\n",
       "            \"phs001237.c2\",\n",
       "            \"phs000951.c0\",\n",
       "            \"phs000993.c1\",\n",
       "            \"phs000920.c2\",\n",
       "            \"phs000993.c2\",\n",
       "            \"phs000920.c0\",\n",
       "            \"phs001293.c1\",\n",
       "            \"phs001293.c2\",\n",
       "            \"phs001293.c0\",\n",
       "            \"phs000914.c0\",\n",
       "            \"phs000914.c1\",\n",
       "            \"phs000285.c2\",\n",
       "            \"phs000285.c1\",\n",
       "            \"phs001368.c4\",\n",
       "            \"phs001215.c0\",\n",
       "            \"phs001211.c0\",\n",
       "            \"phs000954.c0\",\n",
       "            \"phs001215.c1\",\n",
       "            \"phs000954.c1\",\n",
       "            \"phs000921.c2\",\n",
       "            \"phs001032.c1\",\n",
       "            \"phs000974.c0\",\n",
       "            \"phs000974.c1\",\n",
       "            \"phs001218.c0\",\n",
       "            \"phs000974.c2\",\n",
       "            \"phs001218.c2\",\n",
       "            \"phs001359.c0\",\n",
       "            \"phs001062.c1\",\n",
       "            \"phs000964.c3\",\n",
       "            \"phs000964.c4\",\n",
       "            \"phs001359.c1\",\n",
       "            \"phs001062.c2\",\n",
       "            \"phs001387.c3\",\n",
       "            \"phs000964.c0\",\n",
       "            \"phs000964.c1\",\n",
       "            \"phs000964.c2\",\n",
       "            \"phs001211.c2\",\n",
       "            \"phs001211.c1\",\n",
       "            \"phs001416.c1\",\n",
       "            \"phs001412.c2\",\n",
       "            \"phs001416.c0\",\n",
       "            \"phs001412.c1\",\n",
       "            \"phs001024.c1\",\n",
       "            \"phs001412.c0\",\n",
       "            \"phs001416.c2\"\n",
       "        ]\n",
       "    },\n",
       "    \"variantInfoFilters\": {\n",
       "        \"categoryVariantInfoFilters\": [\n",
       "\n",
       "        ],\n",
       "        \"numericVariantInfoFilters\": [\n",
       "\n",
       "        ]\n",
       "    }\n",
       "}\n",
       " "
      ]
     },
     "metadata": {},
     "output_type": "display_data"
    }
   ],
   "source": [
    "# Here we show all the studies that you have access to\n",
    "my_query$filter()$show()"
   ]
  },
  {
   "cell_type": "code",
   "execution_count": 35,
   "metadata": {},
   "outputs": [],
   "source": [
    "# Here we delete those accesses and add only a single study\n",
    "hpds::query.filter.delete(my_query, \"\\\\_Consents\\\\Short Study Accession with Consent Code\\\\\")\n",
    "hpds::query.filter.add(my_query, \"\\\\_Consents\\\\Short Study Accession with Consent Code\\\\\", c(\"phs000921.c2\"))"
   ]
  },
  {
   "cell_type": "code",
   "execution_count": 36,
   "metadata": {},
   "outputs": [
    {
     "data": {
      "text/plain": [
       "{\n",
       "    \"numericFilters\": [\n",
       "\n",
       "    ],\n",
       "    \"categoryFilters\": {\n",
       "        \"\\\\_Consents\\\\Short Study Accession with Consent Code\\\\\": [\n",
       "            \"phs000921.c2\"\n",
       "        ]\n",
       "    },\n",
       "    \"variantInfoFilters\": {\n",
       "        \"categoryVariantInfoFilters\": [\n",
       "\n",
       "        ],\n",
       "        \"numericVariantInfoFilters\": [\n",
       "\n",
       "        ]\n",
       "    }\n",
       "}\n",
       " "
      ]
     },
     "metadata": {},
     "output_type": "display_data"
    }
   ],
   "source": [
    "# Here we show that we have only selected a single study\n",
    "my_query$filter()$show()"
   ]
  },
  {
   "cell_type": "markdown",
   "metadata": {},
   "source": [
    "#### Add Phenotype Variable (GENDER) to the Query"
   ]
  },
  {
   "cell_type": "markdown",
   "metadata": {},
   "source": [
    "Once a connection to the desired resource has been established, it is helpful to get search for variables of interest to our search query. To this end, we will use the `hpds::find.in.dictionary` function to search for variables in the data dictionary."
   ]
  },
  {
   "cell_type": "code",
   "execution_count": 39,
   "metadata": {},
   "outputs": [],
   "source": [
    "found_terms <- hpds::find.in.dictionary(resource = resource, term = \"Sex of participant\")"
   ]
  },
  {
   "cell_type": "code",
   "execution_count": 47,
   "metadata": {},
   "outputs": [
    {
     "name": "stdout",
     "output_type": "stream",
     "text": [
      "$name\n",
      "[1] \"\\\\NHLBI TOPMed: Study of African Americans, Asthma, Genes and Environment (SAGE) Study\\\\Sex of participant\\\\\"\n",
      "\n",
      "$categoryValues\n",
      "[1] \"FEMALE\" \"MALE\"   \"NA\"    \n",
      "\n",
      "$categorical\n",
      "[1] TRUE\n",
      "\n",
      "$patientCount\n",
      "[1] 2106\n",
      "\n",
      "$observationCount\n",
      "[1] 2106\n",
      "\n",
      "$HpdsDataType\n",
      "[1] \"phenotypes\"\n",
      "\n"
     ]
    }
   ],
   "source": [
    "# View information about the \"Sex of participant\" variable for the \"(SAGE)\" study\n",
    "for (val in hpds::extract.entries(found_terms)) {\n",
    "    if (stringr::str_detect(val$name, \"(SAGE)\")) {\n",
    "        print(val)\n",
    "    }\n",
    "}"
   ]
  },
  {
   "cell_type": "markdown",
   "metadata": {},
   "source": [
    "Given the above dictionary entry shows that we can select \"FEMALE\", \"MALE\", or \"NA\" for gender.  For this example lets limit our search to females."
   ]
  },
  {
   "cell_type": "code",
   "execution_count": 49,
   "metadata": {},
   "outputs": [
    {
     "name": "stdout",
     "output_type": "stream",
     "text": [
      "[1] \"ERROR: cannot add, key already exists: \\\\NHLBI TOPMed: Study of African Americans, Asthma, Genes and Environment (SAGE) Study\\\\Sex of participant\\\\\"\n"
     ]
    }
   ],
   "source": [
    "hpds::query.filter.add(query = my_query, keys=\"\\\\NHLBI TOPMed: Study of African Americans, Asthma, Genes and Environment (SAGE) Study\\\\Sex of participant\\\\\", values='FEMALE')"
   ]
  },
  {
   "cell_type": "code",
   "execution_count": 50,
   "metadata": {},
   "outputs": [
    {
     "data": {
      "text/plain": [
       "{\n",
       "    \"numericFilters\": [\n",
       "\n",
       "    ],\n",
       "    \"categoryFilters\": {\n",
       "        \"\\\\_Consents\\\\Short Study Accession with Consent Code\\\\\": [\n",
       "            \"phs000921.c2\"\n",
       "        ],\n",
       "        \"\\\\NHLBI TOPMed: Study of African Americans, Asthma, Genes and Environment (SAGE) Study\\\\Sex of participant\\\\\": [\n",
       "            \"FEMALE\"\n",
       "        ]\n",
       "    },\n",
       "    \"variantInfoFilters\": {\n",
       "        \"categoryVariantInfoFilters\": [\n",
       "\n",
       "        ],\n",
       "        \"numericVariantInfoFilters\": [\n",
       "\n",
       "        ]\n",
       "    }\n",
       "}\n",
       " "
      ]
     },
     "metadata": {},
     "output_type": "display_data"
    }
   ],
   "source": [
    "my_query$filter()$show()"
   ]
  },
  {
   "cell_type": "markdown",
   "metadata": {},
   "source": [
    "## Using the *variables dictionnary*"
   ]
  },
  {
   "cell_type": "markdown",
   "metadata": {},
   "source": [
    "Once a connection to the desired resource has been established, we first need to get a knowledge of which variables are available in the database. To this end, we will use the `find.in.dictionary` function."
   ]
  },
  {
   "cell_type": "markdown",
   "metadata": {},
   "source": [
    "For instance, looking for variables containing the term `COPD` in thein names is done this way:"
   ]
  },
  {
   "cell_type": "code",
   "execution_count": null,
   "metadata": {},
   "outputs": [],
   "source": [
    "dictionary_search <- hpds::find.in.dictionary(resource, \"COPD\")"
   ]
  },
  {
   "cell_type": "markdown",
   "metadata": {},
   "source": [
    "Four different functions can be used to retrieve results from a dictionary search: `extract.count()`, `extract.keys()`, `extract.entries()`, and `extract.dataframe()`."
   ]
  },
  {
   "cell_type": "code",
   "execution_count": null,
   "metadata": {
    "jupyter": {
     "outputs_hidden": true
    }
   },
   "outputs": [],
   "source": [
    "print(list(\"Count\"   = hpds::extract.count(dictionary_search),\n",
    "           \"Keys\"    = hpds::extract.keys(dictionary_search)[1:3],\n",
    "           \"Entries\" = hpds::extract.entries(dictionary_search)[1:3]))"
   ]
  },
  {
   "cell_type": "code",
   "execution_count": null,
   "metadata": {},
   "outputs": [],
   "source": [
    "df_dictionary_copd <- hpds::extract.dataframe(dictionary_search)"
   ]
  },
  {
   "cell_type": "markdown",
   "metadata": {
    "jupyter": {
     "source_hidden": true
    }
   },
   "source": [
    "**`hpds::extract.dataframe()` enables to get the result of the dictionary search in a data.frame format. This way, it enables to:**\n",
    "\n",
    "* Use the various criteria exposed in the dictionary (patientCount, variable type ...) as criteria for variable selection.\n",
    "* Use the row names of the DataFrame to get the actual variables names, to be used in the query, as shown below.\n",
    "\n",
    "Variable names, as currently implemented in the API, aren't handy to use right away.\n",
    "1. Very long\n",
    "2. Presence of backslashes that requires modification right after copy-pasting.\n",
    "\n",
    "However, using the dictionary to select variables can help to deal with this. Let's say we want to retrieve every variable from the COPDGene study. Hence, one way to proceed is to retrieve the whole dictionary for those variables in the form of a data.frame, as below:"
   ]
  },
  {
   "cell_type": "code",
   "execution_count": null,
   "metadata": {},
   "outputs": [],
   "source": [
    "plain_variablesDict <- hpds::find.in.dictionary(resource, \"COPDGene\") %>% hpds::extract.dataframe()"
   ]
  },
  {
   "cell_type": "markdown",
   "metadata": {},
   "source": [
    "Moreover, using the `hpds::find.in.dictionary` function without arguments return every entries, as shown in the help documentation. *As for now, this takes a long time in the R PIC-SURE API implementation, and will be fixed in later version of the API*"
   ]
  },
  {
   "cell_type": "code",
   "execution_count": null,
   "metadata": {
    "jupyter": {
     "outputs_hidden": true
    }
   },
   "outputs": [],
   "source": [
    "plain_variablesDict[10:20,]"
   ]
  },
  {
   "cell_type": "markdown",
   "metadata": {},
   "source": [
    "The dictionary currently returned by the API provides information about the variables, such as:\n",
    "- observationCount: number of entries with non-null value\n",
    "- categorical: type of the variables, True if strings, False if numerical\n",
    "- min/max: only provided for numerical variables\n",
    "- HpdsDataType: 'phenotypes' or 'genotypes'. Currently, the API only expsoses'phenotypes' variables"
   ]
  },
  {
   "cell_type": "markdown",
   "metadata": {},
   "source": [
    "### Parsing variable names"
   ]
  },
  {
   "cell_type": "markdown",
   "metadata": {},
   "source": [
    "Though helpful, we can use a simple function, `get_multiIndex_variablesDict`, defined in `R_lib/utils.R` to add a little more information to the variable dictionary and to simplify working with variables names.\n",
    "\n",
    "Although not an official feature of the API, such functionality illustrates how to quickly select groups of related variables.\n",
    "\n",
    "Printing part of the \"parsed names\" Dictionary allows to quickly see the tree-like organisation of the variable names. Moreover, original and simplified variable names are now stored respectively in the \"varName\" and \"simplified_varName\" columns (simplified variable names is simply the last component of the variable name, that is usually the most informative to know what each variable is about)."
   ]
  },
  {
   "cell_type": "code",
   "execution_count": null,
   "metadata": {},
   "outputs": [],
   "source": [
    "# Display the variables tree hierarchy from the variables name\n",
    "variablesDict <- get_multiIndex_variablesDict(plain_variablesDict)\n",
    "head(variablesDict)"
   ]
  },
  {
   "cell_type": "markdown",
   "metadata": {},
   "source": [
    "Below is a simple example to illustrate the simplicity of use a parsed dictionary. Let's say we are interested in every variables pertaining to the \"Medical history\" and \"Medication history\" subcategories."
   ]
  },
  {
   "cell_type": "code",
   "execution_count": null,
   "metadata": {
    "jupyter": {
     "outputs_hidden": true
    }
   },
   "outputs": [],
   "source": [
    "mask_medication <- variablesDict[,3] == \"Medication History\"\n",
    "mask_medical <- variablesDict[,3] == \"Medical History\"\n",
    "medication_history_variables <- variablesDict[mask_medical | mask_medication,]\n",
    "medication_history_variables"
   ]
  },
  {
   "cell_type": "markdown",
   "metadata": {},
   "source": [
    "Although pretty simple, it can be easily combined with other filters to quickly select desired group of variables."
   ]
  },
  {
   "cell_type": "markdown",
   "metadata": {},
   "source": [
    "## Selecting consent groups"
   ]
  },
  {
   "cell_type": "markdown",
   "metadata": {},
   "source": [
    "It can be helpful to limit query count responses to those patients who have provided specific study consents. This filtering is set on the resource object and will be automatically applied to queries run against the resource.  To see the list of currently active consent filters, use `hpds::show.consent.filters(resource)`  to set the value to use for the consent filters, use `hpds::set.consent.filters(resource, c('group1', 'group2', 'group3'))` the new consent filters will be applied to any new queries that are created."
   ]
  },
  {
   "cell_type": "code",
   "execution_count": null,
   "metadata": {},
   "outputs": [],
   "source": [
    "hpds::show.consent.filters(resource)"
   ]
  },
  {
   "cell_type": "code",
   "execution_count": null,
   "metadata": {},
   "outputs": [],
   "source": [
    "hpds::set.consent.filters(resource, c('phs001001.c1', 'phs001001.c2', 'phs000289.c0', 'phs000820.c1'))"
   ]
  },
  {
   "cell_type": "markdown",
   "metadata": {},
   "source": [
    "## Querying and retrieving data"
   ]
  },
  {
   "cell_type": "markdown",
   "metadata": {},
   "source": [
    "Beside from the dictionary, the second cornerstone of the API are the `query` functions (`hpds::query.anyof`, `hpds::query.select`, `hpds::query.filter`, `hpds::query.require`). They are the entering point to retrieve data from the resource."
   ]
  },
  {
   "cell_type": "markdown",
   "metadata": {},
   "source": [
    "First, we need to create a query object."
   ]
  },
  {
   "cell_type": "code",
   "execution_count": null,
   "metadata": {},
   "outputs": [],
   "source": [
    "my_query <- hpds::new.query(resource = resource)"
   ]
  },
  {
   "cell_type": "markdown",
   "metadata": {},
   "source": [
    "The query object created will be then be passed to the different query functions to build the query: `hpds::query.anyof`, `hpds::query.select`, `hpds::query.filter`, `hpds::query.require`. Each of these methods accept a query object, a list of variable names, and eventual additional parameters as arguments."
   ]
  },
  {
   "cell_type": "markdown",
   "metadata": {},
   "source": [
    "- The `query.select.add()` method accepts variable names as string or list of strings as argument, and will allow the query to return all variables included in the list, without any record (ie subjects/rows) subsetting."
   ]
  },
  {
   "cell_type": "markdown",
   "metadata": {},
   "source": [
    "- The `query.require.add()` method accepts variable names as string or list of strings as argument, and will allow the query to return all the variables passed, and only records that do not contain any null values for those variables."
   ]
  },
  {
   "cell_type": "markdown",
   "metadata": {},
   "source": [
    "- The `query.anyof.add()` method accepts variable names as string or list of strings as argument, and will allow the query to return all variables included in the list, and only records that do contain at least one non-null value for those variables."
   ]
  },
  {
   "cell_type": "markdown",
   "metadata": {},
   "source": [
    "- The `query.filter.add()` method accepts variable name as argument, plus additional values to filter on that given variable. The query will return this variable and only the records that do match this filter criteria."
   ]
  },
  {
   "cell_type": "markdown",
   "metadata": {},
   "source": [
    "All those 4 methods can be combined when building a query. The record eventually returned by the query have to meet all the different specified filters."
   ]
  },
  {
   "cell_type": "markdown",
   "metadata": {},
   "source": [
    "#### Building the query"
   ]
  },
  {
   "cell_type": "code",
   "execution_count": null,
   "metadata": {},
   "outputs": [],
   "source": [
    "mask <- variablesDict[\"simplified_name\"] == \"How old were you when you completely stopped smoking? [Years old]\"\n",
    "yo_stop_smoking_varname <- variablesDict[mask, \"name\"] %>%unlist() %>% unname()"
   ]
  },
  {
   "cell_type": "code",
   "execution_count": null,
   "metadata": {},
   "outputs": [],
   "source": [
    "mask_cat <- plain_variablesDict[\"categorical\"] == TRUE\n",
    "mask_count <- plain_variablesDict[\"observationCount\"] > 4000\n",
    "selected_vars <- plain_variablesDict[mask_cat & mask_count, \"name\"] %>% as.list()"
   ]
  },
  {
   "cell_type": "code",
   "execution_count": null,
   "metadata": {},
   "outputs": [],
   "source": [
    "hpds::query.filter.add(query = my_query,\n",
    "                      keys = yo_stop_smoking_varname,\n",
    "                      min=20,\n",
    "                      max=70)\n",
    "hpds::query.select.add(query = my_query,\n",
    "                      keys = selected_vars[1:50])"
   ]
  },
  {
   "cell_type": "markdown",
   "metadata": {},
   "source": [
    "## Retrieving the data"
   ]
  },
  {
   "cell_type": "markdown",
   "metadata": {},
   "source": [
    "Once our query object is finally built, we use the `query.run` function to retrieve the data corresponding to our query"
   ]
  },
  {
   "cell_type": "code",
   "execution_count": null,
   "metadata": {},
   "outputs": [],
   "source": [
    "my_df <- hpds::query.run(my_query, result.type = \"dataframe\")"
   ]
  },
  {
   "cell_type": "code",
   "execution_count": null,
   "metadata": {},
   "outputs": [],
   "source": [
    "dim(my_df)"
   ]
  },
  {
   "cell_type": "code",
   "execution_count": null,
   "metadata": {},
   "outputs": [],
   "source": [
    "head(my_df)"
   ]
  },
  {
   "cell_type": "markdown",
   "metadata": {},
   "source": [
    "From this point, we can proceed with the data management and analysis using any other R function or libraries."
   ]
  },
  {
   "cell_type": "code",
   "execution_count": null,
   "metadata": {},
   "outputs": [],
   "source": [
    "my_df <- hpds::query.run(my_query, result.type = \"dataframe\")"
   ]
  },
  {
   "cell_type": "code",
   "execution_count": null,
   "metadata": {},
   "outputs": [],
   "source": [
    "dim(my_df)"
   ]
  },
  {
   "cell_type": "code",
   "execution_count": null,
   "metadata": {},
   "outputs": [],
   "source": [
    "head(my_df)"
   ]
  },
  {
   "cell_type": "code",
   "execution_count": null,
   "metadata": {},
   "outputs": [],
   "source": []
  }
 ],
 "metadata": {
  "jupytext": {
   "formats": "ipynb,Rmd"
  },
  "kernelspec": {
   "display_name": "R",
   "language": "R",
   "name": "ir"
  },
  "language_info": {
   "codemirror_mode": "r",
   "file_extension": ".r",
   "mimetype": "text/x-r-source",
   "name": "R",
   "pygments_lexer": "r",
   "version": "3.4.1"
  }
 },
 "nbformat": 4,
 "nbformat_minor": 4
}
