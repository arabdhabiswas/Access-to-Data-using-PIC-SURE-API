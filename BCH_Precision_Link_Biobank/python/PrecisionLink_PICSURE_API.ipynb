{
 "cells": [
  {
   "cell_type": "markdown",
   "metadata": {},
   "source": [
    "# PIC-SURE API for PrecisionLink Biobank"
   ]
  },
  {
   "cell_type": "markdown",
   "metadata": {},
   "source": [
    "The PrecisionLink Biobank is a Boston Children’s Hospital institutional resource that\n",
    "provides a centralized source of prospectively consented participants. To date, the\n",
    "Biobank has enrolled over 2.8 million patients and families, who have contributed health\n",
    "data and biological samples for broad research use. Investigators are able to search the\n",
    "holdings of the Biobank using the [PrecisionLink Biobank Portal](http://biobank.childrens.harvard.edu/).\n",
    "\n",
    "The PrecisionLink Biobank Portal grants investigators access to genotype,\n",
    "biospecimen, and clinical data - including clinical notes - from one search tool.\n",
    "Furthermore, investigators are able to conduct multi-stage queries with any combination\n",
    "of data criteria.\n",
    "\n",
    "The Biobank is constantly growing through prospective enrollment of a broadly\n",
    "consented cohort of patients and families, who can be re-contacted for additional\n",
    "research opportunities."
   ]
  },
  {
   "cell_type": "markdown",
   "metadata": {},
   "source": [
    "## PIC-SURE python API\n",
    "### What is PIC-SURE?\n",
    "\n",
    "The Patient Information Commons Standard Unification of Research Elements (PIC-SURE) platform integrates clinical and genomic data from the PrecisionLink Biobank.\n",
    "\n",
    "Original data exposed through the PIC-SURE API encompasses a large heterogeneity of data organization underneath. PIC-SURE hides this complexity and exposes the different study datasets in a single tabular format. By simplifying the process of data extraction, it allows investigators to focus on downstream analysis and to facilitate reproducible science.\n",
    "\n",
    "More about PIC-SURE\n",
    "The API is available in two different programming languages, python and R, enabling investigators to query the databases the same way using either language.\n",
    "\n",
    "PIC-SURE is a larger project from which the R/python PIC-SURE API is only a brick. Among other things, PIC-SURE also offers a graphical user interface that allows researchers to explore variables across multiple studies, filter patients that match criteria, and create cohorts from this interactive exploration.\n",
    "\n",
    "The python API is actively developed by the Avillach Lab at Harvard Medical School.\n",
    "\n",
    "PIC-SURE API GitHub repo:\n",
    "\n",
    "https://github.com/hms-dbmi/Access-to-Data-using-PIC-SURE-API/tree/master\n"
   ]
  },
  {
   "cell_type": "markdown",
   "metadata": {},
   "source": [
    " -------   "
   ]
  },
  {
   "cell_type": "markdown",
   "metadata": {},
   "source": [
    "# Getting your own user-specific security token"
   ]
  },
  {
   "cell_type": "markdown",
   "metadata": {},
   "source": [
    "**Before running this notebook, please be sure to review the \"Get your security token\" documentation, which exists in the BCH_Precision_Link [README.md file](https://github.com/hms-dbmi/Access-to-Data-using-PIC-SURE-API/tree/master). It explains about how to get a security token, which is mandatory to access the databases.**"
   ]
  },
  {
   "cell_type": "markdown",
   "metadata": {},
   "source": [
    "# Environment set-up"
   ]
  },
  {
   "cell_type": "markdown",
   "metadata": {},
   "source": [
    "### Pre-requisites\n",
    "- python 3.6 or later\n",
    "- pip python package manager, already available in most systems with a python interpreter installed ([pip installation instructions](https://pip.pypa.io/en/stable/installing/))"
   ]
  },
  {
   "cell_type": "markdown",
   "metadata": {},
   "source": [
    "### Install Packages\n",
    "\n",
    "Install the following:\n",
    "- packages listed in the `requirements.txt` file (listed below, along with version numbers)\n",
    "- PIC-SURE API components (from Github)\n",
    "    - PIC-SURE Adapter \n",
    "    - PIC-SURE Client"
   ]
  },
  {
   "cell_type": "code",
   "execution_count": 1,
   "metadata": {
    "tags": []
   },
   "outputs": [
    {
     "name": "stdout",
     "output_type": "stream",
     "text": [
      "numpy>=1.16.4\r\n",
      "matplotlib>=3.1.1\r\n",
      "pandas>=0.25.3\r\n",
      "scipy>=1.3.1\r\n",
      "tqdm>=4.38.0\r\n",
      "statsmodels>=0.10.2\r\n"
     ]
    }
   ],
   "source": [
    "!cat requirements.txt"
   ]
  },
  {
   "cell_type": "code",
   "execution_count": 2,
   "metadata": {
    "tags": []
   },
   "outputs": [
    {
     "name": "stdout",
     "output_type": "stream",
     "text": [
      "Requirement already satisfied: numpy>=1.16.4 in /Applications/anaconda3/lib/python3.7/site-packages (from -r requirements.txt (line 1)) (1.21.0)\n",
      "Requirement already satisfied: matplotlib>=3.1.1 in /Applications/anaconda3/lib/python3.7/site-packages (from -r requirements.txt (line 2)) (3.4.2)\n",
      "Requirement already satisfied: pandas>=0.25.3 in /Applications/anaconda3/lib/python3.7/site-packages (from -r requirements.txt (line 3)) (1.2.5)\n",
      "Requirement already satisfied: scipy>=1.3.1 in /Applications/anaconda3/lib/python3.7/site-packages (from -r requirements.txt (line 4)) (1.7.0)\n",
      "Requirement already satisfied: tqdm>=4.38.0 in /Applications/anaconda3/lib/python3.7/site-packages (from -r requirements.txt (line 5)) (4.61.1)\n",
      "Requirement already satisfied: statsmodels>=0.10.2 in /Applications/anaconda3/lib/python3.7/site-packages (from -r requirements.txt (line 6)) (0.12.2)\n",
      "Requirement already satisfied: cycler>=0.10 in /Applications/anaconda3/lib/python3.7/site-packages (from matplotlib>=3.1.1->-r requirements.txt (line 2)) (0.10.0)\n",
      "Requirement already satisfied: pyparsing>=2.2.1 in /Applications/anaconda3/lib/python3.7/site-packages (from matplotlib>=3.1.1->-r requirements.txt (line 2)) (2.4.7)\n",
      "Requirement already satisfied: python-dateutil>=2.7 in /Applications/anaconda3/lib/python3.7/site-packages (from matplotlib>=3.1.1->-r requirements.txt (line 2)) (2.8.0)\n",
      "Requirement already satisfied: kiwisolver>=1.0.1 in /Applications/anaconda3/lib/python3.7/site-packages (from matplotlib>=3.1.1->-r requirements.txt (line 2)) (1.0.1)\n",
      "Requirement already satisfied: pillow>=6.2.0 in /Applications/anaconda3/lib/python3.7/site-packages (from matplotlib>=3.1.1->-r requirements.txt (line 2)) (8.2.0)\n",
      "Requirement already satisfied: pytz>=2017.3 in /Applications/anaconda3/lib/python3.7/site-packages (from pandas>=0.25.3->-r requirements.txt (line 3)) (2018.9)\n",
      "Requirement already satisfied: patsy>=0.5 in /Applications/anaconda3/lib/python3.7/site-packages (from statsmodels>=0.10.2->-r requirements.txt (line 6)) (0.5.1)\n",
      "Requirement already satisfied: six in /Applications/anaconda3/lib/python3.7/site-packages (from cycler>=0.10->matplotlib>=3.1.1->-r requirements.txt (line 2)) (1.12.0)\n",
      "Requirement already satisfied: setuptools in /Applications/anaconda3/lib/python3.7/site-packages (from kiwisolver>=1.0.1->matplotlib>=3.1.1->-r requirements.txt (line 2)) (40.8.0)\n"
     ]
    }
   ],
   "source": [
    "import sys\n",
    "!{sys.executable} -m pip install -r requirements.txt"
   ]
  },
  {
   "cell_type": "code",
   "execution_count": 3,
   "metadata": {
    "tags": []
   },
   "outputs": [
    {
     "name": "stdout",
     "output_type": "stream",
     "text": [
      "Collecting git+https://github.com/hms-dbmi/pic-sure-python-adapter-hpds.git\n",
      "  Cloning https://github.com/hms-dbmi/pic-sure-python-adapter-hpds.git to /private/var/folders/md/n67s7ghd64nb9_qdkx6l_7zw0000gn/T/pip-req-build-y5o5zh1b\n",
      "Collecting httplib2 (from PicSureHpdsLib==0.9.0)\n",
      "  Using cached https://files.pythonhosted.org/packages/15/dc/d14bce03f4bfd0214b90a3f556d7c96f75bb94ad597c816a641b962f22e9/httplib2-0.19.1-py3-none-any.whl\n",
      "Collecting pyparsing<3,>=2.4.2 (from httplib2->PicSureHpdsLib==0.9.0)\n",
      "  Using cached https://files.pythonhosted.org/packages/8a/bb/488841f56197b13700afd5658fc279a2025a39e22449b7cf29864669b15d/pyparsing-2.4.7-py2.py3-none-any.whl\n",
      "Building wheels for collected packages: PicSureHpdsLib\n",
      "  Building wheel for PicSureHpdsLib (setup.py) ... \u001b[?25ldone\n",
      "\u001b[?25h  Stored in directory: /private/var/folders/md/n67s7ghd64nb9_qdkx6l_7zw0000gn/T/pip-ephem-wheel-cache-nmcg_1g5/wheels/6c/ac/12/4d142709d83e0bdd96c661e183f2dcbb0e03f90e98e5ac256e\n",
      "Successfully built PicSureHpdsLib\n",
      "Installing collected packages: pyparsing, httplib2, PicSureHpdsLib\n",
      "  Found existing installation: pyparsing 2.4.7\n",
      "    Uninstalling pyparsing-2.4.7:\n",
      "      Successfully uninstalled pyparsing-2.4.7\n",
      "  Found existing installation: httplib2 0.19.1\n",
      "    Uninstalling httplib2-0.19.1:\n",
      "      Successfully uninstalled httplib2-0.19.1\n",
      "  Found existing installation: PicSureHpdsLib 0.9.0\n",
      "    Uninstalling PicSureHpdsLib-0.9.0:\n",
      "      Successfully uninstalled PicSureHpdsLib-0.9.0\n",
      "Successfully installed PicSureHpdsLib-0.9.0 httplib2-0.19.1 pyparsing-2.4.7\n",
      "Collecting git+https://github.com/hms-dbmi/pic-sure-python-client.git\n",
      "  Cloning https://github.com/hms-dbmi/pic-sure-python-client.git to /private/var/folders/md/n67s7ghd64nb9_qdkx6l_7zw0000gn/T/pip-req-build-dz0bpxkc\n",
      "Building wheels for collected packages: PicSureClient\n",
      "  Building wheel for PicSureClient (setup.py) ... \u001b[?25ldone\n",
      "\u001b[?25h  Stored in directory: /private/var/folders/md/n67s7ghd64nb9_qdkx6l_7zw0000gn/T/pip-ephem-wheel-cache-el5ewlfx/wheels/b4/c1/d9/744d4e1c1ba5f0c5d847deba1a7c8f96f47d4b36c610dda114\n",
      "Successfully built PicSureClient\n",
      "Installing collected packages: PicSureClient\n",
      "  Found existing installation: PicSureClient 0.1.0\n",
      "    Uninstalling PicSureClient-0.1.0:\n",
      "      Successfully uninstalled PicSureClient-0.1.0\n",
      "Successfully installed PicSureClient-0.1.0\n"
     ]
    }
   ],
   "source": [
    "!{sys.executable} -m pip install --upgrade --force-reinstall git+https://github.com/hms-dbmi/pic-sure-python-adapter-hpds.git\n",
    "!{sys.executable} -m pip install --upgrade --force-reinstall git+https://github.com/hms-dbmi/pic-sure-python-client.git"
   ]
  },
  {
   "cell_type": "markdown",
   "metadata": {},
   "source": [
    "Import all the external dependencies"
   ]
  },
  {
   "cell_type": "code",
   "execution_count": 4,
   "metadata": {},
   "outputs": [],
   "source": [
    "import json\n",
    "from pprint import pprint\n",
    "\n",
    "import pandas as pd\n",
    "import numpy as np \n",
    "import matplotlib.pyplot as plt\n",
    "from scipy import stats\n",
    "import seaborn as sns\n",
    "\n",
    "import PicSureHpdsLib\n",
    "import PicSureClient\n",
    "\n",
    "from python_lib.utils import get_multiIndex_variablesDict, joining_variablesDict_onCol"
   ]
  },
  {
   "cell_type": "markdown",
   "metadata": {},
   "source": [
    "Set the display parameter for tables and plots"
   ]
  },
  {
   "cell_type": "code",
   "execution_count": 5,
   "metadata": {},
   "outputs": [],
   "source": [
    "# Pandas DataFrame display options\n",
    "pd.set_option(\"max.rows\", 100)\n",
    "\n",
    "# Matplotlib display parameters\n",
    "plt.rcParams[\"figure.figsize\"] = (14,8)\n",
    "font = {'weight' : 'bold',\n",
    "        'size'   : 12}\n",
    "plt.rc('font', **font)"
   ]
  },
  {
   "cell_type": "markdown",
   "metadata": {},
   "source": [
    "## Connecting to a PIC-SURE resource"
   ]
  },
  {
   "cell_type": "markdown",
   "metadata": {},
   "source": [
    "The following is required to get access to data through the PIC-SURE API: \n",
    "- Network URL\n",
    "- Resource ID\n",
    "- User-specific security token"
   ]
  },
  {
   "cell_type": "markdown",
   "metadata": {},
   "source": [
    "If you have not already retrieved your user-specific token, please refer to the \"Get your security token\" section of the [README.md](https://github.com/hms-dbmi/Access-to-Data-using-PIC-SURE-API/tree/master/NHLBI_BioData_Catalyst#get-your-security-token) file."
   ]
  },
  {
   "cell_type": "markdown",
   "metadata": {},
   "source": [
    "***Note: You will not be able to connect to the PrecisionLink PIC-SURE resource if you are not on the Boston Children's Hospital network. Please ensure that you are connected to the BCH network via one of these options:***\n",
    "- ***TCH or BCH-R wireless options***\n",
    "- ***the web or full Virtual Private Network (VPN)***"
   ]
  },
  {
   "cell_type": "code",
   "execution_count": 6,
   "metadata": {},
   "outputs": [],
   "source": [
    "PICSURE_network_URL = \"https://pl-portal.childrens.harvard.edu/picsure/\"\n",
    "resource_id = \"6aa47730-3288-4c45-bfa1-5a8730666016\"\n",
    "token_file = \"token.txt\""
   ]
  },
  {
   "cell_type": "code",
   "execution_count": 7,
   "metadata": {},
   "outputs": [],
   "source": [
    "with open(token_file, \"r\") as f:\n",
    "    my_token = f.read()"
   ]
  },
  {
   "cell_type": "code",
   "execution_count": 8,
   "metadata": {},
   "outputs": [
    {
     "name": "stdout",
     "output_type": "stream",
     "text": [
      "\u001b[38;5;91;40m\n",
      "\n",
      "+=========================================================================================+\n",
      "|        [ WARNING ] you are specifying that you WANT to allow self-signed SSL            |\n",
      "|        certificates to be acceptable for connections.  This may be useful for           |\n",
      "|        working in a development environment or on systems that host public              |\n",
      "|        data.  BEST SECURITY PRACTICES ARE THAT IF YOU ARE WORKING WITH SENSITIVE        |\n",
      "|        DATA THEN ALL SSL CERTS BY THOSE EVIRONMENTS SHOULD NOT BE SELF-SIGNED.          |\n",
      "+=========================================================================================+\n",
      "\u001b[39;49m\n",
      "+--------------------------------------+------------------------------------------------------+\n",
      "|  Resource UUID                       |  Resource Name                                       |\n",
      "+--------------------------------------+------------------------------------------------------+\n",
      "| 6aa47730-3288-4c45-bfa1-5a8730666016 | hpds                                                 |\n",
      "+--------------------------------------+------------------------------------------------------+\n"
     ]
    }
   ],
   "source": [
    "client = PicSureClient.Client()\n",
    "connection = client.connect(PICSURE_network_URL, my_token, True)\n",
    "adapter = PicSureHpdsLib.Adapter(connection)\n",
    "resource = adapter.useResource(resource_id)"
   ]
  },
  {
   "cell_type": "markdown",
   "metadata": {},
   "source": [
    "Two objects are created here: a `connection` and a `resource` object.\n",
    "\n",
    "Since will only be using a single resource, **the `resource` object is actually the only one we will need to proceed with data analysis hereafter**. \n",
    "\n",
    "It is connected to the specific data source ID we specified and enables us to query and retrieve data from this database."
   ]
  },
  {
   "cell_type": "markdown",
   "metadata": {},
   "source": [
    "## Getting help with the PIC-SURE API"
   ]
  },
  {
   "cell_type": "markdown",
   "metadata": {},
   "source": [
    "Each object exposed by the PicSureHpds library has a `help()` method. Calling it without parameters will print out  information about functionalities of this object."
   ]
  },
  {
   "cell_type": "code",
   "execution_count": 9,
   "metadata": {},
   "outputs": [
    {
     "name": "stdout",
     "output_type": "stream",
     "text": [
      "\n",
      "        [HELP] PicSureHpdsLib.useResource(resource_uuid)\n",
      "            .dictionary()       Used to access data dictionary of the resource\n",
      "            .query()            Used to query against data in the resource\n",
      "            .retrieveQueryResults(query_uuid) returns the results of an asynchronous query that has already been submitted to PICSURE\n",
      "\n",
      "        [ENVIRONMENT]\n",
      "              Endpoint URL: https://pl-portal.childrens.harvard.edu/picsure/\n",
      "             Resource UUID: 6aa47730-3288-4c45-bfa1-5a8730666016\n"
     ]
    }
   ],
   "source": [
    "resource.help()"
   ]
  },
  {
   "cell_type": "markdown",
   "metadata": {},
   "source": [
    "For instance, this output tells us that this `resource` object has 3 methods, and it gives a quick definition of those methods. "
   ]
  },
  {
   "cell_type": "markdown",
   "metadata": {},
   "source": [
    "## Using the *variables dictionary*"
   ]
  },
  {
   "cell_type": "markdown",
   "metadata": {},
   "source": [
    "Once a connection to the desired resource has been established, we first need to understand which variables are available in the database. To this end, we will use the `dictionary` method of the `resource` object."
   ]
  },
  {
   "cell_type": "markdown",
   "metadata": {},
   "source": [
    "A `dictionary` instance enables us to retrieve matching records by searching for a specific term, or to retrieve information about all the available variables, using the `find()` method. For instance, looking for variables containing the term `Calcium` in their names is done this way: "
   ]
  },
  {
   "cell_type": "code",
   "execution_count": 10,
   "metadata": {},
   "outputs": [],
   "source": [
    "dictionary = resource.dictionary()\n",
    "dictionary_search = dictionary.find(\"Calcium\")"
   ]
  },
  {
   "cell_type": "markdown",
   "metadata": {},
   "source": [
    "Note: Using the `dictionary.find()` function without arguments will return every entry, as shown in the help documentation.\n",
    "We included the term \"Calcium\" as we are only interested in entries related to calcium.\n",
    "\n",
    "Subsequently, objects created by the `dictionary.find` method expose the search results via 4 different methods: `.count()`, `.keys()`, `.entries()`, and `.DataFrame()`."
   ]
  },
  {
   "cell_type": "code",
   "execution_count": 11,
   "metadata": {
    "tags": []
   },
   "outputs": [
    {
     "name": "stdout",
     "output_type": "stream",
     "text": [
      "{'Count': 90,\n",
      " 'Entries': [{'HpdsDataType': 'phenotypes',\n",
      "              'categorical': True,\n",
      "              'categoryValues': ['Admitting',\n",
      "                                 'Billing Diagnosis',\n",
      "                                 'Discharge',\n",
      "                                 'Final',\n",
      "                                 'Final - Epic',\n",
      "                                 'QCC',\n",
      "                                 'Working'],\n",
      "              'name': '\\\\Diagnosis\\\\ICD-10-CM Diagnoses (2015) with '\n",
      "                      'ICD9\\\\Certain conditions originating in the perinatal '\n",
      "                      'period (P00-P96)\\\\Transitory endocrine and metabolic '\n",
      "                      'disorders specific to newborn (P70-P74)\\\\Transitory '\n",
      "                      'neonatal disorders of calcium and magnesium '\n",
      "                      'metabolism\\\\Neonatal hypomagnesemia\\\\Hypocalcemia and '\n",
      "                      'hypomagnesemia of newborn\\\\',\n",
      "              'observationCount': 697,\n",
      "              'patientCount': 546},\n",
      "             {'HpdsDataType': 'phenotypes',\n",
      "              'categorical': True,\n",
      "              'categoryValues': ['Billing Diagnosis', 'Final', 'QCC'],\n",
      "              'name': '\\\\Diagnosis\\\\ICD-10-CM Diagnoses (2015) with '\n",
      "                      'ICD9\\\\Certain conditions originating in the perinatal '\n",
      "                      'period (P00-P96)\\\\Transitory endocrine and metabolic '\n",
      "                      'disorders specific to newborn (P70-P74)\\\\Transitory '\n",
      "                      'neonatal disorders of calcium and magnesium '\n",
      "                      'metabolism\\\\Transitory neonatal disorder of calcium and '\n",
      "                      'magnesium metabolism, unspecified\\\\',\n",
      "              'observationCount': 30,\n",
      "              'patientCount': 7},\n",
      "             {'HpdsDataType': 'phenotypes',\n",
      "              'categorical': True,\n",
      "              'categoryValues': ['H'],\n",
      "              'name': '\\\\Medications\\\\Any calcium lactate\\\\',\n",
      "              'observationCount': 20,\n",
      "              'patientCount': 20},\n",
      "             {'HpdsDataType': 'phenotypes',\n",
      "              'categorical': True,\n",
      "              'categoryValues': ['Admitting',\n",
      "                                 'Billing Diagnosis',\n",
      "                                 'Discharge',\n",
      "                                 'Final'],\n",
      "              'name': '\\\\Diagnosis\\\\ICD-10-CM Diagnoses (2015) with '\n",
      "                      'ICD9\\\\Injury, poisoning and certain other consequences '\n",
      "                      'of external causes (S00-T88)\\\\Poisoning by, adverse '\n",
      "                      'effects of and underdosing of drugs, medicaments and '\n",
      "                      'biological substances (T36-T50)\\\\Poisoning by, adverse '\n",
      "                      'effect of and underdosing of agents primarily affecting '\n",
      "                      'the cardiovascular system\\\\Poisoning by, adverse effect '\n",
      "                      'of and underdosing of calcium-channel '\n",
      "                      'blockers\\\\Poisoning by, adverse effect of and '\n",
      "                      'underdosing of calcium-channel blockers\\\\Poisoning by '\n",
      "                      'calcium-channel blockers, accidental '\n",
      "                      '(unintentional)\\\\Poisoning by calcium-channel blockers, '\n",
      "                      'accidental (unintentional), initial encounter\\\\',\n",
      "              'observationCount': 144,\n",
      "              'patientCount': 55},\n",
      "             {'HpdsDataType': 'phenotypes',\n",
      "              'categorical': True,\n",
      "              'categoryValues': ['Billing Diagnosis', 'Final', 'QCC'],\n",
      "              'name': '\\\\Diagnosis\\\\ICD-10-CM Diagnoses (2015) with '\n",
      "                      'ICD9\\\\Certain conditions originating in the perinatal '\n",
      "                      'period (P00-P96)\\\\Transitory endocrine and metabolic '\n",
      "                      'disorders specific to newborn (P70-P74)\\\\Transitory '\n",
      "                      'neonatal disorders of calcium and magnesium '\n",
      "                      'metabolism\\\\Neonatal tetany without calcium or '\n",
      "                      'magnesium deficiency\\\\',\n",
      "              'observationCount': 3,\n",
      "              'patientCount': 2}],\n",
      " 'Keys': ['\\\\Diagnosis\\\\ICD-10-CM Diagnoses (2015) with ICD9\\\\Certain '\n",
      "          'conditions originating in the perinatal period '\n",
      "          '(P00-P96)\\\\Transitory endocrine and metabolic disorders specific to '\n",
      "          'newborn (P70-P74)\\\\Transitory neonatal disorders of calcium and '\n",
      "          'magnesium metabolism\\\\Neonatal hypomagnesemia\\\\Hypocalcemia and '\n",
      "          'hypomagnesemia of newborn\\\\',\n",
      "          '\\\\Diagnosis\\\\ICD-10-CM Diagnoses (2015) with ICD9\\\\Certain '\n",
      "          'conditions originating in the perinatal period '\n",
      "          '(P00-P96)\\\\Transitory endocrine and metabolic disorders specific to '\n",
      "          'newborn (P70-P74)\\\\Transitory neonatal disorders of calcium and '\n",
      "          'magnesium metabolism\\\\Transitory neonatal disorder of calcium and '\n",
      "          'magnesium metabolism, unspecified\\\\',\n",
      "          '\\\\Medications\\\\Any calcium lactate\\\\',\n",
      "          '\\\\Diagnosis\\\\ICD-10-CM Diagnoses (2015) with ICD9\\\\Injury, '\n",
      "          'poisoning and certain other consequences of external causes '\n",
      "          '(S00-T88)\\\\Poisoning by, adverse effects of and underdosing of '\n",
      "          'drugs, medicaments and biological substances (T36-T50)\\\\Poisoning '\n",
      "          'by, adverse effect of and underdosing of agents primarily affecting '\n",
      "          'the cardiovascular system\\\\Poisoning by, adverse effect of and '\n",
      "          'underdosing of calcium-channel blockers\\\\Poisoning by, adverse '\n",
      "          'effect of and underdosing of calcium-channel blockers\\\\Poisoning by '\n",
      "          'calcium-channel blockers, accidental (unintentional)\\\\Poisoning by '\n",
      "          'calcium-channel blockers, accidental (unintentional), initial '\n",
      "          'encounter\\\\',\n",
      "          '\\\\Diagnosis\\\\ICD-10-CM Diagnoses (2015) with ICD9\\\\Certain '\n",
      "          'conditions originating in the perinatal period '\n",
      "          '(P00-P96)\\\\Transitory endocrine and metabolic disorders specific to '\n",
      "          'newborn (P70-P74)\\\\Transitory neonatal disorders of calcium and '\n",
      "          'magnesium metabolism\\\\Neonatal tetany without calcium or magnesium '\n",
      "          'deficiency\\\\']}\n"
     ]
    }
   ],
   "source": [
    "pprint({\"Count\": dictionary_search.count(), \n",
    "        \"Keys\": dictionary_search.keys()[0:5],\n",
    "        \"Entries\": dictionary_search.entries()[0:5]})"
   ]
  },
  {
   "cell_type": "markdown",
   "metadata": {},
   "source": [
    "**The `.DataFrame()` method enables us to get the result of the dictionary search in a pandas DataFrame format. This way, it allows us to:** \n",
    "\n",
    "\n",
    "* Use the various information exposed in the dictionary (patient count, variable type ...) as criteria for variable selection.\n",
    "* Use the row names of the DataFrame to get the actual variable names to be used in the query, as shown below.\n",
    "\n",
    "Variable names aren't very pratical to use right away for two reasons:\n",
    "1. Very long\n",
    "2. Presence of backslashes that prevent from copy-pasting. \n",
    "\n",
    "However, retrieving the dictionary search result in the form of a dataframe can help access the variable names."
   ]
  },
  {
   "cell_type": "code",
   "execution_count": 12,
   "metadata": {},
   "outputs": [
    {
     "data": {
      "text/html": [
       "<div>\n",
       "<style scoped>\n",
       "    .dataframe tbody tr th:only-of-type {\n",
       "        vertical-align: middle;\n",
       "    }\n",
       "\n",
       "    .dataframe tbody tr th {\n",
       "        vertical-align: top;\n",
       "    }\n",
       "\n",
       "    .dataframe thead th {\n",
       "        text-align: right;\n",
       "    }\n",
       "</style>\n",
       "<table border=\"1\" class=\"dataframe\">\n",
       "  <thead>\n",
       "    <tr style=\"text-align: right;\">\n",
       "      <th></th>\n",
       "      <th>categorical</th>\n",
       "      <th>categoryValues</th>\n",
       "      <th>patientCount</th>\n",
       "      <th>observationCount</th>\n",
       "      <th>HpdsDataType</th>\n",
       "      <th>min</th>\n",
       "      <th>max</th>\n",
       "    </tr>\n",
       "    <tr>\n",
       "      <th>KEY</th>\n",
       "      <th></th>\n",
       "      <th></th>\n",
       "      <th></th>\n",
       "      <th></th>\n",
       "      <th></th>\n",
       "      <th></th>\n",
       "      <th></th>\n",
       "    </tr>\n",
       "  </thead>\n",
       "  <tbody>\n",
       "    <tr>\n",
       "      <th>\\Diagnosis\\ICD-10-CM Diagnoses (2015) with ICD9\\Certain conditions originating in the perinatal period (P00-P96)\\Transitory endocrine and metabolic disorders specific to newborn (P70-P74)\\Transitory neonatal disorders of calcium and magnesium metabolism\\Neonatal hypomagnesemia\\Hypocalcemia and hypomagnesemia of newborn\\</th>\n",
       "      <td>True</td>\n",
       "      <td>[Admitting, Billing Diagnosis, Discharge, Fina...</td>\n",
       "      <td>546</td>\n",
       "      <td>697</td>\n",
       "      <td>phenotypes</td>\n",
       "      <td>NaN</td>\n",
       "      <td>NaN</td>\n",
       "    </tr>\n",
       "    <tr>\n",
       "      <th>\\Diagnosis\\ICD-10-CM Diagnoses (2015) with ICD9\\Certain conditions originating in the perinatal period (P00-P96)\\Transitory endocrine and metabolic disorders specific to newborn (P70-P74)\\Transitory neonatal disorders of calcium and magnesium metabolism\\Transitory neonatal disorder of calcium and magnesium metabolism, unspecified\\</th>\n",
       "      <td>True</td>\n",
       "      <td>[Billing Diagnosis, Final, QCC]</td>\n",
       "      <td>7</td>\n",
       "      <td>30</td>\n",
       "      <td>phenotypes</td>\n",
       "      <td>NaN</td>\n",
       "      <td>NaN</td>\n",
       "    </tr>\n",
       "    <tr>\n",
       "      <th>\\Medications\\Any calcium lactate\\</th>\n",
       "      <td>True</td>\n",
       "      <td>[H]</td>\n",
       "      <td>20</td>\n",
       "      <td>20</td>\n",
       "      <td>phenotypes</td>\n",
       "      <td>NaN</td>\n",
       "      <td>NaN</td>\n",
       "    </tr>\n",
       "    <tr>\n",
       "      <th>\\Diagnosis\\ICD-10-CM Diagnoses (2015) with ICD9\\Injury, poisoning and certain other consequences of external causes (S00-T88)\\Poisoning by, adverse effects of and underdosing of drugs, medicaments and biological substances (T36-T50)\\Poisoning by, adverse effect of and underdosing of agents primarily affecting the cardiovascular system\\Poisoning by, adverse effect of and underdosing of calcium-channel blockers\\Poisoning by, adverse effect of and underdosing of calcium-channel blockers\\Poisoning by calcium-channel blockers, accidental (unintentional)\\Poisoning by calcium-channel blockers, accidental (unintentional), initial encounter\\</th>\n",
       "      <td>True</td>\n",
       "      <td>[Admitting, Billing Diagnosis, Discharge, Final]</td>\n",
       "      <td>55</td>\n",
       "      <td>144</td>\n",
       "      <td>phenotypes</td>\n",
       "      <td>NaN</td>\n",
       "      <td>NaN</td>\n",
       "    </tr>\n",
       "    <tr>\n",
       "      <th>\\Diagnosis\\ICD-10-CM Diagnoses (2015) with ICD9\\Certain conditions originating in the perinatal period (P00-P96)\\Transitory endocrine and metabolic disorders specific to newborn (P70-P74)\\Transitory neonatal disorders of calcium and magnesium metabolism\\Neonatal tetany without calcium or magnesium deficiency\\</th>\n",
       "      <td>True</td>\n",
       "      <td>[Billing Diagnosis, Final, QCC]</td>\n",
       "      <td>2</td>\n",
       "      <td>3</td>\n",
       "      <td>phenotypes</td>\n",
       "      <td>NaN</td>\n",
       "      <td>NaN</td>\n",
       "    </tr>\n",
       "  </tbody>\n",
       "</table>\n",
       "</div>"
      ],
      "text/plain": [
       "                                                    categorical  \\\n",
       "KEY                                                               \n",
       "\\Diagnosis\\ICD-10-CM Diagnoses (2015) with ICD9...         True   \n",
       "\\Diagnosis\\ICD-10-CM Diagnoses (2015) with ICD9...         True   \n",
       "\\Medications\\Any calcium lactate\\                          True   \n",
       "\\Diagnosis\\ICD-10-CM Diagnoses (2015) with ICD9...         True   \n",
       "\\Diagnosis\\ICD-10-CM Diagnoses (2015) with ICD9...         True   \n",
       "\n",
       "                                                                                       categoryValues  \\\n",
       "KEY                                                                                                     \n",
       "\\Diagnosis\\ICD-10-CM Diagnoses (2015) with ICD9...  [Admitting, Billing Diagnosis, Discharge, Fina...   \n",
       "\\Diagnosis\\ICD-10-CM Diagnoses (2015) with ICD9...                    [Billing Diagnosis, Final, QCC]   \n",
       "\\Medications\\Any calcium lactate\\                                                                 [H]   \n",
       "\\Diagnosis\\ICD-10-CM Diagnoses (2015) with ICD9...   [Admitting, Billing Diagnosis, Discharge, Final]   \n",
       "\\Diagnosis\\ICD-10-CM Diagnoses (2015) with ICD9...                    [Billing Diagnosis, Final, QCC]   \n",
       "\n",
       "                                                    patientCount  \\\n",
       "KEY                                                                \n",
       "\\Diagnosis\\ICD-10-CM Diagnoses (2015) with ICD9...           546   \n",
       "\\Diagnosis\\ICD-10-CM Diagnoses (2015) with ICD9...             7   \n",
       "\\Medications\\Any calcium lactate\\                             20   \n",
       "\\Diagnosis\\ICD-10-CM Diagnoses (2015) with ICD9...            55   \n",
       "\\Diagnosis\\ICD-10-CM Diagnoses (2015) with ICD9...             2   \n",
       "\n",
       "                                                    observationCount  \\\n",
       "KEY                                                                    \n",
       "\\Diagnosis\\ICD-10-CM Diagnoses (2015) with ICD9...               697   \n",
       "\\Diagnosis\\ICD-10-CM Diagnoses (2015) with ICD9...                30   \n",
       "\\Medications\\Any calcium lactate\\                                 20   \n",
       "\\Diagnosis\\ICD-10-CM Diagnoses (2015) with ICD9...               144   \n",
       "\\Diagnosis\\ICD-10-CM Diagnoses (2015) with ICD9...                 3   \n",
       "\n",
       "                                                   HpdsDataType  min  max  \n",
       "KEY                                                                        \n",
       "\\Diagnosis\\ICD-10-CM Diagnoses (2015) with ICD9...   phenotypes  NaN  NaN  \n",
       "\\Diagnosis\\ICD-10-CM Diagnoses (2015) with ICD9...   phenotypes  NaN  NaN  \n",
       "\\Medications\\Any calcium lactate\\                    phenotypes  NaN  NaN  \n",
       "\\Diagnosis\\ICD-10-CM Diagnoses (2015) with ICD9...   phenotypes  NaN  NaN  \n",
       "\\Diagnosis\\ICD-10-CM Diagnoses (2015) with ICD9...   phenotypes  NaN  NaN  "
      ]
     },
     "execution_count": 12,
     "metadata": {},
     "output_type": "execute_result"
    }
   ],
   "source": [
    "dictionary_search.DataFrame().head()"
   ]
  },
  {
   "cell_type": "markdown",
   "metadata": {},
   "source": [
    "The dictionary currently returned by the API provides information about the variables, such as:\n",
    "- observationCount: number of entries with non-null value\n",
    "- categorical: type of the variables, True if strings, False if numerical\n",
    "- min/max: only provided for numerical variables\n",
    "- HpdsDataType: 'phenotypes' or 'genotypes'. Currently, the API only expsoses'phenotypes' variables"
   ]
  },
  {
   "cell_type": "markdown",
   "metadata": {},
   "source": [
    "## Variable dictionary and pandas multiIndex\n",
    "\n",
    "We can use a simple user-defined function (`get_multiIndex_variablesDict`) to add a little more information to the variable dictionary and to simplify working with variables names. It takes advantage of pandas MultiIndex functionality [see pandas official documentation on this topic](https://pandas.pydata.org/pandas-docs/stable/user_guide/advanced.html).\n",
    "\n",
    "Although not an official feature of the API, such functionality illustrates how to quickly select groups of related variables.\n",
    "\n",
    "Printing the multiIndexed variable Dictionary allows to quickly see the tree-like organization of the variable names. Moreover, original and simplified variable names are now stored respectively in the `varName` and `simplified_varName` columns (simplified variable names is simply the last component of the variable name, which is usually the most informative to know what each variable is about)."
   ]
  },
  {
   "cell_type": "code",
   "execution_count": 13,
   "metadata": {},
   "outputs": [
    {
     "data": {
      "text/html": [
       "<div>\n",
       "<style scoped>\n",
       "    .dataframe tbody tr th:only-of-type {\n",
       "        vertical-align: middle;\n",
       "    }\n",
       "\n",
       "    .dataframe tbody tr th {\n",
       "        vertical-align: top;\n",
       "    }\n",
       "\n",
       "    .dataframe thead th {\n",
       "        text-align: right;\n",
       "    }\n",
       "</style>\n",
       "<table border=\"1\" class=\"dataframe\">\n",
       "  <thead>\n",
       "    <tr style=\"text-align: right;\">\n",
       "      <th></th>\n",
       "      <th></th>\n",
       "      <th></th>\n",
       "      <th></th>\n",
       "      <th></th>\n",
       "      <th></th>\n",
       "      <th></th>\n",
       "      <th>simplified_name</th>\n",
       "      <th>name</th>\n",
       "      <th>observationCount</th>\n",
       "      <th>categorical</th>\n",
       "      <th>categoryValues</th>\n",
       "      <th>nb_modalities</th>\n",
       "      <th>min</th>\n",
       "      <th>max</th>\n",
       "      <th>HpdsDataType</th>\n",
       "    </tr>\n",
       "    <tr>\n",
       "      <th>level_0</th>\n",
       "      <th>level_1</th>\n",
       "      <th>level_2</th>\n",
       "      <th>level_3</th>\n",
       "      <th>level_4</th>\n",
       "      <th>level_5</th>\n",
       "      <th>level_6</th>\n",
       "      <th></th>\n",
       "      <th></th>\n",
       "      <th></th>\n",
       "      <th></th>\n",
       "      <th></th>\n",
       "      <th></th>\n",
       "      <th></th>\n",
       "      <th></th>\n",
       "      <th></th>\n",
       "    </tr>\n",
       "  </thead>\n",
       "  <tbody>\n",
       "    <tr>\n",
       "      <th rowspan=\"5\" valign=\"top\">Diagnosis</th>\n",
       "      <th rowspan=\"5\" valign=\"top\">ICD-10-CM Diagnoses (2015) with ICD9</th>\n",
       "      <th rowspan=\"5\" valign=\"top\">Certain conditions originating in the perinatal period (P00-P96)</th>\n",
       "      <th rowspan=\"5\" valign=\"top\">Transitory endocrine and metabolic disorders specific to newborn (P70-P74)</th>\n",
       "      <th rowspan=\"5\" valign=\"top\">Transitory neonatal disorders of calcium and magnesium metabolism</th>\n",
       "      <th rowspan=\"2\" valign=\"top\">Cow's milk hypocalcemia in newborn</th>\n",
       "      <th>NaN</th>\n",
       "      <td>Cow's milk hypocalcemia in newborn</td>\n",
       "      <td>\\Diagnosis\\ICD-10-CM Diagnoses (2015) with ICD...</td>\n",
       "      <td>3</td>\n",
       "      <td>True</td>\n",
       "      <td>[Billing Diagnosis, QCC]</td>\n",
       "      <td>2.0</td>\n",
       "      <td>NaN</td>\n",
       "      <td>NaN</td>\n",
       "      <td>phenotypes</td>\n",
       "    </tr>\n",
       "    <tr>\n",
       "      <th>Hypocalcemia and hypomagnesemia of newborn</th>\n",
       "      <td>Hypocalcemia and hypomagnesemia of newborn</td>\n",
       "      <td>\\Diagnosis\\ICD-10-CM Diagnoses (2015) with ICD...</td>\n",
       "      <td>697</td>\n",
       "      <td>True</td>\n",
       "      <td>[Admitting, Billing Diagnosis, Discharge, Fina...</td>\n",
       "      <td>7.0</td>\n",
       "      <td>NaN</td>\n",
       "      <td>NaN</td>\n",
       "      <td>phenotypes</td>\n",
       "    </tr>\n",
       "    <tr>\n",
       "      <th rowspan=\"2\" valign=\"top\">Neonatal hypomagnesemia</th>\n",
       "      <th>NaN</th>\n",
       "      <td>Neonatal hypomagnesemia</td>\n",
       "      <td>\\Diagnosis\\ICD-10-CM Diagnoses (2015) with ICD...</td>\n",
       "      <td>52</td>\n",
       "      <td>True</td>\n",
       "      <td>[Billing Diagnosis, Final, QCC]</td>\n",
       "      <td>3.0</td>\n",
       "      <td>NaN</td>\n",
       "      <td>NaN</td>\n",
       "      <td>phenotypes</td>\n",
       "    </tr>\n",
       "    <tr>\n",
       "      <th>Hypocalcemia and hypomagnesemia of newborn</th>\n",
       "      <td>Hypocalcemia and hypomagnesemia of newborn</td>\n",
       "      <td>\\Diagnosis\\ICD-10-CM Diagnoses (2015) with ICD...</td>\n",
       "      <td>697</td>\n",
       "      <td>True</td>\n",
       "      <td>[Admitting, Billing Diagnosis, Discharge, Fina...</td>\n",
       "      <td>7.0</td>\n",
       "      <td>NaN</td>\n",
       "      <td>NaN</td>\n",
       "      <td>phenotypes</td>\n",
       "    </tr>\n",
       "    <tr>\n",
       "      <th>Neonatal tetany without calcium or magnesium deficiency</th>\n",
       "      <th>NaN</th>\n",
       "      <td>Neonatal tetany without calcium or magnesium d...</td>\n",
       "      <td>\\Diagnosis\\ICD-10-CM Diagnoses (2015) with ICD...</td>\n",
       "      <td>3</td>\n",
       "      <td>True</td>\n",
       "      <td>[Billing Diagnosis, Final, QCC]</td>\n",
       "      <td>3.0</td>\n",
       "      <td>NaN</td>\n",
       "      <td>NaN</td>\n",
       "      <td>phenotypes</td>\n",
       "    </tr>\n",
       "  </tbody>\n",
       "</table>\n",
       "</div>"
      ],
      "text/plain": [
       "                                                                                                                                                                                                                                                                                                                                         simplified_name  \\\n",
       "level_0   level_1                              level_2                                            level_3                                            level_4                                            level_5                                            level_6                                                                                         \n",
       "Diagnosis ICD-10-CM Diagnoses (2015) with ICD9 Certain conditions originating in the perinatal... Transitory endocrine and metabolic disorders sp... Transitory neonatal disorders of calcium and ma... Cow's milk hypocalcemia in newborn                 NaN                                                        Cow's milk hypocalcemia in newborn   \n",
       "                                                                                                                                                                                                                                                           Hypocalcemia and hypomagnesemia of newborn         Hypocalcemia and hypomagnesemia of newborn   \n",
       "                                                                                                                                                                                                        Neonatal hypomagnesemia                            NaN                                                                   Neonatal hypomagnesemia   \n",
       "                                                                                                                                                                                                                                                           Hypocalcemia and hypomagnesemia of newborn         Hypocalcemia and hypomagnesemia of newborn   \n",
       "                                                                                                                                                                                                        Neonatal tetany without calcium or magnesium de... NaN                                         Neonatal tetany without calcium or magnesium d...   \n",
       "\n",
       "                                                                                                                                                                                                                                                                                                                                                    name  \\\n",
       "level_0   level_1                              level_2                                            level_3                                            level_4                                            level_5                                            level_6                                                                                         \n",
       "Diagnosis ICD-10-CM Diagnoses (2015) with ICD9 Certain conditions originating in the perinatal... Transitory endocrine and metabolic disorders sp... Transitory neonatal disorders of calcium and ma... Cow's milk hypocalcemia in newborn                 NaN                                         \\Diagnosis\\ICD-10-CM Diagnoses (2015) with ICD...   \n",
       "                                                                                                                                                                                                                                                           Hypocalcemia and hypomagnesemia of newborn  \\Diagnosis\\ICD-10-CM Diagnoses (2015) with ICD...   \n",
       "                                                                                                                                                                                                        Neonatal hypomagnesemia                            NaN                                         \\Diagnosis\\ICD-10-CM Diagnoses (2015) with ICD...   \n",
       "                                                                                                                                                                                                                                                           Hypocalcemia and hypomagnesemia of newborn  \\Diagnosis\\ICD-10-CM Diagnoses (2015) with ICD...   \n",
       "                                                                                                                                                                                                        Neonatal tetany without calcium or magnesium de... NaN                                         \\Diagnosis\\ICD-10-CM Diagnoses (2015) with ICD...   \n",
       "\n",
       "                                                                                                                                                                                                                                                                                                       observationCount  \\\n",
       "level_0   level_1                              level_2                                            level_3                                            level_4                                            level_5                                            level_6                                                        \n",
       "Diagnosis ICD-10-CM Diagnoses (2015) with ICD9 Certain conditions originating in the perinatal... Transitory endocrine and metabolic disorders sp... Transitory neonatal disorders of calcium and ma... Cow's milk hypocalcemia in newborn                 NaN                                                        3   \n",
       "                                                                                                                                                                                                                                                           Hypocalcemia and hypomagnesemia of newborn               697   \n",
       "                                                                                                                                                                                                        Neonatal hypomagnesemia                            NaN                                                       52   \n",
       "                                                                                                                                                                                                                                                           Hypocalcemia and hypomagnesemia of newborn               697   \n",
       "                                                                                                                                                                                                        Neonatal tetany without calcium or magnesium de... NaN                                                        3   \n",
       "\n",
       "                                                                                                                                                                                                                                                                                                       categorical  \\\n",
       "level_0   level_1                              level_2                                            level_3                                            level_4                                            level_5                                            level_6                                                   \n",
       "Diagnosis ICD-10-CM Diagnoses (2015) with ICD9 Certain conditions originating in the perinatal... Transitory endocrine and metabolic disorders sp... Transitory neonatal disorders of calcium and ma... Cow's milk hypocalcemia in newborn                 NaN                                                True   \n",
       "                                                                                                                                                                                                                                                           Hypocalcemia and hypomagnesemia of newborn         True   \n",
       "                                                                                                                                                                                                        Neonatal hypomagnesemia                            NaN                                                True   \n",
       "                                                                                                                                                                                                                                                           Hypocalcemia and hypomagnesemia of newborn         True   \n",
       "                                                                                                                                                                                                        Neonatal tetany without calcium or magnesium de... NaN                                                True   \n",
       "\n",
       "                                                                                                                                                                                                                                                                                                                                          categoryValues  \\\n",
       "level_0   level_1                              level_2                                            level_3                                            level_4                                            level_5                                            level_6                                                                                         \n",
       "Diagnosis ICD-10-CM Diagnoses (2015) with ICD9 Certain conditions originating in the perinatal... Transitory endocrine and metabolic disorders sp... Transitory neonatal disorders of calcium and ma... Cow's milk hypocalcemia in newborn                 NaN                                                                  [Billing Diagnosis, QCC]   \n",
       "                                                                                                                                                                                                                                                           Hypocalcemia and hypomagnesemia of newborn  [Admitting, Billing Diagnosis, Discharge, Fina...   \n",
       "                                                                                                                                                                                                        Neonatal hypomagnesemia                            NaN                                                           [Billing Diagnosis, Final, QCC]   \n",
       "                                                                                                                                                                                                                                                           Hypocalcemia and hypomagnesemia of newborn  [Admitting, Billing Diagnosis, Discharge, Fina...   \n",
       "                                                                                                                                                                                                        Neonatal tetany without calcium or magnesium de... NaN                                                           [Billing Diagnosis, Final, QCC]   \n",
       "\n",
       "                                                                                                                                                                                                                                                                                                       nb_modalities  \\\n",
       "level_0   level_1                              level_2                                            level_3                                            level_4                                            level_5                                            level_6                                                     \n",
       "Diagnosis ICD-10-CM Diagnoses (2015) with ICD9 Certain conditions originating in the perinatal... Transitory endocrine and metabolic disorders sp... Transitory neonatal disorders of calcium and ma... Cow's milk hypocalcemia in newborn                 NaN                                                   2.0   \n",
       "                                                                                                                                                                                                                                                           Hypocalcemia and hypomagnesemia of newborn            7.0   \n",
       "                                                                                                                                                                                                        Neonatal hypomagnesemia                            NaN                                                   3.0   \n",
       "                                                                                                                                                                                                                                                           Hypocalcemia and hypomagnesemia of newborn            7.0   \n",
       "                                                                                                                                                                                                        Neonatal tetany without calcium or magnesium de... NaN                                                   3.0   \n",
       "\n",
       "                                                                                                                                                                                                                                                                                                       min  \\\n",
       "level_0   level_1                              level_2                                            level_3                                            level_4                                            level_5                                            level_6                                           \n",
       "Diagnosis ICD-10-CM Diagnoses (2015) with ICD9 Certain conditions originating in the perinatal... Transitory endocrine and metabolic disorders sp... Transitory neonatal disorders of calcium and ma... Cow's milk hypocalcemia in newborn                 NaN                                         NaN   \n",
       "                                                                                                                                                                                                                                                           Hypocalcemia and hypomagnesemia of newborn  NaN   \n",
       "                                                                                                                                                                                                        Neonatal hypomagnesemia                            NaN                                         NaN   \n",
       "                                                                                                                                                                                                                                                           Hypocalcemia and hypomagnesemia of newborn  NaN   \n",
       "                                                                                                                                                                                                        Neonatal tetany without calcium or magnesium de... NaN                                         NaN   \n",
       "\n",
       "                                                                                                                                                                                                                                                                                                       max  \\\n",
       "level_0   level_1                              level_2                                            level_3                                            level_4                                            level_5                                            level_6                                           \n",
       "Diagnosis ICD-10-CM Diagnoses (2015) with ICD9 Certain conditions originating in the perinatal... Transitory endocrine and metabolic disorders sp... Transitory neonatal disorders of calcium and ma... Cow's milk hypocalcemia in newborn                 NaN                                         NaN   \n",
       "                                                                                                                                                                                                                                                           Hypocalcemia and hypomagnesemia of newborn  NaN   \n",
       "                                                                                                                                                                                                        Neonatal hypomagnesemia                            NaN                                         NaN   \n",
       "                                                                                                                                                                                                                                                           Hypocalcemia and hypomagnesemia of newborn  NaN   \n",
       "                                                                                                                                                                                                        Neonatal tetany without calcium or magnesium de... NaN                                         NaN   \n",
       "\n",
       "                                                                                                                                                                                                                                                                                                      HpdsDataType  \n",
       "level_0   level_1                              level_2                                            level_3                                            level_4                                            level_5                                            level_6                                                  \n",
       "Diagnosis ICD-10-CM Diagnoses (2015) with ICD9 Certain conditions originating in the perinatal... Transitory endocrine and metabolic disorders sp... Transitory neonatal disorders of calcium and ma... Cow's milk hypocalcemia in newborn                 NaN                                          phenotypes  \n",
       "                                                                                                                                                                                                                                                           Hypocalcemia and hypomagnesemia of newborn   phenotypes  \n",
       "                                                                                                                                                                                                        Neonatal hypomagnesemia                            NaN                                          phenotypes  \n",
       "                                                                                                                                                                                                                                                           Hypocalcemia and hypomagnesemia of newborn   phenotypes  \n",
       "                                                                                                                                                                                                        Neonatal tetany without calcium or magnesium de... NaN                                          phenotypes  "
      ]
     },
     "execution_count": 13,
     "metadata": {},
     "output_type": "execute_result"
    }
   ],
   "source": [
    "multiindex = get_multiIndex_variablesDict(dictionary_search.DataFrame())\n",
    "multiindex.head().droplevel(['level_7', 'level_8', 'level_9'])"
   ]
  },
  {
   "cell_type": "markdown",
   "metadata": {},
   "source": [
    "Below is a simple example to illustrate the simplicity of using a multiIndex dictionary. Let's say we are interested in every variable in the \"diseases of the respiratory system\" category."
   ]
  },
  {
   "cell_type": "code",
   "execution_count": 14,
   "metadata": {},
   "outputs": [],
   "source": [
    "full_multiindex = get_multiIndex_variablesDict(dictionary.find().DataFrame()) # Get full dataframe of variables\n",
    "# Find variables that have \"diseases of the respiratory system\" in level_2\n",
    "mask_resp_diseases = [type(i) == str and \"Diseases of the respiratory system\" in i for i in full_multiindex.index.get_level_values(2)] \n",
    "# Filter to those variables\n",
    "resp_diseases_vars = full_multiindex.loc[mask_resp_diseases, :]"
   ]
  },
  {
   "cell_type": "code",
   "execution_count": 15,
   "metadata": {},
   "outputs": [
    {
     "data": {
      "text/html": [
       "<div>\n",
       "<style scoped>\n",
       "    .dataframe tbody tr th:only-of-type {\n",
       "        vertical-align: middle;\n",
       "    }\n",
       "\n",
       "    .dataframe tbody tr th {\n",
       "        vertical-align: top;\n",
       "    }\n",
       "\n",
       "    .dataframe thead th {\n",
       "        text-align: right;\n",
       "    }\n",
       "</style>\n",
       "<table border=\"1\" class=\"dataframe\">\n",
       "  <thead>\n",
       "    <tr style=\"text-align: right;\">\n",
       "      <th></th>\n",
       "      <th></th>\n",
       "      <th></th>\n",
       "      <th></th>\n",
       "      <th></th>\n",
       "      <th></th>\n",
       "      <th></th>\n",
       "      <th>simplified_name</th>\n",
       "      <th>name</th>\n",
       "      <th>observationCount</th>\n",
       "      <th>categorical</th>\n",
       "      <th>categoryValues</th>\n",
       "      <th>nb_modalities</th>\n",
       "      <th>min</th>\n",
       "      <th>max</th>\n",
       "      <th>HpdsDataType</th>\n",
       "    </tr>\n",
       "    <tr>\n",
       "      <th>level_0</th>\n",
       "      <th>level_1</th>\n",
       "      <th>level_2</th>\n",
       "      <th>level_3</th>\n",
       "      <th>level_4</th>\n",
       "      <th>level_5</th>\n",
       "      <th>level_6</th>\n",
       "      <th></th>\n",
       "      <th></th>\n",
       "      <th></th>\n",
       "      <th></th>\n",
       "      <th></th>\n",
       "      <th></th>\n",
       "      <th></th>\n",
       "      <th></th>\n",
       "      <th></th>\n",
       "    </tr>\n",
       "  </thead>\n",
       "  <tbody>\n",
       "    <tr>\n",
       "      <th rowspan=\"5\" valign=\"top\">Diagnosis</th>\n",
       "      <th rowspan=\"5\" valign=\"top\">ICD-10-CM Diagnoses (2015) with ICD9</th>\n",
       "      <th rowspan=\"5\" valign=\"top\">Diseases of the respiratory system (J00-J99)</th>\n",
       "      <th rowspan=\"5\" valign=\"top\">Acute upper respiratory infections (J00-J06)</th>\n",
       "      <th rowspan=\"5\" valign=\"top\">Acute laryngitis and tracheitis</th>\n",
       "      <th>Acute laryngitis and tracheitis</th>\n",
       "      <th>NaN</th>\n",
       "      <td>Acute laryngitis and tracheitis</td>\n",
       "      <td>\\Diagnosis\\ICD-10-CM Diagnoses (2015) with ICD...</td>\n",
       "      <td>421.0</td>\n",
       "      <td>True</td>\n",
       "      <td>[Admitting, Final]</td>\n",
       "      <td>2.0</td>\n",
       "      <td>NaN</td>\n",
       "      <td>NaN</td>\n",
       "      <td>phenotypes</td>\n",
       "    </tr>\n",
       "    <tr>\n",
       "      <th rowspan=\"3\" valign=\"top\">Acute laryngitis</th>\n",
       "      <th>NaN</th>\n",
       "      <td>Acute laryngitis</td>\n",
       "      <td>\\Diagnosis\\ICD-10-CM Diagnoses (2015) with ICD...</td>\n",
       "      <td>485.0</td>\n",
       "      <td>True</td>\n",
       "      <td>[Admitting, Billing Diagnosis, Discharge, Fina...</td>\n",
       "      <td>5.0</td>\n",
       "      <td>NaN</td>\n",
       "      <td>NaN</td>\n",
       "      <td>phenotypes</td>\n",
       "    </tr>\n",
       "    <tr>\n",
       "      <th>Acute laryngitis without mention of obstruction</th>\n",
       "      <td>Acute laryngitis without mention of obstruction</td>\n",
       "      <td>\\Diagnosis\\ICD-10-CM Diagnoses (2015) with ICD...</td>\n",
       "      <td>555.0</td>\n",
       "      <td>True</td>\n",
       "      <td>[Admitting, Billing Diagnosis, Discharge, Fina...</td>\n",
       "      <td>7.0</td>\n",
       "      <td>NaN</td>\n",
       "      <td>NaN</td>\n",
       "      <td>phenotypes</td>\n",
       "    </tr>\n",
       "    <tr>\n",
       "      <th>Acute laryngitis</th>\n",
       "      <td>Acute laryngitis</td>\n",
       "      <td>\\Diagnosis\\ICD-10-CM Diagnoses (2015) with ICD...</td>\n",
       "      <td>236.0</td>\n",
       "      <td>True</td>\n",
       "      <td>[Admitting, Discharge, Final, QCC]</td>\n",
       "      <td>4.0</td>\n",
       "      <td>NaN</td>\n",
       "      <td>NaN</td>\n",
       "      <td>phenotypes</td>\n",
       "    </tr>\n",
       "    <tr>\n",
       "      <th>Acute laryngotracheitis</th>\n",
       "      <th>NaN</th>\n",
       "      <td>Acute laryngotracheitis</td>\n",
       "      <td>\\Diagnosis\\ICD-10-CM Diagnoses (2015) with ICD...</td>\n",
       "      <td>116.0</td>\n",
       "      <td>True</td>\n",
       "      <td>[Admitting, Billing Diagnosis, Discharge, Fina...</td>\n",
       "      <td>5.0</td>\n",
       "      <td>NaN</td>\n",
       "      <td>NaN</td>\n",
       "      <td>phenotypes</td>\n",
       "    </tr>\n",
       "  </tbody>\n",
       "</table>\n",
       "</div>"
      ],
      "text/plain": [
       "                                                                                                                                                                                                                                                                                          simplified_name  \\\n",
       "level_0   level_1                              level_2                                      level_3                                      level_4                         level_5                         level_6                                                                                            \n",
       "Diagnosis ICD-10-CM Diagnoses (2015) with ICD9 Diseases of the respiratory system (J00-J99) Acute upper respiratory infections (J00-J06) Acute laryngitis and tracheitis Acute laryngitis and tracheitis NaN                                                              Acute laryngitis and tracheitis   \n",
       "                                                                                                                                                                         Acute laryngitis                NaN                                                                             Acute laryngitis   \n",
       "                                                                                                                                                                                                         Acute laryngitis without mention of obstruction  Acute laryngitis without mention of obstruction   \n",
       "                                                                                                                                                                                                         Acute laryngitis                                                                Acute laryngitis   \n",
       "                                                                                                                                                                         Acute laryngotracheitis         NaN                                                                      Acute laryngotracheitis   \n",
       "\n",
       "                                                                                                                                                                                                                                                                                                       name  \\\n",
       "level_0   level_1                              level_2                                      level_3                                      level_4                         level_5                         level_6                                                                                              \n",
       "Diagnosis ICD-10-CM Diagnoses (2015) with ICD9 Diseases of the respiratory system (J00-J99) Acute upper respiratory infections (J00-J06) Acute laryngitis and tracheitis Acute laryngitis and tracheitis NaN                                              \\Diagnosis\\ICD-10-CM Diagnoses (2015) with ICD...   \n",
       "                                                                                                                                                                         Acute laryngitis                NaN                                              \\Diagnosis\\ICD-10-CM Diagnoses (2015) with ICD...   \n",
       "                                                                                                                                                                                                         Acute laryngitis without mention of obstruction  \\Diagnosis\\ICD-10-CM Diagnoses (2015) with ICD...   \n",
       "                                                                                                                                                                                                         Acute laryngitis                                 \\Diagnosis\\ICD-10-CM Diagnoses (2015) with ICD...   \n",
       "                                                                                                                                                                         Acute laryngotracheitis         NaN                                              \\Diagnosis\\ICD-10-CM Diagnoses (2015) with ICD...   \n",
       "\n",
       "                                                                                                                                                                                                                                                          observationCount  \\\n",
       "level_0   level_1                              level_2                                      level_3                                      level_4                         level_5                         level_6                                                             \n",
       "Diagnosis ICD-10-CM Diagnoses (2015) with ICD9 Diseases of the respiratory system (J00-J99) Acute upper respiratory infections (J00-J06) Acute laryngitis and tracheitis Acute laryngitis and tracheitis NaN                                                         421.0   \n",
       "                                                                                                                                                                         Acute laryngitis                NaN                                                         485.0   \n",
       "                                                                                                                                                                                                         Acute laryngitis without mention of obstruction             555.0   \n",
       "                                                                                                                                                                                                         Acute laryngitis                                            236.0   \n",
       "                                                                                                                                                                         Acute laryngotracheitis         NaN                                                         116.0   \n",
       "\n",
       "                                                                                                                                                                                                                                                          categorical  \\\n",
       "level_0   level_1                              level_2                                      level_3                                      level_4                         level_5                         level_6                                                        \n",
       "Diagnosis ICD-10-CM Diagnoses (2015) with ICD9 Diseases of the respiratory system (J00-J99) Acute upper respiratory infections (J00-J06) Acute laryngitis and tracheitis Acute laryngitis and tracheitis NaN                                                     True   \n",
       "                                                                                                                                                                         Acute laryngitis                NaN                                                     True   \n",
       "                                                                                                                                                                                                         Acute laryngitis without mention of obstruction         True   \n",
       "                                                                                                                                                                                                         Acute laryngitis                                        True   \n",
       "                                                                                                                                                                         Acute laryngotracheitis         NaN                                                     True   \n",
       "\n",
       "                                                                                                                                                                                                                                                                                             categoryValues  \\\n",
       "level_0   level_1                              level_2                                      level_3                                      level_4                         level_5                         level_6                                                                                              \n",
       "Diagnosis ICD-10-CM Diagnoses (2015) with ICD9 Diseases of the respiratory system (J00-J99) Acute upper respiratory infections (J00-J06) Acute laryngitis and tracheitis Acute laryngitis and tracheitis NaN                                                                             [Admitting, Final]   \n",
       "                                                                                                                                                                         Acute laryngitis                NaN                                              [Admitting, Billing Diagnosis, Discharge, Fina...   \n",
       "                                                                                                                                                                                                         Acute laryngitis without mention of obstruction  [Admitting, Billing Diagnosis, Discharge, Fina...   \n",
       "                                                                                                                                                                                                         Acute laryngitis                                                [Admitting, Discharge, Final, QCC]   \n",
       "                                                                                                                                                                         Acute laryngotracheitis         NaN                                              [Admitting, Billing Diagnosis, Discharge, Fina...   \n",
       "\n",
       "                                                                                                                                                                                                                                                          nb_modalities  \\\n",
       "level_0   level_1                              level_2                                      level_3                                      level_4                         level_5                         level_6                                                          \n",
       "Diagnosis ICD-10-CM Diagnoses (2015) with ICD9 Diseases of the respiratory system (J00-J99) Acute upper respiratory infections (J00-J06) Acute laryngitis and tracheitis Acute laryngitis and tracheitis NaN                                                        2.0   \n",
       "                                                                                                                                                                         Acute laryngitis                NaN                                                        5.0   \n",
       "                                                                                                                                                                                                         Acute laryngitis without mention of obstruction            7.0   \n",
       "                                                                                                                                                                                                         Acute laryngitis                                           4.0   \n",
       "                                                                                                                                                                         Acute laryngotracheitis         NaN                                                        5.0   \n",
       "\n",
       "                                                                                                                                                                                                                                                          min  \\\n",
       "level_0   level_1                              level_2                                      level_3                                      level_4                         level_5                         level_6                                                \n",
       "Diagnosis ICD-10-CM Diagnoses (2015) with ICD9 Diseases of the respiratory system (J00-J99) Acute upper respiratory infections (J00-J06) Acute laryngitis and tracheitis Acute laryngitis and tracheitis NaN                                              NaN   \n",
       "                                                                                                                                                                         Acute laryngitis                NaN                                              NaN   \n",
       "                                                                                                                                                                                                         Acute laryngitis without mention of obstruction  NaN   \n",
       "                                                                                                                                                                                                         Acute laryngitis                                 NaN   \n",
       "                                                                                                                                                                         Acute laryngotracheitis         NaN                                              NaN   \n",
       "\n",
       "                                                                                                                                                                                                                                                          max  \\\n",
       "level_0   level_1                              level_2                                      level_3                                      level_4                         level_5                         level_6                                                \n",
       "Diagnosis ICD-10-CM Diagnoses (2015) with ICD9 Diseases of the respiratory system (J00-J99) Acute upper respiratory infections (J00-J06) Acute laryngitis and tracheitis Acute laryngitis and tracheitis NaN                                              NaN   \n",
       "                                                                                                                                                                         Acute laryngitis                NaN                                              NaN   \n",
       "                                                                                                                                                                                                         Acute laryngitis without mention of obstruction  NaN   \n",
       "                                                                                                                                                                                                         Acute laryngitis                                 NaN   \n",
       "                                                                                                                                                                         Acute laryngotracheitis         NaN                                              NaN   \n",
       "\n",
       "                                                                                                                                                                                                                                                         HpdsDataType  \n",
       "level_0   level_1                              level_2                                      level_3                                      level_4                         level_5                         level_6                                                       \n",
       "Diagnosis ICD-10-CM Diagnoses (2015) with ICD9 Diseases of the respiratory system (J00-J99) Acute upper respiratory infections (J00-J06) Acute laryngitis and tracheitis Acute laryngitis and tracheitis NaN                                               phenotypes  \n",
       "                                                                                                                                                                         Acute laryngitis                NaN                                               phenotypes  \n",
       "                                                                                                                                                                                                         Acute laryngitis without mention of obstruction   phenotypes  \n",
       "                                                                                                                                                                                                         Acute laryngitis                                  phenotypes  \n",
       "                                                                                                                                                                         Acute laryngotracheitis         NaN                                               phenotypes  "
      ]
     },
     "execution_count": 15,
     "metadata": {},
     "output_type": "execute_result"
    }
   ],
   "source": [
    "# Cleaning up for preview of dataframe\n",
    "preview = resp_diseases_vars.head()\n",
    "preview.droplevel(['level_7', 'level_8', 'level_9'])"
   ]
  },
  {
   "cell_type": "markdown",
   "metadata": {},
   "source": [
    "Although pretty simple, it can be easily combined with other filters to quickly select one or more desired groups of variables."
   ]
  },
  {
   "cell_type": "markdown",
   "metadata": {},
   "source": [
    "## Querying and retrieving data: Epilepsy and *GRIN2A*"
   ]
  },
  {
   "cell_type": "markdown",
   "metadata": {},
   "source": [
    "The second cornerstone of the API is the `query` object. It is how we retrieve data from the resource."
   ]
  },
  {
   "cell_type": "markdown",
   "metadata": {},
   "source": [
    "First, we need to create a query object."
   ]
  },
  {
   "cell_type": "code",
   "execution_count": 16,
   "metadata": {},
   "outputs": [],
   "source": [
    "my_query = resource.query()"
   ]
  },
  {
   "cell_type": "markdown",
   "metadata": {},
   "source": [
    "The query object has several methods that enable to build a query.\n",
    "\n",
    "| Method | Arguments / Input | Output|\n",
    "|--------|-------------------|-------|\n",
    "| query.select.add() | variable names (string) or list of strings | all variables included in the list (no record subsetting)|\n",
    "| query.require.add() | variable names (string) or list of strings | all variables; only records that do not contain null values for input variables |\n",
    "| query.anyof.add() | variable names (string) or list of strings | all variables; only records that contain at least one non-null value for input variables |\n",
    "| query.filter.add() | variable name and additional filtering values | input variable; only records that match filter criteria |\n",
    "\n",
    "All 4 methods can be combined when building a query. The record eventually returned by the query have to meet all the different specified filters."
   ]
  },
  {
   "cell_type": "markdown",
   "metadata": {},
   "source": [
    "### Building the query\n",
    "In the following example, we are going to build a query to return data the counts of patients who:\n",
    "- had epilepsy and recurrent seizures\n",
    "- had a novel *GRIN2A* gene variant of high or moderate severity"
   ]
  },
  {
   "cell_type": "markdown",
   "metadata": {},
   "source": [
    "#### Add phenotypic variable: Epilepsy\n",
    "\n",
    "First, let's review the possible variable names with the term \"epilepsy\"."
   ]
  },
  {
   "cell_type": "code",
   "execution_count": 17,
   "metadata": {},
   "outputs": [
    {
     "data": {
      "text/html": [
       "<div>\n",
       "<style scoped>\n",
       "    .dataframe tbody tr th:only-of-type {\n",
       "        vertical-align: middle;\n",
       "    }\n",
       "\n",
       "    .dataframe tbody tr th {\n",
       "        vertical-align: top;\n",
       "    }\n",
       "\n",
       "    .dataframe thead th {\n",
       "        text-align: right;\n",
       "    }\n",
       "</style>\n",
       "<table border=\"1\" class=\"dataframe\">\n",
       "  <thead>\n",
       "    <tr style=\"text-align: right;\">\n",
       "      <th></th>\n",
       "      <th>categorical</th>\n",
       "      <th>categoryValues</th>\n",
       "      <th>patientCount</th>\n",
       "      <th>observationCount</th>\n",
       "      <th>HpdsDataType</th>\n",
       "    </tr>\n",
       "    <tr>\n",
       "      <th>KEY</th>\n",
       "      <th></th>\n",
       "      <th></th>\n",
       "      <th></th>\n",
       "      <th></th>\n",
       "      <th></th>\n",
       "    </tr>\n",
       "  </thead>\n",
       "  <tbody>\n",
       "    <tr>\n",
       "      <th>\\Diagnosis\\ICD-10-CM Diagnoses (2015) with ICD9\\Diseases of the nervous system (G00-G99)\\Episodic and paroxysmal disorders (G40-G47)\\Epilepsy and recurrent seizures\\Partial epilepsy, with impairment of consciousness\\</th>\n",
       "      <td>True</td>\n",
       "      <td>[Admitting, Final]</td>\n",
       "      <td>653</td>\n",
       "      <td>1237</td>\n",
       "      <td>phenotypes</td>\n",
       "    </tr>\n",
       "    <tr>\n",
       "      <th>\\Laboratory Results\\Laboratory\\Genetics Metabolism\\Childhood Epilepsy Sequencing Panel\\</th>\n",
       "      <td>True</td>\n",
       "      <td>[DUPLICATE, See Image]</td>\n",
       "      <td>14</td>\n",
       "      <td>15</td>\n",
       "      <td>phenotypes</td>\n",
       "    </tr>\n",
       "    <tr>\n",
       "      <th>\\Diagnosis\\ICD-10-CM Diagnoses (2015) with ICD9\\Diseases of the nervous system (G00-G99)\\Episodic and paroxysmal disorders (G40-G47)\\Epilepsy and recurrent seizures\\Epileptic seizures related to external causes\\Epileptic seizures related to external causes, not intractable\\Epileptic seizures related to external causes, not intractable, without status epilepticus\\Other forms of epilepsy, without mention of intractable epilepsy\\</th>\n",
       "      <td>True</td>\n",
       "      <td>[Admitting, Billing Diagnosis, Discharge, Fina...</td>\n",
       "      <td>2337</td>\n",
       "      <td>9509</td>\n",
       "      <td>phenotypes</td>\n",
       "    </tr>\n",
       "    <tr>\n",
       "      <th>\\Diagnosis\\ICD-10-CM Diagnoses (2015) with ICD9\\Diseases of the nervous system (G00-G99)\\Episodic and paroxysmal disorders (G40-G47)\\Epilepsy and recurrent seizures\\Epilepsy, unspecified\\Epilepsy, unspecified, not intractable\\Epilepsy, unspecified, not intractable, with status epilepticus\\Epilepsy, unspecified, without mention of intractable epilepsy\\</th>\n",
       "      <td>True</td>\n",
       "      <td>[Admitting, Billing Diagnosis, Discharge, Fina...</td>\n",
       "      <td>18142</td>\n",
       "      <td>85151</td>\n",
       "      <td>phenotypes</td>\n",
       "    </tr>\n",
       "    <tr>\n",
       "      <th>\\Diagnosis\\ICD-10-CM Diagnoses (2015) with ICD9\\Diseases of the nervous system (G00-G99)\\Episodic and paroxysmal disorders (G40-G47)\\Epilepsy and recurrent seizures\\Localization-related (focal) (partial) symptomatic epilepsy and epileptic syndromes with complex partial seizures\\Localization-related (focal) (partial) symptomatic epilepsy and epileptic syndromes with complex partial seizures, not intractable\\Localization-related (focal) (partial) symptomatic epilepsy and epileptic syndromes with complex partial seizures, not intractable, without status epilepticus\\</th>\n",
       "      <td>True</td>\n",
       "      <td>[Admitting, Billing Diagnosis, Discharge, Fina...</td>\n",
       "      <td>3014</td>\n",
       "      <td>25638</td>\n",
       "      <td>phenotypes</td>\n",
       "    </tr>\n",
       "    <tr>\n",
       "      <th>...</th>\n",
       "      <td>...</td>\n",
       "      <td>...</td>\n",
       "      <td>...</td>\n",
       "      <td>...</td>\n",
       "      <td>...</td>\n",
       "    </tr>\n",
       "    <tr>\n",
       "      <th>\\Diagnosis\\ICD-10-CM Diagnoses (2015) with ICD9\\Diseases of the nervous system (G00-G99)\\Episodic and paroxysmal disorders (G40-G47)\\Epilepsy and recurrent seizures\\Localization-related (focal) (partial) symptomatic epilepsy and epileptic syndromes with complex partial seizures\\Localization-related (focal) (partial) symptomatic epilepsy and epileptic syndromes with complex partial seizures, not intractable\\Localization-related (focal) (partial) symptomatic epilepsy and epileptic syndromes with complex partial seizures, not intractable, without status epilepticus\\Partial epilepsy, with impairment of consciousness, without mention of intractable epilepsy\\</th>\n",
       "      <td>True</td>\n",
       "      <td>[Admitting, Billing Diagnosis, Discharge, Fina...</td>\n",
       "      <td>11306</td>\n",
       "      <td>51611</td>\n",
       "      <td>phenotypes</td>\n",
       "    </tr>\n",
       "    <tr>\n",
       "      <th>\\Diagnosis\\ICD-10-CM Diagnoses (2015) with ICD9\\Diseases of the nervous system (G00-G99)\\Episodic and paroxysmal disorders (G40-G47)\\Epilepsy and recurrent seizures\\Other generalized epilepsy and epileptic syndromes\\Other generalized epilepsy and epileptic syndromes, not intractable\\Other generalized epilepsy and epileptic syndromes, not intractable, without status epilepticus\\</th>\n",
       "      <td>True</td>\n",
       "      <td>[Admitting, Billing Diagnosis, Discharge, Fina...</td>\n",
       "      <td>3036</td>\n",
       "      <td>22457</td>\n",
       "      <td>phenotypes</td>\n",
       "    </tr>\n",
       "    <tr>\n",
       "      <th>\\Diagnosis\\ICD-10-CM Diagnoses (2015) with ICD9\\Diseases of the nervous system (G00-G99)\\Episodic and paroxysmal disorders (G40-G47)\\Epilepsy and recurrent seizures\\Other epilepsy and recurrent seizures\\Other epilepsy\\Other epilepsy, not intractable, without status epilepticus\\Other forms of epilepsy, without mention of intractable epilepsy\\</th>\n",
       "      <td>True</td>\n",
       "      <td>[Admitting, Billing Diagnosis, Discharge, Fina...</td>\n",
       "      <td>2337</td>\n",
       "      <td>9509</td>\n",
       "      <td>phenotypes</td>\n",
       "    </tr>\n",
       "    <tr>\n",
       "      <th>\\Diagnosis\\ICD-10-CM Diagnoses (2015) with ICD9\\Diseases of the nervous system (G00-G99)\\Episodic and paroxysmal disorders (G40-G47)\\Epilepsy and recurrent seizures\\Localization-related (focal) (partial) symptomatic epilepsy and epileptic syndromes with complex partial seizures\\Localization-related (focal) (partial) symptomatic epilepsy and epileptic syndromes with complex partial seizures, intractable\\Localization-related (focal) (partial) symptomatic epilepsy and epileptic syndromes with complex partial seizures, intractable, without status epilepticus\\</th>\n",
       "      <td>True</td>\n",
       "      <td>[Admitting, Billing Diagnosis, Discharge, Fina...</td>\n",
       "      <td>2194</td>\n",
       "      <td>25999</td>\n",
       "      <td>phenotypes</td>\n",
       "    </tr>\n",
       "    <tr>\n",
       "      <th>\\Laboratory Results\\Laboratory\\Genetics Metabolism\\Progressive Myoclonic Epilepsy Panel\\</th>\n",
       "      <td>True</td>\n",
       "      <td>[See Image]</td>\n",
       "      <td>1</td>\n",
       "      <td>1</td>\n",
       "      <td>phenotypes</td>\n",
       "    </tr>\n",
       "  </tbody>\n",
       "</table>\n",
       "<p>110 rows × 5 columns</p>\n",
       "</div>"
      ],
      "text/plain": [
       "                                                    categorical  \\\n",
       "KEY                                                               \n",
       "\\Diagnosis\\ICD-10-CM Diagnoses (2015) with ICD9...         True   \n",
       "\\Laboratory Results\\Laboratory\\Genetics Metabol...         True   \n",
       "\\Diagnosis\\ICD-10-CM Diagnoses (2015) with ICD9...         True   \n",
       "\\Diagnosis\\ICD-10-CM Diagnoses (2015) with ICD9...         True   \n",
       "\\Diagnosis\\ICD-10-CM Diagnoses (2015) with ICD9...         True   \n",
       "...                                                         ...   \n",
       "\\Diagnosis\\ICD-10-CM Diagnoses (2015) with ICD9...         True   \n",
       "\\Diagnosis\\ICD-10-CM Diagnoses (2015) with ICD9...         True   \n",
       "\\Diagnosis\\ICD-10-CM Diagnoses (2015) with ICD9...         True   \n",
       "\\Diagnosis\\ICD-10-CM Diagnoses (2015) with ICD9...         True   \n",
       "\\Laboratory Results\\Laboratory\\Genetics Metabol...         True   \n",
       "\n",
       "                                                                                       categoryValues  \\\n",
       "KEY                                                                                                     \n",
       "\\Diagnosis\\ICD-10-CM Diagnoses (2015) with ICD9...                                 [Admitting, Final]   \n",
       "\\Laboratory Results\\Laboratory\\Genetics Metabol...                             [DUPLICATE, See Image]   \n",
       "\\Diagnosis\\ICD-10-CM Diagnoses (2015) with ICD9...  [Admitting, Billing Diagnosis, Discharge, Fina...   \n",
       "\\Diagnosis\\ICD-10-CM Diagnoses (2015) with ICD9...  [Admitting, Billing Diagnosis, Discharge, Fina...   \n",
       "\\Diagnosis\\ICD-10-CM Diagnoses (2015) with ICD9...  [Admitting, Billing Diagnosis, Discharge, Fina...   \n",
       "...                                                                                               ...   \n",
       "\\Diagnosis\\ICD-10-CM Diagnoses (2015) with ICD9...  [Admitting, Billing Diagnosis, Discharge, Fina...   \n",
       "\\Diagnosis\\ICD-10-CM Diagnoses (2015) with ICD9...  [Admitting, Billing Diagnosis, Discharge, Fina...   \n",
       "\\Diagnosis\\ICD-10-CM Diagnoses (2015) with ICD9...  [Admitting, Billing Diagnosis, Discharge, Fina...   \n",
       "\\Diagnosis\\ICD-10-CM Diagnoses (2015) with ICD9...  [Admitting, Billing Diagnosis, Discharge, Fina...   \n",
       "\\Laboratory Results\\Laboratory\\Genetics Metabol...                                        [See Image]   \n",
       "\n",
       "                                                    patientCount  \\\n",
       "KEY                                                                \n",
       "\\Diagnosis\\ICD-10-CM Diagnoses (2015) with ICD9...           653   \n",
       "\\Laboratory Results\\Laboratory\\Genetics Metabol...            14   \n",
       "\\Diagnosis\\ICD-10-CM Diagnoses (2015) with ICD9...          2337   \n",
       "\\Diagnosis\\ICD-10-CM Diagnoses (2015) with ICD9...         18142   \n",
       "\\Diagnosis\\ICD-10-CM Diagnoses (2015) with ICD9...          3014   \n",
       "...                                                          ...   \n",
       "\\Diagnosis\\ICD-10-CM Diagnoses (2015) with ICD9...         11306   \n",
       "\\Diagnosis\\ICD-10-CM Diagnoses (2015) with ICD9...          3036   \n",
       "\\Diagnosis\\ICD-10-CM Diagnoses (2015) with ICD9...          2337   \n",
       "\\Diagnosis\\ICD-10-CM Diagnoses (2015) with ICD9...          2194   \n",
       "\\Laboratory Results\\Laboratory\\Genetics Metabol...             1   \n",
       "\n",
       "                                                    observationCount  \\\n",
       "KEY                                                                    \n",
       "\\Diagnosis\\ICD-10-CM Diagnoses (2015) with ICD9...              1237   \n",
       "\\Laboratory Results\\Laboratory\\Genetics Metabol...                15   \n",
       "\\Diagnosis\\ICD-10-CM Diagnoses (2015) with ICD9...              9509   \n",
       "\\Diagnosis\\ICD-10-CM Diagnoses (2015) with ICD9...             85151   \n",
       "\\Diagnosis\\ICD-10-CM Diagnoses (2015) with ICD9...             25638   \n",
       "...                                                              ...   \n",
       "\\Diagnosis\\ICD-10-CM Diagnoses (2015) with ICD9...             51611   \n",
       "\\Diagnosis\\ICD-10-CM Diagnoses (2015) with ICD9...             22457   \n",
       "\\Diagnosis\\ICD-10-CM Diagnoses (2015) with ICD9...              9509   \n",
       "\\Diagnosis\\ICD-10-CM Diagnoses (2015) with ICD9...             25999   \n",
       "\\Laboratory Results\\Laboratory\\Genetics Metabol...                 1   \n",
       "\n",
       "                                                   HpdsDataType  \n",
       "KEY                                                              \n",
       "\\Diagnosis\\ICD-10-CM Diagnoses (2015) with ICD9...   phenotypes  \n",
       "\\Laboratory Results\\Laboratory\\Genetics Metabol...   phenotypes  \n",
       "\\Diagnosis\\ICD-10-CM Diagnoses (2015) with ICD9...   phenotypes  \n",
       "\\Diagnosis\\ICD-10-CM Diagnoses (2015) with ICD9...   phenotypes  \n",
       "\\Diagnosis\\ICD-10-CM Diagnoses (2015) with ICD9...   phenotypes  \n",
       "...                                                         ...  \n",
       "\\Diagnosis\\ICD-10-CM Diagnoses (2015) with ICD9...   phenotypes  \n",
       "\\Diagnosis\\ICD-10-CM Diagnoses (2015) with ICD9...   phenotypes  \n",
       "\\Diagnosis\\ICD-10-CM Diagnoses (2015) with ICD9...   phenotypes  \n",
       "\\Diagnosis\\ICD-10-CM Diagnoses (2015) with ICD9...   phenotypes  \n",
       "\\Laboratory Results\\Laboratory\\Genetics Metabol...   phenotypes  \n",
       "\n",
       "[110 rows x 5 columns]"
      ]
     },
     "execution_count": 17,
     "metadata": {},
     "output_type": "execute_result"
    }
   ],
   "source": [
    "epilepsy_search = dictionary.find(\"epilepsy\").DataFrame()\n",
    "epilepsy_search"
   ]
  },
  {
   "cell_type": "markdown",
   "metadata": {},
   "source": [
    "We are interested in all variables pertaining to \"Epilepsy and recurrent seizures\", which is listed as one of the levels in the concept paths shown in the \"KEY\" column. We will now filter to all variables that meet this criteria."
   ]
  },
  {
   "cell_type": "code",
   "execution_count": 18,
   "metadata": {},
   "outputs": [],
   "source": [
    "mask_epilepsy = [\"Epilepsy and recurrent seizures\" in i for i in epilepsy_search.index]\n",
    "epilepsy_vars = list(epilepsy_search[mask_epilepsy].index)"
   ]
  },
  {
   "cell_type": "markdown",
   "metadata": {},
   "source": [
    "Now we can add these variables to our query. We can also view the patient count using the `getCount()` method."
   ]
  },
  {
   "cell_type": "code",
   "execution_count": 19,
   "metadata": {},
   "outputs": [
    {
     "data": {
      "text/plain": [
       "44632"
      ]
     },
     "execution_count": 19,
     "metadata": {},
     "output_type": "execute_result"
    }
   ],
   "source": [
    "my_query.anyof().add(epilepsy_vars)\n",
    "my_query.getCount()"
   ]
  },
  {
   "cell_type": "markdown",
   "metadata": {},
   "source": [
    "#### Add genomic variable: *GRIN2A*\n",
    "\n",
    "Next, we will filter to the gene *GRIN2A*. We can do this by filtering the \"Gene_with_variant\" key to the \"GRIN2A\" value."
   ]
  },
  {
   "cell_type": "code",
   "execution_count": 20,
   "metadata": {},
   "outputs": [
    {
     "data": {
      "text/plain": [
       "['Gene_with_variant']"
      ]
     },
     "execution_count": 20,
     "metadata": {},
     "output_type": "execute_result"
    }
   ],
   "source": [
    "gene_search = dictionary.find(\"Gene_with_variant\").keys()\n",
    "gene_search"
   ]
  },
  {
   "cell_type": "code",
   "execution_count": 21,
   "metadata": {},
   "outputs": [
    {
     "data": {
      "text/plain": [
       "928"
      ]
     },
     "execution_count": 21,
     "metadata": {},
     "output_type": "execute_result"
    }
   ],
   "source": [
    "my_query.filter().add(gene_search, \"GRIN2A\")\n",
    "my_query.getCount()"
   ]
  },
  {
   "cell_type": "markdown",
   "metadata": {},
   "source": [
    "#### Add genomic variable: Variant severity\n",
    "\n",
    "We will filter to variants of high severity using the \"Variant_severity\" key with \"High\" and \"Moderate\" values."
   ]
  },
  {
   "cell_type": "code",
   "execution_count": 22,
   "metadata": {},
   "outputs": [
    {
     "data": {
      "text/plain": [
       "['Variant_severity']"
      ]
     },
     "execution_count": 22,
     "metadata": {},
     "output_type": "execute_result"
    }
   ],
   "source": [
    "severity_search = dictionary.find(\"Variant_severity\").keys()\n",
    "severity_search"
   ]
  },
  {
   "cell_type": "code",
   "execution_count": 23,
   "metadata": {},
   "outputs": [
    {
     "data": {
      "text/plain": [
       "45"
      ]
     },
     "execution_count": 23,
     "metadata": {},
     "output_type": "execute_result"
    }
   ],
   "source": [
    "my_query.filter().add(severity_search, [\"HIGH\", \"MODERATE\"])\n",
    "my_query.getCount()"
   ]
  },
  {
   "cell_type": "markdown",
   "metadata": {},
   "source": [
    "#### Add genomic variable: Variant frequency\n",
    "\n",
    "Finally, we will filter to novel variants. Let's take a look at the \"Variant_frequency\" variable options."
   ]
  },
  {
   "cell_type": "code",
   "execution_count": 24,
   "metadata": {},
   "outputs": [
    {
     "data": {
      "text/html": [
       "<div>\n",
       "<style scoped>\n",
       "    .dataframe tbody tr th:only-of-type {\n",
       "        vertical-align: middle;\n",
       "    }\n",
       "\n",
       "    .dataframe tbody tr th {\n",
       "        vertical-align: top;\n",
       "    }\n",
       "\n",
       "    .dataframe thead th {\n",
       "        text-align: right;\n",
       "    }\n",
       "</style>\n",
       "<table border=\"1\" class=\"dataframe\">\n",
       "  <thead>\n",
       "    <tr style=\"text-align: right;\">\n",
       "      <th></th>\n",
       "      <th>description</th>\n",
       "      <th>HpdsDataType</th>\n",
       "      <th>categorical</th>\n",
       "      <th>categoryValues</th>\n",
       "    </tr>\n",
       "    <tr>\n",
       "      <th>KEY</th>\n",
       "      <th></th>\n",
       "      <th></th>\n",
       "      <th></th>\n",
       "      <th></th>\n",
       "    </tr>\n",
       "  </thead>\n",
       "  <tbody>\n",
       "    <tr>\n",
       "      <th>Variant_frequency_as_text</th>\n",
       "      <td>Description=\"The variant allele frequency in g...</td>\n",
       "      <td>info</td>\n",
       "      <td>True</td>\n",
       "      <td>[Novel, Rare, Common]</td>\n",
       "    </tr>\n",
       "  </tbody>\n",
       "</table>\n",
       "</div>"
      ],
      "text/plain": [
       "                                                                 description  \\\n",
       "KEY                                                                            \n",
       "Variant_frequency_as_text  Description=\"The variant allele frequency in g...   \n",
       "\n",
       "                          HpdsDataType  categorical         categoryValues  \n",
       "KEY                                                                         \n",
       "Variant_frequency_as_text         info         True  [Novel, Rare, Common]  "
      ]
     },
     "execution_count": 24,
     "metadata": {},
     "output_type": "execute_result"
    }
   ],
   "source": [
    "frequency_search = dictionary.find(\"Variant_frequency\").DataFrame()\n",
    "frequency_search"
   ]
  },
  {
   "cell_type": "markdown",
   "metadata": {},
   "source": [
    "\"Variant_frequency_as_text\" has category values of Novel, Rare, and Common. Since we are interested in novel variants, we will use this key moving forward."
   ]
  },
  {
   "cell_type": "code",
   "execution_count": 25,
   "metadata": {},
   "outputs": [
    {
     "data": {
      "text/plain": [
       "9"
      ]
     },
     "execution_count": 25,
     "metadata": {},
     "output_type": "execute_result"
    }
   ],
   "source": [
    "my_query.filter().add(\"Variant_frequency_as_text\", \"Novel\")\n",
    "my_query.getCount()"
   ]
  },
  {
   "cell_type": "markdown",
   "metadata": {},
   "source": [
    "### Retrieving query counts: Percentage of patients with gene variants and epilepsies"
   ]
  },
  {
   "cell_type": "markdown",
   "metadata": {},
   "source": [
    "The genetic associations of different epilepsies are explored and listed in [this article](https://www.sciencedirect.com/science/article/pii/S1059131116302989). We can explore these results in the PrecisionLink Biobank to determine the percentage of patients with different epilepsies that possess variants in different genes.\n",
    "\n",
    "First we will initialize a new query."
   ]
  },
  {
   "cell_type": "code",
   "execution_count": 32,
   "metadata": {},
   "outputs": [],
   "source": [
    "epi_query = resource.query()"
   ]
  },
  {
   "cell_type": "markdown",
   "metadata": {},
   "source": [
    "Then we will select the epilepsies we are interested in. For this example, let's use the first ten epilepsy variables that we identified in the prior example.\n",
    "\n",
    "We can add these variables to the query using `crosscounts()` to retrieve the number of patients that meet our criteria for each variable. "
   ]
  },
  {
   "cell_type": "code",
   "execution_count": 33,
   "metadata": {},
   "outputs": [
    {
     "data": {
      "text/plain": [
       "<PicSureHpdsLib.PicSureHpdsAttrListKeys.AttrListKeys at 0x7fa21b371be0>"
      ]
     },
     "execution_count": 33,
     "metadata": {},
     "output_type": "execute_result"
    }
   ],
   "source": [
    "epilepsy_vars_subset = epilepsy_vars[0:10]\n",
    "epi_query.crosscounts().add(epilepsy_vars_subset)"
   ]
  },
  {
   "cell_type": "markdown",
   "metadata": {},
   "source": [
    "We can identify a list of genes that we are interested in. These genes were taken from the article linked above."
   ]
  },
  {
   "cell_type": "code",
   "execution_count": 34,
   "metadata": {},
   "outputs": [],
   "source": [
    "gene_list = ['GABRG2', 'SCN1A', 'CLCN2', 'EFHC1', 'GABRD']"
   ]
  },
  {
   "cell_type": "markdown",
   "metadata": {},
   "source": [
    "Now we can use code to find:\n",
    "\n",
    "1. The total number of patients with genomic data with each type of epilepsy. This is accomplished using the `Variant_severity` filter.\n",
    "2. The number of patients with each gene variant and each type of epilepsy. This is accomplished using the `Gene_with_variant` filter.\n",
    "\n",
    "Essentially, we will be creating a heatmap of the percentage of patients that have a high or moderate severity  variant in the gene of interest for each epilepsy phenotype out of the total number of patients that have variant data and the epilepsy phenotype."
   ]
  },
  {
   "cell_type": "code",
   "execution_count": 35,
   "metadata": {},
   "outputs": [
    {
     "name": "stdout",
     "output_type": "stream",
     "text": [
      "Deleted key: Gene_with_variant\n",
      "Deleted key: Gene_with_variant\n",
      "Deleted key: Gene_with_variant\n",
      "Deleted key: Gene_with_variant\n",
      "Deleted key: Gene_with_variant\n"
     ]
    }
   ],
   "source": [
    "# Initialize empty lists for results\n",
    "full_counts = []\n",
    "results = []\n",
    "\n",
    "# Go through each gene of interest \n",
    "epi_query.filter().add(\"Variant_severity\", [\"HIGH\", \"MODERATE\"])\n",
    "for genes in gene_list:\n",
    "    # Find total number of patients with genomic data using Variant_severity\n",
    "     # Add filter\n",
    "    counts = epi_query.getCrossCounts().values() # Get counts for each epilepsy variable\n",
    "    for i in counts:\n",
    "        full_counts.append(i)\n",
    "    \n",
    "    # Find total number of patients with gene variant using Gene_with_variant\n",
    "    epi_query.filter().add(\"Gene_with_variant\", genes) # Add filter\n",
    "    res = epi_query.getCrossCounts().values() # Get counts for each epilepsy variable\n",
    "    for i in res:\n",
    "        results.append(i)\n",
    "    epi_query.filter().delete(\"Gene_with_variant\") # Remove filter"
   ]
  },
  {
   "cell_type": "markdown",
   "metadata": {},
   "source": [
    "Now that we have retrieved our counts, we can calculate the percentage of patients that have high or moderate gene variants and use our resulting dataframe to create a heatmap."
   ]
  },
  {
   "cell_type": "code",
   "execution_count": 36,
   "metadata": {},
   "outputs": [],
   "source": [
    "final = np.array(results).reshape(5, 10)\n",
    "final = np.transpose(final)\n",
    "\n",
    "full_final = np.array(full_counts).reshape(5, 10)\n",
    "full_final = np.transpose(full_final)\n",
    "\n",
    "full_results = final/full_final"
   ]
  },
  {
   "cell_type": "code",
   "execution_count": 37,
   "metadata": {},
   "outputs": [],
   "source": [
    "# For labelling purposes\n",
    "for_plotting = []\n",
    "for var in epilepsy_vars_subset:\n",
    "    for_plotting.append(var.split('\\\\')[-2])"
   ]
  },
  {
   "cell_type": "code",
   "execution_count": 38,
   "metadata": {},
   "outputs": [
    {
     "data": {
      "image/png": "[encoded data removed]",
      "text/plain": [
       "<Figure size 1008x576 with 2 Axes>"
      ]
     },
     "metadata": {
      "needs_background": "light"
     },
     "output_type": "display_data"
    }
   ],
   "source": [
    "ax = sns.heatmap(full_results, yticklabels = for_plotting, xticklabels=gene_list)\n",
    "ax.set_title(\"Percentage of patients with gene variants and epilepsy\")\n",
    "plt.show()"
   ]
  }
 ],
 "metadata": {
  "kernelspec": {
   "display_name": "Python 3",
   "language": "python",
   "name": "python3"
  },
  "language_info": {
   "codemirror_mode": {
    "name": "ipython",
    "version": 3
   },
   "file_extension": ".py",
   "mimetype": "text/x-python",
   "name": "python",
   "nbconvert_exporter": "python",
   "pygments_lexer": "ipython3",
   "version": "3.7.3"
  }
 },
 "nbformat": 4,
 "nbformat_minor": 5
}
