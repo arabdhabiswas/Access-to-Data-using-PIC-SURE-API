{
 "cells": [
  {
   "cell_type": "markdown",
   "id": "b0090eef-1940-4f12-bf1a-c7141c419d8d",
   "metadata": {},
   "source": [
    "# PIC-SURE API for PrecisionLink Biobank"
   ]
  },
  {
   "cell_type": "markdown",
   "id": "abe75163-095b-42a7-be73-d7de21f66067",
   "metadata": {},
   "source": [
    "The PrecisionLink Biobank is a Boston Children’s Hospital institutional resource that\n",
    "provides a centralized source of prospectively consented participants. To date, the\n",
    "Biobank has enrolled over 15,000 patients and families, who have contributed health\n",
    "data and biological samples for broad research use. Investigators are able to search the\n",
    "holdings of the Biobank using the [PrecisionLink Biobank Portal](http://biobank.childrens.harvard.edu/).\n",
    "\n",
    "The PrecisionLink Biobank Portal grants investigators access to genotype,\n",
    "biospecimen, and clinical data - including clinical notes - from one search tool.\n",
    "Furthermore, investigators are able to conduct multi-stage queries with any combination\n",
    "of data criteria.\n",
    "\n",
    "The Biobank is constantly growing through prospective enrollment of a broadly\n",
    "consented cohort of patients and families, who can be re-contacted for additional\n",
    "research opportunities."
   ]
  },
  {
   "cell_type": "markdown",
   "id": "99421590-1a87-4279-8a72-8b7b39419df9",
   "metadata": {},
   "source": [
    "## PIC-SURE python API\n",
    "### What is PIC-SURE?\n",
    "\n",
    "The Patient Information Commons Standard Unification of Research Elements (PIC-SURE) platform integrates clinical and genomic data from the PrecisionLink Biobank.\n",
    "\n",
    "Original data exposed through the PIC-SURE API encompasses a large heterogeneity of data organization underneath. PIC-SURE hides this complexity and exposes the different study datasets in a single tabular format. By simplifying the process of data extraction, it allows investigators to focus on downstream analysis and to facilitate reproducible science.\n",
    "\n",
    "More about PIC-SURE\n",
    "The API is available in two different programming languages, python and R, enabling investigators to query the databases the same way using either language.\n",
    "\n",
    "PIC-SURE is a larger project from which the R/python PIC-SURE API is only a brick. Among other things, PIC-SURE also offers a graphical user interface that allows researchers to explore variables across multiple studies, filter patients that match criteria, and create cohorts from this interactive exploration.\n",
    "\n",
    "The python API is actively developed by the Avillach Lab at Harvard Medical School.\n",
    "\n",
    "PIC-SURE API GitHub repo:\n",
    "\n",
    "https://github.com/hms-dbmi/Access-to-Data-using-PIC-SURE-API/tree/master\n"
   ]
  },
  {
   "cell_type": "markdown",
   "id": "307a0602-e01a-47ce-8668-e1c4ecd06f3c",
   "metadata": {},
   "source": [
    " -------   "
   ]
  },
  {
   "cell_type": "markdown",
   "id": "8e60cc31-af7f-44a9-ac51-d69ec7f6ec6f",
   "metadata": {},
   "source": [
    "# Getting your own user-specific security token"
   ]
  },
  {
   "cell_type": "markdown",
   "id": "b1a86994-8ca4-4112-a4f8-4e6f11d8c5da",
   "metadata": {},
   "source": [
    "**Before running this notebook, please be sure to review the \"Get your security token\" documentation, which exists in the BCH_Precision_Link [README.md file](https://github.com/hms-dbmi/Access-to-Data-using-PIC-SURE-API/tree/master). It explains about how to get a security token, which is mandatory to access the databases.**"
   ]
  },
  {
   "cell_type": "markdown",
   "id": "3054fb58-1132-4787-a668-aa5e166c7754",
   "metadata": {},
   "source": [
    "# Environment set-up"
   ]
  },
  {
   "cell_type": "markdown",
   "id": "ab6b5ccb-dd00-4919-8651-20d6a0b02944",
   "metadata": {},
   "source": [
    "### Pre-requisites\n",
    "- python 3.6 or later\n",
    "- pip python package manager, already available in most systems with a python interpreter installed ([pip installation instructions](https://pip.pypa.io/en/stable/installing/))"
   ]
  },
  {
   "cell_type": "markdown",
   "id": "58cb0684-02ae-40b9-8822-bc19fdd4f8c0",
   "metadata": {},
   "source": [
    "### Install Packages\n",
    "\n",
    "Install the following:\n",
    "- packages listed in the `requirements.txt` file (listed below, along with version numbers)\n",
    "- PIC-SURE API components (from Github)\n",
    "    - PIC-SURE Adapter \n",
    "    - PIC-SURE Client"
   ]
  },
  {
   "cell_type": "code",
   "execution_count": null,
   "id": "97f3fc80-a8ec-4e20-b26a-dd6a04ce219b",
   "metadata": {
    "tags": []
   },
   "outputs": [],
   "source": [
    "!cat requirements.txt"
   ]
  },
  {
   "cell_type": "code",
   "execution_count": null,
   "id": "1c3cbb6d-731a-4de8-abaa-09d502a95682",
   "metadata": {
    "tags": []
   },
   "outputs": [],
   "source": [
    "import sys\n",
    "!{sys.executable} -m pip install -r requirements.txt"
   ]
  },
  {
   "cell_type": "code",
   "execution_count": null,
   "id": "8d5564a2-6775-490d-b02f-a9bb5a0a1e6e",
   "metadata": {
    "tags": []
   },
   "outputs": [],
   "source": [
    "!{sys.executable} -m pip install --upgrade --force-reinstall git+https://github.com/hms-dbmi/pic-sure-python-adapter-hpds.git\n",
    "!{sys.executable} -m pip install --upgrade --force-reinstall git+https://github.com/hms-dbmi/pic-sure-python-client.git"
   ]
  },
  {
   "cell_type": "markdown",
   "id": "5461b23c-eb8f-4740-911b-4f3810335339",
   "metadata": {},
   "source": [
    "Import all the external dependencies"
   ]
  },
  {
   "cell_type": "code",
   "execution_count": null,
   "id": "3f991a5a-3706-4a98-b894-f064738249fc",
   "metadata": {},
   "outputs": [],
   "source": [
    "import json\n",
    "from pprint import pprint\n",
    "\n",
    "import pandas as pd\n",
    "import numpy as np \n",
    "import matplotlib.pyplot as plt\n",
    "from scipy import stats\n",
    "\n",
    "import PicSureHpdsLib\n",
    "import PicSureClient"
   ]
  },
  {
   "cell_type": "markdown",
   "id": "0a628c7d-e86a-4ab7-bff6-a5659d216918",
   "metadata": {},
   "source": [
    "Set the display parameter for tables and plots"
   ]
  },
  {
   "cell_type": "code",
   "execution_count": null,
   "id": "346c8f5e-9a8b-4655-a061-055964615cc3",
   "metadata": {},
   "outputs": [],
   "source": [
    "# Pandas DataFrame display options\n",
    "pd.set_option(\"max.rows\", 100)\n",
    "\n",
    "# Matplotlib display parameters\n",
    "plt.rcParams[\"figure.figsize\"] = (14,8)\n",
    "font = {'weight' : 'bold',\n",
    "        'size'   : 12}\n",
    "plt.rc('font', **font)"
   ]
  },
  {
   "cell_type": "markdown",
   "id": "30c2acc6-a25c-4248-8657-61362530d531",
   "metadata": {},
   "source": [
    "## Connecting to a PIC-SURE resource"
   ]
  },
  {
   "cell_type": "markdown",
   "id": "81f0b91c-7f32-47e2-a7e5-d0a7e475a7e7",
   "metadata": {},
   "source": [
    "The following is required to get access to data through the PIC-SURE API: \n",
    "- a network URL\n",
    "- a resource id, and \n",
    "- a user-specific security token."
   ]
  },
  {
   "cell_type": "markdown",
   "id": "d83f9c1d-6c40-41cb-9433-22a3b8db73fd",
   "metadata": {},
   "source": [
    "If you have not already retrieved your user-specific token, please refer to the \"Get your security token\" section of the [README.md](https://github.com/hms-dbmi/Access-to-Data-using-PIC-SURE-API/tree/master/NHLBI_BioData_Catalyst#get-your-security-token) file."
   ]
  },
  {
   "cell_type": "code",
   "execution_count": null,
   "id": "41011cc4-90ed-41e7-a614-2a0479e1d819",
   "metadata": {},
   "outputs": [],
   "source": [
    "PICSURE_network_URL = \"https://precisionlink-biobank4discovery.childrens.harvard.edu/picsure/\"\n",
    "resource_id = \"6aa47730-3288-4c45-bfa1-5a8730666016\"\n",
    "token_file = \"token.txt\""
   ]
  },
  {
   "cell_type": "code",
   "execution_count": null,
   "id": "f9cdf3db-7656-4348-b506-b8d57415978c",
   "metadata": {},
   "outputs": [],
   "source": [
    "with open(token_file, \"r\") as f:\n",
    "    my_token = f.read()"
   ]
  },
  {
   "cell_type": "code",
   "execution_count": null,
   "id": "79bfd042-ef07-4e5d-a51b-16417cc082ab",
   "metadata": {},
   "outputs": [],
   "source": [
    "client = PicSureClient.Client()\n",
    "connection = client.connect(PICSURE_network_URL, my_token, True)\n",
    "adapter = PicSureHpdsLib.Adapter(connection)\n",
    "resource = adapter.useResource(resource_id)"
   ]
  },
  {
   "cell_type": "markdown",
   "id": "1c7ec475-ad52-4163-9a43-e1ec18f3bbad",
   "metadata": {},
   "source": [
    "Two objects are created here: a `connection` and a `resource` object.\n",
    "\n",
    "Since will only be using a single resource, **the `resource` object is actually the only one we will need to proceed with data analysis hereafter**. \n",
    "\n",
    "It is connected to the specific data source ID we specified and enables us to query and retrieve data from this database."
   ]
  },
  {
   "cell_type": "code",
   "execution_count": null,
   "id": "e935e486-760f-42fe-bc8e-fa13f673a339",
   "metadata": {},
   "outputs": [],
   "source": []
  }
 ],
 "metadata": {
  "kernelspec": {
   "display_name": "Python 3",
   "language": "python",
   "name": "python3"
  },
  "language_info": {
   "codemirror_mode": {
    "name": "ipython",
    "version": 3
   },
   "file_extension": ".py",
   "mimetype": "text/x-python",
   "name": "python",
   "nbconvert_exporter": "python",
   "pygments_lexer": "ipython3",
   "version": "3.8.8"
  }
 },
 "nbformat": 4,
 "nbformat_minor": 5
}
