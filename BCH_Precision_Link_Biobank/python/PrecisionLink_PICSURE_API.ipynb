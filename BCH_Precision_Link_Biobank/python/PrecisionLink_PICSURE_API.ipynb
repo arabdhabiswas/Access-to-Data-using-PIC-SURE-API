{
 "cells": [
  {
   "cell_type": "markdown",
   "id": "b0090eef-1940-4f12-bf1a-c7141c419d8d",
   "metadata": {},
   "source": [
    "# PIC-SURE API for PrecisionLink Biobank"
   ]
  },
  {
   "cell_type": "markdown",
   "id": "abe75163-095b-42a7-be73-d7de21f66067",
   "metadata": {},
   "source": [
    "The PrecisionLink Biobank is a Boston Children’s Hospital institutional resource that\n",
    "provides a centralized source of prospectively consented participants. To date, the\n",
    "Biobank has enrolled over 15,000 patients and families, who have contributed health\n",
    "data and biological samples for broad research use. Investigators are able to search the\n",
    "holdings of the Biobank using the [PrecisionLink Biobank Portal](http://biobank.childrens.harvard.edu/).\n",
    "\n",
    "The PrecisionLink Biobank Portal grants investigators access to genotype,\n",
    "biospecimen, and clinical data - including clinical notes - from one search tool.\n",
    "Furthermore, investigators are able to conduct multi-stage queries with any combination\n",
    "of data criteria.\n",
    "\n",
    "The Biobank is constantly growing through prospective enrollment of a broadly\n",
    "consented cohort of patients and families, who can be re-contacted for additional\n",
    "research opportunities."
   ]
  },
  {
   "cell_type": "markdown",
   "id": "99421590-1a87-4279-8a72-8b7b39419df9",
   "metadata": {},
   "source": [
    "## PIC-SURE python API\n",
    "### What is PIC-SURE?\n",
    "\n",
    "The Patient Information Commons Standard Unification of Research Elements (PIC-SURE) platform integrates clinical and genomic data from the PrecisionLink Biobank.\n",
    "\n",
    "Original data exposed through the PIC-SURE API encompasses a large heterogeneity of data organization underneath. PIC-SURE hides this complexity and exposes the different study datasets in a single tabular format. By simplifying the process of data extraction, it allows investigators to focus on downstream analysis and to facilitate reproducible science.\n",
    "\n",
    "More about PIC-SURE\n",
    "The API is available in two different programming languages, python and R, enabling investigators to query the databases the same way using either language.\n",
    "\n",
    "PIC-SURE is a larger project from which the R/python PIC-SURE API is only a brick. Among other things, PIC-SURE also offers a graphical user interface that allows researchers to explore variables across multiple studies, filter patients that match criteria, and create cohorts from this interactive exploration.\n",
    "\n",
    "The python API is actively developed by the Avillach Lab at Harvard Medical School.\n",
    "\n",
    "PIC-SURE API GitHub repo:\n",
    "\n",
    "https://github.com/hms-dbmi/Access-to-Data-using-PIC-SURE-API/tree/master\n"
   ]
  },
  {
   "cell_type": "markdown",
   "id": "307a0602-e01a-47ce-8668-e1c4ecd06f3c",
   "metadata": {},
   "source": [
    " -------   "
   ]
  },
  {
   "cell_type": "markdown",
   "id": "8e60cc31-af7f-44a9-ac51-d69ec7f6ec6f",
   "metadata": {},
   "source": [
    "# Getting your own user-specific security token"
   ]
  },
  {
   "cell_type": "markdown",
   "id": "b1a86994-8ca4-4112-a4f8-4e6f11d8c5da",
   "metadata": {},
   "source": [
    "**Before running this notebook, please be sure to review the \"Get your security token\" documentation, which exists in the BCH_Precision_Link [README.md file](https://github.com/hms-dbmi/Access-to-Data-using-PIC-SURE-API/tree/master). It explains about how to get a security token, which is mandatory to access the databases.**"
   ]
  },
  {
   "cell_type": "markdown",
   "id": "3054fb58-1132-4787-a668-aa5e166c7754",
   "metadata": {},
   "source": [
    "# Environment set-up"
   ]
  },
  {
   "cell_type": "markdown",
   "id": "ab6b5ccb-dd00-4919-8651-20d6a0b02944",
   "metadata": {},
   "source": [
    "### Pre-requisites\n",
    "- python 3.6 or later\n",
    "- pip python package manager, already available in most systems with a python interpreter installed ([pip installation instructions](https://pip.pypa.io/en/stable/installing/))"
   ]
  },
  {
   "cell_type": "markdown",
   "id": "58cb0684-02ae-40b9-8822-bc19fdd4f8c0",
   "metadata": {},
   "source": [
    "### Install Packages\n",
    "\n",
    "Install the following:\n",
    "- packages listed in the `requirements.txt` file (listed below, along with version numbers)\n",
    "- PIC-SURE API components (from Github)\n",
    "    - PIC-SURE Adapter \n",
    "    - PIC-SURE Client"
   ]
  },
  {
   "cell_type": "code",
   "execution_count": null,
   "id": "97f3fc80-a8ec-4e20-b26a-dd6a04ce219b",
   "metadata": {
    "tags": []
   },
   "outputs": [],
   "source": [
    "!cat requirements.txt"
   ]
  },
  {
   "cell_type": "code",
   "execution_count": null,
   "id": "1c3cbb6d-731a-4de8-abaa-09d502a95682",
   "metadata": {
    "tags": []
   },
   "outputs": [],
   "source": [
    "import sys\n",
    "!{sys.executable} -m pip install -r requirements.txt"
   ]
  },
  {
   "cell_type": "code",
   "execution_count": null,
   "id": "8d5564a2-6775-490d-b02f-a9bb5a0a1e6e",
   "metadata": {
    "tags": []
   },
   "outputs": [],
   "source": [
    "!{sys.executable} -m pip install --upgrade --force-reinstall git+https://github.com/hms-dbmi/pic-sure-python-adapter-hpds.git\n",
    "!{sys.executable} -m pip install --upgrade --force-reinstall git+https://github.com/hms-dbmi/pic-sure-python-client.git"
   ]
  },
  {
   "cell_type": "markdown",
   "id": "5461b23c-eb8f-4740-911b-4f3810335339",
   "metadata": {},
   "source": [
    "Import all the external dependencies"
   ]
  },
  {
   "cell_type": "code",
   "execution_count": null,
   "id": "3f991a5a-3706-4a98-b894-f064738249fc",
   "metadata": {},
   "outputs": [],
   "source": [
    "import json\n",
    "from pprint import pprint\n",
    "\n",
    "import pandas as pd\n",
    "import numpy as np \n",
    "import matplotlib.pyplot as plt\n",
    "from scipy import stats\n",
    "import seaborn as sns\n",
    "\n",
    "import PicSureHpdsLib\n",
    "import PicSureClient\n",
    "\n",
    "from python_lib.utils import get_multiIndex_variablesDict, joining_variablesDict_onCol"
   ]
  },
  {
   "cell_type": "markdown",
   "id": "0a628c7d-e86a-4ab7-bff6-a5659d216918",
   "metadata": {},
   "source": [
    "Set the display parameter for tables and plots"
   ]
  },
  {
   "cell_type": "code",
   "execution_count": null,
   "id": "346c8f5e-9a8b-4655-a061-055964615cc3",
   "metadata": {},
   "outputs": [],
   "source": [
    "# Pandas DataFrame display options\n",
    "pd.set_option(\"max.rows\", 100)\n",
    "\n",
    "# Matplotlib display parameters\n",
    "plt.rcParams[\"figure.figsize\"] = (14,8)\n",
    "font = {'weight' : 'bold',\n",
    "        'size'   : 12}\n",
    "plt.rc('font', **font)"
   ]
  },
  {
   "cell_type": "markdown",
   "id": "30c2acc6-a25c-4248-8657-61362530d531",
   "metadata": {},
   "source": [
    "## Connecting to a PIC-SURE resource"
   ]
  },
  {
   "cell_type": "markdown",
   "id": "81f0b91c-7f32-47e2-a7e5-d0a7e475a7e7",
   "metadata": {},
   "source": [
    "The following is required to get access to data through the PIC-SURE API: \n",
    "- Network URL\n",
    "- Resource ID\n",
    "- User-specific security token"
   ]
  },
  {
   "cell_type": "markdown",
   "id": "d83f9c1d-6c40-41cb-9433-22a3b8db73fd",
   "metadata": {},
   "source": [
    "If you have not already retrieved your user-specific token, please refer to the \"Get your security token\" section of the [README.md](https://github.com/hms-dbmi/Access-to-Data-using-PIC-SURE-API/tree/master/NHLBI_BioData_Catalyst#get-your-security-token) file."
   ]
  },
  {
   "cell_type": "markdown",
   "id": "d1737038-f433-417e-95e1-f0e9466a8da6",
   "metadata": {},
   "source": [
    "***Note: You will not be able to connect to the PrecisionLink PIC-SURE resource if you are not on the Boston Children's Hospital network. Please ensure that you are connected to the BCH network via one of these options:***\n",
    "- ***TCH or BCH-R wireless options***\n",
    "- ***the web or full Virtual Private Network (VPN)***"
   ]
  },
  {
   "cell_type": "code",
   "execution_count": null,
   "id": "41011cc4-90ed-41e7-a614-2a0479e1d819",
   "metadata": {},
   "outputs": [],
   "source": [
    "PICSURE_network_URL = \"https://precisionlink-biobank4discovery.childrens.harvard.edu/picsure/\"\n",
    "resource_id = \"6aa47730-3288-4c45-bfa1-5a8730666016\"\n",
    "token_file = \"token.txt\""
   ]
  },
  {
   "cell_type": "code",
   "execution_count": null,
   "id": "f9cdf3db-7656-4348-b506-b8d57415978c",
   "metadata": {},
   "outputs": [],
   "source": [
    "with open(token_file, \"r\") as f:\n",
    "    my_token = f.read()"
   ]
  },
  {
   "cell_type": "code",
   "execution_count": null,
   "id": "79bfd042-ef07-4e5d-a51b-16417cc082ab",
   "metadata": {},
   "outputs": [],
   "source": [
    "client = PicSureClient.Client()\n",
    "connection = client.connect(PICSURE_network_URL, my_token, True)\n",
    "adapter = PicSureHpdsLib.Adapter(connection)\n",
    "resource = adapter.useResource(resource_id)"
   ]
  },
  {
   "cell_type": "markdown",
   "id": "1c7ec475-ad52-4163-9a43-e1ec18f3bbad",
   "metadata": {},
   "source": [
    "Two objects are created here: a `connection` and a `resource` object.\n",
    "\n",
    "Since will only be using a single resource, **the `resource` object is actually the only one we will need to proceed with data analysis hereafter**. \n",
    "\n",
    "It is connected to the specific data source ID we specified and enables us to query and retrieve data from this database."
   ]
  },
  {
   "cell_type": "markdown",
   "id": "d0261ee9-aaf1-4789-adf0-2c326bc4d184",
   "metadata": {},
   "source": [
    "## Getting help with the PIC-SURE API"
   ]
  },
  {
   "cell_type": "markdown",
   "id": "5a5b4b0d-8850-4e06-8763-097ddd20e1b0",
   "metadata": {},
   "source": [
    "Each object exposed by the PicSureHpds library has a `help()` method. Calling it without parameters will print out  information about functionalities of this object."
   ]
  },
  {
   "cell_type": "code",
   "execution_count": null,
   "id": "211fe9be-e810-4542-8193-fb23ca9ea329",
   "metadata": {},
   "outputs": [],
   "source": [
    "resource.help()"
   ]
  },
  {
   "cell_type": "markdown",
   "id": "d8187e3e-74d3-4b50-afac-c8fe76a1acd6",
   "metadata": {},
   "source": [
    "For instance, this output tells us that this `resource` object has 3 methods, and it gives a quick definition of those methods. "
   ]
  },
  {
   "cell_type": "markdown",
   "id": "6453f971-77eb-4e20-901c-191a5624d162",
   "metadata": {},
   "source": [
    "## Using the *variables dictionary*"
   ]
  },
  {
   "cell_type": "markdown",
   "id": "dd60678d-d133-49f0-87ff-f69d6ce5ff87",
   "metadata": {},
   "source": [
    "Once a connection to the desired resource has been established, we first need to understand which variables are available in the database. To this end, we will use the `dictionary` method of the `resource` object."
   ]
  },
  {
   "cell_type": "markdown",
   "id": "aa55ec51-ab34-4baf-b9f1-3d990cdd626f",
   "metadata": {},
   "source": [
    "A `dictionary` instance enables us to retrieve matching records by searching for a specific term, or to retrieve information about all the available variables, using the `find()` method. For instance, looking for variables containing the term `Calcium` in their names is done this way: "
   ]
  },
  {
   "cell_type": "code",
   "execution_count": null,
   "id": "4abb9781-38b9-4541-9e12-63800cb76b52",
   "metadata": {},
   "outputs": [],
   "source": [
    "dictionary = resource.dictionary()\n",
    "dictionary_search = dictionary.find(\"Calcium\")"
   ]
  },
  {
   "cell_type": "markdown",
   "id": "30d4356f-991e-4571-91c6-5af96a36fdef",
   "metadata": {},
   "source": [
    "Note: Using the `dictionary.find()` function without arguments will return every entry, as shown in the help documentation.\n",
    "We included the term \"Calcium\" as we are only interested in entries related to calcium.\n",
    "\n",
    "Subsequently, objects created by the `dictionary.find` method expose the search results via 4 different methods: `.count()`, `.keys()`, `.entries()`, and `.DataFrame()`."
   ]
  },
  {
   "cell_type": "code",
   "execution_count": null,
   "id": "345078a3-5deb-441e-ba25-ef383f722509",
   "metadata": {
    "tags": []
   },
   "outputs": [],
   "source": [
    "pprint({\"Count\": dictionary_search.count(), \n",
    "        \"Keys\": dictionary_search.keys()[0:5],\n",
    "        \"Entries\": dictionary_search.entries()[0:5]})"
   ]
  },
  {
   "cell_type": "markdown",
   "id": "588dfd18-8679-4c27-ab09-5f2c84f3cd57",
   "metadata": {},
   "source": [
    "**The `.DataFrame()` method enables us to get the result of the dictionary search in a pandas DataFrame format. This way, it allows us to:** \n",
    "\n",
    "\n",
    "* Use the various information exposed in the dictionary (patient count, variable type ...) as criteria for variable selection.\n",
    "* Use the row names of the DataFrame to get the actual variable names to be used in the query, as shown below.\n",
    "\n",
    "Variable names aren't very pratical to use right away for two reasons:\n",
    "1. Very long\n",
    "2. Presence of backslashes that prevent from copy-pasting. \n",
    "\n",
    "However, retrieving the dictionary search result in the form of a dataframe can help access the variable names."
   ]
  },
  {
   "cell_type": "code",
   "execution_count": null,
   "id": "b9b3da72-f0ae-4591-a0d7-d95919db91dd",
   "metadata": {},
   "outputs": [],
   "source": [
    "dictionary_search.DataFrame().head()"
   ]
  },
  {
   "cell_type": "markdown",
   "id": "47edcd3d-0d0a-4743-b64b-ad90a3c3b57b",
   "metadata": {},
   "source": [
    "The dictionary currently returned by the API provides information about the variables, such as:\n",
    "- observationCount: number of entries with non-null value\n",
    "- categorical: type of the variables, True if strings, False if numerical\n",
    "- min/max: only provided for numerical variables\n",
    "- HpdsDataType: 'phenotypes' or 'genotypes'. Currently, the API only expsoses'phenotypes' variables"
   ]
  },
  {
   "cell_type": "markdown",
   "id": "e963f163-763e-4a84-9a88-219cbd2a3b34",
   "metadata": {},
   "source": [
    "## Variable dictionary and pandas multiIndex\n",
    "\n",
    "We can use a simple user-defined function (`get_multiIndex_variablesDict`) to add a little more information to the variable dictionary and to simplify working with variables names. It takes advantage of pandas MultiIndex functionality [see pandas official documentation on this topic](https://pandas.pydata.org/pandas-docs/stable/user_guide/advanced.html).\n",
    "\n",
    "Although not an official feature of the API, such functionality illustrates how to quickly select groups of related variables.\n",
    "\n",
    "Printing the multiIndexed variable Dictionary allows to quickly see the tree-like organization of the variable names. Moreover, original and simplified variable names are now stored respectively in the `varName` and `simplified_varName` columns (simplified variable names is simply the last component of the variable name, which is usually the most informative to know what each variable is about)."
   ]
  },
  {
   "cell_type": "code",
   "execution_count": null,
   "id": "c8504fed-48d6-47fa-aa2c-e71aa5166b72",
   "metadata": {},
   "outputs": [],
   "source": [
    "multiindex = get_multiIndex_variablesDict(dictionary_search.DataFrame())\n",
    "multiindex.head()"
   ]
  },
  {
   "cell_type": "markdown",
   "id": "177c25b9-6f51-45b7-86a9-70cfc0dd4524",
   "metadata": {},
   "source": [
    "Below is a simple example to illustrate the simplicity of using a multiIndex dictionary. Let's say we are interested in every variable in the \"diseases of the respiratory system\" category."
   ]
  },
  {
   "cell_type": "code",
   "execution_count": null,
   "id": "65a33705-0129-4660-b87c-604d7a5d99ec",
   "metadata": {},
   "outputs": [],
   "source": [
    "full_multiindex = get_multiIndex_variablesDict(dictionary.find().DataFrame()) # Get full dataframe of variables\n",
    "# Find variables that have \"diseases of the respiratory system\" in level_2\n",
    "mask_resp_diseases = [type(i) == str and \"Diseases of the respiratory system\" in i for i in full_multiindex.index.get_level_values(2)] \n",
    "# Filter to those variables\n",
    "resp_diseases_vars = full_multiindex.loc[mask_resp_diseases, :]\n",
    "resp_diseases_vars.head()"
   ]
  },
  {
   "cell_type": "markdown",
   "id": "4ba2b58f-9f8f-48d1-ae40-8f9381082292",
   "metadata": {},
   "source": [
    "Although pretty simple, it can be easily combined with other filters to quickly select one or more desired groups of variables."
   ]
  },
  {
   "cell_type": "markdown",
   "id": "b99a6d87-14ab-4223-a6c0-972115805bd1",
   "metadata": {},
   "source": [
    "## Querying and retrieving data: Epilepsy and *GRIN2A*"
   ]
  },
  {
   "cell_type": "markdown",
   "id": "aa32234a-dec0-4d64-bc98-3946f24ad59b",
   "metadata": {},
   "source": [
    "The second cornerstone of the API is the `query` object. It is how we retrieve data from the resource."
   ]
  },
  {
   "cell_type": "markdown",
   "id": "50934b27-d3d4-4a4d-9d47-b68a55098ce4",
   "metadata": {},
   "source": [
    "First, we need to create a query object."
   ]
  },
  {
   "cell_type": "code",
   "execution_count": null,
   "id": "f7d92937-56b3-4ccf-ba7d-4de30a81c782",
   "metadata": {},
   "outputs": [],
   "source": [
    "my_query = resource.query()"
   ]
  },
  {
   "cell_type": "markdown",
   "id": "3e7694a9-90a0-4a83-b1c3-73bb83973a1b",
   "metadata": {},
   "source": [
    "The query object has several methods that enable to build a query.\n",
    "\n",
    "| Method | Arguments / Input | Output|\n",
    "|--------|-------------------|-------|\n",
    "| query.select.add() | variable names (string) or list of strings | all variables included in the list (no record subsetting)|\n",
    "| query.require.add() | variable names (string) or list of strings | all variables; only records that do not contain null values for input variables |\n",
    "| query.anyof.add() | variable names (string) or list of strings | all variables; only records that contain at least one non-null value for input variables |\n",
    "| query.filter.add() | variable name and additional filtering values | input variable; only records that match filter criteria |\n",
    "\n",
    "All 4 methods can be combined when building a query. The record eventually returned by the query have to meet all the different specified filters."
   ]
  },
  {
   "cell_type": "markdown",
   "id": "d0bc53e0-604f-4ffc-beae-ad70e2b77eb3",
   "metadata": {},
   "source": [
    "### Building the query\n",
    "In the following example, we are going to build a query to return data the counts of patients who:\n",
    "- had epilepsy and recurrent seizures\n",
    "- had data available for the *GRIN2A* gene\n",
    "- had a *GRIN2A* variant of high severity\n",
    "- had a novel *GRIN2A* variant"
   ]
  },
  {
   "cell_type": "markdown",
   "id": "2d75e57b-1191-4b5d-9987-26db811d19e1",
   "metadata": {},
   "source": [
    "#### Add phenotypic variable: Epilepsy\n",
    "\n",
    "First, let's review the possible variable names with the term \"epilepsy\"."
   ]
  },
  {
   "cell_type": "code",
   "execution_count": null,
   "id": "ae3d0c4e-a50a-4aa0-bbfd-1f58032bf509",
   "metadata": {},
   "outputs": [],
   "source": [
    "epilepsy_search = dictionary.find(\"epilepsy\").DataFrame()\n",
    "epilepsy_multiindex = get_multiIndex_variablesDict(epilepsy_search)\n",
    "epilepsy_multiindex.head()"
   ]
  },
  {
   "cell_type": "markdown",
   "id": "96a4a8d3-250b-43d6-9475-d0a5baca1b40",
   "metadata": {},
   "source": [
    "We are interested in all variables pertaining to \"Epilepsy and recurrent seizures\", which is listed in level_4 of the multiIndex dataframe. We will now filter to all variables that meet this criteria."
   ]
  },
  {
   "cell_type": "code",
   "execution_count": null,
   "id": "ecfaf9bb-cbe0-4467-b706-21ef5603ac3d",
   "metadata": {},
   "outputs": [],
   "source": [
    "mask_epilepsy = [type(i)==str and \"Epilepsy and recurrent seizures\" in i for i in epilepsy_multiindex.index.get_level_values(4)]\n",
    "epilepsy_vars = epilepsy_multiindex.loc[mask_epilepsy, 'name']"
   ]
  },
  {
   "cell_type": "markdown",
   "id": "7172cf75-c340-48f1-99fd-86da0550a753",
   "metadata": {},
   "source": [
    "Now we can add these variables to our query. We can also view the patient count using the `getCount()` method."
   ]
  },
  {
   "cell_type": "code",
   "execution_count": null,
   "id": "e23c64a4-73bd-469c-98f1-42ab628ce343",
   "metadata": {},
   "outputs": [],
   "source": [
    "my_query.anyof().add(epilepsy_vars)\n",
    "my_query.getCount()"
   ]
  },
  {
   "cell_type": "markdown",
   "id": "c9f64dd6-7e98-4435-8b2d-766d378d185b",
   "metadata": {},
   "source": [
    "#### Add genomic variable: *GRIN2A*\n",
    "\n",
    "Next, we will filter to the gene *GRIN2A*. We can do this by filtering the \"Gene_with_variant\" key to the \"GRIN2A\" value."
   ]
  },
  {
   "cell_type": "code",
   "execution_count": null,
   "id": "8ed5cfaf-56e4-4af1-841f-b9ad6784b759",
   "metadata": {},
   "outputs": [],
   "source": [
    "gene_search = dictionary.find(\"Gene_with_variant\").keys()\n",
    "gene_search"
   ]
  },
  {
   "cell_type": "code",
   "execution_count": null,
   "id": "3fb93420-3df6-4a4c-b9e8-5ec94eea8541",
   "metadata": {},
   "outputs": [],
   "source": [
    "my_query.filter().add(gene_search, \"GRIN2A\")\n",
    "my_query.getCount()"
   ]
  },
  {
   "cell_type": "markdown",
   "id": "1d4f8cc7-0f02-4efa-b463-8e8fe92e18da",
   "metadata": {},
   "source": [
    "#### Add genomic variable: Variant severity\n",
    "\n",
    "We will filter to variants of high severity using the \"Variant_severity\" key and \"High\" value."
   ]
  },
  {
   "cell_type": "code",
   "execution_count": null,
   "id": "2918854a-4b28-4bc8-a8a6-dbbe44b99970",
   "metadata": {},
   "outputs": [],
   "source": [
    "severity_search = dictionary.find(\"Variant_severity\").keys()\n",
    "severity_search"
   ]
  },
  {
   "cell_type": "code",
   "execution_count": null,
   "id": "6b2b3eeb-f24a-4d42-a117-888457277359",
   "metadata": {},
   "outputs": [],
   "source": [
    "my_query.filter().add(severity_search, \"HIGH\")\n",
    "my_query.getCount()"
   ]
  },
  {
   "cell_type": "markdown",
   "id": "a342e982-1ddb-4785-9e5e-69ef46015750",
   "metadata": {},
   "source": [
    "#### Add genomic variable: Variant frequency\n",
    "\n",
    "Finally, we will filter to novel variants. Let's take a look at the \"Variant_frequency\" variable options."
   ]
  },
  {
   "cell_type": "code",
   "execution_count": null,
   "id": "72ef7664-7011-4c67-ac23-6a5c4d9dea47",
   "metadata": {},
   "outputs": [],
   "source": [
    "frequency_search = dictionary.find(\"Variant_frequency\").DataFrame()\n",
    "frequency_search"
   ]
  },
  {
   "cell_type": "markdown",
   "id": "14b0c3dc-6470-496d-9b30-8806dae37335",
   "metadata": {},
   "source": [
    "As shown above, there are two keys that could be used: \"Variant_frequency_as_text\" and \"Variant_frequency_in_gnomAD\". The \"Variant_frequency_as_text\" has category values of Novel, Rare, and Common. Since we are interested in novel variants, we will use this key moving forward."
   ]
  },
  {
   "cell_type": "code",
   "execution_count": null,
   "id": "17c0481c-31cf-4d56-b22f-db53d54f97f8",
   "metadata": {},
   "outputs": [],
   "source": [
    "my_query.filter().add(\"Variant_frequency_as_text\", \"Novel\")\n",
    "my_query.getCount()"
   ]
  },
  {
   "cell_type": "markdown",
   "id": "12693326-fdac-4050-a4e1-63257579b00d",
   "metadata": {},
   "source": [
    "### Retrieving query counts: Genetic associations of different types of epilepsy"
   ]
  },
  {
   "cell_type": "markdown",
   "id": "db86e3e6-de08-4bfe-a45d-f7a23d8c0afd",
   "metadata": {},
   "source": [
    "Blurb about the article and exploring these relationships"
   ]
  },
  {
   "cell_type": "code",
   "execution_count": null,
   "id": "b2052f9c-beda-42bd-8886-e5313cd3e927",
   "metadata": {},
   "outputs": [],
   "source": [
    "# Childhood absense epilepsy - GABRG2\n",
    "# Juvenile myoclonic epilepsy - CACNB4, CLCN2, EFHC1, GABRD\n",
    "# Febrile Seizures Evaluation - GABRG2, GPR8, SCN1A, SCN9A\n",
    "# Benign focal epilepsy of childhood - for fun!!"
   ]
  },
  {
   "cell_type": "code",
   "execution_count": null,
   "id": "595b6c77-1899-48ba-9074-cfaea375b596",
   "metadata": {},
   "outputs": [],
   "source": [
    "epi_query = resource.query()"
   ]
  },
  {
   "cell_type": "code",
   "execution_count": null,
   "id": "270e0e92-f029-42eb-b2f4-0309ce79597a",
   "metadata": {},
   "outputs": [],
   "source": [
    "epilepsy_vars_subset = epilepsy_vars[0:10]\n",
    "epi_query.crosscounts().add(epilepsy_vars_subset)"
   ]
  },
  {
   "cell_type": "code",
   "execution_count": null,
   "id": "a59402d3-e28b-40c5-b41c-74e5fbeddb26",
   "metadata": {},
   "outputs": [],
   "source": [
    "gene_list = ['GABRG2', 'SCN1A', 'CLCN2', 'EFHC1', 'GABRD']#, ['GABRG2', 'SCN1A', 'SCN9A']]"
   ]
  },
  {
   "cell_type": "code",
   "execution_count": null,
   "id": "65fce6f1-2945-45b2-bcf2-8ca2fb14ff14",
   "metadata": {},
   "outputs": [],
   "source": [
    "full_counts = []\n",
    "results = []\n",
    "for genes in gene_list:\n",
    "    epi_query.filter().add(\"Variant_severity\", \"HIGH\")\n",
    "    counts = epi_query.getCrossCounts().values()\n",
    "    for i in counts:\n",
    "        full_counts.append(i)\n",
    "    epi_query.filter().delete(\"Variant_severity\")\n",
    "    epi_query.filter().add(\"Gene_with_variant\", genes)\n",
    "    res = epi_query.getCrossCounts().values()\n",
    "    for i in res:\n",
    "        results.append(i)\n",
    "    epi_query.filter().delete(\"Gene_with_variant\")"
   ]
  },
  {
   "cell_type": "code",
   "execution_count": null,
   "id": "8f017823-4823-4144-b365-d115497c8f2b",
   "metadata": {},
   "outputs": [],
   "source": [
    "final = np.array(results).reshape(5, 10)\n",
    "final = np.transpose(final)\n",
    "print(final)\n",
    "\n",
    "full_final = np.array(full_counts).reshape(5, 10)\n",
    "full_final = np.transpose(full_final)\n",
    "print(full_final)\n",
    "\n",
    "full_results = final/full_final\n",
    "print(full_results)"
   ]
  },
  {
   "cell_type": "code",
   "execution_count": null,
   "id": "0a707a1d-d1c4-4821-9ce1-69b56748dd5e",
   "metadata": {},
   "outputs": [],
   "source": [
    "len(epilepsy_vars)"
   ]
  },
  {
   "cell_type": "code",
   "execution_count": null,
   "id": "8137bced-c8ff-4a92-b8aa-380851349a74",
   "metadata": {},
   "outputs": [],
   "source": [
    "for_plotting = []\n",
    "for var in epilepsy_vars_subset:\n",
    "    for_plotting.append(var.split('\\\\')[-2])\n",
    "print(for_plotting)"
   ]
  },
  {
   "cell_type": "code",
   "execution_count": null,
   "id": "a433d798-97ed-457a-9690-a1631ac7c529",
   "metadata": {},
   "outputs": [],
   "source": [
    "ax = sns.heatmap(full_results, yticklabels = for_plotting, xticklabels=gene_list)\n",
    "ax.set_title(\"Percentage of patients with gene variants and epilepsy\")\n",
    "plt.show()"
   ]
  }
 ],
 "metadata": {
  "kernelspec": {
   "display_name": "Python 3",
   "language": "python",
   "name": "python3"
  },
  "language_info": {
   "codemirror_mode": {
    "name": "ipython",
    "version": 3
   },
   "file_extension": ".py",
   "mimetype": "text/x-python",
   "name": "python",
   "nbconvert_exporter": "python",
   "pygments_lexer": "ipython3",
   "version": "3.8.8"
  }
 },
 "nbformat": 4,
 "nbformat_minor": 5
}
