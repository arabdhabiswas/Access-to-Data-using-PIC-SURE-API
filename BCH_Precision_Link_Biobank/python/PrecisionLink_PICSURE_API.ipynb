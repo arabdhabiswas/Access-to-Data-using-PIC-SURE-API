{
 "cells": [
  {
   "cell_type": "markdown",
   "id": "b0090eef-1940-4f12-bf1a-c7141c419d8d",
   "metadata": {},
   "source": [
    "# PIC-SURE API for PrecisionLink Biobank"
   ]
  },
  {
   "cell_type": "markdown",
   "id": "abe75163-095b-42a7-be73-d7de21f66067",
   "metadata": {},
   "source": [
    "The PrecisionLink Biobank is a Boston Children’s Hospital institutional resource that\n",
    "provides a centralized source of prospectively consented participants. To date, the\n",
    "Biobank has enrolled over 15,000 patients and families, who have contributed health\n",
    "data and biological samples for broad research use. Investigators are able to search the\n",
    "holdings of the Biobank using the [PrecisionLink Biobank Portal](http://biobank.childrens.harvard.edu/).\n",
    "\n",
    "The PrecisionLink Biobank Portal grants investigators access to genotype,\n",
    "biospecimen, and clinical data - including clinical notes - from one search tool.\n",
    "Furthermore, investigators are able to conduct multi-stage queries with any combination\n",
    "of data criteria.\n",
    "\n",
    "The Biobank is constantly growing through prospective enrollment of a broadly\n",
    "consented cohort of patients and families, who can be re-contacted for additional\n",
    "research opportunities."
   ]
  },
  {
   "cell_type": "markdown",
   "id": "99421590-1a87-4279-8a72-8b7b39419df9",
   "metadata": {},
   "source": [
    "## PIC-SURE python API\n",
    "### What is PIC-SURE?\n",
    "\n",
    "The Patient Information Commons Standard Unification of Research Elements (PIC-SURE) platform integrates clinical and genomic data from the PrecisionLink Biobank.\n",
    "\n",
    "Original data exposed through the PIC-SURE API encompasses a large heterogeneity of data organization underneath. PIC-SURE hides this complexity and exposes the different study datasets in a single tabular format. By simplifying the process of data extraction, it allows investigators to focus on downstream analysis and to facilitate reproducible science.\n",
    "\n",
    "More about PIC-SURE\n",
    "The API is available in two different programming languages, python and R, enabling investigators to query the databases the same way using either language.\n",
    "\n",
    "PIC-SURE is a larger project from which the R/python PIC-SURE API is only a brick. Among other things, PIC-SURE also offers a graphical user interface that allows researchers to explore variables across multiple studies, filter patients that match criteria, and create cohorts from this interactive exploration.\n",
    "\n",
    "The python API is actively developed by the Avillach Lab at Harvard Medical School.\n",
    "\n",
    "PIC-SURE API GitHub repo:\n",
    "\n",
    "https://github.com/hms-dbmi/Access-to-Data-using-PIC-SURE-API/tree/master\n"
   ]
  },
  {
   "cell_type": "markdown",
   "id": "307a0602-e01a-47ce-8668-e1c4ecd06f3c",
   "metadata": {},
   "source": [
    " -------   "
   ]
  },
  {
   "cell_type": "markdown",
   "id": "8e60cc31-af7f-44a9-ac51-d69ec7f6ec6f",
   "metadata": {},
   "source": [
    "# Getting your own user-specific security token"
   ]
  },
  {
   "cell_type": "markdown",
   "id": "b1a86994-8ca4-4112-a4f8-4e6f11d8c5da",
   "metadata": {},
   "source": [
    "**Before running this notebook, please be sure to review the \"Get your security token\" documentation, which exists in the BCH_Precision_Link [README.md file](https://github.com/hms-dbmi/Access-to-Data-using-PIC-SURE-API/tree/master). It explains about how to get a security token, which is mandatory to access the databases.**"
   ]
  },
  {
   "cell_type": "markdown",
   "id": "3054fb58-1132-4787-a668-aa5e166c7754",
   "metadata": {},
   "source": [
    "# Environment set-up"
   ]
  },
  {
   "cell_type": "markdown",
   "id": "ab6b5ccb-dd00-4919-8651-20d6a0b02944",
   "metadata": {},
   "source": [
    "### Pre-requisites\n",
    "- python 3.6 or later\n",
    "- pip python package manager, already available in most systems with a python interpreter installed ([pip installation instructions](https://pip.pypa.io/en/stable/installing/))"
   ]
  },
  {
   "cell_type": "markdown",
   "id": "58cb0684-02ae-40b9-8822-bc19fdd4f8c0",
   "metadata": {},
   "source": [
    "### Install Packages\n",
    "\n",
    "Install the following:\n",
    "- packages listed in the `requirements.txt` file (listed below, along with version numbers)\n",
    "- PIC-SURE API components (from Github)\n",
    "    - PIC-SURE Adapter \n",
    "    - PIC-SURE Client"
   ]
  },
  {
   "cell_type": "code",
   "execution_count": 1,
   "id": "97f3fc80-a8ec-4e20-b26a-dd6a04ce219b",
   "metadata": {
    "tags": []
   },
   "outputs": [
    {
     "name": "stdout",
     "output_type": "stream",
     "text": [
      "numpy==1.16.4\n",
      "matplotlib>=3.1.1\n",
      "pandas>=0.25.3\n",
      "scipy>=1.3.1\n",
      "tqdm>=4.38.0\n",
      "statsmodels>=0.10.2\n"
     ]
    }
   ],
   "source": [
    "!cat requirements.txt"
   ]
  },
  {
   "cell_type": "code",
   "execution_count": 2,
   "id": "1c3cbb6d-731a-4de8-abaa-09d502a95682",
   "metadata": {
    "tags": []
   },
   "outputs": [
    {
     "name": "stdout",
     "output_type": "stream",
     "text": [
      "Requirement already satisfied: numpy==1.16.4 in /Users/emily/opt/anaconda3/lib/python3.8/site-packages (from -r requirements.txt (line 1)) (1.16.4)\n",
      "Requirement already satisfied: matplotlib>=3.1.1 in /Users/emily/opt/anaconda3/lib/python3.8/site-packages (from -r requirements.txt (line 2)) (3.3.4)\n",
      "Requirement already satisfied: pandas>=0.25.3 in /Users/emily/opt/anaconda3/lib/python3.8/site-packages (from -r requirements.txt (line 3)) (1.1.5)\n",
      "Requirement already satisfied: scipy>=1.3.1 in /Users/emily/opt/anaconda3/lib/python3.8/site-packages (from -r requirements.txt (line 4)) (1.5.4)\n",
      "Requirement already satisfied: tqdm>=4.38.0 in /Users/emily/opt/anaconda3/lib/python3.8/site-packages (from -r requirements.txt (line 5)) (4.59.0)\n",
      "Requirement already satisfied: statsmodels>=0.10.2 in /Users/emily/opt/anaconda3/lib/python3.8/site-packages (from -r requirements.txt (line 6)) (0.12.2)\n",
      "Requirement already satisfied: kiwisolver>=1.0.1 in /Users/emily/opt/anaconda3/lib/python3.8/site-packages (from matplotlib>=3.1.1->-r requirements.txt (line 2)) (1.3.1)\n",
      "Requirement already satisfied: pyparsing!=2.0.4,!=2.1.2,!=2.1.6,>=2.0.3 in /Users/emily/opt/anaconda3/lib/python3.8/site-packages (from matplotlib>=3.1.1->-r requirements.txt (line 2)) (2.4.7)\n",
      "Requirement already satisfied: cycler>=0.10 in /Users/emily/opt/anaconda3/lib/python3.8/site-packages (from matplotlib>=3.1.1->-r requirements.txt (line 2)) (0.10.0)\n",
      "Requirement already satisfied: pillow>=6.2.0 in /Users/emily/opt/anaconda3/lib/python3.8/site-packages (from matplotlib>=3.1.1->-r requirements.txt (line 2)) (8.2.0)\n",
      "Requirement already satisfied: python-dateutil>=2.1 in /Users/emily/opt/anaconda3/lib/python3.8/site-packages (from matplotlib>=3.1.1->-r requirements.txt (line 2)) (2.8.1)\n",
      "Requirement already satisfied: pytz>=2017.2 in /Users/emily/opt/anaconda3/lib/python3.8/site-packages (from pandas>=0.25.3->-r requirements.txt (line 3)) (2021.1)\n",
      "Requirement already satisfied: patsy>=0.5 in /Users/emily/opt/anaconda3/lib/python3.8/site-packages (from statsmodels>=0.10.2->-r requirements.txt (line 6)) (0.5.1)\n",
      "Requirement already satisfied: six in /Users/emily/opt/anaconda3/lib/python3.8/site-packages (from cycler>=0.10->matplotlib>=3.1.1->-r requirements.txt (line 2)) (1.15.0)\n"
     ]
    }
   ],
   "source": [
    "import sys\n",
    "!{sys.executable} -m pip install -r requirements.txt"
   ]
  },
  {
   "cell_type": "code",
   "execution_count": 37,
   "id": "8d5564a2-6775-490d-b02f-a9bb5a0a1e6e",
   "metadata": {
    "tags": []
   },
   "outputs": [
    {
     "name": "stdout",
     "output_type": "stream",
     "text": [
      "Collecting git+https://github.com/hms-dbmi/pic-sure-python-adapter-hpds.git\n",
      "  Cloning https://github.com/hms-dbmi/pic-sure-python-adapter-hpds.git to /private/var/folders/3y/fkrcx6wd2kl6ln6dp_29_vl80000gn/T/pip-req-build-vwh10686\n",
      "  Running command git clone -q https://github.com/hms-dbmi/pic-sure-python-adapter-hpds.git /private/var/folders/3y/fkrcx6wd2kl6ln6dp_29_vl80000gn/T/pip-req-build-vwh10686\n",
      "Collecting httplib2\n",
      "  Using cached httplib2-0.19.1-py3-none-any.whl (95 kB)\n",
      "Collecting pyparsing<3,>=2.4.2\n",
      "  Using cached pyparsing-2.4.7-py2.py3-none-any.whl (67 kB)\n",
      "Building wheels for collected packages: PicSureHpdsLib\n",
      "  Building wheel for PicSureHpdsLib (setup.py) ... \u001b[?25ldone\n",
      "\u001b[?25h  Created wheel for PicSureHpdsLib: filename=PicSureHpdsLib-0.9.0-py2.py3-none-any.whl size=22051 sha256=ddb78ebf3bbf09fe9fbcabed52550e3b34f1fc114676f6b4cb5c5b7cd7edffb8\n",
      "  Stored in directory: /private/var/folders/3y/fkrcx6wd2kl6ln6dp_29_vl80000gn/T/pip-ephem-wheel-cache-xzfvve89/wheels/e8/35/43/484d5d574661fc4a2c5b083551bc3c7254695764ed17ce397e\n",
      "Successfully built PicSureHpdsLib\n",
      "Installing collected packages: pyparsing, httplib2, PicSureHpdsLib\n",
      "  Attempting uninstall: pyparsing\n",
      "    Found existing installation: pyparsing 2.4.7\n",
      "    Uninstalling pyparsing-2.4.7:\n",
      "      Successfully uninstalled pyparsing-2.4.7\n",
      "  Attempting uninstall: httplib2\n",
      "    Found existing installation: httplib2 0.19.1\n",
      "    Uninstalling httplib2-0.19.1:\n",
      "      Successfully uninstalled httplib2-0.19.1\n",
      "  Attempting uninstall: PicSureHpdsLib\n",
      "    Found existing installation: PicSureHpdsLib 0.9.0\n",
      "    Uninstalling PicSureHpdsLib-0.9.0:\n",
      "      Successfully uninstalled PicSureHpdsLib-0.9.0\n",
      "Successfully installed PicSureHpdsLib-0.9.0 httplib2-0.19.1 pyparsing-2.4.7\n",
      "Collecting git+https://github.com/hms-dbmi/pic-sure-python-client.git\n",
      "  Cloning https://github.com/hms-dbmi/pic-sure-python-client.git to /private/var/folders/3y/fkrcx6wd2kl6ln6dp_29_vl80000gn/T/pip-req-build-_w58fb7e\n",
      "  Running command git clone -q https://github.com/hms-dbmi/pic-sure-python-client.git /private/var/folders/3y/fkrcx6wd2kl6ln6dp_29_vl80000gn/T/pip-req-build-_w58fb7e\n",
      "Building wheels for collected packages: PicSureClient\n",
      "  Building wheel for PicSureClient (setup.py) ... \u001b[?25ldone\n",
      "\u001b[?25h  Created wheel for PicSureClient: filename=PicSureClient-0.1.0-py2.py3-none-any.whl size=10300 sha256=29d34e527b148a633dacb8cb738d8fdc9d8b9be5245cdac02224135abbad7b82\n",
      "  Stored in directory: /private/var/folders/3y/fkrcx6wd2kl6ln6dp_29_vl80000gn/T/pip-ephem-wheel-cache-4zpc991n/wheels/2f/61/65/c5af5ad47fa6a9e191522e1ae06d74c08b05c91a76a1c3d120\n",
      "Successfully built PicSureClient\n",
      "Installing collected packages: PicSureClient\n",
      "  Attempting uninstall: PicSureClient\n",
      "    Found existing installation: PicSureClient 0.1.0\n",
      "    Uninstalling PicSureClient-0.1.0:\n",
      "      Successfully uninstalled PicSureClient-0.1.0\n",
      "Successfully installed PicSureClient-0.1.0\n"
     ]
    }
   ],
   "source": [
    "!{sys.executable} -m pip install --upgrade --force-reinstall git+https://github.com/hms-dbmi/pic-sure-python-adapter-hpds.git\n",
    "!{sys.executable} -m pip install --upgrade --force-reinstall git+https://github.com/hms-dbmi/pic-sure-python-client.git"
   ]
  },
  {
   "cell_type": "markdown",
   "id": "5461b23c-eb8f-4740-911b-4f3810335339",
   "metadata": {},
   "source": [
    "Import all the external dependencies"
   ]
  },
  {
   "cell_type": "code",
   "execution_count": 4,
   "id": "3f991a5a-3706-4a98-b894-f064738249fc",
   "metadata": {},
   "outputs": [],
   "source": [
    "import json\n",
    "from pprint import pprint\n",
    "\n",
    "import pandas as pd\n",
    "import numpy as np \n",
    "import matplotlib.pyplot as plt\n",
    "from scipy import stats\n",
    "import seaborn as sns\n",
    "\n",
    "import PicSureHpdsLib\n",
    "import PicSureClient\n",
    "\n",
    "from python_lib.utils import get_multiIndex_variablesDict, joining_variablesDict_onCol"
   ]
  },
  {
   "cell_type": "markdown",
   "id": "0a628c7d-e86a-4ab7-bff6-a5659d216918",
   "metadata": {},
   "source": [
    "Set the display parameter for tables and plots"
   ]
  },
  {
   "cell_type": "code",
   "execution_count": 5,
   "id": "346c8f5e-9a8b-4655-a061-055964615cc3",
   "metadata": {},
   "outputs": [],
   "source": [
    "# Pandas DataFrame display options\n",
    "pd.set_option(\"max.rows\", 100)\n",
    "\n",
    "# Matplotlib display parameters\n",
    "plt.rcParams[\"figure.figsize\"] = (14,8)\n",
    "font = {'weight' : 'bold',\n",
    "        'size'   : 12}\n",
    "plt.rc('font', **font)"
   ]
  },
  {
   "cell_type": "markdown",
   "id": "30c2acc6-a25c-4248-8657-61362530d531",
   "metadata": {},
   "source": [
    "## Connecting to a PIC-SURE resource"
   ]
  },
  {
   "cell_type": "markdown",
   "id": "81f0b91c-7f32-47e2-a7e5-d0a7e475a7e7",
   "metadata": {},
   "source": [
    "The following is required to get access to data through the PIC-SURE API: \n",
    "- Network URL\n",
    "- Resource ID\n",
    "- User-specific security token"
   ]
  },
  {
   "cell_type": "markdown",
   "id": "d83f9c1d-6c40-41cb-9433-22a3b8db73fd",
   "metadata": {},
   "source": [
    "If you have not already retrieved your user-specific token, please refer to the \"Get your security token\" section of the [README.md](https://github.com/hms-dbmi/Access-to-Data-using-PIC-SURE-API/tree/master/NHLBI_BioData_Catalyst#get-your-security-token) file."
   ]
  },
  {
   "cell_type": "markdown",
   "id": "d1737038-f433-417e-95e1-f0e9466a8da6",
   "metadata": {},
   "source": [
    "***Note: You will not be able to connect to the PrecisionLink PIC-SURE resource if you are not on the Boston Children's Hospital network. Please ensure that you are connected to the BCH network via one of these options:***\n",
    "- ***TCH or BCH-R wireless options***\n",
    "- ***the web or full Virtual Private Network (VPN)***"
   ]
  },
  {
   "cell_type": "code",
   "execution_count": 6,
   "id": "41011cc4-90ed-41e7-a614-2a0479e1d819",
   "metadata": {},
   "outputs": [],
   "source": [
    "PICSURE_network_URL = \"https://precisionlink-biobank4discovery.childrens.harvard.edu/picsure/\"\n",
    "resource_id = \"6aa47730-3288-4c45-bfa1-5a8730666016\"\n",
    "token_file = \"token.txt\""
   ]
  },
  {
   "cell_type": "code",
   "execution_count": 7,
   "id": "f9cdf3db-7656-4348-b506-b8d57415978c",
   "metadata": {},
   "outputs": [],
   "source": [
    "with open(token_file, \"r\") as f:\n",
    "    my_token = f.read()"
   ]
  },
  {
   "cell_type": "code",
   "execution_count": 8,
   "id": "79bfd042-ef07-4e5d-a51b-16417cc082ab",
   "metadata": {},
   "outputs": [
    {
     "name": "stdout",
     "output_type": "stream",
     "text": [
      "\u001b[38;5;91;40m\n",
      "\n",
      "+=========================================================================================+\n",
      "|        [ WARNING ] you are specifying that you WANT to allow self-signed SSL            |\n",
      "|        certificates to be acceptable for connections.  This may be useful for           |\n",
      "|        working in a development environment or on systems that host public              |\n",
      "|        data.  BEST SECURITY PRACTICES ARE THAT IF YOU ARE WORKING WITH SENSITIVE        |\n",
      "|        DATA THEN ALL SSL CERTS BY THOSE EVIRONMENTS SHOULD NOT BE SELF-SIGNED.          |\n",
      "+=========================================================================================+\n",
      "\u001b[39;49m\n",
      "+--------------------------------------+------------------------------------------------------+\n",
      "|  Resource UUID                       |  Resource Name                                       |\n",
      "+--------------------------------------+------------------------------------------------------+\n",
      "| 6aa47730-3288-4c45-bfa1-5a8730666016 |                                                      |\n",
      "+--------------------------------------+------------------------------------------------------+\n"
     ]
    }
   ],
   "source": [
    "client = PicSureClient.Client()\n",
    "connection = client.connect(PICSURE_network_URL, my_token, True)\n",
    "adapter = PicSureHpdsLib.Adapter(connection)\n",
    "resource = adapter.useResource(resource_id)"
   ]
  },
  {
   "cell_type": "markdown",
   "id": "1c7ec475-ad52-4163-9a43-e1ec18f3bbad",
   "metadata": {},
   "source": [
    "Two objects are created here: a `connection` and a `resource` object.\n",
    "\n",
    "Since will only be using a single resource, **the `resource` object is actually the only one we will need to proceed with data analysis hereafter**. \n",
    "\n",
    "It is connected to the specific data source ID we specified and enables us to query and retrieve data from this database."
   ]
  },
  {
   "cell_type": "markdown",
   "id": "d0261ee9-aaf1-4789-adf0-2c326bc4d184",
   "metadata": {},
   "source": [
    "## Getting help with the PIC-SURE API"
   ]
  },
  {
   "cell_type": "markdown",
   "id": "5a5b4b0d-8850-4e06-8763-097ddd20e1b0",
   "metadata": {},
   "source": [
    "Each object exposed by the PicSureHpds library has a `help()` method. Calling it without parameters will print out  information about functionalities of this object."
   ]
  },
  {
   "cell_type": "code",
   "execution_count": 9,
   "id": "211fe9be-e810-4542-8193-fb23ca9ea329",
   "metadata": {},
   "outputs": [
    {
     "name": "stdout",
     "output_type": "stream",
     "text": [
      "\n",
      "        [HELP] PicSureHpdsLib.useResource(resource_uuid)\n",
      "            .dictionary()       Used to access data dictionary of the resource\n",
      "            .query()            Used to query against data in the resource\n",
      "            .retrieveQueryResults(query_uuid) returns the results of an asynchronous query that has already been submitted to PICSURE\n",
      "\n",
      "        [ENVIRONMENT]\n",
      "              Endpoint URL: https://precisionlink-biobank4discovery.childrens.harvard.edu/picsure/\n",
      "             Resource UUID: 6aa47730-3288-4c45-bfa1-5a8730666016\n"
     ]
    }
   ],
   "source": [
    "resource.help()"
   ]
  },
  {
   "cell_type": "markdown",
   "id": "d8187e3e-74d3-4b50-afac-c8fe76a1acd6",
   "metadata": {},
   "source": [
    "For instance, this output tells us that this `resource` object has 3 methods, and it gives a quick definition of those methods. "
   ]
  },
  {
   "cell_type": "markdown",
   "id": "6453f971-77eb-4e20-901c-191a5624d162",
   "metadata": {},
   "source": [
    "## Using the *variables dictionary*"
   ]
  },
  {
   "cell_type": "markdown",
   "id": "dd60678d-d133-49f0-87ff-f69d6ce5ff87",
   "metadata": {},
   "source": [
    "Once a connection to the desired resource has been established, we first need to understand which variables are available in the database. To this end, we will use the `dictionary` method of the `resource` object."
   ]
  },
  {
   "cell_type": "markdown",
   "id": "aa55ec51-ab34-4baf-b9f1-3d990cdd626f",
   "metadata": {},
   "source": [
    "A `dictionary` instance enables us to retrieve matching records by searching for a specific term, or to retrieve information about all the available variables, using the `find()` method. For instance, looking for variables containing the term `Calcium` in their names is done this way: "
   ]
  },
  {
   "cell_type": "code",
   "execution_count": 10,
   "id": "4abb9781-38b9-4541-9e12-63800cb76b52",
   "metadata": {},
   "outputs": [],
   "source": [
    "dictionary = resource.dictionary()\n",
    "dictionary_search = dictionary.find(\"Calcium\")"
   ]
  },
  {
   "cell_type": "markdown",
   "id": "30d4356f-991e-4571-91c6-5af96a36fdef",
   "metadata": {},
   "source": [
    "Note: Using the `dictionary.find()` function without arguments will return every entry, as shown in the help documentation.\n",
    "We included the term \"Calcium\" as we are only interested in entries related to calcium.\n",
    "\n",
    "Subsequently, objects created by the `dictionary.find` method expose the search results via 4 different methods: `.count()`, `.keys()`, `.entries()`, and `.DataFrame()`."
   ]
  },
  {
   "cell_type": "code",
   "execution_count": 11,
   "id": "345078a3-5deb-441e-ba25-ef383f722509",
   "metadata": {
    "tags": []
   },
   "outputs": [
    {
     "name": "stdout",
     "output_type": "stream",
     "text": [
      "{'Count': 93,\n",
      " 'Entries': [{'HpdsDataType': 'phenotypes',\n",
      "              'categorical': True,\n",
      "              'categoryValues': ['Billing Diagnosis',\n",
      "                                 'Final',\n",
      "                                 'Final - Epic',\n",
      "                                 'QCC'],\n",
      "              'name': '\\\\Diagnosis\\\\ICD-10-CM Diagnoses (2015) with '\n",
      "                      'ICD9\\\\Certain conditions originating in the perinatal '\n",
      "                      'period (P00-P96)\\\\Transitory endocrine and metabolic '\n",
      "                      'disorders specific to newborn (P70-P74)\\\\Transitory '\n",
      "                      'neonatal disorders of calcium and magnesium '\n",
      "                      'metabolism\\\\Neonatal hypomagnesemia\\\\Hypocalcemia and '\n",
      "                      'hypomagnesemia of newborn\\\\',\n",
      "              'observationCount': 57,\n",
      "              'patientCount': 29},\n",
      "             {'HpdsDataType': 'phenotypes',\n",
      "              'categorical': True,\n",
      "              'categoryValues': ['H'],\n",
      "              'name': '\\\\Medications\\\\Any calcium lactate\\\\',\n",
      "              'observationCount': 1,\n",
      "              'patientCount': 1},\n",
      "             {'HpdsDataType': 'phenotypes',\n",
      "              'categorical': True,\n",
      "              'categoryValues': ['POSITIVE'],\n",
      "              'name': '\\\\Notes\\\\US Edition of SNOMED CT\\\\Clinical '\n",
      "                      'finding\\\\Disease\\\\Metabolic disease\\\\Disorder of '\n",
      "                      'mineral metabolism\\\\Disorder of phosphate, calcium and '\n",
      "                      'vitamin D metabolism\\\\Disorder of phosphorus '\n",
      "                      'metabolism\\\\Hyperphosphaturia\\\\',\n",
      "              'observationCount': 1,\n",
      "              'patientCount': 1},\n",
      "             {'HpdsDataType': 'phenotypes',\n",
      "              'categorical': True,\n",
      "              'categoryValues': ['NEGATIVE', 'POSITIVE'],\n",
      "              'name': '\\\\Notes\\\\US Edition of SNOMED CT\\\\Procedure\\\\Procedure '\n",
      "                      'by method\\\\Evaluation procedure\\\\Evaluation of urine '\n",
      "                      'specimen\\\\Creatinine measurement, urine\\\\Urine '\n",
      "                      'calcium   creatinine ratio measurement\\\\',\n",
      "              'observationCount': 39,\n",
      "              'patientCount': 39},\n",
      "             {'HpdsDataType': 'phenotypes',\n",
      "              'categorical': True,\n",
      "              'categoryValues': ['Billing Diagnosis', 'Final', 'QCC'],\n",
      "              'name': '\\\\Diagnosis\\\\ICD-10-CM Diagnoses (2015) with '\n",
      "                      'ICD9\\\\Endocrine, nutritional and metabolic diseases '\n",
      "                      '(E00-E89)\\\\Other nutritional deficiencies '\n",
      "                      '(E50-E64)\\\\Dietary calcium deficiency\\\\Deficiency of '\n",
      "                      'calcium, dietary\\\\',\n",
      "              'observationCount': 183,\n",
      "              'patientCount': 52}],\n",
      " 'Keys': ['\\\\Diagnosis\\\\ICD-10-CM Diagnoses (2015) with ICD9\\\\Certain '\n",
      "          'conditions originating in the perinatal period '\n",
      "          '(P00-P96)\\\\Transitory endocrine and metabolic disorders specific to '\n",
      "          'newborn (P70-P74)\\\\Transitory neonatal disorders of calcium and '\n",
      "          'magnesium metabolism\\\\Neonatal hypomagnesemia\\\\Hypocalcemia and '\n",
      "          'hypomagnesemia of newborn\\\\',\n",
      "          '\\\\Medications\\\\Any calcium lactate\\\\',\n",
      "          '\\\\Notes\\\\US Edition of SNOMED CT\\\\Clinical '\n",
      "          'finding\\\\Disease\\\\Metabolic disease\\\\Disorder of mineral '\n",
      "          'metabolism\\\\Disorder of phosphate, calcium and vitamin D '\n",
      "          'metabolism\\\\Disorder of phosphorus metabolism\\\\Hyperphosphaturia\\\\',\n",
      "          '\\\\Notes\\\\US Edition of SNOMED CT\\\\Procedure\\\\Procedure by '\n",
      "          'method\\\\Evaluation procedure\\\\Evaluation of urine '\n",
      "          'specimen\\\\Creatinine measurement, urine\\\\Urine calcium   creatinine '\n",
      "          'ratio measurement\\\\',\n",
      "          '\\\\Diagnosis\\\\ICD-10-CM Diagnoses (2015) with ICD9\\\\Endocrine, '\n",
      "          'nutritional and metabolic diseases (E00-E89)\\\\Other nutritional '\n",
      "          'deficiencies (E50-E64)\\\\Dietary calcium deficiency\\\\Deficiency of '\n",
      "          'calcium, dietary\\\\']}\n"
     ]
    }
   ],
   "source": [
    "pprint({\"Count\": dictionary_search.count(), \n",
    "        \"Keys\": dictionary_search.keys()[0:5],\n",
    "        \"Entries\": dictionary_search.entries()[0:5]})"
   ]
  },
  {
   "cell_type": "markdown",
   "id": "588dfd18-8679-4c27-ab09-5f2c84f3cd57",
   "metadata": {},
   "source": [
    "**The `.DataFrame()` method enables us to get the result of the dictionary search in a pandas DataFrame format. This way, it allows us to:** \n",
    "\n",
    "\n",
    "* Use the various information exposed in the dictionary (patient count, variable type ...) as criteria for variable selection.\n",
    "* Use the row names of the DataFrame to get the actual variable names to be used in the query, as shown below.\n",
    "\n",
    "Variable names aren't very pratical to use right away for two reasons:\n",
    "1. Very long\n",
    "2. Presence of backslashes that prevent from copy-pasting. \n",
    "\n",
    "However, retrieving the dictionary search result in the form of a dataframe can help access the variable names."
   ]
  },
  {
   "cell_type": "code",
   "execution_count": 12,
   "id": "b9b3da72-f0ae-4591-a0d7-d95919db91dd",
   "metadata": {},
   "outputs": [
    {
     "data": {
      "text/html": [
       "<div>\n",
       "<style scoped>\n",
       "    .dataframe tbody tr th:only-of-type {\n",
       "        vertical-align: middle;\n",
       "    }\n",
       "\n",
       "    .dataframe tbody tr th {\n",
       "        vertical-align: top;\n",
       "    }\n",
       "\n",
       "    .dataframe thead th {\n",
       "        text-align: right;\n",
       "    }\n",
       "</style>\n",
       "<table border=\"1\" class=\"dataframe\">\n",
       "  <thead>\n",
       "    <tr style=\"text-align: right;\">\n",
       "      <th></th>\n",
       "      <th>patientCount</th>\n",
       "      <th>categorical</th>\n",
       "      <th>categoryValues</th>\n",
       "      <th>observationCount</th>\n",
       "      <th>HpdsDataType</th>\n",
       "      <th>min</th>\n",
       "      <th>max</th>\n",
       "    </tr>\n",
       "    <tr>\n",
       "      <th>KEY</th>\n",
       "      <th></th>\n",
       "      <th></th>\n",
       "      <th></th>\n",
       "      <th></th>\n",
       "      <th></th>\n",
       "      <th></th>\n",
       "      <th></th>\n",
       "    </tr>\n",
       "  </thead>\n",
       "  <tbody>\n",
       "    <tr>\n",
       "      <th>\\Diagnosis\\ICD-10-CM Diagnoses (2015) with ICD9\\Certain conditions originating in the perinatal period (P00-P96)\\Transitory endocrine and metabolic disorders specific to newborn (P70-P74)\\Transitory neonatal disorders of calcium and magnesium metabolism\\Neonatal hypomagnesemia\\Hypocalcemia and hypomagnesemia of newborn\\</th>\n",
       "      <td>29</td>\n",
       "      <td>True</td>\n",
       "      <td>[Billing Diagnosis, Final, Final - Epic, QCC]</td>\n",
       "      <td>57</td>\n",
       "      <td>phenotypes</td>\n",
       "      <td>NaN</td>\n",
       "      <td>NaN</td>\n",
       "    </tr>\n",
       "    <tr>\n",
       "      <th>\\Medications\\Any calcium lactate\\</th>\n",
       "      <td>1</td>\n",
       "      <td>True</td>\n",
       "      <td>[H]</td>\n",
       "      <td>1</td>\n",
       "      <td>phenotypes</td>\n",
       "      <td>NaN</td>\n",
       "      <td>NaN</td>\n",
       "    </tr>\n",
       "    <tr>\n",
       "      <th>\\Notes\\US Edition of SNOMED CT\\Clinical finding\\Disease\\Metabolic disease\\Disorder of mineral metabolism\\Disorder of phosphate, calcium and vitamin D metabolism\\Disorder of phosphorus metabolism\\Hyperphosphaturia\\</th>\n",
       "      <td>1</td>\n",
       "      <td>True</td>\n",
       "      <td>[POSITIVE]</td>\n",
       "      <td>1</td>\n",
       "      <td>phenotypes</td>\n",
       "      <td>NaN</td>\n",
       "      <td>NaN</td>\n",
       "    </tr>\n",
       "    <tr>\n",
       "      <th>\\Notes\\US Edition of SNOMED CT\\Procedure\\Procedure by method\\Evaluation procedure\\Evaluation of urine specimen\\Creatinine measurement, urine\\Urine calcium   creatinine ratio measurement\\</th>\n",
       "      <td>39</td>\n",
       "      <td>True</td>\n",
       "      <td>[NEGATIVE, POSITIVE]</td>\n",
       "      <td>39</td>\n",
       "      <td>phenotypes</td>\n",
       "      <td>NaN</td>\n",
       "      <td>NaN</td>\n",
       "    </tr>\n",
       "    <tr>\n",
       "      <th>\\Diagnosis\\ICD-10-CM Diagnoses (2015) with ICD9\\Endocrine, nutritional and metabolic diseases (E00-E89)\\Other nutritional deficiencies (E50-E64)\\Dietary calcium deficiency\\Deficiency of calcium, dietary\\</th>\n",
       "      <td>52</td>\n",
       "      <td>True</td>\n",
       "      <td>[Billing Diagnosis, Final, QCC]</td>\n",
       "      <td>183</td>\n",
       "      <td>phenotypes</td>\n",
       "      <td>NaN</td>\n",
       "      <td>NaN</td>\n",
       "    </tr>\n",
       "  </tbody>\n",
       "</table>\n",
       "</div>"
      ],
      "text/plain": [
       "                                                    patientCount  categorical  \\\n",
       "KEY                                                                             \n",
       "\\Diagnosis\\ICD-10-CM Diagnoses (2015) with ICD9...            29         True   \n",
       "\\Medications\\Any calcium lactate\\                              1         True   \n",
       "\\Notes\\US Edition of SNOMED CT\\Clinical finding...             1         True   \n",
       "\\Notes\\US Edition of SNOMED CT\\Procedure\\Proced...            39         True   \n",
       "\\Diagnosis\\ICD-10-CM Diagnoses (2015) with ICD9...            52         True   \n",
       "\n",
       "                                                                                   categoryValues  \\\n",
       "KEY                                                                                                 \n",
       "\\Diagnosis\\ICD-10-CM Diagnoses (2015) with ICD9...  [Billing Diagnosis, Final, Final - Epic, QCC]   \n",
       "\\Medications\\Any calcium lactate\\                                                             [H]   \n",
       "\\Notes\\US Edition of SNOMED CT\\Clinical finding...                                     [POSITIVE]   \n",
       "\\Notes\\US Edition of SNOMED CT\\Procedure\\Proced...                           [NEGATIVE, POSITIVE]   \n",
       "\\Diagnosis\\ICD-10-CM Diagnoses (2015) with ICD9...                [Billing Diagnosis, Final, QCC]   \n",
       "\n",
       "                                                    observationCount  \\\n",
       "KEY                                                                    \n",
       "\\Diagnosis\\ICD-10-CM Diagnoses (2015) with ICD9...                57   \n",
       "\\Medications\\Any calcium lactate\\                                  1   \n",
       "\\Notes\\US Edition of SNOMED CT\\Clinical finding...                 1   \n",
       "\\Notes\\US Edition of SNOMED CT\\Procedure\\Proced...                39   \n",
       "\\Diagnosis\\ICD-10-CM Diagnoses (2015) with ICD9...               183   \n",
       "\n",
       "                                                   HpdsDataType  min  max  \n",
       "KEY                                                                        \n",
       "\\Diagnosis\\ICD-10-CM Diagnoses (2015) with ICD9...   phenotypes  NaN  NaN  \n",
       "\\Medications\\Any calcium lactate\\                    phenotypes  NaN  NaN  \n",
       "\\Notes\\US Edition of SNOMED CT\\Clinical finding...   phenotypes  NaN  NaN  \n",
       "\\Notes\\US Edition of SNOMED CT\\Procedure\\Proced...   phenotypes  NaN  NaN  \n",
       "\\Diagnosis\\ICD-10-CM Diagnoses (2015) with ICD9...   phenotypes  NaN  NaN  "
      ]
     },
     "execution_count": 12,
     "metadata": {},
     "output_type": "execute_result"
    }
   ],
   "source": [
    "dictionary_search.DataFrame().head()"
   ]
  },
  {
   "cell_type": "markdown",
   "id": "47edcd3d-0d0a-4743-b64b-ad90a3c3b57b",
   "metadata": {},
   "source": [
    "The dictionary currently returned by the API provides information about the variables, such as:\n",
    "- observationCount: number of entries with non-null value\n",
    "- categorical: type of the variables, True if strings, False if numerical\n",
    "- min/max: only provided for numerical variables\n",
    "- HpdsDataType: 'phenotypes' or 'genotypes'. Currently, the API only expsoses'phenotypes' variables"
   ]
  },
  {
   "cell_type": "markdown",
   "id": "e963f163-763e-4a84-9a88-219cbd2a3b34",
   "metadata": {},
   "source": [
    "## Variable dictionary and pandas multiIndex\n",
    "\n",
    "We can use a simple user-defined function (`get_multiIndex_variablesDict`) to add a little more information to the variable dictionary and to simplify working with variables names. It takes advantage of pandas MultiIndex functionality [see pandas official documentation on this topic](https://pandas.pydata.org/pandas-docs/stable/user_guide/advanced.html).\n",
    "\n",
    "Although not an official feature of the API, such functionality illustrates how to quickly select groups of related variables.\n",
    "\n",
    "Printing the multiIndexed variable Dictionary allows to quickly see the tree-like organization of the variable names. Moreover, original and simplified variable names are now stored respectively in the `varName` and `simplified_varName` columns (simplified variable names is simply the last component of the variable name, which is usually the most informative to know what each variable is about)."
   ]
  },
  {
   "cell_type": "code",
   "execution_count": 13,
   "id": "c8504fed-48d6-47fa-aa2c-e71aa5166b72",
   "metadata": {},
   "outputs": [
    {
     "data": {
      "text/html": [
       "<div>\n",
       "<style scoped>\n",
       "    .dataframe tbody tr th:only-of-type {\n",
       "        vertical-align: middle;\n",
       "    }\n",
       "\n",
       "    .dataframe tbody tr th {\n",
       "        vertical-align: top;\n",
       "    }\n",
       "\n",
       "    .dataframe thead th {\n",
       "        text-align: right;\n",
       "    }\n",
       "</style>\n",
       "<table border=\"1\" class=\"dataframe\">\n",
       "  <thead>\n",
       "    <tr style=\"text-align: right;\">\n",
       "      <th></th>\n",
       "      <th></th>\n",
       "      <th></th>\n",
       "      <th></th>\n",
       "      <th></th>\n",
       "      <th></th>\n",
       "      <th></th>\n",
       "      <th></th>\n",
       "      <th></th>\n",
       "      <th></th>\n",
       "      <th></th>\n",
       "      <th></th>\n",
       "      <th>simplified_name</th>\n",
       "      <th>name</th>\n",
       "      <th>observationCount</th>\n",
       "      <th>categorical</th>\n",
       "      <th>categoryValues</th>\n",
       "      <th>nb_modalities</th>\n",
       "      <th>min</th>\n",
       "      <th>max</th>\n",
       "      <th>HpdsDataType</th>\n",
       "    </tr>\n",
       "    <tr>\n",
       "      <th>level_0</th>\n",
       "      <th>level_1</th>\n",
       "      <th>level_2</th>\n",
       "      <th>level_3</th>\n",
       "      <th>level_4</th>\n",
       "      <th>level_5</th>\n",
       "      <th>level_6</th>\n",
       "      <th>level_7</th>\n",
       "      <th>level_8</th>\n",
       "      <th>level_9</th>\n",
       "      <th>level_10</th>\n",
       "      <th>level_11</th>\n",
       "      <th></th>\n",
       "      <th></th>\n",
       "      <th></th>\n",
       "      <th></th>\n",
       "      <th></th>\n",
       "      <th></th>\n",
       "      <th></th>\n",
       "      <th></th>\n",
       "      <th></th>\n",
       "    </tr>\n",
       "  </thead>\n",
       "  <tbody>\n",
       "    <tr>\n",
       "      <th rowspan=\"5\" valign=\"top\">Diagnosis</th>\n",
       "      <th rowspan=\"5\" valign=\"top\">ICD-10-CM Diagnoses (2015) with ICD9</th>\n",
       "      <th rowspan=\"5\" valign=\"top\">Certain conditions originating in the perinatal period (P00-P96)</th>\n",
       "      <th rowspan=\"5\" valign=\"top\">Transitory endocrine and metabolic disorders specific to newborn (P70-P74)</th>\n",
       "      <th rowspan=\"5\" valign=\"top\">Transitory neonatal disorders of calcium and magnesium metabolism</th>\n",
       "      <th>Cow's milk hypocalcemia in newborn</th>\n",
       "      <th>Neonatal hypocalcemic tetany</th>\n",
       "      <th>NaN</th>\n",
       "      <th>NaN</th>\n",
       "      <th>NaN</th>\n",
       "      <th>NaN</th>\n",
       "      <th>NaN</th>\n",
       "      <td>Neonatal hypocalcemic tetany</td>\n",
       "      <td>\\Diagnosis\\ICD-10-CM Diagnoses (2015) with ICD...</td>\n",
       "      <td>57</td>\n",
       "      <td>True</td>\n",
       "      <td>[Billing Diagnosis, Final, Final - Epic, QCC]</td>\n",
       "      <td>4.0</td>\n",
       "      <td>NaN</td>\n",
       "      <td>NaN</td>\n",
       "      <td>phenotypes</td>\n",
       "    </tr>\n",
       "    <tr>\n",
       "      <th rowspan=\"2\" valign=\"top\">Neonatal hypomagnesemia</th>\n",
       "      <th>NaN</th>\n",
       "      <th>NaN</th>\n",
       "      <th>NaN</th>\n",
       "      <th>NaN</th>\n",
       "      <th>NaN</th>\n",
       "      <th>NaN</th>\n",
       "      <td>Neonatal hypomagnesemia</td>\n",
       "      <td>\\Diagnosis\\ICD-10-CM Diagnoses (2015) with ICD...</td>\n",
       "      <td>11</td>\n",
       "      <td>True</td>\n",
       "      <td>[Billing Diagnosis, Final, QCC]</td>\n",
       "      <td>3.0</td>\n",
       "      <td>NaN</td>\n",
       "      <td>NaN</td>\n",
       "      <td>phenotypes</td>\n",
       "    </tr>\n",
       "    <tr>\n",
       "      <th>Hypocalcemia and hypomagnesemia of newborn</th>\n",
       "      <th>NaN</th>\n",
       "      <th>NaN</th>\n",
       "      <th>NaN</th>\n",
       "      <th>NaN</th>\n",
       "      <th>NaN</th>\n",
       "      <td>Hypocalcemia and hypomagnesemia of newborn</td>\n",
       "      <td>\\Diagnosis\\ICD-10-CM Diagnoses (2015) with ICD...</td>\n",
       "      <td>57</td>\n",
       "      <td>True</td>\n",
       "      <td>[Billing Diagnosis, Final, Final - Epic, QCC]</td>\n",
       "      <td>4.0</td>\n",
       "      <td>NaN</td>\n",
       "      <td>NaN</td>\n",
       "      <td>phenotypes</td>\n",
       "    </tr>\n",
       "    <tr>\n",
       "      <th>Neonatal tetany NOS</th>\n",
       "      <th>Hypocalcemia and hypomagnesemia of newborn</th>\n",
       "      <th>NaN</th>\n",
       "      <th>NaN</th>\n",
       "      <th>NaN</th>\n",
       "      <th>NaN</th>\n",
       "      <th>NaN</th>\n",
       "      <td>Hypocalcemia and hypomagnesemia of newborn</td>\n",
       "      <td>\\Diagnosis\\ICD-10-CM Diagnoses (2015) with ICD...</td>\n",
       "      <td>57</td>\n",
       "      <td>True</td>\n",
       "      <td>[Billing Diagnosis, Final, Final - Epic, QCC]</td>\n",
       "      <td>4.0</td>\n",
       "      <td>NaN</td>\n",
       "      <td>NaN</td>\n",
       "      <td>phenotypes</td>\n",
       "    </tr>\n",
       "    <tr>\n",
       "      <th>Other neonatal hypocalcemia</th>\n",
       "      <th>NaN</th>\n",
       "      <th>NaN</th>\n",
       "      <th>NaN</th>\n",
       "      <th>NaN</th>\n",
       "      <th>NaN</th>\n",
       "      <th>NaN</th>\n",
       "      <td>Other neonatal hypocalcemia</td>\n",
       "      <td>\\Diagnosis\\ICD-10-CM Diagnoses (2015) with ICD...</td>\n",
       "      <td>31</td>\n",
       "      <td>True</td>\n",
       "      <td>[Billing Diagnosis, Final, QCC]</td>\n",
       "      <td>3.0</td>\n",
       "      <td>NaN</td>\n",
       "      <td>NaN</td>\n",
       "      <td>phenotypes</td>\n",
       "    </tr>\n",
       "  </tbody>\n",
       "</table>\n",
       "</div>"
      ],
      "text/plain": [
       "                                                                                                                                                                                                                                                                                                                                                            simplified_name  \\\n",
       "level_0   level_1                              level_2                                            level_3                                            level_4                                            level_5                            level_6                                    level_7 level_8 level_9 level_10 level_11                                               \n",
       "Diagnosis ICD-10-CM Diagnoses (2015) with ICD9 Certain conditions originating in the perinatal... Transitory endocrine and metabolic disorders sp... Transitory neonatal disorders of calcium and ma... Cow's milk hypocalcemia in newborn Neonatal hypocalcemic tetany               NaN     NaN     NaN     NaN      NaN                     Neonatal hypocalcemic tetany   \n",
       "                                                                                                                                                                                                        Neonatal hypomagnesemia            NaN                                        NaN     NaN     NaN     NaN      NaN                          Neonatal hypomagnesemia   \n",
       "                                                                                                                                                                                                                                           Hypocalcemia and hypomagnesemia of newborn NaN     NaN     NaN     NaN      NaN       Hypocalcemia and hypomagnesemia of newborn   \n",
       "                                                                                                                                                                                                        Neonatal tetany NOS                Hypocalcemia and hypomagnesemia of newborn NaN     NaN     NaN     NaN      NaN       Hypocalcemia and hypomagnesemia of newborn   \n",
       "                                                                                                                                                                                                        Other neonatal hypocalcemia        NaN                                        NaN     NaN     NaN     NaN      NaN                      Other neonatal hypocalcemia   \n",
       "\n",
       "                                                                                                                                                                                                                                                                                                                                                                              name  \\\n",
       "level_0   level_1                              level_2                                            level_3                                            level_4                                            level_5                            level_6                                    level_7 level_8 level_9 level_10 level_11                                                      \n",
       "Diagnosis ICD-10-CM Diagnoses (2015) with ICD9 Certain conditions originating in the perinatal... Transitory endocrine and metabolic disorders sp... Transitory neonatal disorders of calcium and ma... Cow's milk hypocalcemia in newborn Neonatal hypocalcemic tetany               NaN     NaN     NaN     NaN      NaN       \\Diagnosis\\ICD-10-CM Diagnoses (2015) with ICD...   \n",
       "                                                                                                                                                                                                        Neonatal hypomagnesemia            NaN                                        NaN     NaN     NaN     NaN      NaN       \\Diagnosis\\ICD-10-CM Diagnoses (2015) with ICD...   \n",
       "                                                                                                                                                                                                                                           Hypocalcemia and hypomagnesemia of newborn NaN     NaN     NaN     NaN      NaN       \\Diagnosis\\ICD-10-CM Diagnoses (2015) with ICD...   \n",
       "                                                                                                                                                                                                        Neonatal tetany NOS                Hypocalcemia and hypomagnesemia of newborn NaN     NaN     NaN     NaN      NaN       \\Diagnosis\\ICD-10-CM Diagnoses (2015) with ICD...   \n",
       "                                                                                                                                                                                                        Other neonatal hypocalcemia        NaN                                        NaN     NaN     NaN     NaN      NaN       \\Diagnosis\\ICD-10-CM Diagnoses (2015) with ICD...   \n",
       "\n",
       "                                                                                                                                                                                                                                                                                                                                 observationCount  \\\n",
       "level_0   level_1                              level_2                                            level_3                                            level_4                                            level_5                            level_6                                    level_7 level_8 level_9 level_10 level_11                     \n",
       "Diagnosis ICD-10-CM Diagnoses (2015) with ICD9 Certain conditions originating in the perinatal... Transitory endocrine and metabolic disorders sp... Transitory neonatal disorders of calcium and ma... Cow's milk hypocalcemia in newborn Neonatal hypocalcemic tetany               NaN     NaN     NaN     NaN      NaN                     57   \n",
       "                                                                                                                                                                                                        Neonatal hypomagnesemia            NaN                                        NaN     NaN     NaN     NaN      NaN                     11   \n",
       "                                                                                                                                                                                                                                           Hypocalcemia and hypomagnesemia of newborn NaN     NaN     NaN     NaN      NaN                     57   \n",
       "                                                                                                                                                                                                        Neonatal tetany NOS                Hypocalcemia and hypomagnesemia of newborn NaN     NaN     NaN     NaN      NaN                     57   \n",
       "                                                                                                                                                                                                        Other neonatal hypocalcemia        NaN                                        NaN     NaN     NaN     NaN      NaN                     31   \n",
       "\n",
       "                                                                                                                                                                                                                                                                                                                                 categorical  \\\n",
       "level_0   level_1                              level_2                                            level_3                                            level_4                                            level_5                            level_6                                    level_7 level_8 level_9 level_10 level_11                \n",
       "Diagnosis ICD-10-CM Diagnoses (2015) with ICD9 Certain conditions originating in the perinatal... Transitory endocrine and metabolic disorders sp... Transitory neonatal disorders of calcium and ma... Cow's milk hypocalcemia in newborn Neonatal hypocalcemic tetany               NaN     NaN     NaN     NaN      NaN              True   \n",
       "                                                                                                                                                                                                        Neonatal hypomagnesemia            NaN                                        NaN     NaN     NaN     NaN      NaN              True   \n",
       "                                                                                                                                                                                                                                           Hypocalcemia and hypomagnesemia of newborn NaN     NaN     NaN     NaN      NaN              True   \n",
       "                                                                                                                                                                                                        Neonatal tetany NOS                Hypocalcemia and hypomagnesemia of newborn NaN     NaN     NaN     NaN      NaN              True   \n",
       "                                                                                                                                                                                                        Other neonatal hypocalcemia        NaN                                        NaN     NaN     NaN     NaN      NaN              True   \n",
       "\n",
       "                                                                                                                                                                                                                                                                                                                                                                categoryValues  \\\n",
       "level_0   level_1                              level_2                                            level_3                                            level_4                                            level_5                            level_6                                    level_7 level_8 level_9 level_10 level_11                                                  \n",
       "Diagnosis ICD-10-CM Diagnoses (2015) with ICD9 Certain conditions originating in the perinatal... Transitory endocrine and metabolic disorders sp... Transitory neonatal disorders of calcium and ma... Cow's milk hypocalcemia in newborn Neonatal hypocalcemic tetany               NaN     NaN     NaN     NaN      NaN       [Billing Diagnosis, Final, Final - Epic, QCC]   \n",
       "                                                                                                                                                                                                        Neonatal hypomagnesemia            NaN                                        NaN     NaN     NaN     NaN      NaN                     [Billing Diagnosis, Final, QCC]   \n",
       "                                                                                                                                                                                                                                           Hypocalcemia and hypomagnesemia of newborn NaN     NaN     NaN     NaN      NaN       [Billing Diagnosis, Final, Final - Epic, QCC]   \n",
       "                                                                                                                                                                                                        Neonatal tetany NOS                Hypocalcemia and hypomagnesemia of newborn NaN     NaN     NaN     NaN      NaN       [Billing Diagnosis, Final, Final - Epic, QCC]   \n",
       "                                                                                                                                                                                                        Other neonatal hypocalcemia        NaN                                        NaN     NaN     NaN     NaN      NaN                     [Billing Diagnosis, Final, QCC]   \n",
       "\n",
       "                                                                                                                                                                                                                                                                                                                                 nb_modalities  \\\n",
       "level_0   level_1                              level_2                                            level_3                                            level_4                                            level_5                            level_6                                    level_7 level_8 level_9 level_10 level_11                  \n",
       "Diagnosis ICD-10-CM Diagnoses (2015) with ICD9 Certain conditions originating in the perinatal... Transitory endocrine and metabolic disorders sp... Transitory neonatal disorders of calcium and ma... Cow's milk hypocalcemia in newborn Neonatal hypocalcemic tetany               NaN     NaN     NaN     NaN      NaN                 4.0   \n",
       "                                                                                                                                                                                                        Neonatal hypomagnesemia            NaN                                        NaN     NaN     NaN     NaN      NaN                 3.0   \n",
       "                                                                                                                                                                                                                                           Hypocalcemia and hypomagnesemia of newborn NaN     NaN     NaN     NaN      NaN                 4.0   \n",
       "                                                                                                                                                                                                        Neonatal tetany NOS                Hypocalcemia and hypomagnesemia of newborn NaN     NaN     NaN     NaN      NaN                 4.0   \n",
       "                                                                                                                                                                                                        Other neonatal hypocalcemia        NaN                                        NaN     NaN     NaN     NaN      NaN                 3.0   \n",
       "\n",
       "                                                                                                                                                                                                                                                                                                                                 min  \\\n",
       "level_0   level_1                              level_2                                            level_3                                            level_4                                            level_5                            level_6                                    level_7 level_8 level_9 level_10 level_11        \n",
       "Diagnosis ICD-10-CM Diagnoses (2015) with ICD9 Certain conditions originating in the perinatal... Transitory endocrine and metabolic disorders sp... Transitory neonatal disorders of calcium and ma... Cow's milk hypocalcemia in newborn Neonatal hypocalcemic tetany               NaN     NaN     NaN     NaN      NaN       NaN   \n",
       "                                                                                                                                                                                                        Neonatal hypomagnesemia            NaN                                        NaN     NaN     NaN     NaN      NaN       NaN   \n",
       "                                                                                                                                                                                                                                           Hypocalcemia and hypomagnesemia of newborn NaN     NaN     NaN     NaN      NaN       NaN   \n",
       "                                                                                                                                                                                                        Neonatal tetany NOS                Hypocalcemia and hypomagnesemia of newborn NaN     NaN     NaN     NaN      NaN       NaN   \n",
       "                                                                                                                                                                                                        Other neonatal hypocalcemia        NaN                                        NaN     NaN     NaN     NaN      NaN       NaN   \n",
       "\n",
       "                                                                                                                                                                                                                                                                                                                                 max  \\\n",
       "level_0   level_1                              level_2                                            level_3                                            level_4                                            level_5                            level_6                                    level_7 level_8 level_9 level_10 level_11        \n",
       "Diagnosis ICD-10-CM Diagnoses (2015) with ICD9 Certain conditions originating in the perinatal... Transitory endocrine and metabolic disorders sp... Transitory neonatal disorders of calcium and ma... Cow's milk hypocalcemia in newborn Neonatal hypocalcemic tetany               NaN     NaN     NaN     NaN      NaN       NaN   \n",
       "                                                                                                                                                                                                        Neonatal hypomagnesemia            NaN                                        NaN     NaN     NaN     NaN      NaN       NaN   \n",
       "                                                                                                                                                                                                                                           Hypocalcemia and hypomagnesemia of newborn NaN     NaN     NaN     NaN      NaN       NaN   \n",
       "                                                                                                                                                                                                        Neonatal tetany NOS                Hypocalcemia and hypomagnesemia of newborn NaN     NaN     NaN     NaN      NaN       NaN   \n",
       "                                                                                                                                                                                                        Other neonatal hypocalcemia        NaN                                        NaN     NaN     NaN     NaN      NaN       NaN   \n",
       "\n",
       "                                                                                                                                                                                                                                                                                                                                HpdsDataType  \n",
       "level_0   level_1                              level_2                                            level_3                                            level_4                                            level_5                            level_6                                    level_7 level_8 level_9 level_10 level_11               \n",
       "Diagnosis ICD-10-CM Diagnoses (2015) with ICD9 Certain conditions originating in the perinatal... Transitory endocrine and metabolic disorders sp... Transitory neonatal disorders of calcium and ma... Cow's milk hypocalcemia in newborn Neonatal hypocalcemic tetany               NaN     NaN     NaN     NaN      NaN        phenotypes  \n",
       "                                                                                                                                                                                                        Neonatal hypomagnesemia            NaN                                        NaN     NaN     NaN     NaN      NaN        phenotypes  \n",
       "                                                                                                                                                                                                                                           Hypocalcemia and hypomagnesemia of newborn NaN     NaN     NaN     NaN      NaN        phenotypes  \n",
       "                                                                                                                                                                                                        Neonatal tetany NOS                Hypocalcemia and hypomagnesemia of newborn NaN     NaN     NaN     NaN      NaN        phenotypes  \n",
       "                                                                                                                                                                                                        Other neonatal hypocalcemia        NaN                                        NaN     NaN     NaN     NaN      NaN        phenotypes  "
      ]
     },
     "execution_count": 13,
     "metadata": {},
     "output_type": "execute_result"
    }
   ],
   "source": [
    "multiindex = get_multiIndex_variablesDict(dictionary_search.DataFrame())\n",
    "multiindex.head()"
   ]
  },
  {
   "cell_type": "markdown",
   "id": "177c25b9-6f51-45b7-86a9-70cfc0dd4524",
   "metadata": {},
   "source": [
    "Below is a simple example to illustrate the simplicity of using a multiIndex dictionary. Let's say we are interested in every variable in the \"diseases of the respiratory system\" category."
   ]
  },
  {
   "cell_type": "code",
   "execution_count": 14,
   "id": "65a33705-0129-4660-b87c-604d7a5d99ec",
   "metadata": {},
   "outputs": [
    {
     "data": {
      "text/html": [
       "<div>\n",
       "<style scoped>\n",
       "    .dataframe tbody tr th:only-of-type {\n",
       "        vertical-align: middle;\n",
       "    }\n",
       "\n",
       "    .dataframe tbody tr th {\n",
       "        vertical-align: top;\n",
       "    }\n",
       "\n",
       "    .dataframe thead th {\n",
       "        text-align: right;\n",
       "    }\n",
       "</style>\n",
       "<table border=\"1\" class=\"dataframe\">\n",
       "  <thead>\n",
       "    <tr style=\"text-align: right;\">\n",
       "      <th></th>\n",
       "      <th></th>\n",
       "      <th></th>\n",
       "      <th></th>\n",
       "      <th></th>\n",
       "      <th></th>\n",
       "      <th></th>\n",
       "      <th></th>\n",
       "      <th></th>\n",
       "      <th></th>\n",
       "      <th></th>\n",
       "      <th></th>\n",
       "      <th></th>\n",
       "      <th></th>\n",
       "      <th></th>\n",
       "      <th></th>\n",
       "      <th></th>\n",
       "      <th></th>\n",
       "      <th></th>\n",
       "      <th></th>\n",
       "      <th></th>\n",
       "      <th></th>\n",
       "      <th></th>\n",
       "      <th></th>\n",
       "      <th></th>\n",
       "      <th>simplified_name</th>\n",
       "      <th>name</th>\n",
       "      <th>observationCount</th>\n",
       "      <th>categorical</th>\n",
       "      <th>categoryValues</th>\n",
       "      <th>nb_modalities</th>\n",
       "      <th>min</th>\n",
       "      <th>max</th>\n",
       "      <th>HpdsDataType</th>\n",
       "    </tr>\n",
       "    <tr>\n",
       "      <th>level_0</th>\n",
       "      <th>level_1</th>\n",
       "      <th>level_2</th>\n",
       "      <th>level_3</th>\n",
       "      <th>level_4</th>\n",
       "      <th>level_5</th>\n",
       "      <th>level_6</th>\n",
       "      <th>level_7</th>\n",
       "      <th>level_8</th>\n",
       "      <th>level_9</th>\n",
       "      <th>level_10</th>\n",
       "      <th>level_11</th>\n",
       "      <th>level_12</th>\n",
       "      <th>level_13</th>\n",
       "      <th>level_14</th>\n",
       "      <th>level_15</th>\n",
       "      <th>level_16</th>\n",
       "      <th>level_17</th>\n",
       "      <th>level_18</th>\n",
       "      <th>level_19</th>\n",
       "      <th>level_20</th>\n",
       "      <th>level_21</th>\n",
       "      <th>level_22</th>\n",
       "      <th>level_23</th>\n",
       "      <th>level_24</th>\n",
       "      <th></th>\n",
       "      <th></th>\n",
       "      <th></th>\n",
       "      <th></th>\n",
       "      <th></th>\n",
       "      <th></th>\n",
       "      <th></th>\n",
       "      <th></th>\n",
       "      <th></th>\n",
       "    </tr>\n",
       "  </thead>\n",
       "  <tbody>\n",
       "    <tr>\n",
       "      <th rowspan=\"5\" valign=\"top\">Diagnosis</th>\n",
       "      <th rowspan=\"5\" valign=\"top\">ICD-10-CM Diagnoses (2015) with ICD9</th>\n",
       "      <th rowspan=\"5\" valign=\"top\">Diseases of the respiratory system (J00-J99)</th>\n",
       "      <th rowspan=\"5\" valign=\"top\">Acute upper respiratory infections (J00-J06)</th>\n",
       "      <th rowspan=\"5\" valign=\"top\">Acute inflammation of sinus</th>\n",
       "      <th rowspan=\"3\" valign=\"top\">Acute antritis</th>\n",
       "      <th rowspan=\"2\" valign=\"top\">Acute maxillary sinusitis, unspecified</th>\n",
       "      <th>NaN</th>\n",
       "      <th>NaN</th>\n",
       "      <th>NaN</th>\n",
       "      <th>NaN</th>\n",
       "      <th>NaN</th>\n",
       "      <th>NaN</th>\n",
       "      <th>NaN</th>\n",
       "      <th>NaN</th>\n",
       "      <th>NaN</th>\n",
       "      <th>NaN</th>\n",
       "      <th>NaN</th>\n",
       "      <th>NaN</th>\n",
       "      <th>NaN</th>\n",
       "      <th>NaN</th>\n",
       "      <th>NaN</th>\n",
       "      <th>NaN</th>\n",
       "      <th>NaN</th>\n",
       "      <th>NaN</th>\n",
       "      <td>Acute maxillary sinusitis, unspecified</td>\n",
       "      <td>\\Diagnosis\\ICD-10-CM Diagnoses (2015) with ICD...</td>\n",
       "      <td>219.0</td>\n",
       "      <td>True</td>\n",
       "      <td>[Billing Diagnosis, Discharge, Final, QCC]</td>\n",
       "      <td>4.0</td>\n",
       "      <td>NaN</td>\n",
       "      <td>NaN</td>\n",
       "      <td>phenotypes</td>\n",
       "    </tr>\n",
       "    <tr>\n",
       "      <th>Acute antritis</th>\n",
       "      <th>NaN</th>\n",
       "      <th>NaN</th>\n",
       "      <th>NaN</th>\n",
       "      <th>NaN</th>\n",
       "      <th>NaN</th>\n",
       "      <th>NaN</th>\n",
       "      <th>NaN</th>\n",
       "      <th>NaN</th>\n",
       "      <th>NaN</th>\n",
       "      <th>NaN</th>\n",
       "      <th>NaN</th>\n",
       "      <th>NaN</th>\n",
       "      <th>NaN</th>\n",
       "      <th>NaN</th>\n",
       "      <th>NaN</th>\n",
       "      <th>NaN</th>\n",
       "      <th>NaN</th>\n",
       "      <td>Acute antritis</td>\n",
       "      <td>\\Diagnosis\\ICD-10-CM Diagnoses (2015) with ICD...</td>\n",
       "      <td>110.0</td>\n",
       "      <td>True</td>\n",
       "      <td>[Admitting, Billing Diagnosis, Final, QCC, Wor...</td>\n",
       "      <td>5.0</td>\n",
       "      <td>NaN</td>\n",
       "      <td>NaN</td>\n",
       "      <td>phenotypes</td>\n",
       "    </tr>\n",
       "    <tr>\n",
       "      <th>Acute recurrent maxillary sinusitis</th>\n",
       "      <th>NaN</th>\n",
       "      <th>NaN</th>\n",
       "      <th>NaN</th>\n",
       "      <th>NaN</th>\n",
       "      <th>NaN</th>\n",
       "      <th>NaN</th>\n",
       "      <th>NaN</th>\n",
       "      <th>NaN</th>\n",
       "      <th>NaN</th>\n",
       "      <th>NaN</th>\n",
       "      <th>NaN</th>\n",
       "      <th>NaN</th>\n",
       "      <th>NaN</th>\n",
       "      <th>NaN</th>\n",
       "      <th>NaN</th>\n",
       "      <th>NaN</th>\n",
       "      <th>NaN</th>\n",
       "      <th>NaN</th>\n",
       "      <td>Acute recurrent maxillary sinusitis</td>\n",
       "      <td>\\Diagnosis\\ICD-10-CM Diagnoses (2015) with ICD...</td>\n",
       "      <td>10.0</td>\n",
       "      <td>True</td>\n",
       "      <td>[Billing Diagnosis, Final, QCC]</td>\n",
       "      <td>3.0</td>\n",
       "      <td>NaN</td>\n",
       "      <td>NaN</td>\n",
       "      <td>phenotypes</td>\n",
       "    </tr>\n",
       "    <tr>\n",
       "      <th rowspan=\"2\" valign=\"top\">Acute ethmoidal sinusitis</th>\n",
       "      <th rowspan=\"2\" valign=\"top\">Acute ethmoidal sinusitis, unspecified</th>\n",
       "      <th>NaN</th>\n",
       "      <th>NaN</th>\n",
       "      <th>NaN</th>\n",
       "      <th>NaN</th>\n",
       "      <th>NaN</th>\n",
       "      <th>NaN</th>\n",
       "      <th>NaN</th>\n",
       "      <th>NaN</th>\n",
       "      <th>NaN</th>\n",
       "      <th>NaN</th>\n",
       "      <th>NaN</th>\n",
       "      <th>NaN</th>\n",
       "      <th>NaN</th>\n",
       "      <th>NaN</th>\n",
       "      <th>NaN</th>\n",
       "      <th>NaN</th>\n",
       "      <th>NaN</th>\n",
       "      <th>NaN</th>\n",
       "      <td>Acute ethmoidal sinusitis, unspecified</td>\n",
       "      <td>\\Diagnosis\\ICD-10-CM Diagnoses (2015) with ICD...</td>\n",
       "      <td>69.0</td>\n",
       "      <td>True</td>\n",
       "      <td>[Billing Diagnosis, Discharge, Final, QCC]</td>\n",
       "      <td>4.0</td>\n",
       "      <td>NaN</td>\n",
       "      <td>NaN</td>\n",
       "      <td>phenotypes</td>\n",
       "    </tr>\n",
       "    <tr>\n",
       "      <th>Acute empyema of ethmoidal sinus</th>\n",
       "      <th>NaN</th>\n",
       "      <th>NaN</th>\n",
       "      <th>NaN</th>\n",
       "      <th>NaN</th>\n",
       "      <th>NaN</th>\n",
       "      <th>NaN</th>\n",
       "      <th>NaN</th>\n",
       "      <th>NaN</th>\n",
       "      <th>NaN</th>\n",
       "      <th>NaN</th>\n",
       "      <th>NaN</th>\n",
       "      <th>NaN</th>\n",
       "      <th>NaN</th>\n",
       "      <th>NaN</th>\n",
       "      <th>NaN</th>\n",
       "      <th>NaN</th>\n",
       "      <th>NaN</th>\n",
       "      <td>Acute empyema of ethmoidal sinus</td>\n",
       "      <td>\\Diagnosis\\ICD-10-CM Diagnoses (2015) with ICD...</td>\n",
       "      <td>30.0</td>\n",
       "      <td>True</td>\n",
       "      <td>[Billing Diagnosis, Final, QCC]</td>\n",
       "      <td>3.0</td>\n",
       "      <td>NaN</td>\n",
       "      <td>NaN</td>\n",
       "      <td>phenotypes</td>\n",
       "    </tr>\n",
       "  </tbody>\n",
       "</table>\n",
       "</div>"
      ],
      "text/plain": [
       "                                                                                                                                                                                                                                                                                                                                                                                                                                                      simplified_name  \\\n",
       "level_0   level_1                              level_2                                      level_3                                      level_4                     level_5                   level_6                                level_7                          level_8 level_9 level_10 level_11 level_12 level_13 level_14 level_15 level_16 level_17 level_18 level_19 level_20 level_21 level_22 level_23 level_24                                           \n",
       "Diagnosis ICD-10-CM Diagnoses (2015) with ICD9 Diseases of the respiratory system (J00-J99) Acute upper respiratory infections (J00-J06) Acute inflammation of sinus Acute antritis            Acute maxillary sinusitis, unspecified NaN                              NaN     NaN     NaN      NaN      NaN      NaN      NaN      NaN      NaN      NaN      NaN      NaN      NaN      NaN      NaN      NaN      NaN       Acute maxillary sinusitis, unspecified   \n",
       "                                                                                                                                                                                                                                      Acute antritis                   NaN     NaN     NaN      NaN      NaN      NaN      NaN      NaN      NaN      NaN      NaN      NaN      NaN      NaN      NaN      NaN      NaN                               Acute antritis   \n",
       "                                                                                                                                                                                               Acute recurrent maxillary sinusitis    NaN                              NaN     NaN     NaN      NaN      NaN      NaN      NaN      NaN      NaN      NaN      NaN      NaN      NaN      NaN      NaN      NaN      NaN          Acute recurrent maxillary sinusitis   \n",
       "                                                                                                                                                                     Acute ethmoidal sinusitis Acute ethmoidal sinusitis, unspecified NaN                              NaN     NaN     NaN      NaN      NaN      NaN      NaN      NaN      NaN      NaN      NaN      NaN      NaN      NaN      NaN      NaN      NaN       Acute ethmoidal sinusitis, unspecified   \n",
       "                                                                                                                                                                                                                                      Acute empyema of ethmoidal sinus NaN     NaN     NaN      NaN      NaN      NaN      NaN      NaN      NaN      NaN      NaN      NaN      NaN      NaN      NaN      NaN      NaN             Acute empyema of ethmoidal sinus   \n",
       "\n",
       "                                                                                                                                                                                                                                                                                                                                                                                                                                                                            name  \\\n",
       "level_0   level_1                              level_2                                      level_3                                      level_4                     level_5                   level_6                                level_7                          level_8 level_9 level_10 level_11 level_12 level_13 level_14 level_15 level_16 level_17 level_18 level_19 level_20 level_21 level_22 level_23 level_24                                                      \n",
       "Diagnosis ICD-10-CM Diagnoses (2015) with ICD9 Diseases of the respiratory system (J00-J99) Acute upper respiratory infections (J00-J06) Acute inflammation of sinus Acute antritis            Acute maxillary sinusitis, unspecified NaN                              NaN     NaN     NaN      NaN      NaN      NaN      NaN      NaN      NaN      NaN      NaN      NaN      NaN      NaN      NaN      NaN      NaN       \\Diagnosis\\ICD-10-CM Diagnoses (2015) with ICD...   \n",
       "                                                                                                                                                                                                                                      Acute antritis                   NaN     NaN     NaN      NaN      NaN      NaN      NaN      NaN      NaN      NaN      NaN      NaN      NaN      NaN      NaN      NaN      NaN       \\Diagnosis\\ICD-10-CM Diagnoses (2015) with ICD...   \n",
       "                                                                                                                                                                                               Acute recurrent maxillary sinusitis    NaN                              NaN     NaN     NaN      NaN      NaN      NaN      NaN      NaN      NaN      NaN      NaN      NaN      NaN      NaN      NaN      NaN      NaN       \\Diagnosis\\ICD-10-CM Diagnoses (2015) with ICD...   \n",
       "                                                                                                                                                                     Acute ethmoidal sinusitis Acute ethmoidal sinusitis, unspecified NaN                              NaN     NaN     NaN      NaN      NaN      NaN      NaN      NaN      NaN      NaN      NaN      NaN      NaN      NaN      NaN      NaN      NaN       \\Diagnosis\\ICD-10-CM Diagnoses (2015) with ICD...   \n",
       "                                                                                                                                                                                                                                      Acute empyema of ethmoidal sinus NaN     NaN     NaN      NaN      NaN      NaN      NaN      NaN      NaN      NaN      NaN      NaN      NaN      NaN      NaN      NaN      NaN       \\Diagnosis\\ICD-10-CM Diagnoses (2015) with ICD...   \n",
       "\n",
       "                                                                                                                                                                                                                                                                                                                                                                                                                               observationCount  \\\n",
       "level_0   level_1                              level_2                                      level_3                                      level_4                     level_5                   level_6                                level_7                          level_8 level_9 level_10 level_11 level_12 level_13 level_14 level_15 level_16 level_17 level_18 level_19 level_20 level_21 level_22 level_23 level_24                     \n",
       "Diagnosis ICD-10-CM Diagnoses (2015) with ICD9 Diseases of the respiratory system (J00-J99) Acute upper respiratory infections (J00-J06) Acute inflammation of sinus Acute antritis            Acute maxillary sinusitis, unspecified NaN                              NaN     NaN     NaN      NaN      NaN      NaN      NaN      NaN      NaN      NaN      NaN      NaN      NaN      NaN      NaN      NaN      NaN                  219.0   \n",
       "                                                                                                                                                                                                                                      Acute antritis                   NaN     NaN     NaN      NaN      NaN      NaN      NaN      NaN      NaN      NaN      NaN      NaN      NaN      NaN      NaN      NaN      NaN                  110.0   \n",
       "                                                                                                                                                                                               Acute recurrent maxillary sinusitis    NaN                              NaN     NaN     NaN      NaN      NaN      NaN      NaN      NaN      NaN      NaN      NaN      NaN      NaN      NaN      NaN      NaN      NaN                   10.0   \n",
       "                                                                                                                                                                     Acute ethmoidal sinusitis Acute ethmoidal sinusitis, unspecified NaN                              NaN     NaN     NaN      NaN      NaN      NaN      NaN      NaN      NaN      NaN      NaN      NaN      NaN      NaN      NaN      NaN      NaN                   69.0   \n",
       "                                                                                                                                                                                                                                      Acute empyema of ethmoidal sinus NaN     NaN     NaN      NaN      NaN      NaN      NaN      NaN      NaN      NaN      NaN      NaN      NaN      NaN      NaN      NaN      NaN                   30.0   \n",
       "\n",
       "                                                                                                                                                                                                                                                                                                                                                                                                                               categorical  \\\n",
       "level_0   level_1                              level_2                                      level_3                                      level_4                     level_5                   level_6                                level_7                          level_8 level_9 level_10 level_11 level_12 level_13 level_14 level_15 level_16 level_17 level_18 level_19 level_20 level_21 level_22 level_23 level_24                \n",
       "Diagnosis ICD-10-CM Diagnoses (2015) with ICD9 Diseases of the respiratory system (J00-J99) Acute upper respiratory infections (J00-J06) Acute inflammation of sinus Acute antritis            Acute maxillary sinusitis, unspecified NaN                              NaN     NaN     NaN      NaN      NaN      NaN      NaN      NaN      NaN      NaN      NaN      NaN      NaN      NaN      NaN      NaN      NaN              True   \n",
       "                                                                                                                                                                                                                                      Acute antritis                   NaN     NaN     NaN      NaN      NaN      NaN      NaN      NaN      NaN      NaN      NaN      NaN      NaN      NaN      NaN      NaN      NaN              True   \n",
       "                                                                                                                                                                                               Acute recurrent maxillary sinusitis    NaN                              NaN     NaN     NaN      NaN      NaN      NaN      NaN      NaN      NaN      NaN      NaN      NaN      NaN      NaN      NaN      NaN      NaN              True   \n",
       "                                                                                                                                                                     Acute ethmoidal sinusitis Acute ethmoidal sinusitis, unspecified NaN                              NaN     NaN     NaN      NaN      NaN      NaN      NaN      NaN      NaN      NaN      NaN      NaN      NaN      NaN      NaN      NaN      NaN              True   \n",
       "                                                                                                                                                                                                                                      Acute empyema of ethmoidal sinus NaN     NaN     NaN      NaN      NaN      NaN      NaN      NaN      NaN      NaN      NaN      NaN      NaN      NaN      NaN      NaN      NaN              True   \n",
       "\n",
       "                                                                                                                                                                                                                                                                                                                                                                                                                                                                  categoryValues  \\\n",
       "level_0   level_1                              level_2                                      level_3                                      level_4                     level_5                   level_6                                level_7                          level_8 level_9 level_10 level_11 level_12 level_13 level_14 level_15 level_16 level_17 level_18 level_19 level_20 level_21 level_22 level_23 level_24                                                      \n",
       "Diagnosis ICD-10-CM Diagnoses (2015) with ICD9 Diseases of the respiratory system (J00-J99) Acute upper respiratory infections (J00-J06) Acute inflammation of sinus Acute antritis            Acute maxillary sinusitis, unspecified NaN                              NaN     NaN     NaN      NaN      NaN      NaN      NaN      NaN      NaN      NaN      NaN      NaN      NaN      NaN      NaN      NaN      NaN              [Billing Diagnosis, Discharge, Final, QCC]   \n",
       "                                                                                                                                                                                                                                      Acute antritis                   NaN     NaN     NaN      NaN      NaN      NaN      NaN      NaN      NaN      NaN      NaN      NaN      NaN      NaN      NaN      NaN      NaN       [Admitting, Billing Diagnosis, Final, QCC, Wor...   \n",
       "                                                                                                                                                                                               Acute recurrent maxillary sinusitis    NaN                              NaN     NaN     NaN      NaN      NaN      NaN      NaN      NaN      NaN      NaN      NaN      NaN      NaN      NaN      NaN      NaN      NaN                         [Billing Diagnosis, Final, QCC]   \n",
       "                                                                                                                                                                     Acute ethmoidal sinusitis Acute ethmoidal sinusitis, unspecified NaN                              NaN     NaN     NaN      NaN      NaN      NaN      NaN      NaN      NaN      NaN      NaN      NaN      NaN      NaN      NaN      NaN      NaN              [Billing Diagnosis, Discharge, Final, QCC]   \n",
       "                                                                                                                                                                                                                                      Acute empyema of ethmoidal sinus NaN     NaN     NaN      NaN      NaN      NaN      NaN      NaN      NaN      NaN      NaN      NaN      NaN      NaN      NaN      NaN      NaN                         [Billing Diagnosis, Final, QCC]   \n",
       "\n",
       "                                                                                                                                                                                                                                                                                                                                                                                                                               nb_modalities  \\\n",
       "level_0   level_1                              level_2                                      level_3                                      level_4                     level_5                   level_6                                level_7                          level_8 level_9 level_10 level_11 level_12 level_13 level_14 level_15 level_16 level_17 level_18 level_19 level_20 level_21 level_22 level_23 level_24                  \n",
       "Diagnosis ICD-10-CM Diagnoses (2015) with ICD9 Diseases of the respiratory system (J00-J99) Acute upper respiratory infections (J00-J06) Acute inflammation of sinus Acute antritis            Acute maxillary sinusitis, unspecified NaN                              NaN     NaN     NaN      NaN      NaN      NaN      NaN      NaN      NaN      NaN      NaN      NaN      NaN      NaN      NaN      NaN      NaN                 4.0   \n",
       "                                                                                                                                                                                                                                      Acute antritis                   NaN     NaN     NaN      NaN      NaN      NaN      NaN      NaN      NaN      NaN      NaN      NaN      NaN      NaN      NaN      NaN      NaN                 5.0   \n",
       "                                                                                                                                                                                               Acute recurrent maxillary sinusitis    NaN                              NaN     NaN     NaN      NaN      NaN      NaN      NaN      NaN      NaN      NaN      NaN      NaN      NaN      NaN      NaN      NaN      NaN                 3.0   \n",
       "                                                                                                                                                                     Acute ethmoidal sinusitis Acute ethmoidal sinusitis, unspecified NaN                              NaN     NaN     NaN      NaN      NaN      NaN      NaN      NaN      NaN      NaN      NaN      NaN      NaN      NaN      NaN      NaN      NaN                 4.0   \n",
       "                                                                                                                                                                                                                                      Acute empyema of ethmoidal sinus NaN     NaN     NaN      NaN      NaN      NaN      NaN      NaN      NaN      NaN      NaN      NaN      NaN      NaN      NaN      NaN      NaN                 3.0   \n",
       "\n",
       "                                                                                                                                                                                                                                                                                                                                                                                                                               min  \\\n",
       "level_0   level_1                              level_2                                      level_3                                      level_4                     level_5                   level_6                                level_7                          level_8 level_9 level_10 level_11 level_12 level_13 level_14 level_15 level_16 level_17 level_18 level_19 level_20 level_21 level_22 level_23 level_24        \n",
       "Diagnosis ICD-10-CM Diagnoses (2015) with ICD9 Diseases of the respiratory system (J00-J99) Acute upper respiratory infections (J00-J06) Acute inflammation of sinus Acute antritis            Acute maxillary sinusitis, unspecified NaN                              NaN     NaN     NaN      NaN      NaN      NaN      NaN      NaN      NaN      NaN      NaN      NaN      NaN      NaN      NaN      NaN      NaN       NaN   \n",
       "                                                                                                                                                                                                                                      Acute antritis                   NaN     NaN     NaN      NaN      NaN      NaN      NaN      NaN      NaN      NaN      NaN      NaN      NaN      NaN      NaN      NaN      NaN       NaN   \n",
       "                                                                                                                                                                                               Acute recurrent maxillary sinusitis    NaN                              NaN     NaN     NaN      NaN      NaN      NaN      NaN      NaN      NaN      NaN      NaN      NaN      NaN      NaN      NaN      NaN      NaN       NaN   \n",
       "                                                                                                                                                                     Acute ethmoidal sinusitis Acute ethmoidal sinusitis, unspecified NaN                              NaN     NaN     NaN      NaN      NaN      NaN      NaN      NaN      NaN      NaN      NaN      NaN      NaN      NaN      NaN      NaN      NaN       NaN   \n",
       "                                                                                                                                                                                                                                      Acute empyema of ethmoidal sinus NaN     NaN     NaN      NaN      NaN      NaN      NaN      NaN      NaN      NaN      NaN      NaN      NaN      NaN      NaN      NaN      NaN       NaN   \n",
       "\n",
       "                                                                                                                                                                                                                                                                                                                                                                                                                               max  \\\n",
       "level_0   level_1                              level_2                                      level_3                                      level_4                     level_5                   level_6                                level_7                          level_8 level_9 level_10 level_11 level_12 level_13 level_14 level_15 level_16 level_17 level_18 level_19 level_20 level_21 level_22 level_23 level_24        \n",
       "Diagnosis ICD-10-CM Diagnoses (2015) with ICD9 Diseases of the respiratory system (J00-J99) Acute upper respiratory infections (J00-J06) Acute inflammation of sinus Acute antritis            Acute maxillary sinusitis, unspecified NaN                              NaN     NaN     NaN      NaN      NaN      NaN      NaN      NaN      NaN      NaN      NaN      NaN      NaN      NaN      NaN      NaN      NaN       NaN   \n",
       "                                                                                                                                                                                                                                      Acute antritis                   NaN     NaN     NaN      NaN      NaN      NaN      NaN      NaN      NaN      NaN      NaN      NaN      NaN      NaN      NaN      NaN      NaN       NaN   \n",
       "                                                                                                                                                                                               Acute recurrent maxillary sinusitis    NaN                              NaN     NaN     NaN      NaN      NaN      NaN      NaN      NaN      NaN      NaN      NaN      NaN      NaN      NaN      NaN      NaN      NaN       NaN   \n",
       "                                                                                                                                                                     Acute ethmoidal sinusitis Acute ethmoidal sinusitis, unspecified NaN                              NaN     NaN     NaN      NaN      NaN      NaN      NaN      NaN      NaN      NaN      NaN      NaN      NaN      NaN      NaN      NaN      NaN       NaN   \n",
       "                                                                                                                                                                                                                                      Acute empyema of ethmoidal sinus NaN     NaN     NaN      NaN      NaN      NaN      NaN      NaN      NaN      NaN      NaN      NaN      NaN      NaN      NaN      NaN      NaN       NaN   \n",
       "\n",
       "                                                                                                                                                                                                                                                                                                                                                                                                                              HpdsDataType  \n",
       "level_0   level_1                              level_2                                      level_3                                      level_4                     level_5                   level_6                                level_7                          level_8 level_9 level_10 level_11 level_12 level_13 level_14 level_15 level_16 level_17 level_18 level_19 level_20 level_21 level_22 level_23 level_24               \n",
       "Diagnosis ICD-10-CM Diagnoses (2015) with ICD9 Diseases of the respiratory system (J00-J99) Acute upper respiratory infections (J00-J06) Acute inflammation of sinus Acute antritis            Acute maxillary sinusitis, unspecified NaN                              NaN     NaN     NaN      NaN      NaN      NaN      NaN      NaN      NaN      NaN      NaN      NaN      NaN      NaN      NaN      NaN      NaN        phenotypes  \n",
       "                                                                                                                                                                                                                                      Acute antritis                   NaN     NaN     NaN      NaN      NaN      NaN      NaN      NaN      NaN      NaN      NaN      NaN      NaN      NaN      NaN      NaN      NaN        phenotypes  \n",
       "                                                                                                                                                                                               Acute recurrent maxillary sinusitis    NaN                              NaN     NaN     NaN      NaN      NaN      NaN      NaN      NaN      NaN      NaN      NaN      NaN      NaN      NaN      NaN      NaN      NaN        phenotypes  \n",
       "                                                                                                                                                                     Acute ethmoidal sinusitis Acute ethmoidal sinusitis, unspecified NaN                              NaN     NaN     NaN      NaN      NaN      NaN      NaN      NaN      NaN      NaN      NaN      NaN      NaN      NaN      NaN      NaN      NaN        phenotypes  \n",
       "                                                                                                                                                                                                                                      Acute empyema of ethmoidal sinus NaN     NaN     NaN      NaN      NaN      NaN      NaN      NaN      NaN      NaN      NaN      NaN      NaN      NaN      NaN      NaN      NaN        phenotypes  "
      ]
     },
     "execution_count": 14,
     "metadata": {},
     "output_type": "execute_result"
    }
   ],
   "source": [
    "full_multiindex = get_multiIndex_variablesDict(dictionary.find().DataFrame()) # Get full dataframe of variables\n",
    "# Find variables that have \"diseases of the respiratory system\" in level_2\n",
    "mask_resp_diseases = [type(i) == str and \"Diseases of the respiratory system\" in i for i in full_multiindex.index.get_level_values(2)] \n",
    "# Filter to those variables\n",
    "resp_diseases_vars = full_multiindex.loc[mask_resp_diseases, :]\n",
    "resp_diseases_vars.head()"
   ]
  },
  {
   "cell_type": "markdown",
   "id": "4ba2b58f-9f8f-48d1-ae40-8f9381082292",
   "metadata": {},
   "source": [
    "Although pretty simple, it can be easily combined with other filters to quickly select one or more desired groups of variables."
   ]
  },
  {
   "cell_type": "markdown",
   "id": "b99a6d87-14ab-4223-a6c0-972115805bd1",
   "metadata": {},
   "source": [
    "## Querying and retrieving data: Epilepsy and *GRIN2A*"
   ]
  },
  {
   "cell_type": "markdown",
   "id": "aa32234a-dec0-4d64-bc98-3946f24ad59b",
   "metadata": {},
   "source": [
    "The second cornerstone of the API is the `query` object. It is how we retrieve data from the resource."
   ]
  },
  {
   "cell_type": "markdown",
   "id": "50934b27-d3d4-4a4d-9d47-b68a55098ce4",
   "metadata": {},
   "source": [
    "First, we need to create a query object."
   ]
  },
  {
   "cell_type": "code",
   "execution_count": 15,
   "id": "f7d92937-56b3-4ccf-ba7d-4de30a81c782",
   "metadata": {},
   "outputs": [],
   "source": [
    "my_query = resource.query()"
   ]
  },
  {
   "cell_type": "markdown",
   "id": "3e7694a9-90a0-4a83-b1c3-73bb83973a1b",
   "metadata": {},
   "source": [
    "The query object has several methods that enable to build a query.\n",
    "\n",
    "| Method | Arguments / Input | Output|\n",
    "|--------|-------------------|-------|\n",
    "| query.select.add() | variable names (string) or list of strings | all variables included in the list (no record subsetting)|\n",
    "| query.require.add() | variable names (string) or list of strings | all variables; only records that do not contain null values for input variables |\n",
    "| query.anyof.add() | variable names (string) or list of strings | all variables; only records that contain at least one non-null value for input variables |\n",
    "| query.filter.add() | variable name and additional filtering values | input variable; only records that match filter criteria |\n",
    "\n",
    "All 4 methods can be combined when building a query. The record eventually returned by the query have to meet all the different specified filters."
   ]
  },
  {
   "cell_type": "markdown",
   "id": "d0bc53e0-604f-4ffc-beae-ad70e2b77eb3",
   "metadata": {},
   "source": [
    "### Building the query\n",
    "In the following example, we are going to build a query to return data the counts of patients who:\n",
    "- had epilepsy and recurrent seizures\n",
    "- had a novel, high severity variant of the *GRIN2A* gene"
   ]
  },
  {
   "cell_type": "markdown",
   "id": "2d75e57b-1191-4b5d-9987-26db811d19e1",
   "metadata": {},
   "source": [
    "#### Add phenotypic variable: Epilepsy\n",
    "\n",
    "First, let's review the possible variable names with the term \"epilepsy\"."
   ]
  },
  {
   "cell_type": "code",
   "execution_count": 16,
   "id": "ae3d0c4e-a50a-4aa0-bbfd-1f58032bf509",
   "metadata": {},
   "outputs": [
    {
     "data": {
      "text/html": [
       "<div>\n",
       "<style scoped>\n",
       "    .dataframe tbody tr th:only-of-type {\n",
       "        vertical-align: middle;\n",
       "    }\n",
       "\n",
       "    .dataframe tbody tr th {\n",
       "        vertical-align: top;\n",
       "    }\n",
       "\n",
       "    .dataframe thead th {\n",
       "        text-align: right;\n",
       "    }\n",
       "</style>\n",
       "<table border=\"1\" class=\"dataframe\">\n",
       "  <thead>\n",
       "    <tr style=\"text-align: right;\">\n",
       "      <th></th>\n",
       "      <th></th>\n",
       "      <th></th>\n",
       "      <th></th>\n",
       "      <th></th>\n",
       "      <th></th>\n",
       "      <th></th>\n",
       "      <th></th>\n",
       "      <th></th>\n",
       "      <th></th>\n",
       "      <th></th>\n",
       "      <th></th>\n",
       "      <th></th>\n",
       "      <th></th>\n",
       "      <th></th>\n",
       "      <th></th>\n",
       "      <th>simplified_name</th>\n",
       "      <th>name</th>\n",
       "      <th>observationCount</th>\n",
       "      <th>categorical</th>\n",
       "      <th>categoryValues</th>\n",
       "      <th>nb_modalities</th>\n",
       "      <th>min</th>\n",
       "      <th>max</th>\n",
       "      <th>HpdsDataType</th>\n",
       "    </tr>\n",
       "    <tr>\n",
       "      <th>level_0</th>\n",
       "      <th>level_1</th>\n",
       "      <th>level_2</th>\n",
       "      <th>level_3</th>\n",
       "      <th>level_4</th>\n",
       "      <th>level_5</th>\n",
       "      <th>level_6</th>\n",
       "      <th>level_7</th>\n",
       "      <th>level_8</th>\n",
       "      <th>level_9</th>\n",
       "      <th>level_10</th>\n",
       "      <th>level_11</th>\n",
       "      <th>level_12</th>\n",
       "      <th>level_13</th>\n",
       "      <th>level_14</th>\n",
       "      <th>level_15</th>\n",
       "      <th></th>\n",
       "      <th></th>\n",
       "      <th></th>\n",
       "      <th></th>\n",
       "      <th></th>\n",
       "      <th></th>\n",
       "      <th></th>\n",
       "      <th></th>\n",
       "      <th></th>\n",
       "    </tr>\n",
       "  </thead>\n",
       "  <tbody>\n",
       "    <tr>\n",
       "      <th rowspan=\"5\" valign=\"top\">Diagnosis</th>\n",
       "      <th rowspan=\"5\" valign=\"top\">ICD-10-CM Diagnoses (2015) with ICD9</th>\n",
       "      <th rowspan=\"5\" valign=\"top\">Diseases of the nervous system (G00-G99)</th>\n",
       "      <th rowspan=\"5\" valign=\"top\">Episodic and paroxysmal disorders (G40-G47)</th>\n",
       "      <th rowspan=\"5\" valign=\"top\">Epilepsy and recurrent seizures</th>\n",
       "      <th rowspan=\"4\" valign=\"top\">Benign childhood epilepsy with centrotemporal eeg spikes</th>\n",
       "      <th rowspan=\"2\" valign=\"top\">Localization-related (focal) (partial) idiopathic epilepsy and epileptic syndromes with seizures of localized onset, intractable</th>\n",
       "      <th>Localization-related (focal) (partial) idiopathic epilepsy and epileptic syndromes with seizures of localized onset, intractable, with status epilepticus</th>\n",
       "      <th>NaN</th>\n",
       "      <th>NaN</th>\n",
       "      <th>NaN</th>\n",
       "      <th>NaN</th>\n",
       "      <th>NaN</th>\n",
       "      <th>NaN</th>\n",
       "      <th>NaN</th>\n",
       "      <th>NaN</th>\n",
       "      <td>Localization-related (focal) (partial) idiopat...</td>\n",
       "      <td>\\Diagnosis\\ICD-10-CM Diagnoses (2015) with ICD...</td>\n",
       "      <td>455</td>\n",
       "      <td>True</td>\n",
       "      <td>[Admitting, Billing Diagnosis, Final, QCC]</td>\n",
       "      <td>4.0</td>\n",
       "      <td>NaN</td>\n",
       "      <td>NaN</td>\n",
       "      <td>phenotypes</td>\n",
       "    </tr>\n",
       "    <tr>\n",
       "      <th>Localization-related (focal) (partial) idiopathic epilepsy and epileptic syndromes with seizures of localized onset, intractable, without status epilepticus</th>\n",
       "      <th>NaN</th>\n",
       "      <th>NaN</th>\n",
       "      <th>NaN</th>\n",
       "      <th>NaN</th>\n",
       "      <th>NaN</th>\n",
       "      <th>NaN</th>\n",
       "      <th>NaN</th>\n",
       "      <th>NaN</th>\n",
       "      <td>Localization-related (focal) (partial) idiopat...</td>\n",
       "      <td>\\Diagnosis\\ICD-10-CM Diagnoses (2015) with ICD...</td>\n",
       "      <td>1429</td>\n",
       "      <td>True</td>\n",
       "      <td>[Admitting, Billing Diagnosis, Discharge, Fina...</td>\n",
       "      <td>5.0</td>\n",
       "      <td>NaN</td>\n",
       "      <td>NaN</td>\n",
       "      <td>phenotypes</td>\n",
       "    </tr>\n",
       "    <tr>\n",
       "      <th rowspan=\"2\" valign=\"top\">Localization-related (focal) (partial) idiopathic epilepsy and epileptic syndromes with seizures of localized onset, not intractable</th>\n",
       "      <th>Localization-related (focal) (partial) idiopathic epilepsy and epileptic syndromes with seizures of localized onset NOS</th>\n",
       "      <th>NaN</th>\n",
       "      <th>NaN</th>\n",
       "      <th>NaN</th>\n",
       "      <th>NaN</th>\n",
       "      <th>NaN</th>\n",
       "      <th>NaN</th>\n",
       "      <th>NaN</th>\n",
       "      <th>NaN</th>\n",
       "      <td>Localization-related (focal) (partial) idiopat...</td>\n",
       "      <td>\\Diagnosis\\ICD-10-CM Diagnoses (2015) with ICD...</td>\n",
       "      <td>1745</td>\n",
       "      <td>True</td>\n",
       "      <td>[Admitting, Billing Diagnosis, Discharge, Fina...</td>\n",
       "      <td>5.0</td>\n",
       "      <td>NaN</td>\n",
       "      <td>NaN</td>\n",
       "      <td>phenotypes</td>\n",
       "    </tr>\n",
       "    <tr>\n",
       "      <th>Localization-related (focal) (partial) idiopathic epilepsy and epileptic syndromes with seizures of localized onset, not intractable, with status epilepticus</th>\n",
       "      <th>NaN</th>\n",
       "      <th>NaN</th>\n",
       "      <th>NaN</th>\n",
       "      <th>NaN</th>\n",
       "      <th>NaN</th>\n",
       "      <th>NaN</th>\n",
       "      <th>NaN</th>\n",
       "      <th>NaN</th>\n",
       "      <td>Localization-related (focal) (partial) idiopat...</td>\n",
       "      <td>\\Diagnosis\\ICD-10-CM Diagnoses (2015) with ICD...</td>\n",
       "      <td>145</td>\n",
       "      <td>True</td>\n",
       "      <td>[Admitting, Billing Diagnosis, Discharge, Fina...</td>\n",
       "      <td>5.0</td>\n",
       "      <td>NaN</td>\n",
       "      <td>NaN</td>\n",
       "      <td>phenotypes</td>\n",
       "    </tr>\n",
       "    <tr>\n",
       "      <th>Childhood absence epilepsy [pyknolepsy]</th>\n",
       "      <th>Absence epileptic syndrome, intractable</th>\n",
       "      <th>Absence epileptic syndrome, intractable, with status epilepticus</th>\n",
       "      <th>NaN</th>\n",
       "      <th>NaN</th>\n",
       "      <th>NaN</th>\n",
       "      <th>NaN</th>\n",
       "      <th>NaN</th>\n",
       "      <th>NaN</th>\n",
       "      <th>NaN</th>\n",
       "      <th>NaN</th>\n",
       "      <td>Absence epileptic syndrome, intractable, with ...</td>\n",
       "      <td>\\Diagnosis\\ICD-10-CM Diagnoses (2015) with ICD...</td>\n",
       "      <td>117</td>\n",
       "      <td>True</td>\n",
       "      <td>[Admitting, Billing Diagnosis, Final, QCC]</td>\n",
       "      <td>4.0</td>\n",
       "      <td>NaN</td>\n",
       "      <td>NaN</td>\n",
       "      <td>phenotypes</td>\n",
       "    </tr>\n",
       "  </tbody>\n",
       "</table>\n",
       "</div>"
      ],
      "text/plain": [
       "                                                                                                                                                                                                                                                                                                                                                                                                                                      simplified_name  \\\n",
       "level_0   level_1                              level_2                                  level_3                                     level_4                         level_5                                            level_6                                            level_7                                            level_8 level_9 level_10 level_11 level_12 level_13 level_14 level_15                                                      \n",
       "Diagnosis ICD-10-CM Diagnoses (2015) with ICD9 Diseases of the nervous system (G00-G99) Episodic and paroxysmal disorders (G40-G47) Epilepsy and recurrent seizures Benign childhood epilepsy with centrotemporal e... Localization-related (focal) (partial) idiopath... Localization-related (focal) (partial) idiopath... NaN     NaN     NaN      NaN      NaN      NaN      NaN      NaN       Localization-related (focal) (partial) idiopat...   \n",
       "                                                                                                                                                                                                                                                                          Localization-related (focal) (partial) idiopath... NaN     NaN     NaN      NaN      NaN      NaN      NaN      NaN       Localization-related (focal) (partial) idiopat...   \n",
       "                                                                                                                                                                                                                       Localization-related (focal) (partial) idiopath... Localization-related (focal) (partial) idiopath... NaN     NaN     NaN      NaN      NaN      NaN      NaN      NaN       Localization-related (focal) (partial) idiopat...   \n",
       "                                                                                                                                                                                                                                                                          Localization-related (focal) (partial) idiopath... NaN     NaN     NaN      NaN      NaN      NaN      NaN      NaN       Localization-related (focal) (partial) idiopat...   \n",
       "                                                                                                                                                                    Childhood absence epilepsy [pyknolepsy]            Absence epileptic syndrome, intractable            Absence epileptic syndrome, intractable, with s... NaN     NaN     NaN      NaN      NaN      NaN      NaN      NaN       Absence epileptic syndrome, intractable, with ...   \n",
       "\n",
       "                                                                                                                                                                                                                                                                                                                                                                                                                                                 name  \\\n",
       "level_0   level_1                              level_2                                  level_3                                     level_4                         level_5                                            level_6                                            level_7                                            level_8 level_9 level_10 level_11 level_12 level_13 level_14 level_15                                                      \n",
       "Diagnosis ICD-10-CM Diagnoses (2015) with ICD9 Diseases of the nervous system (G00-G99) Episodic and paroxysmal disorders (G40-G47) Epilepsy and recurrent seizures Benign childhood epilepsy with centrotemporal e... Localization-related (focal) (partial) idiopath... Localization-related (focal) (partial) idiopath... NaN     NaN     NaN      NaN      NaN      NaN      NaN      NaN       \\Diagnosis\\ICD-10-CM Diagnoses (2015) with ICD...   \n",
       "                                                                                                                                                                                                                                                                          Localization-related (focal) (partial) idiopath... NaN     NaN     NaN      NaN      NaN      NaN      NaN      NaN       \\Diagnosis\\ICD-10-CM Diagnoses (2015) with ICD...   \n",
       "                                                                                                                                                                                                                       Localization-related (focal) (partial) idiopath... Localization-related (focal) (partial) idiopath... NaN     NaN     NaN      NaN      NaN      NaN      NaN      NaN       \\Diagnosis\\ICD-10-CM Diagnoses (2015) with ICD...   \n",
       "                                                                                                                                                                                                                                                                          Localization-related (focal) (partial) idiopath... NaN     NaN     NaN      NaN      NaN      NaN      NaN      NaN       \\Diagnosis\\ICD-10-CM Diagnoses (2015) with ICD...   \n",
       "                                                                                                                                                                    Childhood absence epilepsy [pyknolepsy]            Absence epileptic syndrome, intractable            Absence epileptic syndrome, intractable, with s... NaN     NaN     NaN      NaN      NaN      NaN      NaN      NaN       \\Diagnosis\\ICD-10-CM Diagnoses (2015) with ICD...   \n",
       "\n",
       "                                                                                                                                                                                                                                                                                                                                                                                                    observationCount  \\\n",
       "level_0   level_1                              level_2                                  level_3                                     level_4                         level_5                                            level_6                                            level_7                                            level_8 level_9 level_10 level_11 level_12 level_13 level_14 level_15                     \n",
       "Diagnosis ICD-10-CM Diagnoses (2015) with ICD9 Diseases of the nervous system (G00-G99) Episodic and paroxysmal disorders (G40-G47) Epilepsy and recurrent seizures Benign childhood epilepsy with centrotemporal e... Localization-related (focal) (partial) idiopath... Localization-related (focal) (partial) idiopath... NaN     NaN     NaN      NaN      NaN      NaN      NaN      NaN                    455   \n",
       "                                                                                                                                                                                                                                                                          Localization-related (focal) (partial) idiopath... NaN     NaN     NaN      NaN      NaN      NaN      NaN      NaN                   1429   \n",
       "                                                                                                                                                                                                                       Localization-related (focal) (partial) idiopath... Localization-related (focal) (partial) idiopath... NaN     NaN     NaN      NaN      NaN      NaN      NaN      NaN                   1745   \n",
       "                                                                                                                                                                                                                                                                          Localization-related (focal) (partial) idiopath... NaN     NaN     NaN      NaN      NaN      NaN      NaN      NaN                    145   \n",
       "                                                                                                                                                                    Childhood absence epilepsy [pyknolepsy]            Absence epileptic syndrome, intractable            Absence epileptic syndrome, intractable, with s... NaN     NaN     NaN      NaN      NaN      NaN      NaN      NaN                    117   \n",
       "\n",
       "                                                                                                                                                                                                                                                                                                                                                                                                    categorical  \\\n",
       "level_0   level_1                              level_2                                  level_3                                     level_4                         level_5                                            level_6                                            level_7                                            level_8 level_9 level_10 level_11 level_12 level_13 level_14 level_15                \n",
       "Diagnosis ICD-10-CM Diagnoses (2015) with ICD9 Diseases of the nervous system (G00-G99) Episodic and paroxysmal disorders (G40-G47) Epilepsy and recurrent seizures Benign childhood epilepsy with centrotemporal e... Localization-related (focal) (partial) idiopath... Localization-related (focal) (partial) idiopath... NaN     NaN     NaN      NaN      NaN      NaN      NaN      NaN              True   \n",
       "                                                                                                                                                                                                                                                                          Localization-related (focal) (partial) idiopath... NaN     NaN     NaN      NaN      NaN      NaN      NaN      NaN              True   \n",
       "                                                                                                                                                                                                                       Localization-related (focal) (partial) idiopath... Localization-related (focal) (partial) idiopath... NaN     NaN     NaN      NaN      NaN      NaN      NaN      NaN              True   \n",
       "                                                                                                                                                                                                                                                                          Localization-related (focal) (partial) idiopath... NaN     NaN     NaN      NaN      NaN      NaN      NaN      NaN              True   \n",
       "                                                                                                                                                                    Childhood absence epilepsy [pyknolepsy]            Absence epileptic syndrome, intractable            Absence epileptic syndrome, intractable, with s... NaN     NaN     NaN      NaN      NaN      NaN      NaN      NaN              True   \n",
       "\n",
       "                                                                                                                                                                                                                                                                                                                                                                                                                                       categoryValues  \\\n",
       "level_0   level_1                              level_2                                  level_3                                     level_4                         level_5                                            level_6                                            level_7                                            level_8 level_9 level_10 level_11 level_12 level_13 level_14 level_15                                                      \n",
       "Diagnosis ICD-10-CM Diagnoses (2015) with ICD9 Diseases of the nervous system (G00-G99) Episodic and paroxysmal disorders (G40-G47) Epilepsy and recurrent seizures Benign childhood epilepsy with centrotemporal e... Localization-related (focal) (partial) idiopath... Localization-related (focal) (partial) idiopath... NaN     NaN     NaN      NaN      NaN      NaN      NaN      NaN              [Admitting, Billing Diagnosis, Final, QCC]   \n",
       "                                                                                                                                                                                                                                                                          Localization-related (focal) (partial) idiopath... NaN     NaN     NaN      NaN      NaN      NaN      NaN      NaN       [Admitting, Billing Diagnosis, Discharge, Fina...   \n",
       "                                                                                                                                                                                                                       Localization-related (focal) (partial) idiopath... Localization-related (focal) (partial) idiopath... NaN     NaN     NaN      NaN      NaN      NaN      NaN      NaN       [Admitting, Billing Diagnosis, Discharge, Fina...   \n",
       "                                                                                                                                                                                                                                                                          Localization-related (focal) (partial) idiopath... NaN     NaN     NaN      NaN      NaN      NaN      NaN      NaN       [Admitting, Billing Diagnosis, Discharge, Fina...   \n",
       "                                                                                                                                                                    Childhood absence epilepsy [pyknolepsy]            Absence epileptic syndrome, intractable            Absence epileptic syndrome, intractable, with s... NaN     NaN     NaN      NaN      NaN      NaN      NaN      NaN              [Admitting, Billing Diagnosis, Final, QCC]   \n",
       "\n",
       "                                                                                                                                                                                                                                                                                                                                                                                                    nb_modalities  \\\n",
       "level_0   level_1                              level_2                                  level_3                                     level_4                         level_5                                            level_6                                            level_7                                            level_8 level_9 level_10 level_11 level_12 level_13 level_14 level_15                  \n",
       "Diagnosis ICD-10-CM Diagnoses (2015) with ICD9 Diseases of the nervous system (G00-G99) Episodic and paroxysmal disorders (G40-G47) Epilepsy and recurrent seizures Benign childhood epilepsy with centrotemporal e... Localization-related (focal) (partial) idiopath... Localization-related (focal) (partial) idiopath... NaN     NaN     NaN      NaN      NaN      NaN      NaN      NaN                 4.0   \n",
       "                                                                                                                                                                                                                                                                          Localization-related (focal) (partial) idiopath... NaN     NaN     NaN      NaN      NaN      NaN      NaN      NaN                 5.0   \n",
       "                                                                                                                                                                                                                       Localization-related (focal) (partial) idiopath... Localization-related (focal) (partial) idiopath... NaN     NaN     NaN      NaN      NaN      NaN      NaN      NaN                 5.0   \n",
       "                                                                                                                                                                                                                                                                          Localization-related (focal) (partial) idiopath... NaN     NaN     NaN      NaN      NaN      NaN      NaN      NaN                 5.0   \n",
       "                                                                                                                                                                    Childhood absence epilepsy [pyknolepsy]            Absence epileptic syndrome, intractable            Absence epileptic syndrome, intractable, with s... NaN     NaN     NaN      NaN      NaN      NaN      NaN      NaN                 4.0   \n",
       "\n",
       "                                                                                                                                                                                                                                                                                                                                                                                                    min  \\\n",
       "level_0   level_1                              level_2                                  level_3                                     level_4                         level_5                                            level_6                                            level_7                                            level_8 level_9 level_10 level_11 level_12 level_13 level_14 level_15        \n",
       "Diagnosis ICD-10-CM Diagnoses (2015) with ICD9 Diseases of the nervous system (G00-G99) Episodic and paroxysmal disorders (G40-G47) Epilepsy and recurrent seizures Benign childhood epilepsy with centrotemporal e... Localization-related (focal) (partial) idiopath... Localization-related (focal) (partial) idiopath... NaN     NaN     NaN      NaN      NaN      NaN      NaN      NaN       NaN   \n",
       "                                                                                                                                                                                                                                                                          Localization-related (focal) (partial) idiopath... NaN     NaN     NaN      NaN      NaN      NaN      NaN      NaN       NaN   \n",
       "                                                                                                                                                                                                                       Localization-related (focal) (partial) idiopath... Localization-related (focal) (partial) idiopath... NaN     NaN     NaN      NaN      NaN      NaN      NaN      NaN       NaN   \n",
       "                                                                                                                                                                                                                                                                          Localization-related (focal) (partial) idiopath... NaN     NaN     NaN      NaN      NaN      NaN      NaN      NaN       NaN   \n",
       "                                                                                                                                                                    Childhood absence epilepsy [pyknolepsy]            Absence epileptic syndrome, intractable            Absence epileptic syndrome, intractable, with s... NaN     NaN     NaN      NaN      NaN      NaN      NaN      NaN       NaN   \n",
       "\n",
       "                                                                                                                                                                                                                                                                                                                                                                                                    max  \\\n",
       "level_0   level_1                              level_2                                  level_3                                     level_4                         level_5                                            level_6                                            level_7                                            level_8 level_9 level_10 level_11 level_12 level_13 level_14 level_15        \n",
       "Diagnosis ICD-10-CM Diagnoses (2015) with ICD9 Diseases of the nervous system (G00-G99) Episodic and paroxysmal disorders (G40-G47) Epilepsy and recurrent seizures Benign childhood epilepsy with centrotemporal e... Localization-related (focal) (partial) idiopath... Localization-related (focal) (partial) idiopath... NaN     NaN     NaN      NaN      NaN      NaN      NaN      NaN       NaN   \n",
       "                                                                                                                                                                                                                                                                          Localization-related (focal) (partial) idiopath... NaN     NaN     NaN      NaN      NaN      NaN      NaN      NaN       NaN   \n",
       "                                                                                                                                                                                                                       Localization-related (focal) (partial) idiopath... Localization-related (focal) (partial) idiopath... NaN     NaN     NaN      NaN      NaN      NaN      NaN      NaN       NaN   \n",
       "                                                                                                                                                                                                                                                                          Localization-related (focal) (partial) idiopath... NaN     NaN     NaN      NaN      NaN      NaN      NaN      NaN       NaN   \n",
       "                                                                                                                                                                    Childhood absence epilepsy [pyknolepsy]            Absence epileptic syndrome, intractable            Absence epileptic syndrome, intractable, with s... NaN     NaN     NaN      NaN      NaN      NaN      NaN      NaN       NaN   \n",
       "\n",
       "                                                                                                                                                                                                                                                                                                                                                                                                   HpdsDataType  \n",
       "level_0   level_1                              level_2                                  level_3                                     level_4                         level_5                                            level_6                                            level_7                                            level_8 level_9 level_10 level_11 level_12 level_13 level_14 level_15               \n",
       "Diagnosis ICD-10-CM Diagnoses (2015) with ICD9 Diseases of the nervous system (G00-G99) Episodic and paroxysmal disorders (G40-G47) Epilepsy and recurrent seizures Benign childhood epilepsy with centrotemporal e... Localization-related (focal) (partial) idiopath... Localization-related (focal) (partial) idiopath... NaN     NaN     NaN      NaN      NaN      NaN      NaN      NaN        phenotypes  \n",
       "                                                                                                                                                                                                                                                                          Localization-related (focal) (partial) idiopath... NaN     NaN     NaN      NaN      NaN      NaN      NaN      NaN        phenotypes  \n",
       "                                                                                                                                                                                                                       Localization-related (focal) (partial) idiopath... Localization-related (focal) (partial) idiopath... NaN     NaN     NaN      NaN      NaN      NaN      NaN      NaN        phenotypes  \n",
       "                                                                                                                                                                                                                                                                          Localization-related (focal) (partial) idiopath... NaN     NaN     NaN      NaN      NaN      NaN      NaN      NaN        phenotypes  \n",
       "                                                                                                                                                                    Childhood absence epilepsy [pyknolepsy]            Absence epileptic syndrome, intractable            Absence epileptic syndrome, intractable, with s... NaN     NaN     NaN      NaN      NaN      NaN      NaN      NaN        phenotypes  "
      ]
     },
     "execution_count": 16,
     "metadata": {},
     "output_type": "execute_result"
    }
   ],
   "source": [
    "epilepsy_search = dictionary.find(\"epilepsy\").DataFrame()\n",
    "epilepsy_multiindex = get_multiIndex_variablesDict(epilepsy_search)\n",
    "epilepsy_multiindex.head()"
   ]
  },
  {
   "cell_type": "markdown",
   "id": "96a4a8d3-250b-43d6-9475-d0a5baca1b40",
   "metadata": {},
   "source": [
    "We are interested in all variables pertaining to \"Epilepsy and recurrent seizures\", which is listed in level_4 of the multiIndex dataframe. We will now filter to all variables that meet this criteria."
   ]
  },
  {
   "cell_type": "code",
   "execution_count": 17,
   "id": "ecfaf9bb-cbe0-4467-b706-21ef5603ac3d",
   "metadata": {},
   "outputs": [],
   "source": [
    "mask_epilepsy = [type(i)==str and \"Epilepsy and recurrent seizures\" in i for i in epilepsy_multiindex.index.get_level_values(4)]\n",
    "epilepsy_vars = epilepsy_multiindex.loc[mask_epilepsy, 'name']"
   ]
  },
  {
   "cell_type": "markdown",
   "id": "7172cf75-c340-48f1-99fd-86da0550a753",
   "metadata": {},
   "source": [
    "Now we can add these variables to our query. We can also view the patient count using the `getCount()` method."
   ]
  },
  {
   "cell_type": "code",
   "execution_count": 18,
   "id": "e23c64a4-73bd-469c-98f1-42ab628ce343",
   "metadata": {},
   "outputs": [
    {
     "data": {
      "text/plain": [
       "1738"
      ]
     },
     "execution_count": 18,
     "metadata": {},
     "output_type": "execute_result"
    }
   ],
   "source": [
    "my_query.anyof().add(epilepsy_vars)\n",
    "my_query.getCount()"
   ]
  },
  {
   "cell_type": "markdown",
   "id": "c9f64dd6-7e98-4435-8b2d-766d378d185b",
   "metadata": {},
   "source": [
    "#### Add genomic variable: *GRIN2A*\n",
    "\n",
    "Next, we will filter to the gene *GRIN2A*. We can do this by filtering the \"Gene_with_variant\" key to the \"GRIN2A\" value."
   ]
  },
  {
   "cell_type": "code",
   "execution_count": 19,
   "id": "8ed5cfaf-56e4-4af1-841f-b9ad6784b759",
   "metadata": {},
   "outputs": [
    {
     "data": {
      "text/plain": [
       "['Gene_with_variant']"
      ]
     },
     "execution_count": 19,
     "metadata": {},
     "output_type": "execute_result"
    }
   ],
   "source": [
    "gene_search = dictionary.find(\"Gene_with_variant\").keys()\n",
    "gene_search"
   ]
  },
  {
   "cell_type": "code",
   "execution_count": 20,
   "id": "3fb93420-3df6-4a4c-b9e8-5ec94eea8541",
   "metadata": {},
   "outputs": [
    {
     "data": {
      "text/plain": [
       "401"
      ]
     },
     "execution_count": 20,
     "metadata": {},
     "output_type": "execute_result"
    }
   ],
   "source": [
    "my_query.filter().add(gene_search, \"GRIN2A\")\n",
    "my_query.getCount()"
   ]
  },
  {
   "cell_type": "markdown",
   "id": "1d4f8cc7-0f02-4efa-b463-8e8fe92e18da",
   "metadata": {},
   "source": [
    "#### Add genomic variable: Variant severity\n",
    "\n",
    "We will filter to variants of high severity using the \"Variant_severity\" key and \"High\" value."
   ]
  },
  {
   "cell_type": "code",
   "execution_count": 21,
   "id": "2918854a-4b28-4bc8-a8a6-dbbe44b99970",
   "metadata": {},
   "outputs": [
    {
     "data": {
      "text/plain": [
       "['Variant_severity']"
      ]
     },
     "execution_count": 21,
     "metadata": {},
     "output_type": "execute_result"
    }
   ],
   "source": [
    "severity_search = dictionary.find(\"Variant_severity\").keys()\n",
    "severity_search"
   ]
  },
  {
   "cell_type": "code",
   "execution_count": 22,
   "id": "6b2b3eeb-f24a-4d42-a117-888457277359",
   "metadata": {},
   "outputs": [
    {
     "data": {
      "text/plain": [
       "339"
      ]
     },
     "execution_count": 22,
     "metadata": {},
     "output_type": "execute_result"
    }
   ],
   "source": [
    "my_query.filter().add(severity_search, \"HIGH\")\n",
    "my_query.getCount()"
   ]
  },
  {
   "cell_type": "markdown",
   "id": "a342e982-1ddb-4785-9e5e-69ef46015750",
   "metadata": {},
   "source": [
    "#### Add genomic variable: Variant frequency\n",
    "\n",
    "Finally, we will filter to novel variants. Let's take a look at the \"Variant_frequency\" variable options."
   ]
  },
  {
   "cell_type": "code",
   "execution_count": 23,
   "id": "72ef7664-7011-4c67-ac23-6a5c4d9dea47",
   "metadata": {},
   "outputs": [
    {
     "data": {
      "text/html": [
       "<div>\n",
       "<style scoped>\n",
       "    .dataframe tbody tr th:only-of-type {\n",
       "        vertical-align: middle;\n",
       "    }\n",
       "\n",
       "    .dataframe tbody tr th {\n",
       "        vertical-align: top;\n",
       "    }\n",
       "\n",
       "    .dataframe thead th {\n",
       "        text-align: right;\n",
       "    }\n",
       "</style>\n",
       "<table border=\"1\" class=\"dataframe\">\n",
       "  <thead>\n",
       "    <tr style=\"text-align: right;\">\n",
       "      <th></th>\n",
       "      <th>description</th>\n",
       "      <th>HpdsDataType</th>\n",
       "      <th>categorical</th>\n",
       "      <th>categoryValues</th>\n",
       "    </tr>\n",
       "    <tr>\n",
       "      <th>KEY</th>\n",
       "      <th></th>\n",
       "      <th></th>\n",
       "      <th></th>\n",
       "      <th></th>\n",
       "    </tr>\n",
       "  </thead>\n",
       "  <tbody>\n",
       "    <tr>\n",
       "      <th>Variant_frequency_as_text</th>\n",
       "      <td>Description=\"The variant allele frequency in g...</td>\n",
       "      <td>info</td>\n",
       "      <td>True</td>\n",
       "      <td>[Novel, Rare, Common]</td>\n",
       "    </tr>\n",
       "    <tr>\n",
       "      <th>Variant_frequency_in_gnomAD</th>\n",
       "      <td>Description=\"The variant allele frequency in g...</td>\n",
       "      <td>info</td>\n",
       "      <td>False</td>\n",
       "      <td>[]</td>\n",
       "    </tr>\n",
       "  </tbody>\n",
       "</table>\n",
       "</div>"
      ],
      "text/plain": [
       "                                                                   description  \\\n",
       "KEY                                                                              \n",
       "Variant_frequency_as_text    Description=\"The variant allele frequency in g...   \n",
       "Variant_frequency_in_gnomAD  Description=\"The variant allele frequency in g...   \n",
       "\n",
       "                            HpdsDataType  categorical         categoryValues  \n",
       "KEY                                                                           \n",
       "Variant_frequency_as_text           info         True  [Novel, Rare, Common]  \n",
       "Variant_frequency_in_gnomAD         info        False                     []  "
      ]
     },
     "execution_count": 23,
     "metadata": {},
     "output_type": "execute_result"
    }
   ],
   "source": [
    "frequency_search = dictionary.find(\"Variant_frequency\").DataFrame()\n",
    "frequency_search"
   ]
  },
  {
   "cell_type": "markdown",
   "id": "14b0c3dc-6470-496d-9b30-8806dae37335",
   "metadata": {},
   "source": [
    "As shown above, there are two keys that could be used: \"Variant_frequency_as_text\" and \"Variant_frequency_in_gnomAD\". The \"Variant_frequency_as_text\" has category values of Novel, Rare, and Common. Since we are interested in novel variants, we will use this key moving forward."
   ]
  },
  {
   "cell_type": "code",
   "execution_count": 24,
   "id": "17c0481c-31cf-4d56-b22f-db53d54f97f8",
   "metadata": {},
   "outputs": [
    {
     "data": {
      "text/plain": [
       "328"
      ]
     },
     "execution_count": 24,
     "metadata": {},
     "output_type": "execute_result"
    }
   ],
   "source": [
    "my_query.filter().add(\"Variant_frequency_as_text\", \"Novel\")\n",
    "my_query.getCount()"
   ]
  },
  {
   "cell_type": "markdown",
   "id": "12693326-fdac-4050-a4e1-63257579b00d",
   "metadata": {},
   "source": [
    "### Retrieving query counts: Percentage of patients with gene variants and epilepsies"
   ]
  },
  {
   "cell_type": "markdown",
   "id": "db86e3e6-de08-4bfe-a45d-f7a23d8c0afd",
   "metadata": {},
   "source": [
    "The genetic associations of different epilepsies are explored and listed in [this article](https://www.sciencedirect.com/science/article/pii/S1059131116302989). We can explore these results in the PrecisionLink Biobank to determine the percentage of patients with different epilepsies that possess variants in different genes.\n",
    "\n",
    "First we will initialize a new query."
   ]
  },
  {
   "cell_type": "code",
   "execution_count": 30,
   "id": "595b6c77-1899-48ba-9074-cfaea375b596",
   "metadata": {},
   "outputs": [],
   "source": [
    "epi_query = resource.query()"
   ]
  },
  {
   "cell_type": "markdown",
   "id": "19f4597e-4cb4-45c2-b7cc-220da3aa5ebb",
   "metadata": {},
   "source": [
    "Then we will select the epilepsies we are interested in. For this example, let's use the first ten epilepsy variables that we identified in the prior example.\n",
    "\n",
    "We can add these variables to the query using `crosscounts()` to retrieve the number of patients that meet our criteria for each variable. "
   ]
  },
  {
   "cell_type": "code",
   "execution_count": 31,
   "id": "270e0e92-f029-42eb-b2f4-0309ce79597a",
   "metadata": {},
   "outputs": [
    {
     "data": {
      "text/plain": [
       "<PicSureHpdsLib.PicSureHpdsAttrListKeys.AttrListKeys at 0x7f9b58e45ee0>"
      ]
     },
     "execution_count": 31,
     "metadata": {},
     "output_type": "execute_result"
    }
   ],
   "source": [
    "epilepsy_vars_subset = epilepsy_vars[0:10]\n",
    "epi_query.crosscounts().add(epilepsy_vars_subset)"
   ]
  },
  {
   "cell_type": "markdown",
   "id": "1cc9b7fb-f6e7-45b1-bfe5-619fab30dea1",
   "metadata": {},
   "source": [
    "We can identify a list of genes that we are interested in. These genes were taken from the article linked above."
   ]
  },
  {
   "cell_type": "code",
   "execution_count": 32,
   "id": "a59402d3-e28b-40c5-b41c-74e5fbeddb26",
   "metadata": {},
   "outputs": [],
   "source": [
    "gene_list = ['GABRG2', 'SCN1A', 'CLCN2', 'EFHC1', 'GABRD']"
   ]
  },
  {
   "cell_type": "markdown",
   "id": "fd520b19-751e-40d0-9167-7cf4bf86345c",
   "metadata": {},
   "source": [
    "Now we can use code to find:\n",
    "1. The total number of patients with genomic data with each type of epilepsy. This is accomplished using the `Variant_severity` filter.\n",
    "2. The number of patients with each gene variant and each type of epilepsy. This is accomplished using the `Gene_with_variant` filter."
   ]
  },
  {
   "cell_type": "code",
   "execution_count": 33,
   "id": "65fce6f1-2945-45b2-bcf2-8ca2fb14ff14",
   "metadata": {},
   "outputs": [
    {
     "name": "stdout",
     "output_type": "stream",
     "text": [
      "Deleted key: Variant_severity\n",
      "Deleted key: Gene_with_variant\n",
      "Deleted key: Variant_severity\n",
      "Deleted key: Gene_with_variant\n",
      "Deleted key: Variant_severity\n",
      "Deleted key: Gene_with_variant\n",
      "Deleted key: Variant_severity\n",
      "Deleted key: Gene_with_variant\n",
      "Deleted key: Variant_severity\n",
      "Deleted key: Gene_with_variant\n"
     ]
    }
   ],
   "source": [
    "# Initialize empty lists for results\n",
    "full_counts = []\n",
    "results = []\n",
    "\n",
    "# Go through each gene of interest \n",
    "for genes in gene_list:\n",
    "    # Find total number of patients with genomic data using Variant_severity\n",
    "    epi_query.filter().add(\"Variant_severity\", \"HIGH\") # Add filter\n",
    "    counts = epi_query.getCrossCounts().values() # Get counts for each epilepsy variable\n",
    "    for i in counts:\n",
    "        full_counts.append(i)\n",
    "    epi_query.filter().delete(\"Variant_severity\") # Remove filter\n",
    "    \n",
    "    # Find total number of patients with gene variant using Gene_with_variant\n",
    "    epi_query.filter().add(\"Gene_with_variant\", genes) # Add filter\n",
    "    res = epi_query.getCrossCounts().values() # Get counts for each epilepsy variable\n",
    "    for i in res:\n",
    "        results.append(i)\n",
    "    epi_query.filter().delete(\"Gene_with_variant\") # Remove filter"
   ]
  },
  {
   "cell_type": "markdown",
   "id": "8ffeec7e-7669-4ede-afc4-13bf8518332b",
   "metadata": {},
   "source": [
    "Now that we have retrieved our counts, we can calculate the percentage of patients that have a gene variant and use our resulting dataframe to create a heatmap."
   ]
  },
  {
   "cell_type": "code",
   "execution_count": 34,
   "id": "8f017823-4823-4144-b365-d115497c8f2b",
   "metadata": {},
   "outputs": [],
   "source": [
    "final = np.array(results).reshape(5, 10)\n",
    "final = np.transpose(final)\n",
    "\n",
    "full_final = np.array(full_counts).reshape(5, 10)\n",
    "full_final = np.transpose(full_final)\n",
    "\n",
    "full_results = final/full_final"
   ]
  },
  {
   "cell_type": "code",
   "execution_count": 35,
   "id": "8137bced-c8ff-4a92-b8aa-380851349a74",
   "metadata": {},
   "outputs": [],
   "source": [
    "# For labelling purposes\n",
    "for_plotting = []\n",
    "for var in epilepsy_vars_subset:\n",
    "    for_plotting.append(var.split('\\\\')[-2])"
   ]
  },
  {
   "cell_type": "code",
   "execution_count": 36,
   "id": "a433d798-97ed-457a-9690-a1631ac7c529",
   "metadata": {},
   "outputs": [
    {
     "data": {
      "image/png": "[encoded data removed]",
      "text/plain": [
       "<Figure size 1008x576 with 2 Axes>"
      ]
     },
     "metadata": {
      "needs_background": "light"
     },
     "output_type": "display_data"
    }
   ],
   "source": [
    "ax = sns.heatmap(full_results, yticklabels = for_plotting, xticklabels=gene_list)\n",
    "ax.set_title(\"Percentage of patients with gene variants and epilepsy\")\n",
    "plt.show()"
   ]
  }
 ],
 "metadata": {
  "kernelspec": {
   "display_name": "Python 3",
   "language": "python",
   "name": "python3"
  },
  "language_info": {
   "codemirror_mode": {
    "name": "ipython",
    "version": 3
   },
   "file_extension": ".py",
   "mimetype": "text/x-python",
   "name": "python",
   "nbconvert_exporter": "python",
   "pygments_lexer": "ipython3",
   "version": "3.8.8"
  }
 },
 "nbformat": 4,
 "nbformat_minor": 5
}
