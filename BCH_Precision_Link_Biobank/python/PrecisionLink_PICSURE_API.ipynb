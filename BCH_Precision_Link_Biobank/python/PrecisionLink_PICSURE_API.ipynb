{
 "cells": [
  {
   "cell_type": "markdown",
   "id": "b0090eef-1940-4f12-bf1a-c7141c419d8d",
   "metadata": {},
   "source": [
    "# PIC-SURE API for PrecisionLink Biobank"
   ]
  },
  {
   "cell_type": "markdown",
   "id": "abe75163-095b-42a7-be73-d7de21f66067",
   "metadata": {},
   "source": [
    "The PrecisionLink Biobank is a Boston Children’s Hospital institutional resource that\n",
    "provides a centralized source of prospectively consented participants. To date, the\n",
    "Biobank has enrolled over 15,000 patients and families, who have contributed health\n",
    "data and biological samples for broad research use. Investigators are able to search the\n",
    "holdings of the Biobank using the [PrecisionLink Biobank Portal](http://biobank.childrens.harvard.edu/).\n",
    "\n",
    "The PrecisionLink Biobank Portal grants investigators access to genotype,\n",
    "biospecimen, and clinical data - including clinical notes - from one search tool.\n",
    "Furthermore, investigators are able to conduct multi-stage queries with any combination\n",
    "of data criteria.\n",
    "\n",
    "The Biobank is constantly growing through prospective enrollment of a broadly\n",
    "consented cohort of patients and families, who can be re-contacted for additional\n",
    "research opportunities."
   ]
  },
  {
   "cell_type": "markdown",
   "id": "99421590-1a87-4279-8a72-8b7b39419df9",
   "metadata": {},
   "source": [
    "## PIC-SURE python API\n",
    "### What is PIC-SURE?\n",
    "\n",
    "The Patient Information Commons Standard Unification of Research Elements (PIC-SURE) platform integrates clinical and genomic data from the PrecisionLink Biobank.\n",
    "\n",
    "Original data exposed through the PIC-SURE API encompasses a large heterogeneity of data organization underneath. PIC-SURE hides this complexity and exposes the different study datasets in a single tabular format. By simplifying the process of data extraction, it allows investigators to focus on downstream analysis and to facilitate reproducible science.\n",
    "\n",
    "More about PIC-SURE\n",
    "The API is available in two different programming languages, python and R, enabling investigators to query the databases the same way using either language.\n",
    "\n",
    "PIC-SURE is a larger project from which the R/python PIC-SURE API is only a brick. Among other things, PIC-SURE also offers a graphical user interface that allows researchers to explore variables across multiple studies, filter patients that match criteria, and create cohorts from this interactive exploration.\n",
    "\n",
    "The python API is actively developed by the Avillach Lab at Harvard Medical School.\n",
    "\n",
    "PIC-SURE API GitHub repo:\n",
    "\n",
    "https://github.com/hms-dbmi/Access-to-Data-using-PIC-SURE-API/tree/master\n"
   ]
  },
  {
   "cell_type": "markdown",
   "id": "307a0602-e01a-47ce-8668-e1c4ecd06f3c",
   "metadata": {},
   "source": [
    " -------   "
   ]
  },
  {
   "cell_type": "markdown",
   "id": "8e60cc31-af7f-44a9-ac51-d69ec7f6ec6f",
   "metadata": {},
   "source": [
    "# Getting your own user-specific security token"
   ]
  },
  {
   "cell_type": "markdown",
   "id": "b1a86994-8ca4-4112-a4f8-4e6f11d8c5da",
   "metadata": {},
   "source": [
    "**Before running this notebook, please be sure to review the \"Get your security token\" documentation, which exists in the BCH_Precision_Link [README.md file](https://github.com/hms-dbmi/Access-to-Data-using-PIC-SURE-API/tree/master). It explains about how to get a security token, which is mandatory to access the databases.**"
   ]
  },
  {
   "cell_type": "markdown",
   "id": "3054fb58-1132-4787-a668-aa5e166c7754",
   "metadata": {},
   "source": [
    "# Environment set-up"
   ]
  },
  {
   "cell_type": "markdown",
   "id": "ab6b5ccb-dd00-4919-8651-20d6a0b02944",
   "metadata": {},
   "source": [
    "### Pre-requisites\n",
    "- python 3.6 or later\n",
    "- pip python package manager, already available in most systems with a python interpreter installed ([pip installation instructions](https://pip.pypa.io/en/stable/installing/))"
   ]
  },
  {
   "cell_type": "markdown",
   "id": "58cb0684-02ae-40b9-8822-bc19fdd4f8c0",
   "metadata": {},
   "source": [
    "### Install Packages\n",
    "\n",
    "Install the following:\n",
    "- packages listed in the `requirements.txt` file (listed below, along with version numbers)\n",
    "- PIC-SURE API components (from Github)\n",
    "    - PIC-SURE Adapter \n",
    "    - PIC-SURE Client"
   ]
  },
  {
   "cell_type": "code",
   "execution_count": null,
   "id": "97f3fc80-a8ec-4e20-b26a-dd6a04ce219b",
   "metadata": {
    "tags": []
   },
   "outputs": [],
   "source": [
    "!cat requirements.txt"
   ]
  },
  {
   "cell_type": "code",
   "execution_count": null,
   "id": "1c3cbb6d-731a-4de8-abaa-09d502a95682",
   "metadata": {
    "tags": []
   },
   "outputs": [],
   "source": [
    "import sys\n",
    "!{sys.executable} -m pip install -r requirements.txt"
   ]
  },
  {
   "cell_type": "code",
   "execution_count": null,
   "id": "8d5564a2-6775-490d-b02f-a9bb5a0a1e6e",
   "metadata": {
    "tags": []
   },
   "outputs": [],
   "source": [
    "!{sys.executable} -m pip install --upgrade --force-reinstall git+https://github.com/hms-dbmi/pic-sure-python-adapter-hpds.git\n",
    "!{sys.executable} -m pip install --upgrade --force-reinstall git+https://github.com/hms-dbmi/pic-sure-python-client.git"
   ]
  },
  {
   "cell_type": "markdown",
   "id": "5461b23c-eb8f-4740-911b-4f3810335339",
   "metadata": {},
   "source": [
    "Import all the external dependencies"
   ]
  },
  {
   "cell_type": "code",
   "execution_count": null,
   "id": "3f991a5a-3706-4a98-b894-f064738249fc",
   "metadata": {},
   "outputs": [],
   "source": [
    "import json\n",
    "from pprint import pprint\n",
    "\n",
    "import pandas as pd\n",
    "import numpy as np \n",
    "import matplotlib.pyplot as plt\n",
    "from scipy import stats\n",
    "\n",
    "import PicSureHpdsLib\n",
    "import PicSureClient\n",
    "\n",
    "from python_lib.utils import get_multiIndex_variablesDict, joining_variablesDict_onCol"
   ]
  },
  {
   "cell_type": "markdown",
   "id": "0a628c7d-e86a-4ab7-bff6-a5659d216918",
   "metadata": {},
   "source": [
    "Set the display parameter for tables and plots"
   ]
  },
  {
   "cell_type": "code",
   "execution_count": null,
   "id": "346c8f5e-9a8b-4655-a061-055964615cc3",
   "metadata": {},
   "outputs": [],
   "source": [
    "# Pandas DataFrame display options\n",
    "pd.set_option(\"max.rows\", 100)\n",
    "\n",
    "# Matplotlib display parameters\n",
    "plt.rcParams[\"figure.figsize\"] = (14,8)\n",
    "font = {'weight' : 'bold',\n",
    "        'size'   : 12}\n",
    "plt.rc('font', **font)"
   ]
  },
  {
   "cell_type": "markdown",
   "id": "30c2acc6-a25c-4248-8657-61362530d531",
   "metadata": {},
   "source": [
    "## Connecting to a PIC-SURE resource"
   ]
  },
  {
   "cell_type": "markdown",
   "id": "81f0b91c-7f32-47e2-a7e5-d0a7e475a7e7",
   "metadata": {},
   "source": [
    "The following is required to get access to data through the PIC-SURE API: \n",
    "- a network URL\n",
    "- a resource id, and \n",
    "- a user-specific security token."
   ]
  },
  {
   "cell_type": "markdown",
   "id": "d83f9c1d-6c40-41cb-9433-22a3b8db73fd",
   "metadata": {},
   "source": [
    "If you have not already retrieved your user-specific token, please refer to the \"Get your security token\" section of the [README.md](https://github.com/hms-dbmi/Access-to-Data-using-PIC-SURE-API/tree/master/NHLBI_BioData_Catalyst#get-your-security-token) file."
   ]
  },
  {
   "cell_type": "code",
   "execution_count": null,
   "id": "41011cc4-90ed-41e7-a614-2a0479e1d819",
   "metadata": {},
   "outputs": [],
   "source": [
    "PICSURE_network_URL = \"https://precisionlink-biobank4discovery.childrens.harvard.edu/picsure/\"\n",
    "resource_id = \"6aa47730-3288-4c45-bfa1-5a8730666016\"\n",
    "token_file = \"token.txt\""
   ]
  },
  {
   "cell_type": "code",
   "execution_count": null,
   "id": "f9cdf3db-7656-4348-b506-b8d57415978c",
   "metadata": {},
   "outputs": [],
   "source": [
    "with open(token_file, \"r\") as f:\n",
    "    my_token = f.read()"
   ]
  },
  {
   "cell_type": "code",
   "execution_count": null,
   "id": "79bfd042-ef07-4e5d-a51b-16417cc082ab",
   "metadata": {},
   "outputs": [],
   "source": [
    "client = PicSureClient.Client()\n",
    "connection = client.connect(PICSURE_network_URL, my_token, True)\n",
    "adapter = PicSureHpdsLib.Adapter(connection)\n",
    "resource = adapter.useResource(resource_id)"
   ]
  },
  {
   "cell_type": "markdown",
   "id": "1c7ec475-ad52-4163-9a43-e1ec18f3bbad",
   "metadata": {},
   "source": [
    "Two objects are created here: a `connection` and a `resource` object.\n",
    "\n",
    "Since will only be using a single resource, **the `resource` object is actually the only one we will need to proceed with data analysis hereafter**. \n",
    "\n",
    "It is connected to the specific data source ID we specified and enables us to query and retrieve data from this database."
   ]
  },
  {
   "cell_type": "markdown",
   "id": "d0261ee9-aaf1-4789-adf0-2c326bc4d184",
   "metadata": {},
   "source": [
    "## Getting help with the PIC-SURE API"
   ]
  },
  {
   "cell_type": "markdown",
   "id": "5a5b4b0d-8850-4e06-8763-097ddd20e1b0",
   "metadata": {},
   "source": [
    "Each object exposed by the PicSureHpds library has a `help()` method. Calling it without parameters will print out  information about functionalities of this object."
   ]
  },
  {
   "cell_type": "code",
   "execution_count": null,
   "id": "211fe9be-e810-4542-8193-fb23ca9ea329",
   "metadata": {},
   "outputs": [],
   "source": [
    "resource.help()"
   ]
  },
  {
   "cell_type": "markdown",
   "id": "d8187e3e-74d3-4b50-afac-c8fe76a1acd6",
   "metadata": {},
   "source": [
    "For instance, this output tells us that this `resource` object has 3 methods, and it gives a quick definition of those methods. "
   ]
  },
  {
   "cell_type": "markdown",
   "id": "6453f971-77eb-4e20-901c-191a5624d162",
   "metadata": {},
   "source": [
    "## Using the *variables dictionary*"
   ]
  },
  {
   "cell_type": "markdown",
   "id": "dd60678d-d133-49f0-87ff-f69d6ce5ff87",
   "metadata": {},
   "source": [
    "Once a connection to the desired resource has been established, we first need to understand which variables are available in the database. To this end, we will use the `dictionary` method of the `resource` object."
   ]
  },
  {
   "cell_type": "markdown",
   "id": "aa55ec51-ab34-4baf-b9f1-3d990cdd626f",
   "metadata": {},
   "source": [
    "A `dictionary` instance enables us to retrieve matching records by searching for a specific term, or to retrieve information about all the available variables, using the `find()` method. For instance, looking for variables containing the term `Calcium` in their names is done this way: "
   ]
  },
  {
   "cell_type": "code",
   "execution_count": null,
   "id": "4abb9781-38b9-4541-9e12-63800cb76b52",
   "metadata": {},
   "outputs": [],
   "source": [
    "dictionary = resource.dictionary()\n",
    "dictionary_search = dictionary.find(\"Calcium\")"
   ]
  },
  {
   "cell_type": "markdown",
   "id": "30d4356f-991e-4571-91c6-5af96a36fdef",
   "metadata": {},
   "source": [
    "Note: Using the `dictionary.find()` function without arguments will return every entry, as shown in the help documentation.\n",
    "We included the term \"Calcium\" as we are only interested in entries related to calcium.\n",
    "\n",
    "Subsequently, objects created by the `dictionary.find` method expose the search results via 4 different methods: `.count()`, `.keys()`, `.entries()`, and `.DataFrame()`."
   ]
  },
  {
   "cell_type": "code",
   "execution_count": null,
   "id": "345078a3-5deb-441e-ba25-ef383f722509",
   "metadata": {
    "tags": []
   },
   "outputs": [],
   "source": [
    "pprint({\"Count\": dictionary_search.count(), \n",
    "        \"Keys\": dictionary_search.keys()[0:5],\n",
    "        \"Entries\": dictionary_search.entries()[0:5]})"
   ]
  },
  {
   "cell_type": "markdown",
   "id": "588dfd18-8679-4c27-ab09-5f2c84f3cd57",
   "metadata": {},
   "source": [
    "**The `.DataFrame()` method enables us to get the result of the dictionary search in a pandas DataFrame format. This way, it allows us to:** \n",
    "\n",
    "\n",
    "* Use the various information exposed in the dictionary (patient count, variable type ...) as criteria for variable selection.\n",
    "* Use the row names of the DataFrame to get the actual variable names to be used in the query, as shown below.\n",
    "\n",
    "Variable names aren't very pratical to use right away for two reasons:\n",
    "1. Very long\n",
    "2. Presence of backslashes that prevent from copy-pasting. \n",
    "\n",
    "However, retrieving the dictionary search result in the form of a dataframe can help access the variable names."
   ]
  },
  {
   "cell_type": "code",
   "execution_count": null,
   "id": "b9b3da72-f0ae-4591-a0d7-d95919db91dd",
   "metadata": {},
   "outputs": [],
   "source": [
    "dictionary_search.DataFrame().head()"
   ]
  },
  {
   "cell_type": "markdown",
   "id": "47edcd3d-0d0a-4743-b64b-ad90a3c3b57b",
   "metadata": {},
   "source": [
    "The dictionary currently returned by the API provides information about the variables, such as:\n",
    "- observationCount: number of entries with non-null value\n",
    "- categorical: type of the variables, True if strings, False if numerical\n",
    "- min/max: only provided for numerical variables\n",
    "- HpdsDataType: 'phenotypes' or 'genotypes'. Currently, the API only expsoses'phenotypes' variables"
   ]
  },
  {
   "cell_type": "markdown",
   "id": "b99a6d87-14ab-4223-a6c0-972115805bd1",
   "metadata": {},
   "source": [
    "## Querying and retrieving data: Epilepsy and *GRIN2A*"
   ]
  },
  {
   "cell_type": "markdown",
   "id": "aa32234a-dec0-4d64-bc98-3946f24ad59b",
   "metadata": {},
   "source": [
    "The second cornerstone of the API is the `query` object. It is how we retrieve data from the resource."
   ]
  },
  {
   "cell_type": "markdown",
   "id": "50934b27-d3d4-4a4d-9d47-b68a55098ce4",
   "metadata": {},
   "source": [
    "First, we need to create a query object."
   ]
  },
  {
   "cell_type": "code",
   "execution_count": null,
   "id": "f7d92937-56b3-4ccf-ba7d-4de30a81c782",
   "metadata": {},
   "outputs": [],
   "source": [
    "my_query = resource.query()"
   ]
  },
  {
   "cell_type": "markdown",
   "id": "3e7694a9-90a0-4a83-b1c3-73bb83973a1b",
   "metadata": {},
   "source": [
    "The query object has several methods that enable to build a query.\n",
    "\n",
    "| Method | Arguments / Input | Output|\n",
    "|--------|-------------------|-------|\n",
    "| query.select.add() | variable names (string) or list of strings | all variables included in the list (no record subsetting)|\n",
    "| query.require.add() | variable names (string) or list of strings | all variables; only records that do not contain null values for input variables |\n",
    "| query.anyof.add() | variable names (string) or list of strings | all variables; only records that contain at least one non-null value for input variables |\n",
    "| query.filter.add() | variable name and additional filtering values | input variable; only records that match filter criteria |\n",
    "\n",
    "All 4 methods can be combined when building a query. The record eventually returned by the query have to meet all the different specified filters."
   ]
  },
  {
   "cell_type": "markdown",
   "id": "d0bc53e0-604f-4ffc-beae-ad70e2b77eb3",
   "metadata": {},
   "source": [
    "### Building the query\n",
    "In the following example, we are going to build a query to return data the counts of patients who:\n",
    "- had epilepsy and recurrent seizures\n",
    "- had data available for the *GRIN2A* gene\n",
    "- had a *GRIN2A* variant of high severity\n",
    "- had a novel *GRIN2A* variant"
   ]
  },
  {
   "cell_type": "markdown",
   "id": "2d75e57b-1191-4b5d-9987-26db811d19e1",
   "metadata": {},
   "source": [
    "#### Add phenotypic variable: Epilepsy\n",
    "\n",
    "First, let's review the possible variable names with the term \"epilepsy\"."
   ]
  },
  {
   "cell_type": "code",
   "execution_count": null,
   "id": "ae3d0c4e-a50a-4aa0-bbfd-1f58032bf509",
   "metadata": {},
   "outputs": [],
   "source": [
    "epilepsy_search = dictionary.find(\"epilepsy\").DataFrame()\n",
    "epilepsy_multiindex = get_multiIndex_variablesDict(epilepsy_search)\n",
    "epilepsy_multiindex.head()"
   ]
  },
  {
   "cell_type": "code",
   "execution_count": null,
   "id": "5f2b9679-4ab2-4405-8a2c-84c1ea0fa565",
   "metadata": {},
   "outputs": [],
   "source": []
  }
 ],
 "metadata": {
  "kernelspec": {
   "display_name": "Python 3",
   "language": "python",
   "name": "python3"
  },
  "language_info": {
   "codemirror_mode": {
    "name": "ipython",
    "version": 3
   },
   "file_extension": ".py",
   "mimetype": "text/x-python",
   "name": "python",
   "nbconvert_exporter": "python",
   "pygments_lexer": "ipython3",
   "version": "3.8.8"
  }
 },
 "nbformat": 4,
 "nbformat_minor": 5
}
